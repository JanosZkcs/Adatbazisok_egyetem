{
    "metadata": {
        "kernelspec": {
            "name": "SQL",
            "display_name": "SQL",
            "language": "sql"
        },
        "language_info": {
            "name": "sql",
            "version": ""
        },
        "extensions": {
            "azuredatastudio": {
                "version": 1,
                "views": []
            }
        }
    },
    "nbformat_minor": 2,
    "nbformat": 4,
    "cells": [
        {
            "cell_type": "markdown",
            "source": [
                "1. <span style=\"color:rgb(36, 41, 47);font-family:-apple-system, BlinkMacSystemFont, &quot;Segoe UI&quot;, Helvetica, Arial, sans-serif, &quot;Apple Color Emoji&quot;, &quot;Segoe UI Emoji&quot;;font-size:16px;\">Készítsünk lekérdezést, amely listázza, hogy mely napokon hány db kölcsönzés történt!</span>\n",
                "\n",
                "<span style=\"font-size: 16px;\">a.&nbsp;</span> Az oszlopok neve legyen 'Dátum' és 'Kölcsönzések száma'  \n",
                "b. A listát rendezzük a kölcsönzés dátuma szerint csökkenő sorrendbe!"
            ],
            "metadata": {
                "azdata_cell_guid": "77f2d5b3-38e9-41cc-893f-f5afd02b97ef"
            },
            "attachments": {}
        },
        {
            "cell_type": "code",
            "source": [
                "SELECT  ki_datum,\r\n",
                "        COUNT(*) AS 'kölcsönzések száma'\r\n",
                "FROM kolcsonzesek\r\n",
                "GROUP BY ki_datum"
            ],
            "metadata": {
                "azdata_cell_guid": "bd3cef1a-4e6e-4ece-9dc3-aaa9d2b5d66d",
                "language": "sql"
            },
            "outputs": [
                {
                    "output_type": "display_data",
                    "data": {
                        "text/html": "(3 rows affected)"
                    },
                    "metadata": {}
                },
                {
                    "output_type": "display_data",
                    "data": {
                        "text/html": "Total execution time: 00:00:00.010"
                    },
                    "metadata": {}
                },
                {
                    "output_type": "execute_result",
                    "execution_count": 6,
                    "data": {
                        "application/vnd.dataresource+json": {
                            "schema": {
                                "fields": [
                                    {
                                        "name": "ki_datum"
                                    },
                                    {
                                        "name": "kölcsönzések száma"
                                    }
                                ]
                            },
                            "data": [
                                {
                                    "ki_datum": "2003-12-11",
                                    "kölcsönzések száma": "3"
                                },
                                {
                                    "ki_datum": "2006-10-01",
                                    "kölcsönzések száma": "1"
                                },
                                {
                                    "ki_datum": "2006-10-02",
                                    "kölcsönzések száma": "1"
                                }
                            ]
                        },
                        "text/html": "<table><tr><th>ki_datum</th><th>kölcsönzések száma</th></tr><tr><td>2003-12-11</td><td>3</td></tr><tr><td>2006-10-01</td><td>1</td></tr><tr><td>2006-10-02</td><td>1</td></tr></table>"
                    },
                    "metadata": {}
                }
            ],
            "execution_count": 6
        },
        {
            "cell_type": "markdown",
            "source": [
                "2. <span style=\"font-weight: 600; color: rgb(36, 41, 47); font-family: -apple-system, BlinkMacSystemFont, &quot;Segoe UI&quot;, Helvetica, Arial, sans-serif, &quot;Apple Color Emoji&quot;, &quot;Segoe UI Emoji&quot;; font-size: 16px;\">Mennyi a dvd-k átlagos ára stílusonkénti bontásban?</span>\n",
                "\n",
                "1. Csak azokat a stílusokat vegyük figyelembe, ahol az átlagos ár 4500 Ft feletti!\n",
                "2. Az oszlopokat nevezzük el értelemszerűen!\n",
                "3. A listát rendezzük átlagos ár szerint csökkenő sorrendbe!"
            ],
            "metadata": {
                "azdata_cell_guid": "88f5b4bb-f4c1-4bad-a0c7-b2592687b422"
            },
            "attachments": {}
        },
        {
            "cell_type": "code",
            "source": [
                "SELECT  stilus,\r\n",
                "        AVG(nettoar) AS 'Átlagos_ár'\r\n",
                "FROM dvd\r\n",
                "--(WHERE: sorokra;HAVING -- csoportokra feltétel)\r\n",
                "GROUP BY stilus\r\n",
                "HAVING AVG(nettoar) > 4500\r\n",
                "ORDER BY AVG(nettoar) DESC"
            ],
            "metadata": {
                "azdata_cell_guid": "e9de5726-f036-4fb9-8c33-a873955ed886",
                "language": "sql"
            },
            "outputs": [
                {
                    "output_type": "display_data",
                    "data": {
                        "text/html": "(30 rows affected)"
                    },
                    "metadata": {}
                },
                {
                    "output_type": "display_data",
                    "data": {
                        "text/html": "Total execution time: 00:00:00.027"
                    },
                    "metadata": {}
                },
                {
                    "output_type": "execute_result",
                    "execution_count": 10,
                    "data": {
                        "application/vnd.dataresource+json": {
                            "schema": {
                                "fields": [
                                    {
                                        "name": "stilus"
                                    },
                                    {
                                        "name": "Átlagos_ár"
                                    }
                                ]
                            },
                            "data": [
                                {
                                    "stilus": "ásványtan",
                                    "Átlagos_ár": "5624"
                                },
                                {
                                    "stilus": "játék (rodeó)",
                                    "Átlagos_ár": "5591"
                                },
                                {
                                    "stilus": "humor",
                                    "Átlagos_ár": "5573"
                                },
                                {
                                    "stilus": "környezetvédelem",
                                    "Átlagos_ár": "5508"
                                },
                                {
                                    "stilus": "kresz",
                                    "Átlagos_ár": "5476"
                                },
                                {
                                    "stilus": "játék (jégkorong)",
                                    "Átlagos_ár": "5242"
                                },
                                {
                                    "stilus": "színház",
                                    "Átlagos_ár": "5158"
                                },
                                {
                                    "stilus": "múvészet",
                                    "Átlagos_ár": "5118"
                                },
                                {
                                    "stilus": "kémia",
                                    "Átlagos_ár": "5094"
                                },
                                {
                                    "stilus": "fordító program",
                                    "Átlagos_ár": "5036"
                                },
                                {
                                    "stilus": "kerttervező",
                                    "Átlagos_ár": "4951"
                                },
                                {
                                    "stilus": "művészet",
                                    "Átlagos_ár": "4939,25"
                                },
                                {
                                    "stilus": "festészet",
                                    "Átlagos_ár": "4901"
                                },
                                {
                                    "stilus": "zene",
                                    "Átlagos_ár": "4855,333333333333"
                                },
                                {
                                    "stilus": "játék",
                                    "Átlagos_ár": "4850,466666666666"
                                },
                                {
                                    "stilus": "játék (labdarúgás)",
                                    "Átlagos_ár": "4817,333333333333"
                                },
                                {
                                    "stilus": "állattan",
                                    "Átlagos_ár": "4783,666666666667"
                                },
                                {
                                    "stilus": "nyelvtan",
                                    "Átlagos_ár": "4770,666666666667"
                                },
                                {
                                    "stilus": "fizika",
                                    "Átlagos_ár": "4769"
                                },
                                {
                                    "stilus": "nyelvtanító",
                                    "Átlagos_ár": "4759,476190476191"
                                },
                                {
                                    "stilus": "csillagászat",
                                    "Átlagos_ár": "4733,571428571428"
                                },
                                {
                                    "stilus": "ismeretterjesztő",
                                    "Átlagos_ár": "4726,673913043478"
                                },
                                {
                                    "stilus": "irodalom, nyelv",
                                    "Átlagos_ár": "4704"
                                },
                                {
                                    "stilus": "gasztronómia",
                                    "Átlagos_ár": "4691"
                                },
                                {
                                    "stilus": "történelem",
                                    "Átlagos_ár": "4655,731707317073"
                                },
                                {
                                    "stilus": "szótár",
                                    "Átlagos_ár": "4624,428571428572"
                                },
                                {
                                    "stilus": "sport",
                                    "Átlagos_ár": "4607"
                                },
                                {
                                    "stilus": "földrajz",
                                    "Átlagos_ár": "4580,0625"
                                },
                                {
                                    "stilus": "matematika",
                                    "Átlagos_ár": "4520,777777777777"
                                },
                                {
                                    "stilus": "felvételi",
                                    "Átlagos_ár": "4501,333333333333"
                                }
                            ]
                        },
                        "text/html": "<table><tr><th>stilus</th><th>Átlagos_ár</th></tr><tr><td>ásványtan</td><td>5624</td></tr><tr><td>játék (rodeó)</td><td>5591</td></tr><tr><td>humor</td><td>5573</td></tr><tr><td>környezetvédelem</td><td>5508</td></tr><tr><td>kresz</td><td>5476</td></tr><tr><td>játék (jégkorong)</td><td>5242</td></tr><tr><td>színház</td><td>5158</td></tr><tr><td>múvészet</td><td>5118</td></tr><tr><td>kémia</td><td>5094</td></tr><tr><td>fordító program</td><td>5036</td></tr><tr><td>kerttervező</td><td>4951</td></tr><tr><td>művészet</td><td>4939,25</td></tr><tr><td>festészet</td><td>4901</td></tr><tr><td>zene</td><td>4855,333333333333</td></tr><tr><td>játék</td><td>4850,466666666666</td></tr><tr><td>játék (labdarúgás)</td><td>4817,333333333333</td></tr><tr><td>állattan</td><td>4783,666666666667</td></tr><tr><td>nyelvtan</td><td>4770,666666666667</td></tr><tr><td>fizika</td><td>4769</td></tr><tr><td>nyelvtanító</td><td>4759,476190476191</td></tr><tr><td>csillagászat</td><td>4733,571428571428</td></tr><tr><td>ismeretterjesztő</td><td>4726,673913043478</td></tr><tr><td>irodalom, nyelv</td><td>4704</td></tr><tr><td>gasztronómia</td><td>4691</td></tr><tr><td>történelem</td><td>4655,731707317073</td></tr><tr><td>szótár</td><td>4624,428571428572</td></tr><tr><td>sport</td><td>4607</td></tr><tr><td>földrajz</td><td>4580,0625</td></tr><tr><td>matematika</td><td>4520,777777777777</td></tr><tr><td>felvételi</td><td>4501,333333333333</td></tr></table>"
                    },
                    "metadata": {}
                }
            ],
            "execution_count": 10
        },
        {
            "cell_type": "markdown",
            "source": [
                "3. <span style=\"color:rgb(36, 41, 47);font-family:-apple-system, BlinkMacSystemFont, &quot;Segoe UI&quot;, Helvetica, Arial, sans-serif, &quot;Apple Color Emoji&quot;, &quot;Segoe UI Emoji&quot;;font-size:16px;\">Listázzuk nyelvenkénti, azon belül stílusonkénti bontásban, hogy mennyi a dvd-k legkisebb és legnagyobb ára!&nbsp;</span> \n",
                "\n",
                "<span style=\"font-size: 16px;\">a. Az oszlopok neve legyen 'Nyelv', 'Stílus', 'MinÁr' és 'MaxÁr'!<br>b.&nbsp;</span> A listából hagyjuk ki azokat a sorokat, ahol a nyelv vagy a stílus nincs megadva!  \n",
                "c. Szintén hagyjuk ki azokat a csoportokat, ahol a csoport elemszáma 3-nál kisebb!"
            ],
            "metadata": {
                "azdata_cell_guid": "9e7249de-1b59-43d8-84b1-26fa7d81fc5a"
            },
            "attachments": {}
        },
        {
            "cell_type": "code",
            "source": [
                "SELECT  lang AS 'Nyelv',\r\n",
                "        stilus AS 'Stílus',\r\n",
                "        MIN(nettoar) AS 'MinÁr',\r\n",
                "        MAX(nettoar) AS 'MaxÁr'\r\n",
                "FROM dvd\r\n",
                "WHERE lang IS NOT NULL\r\n",
                "GROUP BY lang, stilus"
            ],
            "metadata": {
                "azdata_cell_guid": "6405d3e8-a9b1-45d7-aa76-3b1e785ef6cc",
                "language": "sql"
            },
            "outputs": [
                {
                    "output_type": "display_data",
                    "data": {
                        "text/html": "(64 rows affected)"
                    },
                    "metadata": {}
                },
                {
                    "output_type": "display_data",
                    "data": {
                        "text/html": "Total execution time: 00:00:00.018"
                    },
                    "metadata": {}
                },
                {
                    "output_type": "execute_result",
                    "execution_count": 34,
                    "data": {
                        "application/vnd.dataresource+json": {
                            "schema": {
                                "fields": [
                                    {
                                        "name": "Nyelv"
                                    },
                                    {
                                        "name": "Stílus"
                                    },
                                    {
                                        "name": "MinÁr"
                                    },
                                    {
                                        "name": "MaxÁr"
                                    }
                                ]
                            },
                            "data": [
                                {
                                    "Nyelv": "1",
                                    "Stílus": "állattan",
                                    "MinÁr": "4153",
                                    "MaxÁr": "5235"
                                },
                                {
                                    "Nyelv": "1",
                                    "Stílus": "ásványtan",
                                    "MinÁr": "5624",
                                    "MaxÁr": "5624"
                                },
                                {
                                    "Nyelv": "1",
                                    "Stílus": "betűtípusok",
                                    "MinÁr": "3845",
                                    "MaxÁr": "3845"
                                },
                                {
                                    "Nyelv": "1",
                                    "Stílus": "biológia",
                                    "MinÁr": "3482",
                                    "MaxÁr": "5543"
                                },
                                {
                                    "Nyelv": "1",
                                    "Stílus": "csillagászat",
                                    "MinÁr": "3582",
                                    "MaxÁr": "5992"
                                },
                                {
                                    "Nyelv": "1",
                                    "Stílus": "felvételi",
                                    "MinÁr": "3215",
                                    "MaxÁr": "5955"
                                },
                                {
                                    "Nyelv": "2",
                                    "Stílus": "felvételi",
                                    "MinÁr": "3876",
                                    "MaxÁr": "3876"
                                },
                                {
                                    "Nyelv": "3",
                                    "Stílus": "felvételi",
                                    "MinÁr": "3102",
                                    "MaxÁr": "3102"
                                },
                                {
                                    "Nyelv": "1",
                                    "Stílus": "festészet",
                                    "MinÁr": "5408",
                                    "MaxÁr": "5408"
                                },
                                {
                                    "Nyelv": "2",
                                    "Stílus": "festészet",
                                    "MinÁr": "4394",
                                    "MaxÁr": "4394"
                                },
                                {
                                    "Nyelv": "1",
                                    "Stílus": "filmtörténet",
                                    "MinÁr": "3138",
                                    "MaxÁr": "4204"
                                },
                                {
                                    "Nyelv": "1",
                                    "Stílus": "fizika",
                                    "MinÁr": "3734",
                                    "MaxÁr": "5763"
                                },
                                {
                                    "Nyelv": "8",
                                    "Stílus": "fordító program",
                                    "MinÁr": "5036",
                                    "MaxÁr": "5036"
                                },
                                {
                                    "Nyelv": "1",
                                    "Stílus": "földrajz",
                                    "MinÁr": "3123",
                                    "MaxÁr": "6065"
                                },
                                {
                                    "Nyelv": "1",
                                    "Stílus": "gasztronómia",
                                    "MinÁr": "3258",
                                    "MaxÁr": "5706"
                                },
                                {
                                    "Nyelv": "1",
                                    "Stílus": "gépírás",
                                    "MinÁr": "3936",
                                    "MaxÁr": "3936"
                                },
                                {
                                    "Nyelv": "1",
                                    "Stílus": "hadtudomány",
                                    "MinÁr": "3515",
                                    "MaxÁr": "3515"
                                },
                                {
                                    "Nyelv": "1",
                                    "Stílus": "humor",
                                    "MinÁr": "5573",
                                    "MaxÁr": "5573"
                                },
                                {
                                    "Nyelv": "1",
                                    "Stílus": "irodalom",
                                    "MinÁr": "3391",
                                    "MaxÁr": "5654"
                                },
                                {
                                    "Nyelv": "1",
                                    "Stílus": "irodalom, nyelv",
                                    "MinÁr": "4704",
                                    "MaxÁr": "4704"
                                },
                                {
                                    "Nyelv": "1",
                                    "Stílus": "ismeretterjesztő",
                                    "MinÁr": "3256",
                                    "MaxÁr": "6072"
                                },
                                {
                                    "Nyelv": "2",
                                    "Stílus": "ismeretterjesztő",
                                    "MinÁr": "5334",
                                    "MaxÁr": "5900"
                                },
                                {
                                    "Nyelv": "1",
                                    "Stílus": "ismeretterjesztő + játék",
                                    "MinÁr": "3107",
                                    "MaxÁr": "3107"
                                },
                                {
                                    "Nyelv": "1",
                                    "Stílus": "játék",
                                    "MinÁr": "3110",
                                    "MaxÁr": "6078"
                                },
                                {
                                    "Nyelv": "2",
                                    "Stílus": "játék",
                                    "MinÁr": "3144",
                                    "MaxÁr": "6062"
                                },
                                {
                                    "Nyelv": "2",
                                    "Stílus": "játék - autós",
                                    "MinÁr": "3989",
                                    "MaxÁr": "3989"
                                },
                                {
                                    "Nyelv": "2",
                                    "Stílus": "játék (autóverseny)",
                                    "MinÁr": "3106",
                                    "MaxÁr": "5005"
                                },
                                {
                                    "Nyelv": "2",
                                    "Stílus": "játék (jégkorong)",
                                    "MinÁr": "5242",
                                    "MaxÁr": "5242"
                                },
                                {
                                    "Nyelv": "1",
                                    "Stílus": "játék (labdarúgás)",
                                    "MinÁr": "5522",
                                    "MaxÁr": "5522"
                                },
                                {
                                    "Nyelv": "2",
                                    "Stílus": "játék (labdarúgás)",
                                    "MinÁr": "3871",
                                    "MaxÁr": "5059"
                                },
                                {
                                    "Nyelv": "2",
                                    "Stílus": "játék (repülős)",
                                    "MinÁr": "4311",
                                    "MaxÁr": "4311"
                                },
                                {
                                    "Nyelv": "2",
                                    "Stílus": "játék (rodeó)",
                                    "MinÁr": "5591",
                                    "MaxÁr": "5591"
                                },
                                {
                                    "Nyelv": "2",
                                    "Stílus": "játék (történelmi)",
                                    "MinÁr": "3707",
                                    "MaxÁr": "3707"
                                },
                                {
                                    "Nyelv": "1",
                                    "Stílus": "játék, sakk",
                                    "MinÁr": "3644",
                                    "MaxÁr": "3644"
                                },
                                {
                                    "Nyelv": "1",
                                    "Stílus": "kémia",
                                    "MinÁr": "5094",
                                    "MaxÁr": "5094"
                                },
                                {
                                    "Nyelv": "2",
                                    "Stílus": "kerttervező",
                                    "MinÁr": "4951",
                                    "MaxÁr": "4951"
                                },
                                {
                                    "Nyelv": "1",
                                    "Stílus": "környezetvédelem",
                                    "MinÁr": "5508",
                                    "MaxÁr": "5508"
                                },
                                {
                                    "Nyelv": "1",
                                    "Stílus": "kresz",
                                    "MinÁr": "5476",
                                    "MaxÁr": "5476"
                                },
                                {
                                    "Nyelv": "2",
                                    "Stílus": "lakástervező",
                                    "MinÁr": "4287",
                                    "MaxÁr": "4287"
                                },
                                {
                                    "Nyelv": "1",
                                    "Stílus": "matematika",
                                    "MinÁr": "3105",
                                    "MaxÁr": "5995"
                                },
                                {
                                    "Nyelv": "1",
                                    "Stílus": "matematika, nyelvtan",
                                    "MinÁr": "4484",
                                    "MaxÁr": "4484"
                                },
                                {
                                    "Nyelv": "2",
                                    "Stílus": "múvészet",
                                    "MinÁr": "5118",
                                    "MaxÁr": "5118"
                                },
                                {
                                    "Nyelv": "1",
                                    "Stílus": "művészet",
                                    "MinÁr": "3490",
                                    "MaxÁr": "6098"
                                },
                                {
                                    "Nyelv": "1",
                                    "Stílus": "növénytan",
                                    "MinÁr": "4438",
                                    "MaxÁr": "4438"
                                },
                                {
                                    "Nyelv": "1",
                                    "Stílus": "nyelvtan",
                                    "MinÁr": "3688",
                                    "MaxÁr": "5845"
                                },
                                {
                                    "Nyelv": "2",
                                    "Stílus": "nyelvtanító",
                                    "MinÁr": "3115",
                                    "MaxÁr": "6068"
                                },
                                {
                                    "Nyelv": "3",
                                    "Stílus": "nyelvtanító",
                                    "MinÁr": "3313",
                                    "MaxÁr": "5990"
                                },
                                {
                                    "Nyelv": "4",
                                    "Stílus": "nyelvtanító",
                                    "MinÁr": "3419",
                                    "MaxÁr": "6082"
                                },
                                {
                                    "Nyelv": "5",
                                    "Stílus": "nyelvtanító",
                                    "MinÁr": "6009",
                                    "MaxÁr": "6009"
                                },
                                {
                                    "Nyelv": "6",
                                    "Stílus": "nyelvtanító",
                                    "MinÁr": "3775",
                                    "MaxÁr": "5882"
                                },
                                {
                                    "Nyelv": "7",
                                    "Stílus": "nyelvtanító",
                                    "MinÁr": "3770",
                                    "MaxÁr": "5619"
                                },
                                {
                                    "Nyelv": "2",
                                    "Stílus": "régészet",
                                    "MinÁr": "3773",
                                    "MaxÁr": "3773"
                                },
                                {
                                    "Nyelv": "1",
                                    "Stílus": "sport",
                                    "MinÁr": "4607",
                                    "MaxÁr": "4607"
                                },
                                {
                                    "Nyelv": "1",
                                    "Stílus": "számítástechnika",
                                    "MinÁr": "3277",
                                    "MaxÁr": "5260"
                                },
                                {
                                    "Nyelv": "1",
                                    "Stílus": "színház",
                                    "MinÁr": "5158",
                                    "MaxÁr": "5158"
                                },
                                {
                                    "Nyelv": "2",
                                    "Stílus": "szótár",
                                    "MinÁr": "3509",
                                    "MaxÁr": "5638"
                                },
                                {
                                    "Nyelv": "4",
                                    "Stílus": "szótár",
                                    "MinÁr": "4107",
                                    "MaxÁr": "4107"
                                },
                                {
                                    "Nyelv": "5",
                                    "Stílus": "szótár",
                                    "MinÁr": "4666",
                                    "MaxÁr": "4666"
                                },
                                {
                                    "Nyelv": "6",
                                    "Stílus": "szótár",
                                    "MinÁr": "5734",
                                    "MaxÁr": "5734"
                                },
                                {
                                    "Nyelv": "7",
                                    "Stílus": "szótár",
                                    "MinÁr": "3566",
                                    "MaxÁr": "3566"
                                },
                                {
                                    "Nyelv": "1",
                                    "Stílus": "történelem",
                                    "MinÁr": "3122",
                                    "MaxÁr": "6084"
                                },
                                {
                                    "Nyelv": "2",
                                    "Stílus": "történelem",
                                    "MinÁr": "5041",
                                    "MaxÁr": "5041"
                                },
                                {
                                    "Nyelv": "1",
                                    "Stílus": "zene",
                                    "MinÁr": "3391",
                                    "MaxÁr": "5730"
                                },
                                {
                                    "Nyelv": "2",
                                    "Stílus": "zene",
                                    "MinÁr": "5336",
                                    "MaxÁr": "5336"
                                }
                            ]
                        },
                        "text/html": "<table><tr><th>Nyelv</th><th>Stílus</th><th>MinÁr</th><th>MaxÁr</th></tr><tr><td>1</td><td>állattan</td><td>4153</td><td>5235</td></tr><tr><td>1</td><td>ásványtan</td><td>5624</td><td>5624</td></tr><tr><td>1</td><td>betűtípusok</td><td>3845</td><td>3845</td></tr><tr><td>1</td><td>biológia</td><td>3482</td><td>5543</td></tr><tr><td>1</td><td>csillagászat</td><td>3582</td><td>5992</td></tr><tr><td>1</td><td>felvételi</td><td>3215</td><td>5955</td></tr><tr><td>2</td><td>felvételi</td><td>3876</td><td>3876</td></tr><tr><td>3</td><td>felvételi</td><td>3102</td><td>3102</td></tr><tr><td>1</td><td>festészet</td><td>5408</td><td>5408</td></tr><tr><td>2</td><td>festészet</td><td>4394</td><td>4394</td></tr><tr><td>1</td><td>filmtörténet</td><td>3138</td><td>4204</td></tr><tr><td>1</td><td>fizika</td><td>3734</td><td>5763</td></tr><tr><td>8</td><td>fordító program</td><td>5036</td><td>5036</td></tr><tr><td>1</td><td>földrajz</td><td>3123</td><td>6065</td></tr><tr><td>1</td><td>gasztronómia</td><td>3258</td><td>5706</td></tr><tr><td>1</td><td>gépírás</td><td>3936</td><td>3936</td></tr><tr><td>1</td><td>hadtudomány</td><td>3515</td><td>3515</td></tr><tr><td>1</td><td>humor</td><td>5573</td><td>5573</td></tr><tr><td>1</td><td>irodalom</td><td>3391</td><td>5654</td></tr><tr><td>1</td><td>irodalom, nyelv</td><td>4704</td><td>4704</td></tr><tr><td>1</td><td>ismeretterjesztő</td><td>3256</td><td>6072</td></tr><tr><td>2</td><td>ismeretterjesztő</td><td>5334</td><td>5900</td></tr><tr><td>1</td><td>ismeretterjesztő + játék</td><td>3107</td><td>3107</td></tr><tr><td>1</td><td>játék</td><td>3110</td><td>6078</td></tr><tr><td>2</td><td>játék</td><td>3144</td><td>6062</td></tr><tr><td>2</td><td>játék - autós</td><td>3989</td><td>3989</td></tr><tr><td>2</td><td>játék (autóverseny)</td><td>3106</td><td>5005</td></tr><tr><td>2</td><td>játék (jégkorong)</td><td>5242</td><td>5242</td></tr><tr><td>1</td><td>játék (labdarúgás)</td><td>5522</td><td>5522</td></tr><tr><td>2</td><td>játék (labdarúgás)</td><td>3871</td><td>5059</td></tr><tr><td>2</td><td>játék (repülős)</td><td>4311</td><td>4311</td></tr><tr><td>2</td><td>játék (rodeó)</td><td>5591</td><td>5591</td></tr><tr><td>2</td><td>játék (történelmi)</td><td>3707</td><td>3707</td></tr><tr><td>1</td><td>játék, sakk</td><td>3644</td><td>3644</td></tr><tr><td>1</td><td>kémia</td><td>5094</td><td>5094</td></tr><tr><td>2</td><td>kerttervező</td><td>4951</td><td>4951</td></tr><tr><td>1</td><td>környezetvédelem</td><td>5508</td><td>5508</td></tr><tr><td>1</td><td>kresz</td><td>5476</td><td>5476</td></tr><tr><td>2</td><td>lakástervező</td><td>4287</td><td>4287</td></tr><tr><td>1</td><td>matematika</td><td>3105</td><td>5995</td></tr><tr><td>1</td><td>matematika, nyelvtan</td><td>4484</td><td>4484</td></tr><tr><td>2</td><td>múvészet</td><td>5118</td><td>5118</td></tr><tr><td>1</td><td>művészet</td><td>3490</td><td>6098</td></tr><tr><td>1</td><td>növénytan</td><td>4438</td><td>4438</td></tr><tr><td>1</td><td>nyelvtan</td><td>3688</td><td>5845</td></tr><tr><td>2</td><td>nyelvtanító</td><td>3115</td><td>6068</td></tr><tr><td>3</td><td>nyelvtanító</td><td>3313</td><td>5990</td></tr><tr><td>4</td><td>nyelvtanító</td><td>3419</td><td>6082</td></tr><tr><td>5</td><td>nyelvtanító</td><td>6009</td><td>6009</td></tr><tr><td>6</td><td>nyelvtanító</td><td>3775</td><td>5882</td></tr><tr><td>7</td><td>nyelvtanító</td><td>3770</td><td>5619</td></tr><tr><td>2</td><td>régészet</td><td>3773</td><td>3773</td></tr><tr><td>1</td><td>sport</td><td>4607</td><td>4607</td></tr><tr><td>1</td><td>számítástechnika</td><td>3277</td><td>5260</td></tr><tr><td>1</td><td>színház</td><td>5158</td><td>5158</td></tr><tr><td>2</td><td>szótár</td><td>3509</td><td>5638</td></tr><tr><td>4</td><td>szótár</td><td>4107</td><td>4107</td></tr><tr><td>5</td><td>szótár</td><td>4666</td><td>4666</td></tr><tr><td>6</td><td>szótár</td><td>5734</td><td>5734</td></tr><tr><td>7</td><td>szótár</td><td>3566</td><td>3566</td></tr><tr><td>1</td><td>történelem</td><td>3122</td><td>6084</td></tr><tr><td>2</td><td>történelem</td><td>5041</td><td>5041</td></tr><tr><td>1</td><td>zene</td><td>3391</td><td>5730</td></tr><tr><td>2</td><td>zene</td><td>5336</td><td>5336</td></tr></table>"
                    },
                    "metadata": {}
                }
            ],
            "execution_count": 34
        },
        {
            "cell_type": "markdown",
            "source": [
                "4. <span style=\"color: rgb(36, 41, 47); font-family: -apple-system, BlinkMacSystemFont, &quot;Segoe UI&quot;, Helvetica, Arial, sans-serif, &quot;Apple Color Emoji&quot;, &quot;Segoe UI Emoji&quot;; font-size: 16px;\">Készítsünk listát, amely a csoportokat hoz létre aszerint, hogy a mai naptól számítva hány nap telt el a kölcsönzés kezdete óta. A lista jelenítse meg csoportonkénti bontásban a kikölcsönzött dvd-k számát!</span>\n",
                "\n",
                "1. Az oszlopokat nevezzük el értelemszerűen!\n",
                "2. A listát rendezzük az eltelt napok száma szerint csökkenő sorrendbe!"
            ],
            "metadata": {
                "azdata_cell_guid": "6478e469-c094-472c-a772-ccd5b5c61516"
            },
            "attachments": {}
        },
        {
            "cell_type": "code",
            "source": [
                "SELECT  DATEDIFF(day, ki_datum,GETDATE()) as \"Kölcsönzéstől számított napok\",\r\n",
                "        COUNT(ID) as \"Kölcsönzések (db)\"\r\n",
                "FROM kolcsonzesek\r\n",
                "GROUP BY ki_datum\r\n",
                "ORDER BY DATEDIFF(day, ki_datum,GETDATE()) DESC"
            ],
            "metadata": {
                "azdata_cell_guid": "02031ea2-3838-458d-839c-228e3b362b61",
                "language": "sql"
            },
            "outputs": [
                {
                    "output_type": "display_data",
                    "data": {
                        "text/html": "(3 rows affected)"
                    },
                    "metadata": {}
                },
                {
                    "output_type": "display_data",
                    "data": {
                        "text/html": "Total execution time: 00:00:00.019"
                    },
                    "metadata": {}
                },
                {
                    "output_type": "execute_result",
                    "execution_count": 8,
                    "data": {
                        "application/vnd.dataresource+json": {
                            "schema": {
                                "fields": [
                                    {
                                        "name": "Kölcsönzéstől számított napok"
                                    },
                                    {
                                        "name": "Kölcsönzések (db)"
                                    }
                                ]
                            },
                            "data": [
                                {
                                    "Kölcsönzéstől számított napok": "7383",
                                    "Kölcsönzések (db)": "3"
                                },
                                {
                                    "Kölcsönzéstől számított napok": "6358",
                                    "Kölcsönzések (db)": "1"
                                },
                                {
                                    "Kölcsönzéstől számított napok": "6357",
                                    "Kölcsönzések (db)": "1"
                                }
                            ]
                        },
                        "text/html": "<table><tr><th>Kölcsönzéstől számított napok</th><th>Kölcsönzések (db)</th></tr><tr><td>7383</td><td>3</td></tr><tr><td>6358</td><td>1</td></tr><tr><td>6357</td><td>1</td></tr></table>"
                    },
                    "metadata": {}
                }
            ],
            "execution_count": 8
        },
        {
            "cell_type": "markdown",
            "source": [
                "5. <span style=\"color: rgb(36, 41, 47); font-family: -apple-system, BlinkMacSystemFont, &quot;Segoe UI&quot;, Helvetica, Arial, sans-serif, &quot;Apple Color Emoji&quot;, &quot;Segoe UI Emoji&quot;; font-size: 16px;\">A kölcsönző tulajdonosa elhatározza, hogy ezentúl kerekebb árakat alkalmaz. Ezért minden dvd árát 1000 Ft-ra kerekíti. Készítsünk lekérdezést, amely megmutatja, hogy melyik 1000 Ft-ra kerekített ár szerint, azon belül stílus szerint hány db dvd összesen raktáron! **</span>\n",
                "\n",
                "1. Csak olyan csoportokat listázzunk, ahol a raktárkészlet legalább 30!\n",
                "2. A listát rendezzük kerekített ár szerint, azon belül raktárkészlet szerint növekvő sorrendbe!"
            ],
            "metadata": {
                "azdata_cell_guid": "9edbbaf9-c276-4898-9a01-e1b2993c089f"
            },
            "attachments": {}
        },
        {
            "cell_type": "code",
            "source": [
                "SELECT  ROUND(nettoar,-3) as 'kerekített ár',\r\n",
                "        stilus,\r\n",
                "        SUM([raktár készlet]) as 'készlet'\r\n",
                "FROM dvd\r\n",
                "WHERE stilus IS NOT NULL\r\n",
                "GROUP BY ROUND(nettoar,-3), stilus\r\n",
                "HAVING SUM([raktár készlet]) >= 30\r\n",
                "ORDER BY ROUND(nettoar,-3), SUM([raktár készlet]) --növekvő alapértelmezetten"
            ],
            "metadata": {
                "azdata_cell_guid": "5ad5fdcb-2878-4111-861a-833bcd50e935",
                "language": "sql"
            },
            "outputs": [
                {
                    "output_type": "display_data",
                    "data": {
                        "text/html": "(27 rows affected)"
                    },
                    "metadata": {}
                },
                {
                    "output_type": "display_data",
                    "data": {
                        "text/html": "Total execution time: 00:00:00.029"
                    },
                    "metadata": {}
                },
                {
                    "output_type": "execute_result",
                    "execution_count": 29,
                    "data": {
                        "application/vnd.dataresource+json": {
                            "schema": {
                                "fields": [
                                    {
                                        "name": "kerekített ár"
                                    },
                                    {
                                        "name": "stilus"
                                    },
                                    {
                                        "name": "készlet"
                                    }
                                ]
                            },
                            "data": [
                                {
                                    "kerekített ár": "3000",
                                    "stilus": "földrajz",
                                    "készlet": "30"
                                },
                                {
                                    "kerekített ár": "3000",
                                    "stilus": "nyelvtanító",
                                    "készlet": "30"
                                },
                                {
                                    "kerekített ár": "3000",
                                    "stilus": "játék",
                                    "készlet": "40"
                                },
                                {
                                    "kerekített ár": "3000",
                                    "stilus": "történelem",
                                    "készlet": "40"
                                },
                                {
                                    "kerekített ár": "3000",
                                    "stilus": "ismeretterjesztő",
                                    "készlet": "70"
                                },
                                {
                                    "kerekített ár": "4000",
                                    "stilus": "szótár",
                                    "készlet": "30"
                                },
                                {
                                    "kerekített ár": "4000",
                                    "stilus": "csillagászat",
                                    "készlet": "40"
                                },
                                {
                                    "kerekített ár": "4000",
                                    "stilus": "földrajz",
                                    "készlet": "50"
                                },
                                {
                                    "kerekített ár": "4000",
                                    "stilus": "irodalom",
                                    "készlet": "90"
                                },
                                {
                                    "kerekített ár": "4000",
                                    "stilus": "ismeretterjesztő",
                                    "készlet": "130"
                                },
                                {
                                    "kerekített ár": "4000",
                                    "stilus": "nyelvtanító",
                                    "készlet": "140"
                                },
                                {
                                    "kerekített ár": "4000",
                                    "stilus": "történelem",
                                    "készlet": "160"
                                },
                                {
                                    "kerekített ár": "4000",
                                    "stilus": "játék",
                                    "készlet": "180"
                                },
                                {
                                    "kerekített ár": "5000",
                                    "stilus": "irodalom",
                                    "készlet": "30"
                                },
                                {
                                    "kerekített ár": "5000",
                                    "stilus": "matematika",
                                    "készlet": "30"
                                },
                                {
                                    "kerekített ár": "5000",
                                    "stilus": "zene",
                                    "készlet": "30"
                                },
                                {
                                    "kerekített ár": "5000",
                                    "stilus": "földrajz",
                                    "készlet": "60"
                                },
                                {
                                    "kerekített ár": "5000",
                                    "stilus": "történelem",
                                    "készlet": "120"
                                },
                                {
                                    "kerekített ár": "5000",
                                    "stilus": "nyelvtanító",
                                    "készlet": "140"
                                },
                                {
                                    "kerekített ár": "5000",
                                    "stilus": "ismeretterjesztő",
                                    "készlet": "170"
                                },
                                {
                                    "kerekített ár": "5000",
                                    "stilus": "játék",
                                    "készlet": "210"
                                },
                                {
                                    "kerekített ár": "6000",
                                    "stilus": "csillagászat",
                                    "készlet": "30"
                                },
                                {
                                    "kerekített ár": "6000",
                                    "stilus": "irodalom",
                                    "készlet": "30"
                                },
                                {
                                    "kerekített ár": "6000",
                                    "stilus": "történelem",
                                    "készlet": "88"
                                },
                                {
                                    "kerekített ár": "6000",
                                    "stilus": "ismeretterjesztő",
                                    "készlet": "90"
                                },
                                {
                                    "kerekített ár": "6000",
                                    "stilus": "nyelvtanító",
                                    "készlet": "110"
                                },
                                {
                                    "kerekített ár": "6000",
                                    "stilus": "játék",
                                    "készlet": "170"
                                }
                            ]
                        },
                        "text/html": "<table><tr><th>kerekített ár</th><th>stilus</th><th>készlet</th></tr><tr><td>3000</td><td>földrajz</td><td>30</td></tr><tr><td>3000</td><td>nyelvtanító</td><td>30</td></tr><tr><td>3000</td><td>játék</td><td>40</td></tr><tr><td>3000</td><td>történelem</td><td>40</td></tr><tr><td>3000</td><td>ismeretterjesztő</td><td>70</td></tr><tr><td>4000</td><td>szótár</td><td>30</td></tr><tr><td>4000</td><td>csillagászat</td><td>40</td></tr><tr><td>4000</td><td>földrajz</td><td>50</td></tr><tr><td>4000</td><td>irodalom</td><td>90</td></tr><tr><td>4000</td><td>ismeretterjesztő</td><td>130</td></tr><tr><td>4000</td><td>nyelvtanító</td><td>140</td></tr><tr><td>4000</td><td>történelem</td><td>160</td></tr><tr><td>4000</td><td>játék</td><td>180</td></tr><tr><td>5000</td><td>irodalom</td><td>30</td></tr><tr><td>5000</td><td>matematika</td><td>30</td></tr><tr><td>5000</td><td>zene</td><td>30</td></tr><tr><td>5000</td><td>földrajz</td><td>60</td></tr><tr><td>5000</td><td>történelem</td><td>120</td></tr><tr><td>5000</td><td>nyelvtanító</td><td>140</td></tr><tr><td>5000</td><td>ismeretterjesztő</td><td>170</td></tr><tr><td>5000</td><td>játék</td><td>210</td></tr><tr><td>6000</td><td>csillagászat</td><td>30</td></tr><tr><td>6000</td><td>irodalom</td><td>30</td></tr><tr><td>6000</td><td>történelem</td><td>88</td></tr><tr><td>6000</td><td>ismeretterjesztő</td><td>90</td></tr><tr><td>6000</td><td>nyelvtanító</td><td>110</td></tr><tr><td>6000</td><td>játék</td><td>170</td></tr></table>"
                    },
                    "metadata": {}
                }
            ],
            "execution_count": 29
        },
        {
            "cell_type": "markdown",
            "source": [
                "6. <span style=\"font-weight: 600; color: rgb(36, 41, 47); font-family: -apple-system, BlinkMacSystemFont, &quot;Segoe UI&quot;, Helvetica, Arial, sans-serif, &quot;Apple Color Emoji&quot;, &quot;Segoe UI Emoji&quot;; font-size: 16px;\">A dvd-ket csoportosíthatjuk aszerint, hogy milyen hosszú a címük. Amelyiknél a cím hosszúsága 10 karakter alatt van, az legyen Rövid, 10-20-ig Átlagos, 20 felett Hosszú. Hány Rövid, Átlagos, illetve Hosszú dvd-van összesen raktáron?</span>\n",
                "\n",
                "1. Az oszlopok neve legyen 'Cím hosszúság' és 'Darabszám"
            ],
            "metadata": {
                "azdata_cell_guid": "5fe65c1c-2479-45ac-ad03-ec99d12eae21"
            },
            "attachments": {}
        },
        {
            "cell_type": "code",
            "source": [
                "SELECT  CASE\r\n",
                "            WHEN LEN(cim) < 10 THEN 'Rövid'\r\n",
                "            WHEN LEN(cim) > 20 THEN 'Hosszú'\r\n",
                "            ELSE 'Átlagos'\r\n",
                "        END AS 'Cím hosszúság',\r\n",
                "        COUNT(*) AS 'Darabszám'\r\n",
                "FROM dvd\r\n",
                "WHERE cim IS NOT NULL\r\n",
                "GROUP BY CASE\r\n",
                "            WHEN LEN(cim) < 10 THEN 'Rövid'\r\n",
                "            WHEN LEN(cim) > 20 THEN 'Hosszú'\r\n",
                "            ELSE 'Átlagos'\r\n",
                "        END"
            ],
            "metadata": {
                "azdata_cell_guid": "924f2dde-f1c2-4def-a7f9-dbf4bace7735",
                "language": "sql"
            },
            "outputs": [
                {
                    "output_type": "display_data",
                    "data": {
                        "text/html": "(3 rows affected)"
                    },
                    "metadata": {}
                },
                {
                    "output_type": "display_data",
                    "data": {
                        "text/html": "Total execution time: 00:00:00.022"
                    },
                    "metadata": {}
                },
                {
                    "output_type": "execute_result",
                    "execution_count": 39,
                    "data": {
                        "application/vnd.dataresource+json": {
                            "schema": {
                                "fields": [
                                    {
                                        "name": "Cím hosszúság"
                                    },
                                    {
                                        "name": "Darabszám"
                                    }
                                ]
                            },
                            "data": [
                                {
                                    "Cím hosszúság": "Átlagos",
                                    "Darabszám": "93"
                                },
                                {
                                    "Cím hosszúság": "Hosszú",
                                    "Darabszám": "212"
                                },
                                {
                                    "Cím hosszúság": "Rövid",
                                    "Darabszám": "12"
                                }
                            ]
                        },
                        "text/html": "<table><tr><th>Cím hosszúság</th><th>Darabszám</th></tr><tr><td>Átlagos</td><td>93</td></tr><tr><td>Hosszú</td><td>212</td></tr><tr><td>Rövid</td><td>12</td></tr></table>"
                    },
                    "metadata": {}
                }
            ],
            "execution_count": 39
        },
        {
            "cell_type": "markdown",
            "source": [
                "7. <span style=\"color: rgb(36, 41, 47); font-family: -apple-system, BlinkMacSystemFont, &quot;Segoe UI&quot;, Helvetica, Arial, sans-serif, &quot;Apple Color Emoji&quot;, &quot;Segoe UI Emoji&quot;; font-size: 16px;\">Készítsünk listát arról, hogy melyik teremben hány óra van!</span>\n",
                "\n",
                "1. Jelenítsük meg a termek azonosítóit és a teremben tartott órák számát!\n",
                "2. Az oszlopokat nevezzük el értelemszerűen!\n",
                "3. Szűrjünk azokra a termekre, ahol az órák száma legalább 3!"
            ],
            "metadata": {
                "azdata_cell_guid": "3aeb6bf5-b111-40d5-92b2-9712ce335696"
            },
            "attachments": {}
        },
        {
            "cell_type": "code",
            "source": [
                "SELECT  terem as 'Terem ID',\r\n",
                "        COUNT(targy) as 'Órák száma'\r\n",
                "FROM Orak\r\n",
                "GROUP BY terem\r\n",
                "HAVING COUNT(targy) >= 3"
            ],
            "metadata": {
                "azdata_cell_guid": "3e89b651-f56f-4102-af52-30eb2bbe360d",
                "language": "sql"
            },
            "outputs": [
                {
                    "output_type": "display_data",
                    "data": {
                        "text/html": "(11 rows affected)"
                    },
                    "metadata": {}
                },
                {
                    "output_type": "display_data",
                    "data": {
                        "text/html": "Total execution time: 00:00:00.025"
                    },
                    "metadata": {}
                },
                {
                    "output_type": "execute_result",
                    "execution_count": 51,
                    "data": {
                        "application/vnd.dataresource+json": {
                            "schema": {
                                "fields": [
                                    {
                                        "name": "Terem ID"
                                    },
                                    {
                                        "name": "Órák száma"
                                    }
                                ]
                            },
                            "data": [
                                {
                                    "Terem ID": "2",
                                    "Órák száma": "5"
                                },
                                {
                                    "Terem ID": "3",
                                    "Órák száma": "11"
                                },
                                {
                                    "Terem ID": "4",
                                    "Órák száma": "8"
                                },
                                {
                                    "Terem ID": "5",
                                    "Órák száma": "5"
                                },
                                {
                                    "Terem ID": "6",
                                    "Órák száma": "6"
                                },
                                {
                                    "Terem ID": "7",
                                    "Órák száma": "6"
                                },
                                {
                                    "Terem ID": "8",
                                    "Órák száma": "6"
                                },
                                {
                                    "Terem ID": "10",
                                    "Órák száma": "3"
                                },
                                {
                                    "Terem ID": "12",
                                    "Órák száma": "3"
                                },
                                {
                                    "Terem ID": "13",
                                    "Órák száma": "5"
                                },
                                {
                                    "Terem ID": "14",
                                    "Órák száma": "3"
                                }
                            ]
                        },
                        "text/html": "<table><tr><th>Terem ID</th><th>Órák száma</th></tr><tr><td>2</td><td>5</td></tr><tr><td>3</td><td>11</td></tr><tr><td>4</td><td>8</td></tr><tr><td>5</td><td>5</td></tr><tr><td>6</td><td>6</td></tr><tr><td>7</td><td>6</td></tr><tr><td>8</td><td>6</td></tr><tr><td>10</td><td>3</td></tr><tr><td>12</td><td>3</td></tr><tr><td>13</td><td>5</td></tr><tr><td>14</td><td>3</td></tr></table>"
                    },
                    "metadata": {}
                }
            ],
            "execution_count": 51
        },
        {
            "cell_type": "markdown",
            "source": [
                "8. <span style=\"color: rgb(36, 41, 47); font-family: -apple-system, BlinkMacSystemFont, &quot;Segoe UI&quot;, Helvetica, Arial, sans-serif, &quot;Apple Color Emoji&quot;, &quot;Segoe UI Emoji&quot;; font-size: 16px;\">Készítsünk lekérdezést, amely megadja, hogy minimálian és maximálisan hány kreditet ér egy tantárgy!</span>\n",
                "\n",
                "1. Az oszlopokat nevezzük el értelemszerűen!\n",
                "2. Ne vegyük figyelembe azokat a tantárgyakat, amelyek nevében az „alapjai” szó szerepel, vagy a tantárgy neve 10 karakternél rövidebb!"
            ],
            "metadata": {
                "azdata_cell_guid": "26a504dc-ff6a-439f-94c0-4580eca3eacf"
            },
            "attachments": {}
        },
        {
            "cell_type": "code",
            "source": [
                "SELECT  MIN(Kredit) AS 'Legkevesebb kredites tárgy',\r\n",
                "        MAX(Kredit) AS 'Legtöbb kredites tárgy'\r\n",
                "FROM Tantárgyak\r\n",
                "WHERE Tantárgynév NOT LIKE '%alapjai%' AND LEN(Tantárgynév) >= 10"
            ],
            "metadata": {
                "azdata_cell_guid": "1cbb8aeb-78b5-4350-aa45-e3202fdab85b",
                "language": "sql"
            },
            "outputs": [
                {
                    "output_type": "display_data",
                    "data": {
                        "text/html": "(1 row affected)"
                    },
                    "metadata": {}
                },
                {
                    "output_type": "display_data",
                    "data": {
                        "text/html": "Total execution time: 00:00:00.020"
                    },
                    "metadata": {}
                },
                {
                    "output_type": "execute_result",
                    "execution_count": 59,
                    "data": {
                        "application/vnd.dataresource+json": {
                            "schema": {
                                "fields": [
                                    {
                                        "name": "Legkevesebb kredites tárgy"
                                    },
                                    {
                                        "name": "Legtöbb kredites tárgy"
                                    }
                                ]
                            },
                            "data": [
                                {
                                    "Legkevesebb kredites tárgy": "1",
                                    "Legtöbb kredites tárgy": "5"
                                }
                            ]
                        },
                        "text/html": "<table><tr><th>Legkevesebb kredites tárgy</th><th>Legtöbb kredites tárgy</th></tr><tr><td>1</td><td>5</td></tr></table>"
                    },
                    "metadata": {}
                }
            ],
            "execution_count": 59
        },
        {
            "cell_type": "markdown",
            "source": [
                "9. <span style=\"color: rgb(36, 41, 47); font-family: -apple-system, BlinkMacSystemFont, &quot;Segoe UI&quot;, Helvetica, Arial, sans-serif, &quot;Apple Color Emoji&quot;, &quot;Segoe UI Emoji&quot;; font-size: 16px;\">A tapasztalat alapján a tanársegédeknek 8, az óraadóknak 10 órájuk van egy héten. A többiek annyi órát tartanak, amennyi az elvárt óraszámuk. Készítsünk lekérdezést, amely minden beosztáshoz megjeleníti, hogy hetente hány túlóra tartozik hozzá!</span>\n",
                "\n",
                "1. A lekérdezés csak a beosztások nevét és a heti túlórák számát jelenítse meg!"
            ],
            "metadata": {
                "azdata_cell_guid": "435e2860-2dd5-4877-90f4-34a43baeb53c"
            },
            "attachments": {}
        },
        {
            "cell_type": "code",
            "source": [
                "SELECT  Beosztasok.beosztasnev,\r\n",
                "        CASE \r\n",
                "            WHEN beosztasnev = 'tanársegéd' THEN 8-elvart\r\n",
                "            WHEN beosztasnev = 'óraadó' THEN 10-elvart\r\n",
                "            ELSE 0\r\n",
                "        END AS 'Túlóra'\r\n",
                "FROM Orak   JOIN Oktatok ON Orak.tanar = Oktatok.oktato_id\r\n",
                "            JOIN Beosztasok ON Oktatok.beosztás = Beosztasok.beosztas_id"
            ],
            "metadata": {
                "azdata_cell_guid": "ce846351-ddbe-4d8e-b8fb-2a92c73ac80b",
                "language": "sql"
            },
            "outputs": [
                {
                    "output_type": "display_data",
                    "data": {
                        "text/html": "(67 rows affected)"
                    },
                    "metadata": {}
                },
                {
                    "output_type": "display_data",
                    "data": {
                        "text/html": "Total execution time: 00:00:00.020"
                    },
                    "metadata": {}
                },
                {
                    "output_type": "execute_result",
                    "execution_count": 37,
                    "data": {
                        "application/vnd.dataresource+json": {
                            "schema": {
                                "fields": [
                                    {
                                        "name": "beosztasnev"
                                    },
                                    {
                                        "name": "Túlóra"
                                    }
                                ]
                            },
                            "data": [
                                {
                                    "beosztasnev": "Egyetemi tanár",
                                    "Túlóra": "0"
                                },
                                {
                                    "beosztasnev": "Tanársegéd",
                                    "Túlóra": "2"
                                },
                                {
                                    "beosztasnev": "Tanársegéd",
                                    "Túlóra": "2"
                                },
                                {
                                    "beosztasnev": "Óraadó",
                                    "Túlóra": "4"
                                },
                                {
                                    "beosztasnev": "Docens",
                                    "Túlóra": "0"
                                },
                                {
                                    "beosztasnev": "Tanársegéd",
                                    "Túlóra": "2"
                                },
                                {
                                    "beosztasnev": "Docens",
                                    "Túlóra": "0"
                                },
                                {
                                    "beosztasnev": "Docens",
                                    "Túlóra": "0"
                                },
                                {
                                    "beosztasnev": "Adjunktus",
                                    "Túlóra": "0"
                                },
                                {
                                    "beosztasnev": "Egyetemi tanár",
                                    "Túlóra": "0"
                                },
                                {
                                    "beosztasnev": "Óraadó",
                                    "Túlóra": "4"
                                },
                                {
                                    "beosztasnev": "Óraadó",
                                    "Túlóra": "4"
                                },
                                {
                                    "beosztasnev": "Adjunktus",
                                    "Túlóra": "0"
                                },
                                {
                                    "beosztasnev": "Tanársegéd",
                                    "Túlóra": "2"
                                },
                                {
                                    "beosztasnev": "Óraadó",
                                    "Túlóra": "4"
                                },
                                {
                                    "beosztasnev": "Óraadó",
                                    "Túlóra": "4"
                                },
                                {
                                    "beosztasnev": "Adjunktus",
                                    "Túlóra": "0"
                                },
                                {
                                    "beosztasnev": "Óraadó",
                                    "Túlóra": "4"
                                },
                                {
                                    "beosztasnev": "Adjunktus",
                                    "Túlóra": "0"
                                },
                                {
                                    "beosztasnev": "Tanársegéd",
                                    "Túlóra": "2"
                                },
                                {
                                    "beosztasnev": "Adjunktus",
                                    "Túlóra": "0"
                                },
                                {
                                    "beosztasnev": "Tanársegéd",
                                    "Túlóra": "2"
                                },
                                {
                                    "beosztasnev": "Adjunktus",
                                    "Túlóra": "0"
                                },
                                {
                                    "beosztasnev": "Tanársegéd",
                                    "Túlóra": "2"
                                },
                                {
                                    "beosztasnev": "Adjunktus",
                                    "Túlóra": "0"
                                },
                                {
                                    "beosztasnev": "Tanársegéd",
                                    "Túlóra": "2"
                                },
                                {
                                    "beosztasnev": "Adjunktus",
                                    "Túlóra": "0"
                                },
                                {
                                    "beosztasnev": "Óraadó",
                                    "Túlóra": "4"
                                },
                                {
                                    "beosztasnev": "Docens",
                                    "Túlóra": "0"
                                },
                                {
                                    "beosztasnev": "Tanársegéd",
                                    "Túlóra": "2"
                                },
                                {
                                    "beosztasnev": "Tanársegéd",
                                    "Túlóra": "2"
                                },
                                {
                                    "beosztasnev": "Tanársegéd",
                                    "Túlóra": "2"
                                },
                                {
                                    "beosztasnev": "Docens",
                                    "Túlóra": "0"
                                },
                                {
                                    "beosztasnev": "Docens",
                                    "Túlóra": "0"
                                },
                                {
                                    "beosztasnev": "Tanársegéd",
                                    "Túlóra": "2"
                                },
                                {
                                    "beosztasnev": "Tanársegéd",
                                    "Túlóra": "2"
                                },
                                {
                                    "beosztasnev": "Docens",
                                    "Túlóra": "0"
                                },
                                {
                                    "beosztasnev": "Docens",
                                    "Túlóra": "0"
                                },
                                {
                                    "beosztasnev": "Tanársegéd",
                                    "Túlóra": "2"
                                },
                                {
                                    "beosztasnev": "Tanársegéd",
                                    "Túlóra": "2"
                                },
                                {
                                    "beosztasnev": "Óraadó",
                                    "Túlóra": "4"
                                },
                                {
                                    "beosztasnev": "Óraadó",
                                    "Túlóra": "4"
                                },
                                {
                                    "beosztasnev": "Egyetemi tanár",
                                    "Túlóra": "0"
                                },
                                {
                                    "beosztasnev": "Egyetemi tanár",
                                    "Túlóra": "0"
                                },
                                {
                                    "beosztasnev": "Óraadó",
                                    "Túlóra": "4"
                                },
                                {
                                    "beosztasnev": "Tanársegéd",
                                    "Túlóra": "2"
                                },
                                {
                                    "beosztasnev": "Egyetemi tanár",
                                    "Túlóra": "0"
                                },
                                {
                                    "beosztasnev": "Docens",
                                    "Túlóra": "0"
                                },
                                {
                                    "beosztasnev": "Docens",
                                    "Túlóra": "0"
                                },
                                {
                                    "beosztasnev": "Egyetemi tanár",
                                    "Túlóra": "0"
                                },
                                {
                                    "beosztasnev": "Egyetemi tanár",
                                    "Túlóra": "0"
                                },
                                {
                                    "beosztasnev": "Adjunktus",
                                    "Túlóra": "0"
                                },
                                {
                                    "beosztasnev": "Adjunktus",
                                    "Túlóra": "0"
                                },
                                {
                                    "beosztasnev": "Tanársegéd",
                                    "Túlóra": "2"
                                },
                                {
                                    "beosztasnev": "Tanársegéd",
                                    "Túlóra": "2"
                                },
                                {
                                    "beosztasnev": "Tanársegéd",
                                    "Túlóra": "2"
                                },
                                {
                                    "beosztasnev": "Tanársegéd",
                                    "Túlóra": "2"
                                },
                                {
                                    "beosztasnev": "Adjunktus",
                                    "Túlóra": "0"
                                },
                                {
                                    "beosztasnev": "Adjunktus",
                                    "Túlóra": "0"
                                },
                                {
                                    "beosztasnev": "Tanársegéd",
                                    "Túlóra": "2"
                                },
                                {
                                    "beosztasnev": "Tanársegéd",
                                    "Túlóra": "2"
                                },
                                {
                                    "beosztasnev": "Egyetemi tanár",
                                    "Túlóra": "0"
                                },
                                {
                                    "beosztasnev": "Egyetemi tanár",
                                    "Túlóra": "0"
                                },
                                {
                                    "beosztasnev": "Egyetemi tanár",
                                    "Túlóra": "0"
                                },
                                {
                                    "beosztasnev": "Egyetemi tanár",
                                    "Túlóra": "0"
                                },
                                {
                                    "beosztasnev": "Adjunktus",
                                    "Túlóra": "0"
                                },
                                {
                                    "beosztasnev": "Adjunktus",
                                    "Túlóra": "0"
                                }
                            ]
                        },
                        "text/html": "<table><tr><th>beosztasnev</th><th>Túlóra</th></tr><tr><td>Egyetemi tanár</td><td>0</td></tr><tr><td>Tanársegéd</td><td>2</td></tr><tr><td>Tanársegéd</td><td>2</td></tr><tr><td>Óraadó</td><td>4</td></tr><tr><td>Docens</td><td>0</td></tr><tr><td>Tanársegéd</td><td>2</td></tr><tr><td>Docens</td><td>0</td></tr><tr><td>Docens</td><td>0</td></tr><tr><td>Adjunktus</td><td>0</td></tr><tr><td>Egyetemi tanár</td><td>0</td></tr><tr><td>Óraadó</td><td>4</td></tr><tr><td>Óraadó</td><td>4</td></tr><tr><td>Adjunktus</td><td>0</td></tr><tr><td>Tanársegéd</td><td>2</td></tr><tr><td>Óraadó</td><td>4</td></tr><tr><td>Óraadó</td><td>4</td></tr><tr><td>Adjunktus</td><td>0</td></tr><tr><td>Óraadó</td><td>4</td></tr><tr><td>Adjunktus</td><td>0</td></tr><tr><td>Tanársegéd</td><td>2</td></tr><tr><td>Adjunktus</td><td>0</td></tr><tr><td>Tanársegéd</td><td>2</td></tr><tr><td>Adjunktus</td><td>0</td></tr><tr><td>Tanársegéd</td><td>2</td></tr><tr><td>Adjunktus</td><td>0</td></tr><tr><td>Tanársegéd</td><td>2</td></tr><tr><td>Adjunktus</td><td>0</td></tr><tr><td>Óraadó</td><td>4</td></tr><tr><td>Docens</td><td>0</td></tr><tr><td>Tanársegéd</td><td>2</td></tr><tr><td>Tanársegéd</td><td>2</td></tr><tr><td>Tanársegéd</td><td>2</td></tr><tr><td>Docens</td><td>0</td></tr><tr><td>Docens</td><td>0</td></tr><tr><td>Tanársegéd</td><td>2</td></tr><tr><td>Tanársegéd</td><td>2</td></tr><tr><td>Docens</td><td>0</td></tr><tr><td>Docens</td><td>0</td></tr><tr><td>Tanársegéd</td><td>2</td></tr><tr><td>Tanársegéd</td><td>2</td></tr><tr><td>Óraadó</td><td>4</td></tr><tr><td>Óraadó</td><td>4</td></tr><tr><td>Egyetemi tanár</td><td>0</td></tr><tr><td>Egyetemi tanár</td><td>0</td></tr><tr><td>Óraadó</td><td>4</td></tr><tr><td>Tanársegéd</td><td>2</td></tr><tr><td>Egyetemi tanár</td><td>0</td></tr><tr><td>Docens</td><td>0</td></tr><tr><td>Docens</td><td>0</td></tr><tr><td>Egyetemi tanár</td><td>0</td></tr><tr><td>Egyetemi tanár</td><td>0</td></tr><tr><td>Adjunktus</td><td>0</td></tr><tr><td>Adjunktus</td><td>0</td></tr><tr><td>Tanársegéd</td><td>2</td></tr><tr><td>Tanársegéd</td><td>2</td></tr><tr><td>Tanársegéd</td><td>2</td></tr><tr><td>Tanársegéd</td><td>2</td></tr><tr><td>Adjunktus</td><td>0</td></tr><tr><td>Adjunktus</td><td>0</td></tr><tr><td>Tanársegéd</td><td>2</td></tr><tr><td>Tanársegéd</td><td>2</td></tr><tr><td>Egyetemi tanár</td><td>0</td></tr><tr><td>Egyetemi tanár</td><td>0</td></tr><tr><td>Egyetemi tanár</td><td>0</td></tr><tr><td>Egyetemi tanár</td><td>0</td></tr><tr><td>Adjunktus</td><td>0</td></tr><tr><td>Adjunktus</td><td>0</td></tr></table>"
                    },
                    "metadata": {}
                }
            ],
            "execution_count": 37
        },
        {
            "cell_type": "markdown",
            "source": [
                "10. <span style=\"font-weight: 600; color: rgb(36, 41, 47); font-family: -apple-system, BlinkMacSystemFont, &quot;Segoe UI&quot;, Helvetica, Arial, sans-serif, &quot;Apple Color Emoji&quot;, &quot;Segoe UI Emoji&quot;; font-size: 16px;\">Melyek azok az oktatók, akiknek nincs órájuk?</span>\n",
                "\n",
                "1. Csak az oktatók neve jelenjen meg!\n",
                "2. ÖTLET: használjunk LEFT JOIN-t, és szűrjünk azokra a rekordokra, ahol NULL érték van a JOIN utáni feltétel jobb oldalán!"
            ],
            "metadata": {
                "azdata_cell_guid": "217c5772-afe2-4a7c-b913-e3a3e09d6411"
            },
            "attachments": {}
        },
        {
            "cell_type": "code",
            "source": [
                "SELECT okt.nev\r\n",
                "FROM Orak o RIGHT JOIN Oktatok okt ON o.tanar = okt.oktato_id\r\n",
                "WHERE o.ora_id IS NULL"
            ],
            "metadata": {
                "azdata_cell_guid": "a9cc0926-3dbd-4ed8-8179-1c39d64a0762",
                "language": "sql"
            },
            "outputs": [
                {
                    "output_type": "display_data",
                    "data": {
                        "text/html": "(5 rows affected)"
                    },
                    "metadata": {}
                },
                {
                    "output_type": "display_data",
                    "data": {
                        "text/html": "Total execution time: 00:00:00.020"
                    },
                    "metadata": {}
                },
                {
                    "output_type": "execute_result",
                    "metadata": {},
                    "execution_count": 3,
                    "data": {
                        "application/vnd.dataresource+json": {
                            "schema": {
                                "fields": [
                                    {
                                        "name": "nev"
                                    }
                                ]
                            },
                            "data": [
                                {
                                    "nev": "Józsa Gábor"
                                },
                                {
                                    "nev": "Rácz András"
                                },
                                {
                                    "nev": "Kiss István"
                                },
                                {
                                    "nev": "Mészáros Kriszta"
                                },
                                {
                                    "nev": "Kovacs Istvan"
                                }
                            ]
                        },
                        "text/html": [
                            "<table>",
                            "<tr><th>nev</th></tr>",
                            "<tr><td>Józsa Gábor</td></tr>",
                            "<tr><td>Rácz András</td></tr>",
                            "<tr><td>Kiss István</td></tr>",
                            "<tr><td>Mészáros Kriszta</td></tr>",
                            "<tr><td>Kovacs Istvan</td></tr>",
                            "</table>"
                        ]
                    }
                }
            ],
            "execution_count": 3
        },
        {
            "cell_type": "markdown",
            "source": [
                "11. <span style=\"font-weight: 600; color: rgb(36, 41, 47); font-family: -apple-system, BlinkMacSystemFont, &quot;Segoe UI&quot;, Helvetica, Arial, sans-serif, &quot;Apple Color Emoji&quot;, &quot;Segoe UI Emoji&quot;; font-size: 16px;\">Készítsünk lekérdezést, amely részletesen megjeleníti az egyes órák fontosabb adatait, azaz</span>\n",
                "\n",
                "1. Az órák azonosítóit, a tanár nevét, a tantárgy nevét, a terem nevét és a kezdési időpontot!\n",
                "2. Az oszlopokat nevezzük el értelemszerűen!"
            ],
            "metadata": {
                "azdata_cell_guid": "d2340f5f-1614-473c-b937-85740d67f7c1"
            },
            "attachments": {}
        },
        {
            "cell_type": "code",
            "source": [
                "SELECT  o.ora_id AS 'Óraazonosító',\r\n",
                "        okt.nev AS 'Oktató',\r\n",
                "        tt.Tantárgynév AS 'Tantárgy',\r\n",
                "        t.Terem,\r\n",
                "        s.Időpont AS 'Óra kezdete'\r\n",
                "FROM Orak o JOIN Oktatok okt ON o.tanar = okt.oktato_id\r\n",
                "    JOIN Tantárgyak tt ON o.targy = tt.Tkód\r\n",
                "    JOIN Termek t ON o.terem = t.Tkód\r\n",
                "    JOIN Savok s ON o.Sav = s.Sav_id\r\n",
                ""
            ],
            "metadata": {
                "azdata_cell_guid": "e99c2c53-898f-4787-b0e6-182d106dc16f",
                "language": "sql"
            },
            "outputs": [
                {
                    "output_type": "display_data",
                    "data": {
                        "text/html": "(67 rows affected)"
                    },
                    "metadata": {}
                },
                {
                    "output_type": "display_data",
                    "data": {
                        "text/html": "Total execution time: 00:00:00.038"
                    },
                    "metadata": {}
                },
                {
                    "output_type": "execute_result",
                    "metadata": {},
                    "execution_count": 5,
                    "data": {
                        "application/vnd.dataresource+json": {
                            "schema": {
                                "fields": [
                                    {
                                        "name": "Óraazonosító"
                                    },
                                    {
                                        "name": "Oktató"
                                    },
                                    {
                                        "name": "Tantárgy"
                                    },
                                    {
                                        "name": "Terem"
                                    },
                                    {
                                        "name": "Óra kezdete"
                                    }
                                ]
                            },
                            "data": [
                                {
                                    "Óraazonosító": "159",
                                    "Oktató": "Ujfalussi István",
                                    "Tantárgy": "Az ürgeöntés alapjai",
                                    "Terem": "117",
                                    "Óra kezdete": "8.00"
                                },
                                {
                                    "Óraazonosító": "160",
                                    "Oktató": "Pelikán József",
                                    "Tantárgy": "Az ürgeöntés alapjai",
                                    "Terem": "118",
                                    "Óra kezdete": "14.00"
                                },
                                {
                                    "Óraazonosító": "161",
                                    "Oktató": "Pelikán József",
                                    "Tantárgy": "Az ürgeöntés alapjai",
                                    "Terem": "118",
                                    "Óra kezdete": "9.30"
                                },
                                {
                                    "Óraazonosító": "162",
                                    "Oktató": "Kovács András",
                                    "Tantárgy": "Az ürgeöntés alapjai",
                                    "Terem": "119",
                                    "Óra kezdete": "12.30"
                                },
                                {
                                    "Óraazonosító": "163",
                                    "Oktató": "Szerb László",
                                    "Tantárgy": "Az ürgeöntés alapjai",
                                    "Terem": "120",
                                    "Óra kezdete": "9.30"
                                },
                                {
                                    "Óraazonosító": "164",
                                    "Oktató": "Kiss János",
                                    "Tantárgy": "Az ürgeöntés alapjai",
                                    "Terem": "119",
                                    "Óra kezdete": "11.00"
                                },
                                {
                                    "Óraazonosító": "165",
                                    "Oktató": "Szerb László",
                                    "Tantárgy": "Az ürgeöntés alapjai",
                                    "Terem": "119",
                                    "Óra kezdete": "11.00"
                                },
                                {
                                    "Óraazonosító": "166",
                                    "Oktató": "Szerb László",
                                    "Tantárgy": "Az ürgeöntés alapjai",
                                    "Terem": "119",
                                    "Óra kezdete": "12.30"
                                },
                                {
                                    "Óraazonosító": "167",
                                    "Oktató": "Szentágotai Istvás",
                                    "Tantárgy": "Az ürgeöntés alapjai",
                                    "Terem": "120",
                                    "Óra kezdete": "12.30"
                                },
                                {
                                    "Óraazonosító": "168",
                                    "Oktató": "Ujfalussi István",
                                    "Tantárgy": "Az ürgeöntés alapjai",
                                    "Terem": "217",
                                    "Óra kezdete": "11.00"
                                },
                                {
                                    "Óraazonosító": "169",
                                    "Oktató": "Kovács András",
                                    "Tantárgy": "Az ürgeöntés alapjai",
                                    "Terem": "218",
                                    "Óra kezdete": "9.30"
                                },
                                {
                                    "Óraazonosító": "170",
                                    "Oktató": "Ludas Mátyás",
                                    "Tantárgy": "Az ürgeöntés alapjai",
                                    "Terem": "120",
                                    "Óra kezdete": "9.30"
                                },
                                {
                                    "Óraazonosító": "171",
                                    "Oktató": "Szénási ászló",
                                    "Tantárgy": "Az ürgeöntés alapjai",
                                    "Terem": "220",
                                    "Óra kezdete": "9.30"
                                },
                                {
                                    "Óraazonosító": "172",
                                    "Oktató": "Kiss János",
                                    "Tantárgy": "Az ürgeöntés alapjai",
                                    "Terem": "119",
                                    "Óra kezdete": "9.30"
                                },
                                {
                                    "Óraazonosító": "173",
                                    "Oktató": "Kovács András",
                                    "Tantárgy": "Az ürgeöntés alapjai",
                                    "Terem": "119",
                                    "Óra kezdete": "11.00"
                                },
                                {
                                    "Óraazonosító": "174",
                                    "Oktató": "Ludas Mátyás",
                                    "Tantárgy": "Az ürgeöntés alapjai",
                                    "Terem": "219",
                                    "Óra kezdete": "11.00"
                                },
                                {
                                    "Óraazonosító": "175",
                                    "Oktató": "Szénási ászló",
                                    "Tantárgy": "Az ürgeöntés alapjai",
                                    "Terem": "120",
                                    "Óra kezdete": "12.30"
                                },
                                {
                                    "Óraazonosító": "176",
                                    "Oktató": "Kovács András",
                                    "Tantárgy": "Az ürgeöntés alapjai",
                                    "Terem": "118",
                                    "Óra kezdete": "12.30"
                                },
                                {
                                    "Óraazonosító": "177",
                                    "Oktató": "Szentágotai Istvás",
                                    "Tantárgy": "Az ürgeöntés alapjai",
                                    "Terem": "119",
                                    "Óra kezdete": "14.00"
                                },
                                {
                                    "Óraazonosító": "178",
                                    "Oktató": "Vitéz János",
                                    "Tantárgy": "Az ürgeöntés alapjai",
                                    "Terem": "220",
                                    "Óra kezdete": "14.00"
                                },
                                {
                                    "Óraazonosító": "179",
                                    "Oktató": "Szentágotai Istvás",
                                    "Tantárgy": "Az ürgeöntés alapjai",
                                    "Terem": "120",
                                    "Óra kezdete": "15.30"
                                },
                                {
                                    "Óraazonosító": "180",
                                    "Oktató": "Vitéz János",
                                    "Tantárgy": "Az ürgeöntés alapjai",
                                    "Terem": "119",
                                    "Óra kezdete": "15.30"
                                },
                                {
                                    "Óraazonosító": "181",
                                    "Oktató": "Szentágotai Istvás",
                                    "Tantárgy": "Az ürgeöntés alapjai",
                                    "Terem": "118",
                                    "Óra kezdete": "8.00"
                                },
                                {
                                    "Óraazonosító": "182",
                                    "Oktató": "Vitéz János",
                                    "Tantárgy": "Az ürgeöntés alapjai",
                                    "Terem": "219",
                                    "Óra kezdete": "8.00"
                                },
                                {
                                    "Óraazonosító": "183",
                                    "Oktató": "Szentágotai Istvás",
                                    "Tantárgy": "Az ürgeöntés alapjai",
                                    "Terem": "220",
                                    "Óra kezdete": "9.30"
                                },
                                {
                                    "Óraazonosító": "184",
                                    "Oktató": "Vitéz János",
                                    "Tantárgy": "Az ürgeöntés alapjai",
                                    "Terem": "218",
                                    "Óra kezdete": "9.30"
                                },
                                {
                                    "Óraazonosító": "185",
                                    "Oktató": "Szentágotai Istvás",
                                    "Tantárgy": "Az ürgeöntés alapjai",
                                    "Terem": "120",
                                    "Óra kezdete": "11.00"
                                },
                                {
                                    "Óraazonosító": "186",
                                    "Oktató": "Nógrádi Kata",
                                    "Tantárgy": "ü-business",
                                    "Terem": "219",
                                    "Óra kezdete": "12.30"
                                },
                                {
                                    "Óraazonosító": "187",
                                    "Oktató": "Balkán András",
                                    "Tantárgy": "Bevezetés az ürgeöntésbe",
                                    "Terem": "217",
                                    "Óra kezdete": "9.30"
                                },
                                {
                                    "Óraazonosító": "188",
                                    "Oktató": "Farkasos Piroska",
                                    "Tantárgy": "Bevezetés az ürgeöntésbe",
                                    "Terem": "VP 203.",
                                    "Óra kezdete": "15.30"
                                },
                                {
                                    "Óraazonosító": "189",
                                    "Oktató": "Farkasos Piroska",
                                    "Tantárgy": "Bevezetés az ürgeöntésbe",
                                    "Terem": "VP 203.",
                                    "Óra kezdete": "9.30"
                                },
                                {
                                    "Óraazonosító": "190",
                                    "Oktató": "Farkasos Piroska",
                                    "Tantárgy": "Bevezetés az ürgeöntésbe",
                                    "Terem": "E.2.238",
                                    "Óra kezdete": "11.00"
                                },
                                {
                                    "Óraazonosító": "191",
                                    "Oktató": "Varga Kata",
                                    "Tantárgy": "Az ürgeöntés hydrológiai alapjai II.",
                                    "Terem": "220",
                                    "Óra kezdete": "14.00"
                                },
                                {
                                    "Óraazonosító": "192",
                                    "Oktató": "Varga Kata",
                                    "Tantárgy": "Az ürgeöntés hydrológiai alapjai II.",
                                    "Terem": "119",
                                    "Óra kezdete": "15.30"
                                },
                                {
                                    "Óraazonosító": "193",
                                    "Oktató": "Farkasos Piroska",
                                    "Tantárgy": "Az ürgeöntés hydrológiai alapjai II.",
                                    "Terem": "217",
                                    "Óra kezdete": "14.00"
                                },
                                {
                                    "Óraazonosító": "194",
                                    "Oktató": "Farkasos Piroska",
                                    "Tantárgy": "Az ürgeöntés hydrológiai alapjai II.",
                                    "Terem": "E.fsz.I",
                                    "Óra kezdete": "15.30"
                                },
                                {
                                    "Óraazonosító": "195",
                                    "Oktató": "Balkán András",
                                    "Tantárgy": "Az ürgeöntés hydrológiai alapjai II.",
                                    "Terem": "116",
                                    "Óra kezdete": "14.00"
                                },
                                {
                                    "Óraazonosító": "196",
                                    "Oktató": "Balkán András",
                                    "Tantárgy": "Az ürgeöntés hydrológiai alapjai II.",
                                    "Terem": "218",
                                    "Óra kezdete": "15.30"
                                },
                                {
                                    "Óraazonosító": "197",
                                    "Oktató": "Farkasos Piroska",
                                    "Tantárgy": "Az ürgeöntés hydrológiai alapjai II.",
                                    "Terem": "116",
                                    "Óra kezdete": "8.00"
                                },
                                {
                                    "Óraazonosító": "198",
                                    "Oktató": "Farkasos Piroska",
                                    "Tantárgy": "Az ürgeöntés hydrológiai alapjai II.",
                                    "Terem": "119",
                                    "Óra kezdete": "9.30"
                                },
                                {
                                    "Óraazonosító": "199",
                                    "Oktató": "Szabó Andrera",
                                    "Tantárgy": "Az ürgeöntés hydrológiai alapjai II.",
                                    "Terem": "218",
                                    "Óra kezdete": "8.00"
                                },
                                {
                                    "Óraazonosító": "200",
                                    "Oktató": "Szabó Andrera",
                                    "Tantárgy": "Az ürgeöntés hydrológiai alapjai II.",
                                    "Terem": "220",
                                    "Óra kezdete": "9.30"
                                },
                                {
                                    "Óraazonosító": "201",
                                    "Oktató": "Juhász András",
                                    "Tantárgy": "Öntési gyakorlat",
                                    "Terem": "E.2.238",
                                    "Óra kezdete": "12.30"
                                },
                                {
                                    "Óraazonosító": "202",
                                    "Oktató": "Juhász András",
                                    "Tantárgy": "Öntési gyakorlat",
                                    "Terem": "E.3.332",
                                    "Óra kezdete": "14.00"
                                },
                                {
                                    "Óraazonosító": "203",
                                    "Oktató": "Aranyi Mária",
                                    "Tantárgy": "Az ürgeöntés hydrológiai alapjai I.",
                                    "Terem": "S.Asor.S3",
                                    "Óra kezdete": "12.30"
                                },
                                {
                                    "Óraazonosító": "204",
                                    "Oktató": "Róbert Gida",
                                    "Tantárgy": "Az ürgeöntés hydrológiai alapjai I.",
                                    "Terem": "120",
                                    "Óra kezdete": "14.00"
                                },
                                {
                                    "Óraazonosító": "205",
                                    "Oktató": "Ujfalussi István",
                                    "Tantárgy": "Az öntés elmélete",
                                    "Terem": "220",
                                    "Óra kezdete": "12.30"
                                },
                                {
                                    "Óraazonosító": "206",
                                    "Oktató": "Varga Kata",
                                    "Tantárgy": "Az öntés elmélete",
                                    "Terem": "S.Asor.S3",
                                    "Óra kezdete": "8.00"
                                },
                                {
                                    "Óraazonosító": "207",
                                    "Oktató": "Varga Kata",
                                    "Tantárgy": "Az öntés elmélete",
                                    "Terem": "219",
                                    "Óra kezdete": "12.30"
                                },
                                {
                                    "Óraazonosító": "208",
                                    "Oktató": "Jogrerős Pál",
                                    "Tantárgy": "Ürgevitel",
                                    "Terem": "VP 203.",
                                    "Óra kezdete": "8.00"
                                },
                                {
                                    "Óraazonosító": "209",
                                    "Oktató": "Jogrerős Pál",
                                    "Tantárgy": "Ürgevitel",
                                    "Terem": "VP 203.",
                                    "Óra kezdete": "9.30"
                                },
                                {
                                    "Óraazonosító": "210",
                                    "Oktató": "Szép llonka",
                                    "Tantárgy": "Ürgeöntés az EU-ban",
                                    "Terem": "E.2.238",
                                    "Óra kezdete": "15.30"
                                },
                                {
                                    "Óraazonosító": "211",
                                    "Oktató": "Szép llonka",
                                    "Tantárgy": "Ürgeöntés az EU-ban",
                                    "Terem": "217",
                                    "Óra kezdete": "17.00"
                                },
                                {
                                    "Óraazonosító": "212",
                                    "Oktató": "Kiss János",
                                    "Tantárgy": "Ürgeöntés az EU-ban",
                                    "Terem": "120",
                                    "Óra kezdete": "18.30"
                                },
                                {
                                    "Óraazonosító": "213",
                                    "Oktató": "Kiss János",
                                    "Tantárgy": "Ürgeöntés az EU-ban",
                                    "Terem": "218",
                                    "Óra kezdete": "20.00"
                                },
                                {
                                    "Óraazonosító": "214",
                                    "Oktató": "Pelikán József",
                                    "Tantárgy": "Az ürge anatómiája",
                                    "Terem": "219",
                                    "Óra kezdete": "11.00"
                                },
                                {
                                    "Óraazonosító": "215",
                                    "Oktató": "Pelikán József",
                                    "Tantárgy": "Az ürge anatómiája",
                                    "Terem": "E.fsz.IV.",
                                    "Óra kezdete": "12.30"
                                },
                                {
                                    "Óraazonosító": "216",
                                    "Oktató": "Szép llonka",
                                    "Tantárgy": "Az ürge anatómiája",
                                    "Terem": "218",
                                    "Óra kezdete": "11.00"
                                },
                                {
                                    "Óraazonosító": "217",
                                    "Oktató": "Szép llonka",
                                    "Tantárgy": "Az ürge anatómiája",
                                    "Terem": "217",
                                    "Óra kezdete": "12.30"
                                },
                                {
                                    "Óraazonosító": "218",
                                    "Oktató": "Pelikán József",
                                    "Tantárgy": "Az ürge anatómiája",
                                    "Terem": "118",
                                    "Óra kezdete": "15.30"
                                },
                                {
                                    "Óraazonosító": "219",
                                    "Oktató": "Pelikán József",
                                    "Tantárgy": "Az ürge anatómiája",
                                    "Terem": "219",
                                    "Óra kezdete": "17.00"
                                },
                                {
                                    "Óraazonosító": "220",
                                    "Oktató": "Kovács László",
                                    "Tantárgy": "Fejezetek az ürgék jogaiból",
                                    "Terem": "119",
                                    "Óra kezdete": "11.00"
                                },
                                {
                                    "Óraazonosító": "221",
                                    "Oktató": "Kovács László",
                                    "Tantárgy": "Fejezetek az ürgék jogaiból",
                                    "Terem": "VP 203.",
                                    "Óra kezdete": "11.00"
                                },
                                {
                                    "Óraazonosító": "222",
                                    "Oktató": "Kovács László",
                                    "Tantárgy": "Fejezetek az ürgék jogaiból",
                                    "Terem": "116",
                                    "Óra kezdete": "14.00"
                                },
                                {
                                    "Óraazonosító": "223",
                                    "Oktató": "Kovács László",
                                    "Tantárgy": "Fejezetek az ürgék jogaiból",
                                    "Terem": "S.Asor.S3",
                                    "Óra kezdete": "8.00"
                                },
                                {
                                    "Óraazonosító": "226",
                                    "Oktató": "Szentágotai Istvás",
                                    "Tantárgy": "ürgefőzés",
                                    "Terem": "117",
                                    "Óra kezdete": "11.00"
                                },
                                {
                                    "Óraazonosító": "227",
                                    "Oktató": "Szentágotai Istvás",
                                    "Tantárgy": "Az ürgeöntés hydrológiai alapjai I.",
                                    "Terem": "116",
                                    "Óra kezdete": "14.00"
                                }
                            ]
                        },
                        "text/html": [
                            "<table>",
                            "<tr><th>Óraazonosító</th><th>Oktató</th><th>Tantárgy</th><th>Terem</th><th>Óra kezdete</th></tr>",
                            "<tr><td>159</td><td>Ujfalussi István</td><td>Az ürgeöntés alapjai</td><td>117</td><td>8.00</td></tr>",
                            "<tr><td>160</td><td>Pelikán József</td><td>Az ürgeöntés alapjai</td><td>118</td><td>14.00</td></tr>",
                            "<tr><td>161</td><td>Pelikán József</td><td>Az ürgeöntés alapjai</td><td>118</td><td>9.30</td></tr>",
                            "<tr><td>162</td><td>Kovács András</td><td>Az ürgeöntés alapjai</td><td>119</td><td>12.30</td></tr>",
                            "<tr><td>163</td><td>Szerb László</td><td>Az ürgeöntés alapjai</td><td>120</td><td>9.30</td></tr>",
                            "<tr><td>164</td><td>Kiss János</td><td>Az ürgeöntés alapjai</td><td>119</td><td>11.00</td></tr>",
                            "<tr><td>165</td><td>Szerb László</td><td>Az ürgeöntés alapjai</td><td>119</td><td>11.00</td></tr>",
                            "<tr><td>166</td><td>Szerb László</td><td>Az ürgeöntés alapjai</td><td>119</td><td>12.30</td></tr>",
                            "<tr><td>167</td><td>Szentágotai Istvás</td><td>Az ürgeöntés alapjai</td><td>120</td><td>12.30</td></tr>",
                            "<tr><td>168</td><td>Ujfalussi István</td><td>Az ürgeöntés alapjai</td><td>217</td><td>11.00</td></tr>",
                            "<tr><td>169</td><td>Kovács András</td><td>Az ürgeöntés alapjai</td><td>218</td><td>9.30</td></tr>",
                            "<tr><td>170</td><td>Ludas Mátyás</td><td>Az ürgeöntés alapjai</td><td>120</td><td>9.30</td></tr>",
                            "<tr><td>171</td><td>Szénási ászló</td><td>Az ürgeöntés alapjai</td><td>220</td><td>9.30</td></tr>",
                            "<tr><td>172</td><td>Kiss János</td><td>Az ürgeöntés alapjai</td><td>119</td><td>9.30</td></tr>",
                            "<tr><td>173</td><td>Kovács András</td><td>Az ürgeöntés alapjai</td><td>119</td><td>11.00</td></tr>",
                            "<tr><td>174</td><td>Ludas Mátyás</td><td>Az ürgeöntés alapjai</td><td>219</td><td>11.00</td></tr>",
                            "<tr><td>175</td><td>Szénási ászló</td><td>Az ürgeöntés alapjai</td><td>120</td><td>12.30</td></tr>",
                            "<tr><td>176</td><td>Kovács András</td><td>Az ürgeöntés alapjai</td><td>118</td><td>12.30</td></tr>",
                            "<tr><td>177</td><td>Szentágotai Istvás</td><td>Az ürgeöntés alapjai</td><td>119</td><td>14.00</td></tr>",
                            "<tr><td>178</td><td>Vitéz János</td><td>Az ürgeöntés alapjai</td><td>220</td><td>14.00</td></tr>",
                            "<tr><td>179</td><td>Szentágotai Istvás</td><td>Az ürgeöntés alapjai</td><td>120</td><td>15.30</td></tr>",
                            "<tr><td>180</td><td>Vitéz János</td><td>Az ürgeöntés alapjai</td><td>119</td><td>15.30</td></tr>",
                            "<tr><td>181</td><td>Szentágotai Istvás</td><td>Az ürgeöntés alapjai</td><td>118</td><td>8.00</td></tr>",
                            "<tr><td>182</td><td>Vitéz János</td><td>Az ürgeöntés alapjai</td><td>219</td><td>8.00</td></tr>",
                            "<tr><td>183</td><td>Szentágotai Istvás</td><td>Az ürgeöntés alapjai</td><td>220</td><td>9.30</td></tr>",
                            "<tr><td>184</td><td>Vitéz János</td><td>Az ürgeöntés alapjai</td><td>218</td><td>9.30</td></tr>",
                            "<tr><td>185</td><td>Szentágotai Istvás</td><td>Az ürgeöntés alapjai</td><td>120</td><td>11.00</td></tr>",
                            "<tr><td>186</td><td>Nógrádi Kata</td><td>ü-business</td><td>219</td><td>12.30</td></tr>",
                            "<tr><td>187</td><td>Balkán András</td><td>Bevezetés az ürgeöntésbe</td><td>217</td><td>9.30</td></tr>",
                            "<tr><td>188</td><td>Farkasos Piroska</td><td>Bevezetés az ürgeöntésbe</td><td>VP 203.</td><td>15.30</td></tr>",
                            "<tr><td>189</td><td>Farkasos Piroska</td><td>Bevezetés az ürgeöntésbe</td><td>VP 203.</td><td>9.30</td></tr>",
                            "<tr><td>190</td><td>Farkasos Piroska</td><td>Bevezetés az ürgeöntésbe</td><td>E.2.238</td><td>11.00</td></tr>",
                            "<tr><td>191</td><td>Varga Kata</td><td>Az ürgeöntés hydrológiai alapjai II.</td><td>220</td><td>14.00</td></tr>",
                            "<tr><td>192</td><td>Varga Kata</td><td>Az ürgeöntés hydrológiai alapjai II.</td><td>119</td><td>15.30</td></tr>",
                            "<tr><td>193</td><td>Farkasos Piroska</td><td>Az ürgeöntés hydrológiai alapjai II.</td><td>217</td><td>14.00</td></tr>",
                            "<tr><td>194</td><td>Farkasos Piroska</td><td>Az ürgeöntés hydrológiai alapjai II.</td><td>E.fsz.I</td><td>15.30</td></tr>",
                            "<tr><td>195</td><td>Balkán András</td><td>Az ürgeöntés hydrológiai alapjai II.</td><td>116</td><td>14.00</td></tr>",
                            "<tr><td>196</td><td>Balkán András</td><td>Az ürgeöntés hydrológiai alapjai II.</td><td>218</td><td>15.30</td></tr>",
                            "<tr><td>197</td><td>Farkasos Piroska</td><td>Az ürgeöntés hydrológiai alapjai II.</td><td>116</td><td>8.00</td></tr>",
                            "<tr><td>198</td><td>Farkasos Piroska</td><td>Az ürgeöntés hydrológiai alapjai II.</td><td>119</td><td>9.30</td></tr>",
                            "<tr><td>199</td><td>Szabó Andrera</td><td>Az ürgeöntés hydrológiai alapjai II.</td><td>218</td><td>8.00</td></tr>",
                            "<tr><td>200</td><td>Szabó Andrera</td><td>Az ürgeöntés hydrológiai alapjai II.</td><td>220</td><td>9.30</td></tr>",
                            "<tr><td>201</td><td>Juhász András</td><td>Öntési gyakorlat</td><td>E.2.238</td><td>12.30</td></tr>",
                            "<tr><td>202</td><td>Juhász András</td><td>Öntési gyakorlat</td><td>E.3.332</td><td>14.00</td></tr>",
                            "<tr><td>203</td><td>Aranyi Mária</td><td>Az ürgeöntés hydrológiai alapjai I.</td><td>S.Asor.S3</td><td>12.30</td></tr>",
                            "<tr><td>204</td><td>Róbert Gida</td><td>Az ürgeöntés hydrológiai alapjai I.</td><td>120</td><td>14.00</td></tr>",
                            "<tr><td>205</td><td>Ujfalussi István</td><td>Az öntés elmélete</td><td>220</td><td>12.30</td></tr>",
                            "<tr><td>206</td><td>Varga Kata</td><td>Az öntés elmélete</td><td>S.Asor.S3</td><td>8.00</td></tr>",
                            "<tr><td>207</td><td>Varga Kata</td><td>Az öntés elmélete</td><td>219</td><td>12.30</td></tr>",
                            "<tr><td>208</td><td>Jogrerős Pál</td><td>Ürgevitel</td><td>VP 203.</td><td>8.00</td></tr>",
                            "<tr><td>209</td><td>Jogrerős Pál</td><td>Ürgevitel</td><td>VP 203.</td><td>9.30</td></tr>",
                            "<tr><td>210</td><td>Szép llonka</td><td>Ürgeöntés az EU-ban</td><td>E.2.238</td><td>15.30</td></tr>",
                            "<tr><td>211</td><td>Szép llonka</td><td>Ürgeöntés az EU-ban</td><td>217</td><td>17.00</td></tr>",
                            "<tr><td>212</td><td>Kiss János</td><td>Ürgeöntés az EU-ban</td><td>120</td><td>18.30</td></tr>",
                            "<tr><td>213</td><td>Kiss János</td><td>Ürgeöntés az EU-ban</td><td>218</td><td>20.00</td></tr>",
                            "<tr><td>214</td><td>Pelikán József</td><td>Az ürge anatómiája</td><td>219</td><td>11.00</td></tr>",
                            "<tr><td>215</td><td>Pelikán József</td><td>Az ürge anatómiája</td><td>E.fsz.IV.</td><td>12.30</td></tr>",
                            "<tr><td>216</td><td>Szép llonka</td><td>Az ürge anatómiája</td><td>218</td><td>11.00</td></tr>",
                            "<tr><td>217</td><td>Szép llonka</td><td>Az ürge anatómiája</td><td>217</td><td>12.30</td></tr>",
                            "<tr><td>218</td><td>Pelikán József</td><td>Az ürge anatómiája</td><td>118</td><td>15.30</td></tr>",
                            "<tr><td>219</td><td>Pelikán József</td><td>Az ürge anatómiája</td><td>219</td><td>17.00</td></tr>",
                            "<tr><td>220</td><td>Kovács László</td><td>Fejezetek az ürgék jogaiból</td><td>119</td><td>11.00</td></tr>",
                            "<tr><td>221</td><td>Kovács László</td><td>Fejezetek az ürgék jogaiból</td><td>VP 203.</td><td>11.00</td></tr>",
                            "<tr><td>222</td><td>Kovács László</td><td>Fejezetek az ürgék jogaiból</td><td>116</td><td>14.00</td></tr>",
                            "<tr><td>223</td><td>Kovács László</td><td>Fejezetek az ürgék jogaiból</td><td>S.Asor.S3</td><td>8.00</td></tr>",
                            "<tr><td>226</td><td>Szentágotai Istvás</td><td>ürgefőzés</td><td>117</td><td>11.00</td></tr>",
                            "<tr><td>227</td><td>Szentágotai Istvás</td><td>Az ürgeöntés hydrológiai alapjai I.</td><td>116</td><td>14.00</td></tr>",
                            "</table>"
                        ]
                    }
                }
            ],
            "execution_count": 5
        },
        {
            "cell_type": "markdown",
            "source": [
                "12. <span style=\"color: rgb(36, 41, 47); font-family: -apple-system, BlinkMacSystemFont, &quot;Segoe UI&quot;, Helvetica, Arial, sans-serif, &quot;Apple Color Emoji&quot;, &quot;Segoe UI Emoji&quot;; font-size: 16px;\">Készítsünk listát, amely tartalmazza az egyes órák azonosítóit, és az órán oktatott tantárgy felelősének nevét!</span>\n",
                "\n",
                "1. Rendezzük a listát a tantárgyfelelős neve szerint csökkenő sorrendbe!"
            ],
            "metadata": {
                "azdata_cell_guid": "a765e9d6-58b3-4171-872a-78f3118fd6e3"
            },
            "attachments": {}
        },
        {
            "cell_type": "code",
            "source": [
                "SELECT  o.ora_id AS 'Óraazonosító',\r\n",
                "        okt.nev AS 'Tantárgyfelelős'\r\n",
                "FROM Orak o JOIN Tantárgyak t ON o.targy = t.Tkód\r\n",
                "            JOIN Oktatok okt ON t.Tantárgyfelelős = okt.oktato_id\r\n",
                "ORDER BY okt.nev DESC"
            ],
            "metadata": {
                "azdata_cell_guid": "422e8127-b652-4d3a-bfd7-9b1637b5781e",
                "language": "sql"
            },
            "outputs": [
                {
                    "output_type": "display_data",
                    "data": {
                        "text/html": "(67 rows affected)"
                    },
                    "metadata": {}
                },
                {
                    "output_type": "display_data",
                    "data": {
                        "text/html": "Total execution time: 00:00:00.023"
                    },
                    "metadata": {}
                },
                {
                    "output_type": "execute_result",
                    "metadata": {},
                    "execution_count": 25,
                    "data": {
                        "application/vnd.dataresource+json": {
                            "schema": {
                                "fields": [
                                    {
                                        "name": "Óraazonosító"
                                    },
                                    {
                                        "name": "Tantárgyfelelős"
                                    }
                                ]
                            },
                            "data": [
                                {
                                    "Óraazonosító": "203",
                                    "Tantárgyfelelős": "Ujfalussi István"
                                },
                                {
                                    "Óraazonosító": "204",
                                    "Tantárgyfelelős": "Ujfalussi István"
                                },
                                {
                                    "Óraazonosító": "227",
                                    "Tantárgyfelelős": "Ujfalussi István"
                                },
                                {
                                    "Óraazonosító": "210",
                                    "Tantárgyfelelős": "Pelikán József"
                                },
                                {
                                    "Óraazonosító": "211",
                                    "Tantárgyfelelős": "Pelikán József"
                                },
                                {
                                    "Óraazonosító": "212",
                                    "Tantárgyfelelős": "Pelikán József"
                                },
                                {
                                    "Óraazonosító": "213",
                                    "Tantárgyfelelős": "Pelikán József"
                                },
                                {
                                    "Óraazonosító": "214",
                                    "Tantárgyfelelős": "Pelikán József"
                                },
                                {
                                    "Óraazonosító": "215",
                                    "Tantárgyfelelős": "Pelikán József"
                                },
                                {
                                    "Óraazonosító": "216",
                                    "Tantárgyfelelős": "Pelikán József"
                                },
                                {
                                    "Óraazonosító": "217",
                                    "Tantárgyfelelős": "Pelikán József"
                                },
                                {
                                    "Óraazonosító": "218",
                                    "Tantárgyfelelős": "Pelikán József"
                                },
                                {
                                    "Óraazonosító": "219",
                                    "Tantárgyfelelős": "Pelikán József"
                                },
                                {
                                    "Óraazonosító": "201",
                                    "Tantárgyfelelős": "Pelikán József"
                                },
                                {
                                    "Óraazonosító": "202",
                                    "Tantárgyfelelős": "Pelikán József"
                                },
                                {
                                    "Óraazonosító": "205",
                                    "Tantárgyfelelős": "Kovács László"
                                },
                                {
                                    "Óraazonosító": "206",
                                    "Tantárgyfelelős": "Kovács László"
                                },
                                {
                                    "Óraazonosító": "207",
                                    "Tantárgyfelelős": "Kovács László"
                                },
                                {
                                    "Óraazonosító": "226",
                                    "Tantárgyfelelős": "Kovács László"
                                },
                                {
                                    "Óraazonosító": "186",
                                    "Tantárgyfelelős": "Kovács László"
                                },
                                {
                                    "Óraazonosító": "220",
                                    "Tantárgyfelelős": "Kovács László"
                                },
                                {
                                    "Óraazonosító": "221",
                                    "Tantárgyfelelős": "Kovács László"
                                },
                                {
                                    "Óraazonosító": "222",
                                    "Tantárgyfelelős": "Kovács László"
                                },
                                {
                                    "Óraazonosító": "223",
                                    "Tantárgyfelelős": "Kovács László"
                                },
                                {
                                    "Óraazonosító": "208",
                                    "Tantárgyfelelős": "Jogrerős Pál"
                                },
                                {
                                    "Óraazonosító": "209",
                                    "Tantárgyfelelős": "Jogrerős Pál"
                                },
                                {
                                    "Óraazonosító": "191",
                                    "Tantárgyfelelős": "Balkán András"
                                },
                                {
                                    "Óraazonosító": "192",
                                    "Tantárgyfelelős": "Balkán András"
                                },
                                {
                                    "Óraazonosító": "193",
                                    "Tantárgyfelelős": "Balkán András"
                                },
                                {
                                    "Óraazonosító": "194",
                                    "Tantárgyfelelős": "Balkán András"
                                },
                                {
                                    "Óraazonosító": "195",
                                    "Tantárgyfelelős": "Balkán András"
                                },
                                {
                                    "Óraazonosító": "196",
                                    "Tantárgyfelelős": "Balkán András"
                                },
                                {
                                    "Óraazonosító": "197",
                                    "Tantárgyfelelős": "Balkán András"
                                },
                                {
                                    "Óraazonosító": "198",
                                    "Tantárgyfelelős": "Balkán András"
                                },
                                {
                                    "Óraazonosító": "199",
                                    "Tantárgyfelelős": "Balkán András"
                                },
                                {
                                    "Óraazonosító": "200",
                                    "Tantárgyfelelős": "Balkán András"
                                },
                                {
                                    "Óraazonosító": "159",
                                    "Tantárgyfelelős": "Balkán András"
                                },
                                {
                                    "Óraazonosító": "160",
                                    "Tantárgyfelelős": "Balkán András"
                                },
                                {
                                    "Óraazonosító": "161",
                                    "Tantárgyfelelős": "Balkán András"
                                },
                                {
                                    "Óraazonosító": "162",
                                    "Tantárgyfelelős": "Balkán András"
                                },
                                {
                                    "Óraazonosító": "163",
                                    "Tantárgyfelelős": "Balkán András"
                                },
                                {
                                    "Óraazonosító": "164",
                                    "Tantárgyfelelős": "Balkán András"
                                },
                                {
                                    "Óraazonosító": "165",
                                    "Tantárgyfelelős": "Balkán András"
                                },
                                {
                                    "Óraazonosító": "166",
                                    "Tantárgyfelelős": "Balkán András"
                                },
                                {
                                    "Óraazonosító": "167",
                                    "Tantárgyfelelős": "Balkán András"
                                },
                                {
                                    "Óraazonosító": "168",
                                    "Tantárgyfelelős": "Balkán András"
                                },
                                {
                                    "Óraazonosító": "169",
                                    "Tantárgyfelelős": "Balkán András"
                                },
                                {
                                    "Óraazonosító": "170",
                                    "Tantárgyfelelős": "Balkán András"
                                },
                                {
                                    "Óraazonosító": "171",
                                    "Tantárgyfelelős": "Balkán András"
                                },
                                {
                                    "Óraazonosító": "172",
                                    "Tantárgyfelelős": "Balkán András"
                                },
                                {
                                    "Óraazonosító": "173",
                                    "Tantárgyfelelős": "Balkán András"
                                },
                                {
                                    "Óraazonosító": "174",
                                    "Tantárgyfelelős": "Balkán András"
                                },
                                {
                                    "Óraazonosító": "175",
                                    "Tantárgyfelelős": "Balkán András"
                                },
                                {
                                    "Óraazonosító": "176",
                                    "Tantárgyfelelős": "Balkán András"
                                },
                                {
                                    "Óraazonosító": "177",
                                    "Tantárgyfelelős": "Balkán András"
                                },
                                {
                                    "Óraazonosító": "178",
                                    "Tantárgyfelelős": "Balkán András"
                                },
                                {
                                    "Óraazonosító": "179",
                                    "Tantárgyfelelős": "Balkán András"
                                },
                                {
                                    "Óraazonosító": "180",
                                    "Tantárgyfelelős": "Balkán András"
                                },
                                {
                                    "Óraazonosító": "181",
                                    "Tantárgyfelelős": "Balkán András"
                                },
                                {
                                    "Óraazonosító": "182",
                                    "Tantárgyfelelős": "Balkán András"
                                },
                                {
                                    "Óraazonosító": "183",
                                    "Tantárgyfelelős": "Balkán András"
                                },
                                {
                                    "Óraazonosító": "184",
                                    "Tantárgyfelelős": "Balkán András"
                                },
                                {
                                    "Óraazonosító": "185",
                                    "Tantárgyfelelős": "Balkán András"
                                },
                                {
                                    "Óraazonosító": "187",
                                    "Tantárgyfelelős": "Balkán András"
                                },
                                {
                                    "Óraazonosító": "188",
                                    "Tantárgyfelelős": "Balkán András"
                                },
                                {
                                    "Óraazonosító": "189",
                                    "Tantárgyfelelős": "Balkán András"
                                },
                                {
                                    "Óraazonosító": "190",
                                    "Tantárgyfelelős": "Balkán András"
                                }
                            ]
                        },
                        "text/html": [
                            "<table>",
                            "<tr><th>Óraazonosító</th><th>Tantárgyfelelős</th></tr>",
                            "<tr><td>203</td><td>Ujfalussi István</td></tr>",
                            "<tr><td>204</td><td>Ujfalussi István</td></tr>",
                            "<tr><td>227</td><td>Ujfalussi István</td></tr>",
                            "<tr><td>210</td><td>Pelikán József</td></tr>",
                            "<tr><td>211</td><td>Pelikán József</td></tr>",
                            "<tr><td>212</td><td>Pelikán József</td></tr>",
                            "<tr><td>213</td><td>Pelikán József</td></tr>",
                            "<tr><td>214</td><td>Pelikán József</td></tr>",
                            "<tr><td>215</td><td>Pelikán József</td></tr>",
                            "<tr><td>216</td><td>Pelikán József</td></tr>",
                            "<tr><td>217</td><td>Pelikán József</td></tr>",
                            "<tr><td>218</td><td>Pelikán József</td></tr>",
                            "<tr><td>219</td><td>Pelikán József</td></tr>",
                            "<tr><td>201</td><td>Pelikán József</td></tr>",
                            "<tr><td>202</td><td>Pelikán József</td></tr>",
                            "<tr><td>205</td><td>Kovács László</td></tr>",
                            "<tr><td>206</td><td>Kovács László</td></tr>",
                            "<tr><td>207</td><td>Kovács László</td></tr>",
                            "<tr><td>226</td><td>Kovács László</td></tr>",
                            "<tr><td>186</td><td>Kovács László</td></tr>",
                            "<tr><td>220</td><td>Kovács László</td></tr>",
                            "<tr><td>221</td><td>Kovács László</td></tr>",
                            "<tr><td>222</td><td>Kovács László</td></tr>",
                            "<tr><td>223</td><td>Kovács László</td></tr>",
                            "<tr><td>208</td><td>Jogrerős Pál</td></tr>",
                            "<tr><td>209</td><td>Jogrerős Pál</td></tr>",
                            "<tr><td>191</td><td>Balkán András</td></tr>",
                            "<tr><td>192</td><td>Balkán András</td></tr>",
                            "<tr><td>193</td><td>Balkán András</td></tr>",
                            "<tr><td>194</td><td>Balkán András</td></tr>",
                            "<tr><td>195</td><td>Balkán András</td></tr>",
                            "<tr><td>196</td><td>Balkán András</td></tr>",
                            "<tr><td>197</td><td>Balkán András</td></tr>",
                            "<tr><td>198</td><td>Balkán András</td></tr>",
                            "<tr><td>199</td><td>Balkán András</td></tr>",
                            "<tr><td>200</td><td>Balkán András</td></tr>",
                            "<tr><td>159</td><td>Balkán András</td></tr>",
                            "<tr><td>160</td><td>Balkán András</td></tr>",
                            "<tr><td>161</td><td>Balkán András</td></tr>",
                            "<tr><td>162</td><td>Balkán András</td></tr>",
                            "<tr><td>163</td><td>Balkán András</td></tr>",
                            "<tr><td>164</td><td>Balkán András</td></tr>",
                            "<tr><td>165</td><td>Balkán András</td></tr>",
                            "<tr><td>166</td><td>Balkán András</td></tr>",
                            "<tr><td>167</td><td>Balkán András</td></tr>",
                            "<tr><td>168</td><td>Balkán András</td></tr>",
                            "<tr><td>169</td><td>Balkán András</td></tr>",
                            "<tr><td>170</td><td>Balkán András</td></tr>",
                            "<tr><td>171</td><td>Balkán András</td></tr>",
                            "<tr><td>172</td><td>Balkán András</td></tr>",
                            "<tr><td>173</td><td>Balkán András</td></tr>",
                            "<tr><td>174</td><td>Balkán András</td></tr>",
                            "<tr><td>175</td><td>Balkán András</td></tr>",
                            "<tr><td>176</td><td>Balkán András</td></tr>",
                            "<tr><td>177</td><td>Balkán András</td></tr>",
                            "<tr><td>178</td><td>Balkán András</td></tr>",
                            "<tr><td>179</td><td>Balkán András</td></tr>",
                            "<tr><td>180</td><td>Balkán András</td></tr>",
                            "<tr><td>181</td><td>Balkán András</td></tr>",
                            "<tr><td>182</td><td>Balkán András</td></tr>",
                            "<tr><td>183</td><td>Balkán András</td></tr>",
                            "<tr><td>184</td><td>Balkán András</td></tr>",
                            "<tr><td>185</td><td>Balkán András</td></tr>",
                            "<tr><td>187</td><td>Balkán András</td></tr>",
                            "<tr><td>188</td><td>Balkán András</td></tr>",
                            "<tr><td>189</td><td>Balkán András</td></tr>",
                            "<tr><td>190</td><td>Balkán András</td></tr>",
                            "</table>"
                        ]
                    }
                }
            ],
            "execution_count": 25
        },
        {
            "cell_type": "markdown",
            "source": [
                "13. <span style=\"color: rgb(36, 41, 47); font-family: -apple-system, BlinkMacSystemFont, &quot;Segoe UI&quot;, Helvetica, Arial, sans-serif, &quot;Apple Color Emoji&quot;, &quot;Segoe UI Emoji&quot;; font-size: 16px;\">Készítsünk listát, amely megjeleníti, hogy az Orak táblában lévő órák közül hányat tart Dr., illetve nem Dr. titulusú tanár!</span>\n",
                "\n",
                "1. Az oszlopokat nevezzük el értelemszerűen!"
            ],
            "metadata": {
                "azdata_cell_guid": "3f9237ae-f109-401c-acb9-31d75e73331b"
            },
            "attachments": {}
        },
        {
            "cell_type": "code",
            "source": [
                ""
            ],
            "metadata": {
                "azdata_cell_guid": "4b31bb89-cfbc-46b1-8639-85c462877786",
                "language": "sql"
            },
            "outputs": [],
            "execution_count": null
        },
        {
            "cell_type": "markdown",
            "source": [
                "14. <span style=\"color: rgb(36, 41, 47); font-family: -apple-system, BlinkMacSystemFont, &quot;Segoe UI&quot;, Helvetica, Arial, sans-serif, &quot;Apple Color Emoji&quot;, &quot;Segoe UI Emoji&quot;; font-size: 16px;\">Készítsünk listát arról, hogy beosztásonként hány óra szerepel az Orak táblában!</span>\n",
                "\n",
                "1. Jelenítsük meg a beosztások nevét és az órák számát!\n",
                "2. A listát szűrjük azokra a beosztásokra, ahol ez az óraszám 10 feletti!"
            ],
            "metadata": {
                "azdata_cell_guid": "f634e09a-85ef-4e70-8ec6-ef355dfddaa7"
            },
            "attachments": {}
        },
        {
            "cell_type": "code",
            "source": [
                ""
            ],
            "metadata": {
                "azdata_cell_guid": "88abc55b-2c78-495b-a72f-3f8f4eb5fe70",
                "language": "sql"
            },
            "outputs": [],
            "execution_count": null
        },
        {
            "cell_type": "markdown",
            "source": [
                "15. <span style=\"color: rgb(36, 41, 47); font-family: -apple-system, BlinkMacSystemFont, &quot;Segoe UI&quot;, Helvetica, Arial, sans-serif, &quot;Apple Color Emoji&quot;, &quot;Segoe UI Emoji&quot;; font-size: 16px;\">Melyek azok az órák, amelyek kezdési időpontja olyan sávba esik, amely a mostani időpont (óra:perc) után van?</span>\n",
                "\n",
                "1. Listázzuk az órák azonosítóit, valamint az órakezdés napját és időpontját!\n",
                "2. A listát rendezzük az időpont szerint növekvő sorrendbe!"
            ],
            "metadata": {
                "azdata_cell_guid": "4cbf2f0d-a65d-480a-8186-ccdb24498443"
            },
            "attachments": {}
        },
        {
            "cell_type": "code",
            "source": [
                ""
            ],
            "metadata": {
                "azdata_cell_guid": "c148aee8-bc85-40bf-b80a-a4898a6c05cb",
                "language": "sql"
            },
            "outputs": [],
            "execution_count": null
        }
    ]
}