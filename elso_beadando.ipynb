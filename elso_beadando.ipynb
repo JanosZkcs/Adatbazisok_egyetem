{
    "metadata": {
        "kernelspec": {
            "name": "SQL",
            "display_name": "SQL",
            "language": "sql"
        },
        "language_info": {
            "name": "sql",
            "version": ""
        }
    },
    "nbformat_minor": 2,
    "nbformat": 4,
    "cells": [
        {
            "cell_type": "markdown",
            "source": [
                "Adatbázis: \"szallashely\"; tábla: Szoba."
            ],
            "metadata": {
                "azdata_cell_guid": "452dafae-1360-41eb-9cf7-68f75c20764f"
            },
            "attachments": {}
        },
        {
            "cell_type": "code",
            "source": [
                "SELECT DISTINCT FEROHELY\r\n",
                "FROM Szoba"
            ],
            "metadata": {
                "azdata_cell_guid": "169078ef-0f1b-4a83-a9ac-bdb09c16099a",
                "language": "sql"
            },
            "outputs": [
                {
                    "output_type": "display_data",
                    "data": {
                        "text/html": "(4 rows affected)"
                    },
                    "metadata": {}
                },
                {
                    "output_type": "display_data",
                    "data": {
                        "text/html": "Total execution time: 00:00:00.014"
                    },
                    "metadata": {}
                },
                {
                    "output_type": "execute_result",
                    "metadata": {},
                    "execution_count": 1,
                    "data": {
                        "application/vnd.dataresource+json": {
                            "schema": {
                                "fields": [
                                    {
                                        "name": "FEROHELY"
                                    }
                                ]
                            },
                            "data": [
                                {
                                    "FEROHELY": "1"
                                },
                                {
                                    "FEROHELY": "2"
                                },
                                {
                                    "FEROHELY": "3"
                                },
                                {
                                    "FEROHELY": "4"
                                }
                            ]
                        },
                        "text/html": [
                            "<table>",
                            "<tr><th>FEROHELY</th></tr>",
                            "<tr><td>1</td></tr>",
                            "<tr><td>2</td></tr>",
                            "<tr><td>3</td></tr>",
                            "<tr><td>4</td></tr>",
                            "</table>"
                        ]
                    }
                }
            ],
            "execution_count": 1
        },
        {
            "cell_type": "code",
            "source": [
                "SELECT  COUNT(SZOBA_ID) as 'Szobák száma',\r\n",
                "        (FEROHELY + POTAGY) AS 'Maximális kapacitás'\r\n",
                "FROM Szoba\r\n",
                "GROUP BY (FEROHELY + POTAGY)\r\n",
                ""
            ],
            "metadata": {
                "azdata_cell_guid": "053b6d2a-8b41-4b97-87aa-3c7110e73b93",
                "language": "sql",
                "tags": []
            },
            "outputs": [
                {
                    "output_type": "display_data",
                    "data": {
                        "text/html": "(5 rows affected)"
                    },
                    "metadata": {}
                },
                {
                    "output_type": "display_data",
                    "data": {
                        "text/html": "Total execution time: 00:00:00.016"
                    },
                    "metadata": {}
                },
                {
                    "output_type": "execute_result",
                    "metadata": {
                        "azdata_chartOptions": {
                            "type": "bar",
                            "dataDirection": "horizontal",
                            "columnsAsLabels": true,
                            "labelFirstColumn": false,
                            "legendPosition": "top"
                        }
                    },
                    "execution_count": 2,
                    "data": {
                        "application/vnd.dataresource+json": {
                            "schema": {
                                "fields": [
                                    {
                                        "name": "Szobák száma"
                                    },
                                    {
                                        "name": "Maximális kapacitás"
                                    }
                                ]
                            },
                            "data": [
                                {
                                    "Szobák száma": "1",
                                    "Maximális kapacitás": "1"
                                },
                                {
                                    "Szobák száma": "73",
                                    "Maximális kapacitás": "2"
                                },
                                {
                                    "Szobák száma": "148",
                                    "Maximális kapacitás": "3"
                                },
                                {
                                    "Szobák száma": "58",
                                    "Maximális kapacitás": "4"
                                },
                                {
                                    "Szobák száma": "14",
                                    "Maximális kapacitás": "5"
                                }
                            ]
                        },
                        "text/html": [
                            "<table>",
                            "<tr><th>Szobák száma</th><th>Maximális kapacitás</th></tr>",
                            "<tr><td>1</td><td>1</td></tr>",
                            "<tr><td>73</td><td>2</td></tr>",
                            "<tr><td>148</td><td>3</td></tr>",
                            "<tr><td>58</td><td>4</td></tr>",
                            "<tr><td>14</td><td>5</td></tr>",
                            "</table>"
                        ]
                    }
                }
            ],
            "execution_count": 2
        },
        {
            "cell_type": "code",
            "source": [
                "SELECT  COUNT(SZOBA_ID) AS 'Szobák',\r\n",
                "        KLIMAS,\r\n",
                "        FEROHELY\r\n",
                "FROM Szoba\r\n",
                "GROUP BY ROLLUP(KLIMAS,FEROHELY) --Hány klímás és nem klímás szoba van,ill. férőhelyük"
            ],
            "metadata": {
                "azdata_cell_guid": "4594a5ee-ca92-4a47-a368-bacb7ed84a19",
                "language": "sql"
            },
            "outputs": [
                {
                    "output_type": "display_data",
                    "data": {
                        "text/html": "(9 rows affected)"
                    },
                    "metadata": {}
                },
                {
                    "output_type": "display_data",
                    "data": {
                        "text/html": "Total execution time: 00:00:00.018"
                    },
                    "metadata": {}
                },
                {
                    "output_type": "execute_result",
                    "metadata": {},
                    "execution_count": 3,
                    "data": {
                        "application/vnd.dataresource+json": {
                            "schema": {
                                "fields": [
                                    {
                                        "name": "Szobák"
                                    },
                                    {
                                        "name": "KLIMAS"
                                    },
                                    {
                                        "name": "FEROHELY"
                                    }
                                ]
                            },
                            "data": [
                                {
                                    "Szobák": "123",
                                    "KLIMAS": "i",
                                    "FEROHELY": "2"
                                },
                                {
                                    "Szobák": "91",
                                    "KLIMAS": "i",
                                    "FEROHELY": "3"
                                },
                                {
                                    "Szobák": "1",
                                    "KLIMAS": "i",
                                    "FEROHELY": "4"
                                },
                                {
                                    "Szobák": "215",
                                    "KLIMAS": "i",
                                    "FEROHELY": "NULL"
                                },
                                {
                                    "Szobák": "2",
                                    "KLIMAS": "n",
                                    "FEROHELY": "1"
                                },
                                {
                                    "Szobák": "41",
                                    "KLIMAS": "n",
                                    "FEROHELY": "2"
                                },
                                {
                                    "Szobák": "36",
                                    "KLIMAS": "n",
                                    "FEROHELY": "3"
                                },
                                {
                                    "Szobák": "79",
                                    "KLIMAS": "n",
                                    "FEROHELY": "NULL"
                                },
                                {
                                    "Szobák": "294",
                                    "KLIMAS": "NULL",
                                    "FEROHELY": "NULL"
                                }
                            ]
                        },
                        "text/html": [
                            "<table>",
                            "<tr><th>Szobák</th><th>KLIMAS</th><th>FEROHELY</th></tr>",
                            "<tr><td>123</td><td>i</td><td>2</td></tr>",
                            "<tr><td>91</td><td>i</td><td>3</td></tr>",
                            "<tr><td>1</td><td>i</td><td>4</td></tr>",
                            "<tr><td>215</td><td>i</td><td>NULL</td></tr>",
                            "<tr><td>2</td><td>n</td><td>1</td></tr>",
                            "<tr><td>41</td><td>n</td><td>2</td></tr>",
                            "<tr><td>36</td><td>n</td><td>3</td></tr>",
                            "<tr><td>79</td><td>n</td><td>NULL</td></tr>",
                            "<tr><td>294</td><td>NULL</td><td>NULL</td></tr>",
                            "</table>"
                        ]
                    }
                }
            ],
            "execution_count": 3
        },
        {
            "cell_type": "code",
            "source": [
                "SELECT  AVG(FEROHELY) AS 'Átlag férőhely'\r\n",
                "FROM Szoba"
            ],
            "metadata": {
                "azdata_cell_guid": "4183dce0-7fc4-459b-b9ac-8c2f7a9e1ef5",
                "language": "sql"
            },
            "outputs": [
                {
                    "output_type": "display_data",
                    "data": {
                        "text/html": "(1 row affected)"
                    },
                    "metadata": {}
                },
                {
                    "output_type": "display_data",
                    "data": {
                        "text/html": "Total execution time: 00:00:00.014"
                    },
                    "metadata": {}
                },
                {
                    "output_type": "execute_result",
                    "metadata": {},
                    "execution_count": 4,
                    "data": {
                        "application/vnd.dataresource+json": {
                            "schema": {
                                "fields": [
                                    {
                                        "name": "Átlag férőhely"
                                    }
                                ]
                            },
                            "data": [
                                {
                                    "Átlag férőhely": "2"
                                }
                            ]
                        },
                        "text/html": [
                            "<table>",
                            "<tr><th>Átlag férőhely</th></tr>",
                            "<tr><td>2</td></tr>",
                            "</table>"
                        ]
                    }
                }
            ],
            "execution_count": 4
        }
    ]
}