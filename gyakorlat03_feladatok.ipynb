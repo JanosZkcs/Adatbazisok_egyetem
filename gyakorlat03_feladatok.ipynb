{
    "metadata": {
        "kernelspec": {
            "name": "SQL",
            "display_name": "SQL",
            "language": "sql"
        },
        "language_info": {
            "name": "sql",
            "version": ""
        },
        "extensions": {
            "azuredatastudio": {
                "version": 1,
                "views": []
            }
        }
    },
    "nbformat_minor": 2,
    "nbformat": 4,
    "cells": [
        {
            "cell_type": "markdown",
            "source": [
                "**Az első 5 feladat ismétlés (többtáblás lekérdezések) a tanulmányi adatbázisból**\n",
                "\n",
                "1. Készítsünk listát arról, hogy melyik óra melyik teremben van!\n",
                "    \n",
                "    1. Jelenítsük meg az óra azonosítóját és a terem nevét!\n",
                "    2. A listát szűrjük a 3 karakter hosszú, \\[100;199\\] zárt intervallumba eső termekre! Feltesszük, hogy a 3 karakter hosszú terem nevek csak számjegyeket tartalmaznak."
            ],
            "metadata": {
                "azdata_cell_guid": "77f2d5b3-38e9-41cc-893f-f5afd02b97ef"
            },
            "attachments": {}
        },
        {
            "cell_type": "code",
            "source": [
                "SELECT  o.ora_id, \r\n",
                "        T.terem\r\n",
                "FROM Orak o JOIN Termek T ON o.terem = T.Tkód\r\n",
                "WHERE LEN(T.Terem) = 3 AND T.Terem BETWEEN 100 AND 199"
            ],
            "metadata": {
                "azdata_cell_guid": "bd3cef1a-4e6e-4ece-9dc3-aaa9d2b5d66d",
                "language": "sql"
            },
            "outputs": [
                {
                    "output_type": "display_data",
                    "data": {
                        "text/html": "(30 rows affected)"
                    },
                    "metadata": {}
                },
                {
                    "output_type": "display_data",
                    "data": {
                        "text/html": "Total execution time: 00:00:00.090"
                    },
                    "metadata": {}
                },
                {
                    "output_type": "execute_result",
                    "execution_count": 2,
                    "data": {
                        "application/vnd.dataresource+json": {
                            "schema": {
                                "fields": [
                                    {
                                        "name": "ora_id"
                                    },
                                    {
                                        "name": "terem"
                                    }
                                ]
                            },
                            "data": [
                                {
                                    "ora_id": "159",
                                    "terem": "117"
                                },
                                {
                                    "ora_id": "160",
                                    "terem": "118"
                                },
                                {
                                    "ora_id": "161",
                                    "terem": "118"
                                },
                                {
                                    "ora_id": "162",
                                    "terem": "119"
                                },
                                {
                                    "ora_id": "163",
                                    "terem": "120"
                                },
                                {
                                    "ora_id": "164",
                                    "terem": "119"
                                },
                                {
                                    "ora_id": "165",
                                    "terem": "119"
                                },
                                {
                                    "ora_id": "166",
                                    "terem": "119"
                                },
                                {
                                    "ora_id": "167",
                                    "terem": "120"
                                },
                                {
                                    "ora_id": "170",
                                    "terem": "120"
                                },
                                {
                                    "ora_id": "172",
                                    "terem": "119"
                                },
                                {
                                    "ora_id": "173",
                                    "terem": "119"
                                },
                                {
                                    "ora_id": "175",
                                    "terem": "120"
                                },
                                {
                                    "ora_id": "176",
                                    "terem": "118"
                                },
                                {
                                    "ora_id": "177",
                                    "terem": "119"
                                },
                                {
                                    "ora_id": "179",
                                    "terem": "120"
                                },
                                {
                                    "ora_id": "180",
                                    "terem": "119"
                                },
                                {
                                    "ora_id": "181",
                                    "terem": "118"
                                },
                                {
                                    "ora_id": "185",
                                    "terem": "120"
                                },
                                {
                                    "ora_id": "192",
                                    "terem": "119"
                                },
                                {
                                    "ora_id": "195",
                                    "terem": "116"
                                },
                                {
                                    "ora_id": "197",
                                    "terem": "116"
                                },
                                {
                                    "ora_id": "198",
                                    "terem": "119"
                                },
                                {
                                    "ora_id": "204",
                                    "terem": "120"
                                },
                                {
                                    "ora_id": "212",
                                    "terem": "120"
                                },
                                {
                                    "ora_id": "218",
                                    "terem": "118"
                                },
                                {
                                    "ora_id": "220",
                                    "terem": "119"
                                },
                                {
                                    "ora_id": "222",
                                    "terem": "116"
                                },
                                {
                                    "ora_id": "226",
                                    "terem": "117"
                                },
                                {
                                    "ora_id": "227",
                                    "terem": "116"
                                }
                            ]
                        },
                        "text/html": "<table><tr><th>ora_id</th><th>terem</th></tr><tr><td>159</td><td>117</td></tr><tr><td>160</td><td>118</td></tr><tr><td>161</td><td>118</td></tr><tr><td>162</td><td>119</td></tr><tr><td>163</td><td>120</td></tr><tr><td>164</td><td>119</td></tr><tr><td>165</td><td>119</td></tr><tr><td>166</td><td>119</td></tr><tr><td>167</td><td>120</td></tr><tr><td>170</td><td>120</td></tr><tr><td>172</td><td>119</td></tr><tr><td>173</td><td>119</td></tr><tr><td>175</td><td>120</td></tr><tr><td>176</td><td>118</td></tr><tr><td>177</td><td>119</td></tr><tr><td>179</td><td>120</td></tr><tr><td>180</td><td>119</td></tr><tr><td>181</td><td>118</td></tr><tr><td>185</td><td>120</td></tr><tr><td>192</td><td>119</td></tr><tr><td>195</td><td>116</td></tr><tr><td>197</td><td>116</td></tr><tr><td>198</td><td>119</td></tr><tr><td>204</td><td>120</td></tr><tr><td>212</td><td>120</td></tr><tr><td>218</td><td>118</td></tr><tr><td>220</td><td>119</td></tr><tr><td>222</td><td>116</td></tr><tr><td>226</td><td>117</td></tr><tr><td>227</td><td>116</td></tr></table>"
                    },
                    "metadata": {}
                }
            ],
            "execution_count": 2
        },
        {
            "cell_type": "markdown",
            "source": [
                "2. <span style=\"font-weight: 600; color: rgb(36, 41, 47); font-family: -apple-system, BlinkMacSystemFont, &quot;Segoe UI&quot;, Helvetica, Arial, sans-serif, &quot;Apple Color Emoji&quot;, &quot;Segoe UI Emoji&quot;; font-size: 16px;\">Hány óra van összesen az egyes napokon?</span>\n",
                "\n",
                "1. Jelenítsük meg a napok nevét és az órák számát az adott napon!\n",
                "2. Az oszlopokat nevezzük el értelemszerűen!\n",
                "3. A listát rendezzük óraszám szerint növekvő sorrendbe!"
            ],
            "metadata": {
                "azdata_cell_guid": "88f5b4bb-f4c1-4bad-a0c7-b2592687b422"
            },
            "attachments": {}
        },
        {
            "cell_type": "code",
            "source": [
                "SELECT  COUNT(o.ora_id) AS 'Órák száma',\r\n",
                "        n.nap AS 'Napok neve'\r\n",
                "FROM Orak o JOIN Napok n ON o.nap = n.nap_id\r\n",
                "GROUP BY n.nap\r\n",
                "ORDER BY COUNT(o.ora_id)"
            ],
            "metadata": {
                "azdata_cell_guid": "e9de5726-f036-4fb9-8c33-a873955ed886",
                "language": "sql"
            },
            "outputs": [
                {
                    "output_type": "display_data",
                    "data": {
                        "text/html": "(5 rows affected)"
                    },
                    "metadata": {}
                },
                {
                    "output_type": "display_data",
                    "data": {
                        "text/html": "Total execution time: 00:00:00.016"
                    },
                    "metadata": {}
                },
                {
                    "output_type": "execute_result",
                    "execution_count": 4,
                    "data": {
                        "application/vnd.dataresource+json": {
                            "schema": {
                                "fields": [
                                    {
                                        "name": "Órák száma"
                                    },
                                    {
                                        "name": "Napok neve"
                                    }
                                ]
                            },
                            "data": [
                                {
                                    "Órák száma": "6",
                                    "Napok neve": "Péntek"
                                },
                                {
                                    "Órák száma": "6",
                                    "Napok neve": "Szerda"
                                },
                                {
                                    "Órák száma": "13",
                                    "Napok neve": "Kedd"
                                },
                                {
                                    "Órák száma": "19",
                                    "Napok neve": "Csütörtök"
                                },
                                {
                                    "Órák száma": "23",
                                    "Napok neve": "Hétfő"
                                }
                            ]
                        },
                        "text/html": "<table><tr><th>Órák száma</th><th>Napok neve</th></tr><tr><td>6</td><td>Péntek</td></tr><tr><td>6</td><td>Szerda</td></tr><tr><td>13</td><td>Kedd</td></tr><tr><td>19</td><td>Csütörtök</td></tr><tr><td>23</td><td>Hétfő</td></tr></table>"
                    },
                    "metadata": {}
                }
            ],
            "execution_count": 4
        },
        {
            "cell_type": "markdown",
            "source": [
                "3. <span style=\"font-weight: 600; color: rgb(36, 41, 47); font-family: -apple-system, BlinkMacSystemFont, &quot;Segoe UI&quot;, Helvetica, Arial, sans-serif, &quot;Apple Color Emoji&quot;, &quot;Segoe UI Emoji&quot;; font-size: 16px;\">Készítsünk listát arról, hogy melyik oktatónak hány órája van az Órák táblában!</span>\n",
                "\n",
                "1. A lista jelenítse meg az oktatók nevét, és az órák számát!\n",
                "2. Az oszlopokat nevezzük el értelemszerűen!\n",
                "3. A listából hagyjuk ki az óraadókat!"
            ],
            "metadata": {
                "azdata_cell_guid": "9e7249de-1b59-43d8-84b1-26fa7d81fc5a"
            },
            "attachments": {}
        },
        {
            "cell_type": "code",
            "source": [
                "SELECT  COUNT(o.ora_id) AS 'Órák száma',\r\n",
                "        okt.nev AS 'Név'\r\n",
                "FROM Orak o JOIN Oktatok okt ON okt.oktato_id = o.tanar \r\n",
                "            JOIN Beosztasok b ON okt.beosztás = b.beosztas_id\r\n",
                "WHERE b.beosztasnev NOT LIKE 'óraadó'\r\n",
                "GROUP BY okt.nev, okt.titulus"
            ],
            "metadata": {
                "azdata_cell_guid": "6405d3e8-a9b1-45d7-aa76-3b1e785ef6cc",
                "language": "sql"
            },
            "outputs": [
                {
                    "output_type": "display_data",
                    "data": {
                        "text/html": "(15 rows affected)"
                    },
                    "metadata": {}
                },
                {
                    "output_type": "display_data",
                    "data": {
                        "text/html": "Total execution time: 00:00:00.033"
                    },
                    "metadata": {}
                },
                {
                    "output_type": "execute_result",
                    "execution_count": 17,
                    "data": {
                        "application/vnd.dataresource+json": {
                            "schema": {
                                "fields": [
                                    {
                                        "name": "Órák száma"
                                    },
                                    {
                                        "name": "Név"
                                    }
                                ]
                            },
                            "data": [
                                {
                                    "Órák száma": "7",
                                    "Név": "Farkasos Piroska"
                                },
                                {
                                    "Órák száma": "4",
                                    "Név": "Kiss János"
                                },
                                {
                                    "Órák száma": "6",
                                    "Név": "Pelikán József"
                                },
                                {
                                    "Órák száma": "1",
                                    "Név": "Róbert Gida"
                                },
                                {
                                    "Órák száma": "2",
                                    "Név": "Szénási ászló"
                                },
                                {
                                    "Órák száma": "3",
                                    "Név": "Szerb László"
                                },
                                {
                                    "Órák száma": "4",
                                    "Név": "Vitéz János"
                                },
                                {
                                    "Órák száma": "3",
                                    "Név": "Balkán András"
                                },
                                {
                                    "Órák száma": "2",
                                    "Név": "Juhász András"
                                },
                                {
                                    "Órák száma": "4",
                                    "Név": "Kovács László"
                                },
                                {
                                    "Órák száma": "8",
                                    "Név": "Szentágotai Istvás"
                                },
                                {
                                    "Órák száma": "4",
                                    "Név": "Szép llonka"
                                },
                                {
                                    "Órák száma": "4",
                                    "Név": "Varga Kata"
                                },
                                {
                                    "Órák száma": "3",
                                    "Név": "Ujfalussi István"
                                },
                                {
                                    "Órák száma": "2",
                                    "Név": "Jogrerős Pál"
                                }
                            ]
                        },
                        "text/html": "<table><tr><th>Órák száma</th><th>Név</th></tr><tr><td>7</td><td>Farkasos Piroska</td></tr><tr><td>4</td><td>Kiss János</td></tr><tr><td>6</td><td>Pelikán József</td></tr><tr><td>1</td><td>Róbert Gida</td></tr><tr><td>2</td><td>Szénási ászló</td></tr><tr><td>3</td><td>Szerb László</td></tr><tr><td>4</td><td>Vitéz János</td></tr><tr><td>3</td><td>Balkán András</td></tr><tr><td>2</td><td>Juhász András</td></tr><tr><td>4</td><td>Kovács László</td></tr><tr><td>8</td><td>Szentágotai Istvás</td></tr><tr><td>4</td><td>Szép llonka</td></tr><tr><td>4</td><td>Varga Kata</td></tr><tr><td>3</td><td>Ujfalussi István</td></tr><tr><td>2</td><td>Jogrerős Pál</td></tr></table>"
                    },
                    "metadata": {}
                }
            ],
            "execution_count": 17
        },
        {
            "cell_type": "markdown",
            "source": [
                "4. <span style=\"color: rgb(36, 41, 47); font-family: -apple-system, BlinkMacSystemFont, &quot;Segoe UI&quot;, Helvetica, Arial, sans-serif, &quot;Apple Color Emoji&quot;, &quot;Segoe UI Emoji&quot;; font-size: 16px;\">Van-e olyan tantárgy, amelyből nincs óra?</span>\n",
                "\n",
                "1. Jelentsük meg a tantárgy nevét és a tantárgyfelelős nevét!"
            ],
            "metadata": {
                "azdata_cell_guid": "6478e469-c094-472c-a772-ccd5b5c61516"
            },
            "attachments": {}
        },
        {
            "cell_type": "code",
            "source": [
                "SELECT  t.Tantárgynév,\r\n",
                "        okt.nev\r\n",
                "FROM    Tantárgyak t LEFT JOIN Orak o ON o.targy = t.Tkód\r\n",
                "        JOIN Oktatok okt ON t.Tantárgyfelelős = okt.oktato_id\r\n",
                "WHERE o.targy IS NULL"
            ],
            "metadata": {
                "azdata_cell_guid": "02031ea2-3838-458d-839c-228e3b362b61",
                "language": "sql"
            },
            "outputs": [
                {
                    "output_type": "display_data",
                    "data": {
                        "text/html": "(1 row affected)"
                    },
                    "metadata": {}
                },
                {
                    "output_type": "display_data",
                    "data": {
                        "text/html": "Total execution time: 00:00:00.032"
                    },
                    "metadata": {}
                },
                {
                    "output_type": "execute_result",
                    "execution_count": 25,
                    "data": {
                        "application/vnd.dataresource+json": {
                            "schema": {
                                "fields": [
                                    {
                                        "name": "Tantárgynév"
                                    },
                                    {
                                        "name": "nev"
                                    }
                                ]
                            },
                            "data": [
                                {
                                    "Tantárgynév": "Folyami gáttan",
                                    "nev": "Varga Kata"
                                }
                            ]
                        },
                        "text/html": "<table><tr><th>Tantárgynév</th><th>nev</th></tr><tr><td>Folyami gáttan</td><td>Varga Kata</td></tr></table>"
                    },
                    "metadata": {}
                }
            ],
            "execution_count": 25
        },
        {
            "cell_type": "markdown",
            "source": [
                "5. <span style=\"background-color: rgb(255, 255, 255); color: rgb(36, 41, 47); font-family: -apple-system, BlinkMacSystemFont, &quot;Segoe UI&quot;, Helvetica, Arial, sans-serif, &quot;Apple Color Emoji&quot;, &quot;Segoe UI Emoji&quot;; font-size: 16px;\">Hány óra van összesen a 120-as teremben?</span>"
            ],
            "metadata": {
                "azdata_cell_guid": "9edbbaf9-c276-4898-9a01-e1b2993c089f"
            },
            "attachments": {}
        },
        {
            "cell_type": "code",
            "source": [
                "SELECT  Count(*) AS 'Órák száma',\r\n",
                "        t.Terem AS 'Terem'\r\n",
                "FROM Orak o JOIN Termek t ON o.terem = t.Tkód\r\n",
                "GROUP BY t.Terem\r\n",
                "HAVING t.Terem LIKE '120'"
            ],
            "metadata": {
                "azdata_cell_guid": "5ad5fdcb-2878-4111-861a-833bcd50e935",
                "language": "sql"
            },
            "outputs": [
                {
                    "output_type": "display_data",
                    "data": {
                        "text/html": "(1 row affected)"
                    },
                    "metadata": {}
                },
                {
                    "output_type": "display_data",
                    "data": {
                        "text/html": "Total execution time: 00:00:00.021"
                    },
                    "metadata": {}
                },
                {
                    "output_type": "execute_result",
                    "metadata": {},
                    "execution_count": 7,
                    "data": {
                        "application/vnd.dataresource+json": {
                            "schema": {
                                "fields": [
                                    {
                                        "name": "Órák száma"
                                    },
                                    {
                                        "name": "Terem"
                                    }
                                ]
                            },
                            "data": [
                                {
                                    "Órák száma": "8",
                                    "Terem": "120"
                                }
                            ]
                        },
                        "text/html": [
                            "<table>",
                            "<tr><th>Órák száma</th><th>Terem</th></tr>",
                            "<tr><td>8</td><td>120</td></tr>",
                            "</table>"
                        ]
                    }
                }
            ],
            "execution_count": 7
        },
        {
            "cell_type": "markdown",
            "source": [
                "**A 6-10 feladatokat halmazműveletek segítségével oldjuk meg, szintén a tanulmányi adatbázison**\n",
                "\n",
                "6. <span style=\"background-color:rgb(255, 255, 255);color:rgb(36, 41, 47);font-family:-apple-system, BlinkMacSystemFont, &quot;Segoe UI&quot;, Helvetica, Arial, sans-serif, &quot;Apple Color Emoji&quot;, &quot;Segoe UI Emoji&quot;;font-size:16px;font-weight:600;\">Jelenítsük meg azon tanárok azonosítóját és nevét, akik hétfői vagy keddi napokon tanítanak!</span>"
            ],
            "metadata": {
                "azdata_cell_guid": "5fe65c1c-2479-45ac-ad03-ec99d12eae21"
            },
            "attachments": {}
        },
        {
            "cell_type": "code",
            "source": [
                "SELECT okt.nev,\r\n",
                "        okt.oktato_id,\r\n",
                "        n.nap\r\n",
                "FROM Orak o JOIN Napok n ON o.nap = n.nap_id\r\n",
                "            JOIN Oktatok okt ON o.tanar = okt.oktato_id\r\n",
                "WHERE n.nap = 'Kedd'\r\n",
                "\r\n",
                "UNION\r\n",
                "\r\n",
                "SELECT okt.nev,\r\n",
                "        okt.oktato_id,\r\n",
                "        n.nap\r\n",
                "FROM Orak o JOIN Napok n ON o.nap = n.nap_id\r\n",
                "            JOIN Oktatok okt ON o.tanar = okt.oktato_id\r\n",
                "WHERE n.nap = 'Hétfő'\r\n",
                "ORDER BY n.nap --Nem feladat,de ellenőrizés végett írtam"
            ],
            "metadata": {
                "azdata_cell_guid": "924f2dde-f1c2-4def-a7f9-dbf4bace7735",
                "language": "sql",
                "tags": []
            },
            "outputs": [
                {
                    "output_type": "display_data",
                    "data": {
                        "text/html": "(21 rows affected)"
                    },
                    "metadata": {}
                },
                {
                    "output_type": "display_data",
                    "data": {
                        "text/html": "Total execution time: 00:00:00.031"
                    },
                    "metadata": {}
                },
                {
                    "output_type": "execute_result",
                    "metadata": {},
                    "execution_count": 16,
                    "data": {
                        "application/vnd.dataresource+json": {
                            "schema": {
                                "fields": [
                                    {
                                        "name": "nev"
                                    },
                                    {
                                        "name": "oktato_id"
                                    },
                                    {
                                        "name": "nap"
                                    }
                                ]
                            },
                            "data": [
                                {
                                    "nev": "Aranyi Mária",
                                    "oktato_id": "200",
                                    "nap": "Hétfő"
                                },
                                {
                                    "nev": "Balkán András",
                                    "oktato_id": "5",
                                    "nap": "Hétfő"
                                },
                                {
                                    "nev": "Farkasos Piroska",
                                    "oktato_id": "9",
                                    "nap": "Hétfő"
                                },
                                {
                                    "nev": "Jogrerős Pál",
                                    "oktato_id": "10",
                                    "nap": "Hétfő"
                                },
                                {
                                    "nev": "Kiss János",
                                    "oktato_id": "7",
                                    "nap": "Hétfő"
                                },
                                {
                                    "nev": "Kovács András",
                                    "oktato_id": "20",
                                    "nap": "Hétfő"
                                },
                                {
                                    "nev": "Ludas Mátyás",
                                    "oktato_id": "104",
                                    "nap": "Hétfő"
                                },
                                {
                                    "nev": "Pelikán József",
                                    "oktato_id": "8",
                                    "nap": "Hétfő"
                                },
                                {
                                    "nev": "Szentágotai Istvás",
                                    "oktato_id": "2",
                                    "nap": "Hétfő"
                                },
                                {
                                    "nev": "Szép llonka",
                                    "oktato_id": "6",
                                    "nap": "Hétfő"
                                },
                                {
                                    "nev": "Ujfalussi István",
                                    "oktato_id": "4",
                                    "nap": "Hétfő"
                                },
                                {
                                    "nev": "Varga Kata",
                                    "oktato_id": "12",
                                    "nap": "Hétfő"
                                },
                                {
                                    "nev": "Kiss János",
                                    "oktato_id": "7",
                                    "nap": "Kedd"
                                },
                                {
                                    "nev": "Kovács László",
                                    "oktato_id": "1",
                                    "nap": "Kedd"
                                },
                                {
                                    "nev": "Nógrádi Kata",
                                    "oktato_id": "18",
                                    "nap": "Kedd"
                                },
                                {
                                    "nev": "Pelikán József",
                                    "oktato_id": "8",
                                    "nap": "Kedd"
                                },
                                {
                                    "nev": "Róbert Gida",
                                    "oktato_id": "108",
                                    "nap": "Kedd"
                                },
                                {
                                    "nev": "Szénási ászló",
                                    "oktato_id": "14",
                                    "nap": "Kedd"
                                },
                                {
                                    "nev": "Szentágotai Istvás",
                                    "oktato_id": "2",
                                    "nap": "Kedd"
                                },
                                {
                                    "nev": "Szerb László",
                                    "oktato_id": "3",
                                    "nap": "Kedd"
                                },
                                {
                                    "nev": "Varga Kata",
                                    "oktato_id": "12",
                                    "nap": "Kedd"
                                }
                            ]
                        },
                        "text/html": [
                            "<table>",
                            "<tr><th>nev</th><th>oktato_id</th><th>nap</th></tr>",
                            "<tr><td>Aranyi Mária</td><td>200</td><td>Hétfő</td></tr>",
                            "<tr><td>Balkán András</td><td>5</td><td>Hétfő</td></tr>",
                            "<tr><td>Farkasos Piroska</td><td>9</td><td>Hétfő</td></tr>",
                            "<tr><td>Jogrerős Pál</td><td>10</td><td>Hétfő</td></tr>",
                            "<tr><td>Kiss János</td><td>7</td><td>Hétfő</td></tr>",
                            "<tr><td>Kovács András</td><td>20</td><td>Hétfő</td></tr>",
                            "<tr><td>Ludas Mátyás</td><td>104</td><td>Hétfő</td></tr>",
                            "<tr><td>Pelikán József</td><td>8</td><td>Hétfő</td></tr>",
                            "<tr><td>Szentágotai Istvás</td><td>2</td><td>Hétfő</td></tr>",
                            "<tr><td>Szép llonka</td><td>6</td><td>Hétfő</td></tr>",
                            "<tr><td>Ujfalussi István</td><td>4</td><td>Hétfő</td></tr>",
                            "<tr><td>Varga Kata</td><td>12</td><td>Hétfő</td></tr>",
                            "<tr><td>Kiss János</td><td>7</td><td>Kedd</td></tr>",
                            "<tr><td>Kovács László</td><td>1</td><td>Kedd</td></tr>",
                            "<tr><td>Nógrádi Kata</td><td>18</td><td>Kedd</td></tr>",
                            "<tr><td>Pelikán József</td><td>8</td><td>Kedd</td></tr>",
                            "<tr><td>Róbert Gida</td><td>108</td><td>Kedd</td></tr>",
                            "<tr><td>Szénási ászló</td><td>14</td><td>Kedd</td></tr>",
                            "<tr><td>Szentágotai Istvás</td><td>2</td><td>Kedd</td></tr>",
                            "<tr><td>Szerb László</td><td>3</td><td>Kedd</td></tr>",
                            "<tr><td>Varga Kata</td><td>12</td><td>Kedd</td></tr>",
                            "</table>"
                        ]
                    }
                }
            ],
            "execution_count": 16
        },
        {
            "cell_type": "markdown",
            "source": [
                "7. <span style=\"background-color: rgb(255, 255, 255); color: rgb(36, 41, 47); font-family: -apple-system, BlinkMacSystemFont, &quot;Segoe UI&quot;, Helvetica, Arial, sans-serif, &quot;Apple Color Emoji&quot;, &quot;Segoe UI Emoji&quot;; font-size: 16px; font-weight: 600;\">Melyek azok a tantárgyak, amelyek esetén van óra a 8.00-kor kezdődő sávban, de nincs a 12.30-kor kezdődő sávban?</span>"
            ],
            "metadata": {
                "azdata_cell_guid": "3aeb6bf5-b111-40d5-92b2-9712ce335696"
            },
            "attachments": {}
        },
        {
            "cell_type": "code",
            "source": [
                "--8-kor kezdődik\r\n",
                "SELECT t.Tantárgynév\r\n",
                "FROM Orak o JOIN Savok s ON s.Sav_id = o.Sav\r\n",
                "    JOIN Tantárgyak t ON t.Tkód = o.targy\r\n",
                "WHERE s.Időpont = '8.00'\r\n",
                "\r\n",
                "EXCEPT\r\n",
                "\r\n",
                "--12:30-kor kezdődik\r\n",
                "SELECT t.Tantárgynév\r\n",
                "FROM Orak o JOIN Savok s ON s.Sav_id = o.Sav\r\n",
                "    JOIN Tantárgyak t ON t.Tkód = o.targy\r\n",
                "WHERE s.Időpont = '12.30'"
            ],
            "metadata": {
                "azdata_cell_guid": "3e89b651-f56f-4102-af52-30eb2bbe360d",
                "language": "sql"
            },
            "outputs": [
                {
                    "output_type": "display_data",
                    "data": {
                        "text/html": "(3 rows affected)"
                    },
                    "metadata": {}
                },
                {
                    "output_type": "display_data",
                    "data": {
                        "text/html": "Total execution time: 00:00:00.019"
                    },
                    "metadata": {}
                },
                {
                    "output_type": "execute_result",
                    "execution_count": 30,
                    "data": {
                        "application/vnd.dataresource+json": {
                            "schema": {
                                "fields": [
                                    {
                                        "name": "Tantárgynév"
                                    }
                                ]
                            },
                            "data": [
                                {
                                    "Tantárgynév": "Az ürgeöntés hydrológiai alapjai II."
                                },
                                {
                                    "Tantárgynév": "Fejezetek az ürgék jogaiból"
                                },
                                {
                                    "Tantárgynév": "Ürgevitel"
                                }
                            ]
                        },
                        "text/html": "<table><tr><th>Tantárgynév</th></tr><tr><td>Az ürgeöntés hydrológiai alapjai II.</td></tr><tr><td>Fejezetek az ürgék jogaiból</td></tr><tr><td>Ürgevitel</td></tr></table>"
                    },
                    "metadata": {}
                }
            ],
            "execution_count": 30
        },
        {
            "cell_type": "markdown",
            "source": [
                "8. <span style=\"background-color: rgb(255, 255, 255); color: rgb(36, 41, 47); font-family: -apple-system, BlinkMacSystemFont, &quot;Segoe UI&quot;, Helvetica, Arial, sans-serif, &quot;Apple Color Emoji&quot;, &quot;Segoe UI Emoji&quot;; font-size: 16px; font-weight: 600;\">Listázzuk azokat a termeket, amelyekben oktat Kovács László és van olyan tanóra a teremben, ahol a tantárgy nevében nem szerepel az 'ürge' szó!</span>"
            ],
            "metadata": {
                "azdata_cell_guid": "26a504dc-ff6a-439f-94c0-4580eca3eacf"
            },
            "attachments": {}
        },
        {
            "cell_type": "code",
            "source": [
                "SELECT t.Terem,\r\n",
                "        okt.nev,\r\n",
                "        tt.Tantárgynév\r\n",
                "FROM Orak o JOIN Oktatok okt ON o.tanar = okt.oktato_id\r\n",
                "    JOIN Termek t ON o.terem = t.Tkód\r\n",
                "    JOIN Tantárgyak tt ON o.targy = tt.Tkód\r\n",
                "WHERE okt.nev = 'Kovács László'\r\n",
                "\r\n",
                "INTERSECT\r\n",
                "\r\n",
                "SELECT t.Terem,\r\n",
                "        okt.nev,\r\n",
                "        tt.Tantárgynév\r\n",
                "FROM Orak o JOIN Oktatok okt ON o.tanar = okt.oktato_id\r\n",
                "    JOIN Termek t ON o.terem = t.Tkód\r\n",
                "    JOIN Tantárgyak tt ON o.targy = tt.Tkód\r\n",
                "WHERE tt.Tantárgynév NOT LIKE '%ürge%' --a konkrét ürge szó nincs benne,csak ragozott formája :)"
            ],
            "metadata": {
                "azdata_cell_guid": "1cbb8aeb-78b5-4350-aa45-e3202fdab85b",
                "language": "sql"
            },
            "outputs": [
                {
                    "output_type": "display_data",
                    "data": {
                        "text/html": "(4 rows affected)"
                    },
                    "metadata": {}
                },
                {
                    "output_type": "display_data",
                    "data": {
                        "text/html": "Total execution time: 00:00:00.050"
                    },
                    "metadata": {}
                },
                {
                    "output_type": "execute_result",
                    "metadata": {},
                    "execution_count": 19,
                    "data": {
                        "application/vnd.dataresource+json": {
                            "schema": {
                                "fields": [
                                    {
                                        "name": "Terem"
                                    },
                                    {
                                        "name": "nev"
                                    },
                                    {
                                        "name": "Tantárgynév"
                                    }
                                ]
                            },
                            "data": [
                                {
                                    "Terem": "116",
                                    "nev": "Kovács László",
                                    "Tantárgynév": "Fejezetek az ürgék jogaiból"
                                },
                                {
                                    "Terem": "119",
                                    "nev": "Kovács László",
                                    "Tantárgynév": "Fejezetek az ürgék jogaiból"
                                },
                                {
                                    "Terem": "S.Asor.S3",
                                    "nev": "Kovács László",
                                    "Tantárgynév": "Fejezetek az ürgék jogaiból"
                                },
                                {
                                    "Terem": "VP 203.",
                                    "nev": "Kovács László",
                                    "Tantárgynév": "Fejezetek az ürgék jogaiból"
                                }
                            ]
                        },
                        "text/html": [
                            "<table>",
                            "<tr><th>Terem</th><th>nev</th><th>Tantárgynév</th></tr>",
                            "<tr><td>116</td><td>Kovács László</td><td>Fejezetek az ürgék jogaiból</td></tr>",
                            "<tr><td>119</td><td>Kovács László</td><td>Fejezetek az ürgék jogaiból</td></tr>",
                            "<tr><td>S.Asor.S3</td><td>Kovács László</td><td>Fejezetek az ürgék jogaiból</td></tr>",
                            "<tr><td>VP 203.</td><td>Kovács László</td><td>Fejezetek az ürgék jogaiból</td></tr>",
                            "</table>"
                        ]
                    }
                }
            ],
            "execution_count": 19
        },
        {
            "cell_type": "markdown",
            "source": [
                "9. <span style=\"font-weight: 600; color: rgb(36, 41, 47); font-family: -apple-system, BlinkMacSystemFont, &quot;Segoe UI&quot;, Helvetica, Arial, sans-serif, &quot;Apple Color Emoji&quot;, &quot;Segoe UI Emoji&quot;; font-size: 16px;\">Készítsünk listát arról, hogy melyik tanárnak hány órája van a (munka) hét elején (hétfőn), hét közben (kedd, szerda és csütörtök), illetve a hét végén (péntek)!</span>\n",
                "\n",
                "1. Jelenítsük meg a tanár azonosítóját, nevét, az időszakot (hét eleje - hét közben - hét vége), valamint az óraszámot!\n",
                "2. A három megjelölt időszakot külön kérdezzük le, majd fűzzük össze a lekérdezések eredményeit!\n",
                "3. Rendezzük a listát az oktató neve, azon belül időszak szerint!"
            ],
            "metadata": {
                "azdata_cell_guid": "435e2860-2dd5-4877-90f4-34a43baeb53c"
            },
            "attachments": {}
        },
        {
            "cell_type": "code",
            "source": [
                "SELECT  okt.oktato_id,\r\n",
                "        okt.nev,\r\n",
                "        'Hét eleje' AS 'Időszak',\r\n",
                "        COUNT(o.ora_id) AS 'Órák száma'\r\n",
                "FROM Orak o JOIN Oktatok okt ON o.tanar = okt.oktato_id\r\n",
                "WHERE o.nap = 1\r\n",
                "GROUP BY okt.oktato_id,okt.nev,o.nap\r\n",
                "\r\n",
                "UNION\r\n",
                "\r\n",
                "SELECT  okt.oktato_id,\r\n",
                "        okt.nev,\r\n",
                "        'Hét közepe' AS 'Időszak',\r\n",
                "        COUNT(o.ora_id) AS 'Órák száma'\r\n",
                "FROM Orak o JOIN Oktatok okt ON o.tanar = okt.oktato_id\r\n",
                "WHERE o.nap BETWEEN 2 AND 4\r\n",
                "GROUP BY okt.oktato_id,okt.nev,o.nap\r\n",
                "\r\n",
                "UNION\r\n",
                "\r\n",
                "SELECT  okt.oktato_id,\r\n",
                "        okt.nev,\r\n",
                "        'Hét vége' AS 'Időszak',\r\n",
                "        COUNT(o.ora_id) AS 'Órák száma'\r\n",
                "FROM Orak o JOIN Oktatok okt ON o.tanar = okt.oktato_id\r\n",
                "WHERE o.nap = 5\r\n",
                "GROUP BY okt.oktato_id,okt.nev,o.nap"
            ],
            "metadata": {
                "azdata_cell_guid": "ce846351-ddbe-4d8e-b8fb-2a92c73ac80b",
                "language": "sql"
            },
            "outputs": [
                {
                    "output_type": "display_data",
                    "data": {
                        "text/html": "(36 rows affected)"
                    },
                    "metadata": {}
                },
                {
                    "output_type": "display_data",
                    "data": {
                        "text/html": "Total execution time: 00:00:00.035"
                    },
                    "metadata": {}
                },
                {
                    "output_type": "execute_result",
                    "metadata": {},
                    "execution_count": 33,
                    "data": {
                        "application/vnd.dataresource+json": {
                            "schema": {
                                "fields": [
                                    {
                                        "name": "oktato_id"
                                    },
                                    {
                                        "name": "nev"
                                    },
                                    {
                                        "name": "Időszak"
                                    },
                                    {
                                        "name": "Órák száma"
                                    }
                                ]
                            },
                            "data": [
                                {
                                    "oktato_id": "1",
                                    "nev": "Kovács László",
                                    "Időszak": "Hét közepe",
                                    "Órák száma": "1"
                                },
                                {
                                    "oktato_id": "1",
                                    "nev": "Kovács László",
                                    "Időszak": "Hét vége",
                                    "Órák száma": "1"
                                },
                                {
                                    "oktato_id": "2",
                                    "nev": "Szentágotai Istvás",
                                    "Időszak": "Hét eleje",
                                    "Órák száma": "1"
                                },
                                {
                                    "oktato_id": "2",
                                    "nev": "Szentágotai Istvás",
                                    "Időszak": "Hét közepe",
                                    "Órák száma": "1"
                                },
                                {
                                    "oktato_id": "2",
                                    "nev": "Szentágotai Istvás",
                                    "Időszak": "Hét közepe",
                                    "Órák száma": "3"
                                },
                                {
                                    "oktato_id": "2",
                                    "nev": "Szentágotai Istvás",
                                    "Időszak": "Hét vége",
                                    "Órák száma": "2"
                                },
                                {
                                    "oktato_id": "3",
                                    "nev": "Szerb László",
                                    "Időszak": "Hét közepe",
                                    "Órák száma": "1"
                                },
                                {
                                    "oktato_id": "3",
                                    "nev": "Szerb László",
                                    "Időszak": "Hét közepe",
                                    "Órák száma": "2"
                                },
                                {
                                    "oktato_id": "4",
                                    "nev": "Ujfalussi István",
                                    "Időszak": "Hét eleje",
                                    "Órák száma": "1"
                                },
                                {
                                    "oktato_id": "4",
                                    "nev": "Ujfalussi István",
                                    "Időszak": "Hét közepe",
                                    "Órák száma": "1"
                                },
                                {
                                    "oktato_id": "5",
                                    "nev": "Balkán András",
                                    "Időszak": "Hét eleje",
                                    "Órák száma": "2"
                                },
                                {
                                    "oktato_id": "5",
                                    "nev": "Balkán András",
                                    "Időszak": "Hét közepe",
                                    "Órák száma": "1"
                                },
                                {
                                    "oktato_id": "6",
                                    "nev": "Szép llonka",
                                    "Időszak": "Hét eleje",
                                    "Órák száma": "4"
                                },
                                {
                                    "oktato_id": "7",
                                    "nev": "Kiss János",
                                    "Időszak": "Hét eleje",
                                    "Órák száma": "2"
                                },
                                {
                                    "oktato_id": "7",
                                    "nev": "Kiss János",
                                    "Időszak": "Hét közepe",
                                    "Órák száma": "2"
                                },
                                {
                                    "oktato_id": "8",
                                    "nev": "Pelikán József",
                                    "Időszak": "Hét eleje",
                                    "Órák száma": "3"
                                },
                                {
                                    "oktato_id": "8",
                                    "nev": "Pelikán József",
                                    "Időszak": "Hét közepe",
                                    "Órák száma": "3"
                                },
                                {
                                    "oktato_id": "9",
                                    "nev": "Farkasos Piroska",
                                    "Időszak": "Hét eleje",
                                    "Órák száma": "2"
                                },
                                {
                                    "oktato_id": "9",
                                    "nev": "Farkasos Piroska",
                                    "Időszak": "Hét közepe",
                                    "Órák száma": "1"
                                },
                                {
                                    "oktato_id": "9",
                                    "nev": "Farkasos Piroska",
                                    "Időszak": "Hét közepe",
                                    "Órák száma": "3"
                                },
                                {
                                    "oktato_id": "9",
                                    "nev": "Farkasos Piroska",
                                    "Időszak": "Hét vége",
                                    "Órák száma": "1"
                                },
                                {
                                    "oktato_id": "10",
                                    "nev": "Jogrerős Pál",
                                    "Időszak": "Hét eleje",
                                    "Órák száma": "2"
                                },
                                {
                                    "oktato_id": "12",
                                    "nev": "Varga Kata",
                                    "Időszak": "Hét eleje",
                                    "Órák száma": "2"
                                },
                                {
                                    "oktato_id": "12",
                                    "nev": "Varga Kata",
                                    "Időszak": "Hét közepe",
                                    "Órák száma": "1"
                                },
                                {
                                    "oktato_id": "14",
                                    "nev": "Szénási ászló",
                                    "Időszak": "Hét közepe",
                                    "Órák száma": "1"
                                },
                                {
                                    "oktato_id": "18",
                                    "nev": "Nógrádi Kata",
                                    "Időszak": "Hét közepe",
                                    "Órák száma": "1"
                                },
                                {
                                    "oktato_id": "20",
                                    "nev": "Kovács András",
                                    "Időszak": "Hét eleje",
                                    "Órák száma": "2"
                                },
                                {
                                    "oktato_id": "20",
                                    "nev": "Kovács András",
                                    "Időszak": "Hét közepe",
                                    "Órák száma": "2"
                                },
                                {
                                    "oktato_id": "104",
                                    "nev": "Ludas Mátyás",
                                    "Időszak": "Hét eleje",
                                    "Órák száma": "1"
                                },
                                {
                                    "oktato_id": "104",
                                    "nev": "Ludas Mátyás",
                                    "Időszak": "Hét közepe",
                                    "Órák száma": "1"
                                },
                                {
                                    "oktato_id": "108",
                                    "nev": "Róbert Gida",
                                    "Időszak": "Hét közepe",
                                    "Órák száma": "1"
                                },
                                {
                                    "oktato_id": "111",
                                    "nev": "Vitéz János",
                                    "Időszak": "Hét közepe",
                                    "Órák száma": "2"
                                },
                                {
                                    "oktato_id": "111",
                                    "nev": "Vitéz János",
                                    "Időszak": "Hét vége",
                                    "Órák száma": "2"
                                },
                                {
                                    "oktato_id": "200",
                                    "nev": "Aranyi Mária",
                                    "Időszak": "Hét eleje",
                                    "Órák száma": "1"
                                },
                                {
                                    "oktato_id": "300",
                                    "nev": "Szabó Andrera",
                                    "Időszak": "Hét közepe",
                                    "Órák száma": "2"
                                },
                                {
                                    "oktato_id": "301",
                                    "nev": "Juhász András",
                                    "Időszak": "Hét közepe",
                                    "Órák száma": "2"
                                }
                            ]
                        },
                        "text/html": [
                            "<table>",
                            "<tr><th>oktato_id</th><th>nev</th><th>Időszak</th><th>Órák száma</th></tr>",
                            "<tr><td>1</td><td>Kovács László</td><td>Hét közepe</td><td>1</td></tr>",
                            "<tr><td>1</td><td>Kovács László</td><td>Hét vége</td><td>1</td></tr>",
                            "<tr><td>2</td><td>Szentágotai Istvás</td><td>Hét eleje</td><td>1</td></tr>",
                            "<tr><td>2</td><td>Szentágotai Istvás</td><td>Hét közepe</td><td>1</td></tr>",
                            "<tr><td>2</td><td>Szentágotai Istvás</td><td>Hét közepe</td><td>3</td></tr>",
                            "<tr><td>2</td><td>Szentágotai Istvás</td><td>Hét vége</td><td>2</td></tr>",
                            "<tr><td>3</td><td>Szerb László</td><td>Hét közepe</td><td>1</td></tr>",
                            "<tr><td>3</td><td>Szerb László</td><td>Hét közepe</td><td>2</td></tr>",
                            "<tr><td>4</td><td>Ujfalussi István</td><td>Hét eleje</td><td>1</td></tr>",
                            "<tr><td>4</td><td>Ujfalussi István</td><td>Hét közepe</td><td>1</td></tr>",
                            "<tr><td>5</td><td>Balkán András</td><td>Hét eleje</td><td>2</td></tr>",
                            "<tr><td>5</td><td>Balkán András</td><td>Hét közepe</td><td>1</td></tr>",
                            "<tr><td>6</td><td>Szép llonka</td><td>Hét eleje</td><td>4</td></tr>",
                            "<tr><td>7</td><td>Kiss János</td><td>Hét eleje</td><td>2</td></tr>",
                            "<tr><td>7</td><td>Kiss János</td><td>Hét közepe</td><td>2</td></tr>",
                            "<tr><td>8</td><td>Pelikán József</td><td>Hét eleje</td><td>3</td></tr>",
                            "<tr><td>8</td><td>Pelikán József</td><td>Hét közepe</td><td>3</td></tr>",
                            "<tr><td>9</td><td>Farkasos Piroska</td><td>Hét eleje</td><td>2</td></tr>",
                            "<tr><td>9</td><td>Farkasos Piroska</td><td>Hét közepe</td><td>1</td></tr>",
                            "<tr><td>9</td><td>Farkasos Piroska</td><td>Hét közepe</td><td>3</td></tr>",
                            "<tr><td>9</td><td>Farkasos Piroska</td><td>Hét vége</td><td>1</td></tr>",
                            "<tr><td>10</td><td>Jogrerős Pál</td><td>Hét eleje</td><td>2</td></tr>",
                            "<tr><td>12</td><td>Varga Kata</td><td>Hét eleje</td><td>2</td></tr>",
                            "<tr><td>12</td><td>Varga Kata</td><td>Hét közepe</td><td>1</td></tr>",
                            "<tr><td>14</td><td>Szénási ászló</td><td>Hét közepe</td><td>1</td></tr>",
                            "<tr><td>18</td><td>Nógrádi Kata</td><td>Hét közepe</td><td>1</td></tr>",
                            "<tr><td>20</td><td>Kovács András</td><td>Hét eleje</td><td>2</td></tr>",
                            "<tr><td>20</td><td>Kovács András</td><td>Hét közepe</td><td>2</td></tr>",
                            "<tr><td>104</td><td>Ludas Mátyás</td><td>Hét eleje</td><td>1</td></tr>",
                            "<tr><td>104</td><td>Ludas Mátyás</td><td>Hét közepe</td><td>1</td></tr>",
                            "<tr><td>108</td><td>Róbert Gida</td><td>Hét közepe</td><td>1</td></tr>",
                            "<tr><td>111</td><td>Vitéz János</td><td>Hét közepe</td><td>2</td></tr>",
                            "<tr><td>111</td><td>Vitéz János</td><td>Hét vége</td><td>2</td></tr>",
                            "<tr><td>200</td><td>Aranyi Mária</td><td>Hét eleje</td><td>1</td></tr>",
                            "<tr><td>300</td><td>Szabó Andrera</td><td>Hét közepe</td><td>2</td></tr>",
                            "<tr><td>301</td><td>Juhász András</td><td>Hét közepe</td><td>2</td></tr>",
                            "</table>"
                        ]
                    }
                }
            ],
            "execution_count": 33
        },
        {
            "cell_type": "markdown",
            "source": [
                "10. <span style=\"background-color: rgb(255, 255, 255); color: rgb(36, 41, 47); font-family: -apple-system, BlinkMacSystemFont, &quot;Segoe UI&quot;, Helvetica, Arial, sans-serif, &quot;Apple Color Emoji&quot;, &quot;Segoe UI Emoji&quot;; font-size: 16px; font-weight: 600;\">Melyik napokon nincs órája Pelikán Józsefnek?</span>"
            ],
            "metadata": {
                "azdata_cell_guid": "217c5772-afe2-4a7c-b913-e3a3e09d6411"
            },
            "attachments": {}
        },
        {
            "cell_type": "code",
            "source": [
                "--A : összes nap\r\n",
                "--B :napok amikor van órája\r\n",
                "--A - B -->nincs órája\r\n",
                "SELECT nap \r\n",
                "FROM Napok\r\n",
                "\r\n",
                "EXCEPT\r\n",
                "\r\n",
                "SELECT n.nap\r\n",
                "FROM Orak o JOIN Oktatok okt ON o.tanar = okt.oktato_id\r\n",
                "        JOIN Napok n ON n.nap_id = o.nap\r\n",
                "WHERE okt.nev = 'Pelikán József'"
            ],
            "metadata": {
                "azdata_cell_guid": "a9cc0926-3dbd-4ed8-8179-1c39d64a0762",
                "language": "sql"
            },
            "outputs": [
                {
                    "output_type": "display_data",
                    "data": {
                        "text/html": "(3 rows affected)"
                    },
                    "metadata": {}
                },
                {
                    "output_type": "display_data",
                    "data": {
                        "text/html": "Total execution time: 00:00:00.024"
                    },
                    "metadata": {}
                },
                {
                    "output_type": "execute_result",
                    "execution_count": 32,
                    "data": {
                        "application/vnd.dataresource+json": {
                            "schema": {
                                "fields": [
                                    {
                                        "name": "nap"
                                    }
                                ]
                            },
                            "data": [
                                {
                                    "nap": "Csütörtök"
                                },
                                {
                                    "nap": "Péntek"
                                },
                                {
                                    "nap": "Szerda"
                                }
                            ]
                        },
                        "text/html": "<table><tr><th>nap</th></tr><tr><td>Csütörtök</td></tr><tr><td>Péntek</td></tr><tr><td>Szerda</td></tr></table>"
                    },
                    "metadata": {}
                }
            ],
            "execution_count": 32
        },
        {
            "cell_type": "markdown",
            "source": [
                "**A 11-15 feladatok gyakorlásra szolgálnak a közelgő zh-ra :-)**\n",
                "\n",
                "11. _Készítsünk listát az oktatók adatairól!_\n",
                "\n",
                "1. Az oktatók titulusa és neve összefűzve jelenjen meg, közöttük szóközzel!\n",
                "2. Ha valakinek nincs titulusa, akkor csak a neve jelenjen meg, szóköz nélkül!\n",
                "3. A listát rendezzük a beosztás kódja, azon belül a státusz kódja szerint növekvő sorrendbe!\n",
                "4. Az oszlopokat nevezzük el értelemszerűen!"
            ],
            "metadata": {
                "azdata_cell_guid": "d2340f5f-1614-473c-b937-85740d67f7c1"
            },
            "attachments": {}
        },
        {
            "cell_type": "code",
            "source": [
                ""
            ],
            "metadata": {
                "azdata_cell_guid": "e99c2c53-898f-4787-b0e6-182d106dc16f",
                "language": "sql"
            },
            "outputs": [],
            "execution_count": null
        },
        {
            "cell_type": "markdown",
            "source": [
                "<span style=\"color: #09885a;\">12</span>. Készítsünk listát, amely megmutatja, hogy összesen hány tantárgy van kreditenkénti csoportosításban!\n",
                "\n",
                "  \n",
                "\n",
                "A listából hagyjuk ki azokat a tételeket, ahol ez a darabszám <span style=\"color: #09885a;\">1</span>!\n",
                "\n",
                "A Folyami gáttan tantárgyat ne vegyük figyelembe!\n",
                "\n",
                "A listát rendezzük darabszám szerint csökkenő sorrendbe!\n",
                "\n",
                "Az oszlopokat nevezzük el értelemszerűen!"
            ],
            "metadata": {
                "azdata_cell_guid": "a765e9d6-58b3-4171-872a-78f3118fd6e3"
            },
            "attachments": {}
        },
        {
            "cell_type": "code",
            "source": [
                ""
            ],
            "metadata": {
                "azdata_cell_guid": "422e8127-b652-4d3a-bfd7-9b1637b5781e",
                "language": "sql"
            },
            "outputs": [],
            "execution_count": null
        },
        {
            "cell_type": "markdown",
            "source": [
                "13. _Készítsünk listát az oktatók nevéről, a beosztásuk alapján elvárt és a tényleges óraszámukról!_\n",
                "\n",
                "1. Az oszlopok neve legyen 'Oktató neve', 'Elvárt óraszám' és 'Tényleges óraszám'\n",
                "2. Szűrjük a listát azokra az oktatókra, ahol az elvárt és a tényleges óraszám azonos"
            ],
            "metadata": {
                "azdata_cell_guid": "3f9237ae-f109-401c-acb9-31d75e73331b"
            },
            "attachments": {}
        },
        {
            "cell_type": "code",
            "source": [
                ""
            ],
            "metadata": {
                "azdata_cell_guid": "4b31bb89-cfbc-46b1-8639-85c462877786",
                "language": "sql"
            },
            "outputs": [],
            "execution_count": null
        },
        {
            "cell_type": "markdown",
            "source": [
                "14. _Készítsünk listát, amely megmutatja, hogy mely tantárgyból nincs óra egyáltalán!_\n",
                "\n",
                "1. Csak a tantárgy neve jelenjen meg!"
            ],
            "metadata": {
                "azdata_cell_guid": "f634e09a-85ef-4e70-8ec6-ef355dfddaa7"
            },
            "attachments": {}
        },
        {
            "cell_type": "code",
            "source": [
                ""
            ],
            "metadata": {
                "azdata_cell_guid": "88abc55b-2c78-495b-a72f-3f8f4eb5fe70",
                "language": "sql"
            },
            "outputs": [],
            "execution_count": null
        },
        {
            "cell_type": "markdown",
            "source": [
                "15. _Hány órájuk van az óraadóknak napi bontásban?_\n",
                "\n",
                "1. Csak a napok nevét és az óraszámot jelenítsük meg!\n",
                "2. Rendezzük a listát óraszám szerint növekvő sorrendbe!"
            ],
            "metadata": {
                "azdata_cell_guid": "4cbf2f0d-a65d-480a-8186-ccdb24498443"
            },
            "attachments": {}
        },
        {
            "cell_type": "code",
            "source": [
                ""
            ],
            "metadata": {
                "azdata_cell_guid": "c148aee8-bc85-40bf-b80a-a4898a6c05cb",
                "language": "sql"
            },
            "outputs": [],
            "execution_count": null
        }
    ]
}