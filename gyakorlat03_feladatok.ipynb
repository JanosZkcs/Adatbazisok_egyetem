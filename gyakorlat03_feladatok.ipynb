{
    "metadata": {
        "kernelspec": {
            "name": "SQL",
            "display_name": "SQL",
            "language": "sql"
        },
        "language_info": {
            "name": "sql",
            "version": ""
        },
        "extensions": {
            "azuredatastudio": {
                "version": 1,
                "views": []
            }
        }
    },
    "nbformat_minor": 2,
    "nbformat": 4,
    "cells": [
        {
            "cell_type": "markdown",
            "source": [
                "**Az első 5 feladat ismétlés (többtáblás lekérdezések) a tanulmányi adatbázisból**\n",
                "\n",
                "1. Készítsünk listát arról, hogy melyik óra melyik teremben van!\n",
                "    \n",
                "    1. Jelenítsük meg az óra azonosítóját és a terem nevét!\n",
                "    2. A listát szűrjük a 3 karakter hosszú, \\[100;199\\] zárt intervallumba eső termekre! Feltesszük, hogy a 3 karakter hosszú terem nevek csak számjegyeket tartalmaznak."
            ],
            "metadata": {
                "azdata_cell_guid": "77f2d5b3-38e9-41cc-893f-f5afd02b97ef"
            },
            "attachments": {}
        },
        {
            "cell_type": "code",
            "source": [
                "SELECT  o.ora_id, \r\n",
                "        T.terem\r\n",
                "FROM Orak o JOIN Termek T ON o.terem = T.Tkód\r\n",
                "WHERE LEN(T.Terem) = 3 AND T.Terem BETWEEN 100 AND 199"
            ],
            "metadata": {
                "azdata_cell_guid": "bd3cef1a-4e6e-4ece-9dc3-aaa9d2b5d66d",
                "language": "sql"
            },
            "outputs": [
                {
                    "output_type": "display_data",
                    "data": {
                        "text/html": "(30 rows affected)"
                    },
                    "metadata": {}
                },
                {
                    "output_type": "display_data",
                    "data": {
                        "text/html": "Total execution time: 00:00:00.090"
                    },
                    "metadata": {}
                },
                {
                    "output_type": "execute_result",
                    "execution_count": 2,
                    "data": {
                        "application/vnd.dataresource+json": {
                            "schema": {
                                "fields": [
                                    {
                                        "name": "ora_id"
                                    },
                                    {
                                        "name": "terem"
                                    }
                                ]
                            },
                            "data": [
                                {
                                    "ora_id": "159",
                                    "terem": "117"
                                },
                                {
                                    "ora_id": "160",
                                    "terem": "118"
                                },
                                {
                                    "ora_id": "161",
                                    "terem": "118"
                                },
                                {
                                    "ora_id": "162",
                                    "terem": "119"
                                },
                                {
                                    "ora_id": "163",
                                    "terem": "120"
                                },
                                {
                                    "ora_id": "164",
                                    "terem": "119"
                                },
                                {
                                    "ora_id": "165",
                                    "terem": "119"
                                },
                                {
                                    "ora_id": "166",
                                    "terem": "119"
                                },
                                {
                                    "ora_id": "167",
                                    "terem": "120"
                                },
                                {
                                    "ora_id": "170",
                                    "terem": "120"
                                },
                                {
                                    "ora_id": "172",
                                    "terem": "119"
                                },
                                {
                                    "ora_id": "173",
                                    "terem": "119"
                                },
                                {
                                    "ora_id": "175",
                                    "terem": "120"
                                },
                                {
                                    "ora_id": "176",
                                    "terem": "118"
                                },
                                {
                                    "ora_id": "177",
                                    "terem": "119"
                                },
                                {
                                    "ora_id": "179",
                                    "terem": "120"
                                },
                                {
                                    "ora_id": "180",
                                    "terem": "119"
                                },
                                {
                                    "ora_id": "181",
                                    "terem": "118"
                                },
                                {
                                    "ora_id": "185",
                                    "terem": "120"
                                },
                                {
                                    "ora_id": "192",
                                    "terem": "119"
                                },
                                {
                                    "ora_id": "195",
                                    "terem": "116"
                                },
                                {
                                    "ora_id": "197",
                                    "terem": "116"
                                },
                                {
                                    "ora_id": "198",
                                    "terem": "119"
                                },
                                {
                                    "ora_id": "204",
                                    "terem": "120"
                                },
                                {
                                    "ora_id": "212",
                                    "terem": "120"
                                },
                                {
                                    "ora_id": "218",
                                    "terem": "118"
                                },
                                {
                                    "ora_id": "220",
                                    "terem": "119"
                                },
                                {
                                    "ora_id": "222",
                                    "terem": "116"
                                },
                                {
                                    "ora_id": "226",
                                    "terem": "117"
                                },
                                {
                                    "ora_id": "227",
                                    "terem": "116"
                                }
                            ]
                        },
                        "text/html": "<table><tr><th>ora_id</th><th>terem</th></tr><tr><td>159</td><td>117</td></tr><tr><td>160</td><td>118</td></tr><tr><td>161</td><td>118</td></tr><tr><td>162</td><td>119</td></tr><tr><td>163</td><td>120</td></tr><tr><td>164</td><td>119</td></tr><tr><td>165</td><td>119</td></tr><tr><td>166</td><td>119</td></tr><tr><td>167</td><td>120</td></tr><tr><td>170</td><td>120</td></tr><tr><td>172</td><td>119</td></tr><tr><td>173</td><td>119</td></tr><tr><td>175</td><td>120</td></tr><tr><td>176</td><td>118</td></tr><tr><td>177</td><td>119</td></tr><tr><td>179</td><td>120</td></tr><tr><td>180</td><td>119</td></tr><tr><td>181</td><td>118</td></tr><tr><td>185</td><td>120</td></tr><tr><td>192</td><td>119</td></tr><tr><td>195</td><td>116</td></tr><tr><td>197</td><td>116</td></tr><tr><td>198</td><td>119</td></tr><tr><td>204</td><td>120</td></tr><tr><td>212</td><td>120</td></tr><tr><td>218</td><td>118</td></tr><tr><td>220</td><td>119</td></tr><tr><td>222</td><td>116</td></tr><tr><td>226</td><td>117</td></tr><tr><td>227</td><td>116</td></tr></table>"
                    },
                    "metadata": {}
                }
            ],
            "execution_count": 2
        },
        {
            "cell_type": "markdown",
            "source": [
                "2. <span style=\"font-weight: 600; color: rgb(36, 41, 47); font-family: -apple-system, BlinkMacSystemFont, &quot;Segoe UI&quot;, Helvetica, Arial, sans-serif, &quot;Apple Color Emoji&quot;, &quot;Segoe UI Emoji&quot;; font-size: 16px;\">Hány óra van összesen az egyes napokon?</span>\n",
                "\n",
                "1. Jelenítsük meg a napok nevét és az órák számát az adott napon!\n",
                "2. Az oszlopokat nevezzük el értelemszerűen!\n",
                "3. A listát rendezzük óraszám szerint növekvő sorrendbe!"
            ],
            "metadata": {
                "azdata_cell_guid": "88f5b4bb-f4c1-4bad-a0c7-b2592687b422"
            },
            "attachments": {}
        },
        {
            "cell_type": "code",
            "source": [
                "SELECT  COUNT(o.ora_id) AS 'Órák száma',\r\n",
                "        n.nap AS 'Napok neve'\r\n",
                "FROM Orak o JOIN Napok n ON o.nap = n.nap_id\r\n",
                "GROUP BY n.nap\r\n",
                "ORDER BY COUNT(o.ora_id)"
            ],
            "metadata": {
                "azdata_cell_guid": "e9de5726-f036-4fb9-8c33-a873955ed886",
                "language": "sql"
            },
            "outputs": [
                {
                    "output_type": "display_data",
                    "data": {
                        "text/html": "(5 rows affected)"
                    },
                    "metadata": {}
                },
                {
                    "output_type": "display_data",
                    "data": {
                        "text/html": "Total execution time: 00:00:00.016"
                    },
                    "metadata": {}
                },
                {
                    "output_type": "execute_result",
                    "execution_count": 4,
                    "data": {
                        "application/vnd.dataresource+json": {
                            "schema": {
                                "fields": [
                                    {
                                        "name": "Órák száma"
                                    },
                                    {
                                        "name": "Napok neve"
                                    }
                                ]
                            },
                            "data": [
                                {
                                    "Órák száma": "6",
                                    "Napok neve": "Péntek"
                                },
                                {
                                    "Órák száma": "6",
                                    "Napok neve": "Szerda"
                                },
                                {
                                    "Órák száma": "13",
                                    "Napok neve": "Kedd"
                                },
                                {
                                    "Órák száma": "19",
                                    "Napok neve": "Csütörtök"
                                },
                                {
                                    "Órák száma": "23",
                                    "Napok neve": "Hétfő"
                                }
                            ]
                        },
                        "text/html": "<table><tr><th>Órák száma</th><th>Napok neve</th></tr><tr><td>6</td><td>Péntek</td></tr><tr><td>6</td><td>Szerda</td></tr><tr><td>13</td><td>Kedd</td></tr><tr><td>19</td><td>Csütörtök</td></tr><tr><td>23</td><td>Hétfő</td></tr></table>"
                    },
                    "metadata": {}
                }
            ],
            "execution_count": 4
        },
        {
            "cell_type": "markdown",
            "source": [
                "3. <span style=\"font-weight: 600; color: rgb(36, 41, 47); font-family: -apple-system, BlinkMacSystemFont, &quot;Segoe UI&quot;, Helvetica, Arial, sans-serif, &quot;Apple Color Emoji&quot;, &quot;Segoe UI Emoji&quot;; font-size: 16px;\">Készítsünk listát arról, hogy melyik oktatónak hány órája van az Órák táblában!</span>\n",
                "\n",
                "1. A lista jelenítse meg az oktatók nevét, és az órák számát!\n",
                "2. Az oszlopokat nevezzük el értelemszerűen!\n",
                "3. A listából hagyjuk ki az óraadókat!"
            ],
            "metadata": {
                "azdata_cell_guid": "9e7249de-1b59-43d8-84b1-26fa7d81fc5a"
            },
            "attachments": {}
        },
        {
            "cell_type": "code",
            "source": [
                "SELECT  COUNT(o.ora_id) AS 'Órák száma',\r\n",
                "        okt.nev AS 'Név'\r\n",
                "FROM Orak o JOIN Oktatok okt ON okt.oktato_id = o.tanar \r\n",
                "            JOIN Beosztasok b ON okt.beosztás = b.beosztas_id\r\n",
                "WHERE b.beosztasnev NOT LIKE 'óraadó'\r\n",
                "GROUP BY okt.nev, okt.titulus"
            ],
            "metadata": {
                "azdata_cell_guid": "6405d3e8-a9b1-45d7-aa76-3b1e785ef6cc",
                "language": "sql"
            },
            "outputs": [
                {
                    "output_type": "display_data",
                    "data": {
                        "text/html": "(15 rows affected)"
                    },
                    "metadata": {}
                },
                {
                    "output_type": "display_data",
                    "data": {
                        "text/html": "Total execution time: 00:00:00.033"
                    },
                    "metadata": {}
                },
                {
                    "output_type": "execute_result",
                    "execution_count": 17,
                    "data": {
                        "application/vnd.dataresource+json": {
                            "schema": {
                                "fields": [
                                    {
                                        "name": "Órák száma"
                                    },
                                    {
                                        "name": "Név"
                                    }
                                ]
                            },
                            "data": [
                                {
                                    "Órák száma": "7",
                                    "Név": "Farkasos Piroska"
                                },
                                {
                                    "Órák száma": "4",
                                    "Név": "Kiss János"
                                },
                                {
                                    "Órák száma": "6",
                                    "Név": "Pelikán József"
                                },
                                {
                                    "Órák száma": "1",
                                    "Név": "Róbert Gida"
                                },
                                {
                                    "Órák száma": "2",
                                    "Név": "Szénási ászló"
                                },
                                {
                                    "Órák száma": "3",
                                    "Név": "Szerb László"
                                },
                                {
                                    "Órák száma": "4",
                                    "Név": "Vitéz János"
                                },
                                {
                                    "Órák száma": "3",
                                    "Név": "Balkán András"
                                },
                                {
                                    "Órák száma": "2",
                                    "Név": "Juhász András"
                                },
                                {
                                    "Órák száma": "4",
                                    "Név": "Kovács László"
                                },
                                {
                                    "Órák száma": "8",
                                    "Név": "Szentágotai Istvás"
                                },
                                {
                                    "Órák száma": "4",
                                    "Név": "Szép llonka"
                                },
                                {
                                    "Órák száma": "4",
                                    "Név": "Varga Kata"
                                },
                                {
                                    "Órák száma": "3",
                                    "Név": "Ujfalussi István"
                                },
                                {
                                    "Órák száma": "2",
                                    "Név": "Jogrerős Pál"
                                }
                            ]
                        },
                        "text/html": "<table><tr><th>Órák száma</th><th>Név</th></tr><tr><td>7</td><td>Farkasos Piroska</td></tr><tr><td>4</td><td>Kiss János</td></tr><tr><td>6</td><td>Pelikán József</td></tr><tr><td>1</td><td>Róbert Gida</td></tr><tr><td>2</td><td>Szénási ászló</td></tr><tr><td>3</td><td>Szerb László</td></tr><tr><td>4</td><td>Vitéz János</td></tr><tr><td>3</td><td>Balkán András</td></tr><tr><td>2</td><td>Juhász András</td></tr><tr><td>4</td><td>Kovács László</td></tr><tr><td>8</td><td>Szentágotai Istvás</td></tr><tr><td>4</td><td>Szép llonka</td></tr><tr><td>4</td><td>Varga Kata</td></tr><tr><td>3</td><td>Ujfalussi István</td></tr><tr><td>2</td><td>Jogrerős Pál</td></tr></table>"
                    },
                    "metadata": {}
                }
            ],
            "execution_count": 17
        },
        {
            "cell_type": "markdown",
            "source": [
                "4. <span style=\"color: rgb(36, 41, 47); font-family: -apple-system, BlinkMacSystemFont, &quot;Segoe UI&quot;, Helvetica, Arial, sans-serif, &quot;Apple Color Emoji&quot;, &quot;Segoe UI Emoji&quot;; font-size: 16px;\">Van-e olyan tantárgy, amelyből nincs óra?</span>\n",
                "\n",
                "1. Jelentsük meg a tantárgy nevét és a tantárgyfelelős nevét!"
            ],
            "metadata": {
                "azdata_cell_guid": "6478e469-c094-472c-a772-ccd5b5c61516"
            },
            "attachments": {}
        },
        {
            "cell_type": "code",
            "source": [
                "SELECT  t.Tantárgynév,\r\n",
                "        okt.nev\r\n",
                "FROM    Tantárgyak t LEFT JOIN Orak o ON o.targy = t.Tkód\r\n",
                "        JOIN Oktatok okt ON t.Tantárgyfelelős = okt.oktato_id\r\n",
                "WHERE o.targy IS NULL"
            ],
            "metadata": {
                "azdata_cell_guid": "02031ea2-3838-458d-839c-228e3b362b61",
                "language": "sql"
            },
            "outputs": [
                {
                    "output_type": "display_data",
                    "data": {
                        "text/html": "(1 row affected)"
                    },
                    "metadata": {}
                },
                {
                    "output_type": "display_data",
                    "data": {
                        "text/html": "Total execution time: 00:00:00.032"
                    },
                    "metadata": {}
                },
                {
                    "output_type": "execute_result",
                    "execution_count": 25,
                    "data": {
                        "application/vnd.dataresource+json": {
                            "schema": {
                                "fields": [
                                    {
                                        "name": "Tantárgynév"
                                    },
                                    {
                                        "name": "nev"
                                    }
                                ]
                            },
                            "data": [
                                {
                                    "Tantárgynév": "Folyami gáttan",
                                    "nev": "Varga Kata"
                                }
                            ]
                        },
                        "text/html": "<table><tr><th>Tantárgynév</th><th>nev</th></tr><tr><td>Folyami gáttan</td><td>Varga Kata</td></tr></table>"
                    },
                    "metadata": {}
                }
            ],
            "execution_count": 25
        },
        {
            "cell_type": "markdown",
            "source": [
                "5. <span style=\"background-color: rgb(255, 255, 255); color: rgb(36, 41, 47); font-family: -apple-system, BlinkMacSystemFont, &quot;Segoe UI&quot;, Helvetica, Arial, sans-serif, &quot;Apple Color Emoji&quot;, &quot;Segoe UI Emoji&quot;; font-size: 16px;\">Hány óra van összesen a 120-as teremben?</span>"
            ],
            "metadata": {
                "azdata_cell_guid": "9edbbaf9-c276-4898-9a01-e1b2993c089f"
            },
            "attachments": {}
        },
        {
            "cell_type": "code",
            "source": [
                "SELECT  Count(*) AS 'Órák száma',\r\n",
                "        t.Terem AS 'Terem'\r\n",
                "FROM Orak o JOIN Termek t ON o.terem = t.Tkód\r\n",
                "GROUP BY t.Terem\r\n",
                "HAVING t.Terem LIKE '120'"
            ],
            "metadata": {
                "azdata_cell_guid": "5ad5fdcb-2878-4111-861a-833bcd50e935",
                "language": "sql"
            },
            "outputs": [
                {
                    "output_type": "display_data",
                    "data": {
                        "text/html": "(1 row affected)"
                    },
                    "metadata": {}
                },
                {
                    "output_type": "display_data",
                    "data": {
                        "text/html": "Total execution time: 00:00:00.021"
                    },
                    "metadata": {}
                },
                {
                    "output_type": "execute_result",
                    "metadata": {},
                    "execution_count": 7,
                    "data": {
                        "application/vnd.dataresource+json": {
                            "schema": {
                                "fields": [
                                    {
                                        "name": "Órák száma"
                                    },
                                    {
                                        "name": "Terem"
                                    }
                                ]
                            },
                            "data": [
                                {
                                    "Órák száma": "8",
                                    "Terem": "120"
                                }
                            ]
                        },
                        "text/html": [
                            "<table>",
                            "<tr><th>Órák száma</th><th>Terem</th></tr>",
                            "<tr><td>8</td><td>120</td></tr>",
                            "</table>"
                        ]
                    }
                }
            ],
            "execution_count": 7
        },
        {
            "cell_type": "markdown",
            "source": [
                "**A 6-10 feladatokat halmazműveletek segítségével oldjuk meg, szintén a tanulmányi adatbázison**\n",
                "\n",
                "6. <span style=\"background-color:rgb(255, 255, 255);color:rgb(36, 41, 47);font-family:-apple-system, BlinkMacSystemFont, &quot;Segoe UI&quot;, Helvetica, Arial, sans-serif, &quot;Apple Color Emoji&quot;, &quot;Segoe UI Emoji&quot;;font-size:16px;font-weight:600;\">Jelenítsük meg azon tanárok azonosítóját és nevét, akik hétfői vagy keddi napokon tanítanak!</span>"
            ],
            "metadata": {
                "azdata_cell_guid": "5fe65c1c-2479-45ac-ad03-ec99d12eae21"
            },
            "attachments": {}
        },
        {
            "cell_type": "code",
            "source": [
                "SELECT okt.nev,\r\n",
                "        okt.oktato_id,\r\n",
                "        n.nap\r\n",
                "FROM Orak o JOIN Napok n ON o.nap = n.nap_id\r\n",
                "            JOIN Oktatok okt ON o.tanar = okt.oktato_id\r\n",
                "WHERE n.nap = 'Kedd'\r\n",
                "\r\n",
                "UNION\r\n",
                "\r\n",
                "SELECT okt.nev,\r\n",
                "        okt.oktato_id,\r\n",
                "        n.nap\r\n",
                "FROM Orak o JOIN Napok n ON o.nap = n.nap_id\r\n",
                "            JOIN Oktatok okt ON o.tanar = okt.oktato_id\r\n",
                "WHERE n.nap = 'Hétfő'\r\n",
                "ORDER BY n.nap --Nem feladat,de ellenőrizés végett írtam"
            ],
            "metadata": {
                "azdata_cell_guid": "924f2dde-f1c2-4def-a7f9-dbf4bace7735",
                "language": "sql",
                "tags": []
            },
            "outputs": [
                {
                    "output_type": "display_data",
                    "data": {
                        "text/html": "(21 rows affected)"
                    },
                    "metadata": {}
                },
                {
                    "output_type": "display_data",
                    "data": {
                        "text/html": "Total execution time: 00:00:00.031"
                    },
                    "metadata": {}
                },
                {
                    "output_type": "execute_result",
                    "metadata": {},
                    "execution_count": 16,
                    "data": {
                        "application/vnd.dataresource+json": {
                            "schema": {
                                "fields": [
                                    {
                                        "name": "nev"
                                    },
                                    {
                                        "name": "oktato_id"
                                    },
                                    {
                                        "name": "nap"
                                    }
                                ]
                            },
                            "data": [
                                {
                                    "nev": "Aranyi Mária",
                                    "oktato_id": "200",
                                    "nap": "Hétfő"
                                },
                                {
                                    "nev": "Balkán András",
                                    "oktato_id": "5",
                                    "nap": "Hétfő"
                                },
                                {
                                    "nev": "Farkasos Piroska",
                                    "oktato_id": "9",
                                    "nap": "Hétfő"
                                },
                                {
                                    "nev": "Jogrerős Pál",
                                    "oktato_id": "10",
                                    "nap": "Hétfő"
                                },
                                {
                                    "nev": "Kiss János",
                                    "oktato_id": "7",
                                    "nap": "Hétfő"
                                },
                                {
                                    "nev": "Kovács András",
                                    "oktato_id": "20",
                                    "nap": "Hétfő"
                                },
                                {
                                    "nev": "Ludas Mátyás",
                                    "oktato_id": "104",
                                    "nap": "Hétfő"
                                },
                                {
                                    "nev": "Pelikán József",
                                    "oktato_id": "8",
                                    "nap": "Hétfő"
                                },
                                {
                                    "nev": "Szentágotai Istvás",
                                    "oktato_id": "2",
                                    "nap": "Hétfő"
                                },
                                {
                                    "nev": "Szép llonka",
                                    "oktato_id": "6",
                                    "nap": "Hétfő"
                                },
                                {
                                    "nev": "Ujfalussi István",
                                    "oktato_id": "4",
                                    "nap": "Hétfő"
                                },
                                {
                                    "nev": "Varga Kata",
                                    "oktato_id": "12",
                                    "nap": "Hétfő"
                                },
                                {
                                    "nev": "Kiss János",
                                    "oktato_id": "7",
                                    "nap": "Kedd"
                                },
                                {
                                    "nev": "Kovács László",
                                    "oktato_id": "1",
                                    "nap": "Kedd"
                                },
                                {
                                    "nev": "Nógrádi Kata",
                                    "oktato_id": "18",
                                    "nap": "Kedd"
                                },
                                {
                                    "nev": "Pelikán József",
                                    "oktato_id": "8",
                                    "nap": "Kedd"
                                },
                                {
                                    "nev": "Róbert Gida",
                                    "oktato_id": "108",
                                    "nap": "Kedd"
                                },
                                {
                                    "nev": "Szénási ászló",
                                    "oktato_id": "14",
                                    "nap": "Kedd"
                                },
                                {
                                    "nev": "Szentágotai Istvás",
                                    "oktato_id": "2",
                                    "nap": "Kedd"
                                },
                                {
                                    "nev": "Szerb László",
                                    "oktato_id": "3",
                                    "nap": "Kedd"
                                },
                                {
                                    "nev": "Varga Kata",
                                    "oktato_id": "12",
                                    "nap": "Kedd"
                                }
                            ]
                        },
                        "text/html": [
                            "<table>",
                            "<tr><th>nev</th><th>oktato_id</th><th>nap</th></tr>",
                            "<tr><td>Aranyi Mária</td><td>200</td><td>Hétfő</td></tr>",
                            "<tr><td>Balkán András</td><td>5</td><td>Hétfő</td></tr>",
                            "<tr><td>Farkasos Piroska</td><td>9</td><td>Hétfő</td></tr>",
                            "<tr><td>Jogrerős Pál</td><td>10</td><td>Hétfő</td></tr>",
                            "<tr><td>Kiss János</td><td>7</td><td>Hétfő</td></tr>",
                            "<tr><td>Kovács András</td><td>20</td><td>Hétfő</td></tr>",
                            "<tr><td>Ludas Mátyás</td><td>104</td><td>Hétfő</td></tr>",
                            "<tr><td>Pelikán József</td><td>8</td><td>Hétfő</td></tr>",
                            "<tr><td>Szentágotai Istvás</td><td>2</td><td>Hétfő</td></tr>",
                            "<tr><td>Szép llonka</td><td>6</td><td>Hétfő</td></tr>",
                            "<tr><td>Ujfalussi István</td><td>4</td><td>Hétfő</td></tr>",
                            "<tr><td>Varga Kata</td><td>12</td><td>Hétfő</td></tr>",
                            "<tr><td>Kiss János</td><td>7</td><td>Kedd</td></tr>",
                            "<tr><td>Kovács László</td><td>1</td><td>Kedd</td></tr>",
                            "<tr><td>Nógrádi Kata</td><td>18</td><td>Kedd</td></tr>",
                            "<tr><td>Pelikán József</td><td>8</td><td>Kedd</td></tr>",
                            "<tr><td>Róbert Gida</td><td>108</td><td>Kedd</td></tr>",
                            "<tr><td>Szénási ászló</td><td>14</td><td>Kedd</td></tr>",
                            "<tr><td>Szentágotai Istvás</td><td>2</td><td>Kedd</td></tr>",
                            "<tr><td>Szerb László</td><td>3</td><td>Kedd</td></tr>",
                            "<tr><td>Varga Kata</td><td>12</td><td>Kedd</td></tr>",
                            "</table>"
                        ]
                    }
                }
            ],
            "execution_count": 16
        },
        {
            "cell_type": "markdown",
            "source": [
                "7. <span style=\"background-color: rgb(255, 255, 255); color: rgb(36, 41, 47); font-family: -apple-system, BlinkMacSystemFont, &quot;Segoe UI&quot;, Helvetica, Arial, sans-serif, &quot;Apple Color Emoji&quot;, &quot;Segoe UI Emoji&quot;; font-size: 16px; font-weight: 600;\">Melyek azok a tantárgyak, amelyek esetén van óra a 8.00-kor kezdődő sávban, de nincs a 12.30-kor kezdődő sávban?</span>"
            ],
            "metadata": {
                "azdata_cell_guid": "3aeb6bf5-b111-40d5-92b2-9712ce335696"
            },
            "attachments": {}
        },
        {
            "cell_type": "code",
            "source": [
                "--8-kor kezdődik\r\n",
                "SELECT t.Tantárgynév\r\n",
                "FROM Orak o JOIN Savok s ON s.Sav_id = o.Sav\r\n",
                "    JOIN Tantárgyak t ON t.Tkód = o.targy\r\n",
                "WHERE s.Időpont = '8.00'\r\n",
                "\r\n",
                "EXCEPT\r\n",
                "\r\n",
                "--12:30-kor kezdődik\r\n",
                "SELECT t.Tantárgynév\r\n",
                "FROM Orak o JOIN Savok s ON s.Sav_id = o.Sav\r\n",
                "    JOIN Tantárgyak t ON t.Tkód = o.targy\r\n",
                "WHERE s.Időpont = '12.30'"
            ],
            "metadata": {
                "azdata_cell_guid": "3e89b651-f56f-4102-af52-30eb2bbe360d",
                "language": "sql"
            },
            "outputs": [
                {
                    "output_type": "display_data",
                    "data": {
                        "text/html": "(3 rows affected)"
                    },
                    "metadata": {}
                },
                {
                    "output_type": "display_data",
                    "data": {
                        "text/html": "Total execution time: 00:00:00.019"
                    },
                    "metadata": {}
                },
                {
                    "output_type": "execute_result",
                    "execution_count": 30,
                    "data": {
                        "application/vnd.dataresource+json": {
                            "schema": {
                                "fields": [
                                    {
                                        "name": "Tantárgynév"
                                    }
                                ]
                            },
                            "data": [
                                {
                                    "Tantárgynév": "Az ürgeöntés hydrológiai alapjai II."
                                },
                                {
                                    "Tantárgynév": "Fejezetek az ürgék jogaiból"
                                },
                                {
                                    "Tantárgynév": "Ürgevitel"
                                }
                            ]
                        },
                        "text/html": "<table><tr><th>Tantárgynév</th></tr><tr><td>Az ürgeöntés hydrológiai alapjai II.</td></tr><tr><td>Fejezetek az ürgék jogaiból</td></tr><tr><td>Ürgevitel</td></tr></table>"
                    },
                    "metadata": {}
                }
            ],
            "execution_count": 30
        },
        {
            "cell_type": "markdown",
            "source": [
                "8. <span style=\"background-color: rgb(255, 255, 255); color: rgb(36, 41, 47); font-family: -apple-system, BlinkMacSystemFont, &quot;Segoe UI&quot;, Helvetica, Arial, sans-serif, &quot;Apple Color Emoji&quot;, &quot;Segoe UI Emoji&quot;; font-size: 16px; font-weight: 600;\">Listázzuk azokat a termeket, amelyekben oktat Kovács László és van olyan tanóra a teremben, ahol a tantárgy nevében nem szerepel az 'ürge' szó!</span>"
            ],
            "metadata": {
                "azdata_cell_guid": "26a504dc-ff6a-439f-94c0-4580eca3eacf"
            },
            "attachments": {}
        },
        {
            "cell_type": "code",
            "source": [
                "SELECT t.Terem,\r\n",
                "        okt.nev,\r\n",
                "        tt.Tantárgynév\r\n",
                "FROM Orak o JOIN Oktatok okt ON o.tanar = okt.oktato_id\r\n",
                "    JOIN Termek t ON o.terem = t.Tkód\r\n",
                "    JOIN Tantárgyak tt ON o.targy = tt.Tkód\r\n",
                "WHERE okt.nev = 'Kovács László'\r\n",
                "\r\n",
                "INTERSECT\r\n",
                "\r\n",
                "SELECT t.Terem,\r\n",
                "        okt.nev,\r\n",
                "        tt.Tantárgynév\r\n",
                "FROM Orak o JOIN Oktatok okt ON o.tanar = okt.oktato_id\r\n",
                "    JOIN Termek t ON o.terem = t.Tkód\r\n",
                "    JOIN Tantárgyak tt ON o.targy = tt.Tkód\r\n",
                "WHERE tt.Tantárgynév NOT LIKE '%ürge%' --a konkrét ürge szó nincs benne,csak ragozott formája :)"
            ],
            "metadata": {
                "azdata_cell_guid": "1cbb8aeb-78b5-4350-aa45-e3202fdab85b",
                "language": "sql"
            },
            "outputs": [
                {
                    "output_type": "display_data",
                    "data": {
                        "text/html": "(4 rows affected)"
                    },
                    "metadata": {}
                },
                {
                    "output_type": "display_data",
                    "data": {
                        "text/html": "Total execution time: 00:00:00.050"
                    },
                    "metadata": {}
                },
                {
                    "output_type": "execute_result",
                    "metadata": {},
                    "execution_count": 19,
                    "data": {
                        "application/vnd.dataresource+json": {
                            "schema": {
                                "fields": [
                                    {
                                        "name": "Terem"
                                    },
                                    {
                                        "name": "nev"
                                    },
                                    {
                                        "name": "Tantárgynév"
                                    }
                                ]
                            },
                            "data": [
                                {
                                    "Terem": "116",
                                    "nev": "Kovács László",
                                    "Tantárgynév": "Fejezetek az ürgék jogaiból"
                                },
                                {
                                    "Terem": "119",
                                    "nev": "Kovács László",
                                    "Tantárgynév": "Fejezetek az ürgék jogaiból"
                                },
                                {
                                    "Terem": "S.Asor.S3",
                                    "nev": "Kovács László",
                                    "Tantárgynév": "Fejezetek az ürgék jogaiból"
                                },
                                {
                                    "Terem": "VP 203.",
                                    "nev": "Kovács László",
                                    "Tantárgynév": "Fejezetek az ürgék jogaiból"
                                }
                            ]
                        },
                        "text/html": [
                            "<table>",
                            "<tr><th>Terem</th><th>nev</th><th>Tantárgynév</th></tr>",
                            "<tr><td>116</td><td>Kovács László</td><td>Fejezetek az ürgék jogaiból</td></tr>",
                            "<tr><td>119</td><td>Kovács László</td><td>Fejezetek az ürgék jogaiból</td></tr>",
                            "<tr><td>S.Asor.S3</td><td>Kovács László</td><td>Fejezetek az ürgék jogaiból</td></tr>",
                            "<tr><td>VP 203.</td><td>Kovács László</td><td>Fejezetek az ürgék jogaiból</td></tr>",
                            "</table>"
                        ]
                    }
                }
            ],
            "execution_count": 19
        },
        {
            "cell_type": "markdown",
            "source": [
                "9. <span style=\"font-weight: 600; color: rgb(36, 41, 47); font-family: -apple-system, BlinkMacSystemFont, &quot;Segoe UI&quot;, Helvetica, Arial, sans-serif, &quot;Apple Color Emoji&quot;, &quot;Segoe UI Emoji&quot;; font-size: 16px;\">Készítsünk listát arról, hogy melyik tanárnak hány órája van a (munka) hét elején (hétfőn), hét közben (kedd, szerda és csütörtök), illetve a hét végén (péntek)!</span>\n",
                "\n",
                "1. Jelenítsük meg a tanár azonosítóját, nevét, az időszakot (hét eleje - hét közben - hét vége), valamint az óraszámot!\n",
                "2. A három megjelölt időszakot külön kérdezzük le, majd fűzzük össze a lekérdezések eredményeit!\n",
                "3. Rendezzük a listát az oktató neve, azon belül időszak szerint!"
            ],
            "metadata": {
                "azdata_cell_guid": "435e2860-2dd5-4877-90f4-34a43baeb53c"
            },
            "attachments": {}
        },
        {
            "cell_type": "code",
            "source": [
                ""
            ],
            "metadata": {
                "azdata_cell_guid": "ce846351-ddbe-4d8e-b8fb-2a92c73ac80b",
                "language": "sql"
            },
            "outputs": [
                {
                    "output_type": "display_data",
                    "data": {
                        "text/html": "(1027 rows affected)"
                    },
                    "metadata": {}
                },
                {
                    "output_type": "display_data",
                    "data": {
                        "text/html": "Total execution time: 00:00:00.033"
                    },
                    "metadata": {}
                },
                {
                    "output_type": "execute_result",
                    "execution_count": 46,
                    "data": {
                        "application/vnd.dataresource+json": {
                            "schema": {
                                "fields": [
                                    {
                                        "name": "SZOBA_ID"
                                    },
                                    {
                                        "name": "SZOBA_FK"
                                    },
                                    {
                                        "name": "UGYFEL_FK"
                                    }
                                ]
                            },
                            "data": [
                                {
                                    "SZOBA_ID": "87",
                                    "SZOBA_FK": "87",
                                    "UGYFEL_FK": "NANDORF"
                                },
                                {
                                    "SZOBA_ID": "131",
                                    "SZOBA_FK": "131",
                                    "UGYFEL_FK": "ARONK"
                                },
                                {
                                    "SZOBA_ID": "6",
                                    "SZOBA_FK": "6",
                                    "UGYFEL_FK": "SEBASTIANF"
                                },
                                {
                                    "SZOBA_ID": "42",
                                    "SZOBA_FK": "42",
                                    "UGYFEL_FK": "laszlo2"
                                },
                                {
                                    "SZOBA_ID": "7",
                                    "SZOBA_FK": "7",
                                    "UGYFEL_FK": "PETERB"
                                },
                                {
                                    "SZOBA_ID": "68",
                                    "SZOBA_FK": "68",
                                    "UGYFEL_FK": "sebestyen"
                                },
                                {
                                    "SZOBA_ID": "5",
                                    "SZOBA_FK": "5",
                                    "UGYFEL_FK": "nikoletta4"
                                },
                                {
                                    "SZOBA_ID": "141",
                                    "SZOBA_FK": "141",
                                    "UGYFEL_FK": "kristof4"
                                },
                                {
                                    "SZOBA_ID": "21",
                                    "SZOBA_FK": "21",
                                    "UGYFEL_FK": "KRISZTIANM"
                                },
                                {
                                    "SZOBA_ID": "170",
                                    "SZOBA_FK": "170",
                                    "UGYFEL_FK": "anett3"
                                },
                                {
                                    "SZOBA_ID": "78",
                                    "SZOBA_FK": "78",
                                    "UGYFEL_FK": "kata"
                                },
                                {
                                    "SZOBA_ID": "10",
                                    "SZOBA_FK": "10",
                                    "UGYFEL_FK": "norbert4"
                                },
                                {
                                    "SZOBA_ID": "164",
                                    "SZOBA_FK": "164",
                                    "UGYFEL_FK": "BERNADETTO"
                                },
                                {
                                    "SZOBA_ID": "182",
                                    "SZOBA_FK": "182",
                                    "UGYFEL_FK": "AGNESH"
                                },
                                {
                                    "SZOBA_ID": "83",
                                    "SZOBA_FK": "83",
                                    "UGYFEL_FK": "katalin"
                                },
                                {
                                    "SZOBA_ID": "169",
                                    "SZOBA_FK": "169",
                                    "UGYFEL_FK": "daniel1"
                                },
                                {
                                    "SZOBA_ID": "171",
                                    "SZOBA_FK": "171",
                                    "UGYFEL_FK": "katka"
                                },
                                {
                                    "SZOBA_ID": "155",
                                    "SZOBA_FK": "155",
                                    "UGYFEL_FK": "daniel"
                                },
                                {
                                    "SZOBA_ID": "125",
                                    "SZOBA_FK": "125",
                                    "UGYFEL_FK": "aron2"
                                },
                                {
                                    "SZOBA_ID": "155",
                                    "SZOBA_FK": "155",
                                    "UGYFEL_FK": "peter4"
                                },
                                {
                                    "SZOBA_ID": "185",
                                    "SZOBA_FK": "185",
                                    "UGYFEL_FK": "anett3"
                                },
                                {
                                    "SZOBA_ID": "139",
                                    "SZOBA_FK": "139",
                                    "UGYFEL_FK": "ZSUZSAV"
                                },
                                {
                                    "SZOBA_ID": "130",
                                    "SZOBA_FK": "130",
                                    "UGYFEL_FK": "zsolt1"
                                },
                                {
                                    "SZOBA_ID": "144",
                                    "SZOBA_FK": "144",
                                    "UGYFEL_FK": "anett3"
                                },
                                {
                                    "SZOBA_ID": "137",
                                    "SZOBA_FK": "137",
                                    "UGYFEL_FK": "balazs2"
                                },
                                {
                                    "SZOBA_ID": "79",
                                    "SZOBA_FK": "79",
                                    "UGYFEL_FK": "istvan1"
                                },
                                {
                                    "SZOBA_ID": "136",
                                    "SZOBA_FK": "136",
                                    "UGYFEL_FK": "BERNADETTO"
                                },
                                {
                                    "SZOBA_ID": "70",
                                    "SZOBA_FK": "70",
                                    "UGYFEL_FK": "polla"
                                },
                                {
                                    "SZOBA_ID": "107",
                                    "SZOBA_FK": "107",
                                    "UGYFEL_FK": "BEATRIXS"
                                },
                                {
                                    "SZOBA_ID": "123",
                                    "SZOBA_FK": "123",
                                    "UGYFEL_FK": "norbert2"
                                },
                                {
                                    "SZOBA_ID": "156",
                                    "SZOBA_FK": "156",
                                    "UGYFEL_FK": "mark"
                                },
                                {
                                    "SZOBA_ID": "44",
                                    "SZOBA_FK": "44",
                                    "UGYFEL_FK": "miklos2"
                                },
                                {
                                    "SZOBA_ID": "42",
                                    "SZOBA_FK": "42",
                                    "UGYFEL_FK": "ANIKOS"
                                },
                                {
                                    "SZOBA_ID": "149",
                                    "SZOBA_FK": "149",
                                    "UGYFEL_FK": "beata4"
                                },
                                {
                                    "SZOBA_ID": "176",
                                    "SZOBA_FK": "176",
                                    "UGYFEL_FK": "julia"
                                },
                                {
                                    "SZOBA_ID": "77",
                                    "SZOBA_FK": "77",
                                    "UGYFEL_FK": "gabriella1"
                                },
                                {
                                    "SZOBA_ID": "153",
                                    "SZOBA_FK": "153",
                                    "UGYFEL_FK": "daniel"
                                },
                                {
                                    "SZOBA_ID": "74",
                                    "SZOBA_FK": "74",
                                    "UGYFEL_FK": "balint"
                                },
                                {
                                    "SZOBA_ID": "115",
                                    "SZOBA_FK": "115",
                                    "UGYFEL_FK": "SZILARDS"
                                },
                                {
                                    "SZOBA_ID": "100",
                                    "SZOBA_FK": "100",
                                    "UGYFEL_FK": "KRISZTINAG"
                                },
                                {
                                    "SZOBA_ID": "31",
                                    "SZOBA_FK": "31",
                                    "UGYFEL_FK": "ZSOLTJ"
                                },
                                {
                                    "SZOBA_ID": "162",
                                    "SZOBA_FK": "162",
                                    "UGYFEL_FK": "istvan1"
                                },
                                {
                                    "SZOBA_ID": "190",
                                    "SZOBA_FK": "190",
                                    "UGYFEL_FK": "ANDRASE"
                                },
                                {
                                    "SZOBA_ID": "39",
                                    "SZOBA_FK": "39",
                                    "UGYFEL_FK": "kata"
                                },
                                {
                                    "SZOBA_ID": "17",
                                    "SZOBA_FK": "17",
                                    "UGYFEL_FK": "sebestyen"
                                },
                                {
                                    "SZOBA_ID": "48",
                                    "SZOBA_FK": "48",
                                    "UGYFEL_FK": "gabor4"
                                },
                                {
                                    "SZOBA_ID": "30",
                                    "SZOBA_FK": "30",
                                    "UGYFEL_FK": "laszlo2"
                                },
                                {
                                    "SZOBA_ID": "111",
                                    "SZOBA_FK": "111",
                                    "UGYFEL_FK": "marton"
                                },
                                {
                                    "SZOBA_ID": "31",
                                    "SZOBA_FK": "31",
                                    "UGYFEL_FK": "AGNESH"
                                },
                                {
                                    "SZOBA_ID": "96",
                                    "SZOBA_FK": "96",
                                    "UGYFEL_FK": "anett3"
                                },
                                {
                                    "SZOBA_ID": "184",
                                    "SZOBA_FK": "184",
                                    "UGYFEL_FK": "krisztina1"
                                },
                                {
                                    "SZOBA_ID": "9",
                                    "SZOBA_FK": "9",
                                    "UGYFEL_FK": "MONIKAM"
                                },
                                {
                                    "SZOBA_ID": "106",
                                    "SZOBA_FK": "106",
                                    "UGYFEL_FK": "VIKTORIAU"
                                },
                                {
                                    "SZOBA_ID": "29",
                                    "SZOBA_FK": "29",
                                    "UGYFEL_FK": "andras3"
                                },
                                {
                                    "SZOBA_ID": "117",
                                    "SZOBA_FK": "117",
                                    "UGYFEL_FK": "bernadett2"
                                },
                                {
                                    "SZOBA_ID": "130",
                                    "SZOBA_FK": "130",
                                    "UGYFEL_FK": "csongor3"
                                },
                                {
                                    "SZOBA_ID": "109",
                                    "SZOBA_FK": "109",
                                    "UGYFEL_FK": "EVAV"
                                },
                                {
                                    "SZOBA_ID": "186",
                                    "SZOBA_FK": "186",
                                    "UGYFEL_FK": "ZOLTANT"
                                },
                                {
                                    "SZOBA_ID": "94",
                                    "SZOBA_FK": "94",
                                    "UGYFEL_FK": "JOZSEFG"
                                },
                                {
                                    "SZOBA_ID": "117",
                                    "SZOBA_FK": "117",
                                    "UGYFEL_FK": "vivien3"
                                },
                                {
                                    "SZOBA_ID": "105",
                                    "SZOBA_FK": "105",
                                    "UGYFEL_FK": "TAMASF"
                                },
                                {
                                    "SZOBA_ID": "132",
                                    "SZOBA_FK": "132",
                                    "UGYFEL_FK": "RENATAS"
                                },
                                {
                                    "SZOBA_ID": "1",
                                    "SZOBA_FK": "1",
                                    "UGYFEL_FK": "marton"
                                },
                                {
                                    "SZOBA_ID": "109",
                                    "SZOBA_FK": "109",
                                    "UGYFEL_FK": "gusztav"
                                },
                                {
                                    "SZOBA_ID": "54",
                                    "SZOBA_FK": "54",
                                    "UGYFEL_FK": "balazs1"
                                },
                                {
                                    "SZOBA_ID": "96",
                                    "SZOBA_FK": "96",
                                    "UGYFEL_FK": "csongor3"
                                },
                                {
                                    "SZOBA_ID": "33",
                                    "SZOBA_FK": "33",
                                    "UGYFEL_FK": "andi"
                                },
                                {
                                    "SZOBA_ID": "63",
                                    "SZOBA_FK": "63",
                                    "UGYFEL_FK": "ferenc1"
                                },
                                {
                                    "SZOBA_ID": "18",
                                    "SZOBA_FK": "18",
                                    "UGYFEL_FK": "bence"
                                },
                                {
                                    "SZOBA_ID": "38",
                                    "SZOBA_FK": "38",
                                    "UGYFEL_FK": "kornel4"
                                },
                                {
                                    "SZOBA_ID": "48",
                                    "SZOBA_FK": "48",
                                    "UGYFEL_FK": "agnes"
                                },
                                {
                                    "SZOBA_ID": "3",
                                    "SZOBA_FK": "3",
                                    "UGYFEL_FK": "daniel"
                                },
                                {
                                    "SZOBA_ID": "163",
                                    "SZOBA_FK": "163",
                                    "UGYFEL_FK": "ZSOLTJ"
                                },
                                {
                                    "SZOBA_ID": "98",
                                    "SZOBA_FK": "98",
                                    "UGYFEL_FK": "JANOSG"
                                },
                                {
                                    "SZOBA_ID": "99",
                                    "SZOBA_FK": "99",
                                    "UGYFEL_FK": "norbert2"
                                },
                                {
                                    "SZOBA_ID": "187",
                                    "SZOBA_FK": "187",
                                    "UGYFEL_FK": "katka"
                                },
                                {
                                    "SZOBA_ID": "193",
                                    "SZOBA_FK": "193",
                                    "UGYFEL_FK": "nikoletta4"
                                },
                                {
                                    "SZOBA_ID": "97",
                                    "SZOBA_FK": "97",
                                    "UGYFEL_FK": "daniel1"
                                },
                                {
                                    "SZOBA_ID": "91",
                                    "SZOBA_FK": "91",
                                    "UGYFEL_FK": "MATYASS"
                                },
                                {
                                    "SZOBA_ID": "100",
                                    "SZOBA_FK": "100",
                                    "UGYFEL_FK": "RENATAS"
                                },
                                {
                                    "SZOBA_ID": "67",
                                    "SZOBA_FK": "67",
                                    "UGYFEL_FK": "julia"
                                },
                                {
                                    "SZOBA_ID": "161",
                                    "SZOBA_FK": "161",
                                    "UGYFEL_FK": "zoltan4"
                                },
                                {
                                    "SZOBA_ID": "165",
                                    "SZOBA_FK": "165",
                                    "UGYFEL_FK": "sandor3"
                                },
                                {
                                    "SZOBA_ID": "150",
                                    "SZOBA_FK": "150",
                                    "UGYFEL_FK": "zoltan4"
                                },
                                {
                                    "SZOBA_ID": "54",
                                    "SZOBA_FK": "54",
                                    "UGYFEL_FK": "maria1"
                                },
                                {
                                    "SZOBA_ID": "127",
                                    "SZOBA_FK": "127",
                                    "UGYFEL_FK": "andras41"
                                },
                                {
                                    "SZOBA_ID": "166",
                                    "SZOBA_FK": "166",
                                    "UGYFEL_FK": "szilvia1"
                                },
                                {
                                    "SZOBA_ID": "67",
                                    "SZOBA_FK": "67",
                                    "UGYFEL_FK": "ARONK"
                                },
                                {
                                    "SZOBA_ID": "78",
                                    "SZOBA_FK": "78",
                                    "UGYFEL_FK": "BENCEB"
                                },
                                {
                                    "SZOBA_ID": "85",
                                    "SZOBA_FK": "85",
                                    "UGYFEL_FK": "robert2"
                                },
                                {
                                    "SZOBA_ID": "157",
                                    "SZOBA_FK": "157",
                                    "UGYFEL_FK": "krisztina1"
                                },
                                {
                                    "SZOBA_ID": "137",
                                    "SZOBA_FK": "137",
                                    "UGYFEL_FK": "tamas"
                                },
                                {
                                    "SZOBA_ID": "65",
                                    "SZOBA_FK": "65",
                                    "UGYFEL_FK": "zsuzsanna"
                                },
                                {
                                    "SZOBA_ID": "4",
                                    "SZOBA_FK": "4",
                                    "UGYFEL_FK": "aladar"
                                },
                                {
                                    "SZOBA_ID": "149",
                                    "SZOBA_FK": "149",
                                    "UGYFEL_FK": "maria1"
                                },
                                {
                                    "SZOBA_ID": "161",
                                    "SZOBA_FK": "161",
                                    "UGYFEL_FK": "david"
                                },
                                {
                                    "SZOBA_ID": "109",
                                    "SZOBA_FK": "109",
                                    "UGYFEL_FK": "bertalan"
                                },
                                {
                                    "SZOBA_ID": "131",
                                    "SZOBA_FK": "131",
                                    "UGYFEL_FK": "akos"
                                },
                                {
                                    "SZOBA_ID": "95",
                                    "SZOBA_FK": "95",
                                    "UGYFEL_FK": "kriszti"
                                },
                                {
                                    "SZOBA_ID": "137",
                                    "SZOBA_FK": "137",
                                    "UGYFEL_FK": "attila1"
                                },
                                {
                                    "SZOBA_ID": "44",
                                    "SZOBA_FK": "44",
                                    "UGYFEL_FK": "alexandra"
                                },
                                {
                                    "SZOBA_ID": "169",
                                    "SZOBA_FK": "169",
                                    "UGYFEL_FK": "krisztina"
                                },
                                {
                                    "SZOBA_ID": "21",
                                    "SZOBA_FK": "21",
                                    "UGYFEL_FK": "ATTILAO"
                                },
                                {
                                    "SZOBA_ID": "136",
                                    "SZOBA_FK": "136",
                                    "UGYFEL_FK": "katalin"
                                },
                                {
                                    "SZOBA_ID": "179",
                                    "SZOBA_FK": "179",
                                    "UGYFEL_FK": "andras41"
                                },
                                {
                                    "SZOBA_ID": "14",
                                    "SZOBA_FK": "14",
                                    "UGYFEL_FK": "NIKOLETTAT"
                                },
                                {
                                    "SZOBA_ID": "146",
                                    "SZOBA_FK": "146",
                                    "UGYFEL_FK": "matyas2"
                                },
                                {
                                    "SZOBA_ID": "94",
                                    "SZOBA_FK": "94",
                                    "UGYFEL_FK": "kati"
                                },
                                {
                                    "SZOBA_ID": "3",
                                    "SZOBA_FK": "3",
                                    "UGYFEL_FK": "agnes"
                                },
                                {
                                    "SZOBA_ID": "80",
                                    "SZOBA_FK": "80",
                                    "UGYFEL_FK": "fruzsina4"
                                },
                                {
                                    "SZOBA_ID": "54",
                                    "SZOBA_FK": "54",
                                    "UGYFEL_FK": "ZOLTANT"
                                },
                                {
                                    "SZOBA_ID": "173",
                                    "SZOBA_FK": "173",
                                    "UGYFEL_FK": "tunde"
                                },
                                {
                                    "SZOBA_ID": "43",
                                    "SZOBA_FK": "43",
                                    "UGYFEL_FK": "ARPADH"
                                },
                                {
                                    "SZOBA_ID": "96",
                                    "SZOBA_FK": "96",
                                    "UGYFEL_FK": "peter1"
                                },
                                {
                                    "SZOBA_ID": "185",
                                    "SZOBA_FK": "185",
                                    "UGYFEL_FK": "edit"
                                },
                                {
                                    "SZOBA_ID": "196",
                                    "SZOBA_FK": "196",
                                    "UGYFEL_FK": "akos"
                                },
                                {
                                    "SZOBA_ID": "83",
                                    "SZOBA_FK": "83",
                                    "UGYFEL_FK": "andras3"
                                },
                                {
                                    "SZOBA_ID": "193",
                                    "SZOBA_FK": "193",
                                    "UGYFEL_FK": "sara"
                                },
                                {
                                    "SZOBA_ID": "60",
                                    "SZOBA_FK": "60",
                                    "UGYFEL_FK": "akos"
                                },
                                {
                                    "SZOBA_ID": "181",
                                    "SZOBA_FK": "181",
                                    "UGYFEL_FK": "jozsef2"
                                },
                                {
                                    "SZOBA_ID": "148",
                                    "SZOBA_FK": "148",
                                    "UGYFEL_FK": "balazs3"
                                },
                                {
                                    "SZOBA_ID": "185",
                                    "SZOBA_FK": "185",
                                    "UGYFEL_FK": "ANIKOS"
                                },
                                {
                                    "SZOBA_ID": "192",
                                    "SZOBA_FK": "192",
                                    "UGYFEL_FK": "SEBASTIANF"
                                },
                                {
                                    "SZOBA_ID": "71",
                                    "SZOBA_FK": "71",
                                    "UGYFEL_FK": "david"
                                },
                                {
                                    "SZOBA_ID": "174",
                                    "SZOBA_FK": "174",
                                    "UGYFEL_FK": "lajos"
                                },
                                {
                                    "SZOBA_ID": "76",
                                    "SZOBA_FK": "76",
                                    "UGYFEL_FK": "GYORGYO"
                                },
                                {
                                    "SZOBA_ID": "184",
                                    "SZOBA_FK": "184",
                                    "UGYFEL_FK": "ANNAMARIAR"
                                },
                                {
                                    "SZOBA_ID": "110",
                                    "SZOBA_FK": "110",
                                    "UGYFEL_FK": "ZSOLTJ"
                                },
                                {
                                    "SZOBA_ID": "35",
                                    "SZOBA_FK": "35",
                                    "UGYFEL_FK": "sandor"
                                },
                                {
                                    "SZOBA_ID": "16",
                                    "SZOBA_FK": "16",
                                    "UGYFEL_FK": "MIKLOSB"
                                },
                                {
                                    "SZOBA_ID": "37",
                                    "SZOBA_FK": "37",
                                    "UGYFEL_FK": "ESZTERE"
                                },
                                {
                                    "SZOBA_ID": "102",
                                    "SZOBA_FK": "102",
                                    "UGYFEL_FK": "istvan1"
                                },
                                {
                                    "SZOBA_ID": "188",
                                    "SZOBA_FK": "188",
                                    "UGYFEL_FK": "denes"
                                },
                                {
                                    "SZOBA_ID": "99",
                                    "SZOBA_FK": "99",
                                    "UGYFEL_FK": "balazs2"
                                },
                                {
                                    "SZOBA_ID": "156",
                                    "SZOBA_FK": "156",
                                    "UGYFEL_FK": "julianna4"
                                },
                                {
                                    "SZOBA_ID": "185",
                                    "SZOBA_FK": "185",
                                    "UGYFEL_FK": "andras2"
                                },
                                {
                                    "SZOBA_ID": "8",
                                    "SZOBA_FK": "8",
                                    "UGYFEL_FK": "PETERB"
                                },
                                {
                                    "SZOBA_ID": "187",
                                    "SZOBA_FK": "187",
                                    "UGYFEL_FK": "veronika4"
                                },
                                {
                                    "SZOBA_ID": "19",
                                    "SZOBA_FK": "19",
                                    "UGYFEL_FK": "lala"
                                },
                                {
                                    "SZOBA_ID": "12",
                                    "SZOBA_FK": "12",
                                    "UGYFEL_FK": "andras21"
                                },
                                {
                                    "SZOBA_ID": "77",
                                    "SZOBA_FK": "77",
                                    "UGYFEL_FK": "tihamer"
                                },
                                {
                                    "SZOBA_ID": "189",
                                    "SZOBA_FK": "189",
                                    "UGYFEL_FK": "julia"
                                },
                                {
                                    "SZOBA_ID": "78",
                                    "SZOBA_FK": "78",
                                    "UGYFEL_FK": "ZOLTANP"
                                },
                                {
                                    "SZOBA_ID": "61",
                                    "SZOBA_FK": "61",
                                    "UGYFEL_FK": "andras3"
                                },
                                {
                                    "SZOBA_ID": "62",
                                    "SZOBA_FK": "62",
                                    "UGYFEL_FK": "balint2"
                                },
                                {
                                    "SZOBA_ID": "145",
                                    "SZOBA_FK": "145",
                                    "UGYFEL_FK": "balazs1"
                                },
                                {
                                    "SZOBA_ID": "70",
                                    "SZOBA_FK": "70",
                                    "UGYFEL_FK": "aniko4"
                                },
                                {
                                    "SZOBA_ID": "37",
                                    "SZOBA_FK": "37",
                                    "UGYFEL_FK": "akos"
                                },
                                {
                                    "SZOBA_ID": "119",
                                    "SZOBA_FK": "119",
                                    "UGYFEL_FK": "emese"
                                },
                                {
                                    "SZOBA_ID": "35",
                                    "SZOBA_FK": "35",
                                    "UGYFEL_FK": "MATYASS"
                                },
                                {
                                    "SZOBA_ID": "106",
                                    "SZOBA_FK": "106",
                                    "UGYFEL_FK": "MONIKAM"
                                },
                                {
                                    "SZOBA_ID": "172",
                                    "SZOBA_FK": "172",
                                    "UGYFEL_FK": "valentin"
                                },
                                {
                                    "SZOBA_ID": "188",
                                    "SZOBA_FK": "188",
                                    "UGYFEL_FK": "gabriella1"
                                },
                                {
                                    "SZOBA_ID": "185",
                                    "SZOBA_FK": "185",
                                    "UGYFEL_FK": "sara"
                                },
                                {
                                    "SZOBA_ID": "71",
                                    "SZOBA_FK": "71",
                                    "UGYFEL_FK": "zsuzsa"
                                },
                                {
                                    "SZOBA_ID": "17",
                                    "SZOBA_FK": "17",
                                    "UGYFEL_FK": "bence"
                                },
                                {
                                    "SZOBA_ID": "73",
                                    "SZOBA_FK": "73",
                                    "UGYFEL_FK": "bence"
                                },
                                {
                                    "SZOBA_ID": "101",
                                    "SZOBA_FK": "101",
                                    "UGYFEL_FK": "szilvia1"
                                },
                                {
                                    "SZOBA_ID": "118",
                                    "SZOBA_FK": "118",
                                    "UGYFEL_FK": "lala"
                                },
                                {
                                    "SZOBA_ID": "128",
                                    "SZOBA_FK": "128",
                                    "UGYFEL_FK": "balint1"
                                },
                                {
                                    "SZOBA_ID": "97",
                                    "SZOBA_FK": "97",
                                    "UGYFEL_FK": "SZILARDS"
                                },
                                {
                                    "SZOBA_ID": "58",
                                    "SZOBA_FK": "58",
                                    "UGYFEL_FK": "BELAF"
                                },
                                {
                                    "SZOBA_ID": "160",
                                    "SZOBA_FK": "160",
                                    "UGYFEL_FK": "NIKOLETTAT"
                                },
                                {
                                    "SZOBA_ID": "195",
                                    "SZOBA_FK": "195",
                                    "UGYFEL_FK": "reka4"
                                },
                                {
                                    "SZOBA_ID": "119",
                                    "SZOBA_FK": "119",
                                    "UGYFEL_FK": "andrea"
                                },
                                {
                                    "SZOBA_ID": "129",
                                    "SZOBA_FK": "129",
                                    "UGYFEL_FK": "kati"
                                },
                                {
                                    "SZOBA_ID": "135",
                                    "SZOBA_FK": "135",
                                    "UGYFEL_FK": "norbert2"
                                },
                                {
                                    "SZOBA_ID": "28",
                                    "SZOBA_FK": "28",
                                    "UGYFEL_FK": "ANDREAT"
                                },
                                {
                                    "SZOBA_ID": "97",
                                    "SZOBA_FK": "97",
                                    "UGYFEL_FK": "peter3"
                                },
                                {
                                    "SZOBA_ID": "94",
                                    "SZOBA_FK": "94",
                                    "UGYFEL_FK": "alexandra"
                                },
                                {
                                    "SZOBA_ID": "31",
                                    "SZOBA_FK": "31",
                                    "UGYFEL_FK": "balazs3"
                                },
                                {
                                    "SZOBA_ID": "90",
                                    "SZOBA_FK": "90",
                                    "UGYFEL_FK": "JUDITH"
                                },
                                {
                                    "SZOBA_ID": "152",
                                    "SZOBA_FK": "152",
                                    "UGYFEL_FK": "gabor1"
                                },
                                {
                                    "SZOBA_ID": "181",
                                    "SZOBA_FK": "181",
                                    "UGYFEL_FK": "andras41"
                                },
                                {
                                    "SZOBA_ID": "91",
                                    "SZOBA_FK": "91",
                                    "UGYFEL_FK": "krisztian4"
                                },
                                {
                                    "SZOBA_ID": "140",
                                    "SZOBA_FK": "140",
                                    "UGYFEL_FK": "katalin"
                                },
                                {
                                    "SZOBA_ID": "55",
                                    "SZOBA_FK": "55",
                                    "UGYFEL_FK": "GYORGYO"
                                },
                                {
                                    "SZOBA_ID": "121",
                                    "SZOBA_FK": "121",
                                    "UGYFEL_FK": "SZABOLCSM"
                                },
                                {
                                    "SZOBA_ID": "66",
                                    "SZOBA_FK": "66",
                                    "UGYFEL_FK": "AGNESK"
                                },
                                {
                                    "SZOBA_ID": "114",
                                    "SZOBA_FK": "114",
                                    "UGYFEL_FK": "BELAF"
                                },
                                {
                                    "SZOBA_ID": "1",
                                    "SZOBA_FK": "1",
                                    "UGYFEL_FK": "agnes"
                                },
                                {
                                    "SZOBA_ID": "121",
                                    "SZOBA_FK": "121",
                                    "UGYFEL_FK": "ROBERTP"
                                },
                                {
                                    "SZOBA_ID": "182",
                                    "SZOBA_FK": "182",
                                    "UGYFEL_FK": "zsuzsa3"
                                },
                                {
                                    "SZOBA_ID": "93",
                                    "SZOBA_FK": "93",
                                    "UGYFEL_FK": "SEBASTIANF"
                                },
                                {
                                    "SZOBA_ID": "164",
                                    "SZOBA_FK": "164",
                                    "UGYFEL_FK": "ilona3"
                                },
                                {
                                    "SZOBA_ID": "187",
                                    "SZOBA_FK": "187",
                                    "UGYFEL_FK": "zsolt1"
                                },
                                {
                                    "SZOBA_ID": "17",
                                    "SZOBA_FK": "17",
                                    "UGYFEL_FK": "andrea"
                                },
                                {
                                    "SZOBA_ID": "139",
                                    "SZOBA_FK": "139",
                                    "UGYFEL_FK": "BENCEB"
                                },
                                {
                                    "SZOBA_ID": "169",
                                    "SZOBA_FK": "169",
                                    "UGYFEL_FK": "denes"
                                },
                                {
                                    "SZOBA_ID": "188",
                                    "SZOBA_FK": "188",
                                    "UGYFEL_FK": "krisztian4"
                                },
                                {
                                    "SZOBA_ID": "36",
                                    "SZOBA_FK": "36",
                                    "UGYFEL_FK": "reka4"
                                },
                                {
                                    "SZOBA_ID": "172",
                                    "SZOBA_FK": "172",
                                    "UGYFEL_FK": "KRISZTIANM"
                                },
                                {
                                    "SZOBA_ID": "36",
                                    "SZOBA_FK": "36",
                                    "UGYFEL_FK": "edit"
                                },
                                {
                                    "SZOBA_ID": "139",
                                    "SZOBA_FK": "139",
                                    "UGYFEL_FK": "kati"
                                },
                                {
                                    "SZOBA_ID": "46",
                                    "SZOBA_FK": "46",
                                    "UGYFEL_FK": "balint1"
                                },
                                {
                                    "SZOBA_ID": "189",
                                    "SZOBA_FK": "189",
                                    "UGYFEL_FK": "VIKTORIAU"
                                },
                                {
                                    "SZOBA_ID": "126",
                                    "SZOBA_FK": "126",
                                    "UGYFEL_FK": "ilona3"
                                },
                                {
                                    "SZOBA_ID": "20",
                                    "SZOBA_FK": "20",
                                    "UGYFEL_FK": "agnes3"
                                },
                                {
                                    "SZOBA_ID": "61",
                                    "SZOBA_FK": "61",
                                    "UGYFEL_FK": "gusztav"
                                },
                                {
                                    "SZOBA_ID": "88",
                                    "SZOBA_FK": "88",
                                    "UGYFEL_FK": "david"
                                },
                                {
                                    "SZOBA_ID": "27",
                                    "SZOBA_FK": "27",
                                    "UGYFEL_FK": "ARONK"
                                },
                                {
                                    "SZOBA_ID": "7",
                                    "SZOBA_FK": "7",
                                    "UGYFEL_FK": "peter4"
                                },
                                {
                                    "SZOBA_ID": "131",
                                    "SZOBA_FK": "131",
                                    "UGYFEL_FK": "balu"
                                },
                                {
                                    "SZOBA_ID": "141",
                                    "SZOBA_FK": "141",
                                    "UGYFEL_FK": "dani"
                                },
                                {
                                    "SZOBA_ID": "120",
                                    "SZOBA_FK": "120",
                                    "UGYFEL_FK": "timea2"
                                },
                                {
                                    "SZOBA_ID": "13",
                                    "SZOBA_FK": "13",
                                    "UGYFEL_FK": "KRISZTINAG"
                                },
                                {
                                    "SZOBA_ID": "197",
                                    "SZOBA_FK": "197",
                                    "UGYFEL_FK": "mark"
                                },
                                {
                                    "SZOBA_ID": "148",
                                    "SZOBA_FK": "148",
                                    "UGYFEL_FK": "emese"
                                },
                                {
                                    "SZOBA_ID": "187",
                                    "SZOBA_FK": "187",
                                    "UGYFEL_FK": "norbert5"
                                },
                                {
                                    "SZOBA_ID": "18",
                                    "SZOBA_FK": "18",
                                    "UGYFEL_FK": "maria1"
                                },
                                {
                                    "SZOBA_ID": "138",
                                    "SZOBA_FK": "138",
                                    "UGYFEL_FK": "BEATRIXK"
                                },
                                {
                                    "SZOBA_ID": "63",
                                    "SZOBA_FK": "63",
                                    "UGYFEL_FK": "marton"
                                },
                                {
                                    "SZOBA_ID": "42",
                                    "SZOBA_FK": "42",
                                    "UGYFEL_FK": "tamara2"
                                },
                                {
                                    "SZOBA_ID": "147",
                                    "SZOBA_FK": "147",
                                    "UGYFEL_FK": "ARPADM"
                                },
                                {
                                    "SZOBA_ID": "6",
                                    "SZOBA_FK": "6",
                                    "UGYFEL_FK": "eszter"
                                },
                                {
                                    "SZOBA_ID": "58",
                                    "SZOBA_FK": "58",
                                    "UGYFEL_FK": "edit"
                                },
                                {
                                    "SZOBA_ID": "190",
                                    "SZOBA_FK": "190",
                                    "UGYFEL_FK": "vivien3"
                                },
                                {
                                    "SZOBA_ID": "12",
                                    "SZOBA_FK": "12",
                                    "UGYFEL_FK": "nikoletta4"
                                },
                                {
                                    "SZOBA_ID": "112",
                                    "SZOBA_FK": "112",
                                    "UGYFEL_FK": "pal"
                                },
                                {
                                    "SZOBA_ID": "34",
                                    "SZOBA_FK": "34",
                                    "UGYFEL_FK": "polla"
                                },
                                {
                                    "SZOBA_ID": "19",
                                    "SZOBA_FK": "19",
                                    "UGYFEL_FK": "laszlo2"
                                },
                                {
                                    "SZOBA_ID": "130",
                                    "SZOBA_FK": "130",
                                    "UGYFEL_FK": "zoltan4"
                                },
                                {
                                    "SZOBA_ID": "96",
                                    "SZOBA_FK": "96",
                                    "UGYFEL_FK": "anett3"
                                },
                                {
                                    "SZOBA_ID": "166",
                                    "SZOBA_FK": "166",
                                    "UGYFEL_FK": "PETERB"
                                },
                                {
                                    "SZOBA_ID": "163",
                                    "SZOBA_FK": "163",
                                    "UGYFEL_FK": "norbert2"
                                },
                                {
                                    "SZOBA_ID": "148",
                                    "SZOBA_FK": "148",
                                    "UGYFEL_FK": "denes"
                                },
                                {
                                    "SZOBA_ID": "141",
                                    "SZOBA_FK": "141",
                                    "UGYFEL_FK": "zoltan4"
                                },
                                {
                                    "SZOBA_ID": "177",
                                    "SZOBA_FK": "177",
                                    "UGYFEL_FK": "dora3"
                                },
                                {
                                    "SZOBA_ID": "111",
                                    "SZOBA_FK": "111",
                                    "UGYFEL_FK": "ANDRASE"
                                },
                                {
                                    "SZOBA_ID": "50",
                                    "SZOBA_FK": "50",
                                    "UGYFEL_FK": "krisztian4"
                                },
                                {
                                    "SZOBA_ID": "3",
                                    "SZOBA_FK": "3",
                                    "UGYFEL_FK": "georgij"
                                },
                                {
                                    "SZOBA_ID": "146",
                                    "SZOBA_FK": "146",
                                    "UGYFEL_FK": "JANOSG"
                                },
                                {
                                    "SZOBA_ID": "10",
                                    "SZOBA_FK": "10",
                                    "UGYFEL_FK": "veronika4"
                                },
                                {
                                    "SZOBA_ID": "15",
                                    "SZOBA_FK": "15",
                                    "UGYFEL_FK": "ROBERTI"
                                },
                                {
                                    "SZOBA_ID": "168",
                                    "SZOBA_FK": "168",
                                    "UGYFEL_FK": "polla"
                                },
                                {
                                    "SZOBA_ID": "49",
                                    "SZOBA_FK": "49",
                                    "UGYFEL_FK": "anett3"
                                },
                                {
                                    "SZOBA_ID": "168",
                                    "SZOBA_FK": "168",
                                    "UGYFEL_FK": "MATEK"
                                },
                                {
                                    "SZOBA_ID": "10",
                                    "SZOBA_FK": "10",
                                    "UGYFEL_FK": "GYONGYIK"
                                },
                                {
                                    "SZOBA_ID": "138",
                                    "SZOBA_FK": "138",
                                    "UGYFEL_FK": "andras41"
                                },
                                {
                                    "SZOBA_ID": "74",
                                    "SZOBA_FK": "74",
                                    "UGYFEL_FK": "attila4"
                                },
                                {
                                    "SZOBA_ID": "83",
                                    "SZOBA_FK": "83",
                                    "UGYFEL_FK": "tihamer"
                                },
                                {
                                    "SZOBA_ID": "175",
                                    "SZOBA_FK": "175",
                                    "UGYFEL_FK": "andras41"
                                },
                                {
                                    "SZOBA_ID": "45",
                                    "SZOBA_FK": "45",
                                    "UGYFEL_FK": "sandor"
                                },
                                {
                                    "SZOBA_ID": "112",
                                    "SZOBA_FK": "112",
                                    "UGYFEL_FK": "david"
                                },
                                {
                                    "SZOBA_ID": "45",
                                    "SZOBA_FK": "45",
                                    "UGYFEL_FK": "robert2"
                                },
                                {
                                    "SZOBA_ID": "1",
                                    "SZOBA_FK": "1",
                                    "UGYFEL_FK": "adam1"
                                },
                                {
                                    "SZOBA_ID": "146",
                                    "SZOBA_FK": "146",
                                    "UGYFEL_FK": "denes"
                                },
                                {
                                    "SZOBA_ID": "21",
                                    "SZOBA_FK": "21",
                                    "UGYFEL_FK": "balazs2"
                                },
                                {
                                    "SZOBA_ID": "126",
                                    "SZOBA_FK": "126",
                                    "UGYFEL_FK": "imre1"
                                },
                                {
                                    "SZOBA_ID": "27",
                                    "SZOBA_FK": "27",
                                    "UGYFEL_FK": "david"
                                },
                                {
                                    "SZOBA_ID": "148",
                                    "SZOBA_FK": "148",
                                    "UGYFEL_FK": "ROBERTI"
                                },
                                {
                                    "SZOBA_ID": "92",
                                    "SZOBA_FK": "92",
                                    "UGYFEL_FK": "andrea"
                                },
                                {
                                    "SZOBA_ID": "109",
                                    "SZOBA_FK": "109",
                                    "UGYFEL_FK": "imre1"
                                },
                                {
                                    "SZOBA_ID": "51",
                                    "SZOBA_FK": "51",
                                    "UGYFEL_FK": "arpad2"
                                },
                                {
                                    "SZOBA_ID": "148",
                                    "SZOBA_FK": "148",
                                    "UGYFEL_FK": "bernadett2"
                                },
                                {
                                    "SZOBA_ID": "14",
                                    "SZOBA_FK": "14",
                                    "UGYFEL_FK": "JOZSEFG"
                                },
                                {
                                    "SZOBA_ID": "70",
                                    "SZOBA_FK": "70",
                                    "UGYFEL_FK": "kata"
                                },
                                {
                                    "SZOBA_ID": "128",
                                    "SZOBA_FK": "128",
                                    "UGYFEL_FK": "peter4"
                                },
                                {
                                    "SZOBA_ID": "178",
                                    "SZOBA_FK": "178",
                                    "UGYFEL_FK": "balazs3"
                                },
                                {
                                    "SZOBA_ID": "89",
                                    "SZOBA_FK": "89",
                                    "UGYFEL_FK": "tamas"
                                },
                                {
                                    "SZOBA_ID": "8",
                                    "SZOBA_FK": "8",
                                    "UGYFEL_FK": "henrik3"
                                },
                                {
                                    "SZOBA_ID": "84",
                                    "SZOBA_FK": "84",
                                    "UGYFEL_FK": "katka"
                                },
                                {
                                    "SZOBA_ID": "20",
                                    "SZOBA_FK": "20",
                                    "UGYFEL_FK": "janos3"
                                },
                                {
                                    "SZOBA_ID": "34",
                                    "SZOBA_FK": "34",
                                    "UGYFEL_FK": "kriszti"
                                },
                                {
                                    "SZOBA_ID": "52",
                                    "SZOBA_FK": "52",
                                    "UGYFEL_FK": "zoltan"
                                },
                                {
                                    "SZOBA_ID": "44",
                                    "SZOBA_FK": "44",
                                    "UGYFEL_FK": "beata4"
                                },
                                {
                                    "SZOBA_ID": "48",
                                    "SZOBA_FK": "48",
                                    "UGYFEL_FK": "bernadett2"
                                },
                                {
                                    "SZOBA_ID": "158",
                                    "SZOBA_FK": "158",
                                    "UGYFEL_FK": "dora3"
                                },
                                {
                                    "SZOBA_ID": "49",
                                    "SZOBA_FK": "49",
                                    "UGYFEL_FK": "andrea"
                                },
                                {
                                    "SZOBA_ID": "114",
                                    "SZOBA_FK": "114",
                                    "UGYFEL_FK": "ANIKOS"
                                },
                                {
                                    "SZOBA_ID": "2",
                                    "SZOBA_FK": "2",
                                    "UGYFEL_FK": "fruzsina4"
                                },
                                {
                                    "SZOBA_ID": "35",
                                    "SZOBA_FK": "35",
                                    "UGYFEL_FK": "adam4"
                                },
                                {
                                    "SZOBA_ID": "74",
                                    "SZOBA_FK": "74",
                                    "UGYFEL_FK": "SZILARDS"
                                },
                                {
                                    "SZOBA_ID": "177",
                                    "SZOBA_FK": "177",
                                    "UGYFEL_FK": "georgij"
                                },
                                {
                                    "SZOBA_ID": "8",
                                    "SZOBA_FK": "8",
                                    "UGYFEL_FK": "brigitta"
                                },
                                {
                                    "SZOBA_ID": "149",
                                    "SZOBA_FK": "149",
                                    "UGYFEL_FK": "zsuzsa"
                                },
                                {
                                    "SZOBA_ID": "149",
                                    "SZOBA_FK": "149",
                                    "UGYFEL_FK": "krisztian4"
                                },
                                {
                                    "SZOBA_ID": "193",
                                    "SZOBA_FK": "193",
                                    "UGYFEL_FK": "IBOLYAA"
                                },
                                {
                                    "SZOBA_ID": "97",
                                    "SZOBA_FK": "97",
                                    "UGYFEL_FK": "imre1"
                                },
                                {
                                    "SZOBA_ID": "104",
                                    "SZOBA_FK": "104",
                                    "UGYFEL_FK": "andras3"
                                },
                                {
                                    "SZOBA_ID": "56",
                                    "SZOBA_FK": "56",
                                    "UGYFEL_FK": "BELAF"
                                },
                                {
                                    "SZOBA_ID": "172",
                                    "SZOBA_FK": "172",
                                    "UGYFEL_FK": "MIHALYJ"
                                },
                                {
                                    "SZOBA_ID": "158",
                                    "SZOBA_FK": "158",
                                    "UGYFEL_FK": "JANOSG"
                                },
                                {
                                    "SZOBA_ID": "92",
                                    "SZOBA_FK": "92",
                                    "UGYFEL_FK": "gabor4"
                                },
                                {
                                    "SZOBA_ID": "195",
                                    "SZOBA_FK": "195",
                                    "UGYFEL_FK": "EVAV"
                                },
                                {
                                    "SZOBA_ID": "149",
                                    "SZOBA_FK": "149",
                                    "UGYFEL_FK": "vivien3"
                                },
                                {
                                    "SZOBA_ID": "87",
                                    "SZOBA_FK": "87",
                                    "UGYFEL_FK": "gabor1"
                                },
                                {
                                    "SZOBA_ID": "63",
                                    "SZOBA_FK": "63",
                                    "UGYFEL_FK": "eva2"
                                },
                                {
                                    "SZOBA_ID": "45",
                                    "SZOBA_FK": "45",
                                    "UGYFEL_FK": "maria1"
                                },
                                {
                                    "SZOBA_ID": "74",
                                    "SZOBA_FK": "74",
                                    "UGYFEL_FK": "bence"
                                },
                                {
                                    "SZOBA_ID": "23",
                                    "SZOBA_FK": "23",
                                    "UGYFEL_FK": "roland"
                                },
                                {
                                    "SZOBA_ID": "135",
                                    "SZOBA_FK": "135",
                                    "UGYFEL_FK": "tunde"
                                },
                                {
                                    "SZOBA_ID": "6",
                                    "SZOBA_FK": "6",
                                    "UGYFEL_FK": "rajmond4"
                                },
                                {
                                    "SZOBA_ID": "42",
                                    "SZOBA_FK": "42",
                                    "UGYFEL_FK": "balazs2"
                                },
                                {
                                    "SZOBA_ID": "24",
                                    "SZOBA_FK": "24",
                                    "UGYFEL_FK": "JOZSEFG"
                                },
                                {
                                    "SZOBA_ID": "127",
                                    "SZOBA_FK": "127",
                                    "UGYFEL_FK": "nikolett3"
                                },
                                {
                                    "SZOBA_ID": "167",
                                    "SZOBA_FK": "167",
                                    "UGYFEL_FK": "KRISZTINAG"
                                },
                                {
                                    "SZOBA_ID": "53",
                                    "SZOBA_FK": "53",
                                    "UGYFEL_FK": "ANIKOS"
                                },
                                {
                                    "SZOBA_ID": "16",
                                    "SZOBA_FK": "16",
                                    "UGYFEL_FK": "valentin"
                                },
                                {
                                    "SZOBA_ID": "165",
                                    "SZOBA_FK": "165",
                                    "UGYFEL_FK": "agnes"
                                },
                                {
                                    "SZOBA_ID": "121",
                                    "SZOBA_FK": "121",
                                    "UGYFEL_FK": "sandor3"
                                },
                                {
                                    "SZOBA_ID": "86",
                                    "SZOBA_FK": "86",
                                    "UGYFEL_FK": "daniel1"
                                },
                                {
                                    "SZOBA_ID": "70",
                                    "SZOBA_FK": "70",
                                    "UGYFEL_FK": "andrea4"
                                },
                                {
                                    "SZOBA_ID": "124",
                                    "SZOBA_FK": "124",
                                    "UGYFEL_FK": "GYORGYO"
                                },
                                {
                                    "SZOBA_ID": "82",
                                    "SZOBA_FK": "82",
                                    "UGYFEL_FK": "denes"
                                },
                                {
                                    "SZOBA_ID": "185",
                                    "SZOBA_FK": "185",
                                    "UGYFEL_FK": "balazs2"
                                },
                                {
                                    "SZOBA_ID": "118",
                                    "SZOBA_FK": "118",
                                    "UGYFEL_FK": "maria1"
                                },
                                {
                                    "SZOBA_ID": "51",
                                    "SZOBA_FK": "51",
                                    "UGYFEL_FK": "polla"
                                },
                                {
                                    "SZOBA_ID": "88",
                                    "SZOBA_FK": "88",
                                    "UGYFEL_FK": "sara"
                                },
                                {
                                    "SZOBA_ID": "175",
                                    "SZOBA_FK": "175",
                                    "UGYFEL_FK": "ZSOLTJ"
                                },
                                {
                                    "SZOBA_ID": "187",
                                    "SZOBA_FK": "187",
                                    "UGYFEL_FK": "ZSUZSAV"
                                },
                                {
                                    "SZOBA_ID": "83",
                                    "SZOBA_FK": "83",
                                    "UGYFEL_FK": "adam1"
                                },
                                {
                                    "SZOBA_ID": "34",
                                    "SZOBA_FK": "34",
                                    "UGYFEL_FK": "szilvia1"
                                },
                                {
                                    "SZOBA_ID": "82",
                                    "SZOBA_FK": "82",
                                    "UGYFEL_FK": "norbert4"
                                },
                                {
                                    "SZOBA_ID": "28",
                                    "SZOBA_FK": "28",
                                    "UGYFEL_FK": "bence"
                                },
                                {
                                    "SZOBA_ID": "6",
                                    "SZOBA_FK": "6",
                                    "UGYFEL_FK": "ARPADM"
                                },
                                {
                                    "SZOBA_ID": "67",
                                    "SZOBA_FK": "67",
                                    "UGYFEL_FK": "ESZTERE"
                                },
                                {
                                    "SZOBA_ID": "64",
                                    "SZOBA_FK": "64",
                                    "UGYFEL_FK": "MIHALYJ"
                                },
                                {
                                    "SZOBA_ID": "12",
                                    "SZOBA_FK": "12",
                                    "UGYFEL_FK": "brigitta"
                                },
                                {
                                    "SZOBA_ID": "74",
                                    "SZOBA_FK": "74",
                                    "UGYFEL_FK": "nikoletta4"
                                },
                                {
                                    "SZOBA_ID": "83",
                                    "SZOBA_FK": "83",
                                    "UGYFEL_FK": "gabor4"
                                },
                                {
                                    "SZOBA_ID": "127",
                                    "SZOBA_FK": "127",
                                    "UGYFEL_FK": "VIKTORK"
                                },
                                {
                                    "SZOBA_ID": "184",
                                    "SZOBA_FK": "184",
                                    "UGYFEL_FK": "andras3"
                                },
                                {
                                    "SZOBA_ID": "131",
                                    "SZOBA_FK": "131",
                                    "UGYFEL_FK": "tihamer"
                                },
                                {
                                    "SZOBA_ID": "8",
                                    "SZOBA_FK": "8",
                                    "UGYFEL_FK": "sara"
                                },
                                {
                                    "SZOBA_ID": "58",
                                    "SZOBA_FK": "58",
                                    "UGYFEL_FK": "veronika4"
                                },
                                {
                                    "SZOBA_ID": "98",
                                    "SZOBA_FK": "98",
                                    "UGYFEL_FK": "andras2"
                                },
                                {
                                    "SZOBA_ID": "69",
                                    "SZOBA_FK": "69",
                                    "UGYFEL_FK": "kata"
                                },
                                {
                                    "SZOBA_ID": "28",
                                    "SZOBA_FK": "28",
                                    "UGYFEL_FK": "brigitta3"
                                },
                                {
                                    "SZOBA_ID": "80",
                                    "SZOBA_FK": "80",
                                    "UGYFEL_FK": "GYORGYO"
                                },
                                {
                                    "SZOBA_ID": "49",
                                    "SZOBA_FK": "49",
                                    "UGYFEL_FK": "kornel4"
                                },
                                {
                                    "SZOBA_ID": "54",
                                    "SZOBA_FK": "54",
                                    "UGYFEL_FK": "fruzsina4"
                                },
                                {
                                    "SZOBA_ID": "146",
                                    "SZOBA_FK": "146",
                                    "UGYFEL_FK": "GYONGYIK"
                                },
                                {
                                    "SZOBA_ID": "63",
                                    "SZOBA_FK": "63",
                                    "UGYFEL_FK": "MATYASS"
                                },
                                {
                                    "SZOBA_ID": "165",
                                    "SZOBA_FK": "165",
                                    "UGYFEL_FK": "LASZLON"
                                },
                                {
                                    "SZOBA_ID": "151",
                                    "SZOBA_FK": "151",
                                    "UGYFEL_FK": "zoltan4"
                                },
                                {
                                    "SZOBA_ID": "29",
                                    "SZOBA_FK": "29",
                                    "UGYFEL_FK": "krisztian4"
                                },
                                {
                                    "SZOBA_ID": "36",
                                    "SZOBA_FK": "36",
                                    "UGYFEL_FK": "tihamer"
                                },
                                {
                                    "SZOBA_ID": "16",
                                    "SZOBA_FK": "16",
                                    "UGYFEL_FK": "beata4"
                                },
                                {
                                    "SZOBA_ID": "165",
                                    "SZOBA_FK": "165",
                                    "UGYFEL_FK": "nikolett3"
                                },
                                {
                                    "SZOBA_ID": "185",
                                    "SZOBA_FK": "185",
                                    "UGYFEL_FK": "tunde"
                                },
                                {
                                    "SZOBA_ID": "39",
                                    "SZOBA_FK": "39",
                                    "UGYFEL_FK": "LASZLOA"
                                },
                                {
                                    "SZOBA_ID": "165",
                                    "SZOBA_FK": "165",
                                    "UGYFEL_FK": "BENCEB"
                                },
                                {
                                    "SZOBA_ID": "28",
                                    "SZOBA_FK": "28",
                                    "UGYFEL_FK": "KRISZTIANM"
                                },
                                {
                                    "SZOBA_ID": "72",
                                    "SZOBA_FK": "72",
                                    "UGYFEL_FK": "ARONK"
                                },
                                {
                                    "SZOBA_ID": "192",
                                    "SZOBA_FK": "192",
                                    "UGYFEL_FK": "ATTILAO"
                                },
                                {
                                    "SZOBA_ID": "34",
                                    "SZOBA_FK": "34",
                                    "UGYFEL_FK": "janos3"
                                },
                                {
                                    "SZOBA_ID": "180",
                                    "SZOBA_FK": "180",
                                    "UGYFEL_FK": "JOZSEFG"
                                },
                                {
                                    "SZOBA_ID": "22",
                                    "SZOBA_FK": "22",
                                    "UGYFEL_FK": "csongor3"
                                },
                                {
                                    "SZOBA_ID": "156",
                                    "SZOBA_FK": "156",
                                    "UGYFEL_FK": "ZOLTANP"
                                },
                                {
                                    "SZOBA_ID": "141",
                                    "SZOBA_FK": "141",
                                    "UGYFEL_FK": "arpad2"
                                },
                                {
                                    "SZOBA_ID": "133",
                                    "SZOBA_FK": "133",
                                    "UGYFEL_FK": "dani"
                                },
                                {
                                    "SZOBA_ID": "130",
                                    "SZOBA_FK": "130",
                                    "UGYFEL_FK": "sara"
                                },
                                {
                                    "SZOBA_ID": "161",
                                    "SZOBA_FK": "161",
                                    "UGYFEL_FK": "kati"
                                },
                                {
                                    "SZOBA_ID": "188",
                                    "SZOBA_FK": "188",
                                    "UGYFEL_FK": "ARPADH"
                                },
                                {
                                    "SZOBA_ID": "173",
                                    "SZOBA_FK": "173",
                                    "UGYFEL_FK": "timea2"
                                },
                                {
                                    "SZOBA_ID": "48",
                                    "SZOBA_FK": "48",
                                    "UGYFEL_FK": "kati"
                                },
                                {
                                    "SZOBA_ID": "140",
                                    "SZOBA_FK": "140",
                                    "UGYFEL_FK": "ZOLTANP"
                                },
                                {
                                    "SZOBA_ID": "17",
                                    "SZOBA_FK": "17",
                                    "UGYFEL_FK": "marton"
                                },
                                {
                                    "SZOBA_ID": "174",
                                    "SZOBA_FK": "174",
                                    "UGYFEL_FK": "zsolt1"
                                },
                                {
                                    "SZOBA_ID": "11",
                                    "SZOBA_FK": "11",
                                    "UGYFEL_FK": "tunde"
                                },
                                {
                                    "SZOBA_ID": "36",
                                    "SZOBA_FK": "36",
                                    "UGYFEL_FK": "VIKTORK"
                                },
                                {
                                    "SZOBA_ID": "32",
                                    "SZOBA_FK": "32",
                                    "UGYFEL_FK": "JUDITH"
                                },
                                {
                                    "SZOBA_ID": "112",
                                    "SZOBA_FK": "112",
                                    "UGYFEL_FK": "annamaria1"
                                },
                                {
                                    "SZOBA_ID": "160",
                                    "SZOBA_FK": "160",
                                    "UGYFEL_FK": "klaudia2"
                                },
                                {
                                    "SZOBA_ID": "123",
                                    "SZOBA_FK": "123",
                                    "UGYFEL_FK": "LASZLOA"
                                },
                                {
                                    "SZOBA_ID": "40",
                                    "SZOBA_FK": "40",
                                    "UGYFEL_FK": "balint1"
                                },
                                {
                                    "SZOBA_ID": "185",
                                    "SZOBA_FK": "185",
                                    "UGYFEL_FK": "BERNADETTO"
                                },
                                {
                                    "SZOBA_ID": "193",
                                    "SZOBA_FK": "193",
                                    "UGYFEL_FK": "julia"
                                },
                                {
                                    "SZOBA_ID": "160",
                                    "SZOBA_FK": "160",
                                    "UGYFEL_FK": "andras41"
                                },
                                {
                                    "SZOBA_ID": "182",
                                    "SZOBA_FK": "182",
                                    "UGYFEL_FK": "NIKOLETTAT"
                                },
                                {
                                    "SZOBA_ID": "80",
                                    "SZOBA_FK": "80",
                                    "UGYFEL_FK": "krisztian4"
                                },
                                {
                                    "SZOBA_ID": "168",
                                    "SZOBA_FK": "168",
                                    "UGYFEL_FK": "zsolt1"
                                },
                                {
                                    "SZOBA_ID": "110",
                                    "SZOBA_FK": "110",
                                    "UGYFEL_FK": "kata"
                                },
                                {
                                    "SZOBA_ID": "40",
                                    "SZOBA_FK": "40",
                                    "UGYFEL_FK": "ARONK"
                                },
                                {
                                    "SZOBA_ID": "160",
                                    "SZOBA_FK": "160",
                                    "UGYFEL_FK": "balint1"
                                },
                                {
                                    "SZOBA_ID": "23",
                                    "SZOBA_FK": "23",
                                    "UGYFEL_FK": "LASZLON"
                                },
                                {
                                    "SZOBA_ID": "56",
                                    "SZOBA_FK": "56",
                                    "UGYFEL_FK": "KRISZTINAG"
                                },
                                {
                                    "SZOBA_ID": "62",
                                    "SZOBA_FK": "62",
                                    "UGYFEL_FK": "ANNAMARIAR"
                                },
                                {
                                    "SZOBA_ID": "181",
                                    "SZOBA_FK": "181",
                                    "UGYFEL_FK": "alexandra"
                                },
                                {
                                    "SZOBA_ID": "62",
                                    "SZOBA_FK": "62",
                                    "UGYFEL_FK": "david"
                                },
                                {
                                    "SZOBA_ID": "183",
                                    "SZOBA_FK": "183",
                                    "UGYFEL_FK": "roland"
                                },
                                {
                                    "SZOBA_ID": "74",
                                    "SZOBA_FK": "74",
                                    "UGYFEL_FK": "sebestyen"
                                },
                                {
                                    "SZOBA_ID": "163",
                                    "SZOBA_FK": "163",
                                    "UGYFEL_FK": "BEATRIXK"
                                },
                                {
                                    "SZOBA_ID": "92",
                                    "SZOBA_FK": "92",
                                    "UGYFEL_FK": "BERNADETTO"
                                },
                                {
                                    "SZOBA_ID": "115",
                                    "SZOBA_FK": "115",
                                    "UGYFEL_FK": "csongor3"
                                },
                                {
                                    "SZOBA_ID": "170",
                                    "SZOBA_FK": "170",
                                    "UGYFEL_FK": "BEATRIXK"
                                },
                                {
                                    "SZOBA_ID": "23",
                                    "SZOBA_FK": "23",
                                    "UGYFEL_FK": "GYONGYIK"
                                },
                                {
                                    "SZOBA_ID": "4",
                                    "SZOBA_FK": "4",
                                    "UGYFEL_FK": "GYORGYO"
                                },
                                {
                                    "SZOBA_ID": "8",
                                    "SZOBA_FK": "8",
                                    "UGYFEL_FK": "LASZLOA"
                                },
                                {
                                    "SZOBA_ID": "19",
                                    "SZOBA_FK": "19",
                                    "UGYFEL_FK": "balint1"
                                },
                                {
                                    "SZOBA_ID": "1",
                                    "SZOBA_FK": "1",
                                    "UGYFEL_FK": "andras3"
                                },
                                {
                                    "SZOBA_ID": "66",
                                    "SZOBA_FK": "66",
                                    "UGYFEL_FK": "TAMASF"
                                },
                                {
                                    "SZOBA_ID": "12",
                                    "SZOBA_FK": "12",
                                    "UGYFEL_FK": "csongor3"
                                },
                                {
                                    "SZOBA_ID": "196",
                                    "SZOBA_FK": "196",
                                    "UGYFEL_FK": "BEATRIXS"
                                },
                                {
                                    "SZOBA_ID": "117",
                                    "SZOBA_FK": "117",
                                    "UGYFEL_FK": "bernadett1"
                                },
                                {
                                    "SZOBA_ID": "84",
                                    "SZOBA_FK": "84",
                                    "UGYFEL_FK": "katka"
                                },
                                {
                                    "SZOBA_ID": "47",
                                    "SZOBA_FK": "47",
                                    "UGYFEL_FK": "andi"
                                },
                                {
                                    "SZOBA_ID": "156",
                                    "SZOBA_FK": "156",
                                    "UGYFEL_FK": "katka"
                                },
                                {
                                    "SZOBA_ID": "187",
                                    "SZOBA_FK": "187",
                                    "UGYFEL_FK": "brigitta3"
                                },
                                {
                                    "SZOBA_ID": "181",
                                    "SZOBA_FK": "181",
                                    "UGYFEL_FK": "mark"
                                },
                                {
                                    "SZOBA_ID": "111",
                                    "SZOBA_FK": "111",
                                    "UGYFEL_FK": "tamas"
                                },
                                {
                                    "SZOBA_ID": "41",
                                    "SZOBA_FK": "41",
                                    "UGYFEL_FK": "ZSUZSAV"
                                },
                                {
                                    "SZOBA_ID": "72",
                                    "SZOBA_FK": "72",
                                    "UGYFEL_FK": "lala"
                                },
                                {
                                    "SZOBA_ID": "117",
                                    "SZOBA_FK": "117",
                                    "UGYFEL_FK": "georgij"
                                },
                                {
                                    "SZOBA_ID": "74",
                                    "SZOBA_FK": "74",
                                    "UGYFEL_FK": "norbert4"
                                },
                                {
                                    "SZOBA_ID": "110",
                                    "SZOBA_FK": "110",
                                    "UGYFEL_FK": "krisztina1"
                                },
                                {
                                    "SZOBA_ID": "5",
                                    "SZOBA_FK": "5",
                                    "UGYFEL_FK": "ANIKOS"
                                },
                                {
                                    "SZOBA_ID": "114",
                                    "SZOBA_FK": "114",
                                    "UGYFEL_FK": "ferenc1"
                                },
                                {
                                    "SZOBA_ID": "123",
                                    "SZOBA_FK": "123",
                                    "UGYFEL_FK": "norbert4"
                                },
                                {
                                    "SZOBA_ID": "154",
                                    "SZOBA_FK": "154",
                                    "UGYFEL_FK": "zsofi1"
                                },
                                {
                                    "SZOBA_ID": "153",
                                    "SZOBA_FK": "153",
                                    "UGYFEL_FK": "bernadett2"
                                },
                                {
                                    "SZOBA_ID": "12",
                                    "SZOBA_FK": "12",
                                    "UGYFEL_FK": "ZSOLTJ"
                                },
                                {
                                    "SZOBA_ID": "35",
                                    "SZOBA_FK": "35",
                                    "UGYFEL_FK": "SZABOLCSM"
                                },
                                {
                                    "SZOBA_ID": "103",
                                    "SZOBA_FK": "103",
                                    "UGYFEL_FK": "BEATRIXK"
                                },
                                {
                                    "SZOBA_ID": "16",
                                    "SZOBA_FK": "16",
                                    "UGYFEL_FK": "gabor1"
                                },
                                {
                                    "SZOBA_ID": "169",
                                    "SZOBA_FK": "169",
                                    "UGYFEL_FK": "bertalan"
                                },
                                {
                                    "SZOBA_ID": "94",
                                    "SZOBA_FK": "94",
                                    "UGYFEL_FK": "andras21"
                                },
                                {
                                    "SZOBA_ID": "76",
                                    "SZOBA_FK": "76",
                                    "UGYFEL_FK": "nikolett3"
                                },
                                {
                                    "SZOBA_ID": "193",
                                    "SZOBA_FK": "193",
                                    "UGYFEL_FK": "debora"
                                },
                                {
                                    "SZOBA_ID": "198",
                                    "SZOBA_FK": "198",
                                    "UGYFEL_FK": "roland"
                                },
                                {
                                    "SZOBA_ID": "35",
                                    "SZOBA_FK": "35",
                                    "UGYFEL_FK": "marton"
                                },
                                {
                                    "SZOBA_ID": "143",
                                    "SZOBA_FK": "143",
                                    "UGYFEL_FK": "AGNESH"
                                },
                                {
                                    "SZOBA_ID": "171",
                                    "SZOBA_FK": "171",
                                    "UGYFEL_FK": "maria1"
                                },
                                {
                                    "SZOBA_ID": "77",
                                    "SZOBA_FK": "77",
                                    "UGYFEL_FK": "imre1"
                                },
                                {
                                    "SZOBA_ID": "80",
                                    "SZOBA_FK": "80",
                                    "UGYFEL_FK": "andras41"
                                },
                                {
                                    "SZOBA_ID": "172",
                                    "SZOBA_FK": "172",
                                    "UGYFEL_FK": "norbert5"
                                },
                                {
                                    "SZOBA_ID": "36",
                                    "SZOBA_FK": "36",
                                    "UGYFEL_FK": "RENATAS"
                                },
                                {
                                    "SZOBA_ID": "48",
                                    "SZOBA_FK": "48",
                                    "UGYFEL_FK": "aniko"
                                },
                                {
                                    "SZOBA_ID": "53",
                                    "SZOBA_FK": "53",
                                    "UGYFEL_FK": "MIKLOSB"
                                },
                                {
                                    "SZOBA_ID": "133",
                                    "SZOBA_FK": "133",
                                    "UGYFEL_FK": "ANIKOS"
                                },
                                {
                                    "SZOBA_ID": "190",
                                    "SZOBA_FK": "190",
                                    "UGYFEL_FK": "imre1"
                                },
                                {
                                    "SZOBA_ID": "6",
                                    "SZOBA_FK": "6",
                                    "UGYFEL_FK": "MIHALYJ"
                                },
                                {
                                    "SZOBA_ID": "178",
                                    "SZOBA_FK": "178",
                                    "UGYFEL_FK": "TAMASF"
                                },
                                {
                                    "SZOBA_ID": "103",
                                    "SZOBA_FK": "103",
                                    "UGYFEL_FK": "nikoletta4"
                                },
                                {
                                    "SZOBA_ID": "197",
                                    "SZOBA_FK": "197",
                                    "UGYFEL_FK": "eszter2"
                                },
                                {
                                    "SZOBA_ID": "118",
                                    "SZOBA_FK": "118",
                                    "UGYFEL_FK": "david"
                                },
                                {
                                    "SZOBA_ID": "83",
                                    "SZOBA_FK": "83",
                                    "UGYFEL_FK": "peter3"
                                },
                                {
                                    "SZOBA_ID": "118",
                                    "SZOBA_FK": "118",
                                    "UGYFEL_FK": "fruzsina4"
                                },
                                {
                                    "SZOBA_ID": "82",
                                    "SZOBA_FK": "82",
                                    "UGYFEL_FK": "katalin4"
                                },
                                {
                                    "SZOBA_ID": "120",
                                    "SZOBA_FK": "120",
                                    "UGYFEL_FK": "ISTVANV"
                                },
                                {
                                    "SZOBA_ID": "132",
                                    "SZOBA_FK": "132",
                                    "UGYFEL_FK": "kata"
                                },
                                {
                                    "SZOBA_ID": "73",
                                    "SZOBA_FK": "73",
                                    "UGYFEL_FK": "GYONGYIK"
                                },
                                {
                                    "SZOBA_ID": "4",
                                    "SZOBA_FK": "4",
                                    "UGYFEL_FK": "aniko4"
                                },
                                {
                                    "SZOBA_ID": "117",
                                    "SZOBA_FK": "117",
                                    "UGYFEL_FK": "katalin4"
                                },
                                {
                                    "SZOBA_ID": "36",
                                    "SZOBA_FK": "36",
                                    "UGYFEL_FK": "ARONK"
                                },
                                {
                                    "SZOBA_ID": "134",
                                    "SZOBA_FK": "134",
                                    "UGYFEL_FK": "peter2"
                                },
                                {
                                    "SZOBA_ID": "22",
                                    "SZOBA_FK": "22",
                                    "UGYFEL_FK": "beata4"
                                },
                                {
                                    "SZOBA_ID": "70",
                                    "SZOBA_FK": "70",
                                    "UGYFEL_FK": "kata"
                                },
                                {
                                    "SZOBA_ID": "122",
                                    "SZOBA_FK": "122",
                                    "UGYFEL_FK": "aron2"
                                },
                                {
                                    "SZOBA_ID": "182",
                                    "SZOBA_FK": "182",
                                    "UGYFEL_FK": "TAMASF"
                                },
                                {
                                    "SZOBA_ID": "71",
                                    "SZOBA_FK": "71",
                                    "UGYFEL_FK": "andras21"
                                },
                                {
                                    "SZOBA_ID": "164",
                                    "SZOBA_FK": "164",
                                    "UGYFEL_FK": "sandor"
                                },
                                {
                                    "SZOBA_ID": "198",
                                    "SZOBA_FK": "198",
                                    "UGYFEL_FK": "JANOSP"
                                },
                                {
                                    "SZOBA_ID": "33",
                                    "SZOBA_FK": "33",
                                    "UGYFEL_FK": "krisztina"
                                },
                                {
                                    "SZOBA_ID": "75",
                                    "SZOBA_FK": "75",
                                    "UGYFEL_FK": "jozsef2"
                                },
                                {
                                    "SZOBA_ID": "137",
                                    "SZOBA_FK": "137",
                                    "UGYFEL_FK": "ANDRASE"
                                },
                                {
                                    "SZOBA_ID": "174",
                                    "SZOBA_FK": "174",
                                    "UGYFEL_FK": "katalin"
                                },
                                {
                                    "SZOBA_ID": "92",
                                    "SZOBA_FK": "92",
                                    "UGYFEL_FK": "kata"
                                },
                                {
                                    "SZOBA_ID": "190",
                                    "SZOBA_FK": "190",
                                    "UGYFEL_FK": "eszter2"
                                },
                                {
                                    "SZOBA_ID": "40",
                                    "SZOBA_FK": "40",
                                    "UGYFEL_FK": "norbert"
                                },
                                {
                                    "SZOBA_ID": "43",
                                    "SZOBA_FK": "43",
                                    "UGYFEL_FK": "balazs2"
                                },
                                {
                                    "SZOBA_ID": "12",
                                    "SZOBA_FK": "12",
                                    "UGYFEL_FK": "KRISZTIANM"
                                },
                                {
                                    "SZOBA_ID": "179",
                                    "SZOBA_FK": "179",
                                    "UGYFEL_FK": "csongor3"
                                },
                                {
                                    "SZOBA_ID": "181",
                                    "SZOBA_FK": "181",
                                    "UGYFEL_FK": "gabriella1"
                                },
                                {
                                    "SZOBA_ID": "30",
                                    "SZOBA_FK": "30",
                                    "UGYFEL_FK": "balazs2"
                                },
                                {
                                    "SZOBA_ID": "134",
                                    "SZOBA_FK": "134",
                                    "UGYFEL_FK": "dani"
                                },
                                {
                                    "SZOBA_ID": "157",
                                    "SZOBA_FK": "157",
                                    "UGYFEL_FK": "zsuzsanna"
                                },
                                {
                                    "SZOBA_ID": "119",
                                    "SZOBA_FK": "119",
                                    "UGYFEL_FK": "gabor1"
                                },
                                {
                                    "SZOBA_ID": "68",
                                    "SZOBA_FK": "68",
                                    "UGYFEL_FK": "ROBERTI"
                                },
                                {
                                    "SZOBA_ID": "15",
                                    "SZOBA_FK": "15",
                                    "UGYFEL_FK": "norbert2"
                                },
                                {
                                    "SZOBA_ID": "113",
                                    "SZOBA_FK": "113",
                                    "UGYFEL_FK": "katka"
                                },
                                {
                                    "SZOBA_ID": "188",
                                    "SZOBA_FK": "188",
                                    "UGYFEL_FK": "zoltan"
                                },
                                {
                                    "SZOBA_ID": "27",
                                    "SZOBA_FK": "27",
                                    "UGYFEL_FK": "aniko4"
                                },
                                {
                                    "SZOBA_ID": "146",
                                    "SZOBA_FK": "146",
                                    "UGYFEL_FK": "laszlo2"
                                },
                                {
                                    "SZOBA_ID": "38",
                                    "SZOBA_FK": "38",
                                    "UGYFEL_FK": "reka4"
                                },
                                {
                                    "SZOBA_ID": "127",
                                    "SZOBA_FK": "127",
                                    "UGYFEL_FK": "akos"
                                },
                                {
                                    "SZOBA_ID": "18",
                                    "SZOBA_FK": "18",
                                    "UGYFEL_FK": "bernadett2"
                                },
                                {
                                    "SZOBA_ID": "122",
                                    "SZOBA_FK": "122",
                                    "UGYFEL_FK": "daniel"
                                },
                                {
                                    "SZOBA_ID": "89",
                                    "SZOBA_FK": "89",
                                    "UGYFEL_FK": "ARONK"
                                },
                                {
                                    "SZOBA_ID": "3",
                                    "SZOBA_FK": "3",
                                    "UGYFEL_FK": "ROBERTP"
                                },
                                {
                                    "SZOBA_ID": "191",
                                    "SZOBA_FK": "191",
                                    "UGYFEL_FK": "jozsef2"
                                },
                                {
                                    "SZOBA_ID": "130",
                                    "SZOBA_FK": "130",
                                    "UGYFEL_FK": "zsuzsa3"
                                },
                                {
                                    "SZOBA_ID": "110",
                                    "SZOBA_FK": "110",
                                    "UGYFEL_FK": "roza2"
                                },
                                {
                                    "SZOBA_ID": "139",
                                    "SZOBA_FK": "139",
                                    "UGYFEL_FK": "marton"
                                },
                                {
                                    "SZOBA_ID": "193",
                                    "SZOBA_FK": "193",
                                    "UGYFEL_FK": "peter4"
                                },
                                {
                                    "SZOBA_ID": "13",
                                    "SZOBA_FK": "13",
                                    "UGYFEL_FK": "TAMASF"
                                },
                                {
                                    "SZOBA_ID": "134",
                                    "SZOBA_FK": "134",
                                    "UGYFEL_FK": "balazs2"
                                },
                                {
                                    "SZOBA_ID": "136",
                                    "SZOBA_FK": "136",
                                    "UGYFEL_FK": "adam3"
                                },
                                {
                                    "SZOBA_ID": "157",
                                    "SZOBA_FK": "157",
                                    "UGYFEL_FK": "andrea4"
                                },
                                {
                                    "SZOBA_ID": "95",
                                    "SZOBA_FK": "95",
                                    "UGYFEL_FK": "krisztina"
                                },
                                {
                                    "SZOBA_ID": "121",
                                    "SZOBA_FK": "121",
                                    "UGYFEL_FK": "andi"
                                },
                                {
                                    "SZOBA_ID": "98",
                                    "SZOBA_FK": "98",
                                    "UGYFEL_FK": "jozsef"
                                },
                                {
                                    "SZOBA_ID": "2",
                                    "SZOBA_FK": "2",
                                    "UGYFEL_FK": "SEBASTIANF"
                                },
                                {
                                    "SZOBA_ID": "25",
                                    "SZOBA_FK": "25",
                                    "UGYFEL_FK": "MARKH"
                                },
                                {
                                    "SZOBA_ID": "33",
                                    "SZOBA_FK": "33",
                                    "UGYFEL_FK": "ANDREAT"
                                },
                                {
                                    "SZOBA_ID": "79",
                                    "SZOBA_FK": "79",
                                    "UGYFEL_FK": "balazs3"
                                },
                                {
                                    "SZOBA_ID": "69",
                                    "SZOBA_FK": "69",
                                    "UGYFEL_FK": "krisztina1"
                                },
                                {
                                    "SZOBA_ID": "47",
                                    "SZOBA_FK": "47",
                                    "UGYFEL_FK": "ARPADH"
                                },
                                {
                                    "SZOBA_ID": "86",
                                    "SZOBA_FK": "86",
                                    "UGYFEL_FK": "balint1"
                                },
                                {
                                    "SZOBA_ID": "151",
                                    "SZOBA_FK": "151",
                                    "UGYFEL_FK": "pal"
                                },
                                {
                                    "SZOBA_ID": "85",
                                    "SZOBA_FK": "85",
                                    "UGYFEL_FK": "andras4"
                                },
                                {
                                    "SZOBA_ID": "38",
                                    "SZOBA_FK": "38",
                                    "UGYFEL_FK": "imre"
                                },
                                {
                                    "SZOBA_ID": "154",
                                    "SZOBA_FK": "154",
                                    "UGYFEL_FK": "edit"
                                },
                                {
                                    "SZOBA_ID": "122",
                                    "SZOBA_FK": "122",
                                    "UGYFEL_FK": "SEBASTIANF"
                                },
                                {
                                    "SZOBA_ID": "50",
                                    "SZOBA_FK": "50",
                                    "UGYFEL_FK": "ZSUZSAV"
                                },
                                {
                                    "SZOBA_ID": "139",
                                    "SZOBA_FK": "139",
                                    "UGYFEL_FK": "georgij"
                                },
                                {
                                    "SZOBA_ID": "198",
                                    "SZOBA_FK": "198",
                                    "UGYFEL_FK": "edit"
                                },
                                {
                                    "SZOBA_ID": "49",
                                    "SZOBA_FK": "49",
                                    "UGYFEL_FK": "ARPADH"
                                },
                                {
                                    "SZOBA_ID": "183",
                                    "SZOBA_FK": "183",
                                    "UGYFEL_FK": "krisztina"
                                },
                                {
                                    "SZOBA_ID": "161",
                                    "SZOBA_FK": "161",
                                    "UGYFEL_FK": "dani"
                                },
                                {
                                    "SZOBA_ID": "2",
                                    "SZOBA_FK": "2",
                                    "UGYFEL_FK": "sandor"
                                },
                                {
                                    "SZOBA_ID": "20",
                                    "SZOBA_FK": "20",
                                    "UGYFEL_FK": "kata"
                                },
                                {
                                    "SZOBA_ID": "80",
                                    "SZOBA_FK": "80",
                                    "UGYFEL_FK": "SZILARDS"
                                },
                                {
                                    "SZOBA_ID": "99",
                                    "SZOBA_FK": "99",
                                    "UGYFEL_FK": "david1"
                                },
                                {
                                    "SZOBA_ID": "5",
                                    "SZOBA_FK": "5",
                                    "UGYFEL_FK": "NIKOLETTAT"
                                },
                                {
                                    "SZOBA_ID": "195",
                                    "SZOBA_FK": "195",
                                    "UGYFEL_FK": "andras41"
                                },
                                {
                                    "SZOBA_ID": "163",
                                    "SZOBA_FK": "163",
                                    "UGYFEL_FK": "ANNAMARIAR"
                                },
                                {
                                    "SZOBA_ID": "29",
                                    "SZOBA_FK": "29",
                                    "UGYFEL_FK": "MARKH"
                                },
                                {
                                    "SZOBA_ID": "145",
                                    "SZOBA_FK": "145",
                                    "UGYFEL_FK": "kornel4"
                                },
                                {
                                    "SZOBA_ID": "38",
                                    "SZOBA_FK": "38",
                                    "UGYFEL_FK": "laszlo1"
                                },
                                {
                                    "SZOBA_ID": "86",
                                    "SZOBA_FK": "86",
                                    "UGYFEL_FK": "aladar"
                                },
                                {
                                    "SZOBA_ID": "59",
                                    "SZOBA_FK": "59",
                                    "UGYFEL_FK": "peter4"
                                },
                                {
                                    "SZOBA_ID": "62",
                                    "SZOBA_FK": "62",
                                    "UGYFEL_FK": "veronika4"
                                },
                                {
                                    "SZOBA_ID": "27",
                                    "SZOBA_FK": "27",
                                    "UGYFEL_FK": "MARKH"
                                },
                                {
                                    "SZOBA_ID": "109",
                                    "SZOBA_FK": "109",
                                    "UGYFEL_FK": "emese"
                                },
                                {
                                    "SZOBA_ID": "59",
                                    "SZOBA_FK": "59",
                                    "UGYFEL_FK": "arpad2"
                                },
                                {
                                    "SZOBA_ID": "113",
                                    "SZOBA_FK": "113",
                                    "UGYFEL_FK": "anita"
                                },
                                {
                                    "SZOBA_ID": "55",
                                    "SZOBA_FK": "55",
                                    "UGYFEL_FK": "zsuzsa3"
                                },
                                {
                                    "SZOBA_ID": "144",
                                    "SZOBA_FK": "144",
                                    "UGYFEL_FK": "ISTVANV"
                                },
                                {
                                    "SZOBA_ID": "43",
                                    "SZOBA_FK": "43",
                                    "UGYFEL_FK": "fruzsina4"
                                },
                                {
                                    "SZOBA_ID": "120",
                                    "SZOBA_FK": "120",
                                    "UGYFEL_FK": "reka4"
                                },
                                {
                                    "SZOBA_ID": "132",
                                    "SZOBA_FK": "132",
                                    "UGYFEL_FK": "attila"
                                },
                                {
                                    "SZOBA_ID": "197",
                                    "SZOBA_FK": "197",
                                    "UGYFEL_FK": "zoltan4"
                                },
                                {
                                    "SZOBA_ID": "70",
                                    "SZOBA_FK": "70",
                                    "UGYFEL_FK": "andras2"
                                },
                                {
                                    "SZOBA_ID": "74",
                                    "SZOBA_FK": "74",
                                    "UGYFEL_FK": "peter4"
                                },
                                {
                                    "SZOBA_ID": "175",
                                    "SZOBA_FK": "175",
                                    "UGYFEL_FK": "andras41"
                                },
                                {
                                    "SZOBA_ID": "194",
                                    "SZOBA_FK": "194",
                                    "UGYFEL_FK": "kriszti"
                                },
                                {
                                    "SZOBA_ID": "54",
                                    "SZOBA_FK": "54",
                                    "UGYFEL_FK": "kristof4"
                                },
                                {
                                    "SZOBA_ID": "95",
                                    "SZOBA_FK": "95",
                                    "UGYFEL_FK": "eszter2"
                                },
                                {
                                    "SZOBA_ID": "140",
                                    "SZOBA_FK": "140",
                                    "UGYFEL_FK": "BEATRIXS"
                                },
                                {
                                    "SZOBA_ID": "6",
                                    "SZOBA_FK": "6",
                                    "UGYFEL_FK": "BEATRIXS"
                                },
                                {
                                    "SZOBA_ID": "150",
                                    "SZOBA_FK": "150",
                                    "UGYFEL_FK": "ZSOLTJ"
                                },
                                {
                                    "SZOBA_ID": "89",
                                    "SZOBA_FK": "89",
                                    "UGYFEL_FK": "andras21"
                                },
                                {
                                    "SZOBA_ID": "108",
                                    "SZOBA_FK": "108",
                                    "UGYFEL_FK": "dani"
                                },
                                {
                                    "SZOBA_ID": "87",
                                    "SZOBA_FK": "87",
                                    "UGYFEL_FK": "vivien3"
                                },
                                {
                                    "SZOBA_ID": "77",
                                    "SZOBA_FK": "77",
                                    "UGYFEL_FK": "david1"
                                },
                                {
                                    "SZOBA_ID": "150",
                                    "SZOBA_FK": "150",
                                    "UGYFEL_FK": "kriszti"
                                },
                                {
                                    "SZOBA_ID": "20",
                                    "SZOBA_FK": "20",
                                    "UGYFEL_FK": "gusztav"
                                },
                                {
                                    "SZOBA_ID": "163",
                                    "SZOBA_FK": "163",
                                    "UGYFEL_FK": "MATEK"
                                },
                                {
                                    "SZOBA_ID": "86",
                                    "SZOBA_FK": "86",
                                    "UGYFEL_FK": "klaudia2"
                                },
                                {
                                    "SZOBA_ID": "110",
                                    "SZOBA_FK": "110",
                                    "UGYFEL_FK": "eszter2"
                                },
                                {
                                    "SZOBA_ID": "3",
                                    "SZOBA_FK": "3",
                                    "UGYFEL_FK": "SZILARDS"
                                },
                                {
                                    "SZOBA_ID": "132",
                                    "SZOBA_FK": "132",
                                    "UGYFEL_FK": "LASZLON"
                                },
                                {
                                    "SZOBA_ID": "155",
                                    "SZOBA_FK": "155",
                                    "UGYFEL_FK": "beata4"
                                },
                                {
                                    "SZOBA_ID": "58",
                                    "SZOBA_FK": "58",
                                    "UGYFEL_FK": "anita"
                                },
                                {
                                    "SZOBA_ID": "20",
                                    "SZOBA_FK": "20",
                                    "UGYFEL_FK": "gabriella10"
                                },
                                {
                                    "SZOBA_ID": "151",
                                    "SZOBA_FK": "151",
                                    "UGYFEL_FK": "klaudia2"
                                },
                                {
                                    "SZOBA_ID": "198",
                                    "SZOBA_FK": "198",
                                    "UGYFEL_FK": "rajmond4"
                                },
                                {
                                    "SZOBA_ID": "158",
                                    "SZOBA_FK": "158",
                                    "UGYFEL_FK": "beata4"
                                },
                                {
                                    "SZOBA_ID": "40",
                                    "SZOBA_FK": "40",
                                    "UGYFEL_FK": "janos3"
                                },
                                {
                                    "SZOBA_ID": "83",
                                    "SZOBA_FK": "83",
                                    "UGYFEL_FK": "eszter"
                                },
                                {
                                    "SZOBA_ID": "145",
                                    "SZOBA_FK": "145",
                                    "UGYFEL_FK": "BERNADETTO"
                                },
                                {
                                    "SZOBA_ID": "115",
                                    "SZOBA_FK": "115",
                                    "UGYFEL_FK": "andras21"
                                },
                                {
                                    "SZOBA_ID": "64",
                                    "SZOBA_FK": "64",
                                    "UGYFEL_FK": "akos"
                                },
                                {
                                    "SZOBA_ID": "11",
                                    "SZOBA_FK": "11",
                                    "UGYFEL_FK": "norbert4"
                                },
                                {
                                    "SZOBA_ID": "112",
                                    "SZOBA_FK": "112",
                                    "UGYFEL_FK": "sara"
                                },
                                {
                                    "SZOBA_ID": "185",
                                    "SZOBA_FK": "185",
                                    "UGYFEL_FK": "eva"
                                },
                                {
                                    "SZOBA_ID": "70",
                                    "SZOBA_FK": "70",
                                    "UGYFEL_FK": "andras2"
                                },
                                {
                                    "SZOBA_ID": "4",
                                    "SZOBA_FK": "4",
                                    "UGYFEL_FK": "istvan"
                                },
                                {
                                    "SZOBA_ID": "121",
                                    "SZOBA_FK": "121",
                                    "UGYFEL_FK": "ANDREAT"
                                },
                                {
                                    "SZOBA_ID": "15",
                                    "SZOBA_FK": "15",
                                    "UGYFEL_FK": "ROBERTI"
                                },
                                {
                                    "SZOBA_ID": "22",
                                    "SZOBA_FK": "22",
                                    "UGYFEL_FK": "bernadett1"
                                },
                                {
                                    "SZOBA_ID": "7",
                                    "SZOBA_FK": "7",
                                    "UGYFEL_FK": "ferenc1"
                                },
                                {
                                    "SZOBA_ID": "4",
                                    "SZOBA_FK": "4",
                                    "UGYFEL_FK": "ANIKOS"
                                },
                                {
                                    "SZOBA_ID": "175",
                                    "SZOBA_FK": "175",
                                    "UGYFEL_FK": "jozsef"
                                },
                                {
                                    "SZOBA_ID": "126",
                                    "SZOBA_FK": "126",
                                    "UGYFEL_FK": "miklos2"
                                },
                                {
                                    "SZOBA_ID": "45",
                                    "SZOBA_FK": "45",
                                    "UGYFEL_FK": "attila1"
                                },
                                {
                                    "SZOBA_ID": "30",
                                    "SZOBA_FK": "30",
                                    "UGYFEL_FK": "LASZLON"
                                },
                                {
                                    "SZOBA_ID": "1",
                                    "SZOBA_FK": "1",
                                    "UGYFEL_FK": "balint"
                                },
                                {
                                    "SZOBA_ID": "198",
                                    "SZOBA_FK": "198",
                                    "UGYFEL_FK": "sandor3"
                                },
                                {
                                    "SZOBA_ID": "19",
                                    "SZOBA_FK": "19",
                                    "UGYFEL_FK": "peter4"
                                },
                                {
                                    "SZOBA_ID": "12",
                                    "SZOBA_FK": "12",
                                    "UGYFEL_FK": "dora3"
                                },
                                {
                                    "SZOBA_ID": "165",
                                    "SZOBA_FK": "165",
                                    "UGYFEL_FK": "ROBERTI"
                                },
                                {
                                    "SZOBA_ID": "172",
                                    "SZOBA_FK": "172",
                                    "UGYFEL_FK": "andras41"
                                },
                                {
                                    "SZOBA_ID": "176",
                                    "SZOBA_FK": "176",
                                    "UGYFEL_FK": "MATYASS"
                                },
                                {
                                    "SZOBA_ID": "41",
                                    "SZOBA_FK": "41",
                                    "UGYFEL_FK": "szilvia1"
                                },
                                {
                                    "SZOBA_ID": "145",
                                    "SZOBA_FK": "145",
                                    "UGYFEL_FK": "tibor"
                                },
                                {
                                    "SZOBA_ID": "149",
                                    "SZOBA_FK": "149",
                                    "UGYFEL_FK": "peter2"
                                },
                                {
                                    "SZOBA_ID": "183",
                                    "SZOBA_FK": "183",
                                    "UGYFEL_FK": "brigitta3"
                                },
                                {
                                    "SZOBA_ID": "61",
                                    "SZOBA_FK": "61",
                                    "UGYFEL_FK": "sara"
                                },
                                {
                                    "SZOBA_ID": "133",
                                    "SZOBA_FK": "133",
                                    "UGYFEL_FK": "anett3"
                                },
                                {
                                    "SZOBA_ID": "28",
                                    "SZOBA_FK": "28",
                                    "UGYFEL_FK": "arpad2"
                                },
                                {
                                    "SZOBA_ID": "3",
                                    "SZOBA_FK": "3",
                                    "UGYFEL_FK": "VIKTORIAU"
                                },
                                {
                                    "SZOBA_ID": "1",
                                    "SZOBA_FK": "1",
                                    "UGYFEL_FK": "attila1"
                                },
                                {
                                    "SZOBA_ID": "186",
                                    "SZOBA_FK": "186",
                                    "UGYFEL_FK": "andras41"
                                },
                                {
                                    "SZOBA_ID": "115",
                                    "SZOBA_FK": "115",
                                    "UGYFEL_FK": "attila"
                                },
                                {
                                    "SZOBA_ID": "143",
                                    "SZOBA_FK": "143",
                                    "UGYFEL_FK": "bernadett1"
                                },
                                {
                                    "SZOBA_ID": "140",
                                    "SZOBA_FK": "140",
                                    "UGYFEL_FK": "sandor4"
                                },
                                {
                                    "SZOBA_ID": "9",
                                    "SZOBA_FK": "9",
                                    "UGYFEL_FK": "EVAV"
                                },
                                {
                                    "SZOBA_ID": "26",
                                    "SZOBA_FK": "26",
                                    "UGYFEL_FK": "aniko4"
                                },
                                {
                                    "SZOBA_ID": "73",
                                    "SZOBA_FK": "73",
                                    "UGYFEL_FK": "anett3"
                                },
                                {
                                    "SZOBA_ID": "152",
                                    "SZOBA_FK": "152",
                                    "UGYFEL_FK": "EVAV"
                                },
                                {
                                    "SZOBA_ID": "198",
                                    "SZOBA_FK": "198",
                                    "UGYFEL_FK": "krisztian4"
                                },
                                {
                                    "SZOBA_ID": "110",
                                    "SZOBA_FK": "110",
                                    "UGYFEL_FK": "AGNESK"
                                },
                                {
                                    "SZOBA_ID": "55",
                                    "SZOBA_FK": "55",
                                    "UGYFEL_FK": "SZABOLCSM"
                                },
                                {
                                    "SZOBA_ID": "12",
                                    "SZOBA_FK": "12",
                                    "UGYFEL_FK": "akos"
                                },
                                {
                                    "SZOBA_ID": "51",
                                    "SZOBA_FK": "51",
                                    "UGYFEL_FK": "adam1"
                                },
                                {
                                    "SZOBA_ID": "122",
                                    "SZOBA_FK": "122",
                                    "UGYFEL_FK": "tihamer"
                                },
                                {
                                    "SZOBA_ID": "24",
                                    "SZOBA_FK": "24",
                                    "UGYFEL_FK": "PETERB"
                                },
                                {
                                    "SZOBA_ID": "154",
                                    "SZOBA_FK": "154",
                                    "UGYFEL_FK": "ZOLTANP"
                                },
                                {
                                    "SZOBA_ID": "93",
                                    "SZOBA_FK": "93",
                                    "UGYFEL_FK": "gabor1"
                                },
                                {
                                    "SZOBA_ID": "59",
                                    "SZOBA_FK": "59",
                                    "UGYFEL_FK": "tibor2"
                                },
                                {
                                    "SZOBA_ID": "172",
                                    "SZOBA_FK": "172",
                                    "UGYFEL_FK": "eszter2"
                                },
                                {
                                    "SZOBA_ID": "197",
                                    "SZOBA_FK": "197",
                                    "UGYFEL_FK": "mark"
                                },
                                {
                                    "SZOBA_ID": "18",
                                    "SZOBA_FK": "18",
                                    "UGYFEL_FK": "andrea"
                                },
                                {
                                    "SZOBA_ID": "90",
                                    "SZOBA_FK": "90",
                                    "UGYFEL_FK": "brigitta"
                                },
                                {
                                    "SZOBA_ID": "7",
                                    "SZOBA_FK": "7",
                                    "UGYFEL_FK": "alexandra"
                                },
                                {
                                    "SZOBA_ID": "177",
                                    "SZOBA_FK": "177",
                                    "UGYFEL_FK": "zoltan4"
                                },
                                {
                                    "SZOBA_ID": "150",
                                    "SZOBA_FK": "150",
                                    "UGYFEL_FK": "janos3"
                                },
                                {
                                    "SZOBA_ID": "134",
                                    "SZOBA_FK": "134",
                                    "UGYFEL_FK": "nikolett3"
                                },
                                {
                                    "SZOBA_ID": "74",
                                    "SZOBA_FK": "74",
                                    "UGYFEL_FK": "BENCEB"
                                },
                                {
                                    "SZOBA_ID": "104",
                                    "SZOBA_FK": "104",
                                    "UGYFEL_FK": "agnes3"
                                },
                                {
                                    "SZOBA_ID": "171",
                                    "SZOBA_FK": "171",
                                    "UGYFEL_FK": "sandor3"
                                },
                                {
                                    "SZOBA_ID": "7",
                                    "SZOBA_FK": "7",
                                    "UGYFEL_FK": "aron2"
                                },
                                {
                                    "SZOBA_ID": "185",
                                    "SZOBA_FK": "185",
                                    "UGYFEL_FK": "robert2"
                                },
                                {
                                    "SZOBA_ID": "195",
                                    "SZOBA_FK": "195",
                                    "UGYFEL_FK": "IBOLYAA"
                                },
                                {
                                    "SZOBA_ID": "29",
                                    "SZOBA_FK": "29",
                                    "UGYFEL_FK": "BEATRIXK"
                                },
                                {
                                    "SZOBA_ID": "58",
                                    "SZOBA_FK": "58",
                                    "UGYFEL_FK": "ROBERTI"
                                },
                                {
                                    "SZOBA_ID": "46",
                                    "SZOBA_FK": "46",
                                    "UGYFEL_FK": "eszter2"
                                },
                                {
                                    "SZOBA_ID": "182",
                                    "SZOBA_FK": "182",
                                    "UGYFEL_FK": "peter4"
                                },
                                {
                                    "SZOBA_ID": "89",
                                    "SZOBA_FK": "89",
                                    "UGYFEL_FK": "tunde"
                                },
                                {
                                    "SZOBA_ID": "161",
                                    "SZOBA_FK": "161",
                                    "UGYFEL_FK": "MATYASS"
                                },
                                {
                                    "SZOBA_ID": "59",
                                    "SZOBA_FK": "59",
                                    "UGYFEL_FK": "szilvia1"
                                },
                                {
                                    "SZOBA_ID": "117",
                                    "SZOBA_FK": "117",
                                    "UGYFEL_FK": "kati"
                                },
                                {
                                    "SZOBA_ID": "143",
                                    "SZOBA_FK": "143",
                                    "UGYFEL_FK": "eszter"
                                },
                                {
                                    "SZOBA_ID": "170",
                                    "SZOBA_FK": "170",
                                    "UGYFEL_FK": "zoltan4"
                                },
                                {
                                    "SZOBA_ID": "22",
                                    "SZOBA_FK": "22",
                                    "UGYFEL_FK": "sebestyen"
                                },
                                {
                                    "SZOBA_ID": "88",
                                    "SZOBA_FK": "88",
                                    "UGYFEL_FK": "timea2"
                                },
                                {
                                    "SZOBA_ID": "152",
                                    "SZOBA_FK": "152",
                                    "UGYFEL_FK": "ROBERTI"
                                },
                                {
                                    "SZOBA_ID": "18",
                                    "SZOBA_FK": "18",
                                    "UGYFEL_FK": "katalin"
                                },
                                {
                                    "SZOBA_ID": "144",
                                    "SZOBA_FK": "144",
                                    "UGYFEL_FK": "VIKTORIAU"
                                },
                                {
                                    "SZOBA_ID": "49",
                                    "SZOBA_FK": "49",
                                    "UGYFEL_FK": "bernadett1"
                                },
                                {
                                    "SZOBA_ID": "137",
                                    "SZOBA_FK": "137",
                                    "UGYFEL_FK": "peter1"
                                },
                                {
                                    "SZOBA_ID": "52",
                                    "SZOBA_FK": "52",
                                    "UGYFEL_FK": "ZSUZSAV"
                                },
                                {
                                    "SZOBA_ID": "150",
                                    "SZOBA_FK": "150",
                                    "UGYFEL_FK": "valentin"
                                },
                                {
                                    "SZOBA_ID": "189",
                                    "SZOBA_FK": "189",
                                    "UGYFEL_FK": "RENATAK"
                                },
                                {
                                    "SZOBA_ID": "162",
                                    "SZOBA_FK": "162",
                                    "UGYFEL_FK": "adam4"
                                },
                                {
                                    "SZOBA_ID": "22",
                                    "SZOBA_FK": "22",
                                    "UGYFEL_FK": "zsuzsa3"
                                },
                                {
                                    "SZOBA_ID": "43",
                                    "SZOBA_FK": "43",
                                    "UGYFEL_FK": "szilvia1"
                                },
                                {
                                    "SZOBA_ID": "58",
                                    "SZOBA_FK": "58",
                                    "UGYFEL_FK": "SZABOLCSM"
                                },
                                {
                                    "SZOBA_ID": "122",
                                    "SZOBA_FK": "122",
                                    "UGYFEL_FK": "imre"
                                },
                                {
                                    "SZOBA_ID": "124",
                                    "SZOBA_FK": "124",
                                    "UGYFEL_FK": "bernadett1"
                                },
                                {
                                    "SZOBA_ID": "178",
                                    "SZOBA_FK": "178",
                                    "UGYFEL_FK": "norbert4"
                                },
                                {
                                    "SZOBA_ID": "21",
                                    "SZOBA_FK": "21",
                                    "UGYFEL_FK": "sara"
                                },
                                {
                                    "SZOBA_ID": "91",
                                    "SZOBA_FK": "91",
                                    "UGYFEL_FK": "GYORGYO"
                                },
                                {
                                    "SZOBA_ID": "39",
                                    "SZOBA_FK": "39",
                                    "UGYFEL_FK": "debora"
                                },
                                {
                                    "SZOBA_ID": "121",
                                    "SZOBA_FK": "121",
                                    "UGYFEL_FK": "dora3"
                                },
                                {
                                    "SZOBA_ID": "198",
                                    "SZOBA_FK": "198",
                                    "UGYFEL_FK": "ANIKOS"
                                },
                                {
                                    "SZOBA_ID": "93",
                                    "SZOBA_FK": "93",
                                    "UGYFEL_FK": "krisztina1"
                                },
                                {
                                    "SZOBA_ID": "61",
                                    "SZOBA_FK": "61",
                                    "UGYFEL_FK": "julianna4"
                                },
                                {
                                    "SZOBA_ID": "134",
                                    "SZOBA_FK": "134",
                                    "UGYFEL_FK": "attila1"
                                },
                                {
                                    "SZOBA_ID": "9",
                                    "SZOBA_FK": "9",
                                    "UGYFEL_FK": "bence"
                                },
                                {
                                    "SZOBA_ID": "49",
                                    "SZOBA_FK": "49",
                                    "UGYFEL_FK": "kati"
                                },
                                {
                                    "SZOBA_ID": "143",
                                    "SZOBA_FK": "143",
                                    "UGYFEL_FK": "peter4"
                                },
                                {
                                    "SZOBA_ID": "123",
                                    "SZOBA_FK": "123",
                                    "UGYFEL_FK": "lala"
                                },
                                {
                                    "SZOBA_ID": "50",
                                    "SZOBA_FK": "50",
                                    "UGYFEL_FK": "RENATAK"
                                },
                                {
                                    "SZOBA_ID": "69",
                                    "SZOBA_FK": "69",
                                    "UGYFEL_FK": "AGNESH"
                                },
                                {
                                    "SZOBA_ID": "127",
                                    "SZOBA_FK": "127",
                                    "UGYFEL_FK": "MATYASS"
                                },
                                {
                                    "SZOBA_ID": "43",
                                    "SZOBA_FK": "43",
                                    "UGYFEL_FK": "david"
                                },
                                {
                                    "SZOBA_ID": "106",
                                    "SZOBA_FK": "106",
                                    "UGYFEL_FK": "peter3"
                                },
                                {
                                    "SZOBA_ID": "79",
                                    "SZOBA_FK": "79",
                                    "UGYFEL_FK": "bernadett2"
                                },
                                {
                                    "SZOBA_ID": "182",
                                    "SZOBA_FK": "182",
                                    "UGYFEL_FK": "zoltan4"
                                },
                                {
                                    "SZOBA_ID": "182",
                                    "SZOBA_FK": "182",
                                    "UGYFEL_FK": "ATTILAO"
                                },
                                {
                                    "SZOBA_ID": "55",
                                    "SZOBA_FK": "55",
                                    "UGYFEL_FK": "andrea4"
                                },
                                {
                                    "SZOBA_ID": "64",
                                    "SZOBA_FK": "64",
                                    "UGYFEL_FK": "norbert2"
                                },
                                {
                                    "SZOBA_ID": "66",
                                    "SZOBA_FK": "66",
                                    "UGYFEL_FK": "MIHALYJ"
                                },
                                {
                                    "SZOBA_ID": "29",
                                    "SZOBA_FK": "29",
                                    "UGYFEL_FK": "ESZTERE"
                                },
                                {
                                    "SZOBA_ID": "11",
                                    "SZOBA_FK": "11",
                                    "UGYFEL_FK": "peter2"
                                },
                                {
                                    "SZOBA_ID": "19",
                                    "SZOBA_FK": "19",
                                    "UGYFEL_FK": "krisztian4"
                                },
                                {
                                    "SZOBA_ID": "193",
                                    "SZOBA_FK": "193",
                                    "UGYFEL_FK": "BELAF"
                                },
                                {
                                    "SZOBA_ID": "59",
                                    "SZOBA_FK": "59",
                                    "UGYFEL_FK": "balazs2"
                                },
                                {
                                    "SZOBA_ID": "157",
                                    "SZOBA_FK": "157",
                                    "UGYFEL_FK": "ARONK"
                                },
                                {
                                    "SZOBA_ID": "94",
                                    "SZOBA_FK": "94",
                                    "UGYFEL_FK": "bertalan"
                                },
                                {
                                    "SZOBA_ID": "178",
                                    "SZOBA_FK": "178",
                                    "UGYFEL_FK": "NANDORF"
                                },
                                {
                                    "SZOBA_ID": "48",
                                    "SZOBA_FK": "48",
                                    "UGYFEL_FK": "brigitta3"
                                },
                                {
                                    "SZOBA_ID": "15",
                                    "SZOBA_FK": "15",
                                    "UGYFEL_FK": "julianna4"
                                },
                                {
                                    "SZOBA_ID": "122",
                                    "SZOBA_FK": "122",
                                    "UGYFEL_FK": "ilona3"
                                },
                                {
                                    "SZOBA_ID": "69",
                                    "SZOBA_FK": "69",
                                    "UGYFEL_FK": "eszter2"
                                },
                                {
                                    "SZOBA_ID": "117",
                                    "SZOBA_FK": "117",
                                    "UGYFEL_FK": "katka"
                                },
                                {
                                    "SZOBA_ID": "186",
                                    "SZOBA_FK": "186",
                                    "UGYFEL_FK": "ARONK"
                                },
                                {
                                    "SZOBA_ID": "168",
                                    "SZOBA_FK": "168",
                                    "UGYFEL_FK": "aron2"
                                },
                                {
                                    "SZOBA_ID": "107",
                                    "SZOBA_FK": "107",
                                    "UGYFEL_FK": "emese"
                                },
                                {
                                    "SZOBA_ID": "184",
                                    "SZOBA_FK": "184",
                                    "UGYFEL_FK": "tibor"
                                },
                                {
                                    "SZOBA_ID": "7",
                                    "SZOBA_FK": "7",
                                    "UGYFEL_FK": "norbert5"
                                },
                                {
                                    "SZOBA_ID": "89",
                                    "SZOBA_FK": "89",
                                    "UGYFEL_FK": "roland1"
                                },
                                {
                                    "SZOBA_ID": "141",
                                    "SZOBA_FK": "141",
                                    "UGYFEL_FK": "denes"
                                },
                                {
                                    "SZOBA_ID": "58",
                                    "SZOBA_FK": "58",
                                    "UGYFEL_FK": "eva2"
                                },
                                {
                                    "SZOBA_ID": "138",
                                    "SZOBA_FK": "138",
                                    "UGYFEL_FK": "arpad2"
                                },
                                {
                                    "SZOBA_ID": "5",
                                    "SZOBA_FK": "5",
                                    "UGYFEL_FK": "balint1"
                                },
                                {
                                    "SZOBA_ID": "52",
                                    "SZOBA_FK": "52",
                                    "UGYFEL_FK": "julia4"
                                },
                                {
                                    "SZOBA_ID": "140",
                                    "SZOBA_FK": "140",
                                    "UGYFEL_FK": "JANOSG"
                                },
                                {
                                    "SZOBA_ID": "9",
                                    "SZOBA_FK": "9",
                                    "UGYFEL_FK": "gabor4"
                                },
                                {
                                    "SZOBA_ID": "58",
                                    "SZOBA_FK": "58",
                                    "UGYFEL_FK": "agnes"
                                },
                                {
                                    "SZOBA_ID": "154",
                                    "SZOBA_FK": "154",
                                    "UGYFEL_FK": "ferenc1"
                                },
                                {
                                    "SZOBA_ID": "113",
                                    "SZOBA_FK": "113",
                                    "UGYFEL_FK": "rajmond4"
                                },
                                {
                                    "SZOBA_ID": "66",
                                    "SZOBA_FK": "66",
                                    "UGYFEL_FK": "maria1"
                                },
                                {
                                    "SZOBA_ID": "163",
                                    "SZOBA_FK": "163",
                                    "UGYFEL_FK": "GYONGYIK"
                                },
                                {
                                    "SZOBA_ID": "168",
                                    "SZOBA_FK": "168",
                                    "UGYFEL_FK": "krisztina"
                                },
                                {
                                    "SZOBA_ID": "170",
                                    "SZOBA_FK": "170",
                                    "UGYFEL_FK": "MONIKAM"
                                },
                                {
                                    "SZOBA_ID": "78",
                                    "SZOBA_FK": "78",
                                    "UGYFEL_FK": "ARPADM"
                                },
                                {
                                    "SZOBA_ID": "89",
                                    "SZOBA_FK": "89",
                                    "UGYFEL_FK": "daniel1"
                                },
                                {
                                    "SZOBA_ID": "43",
                                    "SZOBA_FK": "43",
                                    "UGYFEL_FK": "attila1"
                                },
                                {
                                    "SZOBA_ID": "106",
                                    "SZOBA_FK": "106",
                                    "UGYFEL_FK": "ANIKOS"
                                },
                                {
                                    "SZOBA_ID": "50",
                                    "SZOBA_FK": "50",
                                    "UGYFEL_FK": "sandor3"
                                },
                                {
                                    "SZOBA_ID": "88",
                                    "SZOBA_FK": "88",
                                    "UGYFEL_FK": "peter4"
                                },
                                {
                                    "SZOBA_ID": "1",
                                    "SZOBA_FK": "1",
                                    "UGYFEL_FK": "ANNAMARIAR"
                                },
                                {
                                    "SZOBA_ID": "27",
                                    "SZOBA_FK": "27",
                                    "UGYFEL_FK": "valentin"
                                },
                                {
                                    "SZOBA_ID": "174",
                                    "SZOBA_FK": "174",
                                    "UGYFEL_FK": "SZABOLCSM"
                                },
                                {
                                    "SZOBA_ID": "82",
                                    "SZOBA_FK": "82",
                                    "UGYFEL_FK": "csongor3"
                                },
                                {
                                    "SZOBA_ID": "176",
                                    "SZOBA_FK": "176",
                                    "UGYFEL_FK": "daniel"
                                },
                                {
                                    "SZOBA_ID": "80",
                                    "SZOBA_FK": "80",
                                    "UGYFEL_FK": "BEATRIXK"
                                },
                                {
                                    "SZOBA_ID": "137",
                                    "SZOBA_FK": "137",
                                    "UGYFEL_FK": "tamara2"
                                },
                                {
                                    "SZOBA_ID": "78",
                                    "SZOBA_FK": "78",
                                    "UGYFEL_FK": "adam4"
                                },
                                {
                                    "SZOBA_ID": "123",
                                    "SZOBA_FK": "123",
                                    "UGYFEL_FK": "peter2"
                                },
                                {
                                    "SZOBA_ID": "138",
                                    "SZOBA_FK": "138",
                                    "UGYFEL_FK": "miklos2"
                                },
                                {
                                    "SZOBA_ID": "164",
                                    "SZOBA_FK": "164",
                                    "UGYFEL_FK": "rajmond4"
                                },
                                {
                                    "SZOBA_ID": "58",
                                    "SZOBA_FK": "58",
                                    "UGYFEL_FK": "norbert"
                                },
                                {
                                    "SZOBA_ID": "127",
                                    "SZOBA_FK": "127",
                                    "UGYFEL_FK": "andi"
                                },
                                {
                                    "SZOBA_ID": "22",
                                    "SZOBA_FK": "22",
                                    "UGYFEL_FK": "PETERB"
                                },
                                {
                                    "SZOBA_ID": "59",
                                    "SZOBA_FK": "59",
                                    "UGYFEL_FK": "vivien3"
                                },
                                {
                                    "SZOBA_ID": "135",
                                    "SZOBA_FK": "135",
                                    "UGYFEL_FK": "sara"
                                },
                                {
                                    "SZOBA_ID": "128",
                                    "SZOBA_FK": "128",
                                    "UGYFEL_FK": "tunde"
                                },
                                {
                                    "SZOBA_ID": "46",
                                    "SZOBA_FK": "46",
                                    "UGYFEL_FK": "gabor1"
                                },
                                {
                                    "SZOBA_ID": "164",
                                    "SZOBA_FK": "164",
                                    "UGYFEL_FK": "zoltan4"
                                },
                                {
                                    "SZOBA_ID": "58",
                                    "SZOBA_FK": "58",
                                    "UGYFEL_FK": "mark"
                                },
                                {
                                    "SZOBA_ID": "138",
                                    "SZOBA_FK": "138",
                                    "UGYFEL_FK": "roland"
                                },
                                {
                                    "SZOBA_ID": "44",
                                    "SZOBA_FK": "44",
                                    "UGYFEL_FK": "andrea3"
                                },
                                {
                                    "SZOBA_ID": "111",
                                    "SZOBA_FK": "111",
                                    "UGYFEL_FK": "david1"
                                },
                                {
                                    "SZOBA_ID": "144",
                                    "SZOBA_FK": "144",
                                    "UGYFEL_FK": "ANDRASE"
                                },
                                {
                                    "SZOBA_ID": "109",
                                    "SZOBA_FK": "109",
                                    "UGYFEL_FK": "andras41"
                                },
                                {
                                    "SZOBA_ID": "90",
                                    "SZOBA_FK": "90",
                                    "UGYFEL_FK": "akos"
                                },
                                {
                                    "SZOBA_ID": "88",
                                    "SZOBA_FK": "88",
                                    "UGYFEL_FK": "ZSUZSAV"
                                },
                                {
                                    "SZOBA_ID": "132",
                                    "SZOBA_FK": "132",
                                    "UGYFEL_FK": "istvan"
                                },
                                {
                                    "SZOBA_ID": "191",
                                    "SZOBA_FK": "191",
                                    "UGYFEL_FK": "aladar"
                                },
                                {
                                    "SZOBA_ID": "45",
                                    "SZOBA_FK": "45",
                                    "UGYFEL_FK": "dani"
                                },
                                {
                                    "SZOBA_ID": "197",
                                    "SZOBA_FK": "197",
                                    "UGYFEL_FK": "dora3"
                                },
                                {
                                    "SZOBA_ID": "94",
                                    "SZOBA_FK": "94",
                                    "UGYFEL_FK": "fruzsina4"
                                },
                                {
                                    "SZOBA_ID": "133",
                                    "SZOBA_FK": "133",
                                    "UGYFEL_FK": "krisztina"
                                },
                                {
                                    "SZOBA_ID": "58",
                                    "SZOBA_FK": "58",
                                    "UGYFEL_FK": "jozsef2"
                                },
                                {
                                    "SZOBA_ID": "182",
                                    "SZOBA_FK": "182",
                                    "UGYFEL_FK": "andras41"
                                },
                                {
                                    "SZOBA_ID": "42",
                                    "SZOBA_FK": "42",
                                    "UGYFEL_FK": "daniel1"
                                },
                                {
                                    "SZOBA_ID": "155",
                                    "SZOBA_FK": "155",
                                    "UGYFEL_FK": "andras21"
                                },
                                {
                                    "SZOBA_ID": "2",
                                    "SZOBA_FK": "2",
                                    "UGYFEL_FK": "sara"
                                },
                                {
                                    "SZOBA_ID": "94",
                                    "SZOBA_FK": "94",
                                    "UGYFEL_FK": "RENATAK"
                                },
                                {
                                    "SZOBA_ID": "143",
                                    "SZOBA_FK": "143",
                                    "UGYFEL_FK": "emese"
                                },
                                {
                                    "SZOBA_ID": "196",
                                    "SZOBA_FK": "196",
                                    "UGYFEL_FK": "JANOSP"
                                },
                                {
                                    "SZOBA_ID": "100",
                                    "SZOBA_FK": "100",
                                    "UGYFEL_FK": "balint"
                                },
                                {
                                    "SZOBA_ID": "17",
                                    "SZOBA_FK": "17",
                                    "UGYFEL_FK": "peter4"
                                },
                                {
                                    "SZOBA_ID": "182",
                                    "SZOBA_FK": "182",
                                    "UGYFEL_FK": "andras4"
                                },
                                {
                                    "SZOBA_ID": "72",
                                    "SZOBA_FK": "72",
                                    "UGYFEL_FK": "JANOSP"
                                },
                                {
                                    "SZOBA_ID": "10",
                                    "SZOBA_FK": "10",
                                    "UGYFEL_FK": "ANDRASN"
                                },
                                {
                                    "SZOBA_ID": "85",
                                    "SZOBA_FK": "85",
                                    "UGYFEL_FK": "laszlo2"
                                },
                                {
                                    "SZOBA_ID": "33",
                                    "SZOBA_FK": "33",
                                    "UGYFEL_FK": "jozsef2"
                                },
                                {
                                    "SZOBA_ID": "58",
                                    "SZOBA_FK": "58",
                                    "UGYFEL_FK": "bertalan"
                                },
                                {
                                    "SZOBA_ID": "191",
                                    "SZOBA_FK": "191",
                                    "UGYFEL_FK": "julianna4"
                                },
                                {
                                    "SZOBA_ID": "68",
                                    "SZOBA_FK": "68",
                                    "UGYFEL_FK": "timea2"
                                },
                                {
                                    "SZOBA_ID": "70",
                                    "SZOBA_FK": "70",
                                    "UGYFEL_FK": "katalin4"
                                },
                                {
                                    "SZOBA_ID": "182",
                                    "SZOBA_FK": "182",
                                    "UGYFEL_FK": "BENCEB"
                                },
                                {
                                    "SZOBA_ID": "55",
                                    "SZOBA_FK": "55",
                                    "UGYFEL_FK": "zsuzsa"
                                },
                                {
                                    "SZOBA_ID": "54",
                                    "SZOBA_FK": "54",
                                    "UGYFEL_FK": "andras3"
                                },
                                {
                                    "SZOBA_ID": "171",
                                    "SZOBA_FK": "171",
                                    "UGYFEL_FK": "LASZLON"
                                },
                                {
                                    "SZOBA_ID": "124",
                                    "SZOBA_FK": "124",
                                    "UGYFEL_FK": "ANDRASE"
                                },
                                {
                                    "SZOBA_ID": "73",
                                    "SZOBA_FK": "73",
                                    "UGYFEL_FK": "sandor4"
                                },
                                {
                                    "SZOBA_ID": "101",
                                    "SZOBA_FK": "101",
                                    "UGYFEL_FK": "alexandra"
                                },
                                {
                                    "SZOBA_ID": "70",
                                    "SZOBA_FK": "70",
                                    "UGYFEL_FK": "norbert4"
                                },
                                {
                                    "SZOBA_ID": "1",
                                    "SZOBA_FK": "1",
                                    "UGYFEL_FK": "valentin"
                                },
                                {
                                    "SZOBA_ID": "37",
                                    "SZOBA_FK": "37",
                                    "UGYFEL_FK": "GYONGYIK"
                                },
                                {
                                    "SZOBA_ID": "172",
                                    "SZOBA_FK": "172",
                                    "UGYFEL_FK": "eszter2"
                                },
                                {
                                    "SZOBA_ID": "122",
                                    "SZOBA_FK": "122",
                                    "UGYFEL_FK": "BELAF"
                                },
                                {
                                    "SZOBA_ID": "145",
                                    "SZOBA_FK": "145",
                                    "UGYFEL_FK": "TAMASF"
                                },
                                {
                                    "SZOBA_ID": "120",
                                    "SZOBA_FK": "120",
                                    "UGYFEL_FK": "sandor4"
                                },
                                {
                                    "SZOBA_ID": "196",
                                    "SZOBA_FK": "196",
                                    "UGYFEL_FK": "katalin4"
                                },
                                {
                                    "SZOBA_ID": "82",
                                    "SZOBA_FK": "82",
                                    "UGYFEL_FK": "balint2"
                                },
                                {
                                    "SZOBA_ID": "170",
                                    "SZOBA_FK": "170",
                                    "UGYFEL_FK": "ARPADH"
                                },
                                {
                                    "SZOBA_ID": "102",
                                    "SZOBA_FK": "102",
                                    "UGYFEL_FK": "szabolcs"
                                },
                                {
                                    "SZOBA_ID": "33",
                                    "SZOBA_FK": "33",
                                    "UGYFEL_FK": "MIKLOSB"
                                },
                                {
                                    "SZOBA_ID": "79",
                                    "SZOBA_FK": "79",
                                    "UGYFEL_FK": "eszter2"
                                },
                                {
                                    "SZOBA_ID": "181",
                                    "SZOBA_FK": "181",
                                    "UGYFEL_FK": "balazs3"
                                },
                                {
                                    "SZOBA_ID": "13",
                                    "SZOBA_FK": "13",
                                    "UGYFEL_FK": "adam4"
                                },
                                {
                                    "SZOBA_ID": "57",
                                    "SZOBA_FK": "57",
                                    "UGYFEL_FK": "jozsef"
                                },
                                {
                                    "SZOBA_ID": "87",
                                    "SZOBA_FK": "87",
                                    "UGYFEL_FK": "eva2"
                                },
                                {
                                    "SZOBA_ID": "173",
                                    "SZOBA_FK": "173",
                                    "UGYFEL_FK": "BELAF"
                                },
                                {
                                    "SZOBA_ID": "38",
                                    "SZOBA_FK": "38",
                                    "UGYFEL_FK": "sara"
                                },
                                {
                                    "SZOBA_ID": "115",
                                    "SZOBA_FK": "115",
                                    "UGYFEL_FK": "ZOLTANP"
                                },
                                {
                                    "SZOBA_ID": "111",
                                    "SZOBA_FK": "111",
                                    "UGYFEL_FK": "ARONK"
                                },
                                {
                                    "SZOBA_ID": "107",
                                    "SZOBA_FK": "107",
                                    "UGYFEL_FK": "emese"
                                },
                                {
                                    "SZOBA_ID": "93",
                                    "SZOBA_FK": "93",
                                    "UGYFEL_FK": "nikoletta4"
                                },
                                {
                                    "SZOBA_ID": "169",
                                    "SZOBA_FK": "169",
                                    "UGYFEL_FK": "matyas2"
                                },
                                {
                                    "SZOBA_ID": "140",
                                    "SZOBA_FK": "140",
                                    "UGYFEL_FK": "TAMASF"
                                },
                                {
                                    "SZOBA_ID": "138",
                                    "SZOBA_FK": "138",
                                    "UGYFEL_FK": "krisztian4"
                                },
                                {
                                    "SZOBA_ID": "88",
                                    "SZOBA_FK": "88",
                                    "UGYFEL_FK": "BEATRIXK"
                                },
                                {
                                    "SZOBA_ID": "129",
                                    "SZOBA_FK": "129",
                                    "UGYFEL_FK": "katalin"
                                },
                                {
                                    "SZOBA_ID": "140",
                                    "SZOBA_FK": "140",
                                    "UGYFEL_FK": "ARPADM"
                                },
                                {
                                    "SZOBA_ID": "25",
                                    "SZOBA_FK": "25",
                                    "UGYFEL_FK": "timea2"
                                },
                                {
                                    "SZOBA_ID": "133",
                                    "SZOBA_FK": "133",
                                    "UGYFEL_FK": "tunde"
                                },
                                {
                                    "SZOBA_ID": "126",
                                    "SZOBA_FK": "126",
                                    "UGYFEL_FK": "akos"
                                },
                                {
                                    "SZOBA_ID": "70",
                                    "SZOBA_FK": "70",
                                    "UGYFEL_FK": "norbert"
                                },
                                {
                                    "SZOBA_ID": "81",
                                    "SZOBA_FK": "81",
                                    "UGYFEL_FK": "fruzsina4"
                                },
                                {
                                    "SZOBA_ID": "80",
                                    "SZOBA_FK": "80",
                                    "UGYFEL_FK": "bernadett2"
                                },
                                {
                                    "SZOBA_ID": "94",
                                    "SZOBA_FK": "94",
                                    "UGYFEL_FK": "bence"
                                },
                                {
                                    "SZOBA_ID": "142",
                                    "SZOBA_FK": "142",
                                    "UGYFEL_FK": "pal"
                                },
                                {
                                    "SZOBA_ID": "138",
                                    "SZOBA_FK": "138",
                                    "UGYFEL_FK": "BEATRIXK"
                                },
                                {
                                    "SZOBA_ID": "140",
                                    "SZOBA_FK": "140",
                                    "UGYFEL_FK": "AGNESK"
                                },
                                {
                                    "SZOBA_ID": "106",
                                    "SZOBA_FK": "106",
                                    "UGYFEL_FK": "katalin"
                                },
                                {
                                    "SZOBA_ID": "121",
                                    "SZOBA_FK": "121",
                                    "UGYFEL_FK": "brigitta"
                                },
                                {
                                    "SZOBA_ID": "118",
                                    "SZOBA_FK": "118",
                                    "UGYFEL_FK": "robert2"
                                },
                                {
                                    "SZOBA_ID": "165",
                                    "SZOBA_FK": "165",
                                    "UGYFEL_FK": "vivien3"
                                },
                                {
                                    "SZOBA_ID": "84",
                                    "SZOBA_FK": "84",
                                    "UGYFEL_FK": "balint1"
                                },
                                {
                                    "SZOBA_ID": "27",
                                    "SZOBA_FK": "27",
                                    "UGYFEL_FK": "ARPADH"
                                },
                                {
                                    "SZOBA_ID": "96",
                                    "SZOBA_FK": "96",
                                    "UGYFEL_FK": "JANOSP"
                                },
                                {
                                    "SZOBA_ID": "83",
                                    "SZOBA_FK": "83",
                                    "UGYFEL_FK": "JUDITH"
                                },
                                {
                                    "SZOBA_ID": "39",
                                    "SZOBA_FK": "39",
                                    "UGYFEL_FK": "MATYASS"
                                },
                                {
                                    "SZOBA_ID": "33",
                                    "SZOBA_FK": "33",
                                    "UGYFEL_FK": "BEATRIXS"
                                },
                                {
                                    "SZOBA_ID": "67",
                                    "SZOBA_FK": "67",
                                    "UGYFEL_FK": "balu"
                                },
                                {
                                    "SZOBA_ID": "176",
                                    "SZOBA_FK": "176",
                                    "UGYFEL_FK": "attila"
                                },
                                {
                                    "SZOBA_ID": "84",
                                    "SZOBA_FK": "84",
                                    "UGYFEL_FK": "roland1"
                                },
                                {
                                    "SZOBA_ID": "122",
                                    "SZOBA_FK": "122",
                                    "UGYFEL_FK": "eszter"
                                },
                                {
                                    "SZOBA_ID": "55",
                                    "SZOBA_FK": "55",
                                    "UGYFEL_FK": "vivien3"
                                },
                                {
                                    "SZOBA_ID": "197",
                                    "SZOBA_FK": "197",
                                    "UGYFEL_FK": "arpad2"
                                },
                                {
                                    "SZOBA_ID": "26",
                                    "SZOBA_FK": "26",
                                    "UGYFEL_FK": "katalin"
                                },
                                {
                                    "SZOBA_ID": "57",
                                    "SZOBA_FK": "57",
                                    "UGYFEL_FK": "tihamer"
                                },
                                {
                                    "SZOBA_ID": "188",
                                    "SZOBA_FK": "188",
                                    "UGYFEL_FK": "sara"
                                },
                                {
                                    "SZOBA_ID": "93",
                                    "SZOBA_FK": "93",
                                    "UGYFEL_FK": "szilvia1"
                                },
                                {
                                    "SZOBA_ID": "108",
                                    "SZOBA_FK": "108",
                                    "UGYFEL_FK": "KRISZTIANM"
                                },
                                {
                                    "SZOBA_ID": "121",
                                    "SZOBA_FK": "121",
                                    "UGYFEL_FK": "ilona3"
                                },
                                {
                                    "SZOBA_ID": "143",
                                    "SZOBA_FK": "143",
                                    "UGYFEL_FK": "lajos"
                                },
                                {
                                    "SZOBA_ID": "97",
                                    "SZOBA_FK": "97",
                                    "UGYFEL_FK": "daniel"
                                },
                                {
                                    "SZOBA_ID": "72",
                                    "SZOBA_FK": "72",
                                    "UGYFEL_FK": "peter3"
                                },
                                {
                                    "SZOBA_ID": "91",
                                    "SZOBA_FK": "91",
                                    "UGYFEL_FK": "ZOLTANP"
                                },
                                {
                                    "SZOBA_ID": "103",
                                    "SZOBA_FK": "103",
                                    "UGYFEL_FK": "timea"
                                },
                                {
                                    "SZOBA_ID": "89",
                                    "SZOBA_FK": "89",
                                    "UGYFEL_FK": "balazs1"
                                },
                                {
                                    "SZOBA_ID": "162",
                                    "SZOBA_FK": "162",
                                    "UGYFEL_FK": "bence"
                                },
                                {
                                    "SZOBA_ID": "141",
                                    "SZOBA_FK": "141",
                                    "UGYFEL_FK": "szilvia1"
                                },
                                {
                                    "SZOBA_ID": "98",
                                    "SZOBA_FK": "98",
                                    "UGYFEL_FK": "JANOSG"
                                },
                                {
                                    "SZOBA_ID": "124",
                                    "SZOBA_FK": "124",
                                    "UGYFEL_FK": "zoltan4"
                                },
                                {
                                    "SZOBA_ID": "187",
                                    "SZOBA_FK": "187",
                                    "UGYFEL_FK": "balint1"
                                },
                                {
                                    "SZOBA_ID": "90",
                                    "SZOBA_FK": "90",
                                    "UGYFEL_FK": "henrik3"
                                },
                                {
                                    "SZOBA_ID": "82",
                                    "SZOBA_FK": "82",
                                    "UGYFEL_FK": "akos"
                                },
                                {
                                    "SZOBA_ID": "175",
                                    "SZOBA_FK": "175",
                                    "UGYFEL_FK": "david1"
                                },
                                {
                                    "SZOBA_ID": "99",
                                    "SZOBA_FK": "99",
                                    "UGYFEL_FK": "attila4"
                                },
                                {
                                    "SZOBA_ID": "133",
                                    "SZOBA_FK": "133",
                                    "UGYFEL_FK": "zoltan4"
                                },
                                {
                                    "SZOBA_ID": "182",
                                    "SZOBA_FK": "182",
                                    "UGYFEL_FK": "balazs1"
                                },
                                {
                                    "SZOBA_ID": "35",
                                    "SZOBA_FK": "35",
                                    "UGYFEL_FK": "BERNADETTO"
                                },
                                {
                                    "SZOBA_ID": "75",
                                    "SZOBA_FK": "75",
                                    "UGYFEL_FK": "ARONK"
                                },
                                {
                                    "SZOBA_ID": "119",
                                    "SZOBA_FK": "119",
                                    "UGYFEL_FK": "istvan"
                                },
                                {
                                    "SZOBA_ID": "167",
                                    "SZOBA_FK": "167",
                                    "UGYFEL_FK": "katka"
                                },
                                {
                                    "SZOBA_ID": "24",
                                    "SZOBA_FK": "24",
                                    "UGYFEL_FK": "tunde"
                                },
                                {
                                    "SZOBA_ID": "38",
                                    "SZOBA_FK": "38",
                                    "UGYFEL_FK": "balint1"
                                },
                                {
                                    "SZOBA_ID": "97",
                                    "SZOBA_FK": "97",
                                    "UGYFEL_FK": "AGNESH"
                                },
                                {
                                    "SZOBA_ID": "15",
                                    "SZOBA_FK": "15",
                                    "UGYFEL_FK": "roland1"
                                },
                                {
                                    "SZOBA_ID": "124",
                                    "SZOBA_FK": "124",
                                    "UGYFEL_FK": "daniel1"
                                },
                                {
                                    "SZOBA_ID": "198",
                                    "SZOBA_FK": "198",
                                    "UGYFEL_FK": "ARPADM"
                                },
                                {
                                    "SZOBA_ID": "172",
                                    "SZOBA_FK": "172",
                                    "UGYFEL_FK": "eszter4"
                                },
                                {
                                    "SZOBA_ID": "182",
                                    "SZOBA_FK": "182",
                                    "UGYFEL_FK": "krisztian4"
                                },
                                {
                                    "SZOBA_ID": "9",
                                    "SZOBA_FK": "9",
                                    "UGYFEL_FK": "eva2"
                                },
                                {
                                    "SZOBA_ID": "110",
                                    "SZOBA_FK": "110",
                                    "UGYFEL_FK": "SZABOLCSM"
                                },
                                {
                                    "SZOBA_ID": "44",
                                    "SZOBA_FK": "44",
                                    "UGYFEL_FK": "lala"
                                },
                                {
                                    "SZOBA_ID": "62",
                                    "SZOBA_FK": "62",
                                    "UGYFEL_FK": "JOZSEFG"
                                },
                                {
                                    "SZOBA_ID": "169",
                                    "SZOBA_FK": "169",
                                    "UGYFEL_FK": "andras4"
                                },
                                {
                                    "SZOBA_ID": "126",
                                    "SZOBA_FK": "126",
                                    "UGYFEL_FK": "zsuzsanna"
                                },
                                {
                                    "SZOBA_ID": "173",
                                    "SZOBA_FK": "173",
                                    "UGYFEL_FK": "MATYASS"
                                },
                                {
                                    "SZOBA_ID": "12",
                                    "SZOBA_FK": "12",
                                    "UGYFEL_FK": "daniel"
                                },
                                {
                                    "SZOBA_ID": "52",
                                    "SZOBA_FK": "52",
                                    "UGYFEL_FK": "JANOSG"
                                },
                                {
                                    "SZOBA_ID": "150",
                                    "SZOBA_FK": "150",
                                    "UGYFEL_FK": "ANNAMARIAR"
                                },
                                {
                                    "SZOBA_ID": "139",
                                    "SZOBA_FK": "139",
                                    "UGYFEL_FK": "roza2"
                                },
                                {
                                    "SZOBA_ID": "3",
                                    "SZOBA_FK": "3",
                                    "UGYFEL_FK": "peter3"
                                },
                                {
                                    "SZOBA_ID": "39",
                                    "SZOBA_FK": "39",
                                    "UGYFEL_FK": "adam4"
                                },
                                {
                                    "SZOBA_ID": "35",
                                    "SZOBA_FK": "35",
                                    "UGYFEL_FK": "alexandra"
                                },
                                {
                                    "SZOBA_ID": "183",
                                    "SZOBA_FK": "183",
                                    "UGYFEL_FK": "andi"
                                },
                                {
                                    "SZOBA_ID": "96",
                                    "SZOBA_FK": "96",
                                    "UGYFEL_FK": "eva"
                                },
                                {
                                    "SZOBA_ID": "77",
                                    "SZOBA_FK": "77",
                                    "UGYFEL_FK": "kata"
                                },
                                {
                                    "SZOBA_ID": "122",
                                    "SZOBA_FK": "122",
                                    "UGYFEL_FK": "edit"
                                },
                                {
                                    "SZOBA_ID": "185",
                                    "SZOBA_FK": "185",
                                    "UGYFEL_FK": "AGNESH"
                                },
                                {
                                    "SZOBA_ID": "15",
                                    "SZOBA_FK": "15",
                                    "UGYFEL_FK": "SZILARDS"
                                },
                                {
                                    "SZOBA_ID": "81",
                                    "SZOBA_FK": "81",
                                    "UGYFEL_FK": "KRISZTIANM"
                                },
                                {
                                    "SZOBA_ID": "42",
                                    "SZOBA_FK": "42",
                                    "UGYFEL_FK": "zsuzsanna"
                                },
                                {
                                    "SZOBA_ID": "129",
                                    "SZOBA_FK": "129",
                                    "UGYFEL_FK": "krisztian4"
                                },
                                {
                                    "SZOBA_ID": "64",
                                    "SZOBA_FK": "64",
                                    "UGYFEL_FK": "MATEK"
                                },
                                {
                                    "SZOBA_ID": "79",
                                    "SZOBA_FK": "79",
                                    "UGYFEL_FK": "ZOLTANT"
                                },
                                {
                                    "SZOBA_ID": "143",
                                    "SZOBA_FK": "143",
                                    "UGYFEL_FK": "roland1"
                                },
                                {
                                    "SZOBA_ID": "189",
                                    "SZOBA_FK": "189",
                                    "UGYFEL_FK": "lala"
                                },
                                {
                                    "SZOBA_ID": "139",
                                    "SZOBA_FK": "139",
                                    "UGYFEL_FK": "MONIKAM"
                                },
                                {
                                    "SZOBA_ID": "58",
                                    "SZOBA_FK": "58",
                                    "UGYFEL_FK": "dani"
                                },
                                {
                                    "SZOBA_ID": "107",
                                    "SZOBA_FK": "107",
                                    "UGYFEL_FK": "IBOLYAA"
                                },
                                {
                                    "SZOBA_ID": "86",
                                    "SZOBA_FK": "86",
                                    "UGYFEL_FK": "aron2"
                                },
                                {
                                    "SZOBA_ID": "39",
                                    "SZOBA_FK": "39",
                                    "UGYFEL_FK": "david"
                                },
                                {
                                    "SZOBA_ID": "116",
                                    "SZOBA_FK": "116",
                                    "UGYFEL_FK": "katalin4"
                                },
                                {
                                    "SZOBA_ID": "87",
                                    "SZOBA_FK": "87",
                                    "UGYFEL_FK": "veronika4"
                                },
                                {
                                    "SZOBA_ID": "70",
                                    "SZOBA_FK": "70",
                                    "UGYFEL_FK": "alexandra"
                                },
                                {
                                    "SZOBA_ID": "75",
                                    "SZOBA_FK": "75",
                                    "UGYFEL_FK": "katka"
                                },
                                {
                                    "SZOBA_ID": "28",
                                    "SZOBA_FK": "28",
                                    "UGYFEL_FK": "balazs3"
                                },
                                {
                                    "SZOBA_ID": "153",
                                    "SZOBA_FK": "153",
                                    "UGYFEL_FK": "krisztina1"
                                },
                                {
                                    "SZOBA_ID": "77",
                                    "SZOBA_FK": "77",
                                    "UGYFEL_FK": "JOZSEFG"
                                },
                                {
                                    "SZOBA_ID": "156",
                                    "SZOBA_FK": "156",
                                    "UGYFEL_FK": "MARKH"
                                },
                                {
                                    "SZOBA_ID": "185",
                                    "SZOBA_FK": "185",
                                    "UGYFEL_FK": "GYONGYIK"
                                },
                                {
                                    "SZOBA_ID": "81",
                                    "SZOBA_FK": "81",
                                    "UGYFEL_FK": "andrea4"
                                },
                                {
                                    "SZOBA_ID": "64",
                                    "SZOBA_FK": "64",
                                    "UGYFEL_FK": "sandor4"
                                },
                                {
                                    "SZOBA_ID": "57",
                                    "SZOBA_FK": "57",
                                    "UGYFEL_FK": "dani"
                                },
                                {
                                    "SZOBA_ID": "186",
                                    "SZOBA_FK": "186",
                                    "UGYFEL_FK": "fruzsina4"
                                },
                                {
                                    "SZOBA_ID": "117",
                                    "SZOBA_FK": "117",
                                    "UGYFEL_FK": "attila1"
                                },
                                {
                                    "SZOBA_ID": "13",
                                    "SZOBA_FK": "13",
                                    "UGYFEL_FK": "brigitta"
                                },
                                {
                                    "SZOBA_ID": "153",
                                    "SZOBA_FK": "153",
                                    "UGYFEL_FK": "debora"
                                },
                                {
                                    "SZOBA_ID": "145",
                                    "SZOBA_FK": "145",
                                    "UGYFEL_FK": "RENATAK"
                                },
                                {
                                    "SZOBA_ID": "118",
                                    "SZOBA_FK": "118",
                                    "UGYFEL_FK": "bernadett2"
                                },
                                {
                                    "SZOBA_ID": "195",
                                    "SZOBA_FK": "195",
                                    "UGYFEL_FK": "katalin4"
                                },
                                {
                                    "SZOBA_ID": "131",
                                    "SZOBA_FK": "131",
                                    "UGYFEL_FK": "KRISZTINAG"
                                },
                                {
                                    "SZOBA_ID": "130",
                                    "SZOBA_FK": "130",
                                    "UGYFEL_FK": "eszter4"
                                },
                                {
                                    "SZOBA_ID": "27",
                                    "SZOBA_FK": "27",
                                    "UGYFEL_FK": "henrik3"
                                },
                                {
                                    "SZOBA_ID": "51",
                                    "SZOBA_FK": "51",
                                    "UGYFEL_FK": "BERNADETTO"
                                },
                                {
                                    "SZOBA_ID": "38",
                                    "SZOBA_FK": "38",
                                    "UGYFEL_FK": "andras21"
                                },
                                {
                                    "SZOBA_ID": "146",
                                    "SZOBA_FK": "146",
                                    "UGYFEL_FK": "szilvia1"
                                },
                                {
                                    "SZOBA_ID": "35",
                                    "SZOBA_FK": "35",
                                    "UGYFEL_FK": "eszter2"
                                },
                                {
                                    "SZOBA_ID": "118",
                                    "SZOBA_FK": "118",
                                    "UGYFEL_FK": "polla"
                                },
                                {
                                    "SZOBA_ID": "100",
                                    "SZOBA_FK": "100",
                                    "UGYFEL_FK": "norbert2"
                                },
                                {
                                    "SZOBA_ID": "120",
                                    "SZOBA_FK": "120",
                                    "UGYFEL_FK": "annamaria1"
                                },
                                {
                                    "SZOBA_ID": "195",
                                    "SZOBA_FK": "195",
                                    "UGYFEL_FK": "emese"
                                },
                                {
                                    "SZOBA_ID": "103",
                                    "SZOBA_FK": "103",
                                    "UGYFEL_FK": "ARONK"
                                },
                                {
                                    "SZOBA_ID": "99",
                                    "SZOBA_FK": "99",
                                    "UGYFEL_FK": "JANOSG"
                                },
                                {
                                    "SZOBA_ID": "163",
                                    "SZOBA_FK": "163",
                                    "UGYFEL_FK": "imre1"
                                },
                                {
                                    "SZOBA_ID": "119",
                                    "SZOBA_FK": "119",
                                    "UGYFEL_FK": "nikoletta4"
                                },
                                {
                                    "SZOBA_ID": "110",
                                    "SZOBA_FK": "110",
                                    "UGYFEL_FK": "andras3"
                                },
                                {
                                    "SZOBA_ID": "156",
                                    "SZOBA_FK": "156",
                                    "UGYFEL_FK": "BEATRIXS"
                                },
                                {
                                    "SZOBA_ID": "172",
                                    "SZOBA_FK": "172",
                                    "UGYFEL_FK": "veronika4"
                                },
                                {
                                    "SZOBA_ID": "4",
                                    "SZOBA_FK": "4",
                                    "UGYFEL_FK": "gusztav"
                                },
                                {
                                    "SZOBA_ID": "120",
                                    "SZOBA_FK": "120",
                                    "UGYFEL_FK": "julia4"
                                },
                                {
                                    "SZOBA_ID": "107",
                                    "SZOBA_FK": "107",
                                    "UGYFEL_FK": "debora"
                                },
                                {
                                    "SZOBA_ID": "113",
                                    "SZOBA_FK": "113",
                                    "UGYFEL_FK": "EVAV"
                                },
                                {
                                    "SZOBA_ID": "61",
                                    "SZOBA_FK": "61",
                                    "UGYFEL_FK": "gabriella1"
                                },
                                {
                                    "SZOBA_ID": "179",
                                    "SZOBA_FK": "179",
                                    "UGYFEL_FK": "SZABOLCSM"
                                },
                                {
                                    "SZOBA_ID": "16",
                                    "SZOBA_FK": "16",
                                    "UGYFEL_FK": "kriszti"
                                },
                                {
                                    "SZOBA_ID": "113",
                                    "SZOBA_FK": "113",
                                    "UGYFEL_FK": "imre1"
                                },
                                {
                                    "SZOBA_ID": "126",
                                    "SZOBA_FK": "126",
                                    "UGYFEL_FK": "peter4"
                                },
                                {
                                    "SZOBA_ID": "116",
                                    "SZOBA_FK": "116",
                                    "UGYFEL_FK": "bence"
                                },
                                {
                                    "SZOBA_ID": "191",
                                    "SZOBA_FK": "191",
                                    "UGYFEL_FK": "krisztina"
                                },
                                {
                                    "SZOBA_ID": "177",
                                    "SZOBA_FK": "177",
                                    "UGYFEL_FK": "NANDORF"
                                },
                                {
                                    "SZOBA_ID": "57",
                                    "SZOBA_FK": "57",
                                    "UGYFEL_FK": "adam3"
                                },
                                {
                                    "SZOBA_ID": "18",
                                    "SZOBA_FK": "18",
                                    "UGYFEL_FK": "MIHALYJ"
                                },
                                {
                                    "SZOBA_ID": "81",
                                    "SZOBA_FK": "81",
                                    "UGYFEL_FK": "MONIKAM"
                                },
                                {
                                    "SZOBA_ID": "153",
                                    "SZOBA_FK": "153",
                                    "UGYFEL_FK": "istvan1"
                                },
                                {
                                    "SZOBA_ID": "191",
                                    "SZOBA_FK": "191",
                                    "UGYFEL_FK": "SZILARDS"
                                },
                                {
                                    "SZOBA_ID": "129",
                                    "SZOBA_FK": "129",
                                    "UGYFEL_FK": "edit"
                                },
                                {
                                    "SZOBA_ID": "106",
                                    "SZOBA_FK": "106",
                                    "UGYFEL_FK": "LASZLOA"
                                },
                                {
                                    "SZOBA_ID": "176",
                                    "SZOBA_FK": "176",
                                    "UGYFEL_FK": "andras2"
                                },
                                {
                                    "SZOBA_ID": "55",
                                    "SZOBA_FK": "55",
                                    "UGYFEL_FK": "BEATRIXK"
                                },
                                {
                                    "SZOBA_ID": "85",
                                    "SZOBA_FK": "85",
                                    "UGYFEL_FK": "brigitta3"
                                },
                                {
                                    "SZOBA_ID": "149",
                                    "SZOBA_FK": "149",
                                    "UGYFEL_FK": "andrea"
                                },
                                {
                                    "SZOBA_ID": "46",
                                    "SZOBA_FK": "46",
                                    "UGYFEL_FK": "balazs1"
                                },
                                {
                                    "SZOBA_ID": "101",
                                    "SZOBA_FK": "101",
                                    "UGYFEL_FK": "ESZTERE"
                                },
                                {
                                    "SZOBA_ID": "190",
                                    "SZOBA_FK": "190",
                                    "UGYFEL_FK": "polla"
                                },
                                {
                                    "SZOBA_ID": "94",
                                    "SZOBA_FK": "94",
                                    "UGYFEL_FK": "balazs1"
                                },
                                {
                                    "SZOBA_ID": "132",
                                    "SZOBA_FK": "132",
                                    "UGYFEL_FK": "aniko"
                                },
                                {
                                    "SZOBA_ID": "55",
                                    "SZOBA_FK": "55",
                                    "UGYFEL_FK": "daniel"
                                },
                                {
                                    "SZOBA_ID": "89",
                                    "SZOBA_FK": "89",
                                    "UGYFEL_FK": "BENCEB"
                                },
                                {
                                    "SZOBA_ID": "104",
                                    "SZOBA_FK": "104",
                                    "UGYFEL_FK": "ARPADM"
                                },
                                {
                                    "SZOBA_ID": "11",
                                    "SZOBA_FK": "11",
                                    "UGYFEL_FK": "lajos"
                                },
                                {
                                    "SZOBA_ID": "43",
                                    "SZOBA_FK": "43",
                                    "UGYFEL_FK": "gabriella1"
                                },
                                {
                                    "SZOBA_ID": "105",
                                    "SZOBA_FK": "105",
                                    "UGYFEL_FK": "TAMASF"
                                },
                                {
                                    "SZOBA_ID": "166",
                                    "SZOBA_FK": "166",
                                    "UGYFEL_FK": "janos3"
                                },
                                {
                                    "SZOBA_ID": "92",
                                    "SZOBA_FK": "92",
                                    "UGYFEL_FK": "GYORGYO"
                                },
                                {
                                    "SZOBA_ID": "97",
                                    "SZOBA_FK": "97",
                                    "UGYFEL_FK": "norbert"
                                },
                                {
                                    "SZOBA_ID": "35",
                                    "SZOBA_FK": "35",
                                    "UGYFEL_FK": "RENATAS"
                                },
                                {
                                    "SZOBA_ID": "112",
                                    "SZOBA_FK": "112",
                                    "UGYFEL_FK": "pal"
                                },
                                {
                                    "SZOBA_ID": "124",
                                    "SZOBA_FK": "124",
                                    "UGYFEL_FK": "csongor3"
                                },
                                {
                                    "SZOBA_ID": "104",
                                    "SZOBA_FK": "104",
                                    "UGYFEL_FK": "RENATAS"
                                },
                                {
                                    "SZOBA_ID": "19",
                                    "SZOBA_FK": "19",
                                    "UGYFEL_FK": "bernadett1"
                                },
                                {
                                    "SZOBA_ID": "52",
                                    "SZOBA_FK": "52",
                                    "UGYFEL_FK": "tamas"
                                },
                                {
                                    "SZOBA_ID": "134",
                                    "SZOBA_FK": "134",
                                    "UGYFEL_FK": "attila4"
                                },
                                {
                                    "SZOBA_ID": "49",
                                    "SZOBA_FK": "49",
                                    "UGYFEL_FK": "bertalan"
                                },
                                {
                                    "SZOBA_ID": "9",
                                    "SZOBA_FK": "9",
                                    "UGYFEL_FK": "TAMASF"
                                },
                                {
                                    "SZOBA_ID": "39",
                                    "SZOBA_FK": "39",
                                    "UGYFEL_FK": "ARPADH"
                                },
                                {
                                    "SZOBA_ID": "154",
                                    "SZOBA_FK": "154",
                                    "UGYFEL_FK": "ANNAMARIAR"
                                },
                                {
                                    "SZOBA_ID": "114",
                                    "SZOBA_FK": "114",
                                    "UGYFEL_FK": "david4"
                                },
                                {
                                    "SZOBA_ID": "155",
                                    "SZOBA_FK": "155",
                                    "UGYFEL_FK": "norbert4"
                                },
                                {
                                    "SZOBA_ID": "14",
                                    "SZOBA_FK": "14",
                                    "UGYFEL_FK": "krisztina"
                                },
                                {
                                    "SZOBA_ID": "95",
                                    "SZOBA_FK": "95",
                                    "UGYFEL_FK": "RENATAK"
                                },
                                {
                                    "SZOBA_ID": "3",
                                    "SZOBA_FK": "3",
                                    "UGYFEL_FK": "agnes3"
                                },
                                {
                                    "SZOBA_ID": "142",
                                    "SZOBA_FK": "142",
                                    "UGYFEL_FK": "ROBERTI"
                                },
                                {
                                    "SZOBA_ID": "48",
                                    "SZOBA_FK": "48",
                                    "UGYFEL_FK": "david1"
                                },
                                {
                                    "SZOBA_ID": "48",
                                    "SZOBA_FK": "48",
                                    "UGYFEL_FK": "zsofi1"
                                },
                                {
                                    "SZOBA_ID": "88",
                                    "SZOBA_FK": "88",
                                    "UGYFEL_FK": "LASZLON"
                                },
                                {
                                    "SZOBA_ID": "17",
                                    "SZOBA_FK": "17",
                                    "UGYFEL_FK": "roza2"
                                },
                                {
                                    "SZOBA_ID": "51",
                                    "SZOBA_FK": "51",
                                    "UGYFEL_FK": "arpad2"
                                },
                                {
                                    "SZOBA_ID": "157",
                                    "SZOBA_FK": "157",
                                    "UGYFEL_FK": "anita"
                                },
                                {
                                    "SZOBA_ID": "44",
                                    "SZOBA_FK": "44",
                                    "UGYFEL_FK": "pal"
                                },
                                {
                                    "SZOBA_ID": "43",
                                    "SZOBA_FK": "43",
                                    "UGYFEL_FK": "anita"
                                },
                                {
                                    "SZOBA_ID": "115",
                                    "SZOBA_FK": "115",
                                    "UGYFEL_FK": "daniel"
                                },
                                {
                                    "SZOBA_ID": "92",
                                    "SZOBA_FK": "92",
                                    "UGYFEL_FK": "bertalan"
                                },
                                {
                                    "SZOBA_ID": "38",
                                    "SZOBA_FK": "38",
                                    "UGYFEL_FK": "gabriella1"
                                },
                                {
                                    "SZOBA_ID": "76",
                                    "SZOBA_FK": "76",
                                    "UGYFEL_FK": "peter3"
                                },
                                {
                                    "SZOBA_ID": "152",
                                    "SZOBA_FK": "152",
                                    "UGYFEL_FK": "ARONK"
                                },
                                {
                                    "SZOBA_ID": "180",
                                    "SZOBA_FK": "180",
                                    "UGYFEL_FK": "ATTILAO"
                                },
                                {
                                    "SZOBA_ID": "109",
                                    "SZOBA_FK": "109",
                                    "UGYFEL_FK": "aniko"
                                },
                                {
                                    "SZOBA_ID": "156",
                                    "SZOBA_FK": "156",
                                    "UGYFEL_FK": "adam4"
                                },
                                {
                                    "SZOBA_ID": "81",
                                    "SZOBA_FK": "81",
                                    "UGYFEL_FK": "MONIKAM"
                                },
                                {
                                    "SZOBA_ID": "180",
                                    "SZOBA_FK": "180",
                                    "UGYFEL_FK": "gusztav"
                                },
                                {
                                    "SZOBA_ID": "94",
                                    "SZOBA_FK": "94",
                                    "UGYFEL_FK": "krisztian4"
                                },
                                {
                                    "SZOBA_ID": "160",
                                    "SZOBA_FK": "160",
                                    "UGYFEL_FK": "peter1"
                                },
                                {
                                    "SZOBA_ID": "115",
                                    "SZOBA_FK": "115",
                                    "UGYFEL_FK": "GYORGYO"
                                },
                                {
                                    "SZOBA_ID": "171",
                                    "SZOBA_FK": "171",
                                    "UGYFEL_FK": "maria1"
                                },
                                {
                                    "SZOBA_ID": "29",
                                    "SZOBA_FK": "29",
                                    "UGYFEL_FK": "bernadett1"
                                },
                                {
                                    "SZOBA_ID": "96",
                                    "SZOBA_FK": "96",
                                    "UGYFEL_FK": "JOZSEFG"
                                },
                                {
                                    "SZOBA_ID": "176",
                                    "SZOBA_FK": "176",
                                    "UGYFEL_FK": "katalin"
                                },
                                {
                                    "SZOBA_ID": "161",
                                    "SZOBA_FK": "161",
                                    "UGYFEL_FK": "dani"
                                },
                                {
                                    "SZOBA_ID": "144",
                                    "SZOBA_FK": "144",
                                    "UGYFEL_FK": "david1"
                                },
                                {
                                    "SZOBA_ID": "59",
                                    "SZOBA_FK": "59",
                                    "UGYFEL_FK": "aron2"
                                },
                                {
                                    "SZOBA_ID": "128",
                                    "SZOBA_FK": "128",
                                    "UGYFEL_FK": "eszter4"
                                },
                                {
                                    "SZOBA_ID": "88",
                                    "SZOBA_FK": "88",
                                    "UGYFEL_FK": "reka4"
                                },
                                {
                                    "SZOBA_ID": "189",
                                    "SZOBA_FK": "189",
                                    "UGYFEL_FK": "norbert"
                                },
                                {
                                    "SZOBA_ID": "78",
                                    "SZOBA_FK": "78",
                                    "UGYFEL_FK": "julia"
                                },
                                {
                                    "SZOBA_ID": "148",
                                    "SZOBA_FK": "148",
                                    "UGYFEL_FK": "balazs2"
                                },
                                {
                                    "SZOBA_ID": "127",
                                    "SZOBA_FK": "127",
                                    "UGYFEL_FK": "peter1"
                                },
                                {
                                    "SZOBA_ID": "67",
                                    "SZOBA_FK": "67",
                                    "UGYFEL_FK": "daniel1"
                                },
                                {
                                    "SZOBA_ID": "48",
                                    "SZOBA_FK": "48",
                                    "UGYFEL_FK": "RENATAK"
                                },
                                {
                                    "SZOBA_ID": "64",
                                    "SZOBA_FK": "64",
                                    "UGYFEL_FK": "marton"
                                },
                                {
                                    "SZOBA_ID": "128",
                                    "SZOBA_FK": "128",
                                    "UGYFEL_FK": "norbert4"
                                },
                                {
                                    "SZOBA_ID": "67",
                                    "SZOBA_FK": "67",
                                    "UGYFEL_FK": "kriszti"
                                }
                            ]
                        },
                        "text/html": "<table><tr><th>SZOBA_ID</th><th>SZOBA_FK</th><th>UGYFEL_FK</th></tr><tr><td>87</td><td>87</td><td>NANDORF</td></tr><tr><td>131</td><td>131</td><td>ARONK</td></tr><tr><td>6</td><td>6</td><td>SEBASTIANF</td></tr><tr><td>42</td><td>42</td><td>laszlo2</td></tr><tr><td>7</td><td>7</td><td>PETERB</td></tr><tr><td>68</td><td>68</td><td>sebestyen</td></tr><tr><td>5</td><td>5</td><td>nikoletta4</td></tr><tr><td>141</td><td>141</td><td>kristof4</td></tr><tr><td>21</td><td>21</td><td>KRISZTIANM</td></tr><tr><td>170</td><td>170</td><td>anett3</td></tr><tr><td>78</td><td>78</td><td>kata</td></tr><tr><td>10</td><td>10</td><td>norbert4</td></tr><tr><td>164</td><td>164</td><td>BERNADETTO</td></tr><tr><td>182</td><td>182</td><td>AGNESH</td></tr><tr><td>83</td><td>83</td><td>katalin</td></tr><tr><td>169</td><td>169</td><td>daniel1</td></tr><tr><td>171</td><td>171</td><td>katka</td></tr><tr><td>155</td><td>155</td><td>daniel</td></tr><tr><td>125</td><td>125</td><td>aron2</td></tr><tr><td>155</td><td>155</td><td>peter4</td></tr><tr><td>185</td><td>185</td><td>anett3</td></tr><tr><td>139</td><td>139</td><td>ZSUZSAV</td></tr><tr><td>130</td><td>130</td><td>zsolt1</td></tr><tr><td>144</td><td>144</td><td>anett3</td></tr><tr><td>137</td><td>137</td><td>balazs2</td></tr><tr><td>79</td><td>79</td><td>istvan1</td></tr><tr><td>136</td><td>136</td><td>BERNADETTO</td></tr><tr><td>70</td><td>70</td><td>polla</td></tr><tr><td>107</td><td>107</td><td>BEATRIXS</td></tr><tr><td>123</td><td>123</td><td>norbert2</td></tr><tr><td>156</td><td>156</td><td>mark</td></tr><tr><td>44</td><td>44</td><td>miklos2</td></tr><tr><td>42</td><td>42</td><td>ANIKOS</td></tr><tr><td>149</td><td>149</td><td>beata4</td></tr><tr><td>176</td><td>176</td><td>julia</td></tr><tr><td>77</td><td>77</td><td>gabriella1</td></tr><tr><td>153</td><td>153</td><td>daniel</td></tr><tr><td>74</td><td>74</td><td>balint</td></tr><tr><td>115</td><td>115</td><td>SZILARDS</td></tr><tr><td>100</td><td>100</td><td>KRISZTINAG</td></tr><tr><td>31</td><td>31</td><td>ZSOLTJ</td></tr><tr><td>162</td><td>162</td><td>istvan1</td></tr><tr><td>190</td><td>190</td><td>ANDRASE</td></tr><tr><td>39</td><td>39</td><td>kata</td></tr><tr><td>17</td><td>17</td><td>sebestyen</td></tr><tr><td>48</td><td>48</td><td>gabor4</td></tr><tr><td>30</td><td>30</td><td>laszlo2</td></tr><tr><td>111</td><td>111</td><td>marton</td></tr><tr><td>31</td><td>31</td><td>AGNESH</td></tr><tr><td>96</td><td>96</td><td>anett3</td></tr><tr><td>184</td><td>184</td><td>krisztina1</td></tr><tr><td>9</td><td>9</td><td>MONIKAM</td></tr><tr><td>106</td><td>106</td><td>VIKTORIAU</td></tr><tr><td>29</td><td>29</td><td>andras3</td></tr><tr><td>117</td><td>117</td><td>bernadett2</td></tr><tr><td>130</td><td>130</td><td>csongor3</td></tr><tr><td>109</td><td>109</td><td>EVAV</td></tr><tr><td>186</td><td>186</td><td>ZOLTANT</td></tr><tr><td>94</td><td>94</td><td>JOZSEFG</td></tr><tr><td>117</td><td>117</td><td>vivien3</td></tr><tr><td>105</td><td>105</td><td>TAMASF</td></tr><tr><td>132</td><td>132</td><td>RENATAS</td></tr><tr><td>1</td><td>1</td><td>marton</td></tr><tr><td>109</td><td>109</td><td>gusztav</td></tr><tr><td>54</td><td>54</td><td>balazs1</td></tr><tr><td>96</td><td>96</td><td>csongor3</td></tr><tr><td>33</td><td>33</td><td>andi</td></tr><tr><td>63</td><td>63</td><td>ferenc1</td></tr><tr><td>18</td><td>18</td><td>bence</td></tr><tr><td>38</td><td>38</td><td>kornel4</td></tr><tr><td>48</td><td>48</td><td>agnes</td></tr><tr><td>3</td><td>3</td><td>daniel</td></tr><tr><td>163</td><td>163</td><td>ZSOLTJ</td></tr><tr><td>98</td><td>98</td><td>JANOSG</td></tr><tr><td>99</td><td>99</td><td>norbert2</td></tr><tr><td>187</td><td>187</td><td>katka</td></tr><tr><td>193</td><td>193</td><td>nikoletta4</td></tr><tr><td>97</td><td>97</td><td>daniel1</td></tr><tr><td>91</td><td>91</td><td>MATYASS</td></tr><tr><td>100</td><td>100</td><td>RENATAS</td></tr><tr><td>67</td><td>67</td><td>julia</td></tr><tr><td>161</td><td>161</td><td>zoltan4</td></tr><tr><td>165</td><td>165</td><td>sandor3</td></tr><tr><td>150</td><td>150</td><td>zoltan4</td></tr><tr><td>54</td><td>54</td><td>maria1</td></tr><tr><td>127</td><td>127</td><td>andras41</td></tr><tr><td>166</td><td>166</td><td>szilvia1</td></tr><tr><td>67</td><td>67</td><td>ARONK</td></tr><tr><td>78</td><td>78</td><td>BENCEB</td></tr><tr><td>85</td><td>85</td><td>robert2</td></tr><tr><td>157</td><td>157</td><td>krisztina1</td></tr><tr><td>137</td><td>137</td><td>tamas</td></tr><tr><td>65</td><td>65</td><td>zsuzsanna</td></tr><tr><td>4</td><td>4</td><td>aladar</td></tr><tr><td>149</td><td>149</td><td>maria1</td></tr><tr><td>161</td><td>161</td><td>david</td></tr><tr><td>109</td><td>109</td><td>bertalan</td></tr><tr><td>131</td><td>131</td><td>akos</td></tr><tr><td>95</td><td>95</td><td>kriszti</td></tr><tr><td>137</td><td>137</td><td>attila1</td></tr><tr><td>44</td><td>44</td><td>alexandra</td></tr><tr><td>169</td><td>169</td><td>krisztina</td></tr><tr><td>21</td><td>21</td><td>ATTILAO</td></tr><tr><td>136</td><td>136</td><td>katalin</td></tr><tr><td>179</td><td>179</td><td>andras41</td></tr><tr><td>14</td><td>14</td><td>NIKOLETTAT</td></tr><tr><td>146</td><td>146</td><td>matyas2</td></tr><tr><td>94</td><td>94</td><td>kati</td></tr><tr><td>3</td><td>3</td><td>agnes</td></tr><tr><td>80</td><td>80</td><td>fruzsina4</td></tr><tr><td>54</td><td>54</td><td>ZOLTANT</td></tr><tr><td>173</td><td>173</td><td>tunde</td></tr><tr><td>43</td><td>43</td><td>ARPADH</td></tr><tr><td>96</td><td>96</td><td>peter1</td></tr><tr><td>185</td><td>185</td><td>edit</td></tr><tr><td>196</td><td>196</td><td>akos</td></tr><tr><td>83</td><td>83</td><td>andras3</td></tr><tr><td>193</td><td>193</td><td>sara</td></tr><tr><td>60</td><td>60</td><td>akos</td></tr><tr><td>181</td><td>181</td><td>jozsef2</td></tr><tr><td>148</td><td>148</td><td>balazs3</td></tr><tr><td>185</td><td>185</td><td>ANIKOS</td></tr><tr><td>192</td><td>192</td><td>SEBASTIANF</td></tr><tr><td>71</td><td>71</td><td>david</td></tr><tr><td>174</td><td>174</td><td>lajos</td></tr><tr><td>76</td><td>76</td><td>GYORGYO</td></tr><tr><td>184</td><td>184</td><td>ANNAMARIAR</td></tr><tr><td>110</td><td>110</td><td>ZSOLTJ</td></tr><tr><td>35</td><td>35</td><td>sandor</td></tr><tr><td>16</td><td>16</td><td>MIKLOSB</td></tr><tr><td>37</td><td>37</td><td>ESZTERE</td></tr><tr><td>102</td><td>102</td><td>istvan1</td></tr><tr><td>188</td><td>188</td><td>denes</td></tr><tr><td>99</td><td>99</td><td>balazs2</td></tr><tr><td>156</td><td>156</td><td>julianna4</td></tr><tr><td>185</td><td>185</td><td>andras2</td></tr><tr><td>8</td><td>8</td><td>PETERB</td></tr><tr><td>187</td><td>187</td><td>veronika4</td></tr><tr><td>19</td><td>19</td><td>lala</td></tr><tr><td>12</td><td>12</td><td>andras21</td></tr><tr><td>77</td><td>77</td><td>tihamer</td></tr><tr><td>189</td><td>189</td><td>julia</td></tr><tr><td>78</td><td>78</td><td>ZOLTANP</td></tr><tr><td>61</td><td>61</td><td>andras3</td></tr><tr><td>62</td><td>62</td><td>balint2</td></tr><tr><td>145</td><td>145</td><td>balazs1</td></tr><tr><td>70</td><td>70</td><td>aniko4</td></tr><tr><td>37</td><td>37</td><td>akos</td></tr><tr><td>119</td><td>119</td><td>emese</td></tr><tr><td>35</td><td>35</td><td>MATYASS</td></tr><tr><td>106</td><td>106</td><td>MONIKAM</td></tr><tr><td>172</td><td>172</td><td>valentin</td></tr><tr><td>188</td><td>188</td><td>gabriella1</td></tr><tr><td>185</td><td>185</td><td>sara</td></tr><tr><td>71</td><td>71</td><td>zsuzsa</td></tr><tr><td>17</td><td>17</td><td>bence</td></tr><tr><td>73</td><td>73</td><td>bence</td></tr><tr><td>101</td><td>101</td><td>szilvia1</td></tr><tr><td>118</td><td>118</td><td>lala</td></tr><tr><td>128</td><td>128</td><td>balint1</td></tr><tr><td>97</td><td>97</td><td>SZILARDS</td></tr><tr><td>58</td><td>58</td><td>BELAF</td></tr><tr><td>160</td><td>160</td><td>NIKOLETTAT</td></tr><tr><td>195</td><td>195</td><td>reka4</td></tr><tr><td>119</td><td>119</td><td>andrea</td></tr><tr><td>129</td><td>129</td><td>kati</td></tr><tr><td>135</td><td>135</td><td>norbert2</td></tr><tr><td>28</td><td>28</td><td>ANDREAT</td></tr><tr><td>97</td><td>97</td><td>peter3</td></tr><tr><td>94</td><td>94</td><td>alexandra</td></tr><tr><td>31</td><td>31</td><td>balazs3</td></tr><tr><td>90</td><td>90</td><td>JUDITH</td></tr><tr><td>152</td><td>152</td><td>gabor1</td></tr><tr><td>181</td><td>181</td><td>andras41</td></tr><tr><td>91</td><td>91</td><td>krisztian4</td></tr><tr><td>140</td><td>140</td><td>katalin</td></tr><tr><td>55</td><td>55</td><td>GYORGYO</td></tr><tr><td>121</td><td>121</td><td>SZABOLCSM</td></tr><tr><td>66</td><td>66</td><td>AGNESK</td></tr><tr><td>114</td><td>114</td><td>BELAF</td></tr><tr><td>1</td><td>1</td><td>agnes</td></tr><tr><td>121</td><td>121</td><td>ROBERTP</td></tr><tr><td>182</td><td>182</td><td>zsuzsa3</td></tr><tr><td>93</td><td>93</td><td>SEBASTIANF</td></tr><tr><td>164</td><td>164</td><td>ilona3</td></tr><tr><td>187</td><td>187</td><td>zsolt1</td></tr><tr><td>17</td><td>17</td><td>andrea</td></tr><tr><td>139</td><td>139</td><td>BENCEB</td></tr><tr><td>169</td><td>169</td><td>denes</td></tr><tr><td>188</td><td>188</td><td>krisztian4</td></tr><tr><td>36</td><td>36</td><td>reka4</td></tr><tr><td>172</td><td>172</td><td>KRISZTIANM</td></tr><tr><td>36</td><td>36</td><td>edit</td></tr><tr><td>139</td><td>139</td><td>kati</td></tr><tr><td>46</td><td>46</td><td>balint1</td></tr><tr><td>189</td><td>189</td><td>VIKTORIAU</td></tr><tr><td>126</td><td>126</td><td>ilona3</td></tr><tr><td>20</td><td>20</td><td>agnes3</td></tr><tr><td>61</td><td>61</td><td>gusztav</td></tr><tr><td>88</td><td>88</td><td>david</td></tr><tr><td>27</td><td>27</td><td>ARONK</td></tr><tr><td>7</td><td>7</td><td>peter4</td></tr><tr><td>131</td><td>131</td><td>balu</td></tr><tr><td>141</td><td>141</td><td>dani</td></tr><tr><td>120</td><td>120</td><td>timea2</td></tr><tr><td>13</td><td>13</td><td>KRISZTINAG</td></tr><tr><td>197</td><td>197</td><td>mark</td></tr><tr><td>148</td><td>148</td><td>emese</td></tr><tr><td>187</td><td>187</td><td>norbert5</td></tr><tr><td>18</td><td>18</td><td>maria1</td></tr><tr><td>138</td><td>138</td><td>BEATRIXK</td></tr><tr><td>63</td><td>63</td><td>marton</td></tr><tr><td>42</td><td>42</td><td>tamara2</td></tr><tr><td>147</td><td>147</td><td>ARPADM</td></tr><tr><td>6</td><td>6</td><td>eszter</td></tr><tr><td>58</td><td>58</td><td>edit</td></tr><tr><td>190</td><td>190</td><td>vivien3</td></tr><tr><td>12</td><td>12</td><td>nikoletta4</td></tr><tr><td>112</td><td>112</td><td>pal</td></tr><tr><td>34</td><td>34</td><td>polla</td></tr><tr><td>19</td><td>19</td><td>laszlo2</td></tr><tr><td>130</td><td>130</td><td>zoltan4</td></tr><tr><td>96</td><td>96</td><td>anett3</td></tr><tr><td>166</td><td>166</td><td>PETERB</td></tr><tr><td>163</td><td>163</td><td>norbert2</td></tr><tr><td>148</td><td>148</td><td>denes</td></tr><tr><td>141</td><td>141</td><td>zoltan4</td></tr><tr><td>177</td><td>177</td><td>dora3</td></tr><tr><td>111</td><td>111</td><td>ANDRASE</td></tr><tr><td>50</td><td>50</td><td>krisztian4</td></tr><tr><td>3</td><td>3</td><td>georgij</td></tr><tr><td>146</td><td>146</td><td>JANOSG</td></tr><tr><td>10</td><td>10</td><td>veronika4</td></tr><tr><td>15</td><td>15</td><td>ROBERTI</td></tr><tr><td>168</td><td>168</td><td>polla</td></tr><tr><td>49</td><td>49</td><td>anett3</td></tr><tr><td>168</td><td>168</td><td>MATEK</td></tr><tr><td>10</td><td>10</td><td>GYONGYIK</td></tr><tr><td>138</td><td>138</td><td>andras41</td></tr><tr><td>74</td><td>74</td><td>attila4</td></tr><tr><td>83</td><td>83</td><td>tihamer</td></tr><tr><td>175</td><td>175</td><td>andras41</td></tr><tr><td>45</td><td>45</td><td>sandor</td></tr><tr><td>112</td><td>112</td><td>david</td></tr><tr><td>45</td><td>45</td><td>robert2</td></tr><tr><td>1</td><td>1</td><td>adam1</td></tr><tr><td>146</td><td>146</td><td>denes</td></tr><tr><td>21</td><td>21</td><td>balazs2</td></tr><tr><td>126</td><td>126</td><td>imre1</td></tr><tr><td>27</td><td>27</td><td>david</td></tr><tr><td>148</td><td>148</td><td>ROBERTI</td></tr><tr><td>92</td><td>92</td><td>andrea</td></tr><tr><td>109</td><td>109</td><td>imre1</td></tr><tr><td>51</td><td>51</td><td>arpad2</td></tr><tr><td>148</td><td>148</td><td>bernadett2</td></tr><tr><td>14</td><td>14</td><td>JOZSEFG</td></tr><tr><td>70</td><td>70</td><td>kata</td></tr><tr><td>128</td><td>128</td><td>peter4</td></tr><tr><td>178</td><td>178</td><td>balazs3</td></tr><tr><td>89</td><td>89</td><td>tamas</td></tr><tr><td>8</td><td>8</td><td>henrik3</td></tr><tr><td>84</td><td>84</td><td>katka</td></tr><tr><td>20</td><td>20</td><td>janos3</td></tr><tr><td>34</td><td>34</td><td>kriszti</td></tr><tr><td>52</td><td>52</td><td>zoltan</td></tr><tr><td>44</td><td>44</td><td>beata4</td></tr><tr><td>48</td><td>48</td><td>bernadett2</td></tr><tr><td>158</td><td>158</td><td>dora3</td></tr><tr><td>49</td><td>49</td><td>andrea</td></tr><tr><td>114</td><td>114</td><td>ANIKOS</td></tr><tr><td>2</td><td>2</td><td>fruzsina4</td></tr><tr><td>35</td><td>35</td><td>adam4</td></tr><tr><td>74</td><td>74</td><td>SZILARDS</td></tr><tr><td>177</td><td>177</td><td>georgij</td></tr><tr><td>8</td><td>8</td><td>brigitta</td></tr><tr><td>149</td><td>149</td><td>zsuzsa</td></tr><tr><td>149</td><td>149</td><td>krisztian4</td></tr><tr><td>193</td><td>193</td><td>IBOLYAA</td></tr><tr><td>97</td><td>97</td><td>imre1</td></tr><tr><td>104</td><td>104</td><td>andras3</td></tr><tr><td>56</td><td>56</td><td>BELAF</td></tr><tr><td>172</td><td>172</td><td>MIHALYJ</td></tr><tr><td>158</td><td>158</td><td>JANOSG</td></tr><tr><td>92</td><td>92</td><td>gabor4</td></tr><tr><td>195</td><td>195</td><td>EVAV</td></tr><tr><td>149</td><td>149</td><td>vivien3</td></tr><tr><td>87</td><td>87</td><td>gabor1</td></tr><tr><td>63</td><td>63</td><td>eva2</td></tr><tr><td>45</td><td>45</td><td>maria1</td></tr><tr><td>74</td><td>74</td><td>bence</td></tr><tr><td>23</td><td>23</td><td>roland</td></tr><tr><td>135</td><td>135</td><td>tunde</td></tr><tr><td>6</td><td>6</td><td>rajmond4</td></tr><tr><td>42</td><td>42</td><td>balazs2</td></tr><tr><td>24</td><td>24</td><td>JOZSEFG</td></tr><tr><td>127</td><td>127</td><td>nikolett3</td></tr><tr><td>167</td><td>167</td><td>KRISZTINAG</td></tr><tr><td>53</td><td>53</td><td>ANIKOS</td></tr><tr><td>16</td><td>16</td><td>valentin</td></tr><tr><td>165</td><td>165</td><td>agnes</td></tr><tr><td>121</td><td>121</td><td>sandor3</td></tr><tr><td>86</td><td>86</td><td>daniel1</td></tr><tr><td>70</td><td>70</td><td>andrea4</td></tr><tr><td>124</td><td>124</td><td>GYORGYO</td></tr><tr><td>82</td><td>82</td><td>denes</td></tr><tr><td>185</td><td>185</td><td>balazs2</td></tr><tr><td>118</td><td>118</td><td>maria1</td></tr><tr><td>51</td><td>51</td><td>polla</td></tr><tr><td>88</td><td>88</td><td>sara</td></tr><tr><td>175</td><td>175</td><td>ZSOLTJ</td></tr><tr><td>187</td><td>187</td><td>ZSUZSAV</td></tr><tr><td>83</td><td>83</td><td>adam1</td></tr><tr><td>34</td><td>34</td><td>szilvia1</td></tr><tr><td>82</td><td>82</td><td>norbert4</td></tr><tr><td>28</td><td>28</td><td>bence</td></tr><tr><td>6</td><td>6</td><td>ARPADM</td></tr><tr><td>67</td><td>67</td><td>ESZTERE</td></tr><tr><td>64</td><td>64</td><td>MIHALYJ</td></tr><tr><td>12</td><td>12</td><td>brigitta</td></tr><tr><td>74</td><td>74</td><td>nikoletta4</td></tr><tr><td>83</td><td>83</td><td>gabor4</td></tr><tr><td>127</td><td>127</td><td>VIKTORK</td></tr><tr><td>184</td><td>184</td><td>andras3</td></tr><tr><td>131</td><td>131</td><td>tihamer</td></tr><tr><td>8</td><td>8</td><td>sara</td></tr><tr><td>58</td><td>58</td><td>veronika4</td></tr><tr><td>98</td><td>98</td><td>andras2</td></tr><tr><td>69</td><td>69</td><td>kata</td></tr><tr><td>28</td><td>28</td><td>brigitta3</td></tr><tr><td>80</td><td>80</td><td>GYORGYO</td></tr><tr><td>49</td><td>49</td><td>kornel4</td></tr><tr><td>54</td><td>54</td><td>fruzsina4</td></tr><tr><td>146</td><td>146</td><td>GYONGYIK</td></tr><tr><td>63</td><td>63</td><td>MATYASS</td></tr><tr><td>165</td><td>165</td><td>LASZLON</td></tr><tr><td>151</td><td>151</td><td>zoltan4</td></tr><tr><td>29</td><td>29</td><td>krisztian4</td></tr><tr><td>36</td><td>36</td><td>tihamer</td></tr><tr><td>16</td><td>16</td><td>beata4</td></tr><tr><td>165</td><td>165</td><td>nikolett3</td></tr><tr><td>185</td><td>185</td><td>tunde</td></tr><tr><td>39</td><td>39</td><td>LASZLOA</td></tr><tr><td>165</td><td>165</td><td>BENCEB</td></tr><tr><td>28</td><td>28</td><td>KRISZTIANM</td></tr><tr><td>72</td><td>72</td><td>ARONK</td></tr><tr><td>192</td><td>192</td><td>ATTILAO</td></tr><tr><td>34</td><td>34</td><td>janos3</td></tr><tr><td>180</td><td>180</td><td>JOZSEFG</td></tr><tr><td>22</td><td>22</td><td>csongor3</td></tr><tr><td>156</td><td>156</td><td>ZOLTANP</td></tr><tr><td>141</td><td>141</td><td>arpad2</td></tr><tr><td>133</td><td>133</td><td>dani</td></tr><tr><td>130</td><td>130</td><td>sara</td></tr><tr><td>161</td><td>161</td><td>kati</td></tr><tr><td>188</td><td>188</td><td>ARPADH</td></tr><tr><td>173</td><td>173</td><td>timea2</td></tr><tr><td>48</td><td>48</td><td>kati</td></tr><tr><td>140</td><td>140</td><td>ZOLTANP</td></tr><tr><td>17</td><td>17</td><td>marton</td></tr><tr><td>174</td><td>174</td><td>zsolt1</td></tr><tr><td>11</td><td>11</td><td>tunde</td></tr><tr><td>36</td><td>36</td><td>VIKTORK</td></tr><tr><td>32</td><td>32</td><td>JUDITH</td></tr><tr><td>112</td><td>112</td><td>annamaria1</td></tr><tr><td>160</td><td>160</td><td>klaudia2</td></tr><tr><td>123</td><td>123</td><td>LASZLOA</td></tr><tr><td>40</td><td>40</td><td>balint1</td></tr><tr><td>185</td><td>185</td><td>BERNADETTO</td></tr><tr><td>193</td><td>193</td><td>julia</td></tr><tr><td>160</td><td>160</td><td>andras41</td></tr><tr><td>182</td><td>182</td><td>NIKOLETTAT</td></tr><tr><td>80</td><td>80</td><td>krisztian4</td></tr><tr><td>168</td><td>168</td><td>zsolt1</td></tr><tr><td>110</td><td>110</td><td>kata</td></tr><tr><td>40</td><td>40</td><td>ARONK</td></tr><tr><td>160</td><td>160</td><td>balint1</td></tr><tr><td>23</td><td>23</td><td>LASZLON</td></tr><tr><td>56</td><td>56</td><td>KRISZTINAG</td></tr><tr><td>62</td><td>62</td><td>ANNAMARIAR</td></tr><tr><td>181</td><td>181</td><td>alexandra</td></tr><tr><td>62</td><td>62</td><td>david</td></tr><tr><td>183</td><td>183</td><td>roland</td></tr><tr><td>74</td><td>74</td><td>sebestyen</td></tr><tr><td>163</td><td>163</td><td>BEATRIXK</td></tr><tr><td>92</td><td>92</td><td>BERNADETTO</td></tr><tr><td>115</td><td>115</td><td>csongor3</td></tr><tr><td>170</td><td>170</td><td>BEATRIXK</td></tr><tr><td>23</td><td>23</td><td>GYONGYIK</td></tr><tr><td>4</td><td>4</td><td>GYORGYO</td></tr><tr><td>8</td><td>8</td><td>LASZLOA</td></tr><tr><td>19</td><td>19</td><td>balint1</td></tr><tr><td>1</td><td>1</td><td>andras3</td></tr><tr><td>66</td><td>66</td><td>TAMASF</td></tr><tr><td>12</td><td>12</td><td>csongor3</td></tr><tr><td>196</td><td>196</td><td>BEATRIXS</td></tr><tr><td>117</td><td>117</td><td>bernadett1</td></tr><tr><td>84</td><td>84</td><td>katka</td></tr><tr><td>47</td><td>47</td><td>andi</td></tr><tr><td>156</td><td>156</td><td>katka</td></tr><tr><td>187</td><td>187</td><td>brigitta3</td></tr><tr><td>181</td><td>181</td><td>mark</td></tr><tr><td>111</td><td>111</td><td>tamas</td></tr><tr><td>41</td><td>41</td><td>ZSUZSAV</td></tr><tr><td>72</td><td>72</td><td>lala</td></tr><tr><td>117</td><td>117</td><td>georgij</td></tr><tr><td>74</td><td>74</td><td>norbert4</td></tr><tr><td>110</td><td>110</td><td>krisztina1</td></tr><tr><td>5</td><td>5</td><td>ANIKOS</td></tr><tr><td>114</td><td>114</td><td>ferenc1</td></tr><tr><td>123</td><td>123</td><td>norbert4</td></tr><tr><td>154</td><td>154</td><td>zsofi1</td></tr><tr><td>153</td><td>153</td><td>bernadett2</td></tr><tr><td>12</td><td>12</td><td>ZSOLTJ</td></tr><tr><td>35</td><td>35</td><td>SZABOLCSM</td></tr><tr><td>103</td><td>103</td><td>BEATRIXK</td></tr><tr><td>16</td><td>16</td><td>gabor1</td></tr><tr><td>169</td><td>169</td><td>bertalan</td></tr><tr><td>94</td><td>94</td><td>andras21</td></tr><tr><td>76</td><td>76</td><td>nikolett3</td></tr><tr><td>193</td><td>193</td><td>debora</td></tr><tr><td>198</td><td>198</td><td>roland</td></tr><tr><td>35</td><td>35</td><td>marton</td></tr><tr><td>143</td><td>143</td><td>AGNESH</td></tr><tr><td>171</td><td>171</td><td>maria1</td></tr><tr><td>77</td><td>77</td><td>imre1</td></tr><tr><td>80</td><td>80</td><td>andras41</td></tr><tr><td>172</td><td>172</td><td>norbert5</td></tr><tr><td>36</td><td>36</td><td>RENATAS</td></tr><tr><td>48</td><td>48</td><td>aniko</td></tr><tr><td>53</td><td>53</td><td>MIKLOSB</td></tr><tr><td>133</td><td>133</td><td>ANIKOS</td></tr><tr><td>190</td><td>190</td><td>imre1</td></tr><tr><td>6</td><td>6</td><td>MIHALYJ</td></tr><tr><td>178</td><td>178</td><td>TAMASF</td></tr><tr><td>103</td><td>103</td><td>nikoletta4</td></tr><tr><td>197</td><td>197</td><td>eszter2</td></tr><tr><td>118</td><td>118</td><td>david</td></tr><tr><td>83</td><td>83</td><td>peter3</td></tr><tr><td>118</td><td>118</td><td>fruzsina4</td></tr><tr><td>82</td><td>82</td><td>katalin4</td></tr><tr><td>120</td><td>120</td><td>ISTVANV</td></tr><tr><td>132</td><td>132</td><td>kata</td></tr><tr><td>73</td><td>73</td><td>GYONGYIK</td></tr><tr><td>4</td><td>4</td><td>aniko4</td></tr><tr><td>117</td><td>117</td><td>katalin4</td></tr><tr><td>36</td><td>36</td><td>ARONK</td></tr><tr><td>134</td><td>134</td><td>peter2</td></tr><tr><td>22</td><td>22</td><td>beata4</td></tr><tr><td>70</td><td>70</td><td>kata</td></tr><tr><td>122</td><td>122</td><td>aron2</td></tr><tr><td>182</td><td>182</td><td>TAMASF</td></tr><tr><td>71</td><td>71</td><td>andras21</td></tr><tr><td>164</td><td>164</td><td>sandor</td></tr><tr><td>198</td><td>198</td><td>JANOSP</td></tr><tr><td>33</td><td>33</td><td>krisztina</td></tr><tr><td>75</td><td>75</td><td>jozsef2</td></tr><tr><td>137</td><td>137</td><td>ANDRASE</td></tr><tr><td>174</td><td>174</td><td>katalin</td></tr><tr><td>92</td><td>92</td><td>kata</td></tr><tr><td>190</td><td>190</td><td>eszter2</td></tr><tr><td>40</td><td>40</td><td>norbert</td></tr><tr><td>43</td><td>43</td><td>balazs2</td></tr><tr><td>12</td><td>12</td><td>KRISZTIANM</td></tr><tr><td>179</td><td>179</td><td>csongor3</td></tr><tr><td>181</td><td>181</td><td>gabriella1</td></tr><tr><td>30</td><td>30</td><td>balazs2</td></tr><tr><td>134</td><td>134</td><td>dani</td></tr><tr><td>157</td><td>157</td><td>zsuzsanna</td></tr><tr><td>119</td><td>119</td><td>gabor1</td></tr><tr><td>68</td><td>68</td><td>ROBERTI</td></tr><tr><td>15</td><td>15</td><td>norbert2</td></tr><tr><td>113</td><td>113</td><td>katka</td></tr><tr><td>188</td><td>188</td><td>zoltan</td></tr><tr><td>27</td><td>27</td><td>aniko4</td></tr><tr><td>146</td><td>146</td><td>laszlo2</td></tr><tr><td>38</td><td>38</td><td>reka4</td></tr><tr><td>127</td><td>127</td><td>akos</td></tr><tr><td>18</td><td>18</td><td>bernadett2</td></tr><tr><td>122</td><td>122</td><td>daniel</td></tr><tr><td>89</td><td>89</td><td>ARONK</td></tr><tr><td>3</td><td>3</td><td>ROBERTP</td></tr><tr><td>191</td><td>191</td><td>jozsef2</td></tr><tr><td>130</td><td>130</td><td>zsuzsa3</td></tr><tr><td>110</td><td>110</td><td>roza2</td></tr><tr><td>139</td><td>139</td><td>marton</td></tr><tr><td>193</td><td>193</td><td>peter4</td></tr><tr><td>13</td><td>13</td><td>TAMASF</td></tr><tr><td>134</td><td>134</td><td>balazs2</td></tr><tr><td>136</td><td>136</td><td>adam3</td></tr><tr><td>157</td><td>157</td><td>andrea4</td></tr><tr><td>95</td><td>95</td><td>krisztina</td></tr><tr><td>121</td><td>121</td><td>andi</td></tr><tr><td>98</td><td>98</td><td>jozsef</td></tr><tr><td>2</td><td>2</td><td>SEBASTIANF</td></tr><tr><td>25</td><td>25</td><td>MARKH</td></tr><tr><td>33</td><td>33</td><td>ANDREAT</td></tr><tr><td>79</td><td>79</td><td>balazs3</td></tr><tr><td>69</td><td>69</td><td>krisztina1</td></tr><tr><td>47</td><td>47</td><td>ARPADH</td></tr><tr><td>86</td><td>86</td><td>balint1</td></tr><tr><td>151</td><td>151</td><td>pal</td></tr><tr><td>85</td><td>85</td><td>andras4</td></tr><tr><td>38</td><td>38</td><td>imre</td></tr><tr><td>154</td><td>154</td><td>edit</td></tr><tr><td>122</td><td>122</td><td>SEBASTIANF</td></tr><tr><td>50</td><td>50</td><td>ZSUZSAV</td></tr><tr><td>139</td><td>139</td><td>georgij</td></tr><tr><td>198</td><td>198</td><td>edit</td></tr><tr><td>49</td><td>49</td><td>ARPADH</td></tr><tr><td>183</td><td>183</td><td>krisztina</td></tr><tr><td>161</td><td>161</td><td>dani</td></tr><tr><td>2</td><td>2</td><td>sandor</td></tr><tr><td>20</td><td>20</td><td>kata</td></tr><tr><td>80</td><td>80</td><td>SZILARDS</td></tr><tr><td>99</td><td>99</td><td>david1</td></tr><tr><td>5</td><td>5</td><td>NIKOLETTAT</td></tr><tr><td>195</td><td>195</td><td>andras41</td></tr><tr><td>163</td><td>163</td><td>ANNAMARIAR</td></tr><tr><td>29</td><td>29</td><td>MARKH</td></tr><tr><td>145</td><td>145</td><td>kornel4</td></tr><tr><td>38</td><td>38</td><td>laszlo1</td></tr><tr><td>86</td><td>86</td><td>aladar</td></tr><tr><td>59</td><td>59</td><td>peter4</td></tr><tr><td>62</td><td>62</td><td>veronika4</td></tr><tr><td>27</td><td>27</td><td>MARKH</td></tr><tr><td>109</td><td>109</td><td>emese</td></tr><tr><td>59</td><td>59</td><td>arpad2</td></tr><tr><td>113</td><td>113</td><td>anita</td></tr><tr><td>55</td><td>55</td><td>zsuzsa3</td></tr><tr><td>144</td><td>144</td><td>ISTVANV</td></tr><tr><td>43</td><td>43</td><td>fruzsina4</td></tr><tr><td>120</td><td>120</td><td>reka4</td></tr><tr><td>132</td><td>132</td><td>attila</td></tr><tr><td>197</td><td>197</td><td>zoltan4</td></tr><tr><td>70</td><td>70</td><td>andras2</td></tr><tr><td>74</td><td>74</td><td>peter4</td></tr><tr><td>175</td><td>175</td><td>andras41</td></tr><tr><td>194</td><td>194</td><td>kriszti</td></tr><tr><td>54</td><td>54</td><td>kristof4</td></tr><tr><td>95</td><td>95</td><td>eszter2</td></tr><tr><td>140</td><td>140</td><td>BEATRIXS</td></tr><tr><td>6</td><td>6</td><td>BEATRIXS</td></tr><tr><td>150</td><td>150</td><td>ZSOLTJ</td></tr><tr><td>89</td><td>89</td><td>andras21</td></tr><tr><td>108</td><td>108</td><td>dani</td></tr><tr><td>87</td><td>87</td><td>vivien3</td></tr><tr><td>77</td><td>77</td><td>david1</td></tr><tr><td>150</td><td>150</td><td>kriszti</td></tr><tr><td>20</td><td>20</td><td>gusztav</td></tr><tr><td>163</td><td>163</td><td>MATEK</td></tr><tr><td>86</td><td>86</td><td>klaudia2</td></tr><tr><td>110</td><td>110</td><td>eszter2</td></tr><tr><td>3</td><td>3</td><td>SZILARDS</td></tr><tr><td>132</td><td>132</td><td>LASZLON</td></tr><tr><td>155</td><td>155</td><td>beata4</td></tr><tr><td>58</td><td>58</td><td>anita</td></tr><tr><td>20</td><td>20</td><td>gabriella10</td></tr><tr><td>151</td><td>151</td><td>klaudia2</td></tr><tr><td>198</td><td>198</td><td>rajmond4</td></tr><tr><td>158</td><td>158</td><td>beata4</td></tr><tr><td>40</td><td>40</td><td>janos3</td></tr><tr><td>83</td><td>83</td><td>eszter</td></tr><tr><td>145</td><td>145</td><td>BERNADETTO</td></tr><tr><td>115</td><td>115</td><td>andras21</td></tr><tr><td>64</td><td>64</td><td>akos</td></tr><tr><td>11</td><td>11</td><td>norbert4</td></tr><tr><td>112</td><td>112</td><td>sara</td></tr><tr><td>185</td><td>185</td><td>eva</td></tr><tr><td>70</td><td>70</td><td>andras2</td></tr><tr><td>4</td><td>4</td><td>istvan</td></tr><tr><td>121</td><td>121</td><td>ANDREAT</td></tr><tr><td>15</td><td>15</td><td>ROBERTI</td></tr><tr><td>22</td><td>22</td><td>bernadett1</td></tr><tr><td>7</td><td>7</td><td>ferenc1</td></tr><tr><td>4</td><td>4</td><td>ANIKOS</td></tr><tr><td>175</td><td>175</td><td>jozsef</td></tr><tr><td>126</td><td>126</td><td>miklos2</td></tr><tr><td>45</td><td>45</td><td>attila1</td></tr><tr><td>30</td><td>30</td><td>LASZLON</td></tr><tr><td>1</td><td>1</td><td>balint</td></tr><tr><td>198</td><td>198</td><td>sandor3</td></tr><tr><td>19</td><td>19</td><td>peter4</td></tr><tr><td>12</td><td>12</td><td>dora3</td></tr><tr><td>165</td><td>165</td><td>ROBERTI</td></tr><tr><td>172</td><td>172</td><td>andras41</td></tr><tr><td>176</td><td>176</td><td>MATYASS</td></tr><tr><td>41</td><td>41</td><td>szilvia1</td></tr><tr><td>145</td><td>145</td><td>tibor</td></tr><tr><td>149</td><td>149</td><td>peter2</td></tr><tr><td>183</td><td>183</td><td>brigitta3</td></tr><tr><td>61</td><td>61</td><td>sara</td></tr><tr><td>133</td><td>133</td><td>anett3</td></tr><tr><td>28</td><td>28</td><td>arpad2</td></tr><tr><td>3</td><td>3</td><td>VIKTORIAU</td></tr><tr><td>1</td><td>1</td><td>attila1</td></tr><tr><td>186</td><td>186</td><td>andras41</td></tr><tr><td>115</td><td>115</td><td>attila</td></tr><tr><td>143</td><td>143</td><td>bernadett1</td></tr><tr><td>140</td><td>140</td><td>sandor4</td></tr><tr><td>9</td><td>9</td><td>EVAV</td></tr><tr><td>26</td><td>26</td><td>aniko4</td></tr><tr><td>73</td><td>73</td><td>anett3</td></tr><tr><td>152</td><td>152</td><td>EVAV</td></tr><tr><td>198</td><td>198</td><td>krisztian4</td></tr><tr><td>110</td><td>110</td><td>AGNESK</td></tr><tr><td>55</td><td>55</td><td>SZABOLCSM</td></tr><tr><td>12</td><td>12</td><td>akos</td></tr><tr><td>51</td><td>51</td><td>adam1</td></tr><tr><td>122</td><td>122</td><td>tihamer</td></tr><tr><td>24</td><td>24</td><td>PETERB</td></tr><tr><td>154</td><td>154</td><td>ZOLTANP</td></tr><tr><td>93</td><td>93</td><td>gabor1</td></tr><tr><td>59</td><td>59</td><td>tibor2</td></tr><tr><td>172</td><td>172</td><td>eszter2</td></tr><tr><td>197</td><td>197</td><td>mark</td></tr><tr><td>18</td><td>18</td><td>andrea</td></tr><tr><td>90</td><td>90</td><td>brigitta</td></tr><tr><td>7</td><td>7</td><td>alexandra</td></tr><tr><td>177</td><td>177</td><td>zoltan4</td></tr><tr><td>150</td><td>150</td><td>janos3</td></tr><tr><td>134</td><td>134</td><td>nikolett3</td></tr><tr><td>74</td><td>74</td><td>BENCEB</td></tr><tr><td>104</td><td>104</td><td>agnes3</td></tr><tr><td>171</td><td>171</td><td>sandor3</td></tr><tr><td>7</td><td>7</td><td>aron2</td></tr><tr><td>185</td><td>185</td><td>robert2</td></tr><tr><td>195</td><td>195</td><td>IBOLYAA</td></tr><tr><td>29</td><td>29</td><td>BEATRIXK</td></tr><tr><td>58</td><td>58</td><td>ROBERTI</td></tr><tr><td>46</td><td>46</td><td>eszter2</td></tr><tr><td>182</td><td>182</td><td>peter4</td></tr><tr><td>89</td><td>89</td><td>tunde</td></tr><tr><td>161</td><td>161</td><td>MATYASS</td></tr><tr><td>59</td><td>59</td><td>szilvia1</td></tr><tr><td>117</td><td>117</td><td>kati</td></tr><tr><td>143</td><td>143</td><td>eszter</td></tr><tr><td>170</td><td>170</td><td>zoltan4</td></tr><tr><td>22</td><td>22</td><td>sebestyen</td></tr><tr><td>88</td><td>88</td><td>timea2</td></tr><tr><td>152</td><td>152</td><td>ROBERTI</td></tr><tr><td>18</td><td>18</td><td>katalin</td></tr><tr><td>144</td><td>144</td><td>VIKTORIAU</td></tr><tr><td>49</td><td>49</td><td>bernadett1</td></tr><tr><td>137</td><td>137</td><td>peter1</td></tr><tr><td>52</td><td>52</td><td>ZSUZSAV</td></tr><tr><td>150</td><td>150</td><td>valentin</td></tr><tr><td>189</td><td>189</td><td>RENATAK</td></tr><tr><td>162</td><td>162</td><td>adam4</td></tr><tr><td>22</td><td>22</td><td>zsuzsa3</td></tr><tr><td>43</td><td>43</td><td>szilvia1</td></tr><tr><td>58</td><td>58</td><td>SZABOLCSM</td></tr><tr><td>122</td><td>122</td><td>imre</td></tr><tr><td>124</td><td>124</td><td>bernadett1</td></tr><tr><td>178</td><td>178</td><td>norbert4</td></tr><tr><td>21</td><td>21</td><td>sara</td></tr><tr><td>91</td><td>91</td><td>GYORGYO</td></tr><tr><td>39</td><td>39</td><td>debora</td></tr><tr><td>121</td><td>121</td><td>dora3</td></tr><tr><td>198</td><td>198</td><td>ANIKOS</td></tr><tr><td>93</td><td>93</td><td>krisztina1</td></tr><tr><td>61</td><td>61</td><td>julianna4</td></tr><tr><td>134</td><td>134</td><td>attila1</td></tr><tr><td>9</td><td>9</td><td>bence</td></tr><tr><td>49</td><td>49</td><td>kati</td></tr><tr><td>143</td><td>143</td><td>peter4</td></tr><tr><td>123</td><td>123</td><td>lala</td></tr><tr><td>50</td><td>50</td><td>RENATAK</td></tr><tr><td>69</td><td>69</td><td>AGNESH</td></tr><tr><td>127</td><td>127</td><td>MATYASS</td></tr><tr><td>43</td><td>43</td><td>david</td></tr><tr><td>106</td><td>106</td><td>peter3</td></tr><tr><td>79</td><td>79</td><td>bernadett2</td></tr><tr><td>182</td><td>182</td><td>zoltan4</td></tr><tr><td>182</td><td>182</td><td>ATTILAO</td></tr><tr><td>55</td><td>55</td><td>andrea4</td></tr><tr><td>64</td><td>64</td><td>norbert2</td></tr><tr><td>66</td><td>66</td><td>MIHALYJ</td></tr><tr><td>29</td><td>29</td><td>ESZTERE</td></tr><tr><td>11</td><td>11</td><td>peter2</td></tr><tr><td>19</td><td>19</td><td>krisztian4</td></tr><tr><td>193</td><td>193</td><td>BELAF</td></tr><tr><td>59</td><td>59</td><td>balazs2</td></tr><tr><td>157</td><td>157</td><td>ARONK</td></tr><tr><td>94</td><td>94</td><td>bertalan</td></tr><tr><td>178</td><td>178</td><td>NANDORF</td></tr><tr><td>48</td><td>48</td><td>brigitta3</td></tr><tr><td>15</td><td>15</td><td>julianna4</td></tr><tr><td>122</td><td>122</td><td>ilona3</td></tr><tr><td>69</td><td>69</td><td>eszter2</td></tr><tr><td>117</td><td>117</td><td>katka</td></tr><tr><td>186</td><td>186</td><td>ARONK</td></tr><tr><td>168</td><td>168</td><td>aron2</td></tr><tr><td>107</td><td>107</td><td>emese</td></tr><tr><td>184</td><td>184</td><td>tibor</td></tr><tr><td>7</td><td>7</td><td>norbert5</td></tr><tr><td>89</td><td>89</td><td>roland1</td></tr><tr><td>141</td><td>141</td><td>denes</td></tr><tr><td>58</td><td>58</td><td>eva2</td></tr><tr><td>138</td><td>138</td><td>arpad2</td></tr><tr><td>5</td><td>5</td><td>balint1</td></tr><tr><td>52</td><td>52</td><td>julia4</td></tr><tr><td>140</td><td>140</td><td>JANOSG</td></tr><tr><td>9</td><td>9</td><td>gabor4</td></tr><tr><td>58</td><td>58</td><td>agnes</td></tr><tr><td>154</td><td>154</td><td>ferenc1</td></tr><tr><td>113</td><td>113</td><td>rajmond4</td></tr><tr><td>66</td><td>66</td><td>maria1</td></tr><tr><td>163</td><td>163</td><td>GYONGYIK</td></tr><tr><td>168</td><td>168</td><td>krisztina</td></tr><tr><td>170</td><td>170</td><td>MONIKAM</td></tr><tr><td>78</td><td>78</td><td>ARPADM</td></tr><tr><td>89</td><td>89</td><td>daniel1</td></tr><tr><td>43</td><td>43</td><td>attila1</td></tr><tr><td>106</td><td>106</td><td>ANIKOS</td></tr><tr><td>50</td><td>50</td><td>sandor3</td></tr><tr><td>88</td><td>88</td><td>peter4</td></tr><tr><td>1</td><td>1</td><td>ANNAMARIAR</td></tr><tr><td>27</td><td>27</td><td>valentin</td></tr><tr><td>174</td><td>174</td><td>SZABOLCSM</td></tr><tr><td>82</td><td>82</td><td>csongor3</td></tr><tr><td>176</td><td>176</td><td>daniel</td></tr><tr><td>80</td><td>80</td><td>BEATRIXK</td></tr><tr><td>137</td><td>137</td><td>tamara2</td></tr><tr><td>78</td><td>78</td><td>adam4</td></tr><tr><td>123</td><td>123</td><td>peter2</td></tr><tr><td>138</td><td>138</td><td>miklos2</td></tr><tr><td>164</td><td>164</td><td>rajmond4</td></tr><tr><td>58</td><td>58</td><td>norbert</td></tr><tr><td>127</td><td>127</td><td>andi</td></tr><tr><td>22</td><td>22</td><td>PETERB</td></tr><tr><td>59</td><td>59</td><td>vivien3</td></tr><tr><td>135</td><td>135</td><td>sara</td></tr><tr><td>128</td><td>128</td><td>tunde</td></tr><tr><td>46</td><td>46</td><td>gabor1</td></tr><tr><td>164</td><td>164</td><td>zoltan4</td></tr><tr><td>58</td><td>58</td><td>mark</td></tr><tr><td>138</td><td>138</td><td>roland</td></tr><tr><td>44</td><td>44</td><td>andrea3</td></tr><tr><td>111</td><td>111</td><td>david1</td></tr><tr><td>144</td><td>144</td><td>ANDRASE</td></tr><tr><td>109</td><td>109</td><td>andras41</td></tr><tr><td>90</td><td>90</td><td>akos</td></tr><tr><td>88</td><td>88</td><td>ZSUZSAV</td></tr><tr><td>132</td><td>132</td><td>istvan</td></tr><tr><td>191</td><td>191</td><td>aladar</td></tr><tr><td>45</td><td>45</td><td>dani</td></tr><tr><td>197</td><td>197</td><td>dora3</td></tr><tr><td>94</td><td>94</td><td>fruzsina4</td></tr><tr><td>133</td><td>133</td><td>krisztina</td></tr><tr><td>58</td><td>58</td><td>jozsef2</td></tr><tr><td>182</td><td>182</td><td>andras41</td></tr><tr><td>42</td><td>42</td><td>daniel1</td></tr><tr><td>155</td><td>155</td><td>andras21</td></tr><tr><td>2</td><td>2</td><td>sara</td></tr><tr><td>94</td><td>94</td><td>RENATAK</td></tr><tr><td>143</td><td>143</td><td>emese</td></tr><tr><td>196</td><td>196</td><td>JANOSP</td></tr><tr><td>100</td><td>100</td><td>balint</td></tr><tr><td>17</td><td>17</td><td>peter4</td></tr><tr><td>182</td><td>182</td><td>andras4</td></tr><tr><td>72</td><td>72</td><td>JANOSP</td></tr><tr><td>10</td><td>10</td><td>ANDRASN</td></tr><tr><td>85</td><td>85</td><td>laszlo2</td></tr><tr><td>33</td><td>33</td><td>jozsef2</td></tr><tr><td>58</td><td>58</td><td>bertalan</td></tr><tr><td>191</td><td>191</td><td>julianna4</td></tr><tr><td>68</td><td>68</td><td>timea2</td></tr><tr><td>70</td><td>70</td><td>katalin4</td></tr><tr><td>182</td><td>182</td><td>BENCEB</td></tr><tr><td>55</td><td>55</td><td>zsuzsa</td></tr><tr><td>54</td><td>54</td><td>andras3</td></tr><tr><td>171</td><td>171</td><td>LASZLON</td></tr><tr><td>124</td><td>124</td><td>ANDRASE</td></tr><tr><td>73</td><td>73</td><td>sandor4</td></tr><tr><td>101</td><td>101</td><td>alexandra</td></tr><tr><td>70</td><td>70</td><td>norbert4</td></tr><tr><td>1</td><td>1</td><td>valentin</td></tr><tr><td>37</td><td>37</td><td>GYONGYIK</td></tr><tr><td>172</td><td>172</td><td>eszter2</td></tr><tr><td>122</td><td>122</td><td>BELAF</td></tr><tr><td>145</td><td>145</td><td>TAMASF</td></tr><tr><td>120</td><td>120</td><td>sandor4</td></tr><tr><td>196</td><td>196</td><td>katalin4</td></tr><tr><td>82</td><td>82</td><td>balint2</td></tr><tr><td>170</td><td>170</td><td>ARPADH</td></tr><tr><td>102</td><td>102</td><td>szabolcs</td></tr><tr><td>33</td><td>33</td><td>MIKLOSB</td></tr><tr><td>79</td><td>79</td><td>eszter2</td></tr><tr><td>181</td><td>181</td><td>balazs3</td></tr><tr><td>13</td><td>13</td><td>adam4</td></tr><tr><td>57</td><td>57</td><td>jozsef</td></tr><tr><td>87</td><td>87</td><td>eva2</td></tr><tr><td>173</td><td>173</td><td>BELAF</td></tr><tr><td>38</td><td>38</td><td>sara</td></tr><tr><td>115</td><td>115</td><td>ZOLTANP</td></tr><tr><td>111</td><td>111</td><td>ARONK</td></tr><tr><td>107</td><td>107</td><td>emese</td></tr><tr><td>93</td><td>93</td><td>nikoletta4</td></tr><tr><td>169</td><td>169</td><td>matyas2</td></tr><tr><td>140</td><td>140</td><td>TAMASF</td></tr><tr><td>138</td><td>138</td><td>krisztian4</td></tr><tr><td>88</td><td>88</td><td>BEATRIXK</td></tr><tr><td>129</td><td>129</td><td>katalin</td></tr><tr><td>140</td><td>140</td><td>ARPADM</td></tr><tr><td>25</td><td>25</td><td>timea2</td></tr><tr><td>133</td><td>133</td><td>tunde</td></tr><tr><td>126</td><td>126</td><td>akos</td></tr><tr><td>70</td><td>70</td><td>norbert</td></tr><tr><td>81</td><td>81</td><td>fruzsina4</td></tr><tr><td>80</td><td>80</td><td>bernadett2</td></tr><tr><td>94</td><td>94</td><td>bence</td></tr><tr><td>142</td><td>142</td><td>pal</td></tr><tr><td>138</td><td>138</td><td>BEATRIXK</td></tr><tr><td>140</td><td>140</td><td>AGNESK</td></tr><tr><td>106</td><td>106</td><td>katalin</td></tr><tr><td>121</td><td>121</td><td>brigitta</td></tr><tr><td>118</td><td>118</td><td>robert2</td></tr><tr><td>165</td><td>165</td><td>vivien3</td></tr><tr><td>84</td><td>84</td><td>balint1</td></tr><tr><td>27</td><td>27</td><td>ARPADH</td></tr><tr><td>96</td><td>96</td><td>JANOSP</td></tr><tr><td>83</td><td>83</td><td>JUDITH</td></tr><tr><td>39</td><td>39</td><td>MATYASS</td></tr><tr><td>33</td><td>33</td><td>BEATRIXS</td></tr><tr><td>67</td><td>67</td><td>balu</td></tr><tr><td>176</td><td>176</td><td>attila</td></tr><tr><td>84</td><td>84</td><td>roland1</td></tr><tr><td>122</td><td>122</td><td>eszter</td></tr><tr><td>55</td><td>55</td><td>vivien3</td></tr><tr><td>197</td><td>197</td><td>arpad2</td></tr><tr><td>26</td><td>26</td><td>katalin</td></tr><tr><td>57</td><td>57</td><td>tihamer</td></tr><tr><td>188</td><td>188</td><td>sara</td></tr><tr><td>93</td><td>93</td><td>szilvia1</td></tr><tr><td>108</td><td>108</td><td>KRISZTIANM</td></tr><tr><td>121</td><td>121</td><td>ilona3</td></tr><tr><td>143</td><td>143</td><td>lajos</td></tr><tr><td>97</td><td>97</td><td>daniel</td></tr><tr><td>72</td><td>72</td><td>peter3</td></tr><tr><td>91</td><td>91</td><td>ZOLTANP</td></tr><tr><td>103</td><td>103</td><td>timea</td></tr><tr><td>89</td><td>89</td><td>balazs1</td></tr><tr><td>162</td><td>162</td><td>bence</td></tr><tr><td>141</td><td>141</td><td>szilvia1</td></tr><tr><td>98</td><td>98</td><td>JANOSG</td></tr><tr><td>124</td><td>124</td><td>zoltan4</td></tr><tr><td>187</td><td>187</td><td>balint1</td></tr><tr><td>90</td><td>90</td><td>henrik3</td></tr><tr><td>82</td><td>82</td><td>akos</td></tr><tr><td>175</td><td>175</td><td>david1</td></tr><tr><td>99</td><td>99</td><td>attila4</td></tr><tr><td>133</td><td>133</td><td>zoltan4</td></tr><tr><td>182</td><td>182</td><td>balazs1</td></tr><tr><td>35</td><td>35</td><td>BERNADETTO</td></tr><tr><td>75</td><td>75</td><td>ARONK</td></tr><tr><td>119</td><td>119</td><td>istvan</td></tr><tr><td>167</td><td>167</td><td>katka</td></tr><tr><td>24</td><td>24</td><td>tunde</td></tr><tr><td>38</td><td>38</td><td>balint1</td></tr><tr><td>97</td><td>97</td><td>AGNESH</td></tr><tr><td>15</td><td>15</td><td>roland1</td></tr><tr><td>124</td><td>124</td><td>daniel1</td></tr><tr><td>198</td><td>198</td><td>ARPADM</td></tr><tr><td>172</td><td>172</td><td>eszter4</td></tr><tr><td>182</td><td>182</td><td>krisztian4</td></tr><tr><td>9</td><td>9</td><td>eva2</td></tr><tr><td>110</td><td>110</td><td>SZABOLCSM</td></tr><tr><td>44</td><td>44</td><td>lala</td></tr><tr><td>62</td><td>62</td><td>JOZSEFG</td></tr><tr><td>169</td><td>169</td><td>andras4</td></tr><tr><td>126</td><td>126</td><td>zsuzsanna</td></tr><tr><td>173</td><td>173</td><td>MATYASS</td></tr><tr><td>12</td><td>12</td><td>daniel</td></tr><tr><td>52</td><td>52</td><td>JANOSG</td></tr><tr><td>150</td><td>150</td><td>ANNAMARIAR</td></tr><tr><td>139</td><td>139</td><td>roza2</td></tr><tr><td>3</td><td>3</td><td>peter3</td></tr><tr><td>39</td><td>39</td><td>adam4</td></tr><tr><td>35</td><td>35</td><td>alexandra</td></tr><tr><td>183</td><td>183</td><td>andi</td></tr><tr><td>96</td><td>96</td><td>eva</td></tr><tr><td>77</td><td>77</td><td>kata</td></tr><tr><td>122</td><td>122</td><td>edit</td></tr><tr><td>185</td><td>185</td><td>AGNESH</td></tr><tr><td>15</td><td>15</td><td>SZILARDS</td></tr><tr><td>81</td><td>81</td><td>KRISZTIANM</td></tr><tr><td>42</td><td>42</td><td>zsuzsanna</td></tr><tr><td>129</td><td>129</td><td>krisztian4</td></tr><tr><td>64</td><td>64</td><td>MATEK</td></tr><tr><td>79</td><td>79</td><td>ZOLTANT</td></tr><tr><td>143</td><td>143</td><td>roland1</td></tr><tr><td>189</td><td>189</td><td>lala</td></tr><tr><td>139</td><td>139</td><td>MONIKAM</td></tr><tr><td>58</td><td>58</td><td>dani</td></tr><tr><td>107</td><td>107</td><td>IBOLYAA</td></tr><tr><td>86</td><td>86</td><td>aron2</td></tr><tr><td>39</td><td>39</td><td>david</td></tr><tr><td>116</td><td>116</td><td>katalin4</td></tr><tr><td>87</td><td>87</td><td>veronika4</td></tr><tr><td>70</td><td>70</td><td>alexandra</td></tr><tr><td>75</td><td>75</td><td>katka</td></tr><tr><td>28</td><td>28</td><td>balazs3</td></tr><tr><td>153</td><td>153</td><td>krisztina1</td></tr><tr><td>77</td><td>77</td><td>JOZSEFG</td></tr><tr><td>156</td><td>156</td><td>MARKH</td></tr><tr><td>185</td><td>185</td><td>GYONGYIK</td></tr><tr><td>81</td><td>81</td><td>andrea4</td></tr><tr><td>64</td><td>64</td><td>sandor4</td></tr><tr><td>57</td><td>57</td><td>dani</td></tr><tr><td>186</td><td>186</td><td>fruzsina4</td></tr><tr><td>117</td><td>117</td><td>attila1</td></tr><tr><td>13</td><td>13</td><td>brigitta</td></tr><tr><td>153</td><td>153</td><td>debora</td></tr><tr><td>145</td><td>145</td><td>RENATAK</td></tr><tr><td>118</td><td>118</td><td>bernadett2</td></tr><tr><td>195</td><td>195</td><td>katalin4</td></tr><tr><td>131</td><td>131</td><td>KRISZTINAG</td></tr><tr><td>130</td><td>130</td><td>eszter4</td></tr><tr><td>27</td><td>27</td><td>henrik3</td></tr><tr><td>51</td><td>51</td><td>BERNADETTO</td></tr><tr><td>38</td><td>38</td><td>andras21</td></tr><tr><td>146</td><td>146</td><td>szilvia1</td></tr><tr><td>35</td><td>35</td><td>eszter2</td></tr><tr><td>118</td><td>118</td><td>polla</td></tr><tr><td>100</td><td>100</td><td>norbert2</td></tr><tr><td>120</td><td>120</td><td>annamaria1</td></tr><tr><td>195</td><td>195</td><td>emese</td></tr><tr><td>103</td><td>103</td><td>ARONK</td></tr><tr><td>99</td><td>99</td><td>JANOSG</td></tr><tr><td>163</td><td>163</td><td>imre1</td></tr><tr><td>119</td><td>119</td><td>nikoletta4</td></tr><tr><td>110</td><td>110</td><td>andras3</td></tr><tr><td>156</td><td>156</td><td>BEATRIXS</td></tr><tr><td>172</td><td>172</td><td>veronika4</td></tr><tr><td>4</td><td>4</td><td>gusztav</td></tr><tr><td>120</td><td>120</td><td>julia4</td></tr><tr><td>107</td><td>107</td><td>debora</td></tr><tr><td>113</td><td>113</td><td>EVAV</td></tr><tr><td>61</td><td>61</td><td>gabriella1</td></tr><tr><td>179</td><td>179</td><td>SZABOLCSM</td></tr><tr><td>16</td><td>16</td><td>kriszti</td></tr><tr><td>113</td><td>113</td><td>imre1</td></tr><tr><td>126</td><td>126</td><td>peter4</td></tr><tr><td>116</td><td>116</td><td>bence</td></tr><tr><td>191</td><td>191</td><td>krisztina</td></tr><tr><td>177</td><td>177</td><td>NANDORF</td></tr><tr><td>57</td><td>57</td><td>adam3</td></tr><tr><td>18</td><td>18</td><td>MIHALYJ</td></tr><tr><td>81</td><td>81</td><td>MONIKAM</td></tr><tr><td>153</td><td>153</td><td>istvan1</td></tr><tr><td>191</td><td>191</td><td>SZILARDS</td></tr><tr><td>129</td><td>129</td><td>edit</td></tr><tr><td>106</td><td>106</td><td>LASZLOA</td></tr><tr><td>176</td><td>176</td><td>andras2</td></tr><tr><td>55</td><td>55</td><td>BEATRIXK</td></tr><tr><td>85</td><td>85</td><td>brigitta3</td></tr><tr><td>149</td><td>149</td><td>andrea</td></tr><tr><td>46</td><td>46</td><td>balazs1</td></tr><tr><td>101</td><td>101</td><td>ESZTERE</td></tr><tr><td>190</td><td>190</td><td>polla</td></tr><tr><td>94</td><td>94</td><td>balazs1</td></tr><tr><td>132</td><td>132</td><td>aniko</td></tr><tr><td>55</td><td>55</td><td>daniel</td></tr><tr><td>89</td><td>89</td><td>BENCEB</td></tr><tr><td>104</td><td>104</td><td>ARPADM</td></tr><tr><td>11</td><td>11</td><td>lajos</td></tr><tr><td>43</td><td>43</td><td>gabriella1</td></tr><tr><td>105</td><td>105</td><td>TAMASF</td></tr><tr><td>166</td><td>166</td><td>janos3</td></tr><tr><td>92</td><td>92</td><td>GYORGYO</td></tr><tr><td>97</td><td>97</td><td>norbert</td></tr><tr><td>35</td><td>35</td><td>RENATAS</td></tr><tr><td>112</td><td>112</td><td>pal</td></tr><tr><td>124</td><td>124</td><td>csongor3</td></tr><tr><td>104</td><td>104</td><td>RENATAS</td></tr><tr><td>19</td><td>19</td><td>bernadett1</td></tr><tr><td>52</td><td>52</td><td>tamas</td></tr><tr><td>134</td><td>134</td><td>attila4</td></tr><tr><td>49</td><td>49</td><td>bertalan</td></tr><tr><td>9</td><td>9</td><td>TAMASF</td></tr><tr><td>39</td><td>39</td><td>ARPADH</td></tr><tr><td>154</td><td>154</td><td>ANNAMARIAR</td></tr><tr><td>114</td><td>114</td><td>david4</td></tr><tr><td>155</td><td>155</td><td>norbert4</td></tr><tr><td>14</td><td>14</td><td>krisztina</td></tr><tr><td>95</td><td>95</td><td>RENATAK</td></tr><tr><td>3</td><td>3</td><td>agnes3</td></tr><tr><td>142</td><td>142</td><td>ROBERTI</td></tr><tr><td>48</td><td>48</td><td>david1</td></tr><tr><td>48</td><td>48</td><td>zsofi1</td></tr><tr><td>88</td><td>88</td><td>LASZLON</td></tr><tr><td>17</td><td>17</td><td>roza2</td></tr><tr><td>51</td><td>51</td><td>arpad2</td></tr><tr><td>157</td><td>157</td><td>anita</td></tr><tr><td>44</td><td>44</td><td>pal</td></tr><tr><td>43</td><td>43</td><td>anita</td></tr><tr><td>115</td><td>115</td><td>daniel</td></tr><tr><td>92</td><td>92</td><td>bertalan</td></tr><tr><td>38</td><td>38</td><td>gabriella1</td></tr><tr><td>76</td><td>76</td><td>peter3</td></tr><tr><td>152</td><td>152</td><td>ARONK</td></tr><tr><td>180</td><td>180</td><td>ATTILAO</td></tr><tr><td>109</td><td>109</td><td>aniko</td></tr><tr><td>156</td><td>156</td><td>adam4</td></tr><tr><td>81</td><td>81</td><td>MONIKAM</td></tr><tr><td>180</td><td>180</td><td>gusztav</td></tr><tr><td>94</td><td>94</td><td>krisztian4</td></tr><tr><td>160</td><td>160</td><td>peter1</td></tr><tr><td>115</td><td>115</td><td>GYORGYO</td></tr><tr><td>171</td><td>171</td><td>maria1</td></tr><tr><td>29</td><td>29</td><td>bernadett1</td></tr><tr><td>96</td><td>96</td><td>JOZSEFG</td></tr><tr><td>176</td><td>176</td><td>katalin</td></tr><tr><td>161</td><td>161</td><td>dani</td></tr><tr><td>144</td><td>144</td><td>david1</td></tr><tr><td>59</td><td>59</td><td>aron2</td></tr><tr><td>128</td><td>128</td><td>eszter4</td></tr><tr><td>88</td><td>88</td><td>reka4</td></tr><tr><td>189</td><td>189</td><td>norbert</td></tr><tr><td>78</td><td>78</td><td>julia</td></tr><tr><td>148</td><td>148</td><td>balazs2</td></tr><tr><td>127</td><td>127</td><td>peter1</td></tr><tr><td>67</td><td>67</td><td>daniel1</td></tr><tr><td>48</td><td>48</td><td>RENATAK</td></tr><tr><td>64</td><td>64</td><td>marton</td></tr><tr><td>128</td><td>128</td><td>norbert4</td></tr><tr><td>67</td><td>67</td><td>kriszti</td></tr></table>"
                    },
                    "metadata": {}
                }
            ],
            "execution_count": 46
        },
        {
            "cell_type": "markdown",
            "source": [
                "10. <span style=\"background-color: rgb(255, 255, 255); color: rgb(36, 41, 47); font-family: -apple-system, BlinkMacSystemFont, &quot;Segoe UI&quot;, Helvetica, Arial, sans-serif, &quot;Apple Color Emoji&quot;, &quot;Segoe UI Emoji&quot;; font-size: 16px; font-weight: 600;\">Melyik napokon nincs órája Pelikán Józsefnek?</span>"
            ],
            "metadata": {
                "azdata_cell_guid": "217c5772-afe2-4a7c-b913-e3a3e09d6411"
            },
            "attachments": {}
        },
        {
            "cell_type": "code",
            "source": [
                "--A : összes nap\r\n",
                "--B :napok amikor van órája\r\n",
                "--A - B -->nincs órája\r\n",
                "SELECT nap \r\n",
                "FROM Napok\r\n",
                "\r\n",
                "EXCEPT\r\n",
                "\r\n",
                "SELECT n.nap\r\n",
                "FROM Orak o JOIN Oktatok okt ON o.tanar = okt.oktato_id\r\n",
                "        JOIN Napok n ON n.nap_id = o.nap\r\n",
                "WHERE okt.nev = 'Pelikán József'"
            ],
            "metadata": {
                "azdata_cell_guid": "a9cc0926-3dbd-4ed8-8179-1c39d64a0762",
                "language": "sql"
            },
            "outputs": [
                {
                    "output_type": "display_data",
                    "data": {
                        "text/html": "(3 rows affected)"
                    },
                    "metadata": {}
                },
                {
                    "output_type": "display_data",
                    "data": {
                        "text/html": "Total execution time: 00:00:00.024"
                    },
                    "metadata": {}
                },
                {
                    "output_type": "execute_result",
                    "execution_count": 32,
                    "data": {
                        "application/vnd.dataresource+json": {
                            "schema": {
                                "fields": [
                                    {
                                        "name": "nap"
                                    }
                                ]
                            },
                            "data": [
                                {
                                    "nap": "Csütörtök"
                                },
                                {
                                    "nap": "Péntek"
                                },
                                {
                                    "nap": "Szerda"
                                }
                            ]
                        },
                        "text/html": "<table><tr><th>nap</th></tr><tr><td>Csütörtök</td></tr><tr><td>Péntek</td></tr><tr><td>Szerda</td></tr></table>"
                    },
                    "metadata": {}
                }
            ],
            "execution_count": 32
        },
        {
            "cell_type": "markdown",
            "source": [
                "**A 11-15 feladatok gyakorlásra szolgálnak a közelgő zh-ra :-)**\n",
                "\n",
                "11. _Készítsünk listát az oktatók adatairól!_\n",
                "\n",
                "1. Az oktatók titulusa és neve összefűzve jelenjen meg, közöttük szóközzel!\n",
                "2. Ha valakinek nincs titulusa, akkor csak a neve jelenjen meg, szóköz nélkül!\n",
                "3. A listát rendezzük a beosztás kódja, azon belül a státusz kódja szerint növekvő sorrendbe!\n",
                "4. Az oszlopokat nevezzük el értelemszerűen!"
            ],
            "metadata": {
                "azdata_cell_guid": "d2340f5f-1614-473c-b937-85740d67f7c1"
            },
            "attachments": {}
        },
        {
            "cell_type": "code",
            "source": [
                ""
            ],
            "metadata": {
                "azdata_cell_guid": "e99c2c53-898f-4787-b0e6-182d106dc16f",
                "language": "sql"
            },
            "outputs": [],
            "execution_count": null
        },
        {
            "cell_type": "markdown",
            "source": [
                "<span style=\"color: #09885a;\">12</span>. Készítsünk listát, amely megmutatja, hogy összesen hány tantárgy van kreditenkénti csoportosításban!\n",
                "\n",
                "  \n",
                "\n",
                "A listából hagyjuk ki azokat a tételeket, ahol ez a darabszám <span style=\"color: #09885a;\">1</span>!\n",
                "\n",
                "A Folyami gáttan tantárgyat ne vegyük figyelembe!\n",
                "\n",
                "A listát rendezzük darabszám szerint csökkenő sorrendbe!\n",
                "\n",
                "Az oszlopokat nevezzük el értelemszerűen!"
            ],
            "metadata": {
                "azdata_cell_guid": "a765e9d6-58b3-4171-872a-78f3118fd6e3"
            },
            "attachments": {}
        },
        {
            "cell_type": "code",
            "source": [
                ""
            ],
            "metadata": {
                "azdata_cell_guid": "422e8127-b652-4d3a-bfd7-9b1637b5781e",
                "language": "sql"
            },
            "outputs": [],
            "execution_count": null
        },
        {
            "cell_type": "markdown",
            "source": [
                "13. _Készítsünk listát az oktatók nevéről, a beosztásuk alapján elvárt és a tényleges óraszámukról!_\n",
                "\n",
                "1. Az oszlopok neve legyen 'Oktató neve', 'Elvárt óraszám' és 'Tényleges óraszám'\n",
                "2. Szűrjük a listát azokra az oktatókra, ahol az elvárt és a tényleges óraszám azonos"
            ],
            "metadata": {
                "azdata_cell_guid": "3f9237ae-f109-401c-acb9-31d75e73331b"
            },
            "attachments": {}
        },
        {
            "cell_type": "code",
            "source": [
                ""
            ],
            "metadata": {
                "azdata_cell_guid": "4b31bb89-cfbc-46b1-8639-85c462877786",
                "language": "sql"
            },
            "outputs": [],
            "execution_count": null
        },
        {
            "cell_type": "markdown",
            "source": [
                "14. _Készítsünk listát, amely megmutatja, hogy mely tantárgyból nincs óra egyáltalán!_\n",
                "\n",
                "1. Csak a tantárgy neve jelenjen meg!"
            ],
            "metadata": {
                "azdata_cell_guid": "f634e09a-85ef-4e70-8ec6-ef355dfddaa7"
            },
            "attachments": {}
        },
        {
            "cell_type": "code",
            "source": [
                ""
            ],
            "metadata": {
                "azdata_cell_guid": "88abc55b-2c78-495b-a72f-3f8f4eb5fe70",
                "language": "sql"
            },
            "outputs": [],
            "execution_count": null
        },
        {
            "cell_type": "markdown",
            "source": [
                "15. _Hány órájuk van az óraadóknak napi bontásban?_\n",
                "\n",
                "1. Csak a napok nevét és az óraszámot jelenítsük meg!\n",
                "2. Rendezzük a listát óraszám szerint növekvő sorrendbe!"
            ],
            "metadata": {
                "azdata_cell_guid": "4cbf2f0d-a65d-480a-8186-ccdb24498443"
            },
            "attachments": {}
        },
        {
            "cell_type": "code",
            "source": [
                ""
            ],
            "metadata": {
                "azdata_cell_guid": "c148aee8-bc85-40bf-b80a-a4898a6c05cb",
                "language": "sql"
            },
            "outputs": [],
            "execution_count": null
        }
    ]
}