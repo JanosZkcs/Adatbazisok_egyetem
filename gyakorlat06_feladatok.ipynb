{
    "metadata": {
        "kernelspec": {
            "name": "SQL",
            "display_name": "SQL",
            "language": "sql"
        },
        "language_info": {
            "name": "sql",
            "version": ""
        }
    },
    "nbformat_minor": 2,
    "nbformat": 4,
    "cells": [
        {
            "cell_type": "markdown",
            "source": [
                "1. <span style=\"background-color: rgb(255, 255, 255); color: rgb(0, 0, 0); font-family: &quot;Open Sans&quot;, sans-serif; font-size: 14.44px;\">Készítsünk sorszámozott listát a szálláshelyek adatairól!&nbsp;</span> \n",
                "\n",
                "a. A lista legyen a szálláshely típusa szerint, azon belül hely szerint, majd a neve szerint növekvően rendezve! \n",
                "\n",
                "b. A számozás típusonként kezdődjön újra!"
            ],
            "metadata": {
                "azdata_cell_guid": "363cd270-6577-449b-9c89-d4b7c7972d52"
            },
            "attachments": {}
        },
        {
            "cell_type": "code",
            "source": [
                "SELECT  ROW_NUMBER() OVER(PARTITION BY TIPUS ORDER BY TIPUS,HELY,SZALLAS_NEV) AS 'Sorszámozott lista',\r\n",
                "        *\r\n",
                "FROM SZALLASHELY"
            ],
            "metadata": {
                "azdata_cell_guid": "6ab9f633-a3b5-48c9-a1dc-4fb8235ae85b",
                "language": "sql"
            },
            "outputs": [
                {
                    "output_type": "display_data",
                    "data": {
                        "text/html": "(21 rows affected)"
                    },
                    "metadata": {}
                },
                {
                    "output_type": "display_data",
                    "data": {
                        "text/html": "Total execution time: 00:00:00.043"
                    },
                    "metadata": {}
                },
                {
                    "output_type": "execute_result",
                    "execution_count": 5,
                    "data": {
                        "application/vnd.dataresource+json": {
                            "schema": {
                                "fields": [
                                    {
                                        "name": "Sorszámozott lista"
                                    },
                                    {
                                        "name": "SZALLAS_ID"
                                    },
                                    {
                                        "name": "SZALLAS_NEV"
                                    },
                                    {
                                        "name": "HELY"
                                    },
                                    {
                                        "name": "CSILLAGOK_SZAMA"
                                    },
                                    {
                                        "name": "TIPUS"
                                    },
                                    {
                                        "name": "ROGZITETTE"
                                    },
                                    {
                                        "name": "ROGZ_IDO"
                                    },
                                    {
                                        "name": "CIM"
                                    }
                                ]
                            },
                            "data": [
                                {
                                    "Sorszámozott lista": "1",
                                    "SZALLAS_ID": "7",
                                    "SZALLAS_NEV": "Szieszta Apartmanház",
                                    "HELY": "Balaton-dél",
                                    "CSILLAGOK_SZAMA": "0",
                                    "TIPUS": "Apartman",
                                    "ROGZITETTE": "Mari",
                                    "ROGZ_IDO": "2016-03-11",
                                    "CIM": "8630 Balatonboglár, Dózsa György utca 108"
                                },
                                {
                                    "Sorszámozott lista": "2",
                                    "SZALLAS_ID": "18",
                                    "SZALLAS_NEV": "Fortuna Apartman",
                                    "HELY": "Dél-Somogy",
                                    "CSILLAGOK_SZAMA": "0",
                                    "TIPUS": "Apartman",
                                    "ROGZITETTE": "Béla",
                                    "ROGZ_IDO": "2016-04-07",
                                    "CIM": "7570 Barcs, Kossuth u. 13."
                                },
                                {
                                    "Sorszámozott lista": "3",
                                    "SZALLAS_ID": "3",
                                    "SZALLAS_NEV": "Fortuna Apartman",
                                    "HELY": "Hajdúbihar megye",
                                    "CSILLAGOK_SZAMA": "0",
                                    "TIPUS": "Apartman",
                                    "ROGZITETTE": "Sára",
                                    "ROGZ_IDO": "2016-03-06",
                                    "CIM": "4200 Hajdúszoboszló, Wesselényi utca 56."
                                },
                                {
                                    "Sorszámozott lista": "1",
                                    "SZALLAS_ID": "20",
                                    "SZALLAS_NEV": "Kollégium",
                                    "HELY": "Budapest",
                                    "CSILLAGOK_SZAMA": "0",
                                    "TIPUS": "Diákszálló",
                                    "ROGZITETTE": "Sára",
                                    "ROGZ_IDO": "2016-04-07",
                                    "CIM": "1146 Budapest, Ajtósi Dürer sor 23."
                                },
                                {
                                    "Sorszámozott lista": "1",
                                    "SZALLAS_ID": "8",
                                    "SZALLAS_NEV": "Hotel Három Hattyú",
                                    "HELY": "Balaton-dél",
                                    "CSILLAGOK_SZAMA": "4",
                                    "TIPUS": "Hotel",
                                    "ROGZITETTE": "Béla",
                                    "ROGZ_IDO": "2016-03-13",
                                    "CIM": "8623 Balatonföldvár, Rákóczi Ferenc út 45."
                                },
                                {
                                    "Sorszámozott lista": "2",
                                    "SZALLAS_ID": "6",
                                    "SZALLAS_NEV": "Kentaur Hotel",
                                    "HELY": "Balaton-dél",
                                    "CSILLAGOK_SZAMA": "3",
                                    "TIPUS": "Hotel",
                                    "ROGZITETTE": "Béla",
                                    "ROGZ_IDO": "2016-03-08",
                                    "CIM": "8600 Siófok (Széplak), Akácfa utca 1"
                                },
                                {
                                    "Sorszámozott lista": "3",
                                    "SZALLAS_ID": "12",
                                    "SZALLAS_NEV": "Gold Hotel",
                                    "HELY": "Budapest",
                                    "CSILLAGOK_SZAMA": "3",
                                    "TIPUS": "Hotel",
                                    "ROGZITETTE": "Béla",
                                    "ROGZ_IDO": "2016-03-24",
                                    "CIM": "1016 Budapest, Hegyalja út 12"
                                },
                                {
                                    "Sorszámozott lista": "4",
                                    "SZALLAS_ID": "10",
                                    "SZALLAS_NEV": "Lagúna Hotel",
                                    "HELY": "Budapest",
                                    "CSILLAGOK_SZAMA": "4",
                                    "TIPUS": "Hotel",
                                    "ROGZITETTE": "Sára",
                                    "ROGZ_IDO": "2016-03-20",
                                    "CIM": "1097 Budapest, Albert Flórián út 3"
                                },
                                {
                                    "Sorszámozott lista": "5",
                                    "SZALLAS_ID": "16",
                                    "SZALLAS_NEV": "Bagoly Hotel",
                                    "HELY": "Pest megye",
                                    "CSILLAGOK_SZAMA": "3",
                                    "TIPUS": "Hotel",
                                    "ROGZITETTE": "Mari",
                                    "ROGZ_IDO": "2016-04-01",
                                    "CIM": "2230 Gyömrő, Bergszász u. 5."
                                },
                                {
                                    "Sorszámozott lista": "6",
                                    "SZALLAS_ID": "17",
                                    "SZALLAS_NEV": "Szarvas Hotel",
                                    "HELY": "Tolna megye",
                                    "CSILLAGOK_SZAMA": "4",
                                    "TIPUS": "Hotel",
                                    "ROGZITETTE": "Béla",
                                    "ROGZ_IDO": "2016-04-04",
                                    "CIM": "7121 Szálka, Petőfi Sándor u."
                                },
                                {
                                    "Sorszámozott lista": "1",
                                    "SZALLAS_ID": "9",
                                    "SZALLAS_NEV": "Jáde panzió",
                                    "HELY": "Balaton-dél",
                                    "CSILLAGOK_SZAMA": "3",
                                    "TIPUS": "panzió",
                                    "ROGZITETTE": "Mari",
                                    "ROGZ_IDO": "2016-03-16",
                                    "CIM": "8624 Balatonföldvár, Kiss u.2."
                                },
                                {
                                    "Sorszámozott lista": "2",
                                    "SZALLAS_ID": "15",
                                    "SZALLAS_NEV": "Tímárház Panzió",
                                    "HELY": "Balaton-dél",
                                    "CSILLAGOK_SZAMA": "3",
                                    "TIPUS": "panzió",
                                    "ROGZITETTE": "Béla",
                                    "ROGZ_IDO": "2016-03-29",
                                    "CIM": "8600 Siófok, Virág utca 1"
                                },
                                {
                                    "Sorszámozott lista": "3",
                                    "SZALLAS_ID": "5",
                                    "SZALLAS_NEV": "Fortuna Panzió",
                                    "HELY": "Békés megye",
                                    "CSILLAGOK_SZAMA": "3",
                                    "TIPUS": "panzió",
                                    "ROGZITETTE": "Sára",
                                    "ROGZ_IDO": "2016-03-08",
                                    "CIM": "5900 Orosháza, Gyopárosfürdő Tópart utca 3."
                                },
                                {
                                    "Sorszámozott lista": "4",
                                    "SZALLAS_ID": "4",
                                    "SZALLAS_NEV": "Fortuna panzió",
                                    "HELY": "Budapest",
                                    "CSILLAGOK_SZAMA": "3",
                                    "TIPUS": "panzió",
                                    "ROGZITETTE": "Béla",
                                    "ROGZ_IDO": "2016-03-07",
                                    "CIM": "1019 Budapest XIV. Cinkotai út 86."
                                },
                                {
                                    "Sorszámozott lista": "5",
                                    "SZALLAS_ID": "13",
                                    "SZALLAS_NEV": "Riviéra Panzió",
                                    "HELY": "Csongrád megye",
                                    "CSILLAGOK_SZAMA": "3",
                                    "TIPUS": "panzió",
                                    "ROGZITETTE": "Sára",
                                    "ROGZ_IDO": "2016-03-27",
                                    "CIM": "6722 Szeged, Petőfi Sándor út 3."
                                },
                                {
                                    "Sorszámozott lista": "1",
                                    "SZALLAS_ID": "2",
                                    "SZALLAS_NEV": "Családi Ház",
                                    "HELY": "Balaton-dél",
                                    "CSILLAGOK_SZAMA": "0",
                                    "TIPUS": "vendégház",
                                    "ROGZITETTE": "Béla",
                                    "ROGZ_IDO": "2016-03-02",
                                    "CIM": "8630 Balatonboglár, József Attila utca 25"
                                },
                                {
                                    "Sorszámozott lista": "2",
                                    "SZALLAS_ID": "1",
                                    "SZALLAS_NEV": "Sába-Ház",
                                    "HELY": "Balaton-dél",
                                    "CSILLAGOK_SZAMA": "0",
                                    "TIPUS": "vendégház",
                                    "ROGZITETTE": "Béla",
                                    "ROGZ_IDO": "2016-02-28",
                                    "CIM": "8630 Balatonboglár, Radnóti Miklós utca 8"
                                },
                                {
                                    "Sorszámozott lista": "3",
                                    "SZALLAS_ID": "11",
                                    "SZALLAS_NEV": "Partiszél Vendégház",
                                    "HELY": "Balaton-észak",
                                    "CSILLAGOK_SZAMA": "0",
                                    "TIPUS": "vendégház",
                                    "ROGZITETTE": "Béla",
                                    "ROGZ_IDO": "2016-03-22",
                                    "CIM": "8220 Balatonalmádi Neptun u. 23."
                                },
                                {
                                    "Sorszámozott lista": "4",
                                    "SZALLAS_ID": "14",
                                    "SZALLAS_NEV": "Nyárfás Vendégház",
                                    "HELY": "Csongrád megye",
                                    "CSILLAGOK_SZAMA": "0",
                                    "TIPUS": "vendégház",
                                    "ROGZITETTE": "Béla",
                                    "ROGZ_IDO": "2016-03-27",
                                    "CIM": "6723 Szeged, Nagy u. 12."
                                },
                                {
                                    "Sorszámozott lista": "5",
                                    "SZALLAS_ID": "21",
                                    "SZALLAS_NEV": "Müller Vendégház",
                                    "HELY": "Dél-Somogy",
                                    "CSILLAGOK_SZAMA": "0",
                                    "TIPUS": "vendégház",
                                    "ROGZITETTE": "Béla",
                                    "ROGZ_IDO": "2016-04-07",
                                    "CIM": "7570 Barcs, Magyar u. 10."
                                },
                                {
                                    "Sorszámozott lista": "6",
                                    "SZALLAS_ID": "19",
                                    "SZALLAS_NEV": "Nyárfás Vendégház",
                                    "HELY": "Dél-Somogy",
                                    "CSILLAGOK_SZAMA": "0",
                                    "TIPUS": "vendégház",
                                    "ROGZITETTE": "Sára",
                                    "ROGZ_IDO": "2016-04-07",
                                    "CIM": "7570 Barcs, Bajcsy-Zs. u. 53"
                                }
                            ]
                        },
                        "text/html": "<table><tr><th>Sorszámozott lista</th><th>SZALLAS_ID</th><th>SZALLAS_NEV</th><th>HELY</th><th>CSILLAGOK_SZAMA</th><th>TIPUS</th><th>ROGZITETTE</th><th>ROGZ_IDO</th><th>CIM</th></tr><tr><td>1</td><td>7</td><td>Szieszta Apartmanház</td><td>Balaton-dél</td><td>0</td><td>Apartman</td><td>Mari</td><td>2016-03-11</td><td>8630 Balatonboglár, Dózsa György utca 108</td></tr><tr><td>2</td><td>18</td><td>Fortuna Apartman</td><td>Dél-Somogy</td><td>0</td><td>Apartman</td><td>Béla</td><td>2016-04-07</td><td>7570 Barcs, Kossuth u. 13.</td></tr><tr><td>3</td><td>3</td><td>Fortuna Apartman</td><td>Hajdúbihar megye</td><td>0</td><td>Apartman</td><td>Sára</td><td>2016-03-06</td><td>4200 Hajdúszoboszló, Wesselényi utca 56.</td></tr><tr><td>1</td><td>20</td><td>Kollégium</td><td>Budapest</td><td>0</td><td>Diákszálló</td><td>Sára</td><td>2016-04-07</td><td>1146 Budapest, Ajtósi Dürer sor 23.</td></tr><tr><td>1</td><td>8</td><td>Hotel Három Hattyú</td><td>Balaton-dél</td><td>4</td><td>Hotel</td><td>Béla</td><td>2016-03-13</td><td>8623 Balatonföldvár, Rákóczi Ferenc út 45.</td></tr><tr><td>2</td><td>6</td><td>Kentaur Hotel</td><td>Balaton-dél</td><td>3</td><td>Hotel</td><td>Béla</td><td>2016-03-08</td><td>8600 Siófok (Széplak), Akácfa utca 1</td></tr><tr><td>3</td><td>12</td><td>Gold Hotel</td><td>Budapest</td><td>3</td><td>Hotel</td><td>Béla</td><td>2016-03-24</td><td>1016 Budapest, Hegyalja út 12</td></tr><tr><td>4</td><td>10</td><td>Lagúna Hotel</td><td>Budapest</td><td>4</td><td>Hotel</td><td>Sára</td><td>2016-03-20</td><td>1097 Budapest, Albert Flórián út 3</td></tr><tr><td>5</td><td>16</td><td>Bagoly Hotel</td><td>Pest megye</td><td>3</td><td>Hotel</td><td>Mari</td><td>2016-04-01</td><td>2230 Gyömrő, Bergszász u. 5.</td></tr><tr><td>6</td><td>17</td><td>Szarvas Hotel</td><td>Tolna megye</td><td>4</td><td>Hotel</td><td>Béla</td><td>2016-04-04</td><td>7121 Szálka, Petőfi Sándor u.</td></tr><tr><td>1</td><td>9</td><td>Jáde panzió</td><td>Balaton-dél</td><td>3</td><td>panzió</td><td>Mari</td><td>2016-03-16</td><td>8624 Balatonföldvár, Kiss u.2.</td></tr><tr><td>2</td><td>15</td><td>Tímárház Panzió</td><td>Balaton-dél</td><td>3</td><td>panzió</td><td>Béla</td><td>2016-03-29</td><td>8600 Siófok, Virág utca 1</td></tr><tr><td>3</td><td>5</td><td>Fortuna Panzió</td><td>Békés megye</td><td>3</td><td>panzió</td><td>Sára</td><td>2016-03-08</td><td>5900 Orosháza, Gyopárosfürdő Tópart utca 3.</td></tr><tr><td>4</td><td>4</td><td>Fortuna panzió</td><td>Budapest</td><td>3</td><td>panzió</td><td>Béla</td><td>2016-03-07</td><td>1019 Budapest XIV. Cinkotai út 86.</td></tr><tr><td>5</td><td>13</td><td>Riviéra Panzió</td><td>Csongrád megye</td><td>3</td><td>panzió</td><td>Sára</td><td>2016-03-27</td><td>6722 Szeged, Petőfi Sándor út 3.</td></tr><tr><td>1</td><td>2</td><td>Családi Ház</td><td>Balaton-dél</td><td>0</td><td>vendégház</td><td>Béla</td><td>2016-03-02</td><td>8630 Balatonboglár, József Attila utca 25</td></tr><tr><td>2</td><td>1</td><td>Sába-Ház</td><td>Balaton-dél</td><td>0</td><td>vendégház</td><td>Béla</td><td>2016-02-28</td><td>8630 Balatonboglár, Radnóti Miklós utca 8</td></tr><tr><td>3</td><td>11</td><td>Partiszél Vendégház</td><td>Balaton-észak</td><td>0</td><td>vendégház</td><td>Béla</td><td>2016-03-22</td><td>8220 Balatonalmádi Neptun u. 23.</td></tr><tr><td>4</td><td>14</td><td>Nyárfás Vendégház</td><td>Csongrád megye</td><td>0</td><td>vendégház</td><td>Béla</td><td>2016-03-27</td><td>6723 Szeged, Nagy u. 12.</td></tr><tr><td>5</td><td>21</td><td>Müller Vendégház</td><td>Dél-Somogy</td><td>0</td><td>vendégház</td><td>Béla</td><td>2016-04-07</td><td>7570 Barcs, Magyar u. 10.</td></tr><tr><td>6</td><td>19</td><td>Nyárfás Vendégház</td><td>Dél-Somogy</td><td>0</td><td>vendégház</td><td>Sára</td><td>2016-04-07</td><td>7570 Barcs, Bajcsy-Zs. u. 53</td></tr></table>"
                    },
                    "metadata": {}
                }
            ],
            "execution_count": 5
        },
        {
            "cell_type": "markdown",
            "source": [
                "2. <span style=\"background-color: rgb(255, 255, 255); color: rgb(0, 0, 0); font-family: &quot;Open Sans&quot;, sans-serif; font-size: 14.44px;\">Készítsünk lekérdezést, amely a foglalások adatait jeleníti meg!&nbsp;</span> \n",
                "\n",
                "a. A lista tartalmazzon két új oszlopot, amelyek az adott ügyfél legrövidebb, illetve leghosszabb foglalásának hosszát (a foglalt napok számát) mutatják meg! \n",
                "\n",
                "b. Az oszlopokat nevezzük el értelemszerűen!"
            ],
            "metadata": {
                "azdata_cell_guid": "ea75c103-911f-41a3-a32c-3d40fb3e4e4a"
            },
            "attachments": {}
        },
        {
            "cell_type": "code",
            "source": [
                ""
            ],
            "metadata": {
                "azdata_cell_guid": "222b9618-a8e8-42b4-a8e8-d002257122b7",
                "language": "sql"
            },
            "outputs": [],
            "execution_count": null
        },
        {
            "cell_type": "markdown",
            "source": [
                "```\n",
                "3. Készítsük listát, amely megjeleníti az ügyfelek azonosítóját, nevét és a foglalásainak kezdő- és befejező dátumát, valamint azt, hogy a foglalás összesen hány főre történt! \n",
                "```\n",
                "\n",
                "a. Egy új oszlopban jelenítsük meg azt is, hogy az ügyfél előző három foglalása összesen hány főre történt!\n",
                "\n",
                "![](https://moodle.uni-corvinus.hu/theme/image.php/adaptable/atto_h5p/1709548862/icon)"
            ],
            "metadata": {
                "azdata_cell_guid": "d7876bb9-76d0-4d07-baed-3cb17b2f96c3"
            },
            "attachments": {}
        },
        {
            "cell_type": "code",
            "source": [
                "SELECT  v.USERNEV,\r\n",
                "        f.METTOL,\r\n",
                "        f.MEDDIG,\r\n",
                "        f.FELNOTT_SZAM + f.GYERMEK_SZAM,\r\n",
                "        --összesen hány fő az előző 3 rész\r\n",
                "        SUM(f.FELNOTT_SZAM + f.GYERMEK_SZAM) OVER(PARTITION BY f.ugyfel_fk\r\n",
                "        ORDER BY f.mettol\r\n",
                "        ROWS BETWEEN 3 PRECEDING AND 1 PRECEDING)\r\n",
                "FROM Foglalas f JOIN Vendeg v ON f.UGYFEL_FK = v.USERNEV"
            ],
            "metadata": {
                "azdata_cell_guid": "56ec19ce-e249-4551-b2a8-f17569765acc",
                "language": "sql"
            },
            "outputs": [
                {
                    "output_type": "display_data",
                    "data": {
                        "text/html": "(1027 rows affected)"
                    },
                    "metadata": {}
                },
                {
                    "output_type": "display_data",
                    "data": {
                        "text/html": "Total execution time: 00:00:00.020"
                    },
                    "metadata": {}
                },
                {
                    "output_type": "execute_result",
                    "execution_count": 9,
                    "data": {
                        "application/vnd.dataresource+json": {
                            "schema": {
                                "fields": [
                                    {
                                        "name": "USERNEV"
                                    },
                                    {
                                        "name": "METTOL"
                                    },
                                    {
                                        "name": "MEDDIG"
                                    },
                                    {
                                        "name": "(No column name)"
                                    },
                                    {
                                        "name": "(No column name)"
                                    }
                                ]
                            },
                            "data": [
                                {
                                    "USERNEV": "adam1",
                                    "METTOL": "2016-05-28",
                                    "MEDDIG": "2016-06-03",
                                    "(No column name)": "NULL"
                                },
                                {
                                    "USERNEV": "adam1",
                                    "METTOL": "2016-08-20",
                                    "MEDDIG": "2016-08-24",
                                    "(No column name)": "3"
                                },
                                {
                                    "USERNEV": "adam1",
                                    "METTOL": "2016-10-19",
                                    "MEDDIG": "2016-10-24",
                                    "(No column name)": "4"
                                },
                                {
                                    "USERNEV": "adam3",
                                    "METTOL": "2016-09-12",
                                    "MEDDIG": "2016-09-16",
                                    "(No column name)": "NULL"
                                },
                                {
                                    "USERNEV": "adam3",
                                    "METTOL": "2017-02-06",
                                    "MEDDIG": "2017-02-10",
                                    "(No column name)": "2"
                                },
                                {
                                    "USERNEV": "adam4",
                                    "METTOL": "2016-08-28",
                                    "MEDDIG": "2016-08-30",
                                    "(No column name)": "NULL"
                                },
                                {
                                    "USERNEV": "adam4",
                                    "METTOL": "2016-10-27",
                                    "MEDDIG": "2016-11-02",
                                    "(No column name)": "3"
                                },
                                {
                                    "USERNEV": "adam4",
                                    "METTOL": "2016-11-15",
                                    "MEDDIG": "2016-11-18",
                                    "(No column name)": "6"
                                },
                                {
                                    "USERNEV": "adam4",
                                    "METTOL": "2016-12-06",
                                    "MEDDIG": "2016-12-09",
                                    "(No column name)": "8"
                                },
                                {
                                    "USERNEV": "adam4",
                                    "METTOL": "2017-01-12",
                                    "MEDDIG": "2017-01-19",
                                    "(No column name)": "8"
                                },
                                {
                                    "USERNEV": "adam4",
                                    "METTOL": "2017-02-23",
                                    "MEDDIG": "2017-02-27",
                                    "(No column name)": "7"
                                },
                                {
                                    "USERNEV": "agnes",
                                    "METTOL": "2016-05-09",
                                    "MEDDIG": "2016-05-11",
                                    "(No column name)": "NULL"
                                },
                                {
                                    "USERNEV": "agnes",
                                    "METTOL": "2016-05-25",
                                    "MEDDIG": "2016-05-30",
                                    "(No column name)": "3"
                                },
                                {
                                    "USERNEV": "agnes",
                                    "METTOL": "2016-07-13",
                                    "MEDDIG": "2016-07-19",
                                    "(No column name)": "4"
                                },
                                {
                                    "USERNEV": "agnes",
                                    "METTOL": "2016-07-30",
                                    "MEDDIG": "2016-08-06",
                                    "(No column name)": "7"
                                },
                                {
                                    "USERNEV": "agnes",
                                    "METTOL": "2016-11-07",
                                    "MEDDIG": "2016-11-13",
                                    "(No column name)": "7"
                                },
                                {
                                    "USERNEV": "agnes3",
                                    "METTOL": "2016-08-04",
                                    "MEDDIG": "2016-08-10",
                                    "(No column name)": "NULL"
                                },
                                {
                                    "USERNEV": "agnes3",
                                    "METTOL": "2016-10-22",
                                    "MEDDIG": "2016-10-23",
                                    "(No column name)": "1"
                                },
                                {
                                    "USERNEV": "agnes3",
                                    "METTOL": "2017-02-16",
                                    "MEDDIG": "2017-02-21",
                                    "(No column name)": "4"
                                },
                                {
                                    "USERNEV": "AGNESH",
                                    "METTOL": "2016-04-10",
                                    "MEDDIG": "2016-04-12",
                                    "(No column name)": "NULL"
                                },
                                {
                                    "USERNEV": "AGNESH",
                                    "METTOL": "2016-04-27",
                                    "MEDDIG": "2016-04-28",
                                    "(No column name)": "2"
                                },
                                {
                                    "USERNEV": "AGNESH",
                                    "METTOL": "2016-06-23",
                                    "MEDDIG": "2016-06-26",
                                    "(No column name)": "6"
                                },
                                {
                                    "USERNEV": "AGNESH",
                                    "METTOL": "2016-10-30",
                                    "MEDDIG": "2016-11-04",
                                    "(No column name)": "7"
                                },
                                {
                                    "USERNEV": "AGNESH",
                                    "METTOL": "2017-01-03",
                                    "MEDDIG": "2017-01-10",
                                    "(No column name)": "6"
                                },
                                {
                                    "USERNEV": "AGNESH",
                                    "METTOL": "2017-01-16",
                                    "MEDDIG": "2017-01-23",
                                    "(No column name)": "4"
                                },
                                {
                                    "USERNEV": "AGNESK",
                                    "METTOL": "2016-07-29",
                                    "MEDDIG": "2016-08-01",
                                    "(No column name)": "NULL"
                                },
                                {
                                    "USERNEV": "AGNESK",
                                    "METTOL": "2016-10-17",
                                    "MEDDIG": "2016-10-19",
                                    "(No column name)": "3"
                                },
                                {
                                    "USERNEV": "AGNESK",
                                    "METTOL": "2016-12-17",
                                    "MEDDIG": "2016-12-18",
                                    "(No column name)": "5"
                                },
                                {
                                    "USERNEV": "akos",
                                    "METTOL": "2016-05-18",
                                    "MEDDIG": "2016-05-19",
                                    "(No column name)": "NULL"
                                },
                                {
                                    "USERNEV": "akos",
                                    "METTOL": "2016-07-14",
                                    "MEDDIG": "2016-07-19",
                                    "(No column name)": "2"
                                },
                                {
                                    "USERNEV": "akos",
                                    "METTOL": "2016-07-16",
                                    "MEDDIG": "2016-07-18",
                                    "(No column name)": "4"
                                },
                                {
                                    "USERNEV": "akos",
                                    "METTOL": "2016-07-22",
                                    "MEDDIG": "2016-07-26",
                                    "(No column name)": "6"
                                },
                                {
                                    "USERNEV": "akos",
                                    "METTOL": "2016-09-06",
                                    "MEDDIG": "2016-09-12",
                                    "(No column name)": "5"
                                },
                                {
                                    "USERNEV": "akos",
                                    "METTOL": "2016-10-05",
                                    "MEDDIG": "2016-10-09",
                                    "(No column name)": "4"
                                },
                                {
                                    "USERNEV": "akos",
                                    "METTOL": "2016-10-18",
                                    "MEDDIG": "2016-10-23",
                                    "(No column name)": "4"
                                },
                                {
                                    "USERNEV": "akos",
                                    "METTOL": "2016-11-21",
                                    "MEDDIG": "2016-11-27",
                                    "(No column name)": "5"
                                },
                                {
                                    "USERNEV": "akos",
                                    "METTOL": "2016-12-15",
                                    "MEDDIG": "2016-12-21",
                                    "(No column name)": "6"
                                },
                                {
                                    "USERNEV": "akos",
                                    "METTOL": "2016-12-29",
                                    "MEDDIG": "2016-12-30",
                                    "(No column name)": "6"
                                },
                                {
                                    "USERNEV": "aladar",
                                    "METTOL": "2016-05-17",
                                    "MEDDIG": "2016-05-24",
                                    "(No column name)": "NULL"
                                },
                                {
                                    "USERNEV": "aladar",
                                    "METTOL": "2016-09-24",
                                    "MEDDIG": "2016-09-28",
                                    "(No column name)": "1"
                                },
                                {
                                    "USERNEV": "aladar",
                                    "METTOL": "2016-11-22",
                                    "MEDDIG": "2016-11-23",
                                    "(No column name)": "2"
                                },
                                {
                                    "USERNEV": "alexandra",
                                    "METTOL": "2016-05-21",
                                    "MEDDIG": "2016-05-27",
                                    "(No column name)": "NULL"
                                },
                                {
                                    "USERNEV": "alexandra",
                                    "METTOL": "2016-06-08",
                                    "MEDDIG": "2016-06-11",
                                    "(No column name)": "3"
                                },
                                {
                                    "USERNEV": "alexandra",
                                    "METTOL": "2016-07-27",
                                    "MEDDIG": "2016-07-30",
                                    "(No column name)": "6"
                                },
                                {
                                    "USERNEV": "alexandra",
                                    "METTOL": "2016-10-21",
                                    "MEDDIG": "2016-10-25",
                                    "(No column name)": "8"
                                },
                                {
                                    "USERNEV": "alexandra",
                                    "METTOL": "2016-11-29",
                                    "MEDDIG": "2016-12-05",
                                    "(No column name)": "7"
                                },
                                {
                                    "USERNEV": "alexandra",
                                    "METTOL": "2017-01-13",
                                    "MEDDIG": "2017-01-14",
                                    "(No column name)": "6"
                                },
                                {
                                    "USERNEV": "alexandra",
                                    "METTOL": "2017-01-19",
                                    "MEDDIG": "2017-01-26",
                                    "(No column name)": "5"
                                },
                                {
                                    "USERNEV": "andi",
                                    "METTOL": "2016-05-08",
                                    "MEDDIG": "2016-05-14",
                                    "(No column name)": "NULL"
                                },
                                {
                                    "USERNEV": "andi",
                                    "METTOL": "2016-06-13",
                                    "MEDDIG": "2016-06-14",
                                    "(No column name)": "4"
                                },
                                {
                                    "USERNEV": "andi",
                                    "METTOL": "2016-09-13",
                                    "MEDDIG": "2016-09-16",
                                    "(No column name)": "5"
                                },
                                {
                                    "USERNEV": "andi",
                                    "METTOL": "2016-11-16",
                                    "MEDDIG": "2016-11-17",
                                    "(No column name)": "7"
                                },
                                {
                                    "USERNEV": "andi",
                                    "METTOL": "2017-01-13",
                                    "MEDDIG": "2017-01-17",
                                    "(No column name)": "6"
                                },
                                {
                                    "USERNEV": "andras2",
                                    "METTOL": "2016-05-30",
                                    "MEDDIG": "2016-06-04",
                                    "(No column name)": "NULL"
                                },
                                {
                                    "USERNEV": "andras2",
                                    "METTOL": "2016-07-20",
                                    "MEDDIG": "2016-07-22",
                                    "(No column name)": "1"
                                },
                                {
                                    "USERNEV": "andras2",
                                    "METTOL": "2016-09-30",
                                    "MEDDIG": "2016-10-03",
                                    "(No column name)": "3"
                                },
                                {
                                    "USERNEV": "andras2",
                                    "METTOL": "2016-10-07",
                                    "MEDDIG": "2016-10-10",
                                    "(No column name)": "5"
                                },
                                {
                                    "USERNEV": "andras2",
                                    "METTOL": "2017-02-08",
                                    "MEDDIG": "2017-02-10",
                                    "(No column name)": "7"
                                },
                                {
                                    "USERNEV": "andras21",
                                    "METTOL": "2016-06-21",
                                    "MEDDIG": "2016-06-26",
                                    "(No column name)": "NULL"
                                },
                                {
                                    "USERNEV": "andras21",
                                    "METTOL": "2016-07-04",
                                    "MEDDIG": "2016-07-05",
                                    "(No column name)": "2"
                                },
                                {
                                    "USERNEV": "andras21",
                                    "METTOL": "2016-07-20",
                                    "MEDDIG": "2016-07-22",
                                    "(No column name)": "5"
                                },
                                {
                                    "USERNEV": "andras21",
                                    "METTOL": "2016-10-01",
                                    "MEDDIG": "2016-10-06",
                                    "(No column name)": "6"
                                },
                                {
                                    "USERNEV": "andras21",
                                    "METTOL": "2016-10-04",
                                    "MEDDIG": "2016-10-11",
                                    "(No column name)": "7"
                                },
                                {
                                    "USERNEV": "andras21",
                                    "METTOL": "2016-11-23",
                                    "MEDDIG": "2016-11-24",
                                    "(No column name)": "7"
                                },
                                {
                                    "USERNEV": "andras21",
                                    "METTOL": "2017-01-28",
                                    "MEDDIG": "2017-02-01",
                                    "(No column name)": "10"
                                },
                                {
                                    "USERNEV": "andras3",
                                    "METTOL": "2016-05-01",
                                    "MEDDIG": "2016-05-06",
                                    "(No column name)": "NULL"
                                },
                                {
                                    "USERNEV": "andras3",
                                    "METTOL": "2016-05-30",
                                    "MEDDIG": "2016-06-03",
                                    "(No column name)": "2"
                                },
                                {
                                    "USERNEV": "andras3",
                                    "METTOL": "2016-06-10",
                                    "MEDDIG": "2016-06-11",
                                    "(No column name)": "3"
                                },
                                {
                                    "USERNEV": "andras3",
                                    "METTOL": "2016-07-15",
                                    "MEDDIG": "2016-07-19",
                                    "(No column name)": "4"
                                },
                                {
                                    "USERNEV": "andras3",
                                    "METTOL": "2016-07-21",
                                    "MEDDIG": "2016-07-23",
                                    "(No column name)": "5"
                                },
                                {
                                    "USERNEV": "andras3",
                                    "METTOL": "2016-08-29",
                                    "MEDDIG": "2016-09-02",
                                    "(No column name)": "6"
                                },
                                {
                                    "USERNEV": "andras3",
                                    "METTOL": "2016-11-28",
                                    "MEDDIG": "2016-12-02",
                                    "(No column name)": "8"
                                },
                                {
                                    "USERNEV": "andras3",
                                    "METTOL": "2017-02-02",
                                    "MEDDIG": "2017-02-08",
                                    "(No column name)": "7"
                                },
                                {
                                    "USERNEV": "andras4",
                                    "METTOL": "2016-09-17",
                                    "MEDDIG": "2016-09-20",
                                    "(No column name)": "NULL"
                                },
                                {
                                    "USERNEV": "andras4",
                                    "METTOL": "2016-11-25",
                                    "MEDDIG": "2016-11-28",
                                    "(No column name)": "2"
                                },
                                {
                                    "USERNEV": "andras4",
                                    "METTOL": "2017-01-09",
                                    "MEDDIG": "2017-01-10",
                                    "(No column name)": "4"
                                },
                                {
                                    "USERNEV": "andras41",
                                    "METTOL": "2016-05-14",
                                    "MEDDIG": "2016-05-16",
                                    "(No column name)": "NULL"
                                },
                                {
                                    "USERNEV": "andras41",
                                    "METTOL": "2016-05-21",
                                    "MEDDIG": "2016-05-23",
                                    "(No column name)": "2"
                                },
                                {
                                    "USERNEV": "andras41",
                                    "METTOL": "2016-06-07",
                                    "MEDDIG": "2016-06-11",
                                    "(No column name)": "6"
                                },
                                {
                                    "USERNEV": "andras41",
                                    "METTOL": "2016-06-23",
                                    "MEDDIG": "2016-06-29",
                                    "(No column name)": "9"
                                },
                                {
                                    "USERNEV": "andras41",
                                    "METTOL": "2016-07-28",
                                    "MEDDIG": "2016-08-03",
                                    "(No column name)": "9"
                                },
                                {
                                    "USERNEV": "andras41",
                                    "METTOL": "2016-08-17",
                                    "MEDDIG": "2016-08-21",
                                    "(No column name)": "8"
                                },
                                {
                                    "USERNEV": "andras41",
                                    "METTOL": "2016-08-19",
                                    "MEDDIG": "2016-08-23",
                                    "(No column name)": "8"
                                },
                                {
                                    "USERNEV": "andras41",
                                    "METTOL": "2016-09-22",
                                    "MEDDIG": "2016-09-29",
                                    "(No column name)": "7"
                                },
                                {
                                    "USERNEV": "andras41",
                                    "METTOL": "2016-09-30",
                                    "MEDDIG": "2016-10-05",
                                    "(No column name)": "5"
                                },
                                {
                                    "USERNEV": "andras41",
                                    "METTOL": "2016-10-09",
                                    "MEDDIG": "2016-10-13",
                                    "(No column name)": "4"
                                },
                                {
                                    "USERNEV": "andras41",
                                    "METTOL": "2016-10-15",
                                    "MEDDIG": "2016-10-18",
                                    "(No column name)": "5"
                                },
                                {
                                    "USERNEV": "andras41",
                                    "METTOL": "2016-11-20",
                                    "MEDDIG": "2016-11-24",
                                    "(No column name)": "7"
                                },
                                {
                                    "USERNEV": "andras41",
                                    "METTOL": "2016-11-23",
                                    "MEDDIG": "2016-11-24",
                                    "(No column name)": "8"
                                },
                                {
                                    "USERNEV": "ANDRASE",
                                    "METTOL": "2016-04-24",
                                    "MEDDIG": "2016-05-01",
                                    "(No column name)": "NULL"
                                },
                                {
                                    "USERNEV": "ANDRASE",
                                    "METTOL": "2016-07-06",
                                    "MEDDIG": "2016-07-07",
                                    "(No column name)": "1"
                                },
                                {
                                    "USERNEV": "ANDRASE",
                                    "METTOL": "2016-08-16",
                                    "MEDDIG": "2016-08-20",
                                    "(No column name)": "3"
                                },
                                {
                                    "USERNEV": "ANDRASE",
                                    "METTOL": "2016-11-19",
                                    "MEDDIG": "2016-11-20",
                                    "(No column name)": "5"
                                },
                                {
                                    "USERNEV": "ANDRASE",
                                    "METTOL": "2016-11-29",
                                    "MEDDIG": "2016-12-06",
                                    "(No column name)": "8"
                                },
                                {
                                    "USERNEV": "ANDRASN",
                                    "METTOL": "2016-11-25",
                                    "MEDDIG": "2016-12-01",
                                    "(No column name)": "NULL"
                                },
                                {
                                    "USERNEV": "andrea",
                                    "METTOL": "2016-07-27",
                                    "MEDDIG": "2016-07-28",
                                    "(No column name)": "NULL"
                                },
                                {
                                    "USERNEV": "andrea",
                                    "METTOL": "2016-08-01",
                                    "MEDDIG": "2016-08-02",
                                    "(No column name)": "2"
                                },
                                {
                                    "USERNEV": "andrea",
                                    "METTOL": "2016-08-23",
                                    "MEDDIG": "2016-08-26",
                                    "(No column name)": "4"
                                },
                                {
                                    "USERNEV": "andrea",
                                    "METTOL": "2016-08-26",
                                    "MEDDIG": "2016-08-30",
                                    "(No column name)": "7"
                                },
                                {
                                    "USERNEV": "andrea",
                                    "METTOL": "2016-10-21",
                                    "MEDDIG": "2016-10-27",
                                    "(No column name)": "7"
                                },
                                {
                                    "USERNEV": "andrea",
                                    "METTOL": "2017-02-09",
                                    "MEDDIG": "2017-02-14",
                                    "(No column name)": "9"
                                },
                                {
                                    "USERNEV": "andrea3",
                                    "METTOL": "2016-11-19",
                                    "MEDDIG": "2016-11-21",
                                    "(No column name)": "NULL"
                                },
                                {
                                    "USERNEV": "andrea4",
                                    "METTOL": "2016-05-27",
                                    "MEDDIG": "2016-05-29",
                                    "(No column name)": "NULL"
                                },
                                {
                                    "USERNEV": "andrea4",
                                    "METTOL": "2016-09-13",
                                    "MEDDIG": "2016-09-17",
                                    "(No column name)": "1"
                                },
                                {
                                    "USERNEV": "andrea4",
                                    "METTOL": "2016-10-30",
                                    "MEDDIG": "2016-11-06",
                                    "(No column name)": "3"
                                },
                                {
                                    "USERNEV": "andrea4",
                                    "METTOL": "2017-01-22",
                                    "MEDDIG": "2017-01-29",
                                    "(No column name)": "6"
                                },
                                {
                                    "USERNEV": "ANDREAT",
                                    "METTOL": "2016-07-27",
                                    "MEDDIG": "2016-08-01",
                                    "(No column name)": "NULL"
                                },
                                {
                                    "USERNEV": "ANDREAT",
                                    "METTOL": "2016-09-15",
                                    "MEDDIG": "2016-09-16",
                                    "(No column name)": "2"
                                },
                                {
                                    "USERNEV": "ANDREAT",
                                    "METTOL": "2016-10-08",
                                    "MEDDIG": "2016-10-12",
                                    "(No column name)": "4"
                                },
                                {
                                    "USERNEV": "anett3",
                                    "METTOL": "2016-04-10",
                                    "MEDDIG": "2016-04-17",
                                    "(No column name)": "NULL"
                                },
                                {
                                    "USERNEV": "anett3",
                                    "METTOL": "2016-04-13",
                                    "MEDDIG": "2016-04-19",
                                    "(No column name)": "1"
                                },
                                {
                                    "USERNEV": "anett3",
                                    "METTOL": "2016-04-15",
                                    "MEDDIG": "2016-04-19",
                                    "(No column name)": "4"
                                },
                                {
                                    "USERNEV": "anett3",
                                    "METTOL": "2016-04-28",
                                    "MEDDIG": "2016-05-02",
                                    "(No column name)": "7"
                                },
                                {
                                    "USERNEV": "anett3",
                                    "METTOL": "2016-08-15",
                                    "MEDDIG": "2016-08-16",
                                    "(No column name)": "9"
                                },
                                {
                                    "USERNEV": "anett3",
                                    "METTOL": "2016-08-17",
                                    "MEDDIG": "2016-08-23",
                                    "(No column name)": "8"
                                },
                                {
                                    "USERNEV": "anett3",
                                    "METTOL": "2016-10-12",
                                    "MEDDIG": "2016-10-19",
                                    "(No column name)": "8"
                                },
                                {
                                    "USERNEV": "anett3",
                                    "METTOL": "2016-10-16",
                                    "MEDDIG": "2016-10-21",
                                    "(No column name)": "8"
                                },
                                {
                                    "USERNEV": "aniko",
                                    "METTOL": "2016-06-25",
                                    "MEDDIG": "2016-06-30",
                                    "(No column name)": "NULL"
                                },
                                {
                                    "USERNEV": "aniko",
                                    "METTOL": "2017-02-12",
                                    "MEDDIG": "2017-02-14",
                                    "(No column name)": "3"
                                },
                                {
                                    "USERNEV": "aniko",
                                    "METTOL": "2017-02-23",
                                    "MEDDIG": "2017-02-24",
                                    "(No column name)": "6"
                                },
                                {
                                    "USERNEV": "aniko4",
                                    "METTOL": "2016-07-02",
                                    "MEDDIG": "2016-07-09",
                                    "(No column name)": "NULL"
                                },
                                {
                                    "USERNEV": "aniko4",
                                    "METTOL": "2016-07-22",
                                    "MEDDIG": "2016-07-25",
                                    "(No column name)": "1"
                                },
                                {
                                    "USERNEV": "aniko4",
                                    "METTOL": "2016-09-05",
                                    "MEDDIG": "2016-09-07",
                                    "(No column name)": "4"
                                },
                                {
                                    "USERNEV": "aniko4",
                                    "METTOL": "2016-10-16",
                                    "MEDDIG": "2016-10-18",
                                    "(No column name)": "8"
                                },
                                {
                                    "USERNEV": "ANIKOS",
                                    "METTOL": "2016-04-19",
                                    "MEDDIG": "2016-04-24",
                                    "(No column name)": "NULL"
                                },
                                {
                                    "USERNEV": "ANIKOS",
                                    "METTOL": "2016-05-24",
                                    "MEDDIG": "2016-05-25",
                                    "(No column name)": "2"
                                },
                                {
                                    "USERNEV": "ANIKOS",
                                    "METTOL": "2016-06-16",
                                    "MEDDIG": "2016-06-23",
                                    "(No column name)": "5"
                                },
                                {
                                    "USERNEV": "ANIKOS",
                                    "METTOL": "2016-06-27",
                                    "MEDDIG": "2016-06-30",
                                    "(No column name)": "6"
                                },
                                {
                                    "USERNEV": "ANIKOS",
                                    "METTOL": "2016-07-17",
                                    "MEDDIG": "2016-07-22",
                                    "(No column name)": "6"
                                },
                                {
                                    "USERNEV": "ANIKOS",
                                    "METTOL": "2016-08-26",
                                    "MEDDIG": "2016-09-02",
                                    "(No column name)": "6"
                                },
                                {
                                    "USERNEV": "ANIKOS",
                                    "METTOL": "2016-10-08",
                                    "MEDDIG": "2016-10-14",
                                    "(No column name)": "7"
                                },
                                {
                                    "USERNEV": "ANIKOS",
                                    "METTOL": "2016-10-29",
                                    "MEDDIG": "2016-11-05",
                                    "(No column name)": "7"
                                },
                                {
                                    "USERNEV": "ANIKOS",
                                    "METTOL": "2016-11-10",
                                    "MEDDIG": "2016-11-15",
                                    "(No column name)": "7"
                                },
                                {
                                    "USERNEV": "anita",
                                    "METTOL": "2016-09-28",
                                    "MEDDIG": "2016-10-02",
                                    "(No column name)": "NULL"
                                },
                                {
                                    "USERNEV": "anita",
                                    "METTOL": "2016-10-01",
                                    "MEDDIG": "2016-10-04",
                                    "(No column name)": "4"
                                },
                                {
                                    "USERNEV": "anita",
                                    "METTOL": "2017-02-19",
                                    "MEDDIG": "2017-02-22",
                                    "(No column name)": "6"
                                },
                                {
                                    "USERNEV": "anita",
                                    "METTOL": "2017-02-20",
                                    "MEDDIG": "2017-02-25",
                                    "(No column name)": "8"
                                },
                                {
                                    "USERNEV": "annamaria1",
                                    "METTOL": "2016-06-06",
                                    "MEDDIG": "2016-06-07",
                                    "(No column name)": "NULL"
                                },
                                {
                                    "USERNEV": "annamaria1",
                                    "METTOL": "2017-01-30",
                                    "MEDDIG": "2017-01-31",
                                    "(No column name)": "3"
                                },
                                {
                                    "USERNEV": "ANNAMARIAR",
                                    "METTOL": "2016-06-08",
                                    "MEDDIG": "2016-06-11",
                                    "(No column name)": "NULL"
                                },
                                {
                                    "USERNEV": "ANNAMARIAR",
                                    "METTOL": "2016-07-18",
                                    "MEDDIG": "2016-07-21",
                                    "(No column name)": "2"
                                },
                                {
                                    "USERNEV": "ANNAMARIAR",
                                    "METTOL": "2016-09-23",
                                    "MEDDIG": "2016-09-27",
                                    "(No column name)": "3"
                                },
                                {
                                    "USERNEV": "ANNAMARIAR",
                                    "METTOL": "2016-11-11",
                                    "MEDDIG": "2016-11-12",
                                    "(No column name)": "5"
                                },
                                {
                                    "USERNEV": "ANNAMARIAR",
                                    "METTOL": "2017-01-10",
                                    "MEDDIG": "2017-01-13",
                                    "(No column name)": "6"
                                },
                                {
                                    "USERNEV": "ANNAMARIAR",
                                    "METTOL": "2017-02-16",
                                    "MEDDIG": "2017-02-18",
                                    "(No column name)": "7"
                                },
                                {
                                    "USERNEV": "aron2",
                                    "METTOL": "2016-04-11",
                                    "MEDDIG": "2016-04-12",
                                    "(No column name)": "NULL"
                                },
                                {
                                    "USERNEV": "aron2",
                                    "METTOL": "2016-07-04",
                                    "MEDDIG": "2016-07-06",
                                    "(No column name)": "3"
                                },
                                {
                                    "USERNEV": "aron2",
                                    "METTOL": "2016-10-23",
                                    "MEDDIG": "2016-10-27",
                                    "(No column name)": "6"
                                },
                                {
                                    "USERNEV": "aron2",
                                    "METTOL": "2016-11-05",
                                    "MEDDIG": "2016-11-09",
                                    "(No column name)": "8"
                                },
                                {
                                    "USERNEV": "aron2",
                                    "METTOL": "2017-01-17",
                                    "MEDDIG": "2017-01-18",
                                    "(No column name)": "7"
                                },
                                {
                                    "USERNEV": "aron2",
                                    "METTOL": "2017-02-26",
                                    "MEDDIG": "2017-02-27",
                                    "(No column name)": "7"
                                },
                                {
                                    "USERNEV": "ARONK",
                                    "METTOL": "2016-04-06",
                                    "MEDDIG": "2016-04-08",
                                    "(No column name)": "NULL"
                                },
                                {
                                    "USERNEV": "ARONK",
                                    "METTOL": "2016-05-14",
                                    "MEDDIG": "2016-05-20",
                                    "(No column name)": "2"
                                },
                                {
                                    "USERNEV": "ARONK",
                                    "METTOL": "2016-06-04",
                                    "MEDDIG": "2016-06-09",
                                    "(No column name)": "6"
                                },
                                {
                                    "USERNEV": "ARONK",
                                    "METTOL": "2016-06-07",
                                    "MEDDIG": "2016-06-13",
                                    "(No column name)": "8"
                                },
                                {
                                    "USERNEV": "ARONK",
                                    "METTOL": "2016-07-03",
                                    "MEDDIG": "2016-07-07",
                                    "(No column name)": "9"
                                },
                                {
                                    "USERNEV": "ARONK",
                                    "METTOL": "2016-08-05",
                                    "MEDDIG": "2016-08-08",
                                    "(No column name)": "7"
                                },
                                {
                                    "USERNEV": "ARONK",
                                    "METTOL": "2016-09-08",
                                    "MEDDIG": "2016-09-15",
                                    "(No column name)": "9"
                                },
                                {
                                    "USERNEV": "ARONK",
                                    "METTOL": "2016-11-03",
                                    "MEDDIG": "2016-11-10",
                                    "(No column name)": "8"
                                },
                                {
                                    "USERNEV": "ARONK",
                                    "METTOL": "2016-11-05",
                                    "MEDDIG": "2016-11-07",
                                    "(No column name)": "8"
                                },
                                {
                                    "USERNEV": "ARONK",
                                    "METTOL": "2016-12-07",
                                    "MEDDIG": "2016-12-12",
                                    "(No column name)": "6"
                                },
                                {
                                    "USERNEV": "ARONK",
                                    "METTOL": "2017-01-01",
                                    "MEDDIG": "2017-01-03",
                                    "(No column name)": "7"
                                },
                                {
                                    "USERNEV": "ARONK",
                                    "METTOL": "2017-01-30",
                                    "MEDDIG": "2017-02-03",
                                    "(No column name)": "7"
                                },
                                {
                                    "USERNEV": "ARONK",
                                    "METTOL": "2017-02-21",
                                    "MEDDIG": "2017-02-23",
                                    "(No column name)": "7"
                                },
                                {
                                    "USERNEV": "arpad2",
                                    "METTOL": "2016-06-05",
                                    "MEDDIG": "2016-06-07",
                                    "(No column name)": "NULL"
                                },
                                {
                                    "USERNEV": "arpad2",
                                    "METTOL": "2016-08-23",
                                    "MEDDIG": "2016-08-25",
                                    "(No column name)": "2"
                                },
                                {
                                    "USERNEV": "arpad2",
                                    "METTOL": "2016-09-28",
                                    "MEDDIG": "2016-09-30",
                                    "(No column name)": "4"
                                },
                                {
                                    "USERNEV": "arpad2",
                                    "METTOL": "2016-10-13",
                                    "MEDDIG": "2016-10-19",
                                    "(No column name)": "6"
                                },
                                {
                                    "USERNEV": "arpad2",
                                    "METTOL": "2016-11-06",
                                    "MEDDIG": "2016-11-10",
                                    "(No column name)": "7"
                                },
                                {
                                    "USERNEV": "arpad2",
                                    "METTOL": "2016-12-24",
                                    "MEDDIG": "2016-12-27",
                                    "(No column name)": "7"
                                },
                                {
                                    "USERNEV": "arpad2",
                                    "METTOL": "2017-02-18",
                                    "MEDDIG": "2017-02-19",
                                    "(No column name)": "8"
                                },
                                {
                                    "USERNEV": "ARPADH",
                                    "METTOL": "2016-06-06",
                                    "MEDDIG": "2016-06-07",
                                    "(No column name)": "NULL"
                                },
                                {
                                    "USERNEV": "ARPADH",
                                    "METTOL": "2016-07-14",
                                    "MEDDIG": "2016-07-18",
                                    "(No column name)": "3"
                                },
                                {
                                    "USERNEV": "ARPADH",
                                    "METTOL": "2016-09-16",
                                    "MEDDIG": "2016-09-23",
                                    "(No column name)": "5"
                                },
                                {
                                    "USERNEV": "ARPADH",
                                    "METTOL": "2016-09-18",
                                    "MEDDIG": "2016-09-25",
                                    "(No column name)": "6"
                                },
                                {
                                    "USERNEV": "ARPADH",
                                    "METTOL": "2016-12-04",
                                    "MEDDIG": "2016-12-10",
                                    "(No column name)": "4"
                                },
                                {
                                    "USERNEV": "ARPADH",
                                    "METTOL": "2016-12-18",
                                    "MEDDIG": "2016-12-19",
                                    "(No column name)": "3"
                                },
                                {
                                    "USERNEV": "ARPADH",
                                    "METTOL": "2017-02-16",
                                    "MEDDIG": "2017-02-18",
                                    "(No column name)": "5"
                                },
                                {
                                    "USERNEV": "ARPADM",
                                    "METTOL": "2016-05-29",
                                    "MEDDIG": "2016-06-01",
                                    "(No column name)": "NULL"
                                },
                                {
                                    "USERNEV": "ARPADM",
                                    "METTOL": "2016-08-12",
                                    "MEDDIG": "2016-08-16",
                                    "(No column name)": "2"
                                },
                                {
                                    "USERNEV": "ARPADM",
                                    "METTOL": "2016-11-09",
                                    "MEDDIG": "2016-11-11",
                                    "(No column name)": "4"
                                },
                                {
                                    "USERNEV": "ARPADM",
                                    "METTOL": "2016-12-14",
                                    "MEDDIG": "2016-12-17",
                                    "(No column name)": "6"
                                },
                                {
                                    "USERNEV": "ARPADM",
                                    "METTOL": "2017-01-05",
                                    "MEDDIG": "2017-01-10",
                                    "(No column name)": "7"
                                },
                                {
                                    "USERNEV": "ARPADM",
                                    "METTOL": "2017-02-12",
                                    "MEDDIG": "2017-02-14",
                                    "(No column name)": "6"
                                },
                                {
                                    "USERNEV": "attila",
                                    "METTOL": "2016-09-30",
                                    "MEDDIG": "2016-10-07",
                                    "(No column name)": "NULL"
                                },
                                {
                                    "USERNEV": "attila",
                                    "METTOL": "2016-10-15",
                                    "MEDDIG": "2016-10-19",
                                    "(No column name)": "3"
                                },
                                {
                                    "USERNEV": "attila",
                                    "METTOL": "2016-12-22",
                                    "MEDDIG": "2016-12-26",
                                    "(No column name)": "4"
                                },
                                {
                                    "USERNEV": "attila1",
                                    "METTOL": "2016-05-20",
                                    "MEDDIG": "2016-05-26",
                                    "(No column name)": "NULL"
                                },
                                {
                                    "USERNEV": "attila1",
                                    "METTOL": "2016-10-09",
                                    "MEDDIG": "2016-10-12",
                                    "(No column name)": "1"
                                },
                                {
                                    "USERNEV": "attila1",
                                    "METTOL": "2016-10-15",
                                    "MEDDIG": "2016-10-16",
                                    "(No column name)": "3"
                                },
                                {
                                    "USERNEV": "attila1",
                                    "METTOL": "2016-10-30",
                                    "MEDDIG": "2016-11-05",
                                    "(No column name)": "6"
                                },
                                {
                                    "USERNEV": "attila1",
                                    "METTOL": "2016-11-10",
                                    "MEDDIG": "2016-11-14",
                                    "(No column name)": "7"
                                },
                                {
                                    "USERNEV": "attila1",
                                    "METTOL": "2017-01-23",
                                    "MEDDIG": "2017-01-30",
                                    "(No column name)": "7"
                                },
                                {
                                    "USERNEV": "attila4",
                                    "METTOL": "2016-08-18",
                                    "MEDDIG": "2016-08-23",
                                    "(No column name)": "NULL"
                                },
                                {
                                    "USERNEV": "attila4",
                                    "METTOL": "2016-12-31",
                                    "MEDDIG": "2017-01-01",
                                    "(No column name)": "4"
                                },
                                {
                                    "USERNEV": "attila4",
                                    "METTOL": "2017-02-15",
                                    "MEDDIG": "2017-02-22",
                                    "(No column name)": "6"
                                },
                                {
                                    "USERNEV": "ATTILAO",
                                    "METTOL": "2016-05-21",
                                    "MEDDIG": "2016-05-26",
                                    "(No column name)": "NULL"
                                },
                                {
                                    "USERNEV": "ATTILAO",
                                    "METTOL": "2016-06-04",
                                    "MEDDIG": "2016-06-11",
                                    "(No column name)": "3"
                                },
                                {
                                    "USERNEV": "ATTILAO",
                                    "METTOL": "2016-10-30",
                                    "MEDDIG": "2016-11-03",
                                    "(No column name)": "6"
                                },
                                {
                                    "USERNEV": "ATTILAO",
                                    "METTOL": "2017-02-22",
                                    "MEDDIG": "2017-02-25",
                                    "(No column name)": "8"
                                },
                                {
                                    "USERNEV": "balazs1",
                                    "METTOL": "2016-05-07",
                                    "MEDDIG": "2016-05-14",
                                    "(No column name)": "NULL"
                                },
                                {
                                    "USERNEV": "balazs1",
                                    "METTOL": "2016-07-22",
                                    "MEDDIG": "2016-07-26",
                                    "(No column name)": "2"
                                },
                                {
                                    "USERNEV": "balazs1",
                                    "METTOL": "2016-12-26",
                                    "MEDDIG": "2016-12-28",
                                    "(No column name)": "6"
                                },
                                {
                                    "USERNEV": "balazs1",
                                    "METTOL": "2017-01-01",
                                    "MEDDIG": "2017-01-05",
                                    "(No column name)": "9"
                                },
                                {
                                    "USERNEV": "balazs1",
                                    "METTOL": "2017-02-10",
                                    "MEDDIG": "2017-02-14",
                                    "(No column name)": "9"
                                },
                                {
                                    "USERNEV": "balazs1",
                                    "METTOL": "2017-02-12",
                                    "MEDDIG": "2017-02-14",
                                    "(No column name)": "8"
                                },
                                {
                                    "USERNEV": "balazs2",
                                    "METTOL": "2016-04-16",
                                    "MEDDIG": "2016-04-19",
                                    "(No column name)": "NULL"
                                },
                                {
                                    "USERNEV": "balazs2",
                                    "METTOL": "2016-05-22",
                                    "MEDDIG": "2016-05-29",
                                    "(No column name)": "2"
                                },
                                {
                                    "USERNEV": "balazs2",
                                    "METTOL": "2016-05-28",
                                    "MEDDIG": "2016-06-01",
                                    "(No column name)": "5"
                                },
                                {
                                    "USERNEV": "balazs2",
                                    "METTOL": "2016-07-08",
                                    "MEDDIG": "2016-07-12",
                                    "(No column name)": "8"
                                },
                                {
                                    "USERNEV": "balazs2",
                                    "METTOL": "2016-07-10",
                                    "MEDDIG": "2016-07-17",
                                    "(No column name)": "9"
                                },
                                {
                                    "USERNEV": "balazs2",
                                    "METTOL": "2016-07-20",
                                    "MEDDIG": "2016-07-25",
                                    "(No column name)": "9"
                                },
                                {
                                    "USERNEV": "balazs2",
                                    "METTOL": "2016-08-21",
                                    "MEDDIG": "2016-08-22",
                                    "(No column name)": "8"
                                },
                                {
                                    "USERNEV": "balazs2",
                                    "METTOL": "2016-09-12",
                                    "MEDDIG": "2016-09-14",
                                    "(No column name)": "8"
                                },
                                {
                                    "USERNEV": "balazs2",
                                    "METTOL": "2016-11-03",
                                    "MEDDIG": "2016-11-05",
                                    "(No column name)": "8"
                                },
                                {
                                    "USERNEV": "balazs2",
                                    "METTOL": "2017-02-27",
                                    "MEDDIG": "2017-03-06",
                                    "(No column name)": "9"
                                },
                                {
                                    "USERNEV": "balazs3",
                                    "METTOL": "2016-07-17",
                                    "MEDDIG": "2016-07-21",
                                    "(No column name)": "NULL"
                                },
                                {
                                    "USERNEV": "balazs3",
                                    "METTOL": "2016-07-27",
                                    "MEDDIG": "2016-07-31",
                                    "(No column name)": "2"
                                },
                                {
                                    "USERNEV": "balazs3",
                                    "METTOL": "2016-08-24",
                                    "MEDDIG": "2016-08-28",
                                    "(No column name)": "6"
                                },
                                {
                                    "USERNEV": "balazs3",
                                    "METTOL": "2016-09-15",
                                    "MEDDIG": "2016-09-16",
                                    "(No column name)": "9"
                                },
                                {
                                    "USERNEV": "balazs3",
                                    "METTOL": "2016-12-05",
                                    "MEDDIG": "2016-12-11",
                                    "(No column name)": "10"
                                },
                                {
                                    "USERNEV": "balazs3",
                                    "METTOL": "2017-01-20",
                                    "MEDDIG": "2017-01-22",
                                    "(No column name)": "9"
                                },
                                {
                                    "USERNEV": "balint",
                                    "METTOL": "2016-04-22",
                                    "MEDDIG": "2016-04-29",
                                    "(No column name)": "NULL"
                                },
                                {
                                    "USERNEV": "balint",
                                    "METTOL": "2016-10-09",
                                    "MEDDIG": "2016-10-11",
                                    "(No column name)": "2"
                                },
                                {
                                    "USERNEV": "balint",
                                    "METTOL": "2016-11-24",
                                    "MEDDIG": "2016-11-29",
                                    "(No column name)": "4"
                                },
                                {
                                    "USERNEV": "balint1",
                                    "METTOL": "2016-06-07",
                                    "MEDDIG": "2016-06-11",
                                    "(No column name)": "NULL"
                                },
                                {
                                    "USERNEV": "balint1",
                                    "METTOL": "2016-06-07",
                                    "MEDDIG": "2016-06-12",
                                    "(No column name)": "3"
                                },
                                {
                                    "USERNEV": "balint1",
                                    "METTOL": "2016-06-10",
                                    "MEDDIG": "2016-06-12",
                                    "(No column name)": "6"
                                },
                                {
                                    "USERNEV": "balint1",
                                    "METTOL": "2016-07-26",
                                    "MEDDIG": "2016-07-28",
                                    "(No column name)": "7"
                                },
                                {
                                    "USERNEV": "balint1",
                                    "METTOL": "2016-08-03",
                                    "MEDDIG": "2016-08-08",
                                    "(No column name)": "6"
                                },
                                {
                                    "USERNEV": "balint1",
                                    "METTOL": "2016-09-16",
                                    "MEDDIG": "2016-09-21",
                                    "(No column name)": "5"
                                },
                                {
                                    "USERNEV": "balint1",
                                    "METTOL": "2016-11-07",
                                    "MEDDIG": "2016-11-10",
                                    "(No column name)": "5"
                                },
                                {
                                    "USERNEV": "balint1",
                                    "METTOL": "2016-12-17",
                                    "MEDDIG": "2016-12-22",
                                    "(No column name)": "5"
                                },
                                {
                                    "USERNEV": "balint1",
                                    "METTOL": "2016-12-29",
                                    "MEDDIG": "2016-12-31",
                                    "(No column name)": "6"
                                },
                                {
                                    "USERNEV": "balint1",
                                    "METTOL": "2017-01-03",
                                    "MEDDIG": "2017-01-08",
                                    "(No column name)": "8"
                                },
                                {
                                    "USERNEV": "balint2",
                                    "METTOL": "2016-07-21",
                                    "MEDDIG": "2016-07-26",
                                    "(No column name)": "NULL"
                                },
                                {
                                    "USERNEV": "balint2",
                                    "METTOL": "2016-12-04",
                                    "MEDDIG": "2016-12-06",
                                    "(No column name)": "1"
                                },
                                {
                                    "USERNEV": "balu",
                                    "METTOL": "2016-08-06",
                                    "MEDDIG": "2016-08-10",
                                    "(No column name)": "NULL"
                                },
                                {
                                    "USERNEV": "balu",
                                    "METTOL": "2016-12-22",
                                    "MEDDIG": "2016-12-23",
                                    "(No column name)": "2"
                                },
                                {
                                    "USERNEV": "beata4",
                                    "METTOL": "2016-04-20",
                                    "MEDDIG": "2016-04-21",
                                    "(No column name)": "NULL"
                                },
                                {
                                    "USERNEV": "beata4",
                                    "METTOL": "2016-06-03",
                                    "MEDDIG": "2016-06-04",
                                    "(No column name)": "2"
                                },
                                {
                                    "USERNEV": "beata4",
                                    "METTOL": "2016-07-03",
                                    "MEDDIG": "2016-07-06",
                                    "(No column name)": "4"
                                },
                                {
                                    "USERNEV": "beata4",
                                    "METTOL": "2016-08-25",
                                    "MEDDIG": "2016-08-27",
                                    "(No column name)": "5"
                                },
                                {
                                    "USERNEV": "beata4",
                                    "METTOL": "2016-10-01",
                                    "MEDDIG": "2016-10-05",
                                    "(No column name)": "6"
                                },
                                {
                                    "USERNEV": "beata4",
                                    "METTOL": "2016-10-03",
                                    "MEDDIG": "2016-10-06",
                                    "(No column name)": "5"
                                },
                                {
                                    "USERNEV": "BEATRIXK",
                                    "METTOL": "2016-06-10",
                                    "MEDDIG": "2016-06-11",
                                    "(No column name)": "NULL"
                                },
                                {
                                    "USERNEV": "BEATRIXK",
                                    "METTOL": "2016-06-10",
                                    "MEDDIG": "2016-06-14",
                                    "(No column name)": "2"
                                },
                                {
                                    "USERNEV": "BEATRIXK",
                                    "METTOL": "2016-06-19",
                                    "MEDDIG": "2016-06-21",
                                    "(No column name)": "4"
                                },
                                {
                                    "USERNEV": "BEATRIXK",
                                    "METTOL": "2016-08-12",
                                    "MEDDIG": "2016-08-18",
                                    "(No column name)": "7"
                                },
                                {
                                    "USERNEV": "BEATRIXK",
                                    "METTOL": "2016-10-23",
                                    "MEDDIG": "2016-10-28",
                                    "(No column name)": "9"
                                },
                                {
                                    "USERNEV": "BEATRIXK",
                                    "METTOL": "2016-11-14",
                                    "MEDDIG": "2016-11-19",
                                    "(No column name)": "9"
                                },
                                {
                                    "USERNEV": "BEATRIXK",
                                    "METTOL": "2016-12-12",
                                    "MEDDIG": "2016-12-14",
                                    "(No column name)": "8"
                                },
                                {
                                    "USERNEV": "BEATRIXK",
                                    "METTOL": "2016-12-17",
                                    "MEDDIG": "2016-12-22",
                                    "(No column name)": "7"
                                },
                                {
                                    "USERNEV": "BEATRIXK",
                                    "METTOL": "2017-02-08",
                                    "MEDDIG": "2017-02-09",
                                    "(No column name)": "9"
                                },
                                {
                                    "USERNEV": "BEATRIXS",
                                    "METTOL": "2016-04-18",
                                    "MEDDIG": "2016-04-24",
                                    "(No column name)": "NULL"
                                },
                                {
                                    "USERNEV": "BEATRIXS",
                                    "METTOL": "2016-06-11",
                                    "MEDDIG": "2016-06-14",
                                    "(No column name)": "1"
                                },
                                {
                                    "USERNEV": "BEATRIXS",
                                    "METTOL": "2016-10-01",
                                    "MEDDIG": "2016-10-03",
                                    "(No column name)": "4"
                                },
                                {
                                    "USERNEV": "BEATRIXS",
                                    "METTOL": "2016-10-01",
                                    "MEDDIG": "2016-10-05",
                                    "(No column name)": "7"
                                },
                                {
                                    "USERNEV": "BEATRIXS",
                                    "METTOL": "2016-12-21",
                                    "MEDDIG": "2016-12-27",
                                    "(No column name)": "9"
                                },
                                {
                                    "USERNEV": "BEATRIXS",
                                    "METTOL": "2017-02-03",
                                    "MEDDIG": "2017-02-04",
                                    "(No column name)": "8"
                                },
                                {
                                    "USERNEV": "BELAF",
                                    "METTOL": "2016-07-27",
                                    "MEDDIG": "2016-07-30",
                                    "(No column name)": "NULL"
                                },
                                {
                                    "USERNEV": "BELAF",
                                    "METTOL": "2016-07-29",
                                    "MEDDIG": "2016-07-31",
                                    "(No column name)": "3"
                                },
                                {
                                    "USERNEV": "BELAF",
                                    "METTOL": "2016-08-29",
                                    "MEDDIG": "2016-08-31",
                                    "(No column name)": "5"
                                },
                                {
                                    "USERNEV": "BELAF",
                                    "METTOL": "2016-11-03",
                                    "MEDDIG": "2016-11-09",
                                    "(No column name)": "7"
                                },
                                {
                                    "USERNEV": "BELAF",
                                    "METTOL": "2016-12-02",
                                    "MEDDIG": "2016-12-04",
                                    "(No column name)": "8"
                                },
                                {
                                    "USERNEV": "BELAF",
                                    "METTOL": "2016-12-06",
                                    "MEDDIG": "2016-12-09",
                                    "(No column name)": "9"
                                },
                                {
                                    "USERNEV": "bence",
                                    "METTOL": "2016-05-08",
                                    "MEDDIG": "2016-05-11",
                                    "(No column name)": "NULL"
                                },
                                {
                                    "USERNEV": "bence",
                                    "METTOL": "2016-05-29",
                                    "MEDDIG": "2016-06-03",
                                    "(No column name)": "2"
                                },
                                {
                                    "USERNEV": "bence",
                                    "METTOL": "2016-07-24",
                                    "MEDDIG": "2016-07-30",
                                    "(No column name)": "3"
                                },
                                {
                                    "USERNEV": "bence",
                                    "METTOL": "2016-07-25",
                                    "MEDDIG": "2016-08-01",
                                    "(No column name)": "5"
                                },
                                {
                                    "USERNEV": "bence",
                                    "METTOL": "2016-09-03",
                                    "MEDDIG": "2016-09-06",
                                    "(No column name)": "6"
                                },
                                {
                                    "USERNEV": "bence",
                                    "METTOL": "2016-10-30",
                                    "MEDDIG": "2016-11-02",
                                    "(No column name)": "8"
                                },
                                {
                                    "USERNEV": "bence",
                                    "METTOL": "2016-12-17",
                                    "MEDDIG": "2016-12-18",
                                    "(No column name)": "10"
                                },
                                {
                                    "USERNEV": "bence",
                                    "METTOL": "2016-12-26",
                                    "MEDDIG": "2016-12-27",
                                    "(No column name)": "9"
                                },
                                {
                                    "USERNEV": "bence",
                                    "METTOL": "2017-02-05",
                                    "MEDDIG": "2017-02-09",
                                    "(No column name)": "8"
                                },
                                {
                                    "USERNEV": "BENCEB",
                                    "METTOL": "2016-05-14",
                                    "MEDDIG": "2016-05-17",
                                    "(No column name)": "NULL"
                                },
                                {
                                    "USERNEV": "BENCEB",
                                    "METTOL": "2016-06-03",
                                    "MEDDIG": "2016-06-09",
                                    "(No column name)": "3"
                                },
                                {
                                    "USERNEV": "BENCEB",
                                    "METTOL": "2016-08-01",
                                    "MEDDIG": "2016-08-02",
                                    "(No column name)": "5"
                                },
                                {
                                    "USERNEV": "BENCEB",
                                    "METTOL": "2016-10-22",
                                    "MEDDIG": "2016-10-29",
                                    "(No column name)": "7"
                                },
                                {
                                    "USERNEV": "BENCEB",
                                    "METTOL": "2016-11-28",
                                    "MEDDIG": "2016-12-02",
                                    "(No column name)": "7"
                                },
                                {
                                    "USERNEV": "BENCEB",
                                    "METTOL": "2017-02-12",
                                    "MEDDIG": "2017-02-19",
                                    "(No column name)": "7"
                                },
                                {
                                    "USERNEV": "bernadett1",
                                    "METTOL": "2016-06-12",
                                    "MEDDIG": "2016-06-17",
                                    "(No column name)": "NULL"
                                },
                                {
                                    "USERNEV": "bernadett1",
                                    "METTOL": "2016-10-08",
                                    "MEDDIG": "2016-10-09",
                                    "(No column name)": "3"
                                },
                                {
                                    "USERNEV": "bernadett1",
                                    "METTOL": "2016-10-15",
                                    "MEDDIG": "2016-10-22",
                                    "(No column name)": "7"
                                },
                                {
                                    "USERNEV": "bernadett1",
                                    "METTOL": "2016-10-26",
                                    "MEDDIG": "2016-11-02",
                                    "(No column name)": "10"
                                },
                                {
                                    "USERNEV": "bernadett1",
                                    "METTOL": "2016-10-28",
                                    "MEDDIG": "2016-11-01",
                                    "(No column name)": "10"
                                },
                                {
                                    "USERNEV": "bernadett1",
                                    "METTOL": "2017-02-14",
                                    "MEDDIG": "2017-02-15",
                                    "(No column name)": "9"
                                },
                                {
                                    "USERNEV": "bernadett1",
                                    "METTOL": "2017-02-24",
                                    "MEDDIG": "2017-03-03",
                                    "(No column name)": "9"
                                },
                                {
                                    "USERNEV": "bernadett2",
                                    "METTOL": "2016-05-01",
                                    "MEDDIG": "2016-05-03",
                                    "(No column name)": "NULL"
                                },
                                {
                                    "USERNEV": "bernadett2",
                                    "METTOL": "2016-06-17",
                                    "MEDDIG": "2016-06-23",
                                    "(No column name)": "2"
                                },
                                {
                                    "USERNEV": "bernadett2",
                                    "METTOL": "2016-08-23",
                                    "MEDDIG": "2016-08-29",
                                    "(No column name)": "5"
                                },
                                {
                                    "USERNEV": "bernadett2",
                                    "METTOL": "2016-08-25",
                                    "MEDDIG": "2016-08-27",
                                    "(No column name)": "7"
                                },
                                {
                                    "USERNEV": "bernadett2",
                                    "METTOL": "2016-09-07",
                                    "MEDDIG": "2016-09-13",
                                    "(No column name)": "8"
                                },
                                {
                                    "USERNEV": "bernadett2",
                                    "METTOL": "2016-10-30",
                                    "MEDDIG": "2016-11-06",
                                    "(No column name)": "8"
                                },
                                {
                                    "USERNEV": "bernadett2",
                                    "METTOL": "2016-12-17",
                                    "MEDDIG": "2016-12-20",
                                    "(No column name)": "9"
                                },
                                {
                                    "USERNEV": "bernadett2",
                                    "METTOL": "2017-01-24",
                                    "MEDDIG": "2017-01-30",
                                    "(No column name)": "7"
                                },
                                {
                                    "USERNEV": "BERNADETTO",
                                    "METTOL": "2016-04-10",
                                    "MEDDIG": "2016-04-17",
                                    "(No column name)": "NULL"
                                },
                                {
                                    "USERNEV": "BERNADETTO",
                                    "METTOL": "2016-04-17",
                                    "MEDDIG": "2016-04-19",
                                    "(No column name)": "2"
                                },
                                {
                                    "USERNEV": "BERNADETTO",
                                    "METTOL": "2016-06-07",
                                    "MEDDIG": "2016-06-13",
                                    "(No column name)": "4"
                                },
                                {
                                    "USERNEV": "BERNADETTO",
                                    "METTOL": "2016-06-10",
                                    "MEDDIG": "2016-06-16",
                                    "(No column name)": "7"
                                },
                                {
                                    "USERNEV": "BERNADETTO",
                                    "METTOL": "2016-10-04",
                                    "MEDDIG": "2016-10-05",
                                    "(No column name)": "9"
                                },
                                {
                                    "USERNEV": "BERNADETTO",
                                    "METTOL": "2017-01-01",
                                    "MEDDIG": "2017-01-02",
                                    "(No column name)": "9"
                                },
                                {
                                    "USERNEV": "BERNADETTO",
                                    "METTOL": "2017-01-28",
                                    "MEDDIG": "2017-02-03",
                                    "(No column name)": "9"
                                },
                                {
                                    "USERNEV": "bertalan",
                                    "METTOL": "2016-05-18",
                                    "MEDDIG": "2016-05-23",
                                    "(No column name)": "NULL"
                                },
                                {
                                    "USERNEV": "bertalan",
                                    "METTOL": "2016-06-20",
                                    "MEDDIG": "2016-06-21",
                                    "(No column name)": "2"
                                },
                                {
                                    "USERNEV": "bertalan",
                                    "METTOL": "2016-11-03",
                                    "MEDDIG": "2016-11-10",
                                    "(No column name)": "3"
                                },
                                {
                                    "USERNEV": "bertalan",
                                    "METTOL": "2016-11-26",
                                    "MEDDIG": "2016-11-29",
                                    "(No column name)": "5"
                                },
                                {
                                    "USERNEV": "bertalan",
                                    "METTOL": "2017-02-16",
                                    "MEDDIG": "2017-02-22",
                                    "(No column name)": "6"
                                },
                                {
                                    "USERNEV": "bertalan",
                                    "METTOL": "2017-02-20",
                                    "MEDDIG": "2017-02-24",
                                    "(No column name)": "7"
                                },
                                {
                                    "USERNEV": "brigitta",
                                    "METTOL": "2016-05-30",
                                    "MEDDIG": "2016-06-06",
                                    "(No column name)": "NULL"
                                },
                                {
                                    "USERNEV": "brigitta",
                                    "METTOL": "2016-08-28",
                                    "MEDDIG": "2016-09-01",
                                    "(No column name)": "3"
                                },
                                {
                                    "USERNEV": "brigitta",
                                    "METTOL": "2016-10-21",
                                    "MEDDIG": "2016-10-28",
                                    "(No column name)": "6"
                                },
                                {
                                    "USERNEV": "brigitta",
                                    "METTOL": "2016-12-17",
                                    "MEDDIG": "2016-12-22",
                                    "(No column name)": "9"
                                },
                                {
                                    "USERNEV": "brigitta",
                                    "METTOL": "2017-01-23",
                                    "MEDDIG": "2017-01-25",
                                    "(No column name)": "8"
                                },
                                {
                                    "USERNEV": "brigitta3",
                                    "METTOL": "2016-06-01",
                                    "MEDDIG": "2016-06-05",
                                    "(No column name)": "NULL"
                                },
                                {
                                    "USERNEV": "brigitta3",
                                    "METTOL": "2016-06-13",
                                    "MEDDIG": "2016-06-17",
                                    "(No column name)": "2"
                                },
                                {
                                    "USERNEV": "brigitta3",
                                    "METTOL": "2016-10-10",
                                    "MEDDIG": "2016-10-14",
                                    "(No column name)": "5"
                                },
                                {
                                    "USERNEV": "brigitta3",
                                    "METTOL": "2016-11-03",
                                    "MEDDIG": "2016-11-09",
                                    "(No column name)": "7"
                                },
                                {
                                    "USERNEV": "brigitta3",
                                    "METTOL": "2017-02-09",
                                    "MEDDIG": "2017-02-16",
                                    "(No column name)": "8"
                                },
                                {
                                    "USERNEV": "csongor3",
                                    "METTOL": "2016-05-01",
                                    "MEDDIG": "2016-05-04",
                                    "(No column name)": "NULL"
                                },
                                {
                                    "USERNEV": "csongor3",
                                    "METTOL": "2016-05-08",
                                    "MEDDIG": "2016-05-15",
                                    "(No column name)": "2"
                                },
                                {
                                    "USERNEV": "csongor3",
                                    "METTOL": "2016-06-04",
                                    "MEDDIG": "2016-06-05",
                                    "(No column name)": "5"
                                },
                                {
                                    "USERNEV": "csongor3",
                                    "METTOL": "2016-06-10",
                                    "MEDDIG": "2016-06-17",
                                    "(No column name)": "7"
                                },
                                {
                                    "USERNEV": "csongor3",
                                    "METTOL": "2016-06-11",
                                    "MEDDIG": "2016-06-14",
                                    "(No column name)": "8"
                                },
                                {
                                    "USERNEV": "csongor3",
                                    "METTOL": "2016-07-09",
                                    "MEDDIG": "2016-07-10",
                                    "(No column name)": "7"
                                },
                                {
                                    "USERNEV": "csongor3",
                                    "METTOL": "2016-11-12",
                                    "MEDDIG": "2016-11-17",
                                    "(No column name)": "9"
                                },
                                {
                                    "USERNEV": "csongor3",
                                    "METTOL": "2017-02-13",
                                    "MEDDIG": "2017-02-19",
                                    "(No column name)": "9"
                                },
                                {
                                    "USERNEV": "dani",
                                    "METTOL": "2016-06-06",
                                    "MEDDIG": "2016-06-10",
                                    "(No column name)": "NULL"
                                },
                                {
                                    "USERNEV": "dani",
                                    "METTOL": "2016-07-11",
                                    "MEDDIG": "2016-07-12",
                                    "(No column name)": "3"
                                },
                                {
                                    "USERNEV": "dani",
                                    "METTOL": "2016-08-06",
                                    "MEDDIG": "2016-08-09",
                                    "(No column name)": "6"
                                },
                                {
                                    "USERNEV": "dani",
                                    "METTOL": "2016-09-19",
                                    "MEDDIG": "2016-09-25",
                                    "(No column name)": "8"
                                },
                                {
                                    "USERNEV": "dani",
                                    "METTOL": "2016-10-01",
                                    "MEDDIG": "2016-10-02",
                                    "(No column name)": "9"
                                },
                                {
                                    "USERNEV": "dani",
                                    "METTOL": "2016-11-22",
                                    "MEDDIG": "2016-11-24",
                                    "(No column name)": "7"
                                },
                                {
                                    "USERNEV": "dani",
                                    "METTOL": "2017-01-17",
                                    "MEDDIG": "2017-01-23",
                                    "(No column name)": "7"
                                },
                                {
                                    "USERNEV": "dani",
                                    "METTOL": "2017-01-22",
                                    "MEDDIG": "2017-01-29",
                                    "(No column name)": "5"
                                },
                                {
                                    "USERNEV": "dani",
                                    "METTOL": "2017-02-25",
                                    "MEDDIG": "2017-03-01",
                                    "(No column name)": "5"
                                },
                                {
                                    "USERNEV": "daniel",
                                    "METTOL": "2016-04-10",
                                    "MEDDIG": "2016-04-11",
                                    "(No column name)": "NULL"
                                },
                                {
                                    "USERNEV": "daniel",
                                    "METTOL": "2016-04-22",
                                    "MEDDIG": "2016-04-25",
                                    "(No column name)": "4"
                                },
                                {
                                    "USERNEV": "daniel",
                                    "METTOL": "2016-05-09",
                                    "MEDDIG": "2016-05-13",
                                    "(No column name)": "6"
                                },
                                {
                                    "USERNEV": "daniel",
                                    "METTOL": "2016-09-08",
                                    "MEDDIG": "2016-09-10",
                                    "(No column name)": "9"
                                },
                                {
                                    "USERNEV": "daniel",
                                    "METTOL": "2016-11-13",
                                    "MEDDIG": "2016-11-19",
                                    "(No column name)": "9"
                                },
                                {
                                    "USERNEV": "daniel",
                                    "METTOL": "2016-12-25",
                                    "MEDDIG": "2016-12-26",
                                    "(No column name)": "10"
                                },
                                {
                                    "USERNEV": "daniel",
                                    "METTOL": "2017-01-09",
                                    "MEDDIG": "2017-01-11",
                                    "(No column name)": "10"
                                },
                                {
                                    "USERNEV": "daniel",
                                    "METTOL": "2017-02-12",
                                    "MEDDIG": "2017-02-13",
                                    "(No column name)": "7"
                                },
                                {
                                    "USERNEV": "daniel",
                                    "METTOL": "2017-02-20",
                                    "MEDDIG": "2017-02-23",
                                    "(No column name)": "7"
                                },
                                {
                                    "USERNEV": "daniel1",
                                    "METTOL": "2016-04-10",
                                    "MEDDIG": "2016-04-15",
                                    "(No column name)": "NULL"
                                },
                                {
                                    "USERNEV": "daniel1",
                                    "METTOL": "2016-05-10",
                                    "MEDDIG": "2016-05-13",
                                    "(No column name)": "2"
                                },
                                {
                                    "USERNEV": "daniel1",
                                    "METTOL": "2016-05-26",
                                    "MEDDIG": "2016-05-27",
                                    "(No column name)": "6"
                                },
                                {
                                    "USERNEV": "daniel1",
                                    "METTOL": "2016-11-09",
                                    "MEDDIG": "2016-11-11",
                                    "(No column name)": "9"
                                },
                                {
                                    "USERNEV": "daniel1",
                                    "METTOL": "2016-11-23",
                                    "MEDDIG": "2016-11-25",
                                    "(No column name)": "9"
                                },
                                {
                                    "USERNEV": "daniel1",
                                    "METTOL": "2017-01-05",
                                    "MEDDIG": "2017-01-08",
                                    "(No column name)": "7"
                                },
                                {
                                    "USERNEV": "daniel1",
                                    "METTOL": "2017-03-01",
                                    "MEDDIG": "2017-03-06",
                                    "(No column name)": "7"
                                },
                                {
                                    "USERNEV": "david",
                                    "METTOL": "2016-05-18",
                                    "MEDDIG": "2016-05-25",
                                    "(No column name)": "NULL"
                                },
                                {
                                    "USERNEV": "david",
                                    "METTOL": "2016-06-09",
                                    "MEDDIG": "2016-06-10",
                                    "(No column name)": "2"
                                },
                                {
                                    "USERNEV": "david",
                                    "METTOL": "2016-06-30",
                                    "MEDDIG": "2016-07-07",
                                    "(No column name)": "4"
                                },
                                {
                                    "USERNEV": "david",
                                    "METTOL": "2016-07-18",
                                    "MEDDIG": "2016-07-21",
                                    "(No column name)": "6"
                                },
                                {
                                    "USERNEV": "david",
                                    "METTOL": "2016-08-05",
                                    "MEDDIG": "2016-08-12",
                                    "(No column name)": "6"
                                },
                                {
                                    "USERNEV": "david",
                                    "METTOL": "2016-08-20",
                                    "MEDDIG": "2016-08-25",
                                    "(No column name)": "5"
                                },
                                {
                                    "USERNEV": "david",
                                    "METTOL": "2016-08-22",
                                    "MEDDIG": "2016-08-24",
                                    "(No column name)": "6"
                                },
                                {
                                    "USERNEV": "david",
                                    "METTOL": "2016-10-30",
                                    "MEDDIG": "2016-11-04",
                                    "(No column name)": "7"
                                },
                                {
                                    "USERNEV": "david",
                                    "METTOL": "2017-01-18",
                                    "MEDDIG": "2017-01-19",
                                    "(No column name)": "8"
                                },
                                {
                                    "USERNEV": "david1",
                                    "METTOL": "2016-09-20",
                                    "MEDDIG": "2016-09-21",
                                    "(No column name)": "NULL"
                                },
                                {
                                    "USERNEV": "david1",
                                    "METTOL": "2016-10-01",
                                    "MEDDIG": "2016-10-02",
                                    "(No column name)": "2"
                                },
                                {
                                    "USERNEV": "david1",
                                    "METTOL": "2016-11-19",
                                    "MEDDIG": "2016-11-22",
                                    "(No column name)": "4"
                                },
                                {
                                    "USERNEV": "david1",
                                    "METTOL": "2016-12-30",
                                    "MEDDIG": "2017-01-06",
                                    "(No column name)": "6"
                                },
                                {
                                    "USERNEV": "david1",
                                    "METTOL": "2017-02-17",
                                    "MEDDIG": "2017-02-20",
                                    "(No column name)": "6"
                                },
                                {
                                    "USERNEV": "david1",
                                    "METTOL": "2017-02-25",
                                    "MEDDIG": "2017-02-27",
                                    "(No column name)": "7"
                                },
                                {
                                    "USERNEV": "david4",
                                    "METTOL": "2017-02-16",
                                    "MEDDIG": "2017-02-19",
                                    "(No column name)": "NULL"
                                },
                                {
                                    "USERNEV": "debora",
                                    "METTOL": "2016-06-22",
                                    "MEDDIG": "2016-06-24",
                                    "(No column name)": "NULL"
                                },
                                {
                                    "USERNEV": "debora",
                                    "METTOL": "2016-10-29",
                                    "MEDDIG": "2016-11-03",
                                    "(No column name)": "5"
                                },
                                {
                                    "USERNEV": "debora",
                                    "METTOL": "2017-01-23",
                                    "MEDDIG": "2017-01-28",
                                    "(No column name)": "7"
                                },
                                {
                                    "USERNEV": "debora",
                                    "METTOL": "2017-02-04",
                                    "MEDDIG": "2017-02-06",
                                    "(No column name)": "10"
                                },
                                {
                                    "USERNEV": "denes",
                                    "METTOL": "2016-05-27",
                                    "MEDDIG": "2016-05-31",
                                    "(No column name)": "NULL"
                                },
                                {
                                    "USERNEV": "denes",
                                    "METTOL": "2016-07-19",
                                    "MEDDIG": "2016-07-23",
                                    "(No column name)": "3"
                                },
                                {
                                    "USERNEV": "denes",
                                    "METTOL": "2016-08-01",
                                    "MEDDIG": "2016-08-08",
                                    "(No column name)": "5"
                                },
                                {
                                    "USERNEV": "denes",
                                    "METTOL": "2016-08-16",
                                    "MEDDIG": "2016-08-23",
                                    "(No column name)": "8"
                                },
                                {
                                    "USERNEV": "denes",
                                    "METTOL": "2016-08-20",
                                    "MEDDIG": "2016-08-27",
                                    "(No column name)": "7"
                                },
                                {
                                    "USERNEV": "denes",
                                    "METTOL": "2016-11-06",
                                    "MEDDIG": "2016-11-10",
                                    "(No column name)": "8"
                                },
                                {
                                    "USERNEV": "dora3",
                                    "METTOL": "2016-08-16",
                                    "MEDDIG": "2016-08-19",
                                    "(No column name)": "NULL"
                                },
                                {
                                    "USERNEV": "dora3",
                                    "METTOL": "2016-08-25",
                                    "MEDDIG": "2016-08-29",
                                    "(No column name)": "4"
                                },
                                {
                                    "USERNEV": "dora3",
                                    "METTOL": "2016-10-09",
                                    "MEDDIG": "2016-10-12",
                                    "(No column name)": "7"
                                },
                                {
                                    "USERNEV": "dora3",
                                    "METTOL": "2016-10-29",
                                    "MEDDIG": "2016-11-02",
                                    "(No column name)": "10"
                                },
                                {
                                    "USERNEV": "dora3",
                                    "METTOL": "2016-11-22",
                                    "MEDDIG": "2016-11-29",
                                    "(No column name)": "9"
                                },
                                {
                                    "USERNEV": "edit",
                                    "METTOL": "2016-07-14",
                                    "MEDDIG": "2016-07-17",
                                    "(No column name)": "NULL"
                                },
                                {
                                    "USERNEV": "edit",
                                    "METTOL": "2016-08-03",
                                    "MEDDIG": "2016-08-09",
                                    "(No column name)": "3"
                                },
                                {
                                    "USERNEV": "edit",
                                    "METTOL": "2016-08-12",
                                    "MEDDIG": "2016-08-14",
                                    "(No column name)": "7"
                                },
                                {
                                    "USERNEV": "edit",
                                    "METTOL": "2016-09-17",
                                    "MEDDIG": "2016-09-24",
                                    "(No column name)": "9"
                                },
                                {
                                    "USERNEV": "edit",
                                    "METTOL": "2016-09-18",
                                    "MEDDIG": "2016-09-21",
                                    "(No column name)": "8"
                                },
                                {
                                    "USERNEV": "edit",
                                    "METTOL": "2017-01-15",
                                    "MEDDIG": "2017-01-18",
                                    "(No column name)": "7"
                                },
                                {
                                    "USERNEV": "edit",
                                    "METTOL": "2017-02-08",
                                    "MEDDIG": "2017-02-14",
                                    "(No column name)": "9"
                                },
                                {
                                    "USERNEV": "emese",
                                    "METTOL": "2016-07-22",
                                    "MEDDIG": "2016-07-24",
                                    "(No column name)": "NULL"
                                },
                                {
                                    "USERNEV": "emese",
                                    "METTOL": "2016-08-09",
                                    "MEDDIG": "2016-08-12",
                                    "(No column name)": "2"
                                },
                                {
                                    "USERNEV": "emese",
                                    "METTOL": "2016-09-27",
                                    "MEDDIG": "2016-09-28",
                                    "(No column name)": "4"
                                },
                                {
                                    "USERNEV": "emese",
                                    "METTOL": "2016-11-05",
                                    "MEDDIG": "2016-11-09",
                                    "(No column name)": "7"
                                },
                                {
                                    "USERNEV": "emese",
                                    "METTOL": "2016-11-23",
                                    "MEDDIG": "2016-11-27",
                                    "(No column name)": "6"
                                },
                                {
                                    "USERNEV": "emese",
                                    "METTOL": "2016-12-07",
                                    "MEDDIG": "2016-12-08",
                                    "(No column name)": "8"
                                },
                                {
                                    "USERNEV": "emese",
                                    "METTOL": "2017-01-30",
                                    "MEDDIG": "2017-01-31",
                                    "(No column name)": "8"
                                },
                                {
                                    "USERNEV": "eszter",
                                    "METTOL": "2016-08-12",
                                    "MEDDIG": "2016-08-18",
                                    "(No column name)": "NULL"
                                },
                                {
                                    "USERNEV": "eszter",
                                    "METTOL": "2016-10-04",
                                    "MEDDIG": "2016-10-10",
                                    "(No column name)": "3"
                                },
                                {
                                    "USERNEV": "eszter",
                                    "METTOL": "2016-10-26",
                                    "MEDDIG": "2016-11-01",
                                    "(No column name)": "6"
                                },
                                {
                                    "USERNEV": "eszter",
                                    "METTOL": "2016-12-23",
                                    "MEDDIG": "2016-12-28",
                                    "(No column name)": "9"
                                },
                                {
                                    "USERNEV": "eszter2",
                                    "METTOL": "2016-06-30",
                                    "MEDDIG": "2016-07-07",
                                    "(No column name)": "NULL"
                                },
                                {
                                    "USERNEV": "eszter2",
                                    "METTOL": "2016-07-08",
                                    "MEDDIG": "2016-07-09",
                                    "(No column name)": "3"
                                },
                                {
                                    "USERNEV": "eszter2",
                                    "METTOL": "2016-10-01",
                                    "MEDDIG": "2016-10-05",
                                    "(No column name)": "4"
                                },
                                {
                                    "USERNEV": "eszter2",
                                    "METTOL": "2016-10-01",
                                    "MEDDIG": "2016-10-06",
                                    "(No column name)": "7"
                                },
                                {
                                    "USERNEV": "eszter2",
                                    "METTOL": "2016-10-20",
                                    "MEDDIG": "2016-10-25",
                                    "(No column name)": "5"
                                },
                                {
                                    "USERNEV": "eszter2",
                                    "METTOL": "2016-10-23",
                                    "MEDDIG": "2016-10-30",
                                    "(No column name)": "5"
                                },
                                {
                                    "USERNEV": "eszter2",
                                    "METTOL": "2016-11-05",
                                    "MEDDIG": "2016-11-12",
                                    "(No column name)": "3"
                                },
                                {
                                    "USERNEV": "eszter2",
                                    "METTOL": "2016-12-02",
                                    "MEDDIG": "2016-12-07",
                                    "(No column name)": "6"
                                },
                                {
                                    "USERNEV": "eszter2",
                                    "METTOL": "2016-12-05",
                                    "MEDDIG": "2016-12-08",
                                    "(No column name)": "6"
                                },
                                {
                                    "USERNEV": "eszter2",
                                    "METTOL": "2016-12-29",
                                    "MEDDIG": "2017-02-04",
                                    "(No column name)": "7"
                                },
                                {
                                    "USERNEV": "eszter4",
                                    "METTOL": "2017-01-05",
                                    "MEDDIG": "2017-01-10",
                                    "(No column name)": "NULL"
                                },
                                {
                                    "USERNEV": "eszter4",
                                    "METTOL": "2017-01-26",
                                    "MEDDIG": "2017-02-02",
                                    "(No column name)": "2"
                                },
                                {
                                    "USERNEV": "eszter4",
                                    "METTOL": "2017-02-26",
                                    "MEDDIG": "2017-02-27",
                                    "(No column name)": "4"
                                },
                                {
                                    "USERNEV": "ESZTERE",
                                    "METTOL": "2016-05-30",
                                    "MEDDIG": "2016-06-05",
                                    "(No column name)": "NULL"
                                },
                                {
                                    "USERNEV": "ESZTERE",
                                    "METTOL": "2016-07-19",
                                    "MEDDIG": "2016-07-21",
                                    "(No column name)": "2"
                                },
                                {
                                    "USERNEV": "ESZTERE",
                                    "METTOL": "2016-11-01",
                                    "MEDDIG": "2016-11-08",
                                    "(No column name)": "4"
                                },
                                {
                                    "USERNEV": "ESZTERE",
                                    "METTOL": "2017-02-10",
                                    "MEDDIG": "2017-02-14",
                                    "(No column name)": "6"
                                },
                                {
                                    "USERNEV": "eva",
                                    "METTOL": "2016-10-06",
                                    "MEDDIG": "2016-10-09",
                                    "(No column name)": "NULL"
                                },
                                {
                                    "USERNEV": "eva",
                                    "METTOL": "2017-01-14",
                                    "MEDDIG": "2017-01-16",
                                    "(No column name)": "3"
                                },
                                {
                                    "USERNEV": "eva2",
                                    "METTOL": "2016-09-02",
                                    "MEDDIG": "2016-09-03",
                                    "(No column name)": "NULL"
                                },
                                {
                                    "USERNEV": "eva2",
                                    "METTOL": "2016-11-06",
                                    "MEDDIG": "2016-11-13",
                                    "(No column name)": "1"
                                },
                                {
                                    "USERNEV": "eva2",
                                    "METTOL": "2016-12-06",
                                    "MEDDIG": "2016-12-11",
                                    "(No column name)": "3"
                                },
                                {
                                    "USERNEV": "eva2",
                                    "METTOL": "2017-01-06",
                                    "MEDDIG": "2017-01-09",
                                    "(No column name)": "5"
                                },
                                {
                                    "USERNEV": "EVAV",
                                    "METTOL": "2016-05-01",
                                    "MEDDIG": "2016-05-05",
                                    "(No column name)": "NULL"
                                },
                                {
                                    "USERNEV": "EVAV",
                                    "METTOL": "2016-08-31",
                                    "MEDDIG": "2016-09-04",
                                    "(No column name)": "3"
                                },
                                {
                                    "USERNEV": "EVAV",
                                    "METTOL": "2016-10-15",
                                    "MEDDIG": "2016-10-21",
                                    "(No column name)": "5"
                                },
                                {
                                    "USERNEV": "EVAV",
                                    "METTOL": "2016-10-16",
                                    "MEDDIG": "2016-10-23",
                                    "(No column name)": "8"
                                },
                                {
                                    "USERNEV": "EVAV",
                                    "METTOL": "2017-02-04",
                                    "MEDDIG": "2017-02-11",
                                    "(No column name)": "7"
                                },
                                {
                                    "USERNEV": "ferenc1",
                                    "METTOL": "2016-05-08",
                                    "MEDDIG": "2016-05-11",
                                    "(No column name)": "NULL"
                                },
                                {
                                    "USERNEV": "ferenc1",
                                    "METTOL": "2016-06-16",
                                    "MEDDIG": "2016-06-22",
                                    "(No column name)": "2"
                                },
                                {
                                    "USERNEV": "ferenc1",
                                    "METTOL": "2016-10-08",
                                    "MEDDIG": "2016-10-09",
                                    "(No column name)": "4"
                                },
                                {
                                    "USERNEV": "ferenc1",
                                    "METTOL": "2016-11-07",
                                    "MEDDIG": "2016-11-08",
                                    "(No column name)": "6"
                                },
                                {
                                    "USERNEV": "fruzsina4",
                                    "METTOL": "2016-06-02",
                                    "MEDDIG": "2016-06-04",
                                    "(No column name)": "NULL"
                                },
                                {
                                    "USERNEV": "fruzsina4",
                                    "METTOL": "2016-07-01",
                                    "MEDDIG": "2016-07-04",
                                    "(No column name)": "2"
                                },
                                {
                                    "USERNEV": "fruzsina4",
                                    "METTOL": "2016-07-13",
                                    "MEDDIG": "2016-07-19",
                                    "(No column name)": "5"
                                },
                                {
                                    "USERNEV": "fruzsina4",
                                    "METTOL": "2016-08-27",
                                    "MEDDIG": "2016-08-30",
                                    "(No column name)": "8"
                                },
                                {
                                    "USERNEV": "fruzsina4",
                                    "METTOL": "2016-09-29",
                                    "MEDDIG": "2016-10-01",
                                    "(No column name)": "10"
                                },
                                {
                                    "USERNEV": "fruzsina4",
                                    "METTOL": "2016-11-22",
                                    "MEDDIG": "2016-11-24",
                                    "(No column name)": "10"
                                },
                                {
                                    "USERNEV": "fruzsina4",
                                    "METTOL": "2016-12-16",
                                    "MEDDIG": "2016-12-21",
                                    "(No column name)": "9"
                                },
                                {
                                    "USERNEV": "fruzsina4",
                                    "METTOL": "2017-01-22",
                                    "MEDDIG": "2017-01-25",
                                    "(No column name)": "6"
                                },
                                {
                                    "USERNEV": "gabor1",
                                    "METTOL": "2016-06-20",
                                    "MEDDIG": "2016-06-21",
                                    "(No column name)": "NULL"
                                },
                                {
                                    "USERNEV": "gabor1",
                                    "METTOL": "2016-07-12",
                                    "MEDDIG": "2016-07-15",
                                    "(No column name)": "4"
                                },
                                {
                                    "USERNEV": "gabor1",
                                    "METTOL": "2016-07-28",
                                    "MEDDIG": "2016-07-30",
                                    "(No column name)": "5"
                                },
                                {
                                    "USERNEV": "gabor1",
                                    "METTOL": "2016-09-02",
                                    "MEDDIG": "2016-09-03",
                                    "(No column name)": "7"
                                },
                                {
                                    "USERNEV": "gabor1",
                                    "METTOL": "2016-10-20",
                                    "MEDDIG": "2016-10-24",
                                    "(No column name)": "6"
                                },
                                {
                                    "USERNEV": "gabor1",
                                    "METTOL": "2016-11-19",
                                    "MEDDIG": "2016-11-22",
                                    "(No column name)": "6"
                                },
                                {
                                    "USERNEV": "gabor4",
                                    "METTOL": "2016-04-26",
                                    "MEDDIG": "2016-04-29",
                                    "(No column name)": "NULL"
                                },
                                {
                                    "USERNEV": "gabor4",
                                    "METTOL": "2016-05-30",
                                    "MEDDIG": "2016-06-05",
                                    "(No column name)": "3"
                                },
                                {
                                    "USERNEV": "gabor4",
                                    "METTOL": "2016-08-31",
                                    "MEDDIG": "2016-09-06",
                                    "(No column name)": "4"
                                },
                                {
                                    "USERNEV": "gabor4",
                                    "METTOL": "2016-11-07",
                                    "MEDDIG": "2016-11-13",
                                    "(No column name)": "8"
                                },
                                {
                                    "USERNEV": "gabriella1",
                                    "METTOL": "2016-04-21",
                                    "MEDDIG": "2016-04-24",
                                    "(No column name)": "NULL"
                                },
                                {
                                    "USERNEV": "gabriella1",
                                    "METTOL": "2016-07-10",
                                    "MEDDIG": "2016-07-11",
                                    "(No column name)": "3"
                                },
                                {
                                    "USERNEV": "gabriella1",
                                    "METTOL": "2016-07-24",
                                    "MEDDIG": "2016-07-31",
                                    "(No column name)": "6"
                                },
                                {
                                    "USERNEV": "gabriella1",
                                    "METTOL": "2017-02-04",
                                    "MEDDIG": "2017-02-11",
                                    "(No column name)": "8"
                                },
                                {
                                    "USERNEV": "gabriella1",
                                    "METTOL": "2017-02-12",
                                    "MEDDIG": "2017-02-13",
                                    "(No column name)": "8"
                                },
                                {
                                    "USERNEV": "gabriella1",
                                    "METTOL": "2017-02-21",
                                    "MEDDIG": "2017-02-27",
                                    "(No column name)": "7"
                                },
                                {
                                    "USERNEV": "gabriella10",
                                    "METTOL": "2016-10-01",
                                    "MEDDIG": "2016-10-06",
                                    "(No column name)": "NULL"
                                },
                                {
                                    "USERNEV": "georgij",
                                    "METTOL": "2016-06-16",
                                    "MEDDIG": "2016-06-20",
                                    "(No column name)": "NULL"
                                },
                                {
                                    "USERNEV": "georgij",
                                    "METTOL": "2016-08-16",
                                    "MEDDIG": "2016-08-22",
                                    "(No column name)": "3"
                                },
                                {
                                    "USERNEV": "georgij",
                                    "METTOL": "2016-08-28",
                                    "MEDDIG": "2016-09-04",
                                    "(No column name)": "7"
                                },
                                {
                                    "USERNEV": "georgij",
                                    "METTOL": "2016-09-18",
                                    "MEDDIG": "2016-09-24",
                                    "(No column name)": "9"
                                },
                                {
                                    "USERNEV": "gusztav",
                                    "METTOL": "2016-05-06",
                                    "MEDDIG": "2016-05-13",
                                    "(No column name)": "NULL"
                                },
                                {
                                    "USERNEV": "gusztav",
                                    "METTOL": "2016-08-05",
                                    "MEDDIG": "2016-08-11",
                                    "(No column name)": "2"
                                },
                                {
                                    "USERNEV": "gusztav",
                                    "METTOL": "2016-10-01",
                                    "MEDDIG": "2016-10-03",
                                    "(No column name)": "5"
                                },
                                {
                                    "USERNEV": "gusztav",
                                    "METTOL": "2017-02-03",
                                    "MEDDIG": "2017-02-09",
                                    "(No column name)": "8"
                                },
                                {
                                    "USERNEV": "gusztav",
                                    "METTOL": "2017-02-23",
                                    "MEDDIG": "2017-03-01",
                                    "(No column name)": "8"
                                },
                                {
                                    "USERNEV": "GYONGYIK",
                                    "METTOL": "2016-06-02",
                                    "MEDDIG": "2016-06-05",
                                    "(No column name)": "NULL"
                                },
                                {
                                    "USERNEV": "GYONGYIK",
                                    "METTOL": "2016-06-10",
                                    "MEDDIG": "2016-06-17",
                                    "(No column name)": "3"
                                },
                                {
                                    "USERNEV": "GYONGYIK",
                                    "METTOL": "2016-07-01",
                                    "MEDDIG": "2016-07-05",
                                    "(No column name)": "4"
                                },
                                {
                                    "USERNEV": "GYONGYIK",
                                    "METTOL": "2016-08-17",
                                    "MEDDIG": "2016-08-21",
                                    "(No column name)": "6"
                                },
                                {
                                    "USERNEV": "GYONGYIK",
                                    "METTOL": "2016-11-08",
                                    "MEDDIG": "2016-11-13",
                                    "(No column name)": "6"
                                },
                                {
                                    "USERNEV": "GYONGYIK",
                                    "METTOL": "2016-12-01",
                                    "MEDDIG": "2016-12-08",
                                    "(No column name)": "7"
                                },
                                {
                                    "USERNEV": "GYONGYIK",
                                    "METTOL": "2017-01-22",
                                    "MEDDIG": "2017-01-29",
                                    "(No column name)": "7"
                                },
                                {
                                    "USERNEV": "GYORGYO",
                                    "METTOL": "2016-05-27",
                                    "MEDDIG": "2016-05-28",
                                    "(No column name)": "NULL"
                                },
                                {
                                    "USERNEV": "GYORGYO",
                                    "METTOL": "2016-06-01",
                                    "MEDDIG": "2016-06-07",
                                    "(No column name)": "3"
                                },
                                {
                                    "USERNEV": "GYORGYO",
                                    "METTOL": "2016-06-10",
                                    "MEDDIG": "2016-06-15",
                                    "(No column name)": "5"
                                },
                                {
                                    "USERNEV": "GYORGYO",
                                    "METTOL": "2016-07-18",
                                    "MEDDIG": "2016-07-25",
                                    "(No column name)": "7"
                                },
                                {
                                    "USERNEV": "GYORGYO",
                                    "METTOL": "2016-07-28",
                                    "MEDDIG": "2016-08-03",
                                    "(No column name)": "6"
                                },
                                {
                                    "USERNEV": "GYORGYO",
                                    "METTOL": "2016-10-28",
                                    "MEDDIG": "2016-10-31",
                                    "(No column name)": "7"
                                },
                                {
                                    "USERNEV": "GYORGYO",
                                    "METTOL": "2017-02-13",
                                    "MEDDIG": "2017-02-15",
                                    "(No column name)": "6"
                                },
                                {
                                    "USERNEV": "GYORGYO",
                                    "METTOL": "2017-02-24",
                                    "MEDDIG": "2017-02-25",
                                    "(No column name)": "6"
                                },
                                {
                                    "USERNEV": "henrik3",
                                    "METTOL": "2016-08-24",
                                    "MEDDIG": "2016-08-28",
                                    "(No column name)": "NULL"
                                },
                                {
                                    "USERNEV": "henrik3",
                                    "METTOL": "2016-12-29",
                                    "MEDDIG": "2017-01-03",
                                    "(No column name)": "1"
                                },
                                {
                                    "USERNEV": "henrik3",
                                    "METTOL": "2017-01-27",
                                    "MEDDIG": "2017-01-28",
                                    "(No column name)": "4"
                                },
                                {
                                    "USERNEV": "IBOLYAA",
                                    "METTOL": "2016-08-29",
                                    "MEDDIG": "2016-08-31",
                                    "(No column name)": "NULL"
                                },
                                {
                                    "USERNEV": "IBOLYAA",
                                    "METTOL": "2016-10-23",
                                    "MEDDIG": "2016-10-28",
                                    "(No column name)": "5"
                                },
                                {
                                    "USERNEV": "IBOLYAA",
                                    "METTOL": "2017-01-17",
                                    "MEDDIG": "2017-01-23",
                                    "(No column name)": "7"
                                },
                                {
                                    "USERNEV": "ilona3",
                                    "METTOL": "2016-07-31",
                                    "MEDDIG": "2016-08-06",
                                    "(No column name)": "NULL"
                                },
                                {
                                    "USERNEV": "ilona3",
                                    "METTOL": "2016-08-04",
                                    "MEDDIG": "2016-08-08",
                                    "(No column name)": "2"
                                },
                                {
                                    "USERNEV": "ilona3",
                                    "METTOL": "2016-11-04",
                                    "MEDDIG": "2016-11-06",
                                    "(No column name)": "5"
                                },
                                {
                                    "USERNEV": "ilona3",
                                    "METTOL": "2016-12-25",
                                    "MEDDIG": "2016-12-31",
                                    "(No column name)": "9"
                                },
                                {
                                    "USERNEV": "imre",
                                    "METTOL": "2016-09-17",
                                    "MEDDIG": "2016-09-19",
                                    "(No column name)": "NULL"
                                },
                                {
                                    "USERNEV": "imre",
                                    "METTOL": "2016-10-28",
                                    "MEDDIG": "2016-10-29",
                                    "(No column name)": "3"
                                },
                                {
                                    "USERNEV": "imre1",
                                    "METTOL": "2016-06-23",
                                    "MEDDIG": "2016-06-26",
                                    "(No column name)": "NULL"
                                },
                                {
                                    "USERNEV": "imre1",
                                    "METTOL": "2016-06-27",
                                    "MEDDIG": "2016-06-28",
                                    "(No column name)": "4"
                                },
                                {
                                    "USERNEV": "imre1",
                                    "METTOL": "2016-08-21",
                                    "MEDDIG": "2016-08-27",
                                    "(No column name)": "6"
                                },
                                {
                                    "USERNEV": "imre1",
                                    "METTOL": "2016-08-23",
                                    "MEDDIG": "2016-08-25",
                                    "(No column name)": "8"
                                },
                                {
                                    "USERNEV": "imre1",
                                    "METTOL": "2016-08-29",
                                    "MEDDIG": "2016-08-31",
                                    "(No column name)": "7"
                                },
                                {
                                    "USERNEV": "imre1",
                                    "METTOL": "2017-02-01",
                                    "MEDDIG": "2017-02-04",
                                    "(No column name)": "7"
                                },
                                {
                                    "USERNEV": "imre1",
                                    "METTOL": "2017-02-05",
                                    "MEDDIG": "2017-02-07",
                                    "(No column name)": "7"
                                },
                                {
                                    "USERNEV": "istvan",
                                    "METTOL": "2016-10-07",
                                    "MEDDIG": "2016-10-10",
                                    "(No column name)": "NULL"
                                },
                                {
                                    "USERNEV": "istvan",
                                    "METTOL": "2016-11-22",
                                    "MEDDIG": "2016-11-24",
                                    "(No column name)": "2"
                                },
                                {
                                    "USERNEV": "istvan",
                                    "METTOL": "2017-01-02",
                                    "MEDDIG": "2017-01-05",
                                    "(No column name)": "5"
                                },
                                {
                                    "USERNEV": "istvan1",
                                    "METTOL": "2016-04-16",
                                    "MEDDIG": "2016-04-22",
                                    "(No column name)": "NULL"
                                },
                                {
                                    "USERNEV": "istvan1",
                                    "METTOL": "2016-04-24",
                                    "MEDDIG": "2016-04-28",
                                    "(No column name)": "3"
                                },
                                {
                                    "USERNEV": "istvan1",
                                    "METTOL": "2016-07-19",
                                    "MEDDIG": "2016-07-24",
                                    "(No column name)": "6"
                                },
                                {
                                    "USERNEV": "istvan1",
                                    "METTOL": "2017-02-07",
                                    "MEDDIG": "2017-02-10",
                                    "(No column name)": "7"
                                },
                                {
                                    "USERNEV": "ISTVANV",
                                    "METTOL": "2016-07-01",
                                    "MEDDIG": "2016-07-04",
                                    "(No column name)": "NULL"
                                },
                                {
                                    "USERNEV": "ISTVANV",
                                    "METTOL": "2016-09-29",
                                    "MEDDIG": "2016-10-01",
                                    "(No column name)": "4"
                                },
                                {
                                    "USERNEV": "janos3",
                                    "METTOL": "2016-06-04",
                                    "MEDDIG": "2016-06-06",
                                    "(No column name)": "NULL"
                                },
                                {
                                    "USERNEV": "janos3",
                                    "METTOL": "2016-08-24",
                                    "MEDDIG": "2016-08-25",
                                    "(No column name)": "1"
                                },
                                {
                                    "USERNEV": "janos3",
                                    "METTOL": "2016-10-03",
                                    "MEDDIG": "2016-10-08",
                                    "(No column name)": "4"
                                },
                                {
                                    "USERNEV": "janos3",
                                    "METTOL": "2016-10-22",
                                    "MEDDIG": "2016-10-23",
                                    "(No column name)": "7"
                                },
                                {
                                    "USERNEV": "janos3",
                                    "METTOL": "2017-02-12",
                                    "MEDDIG": "2017-02-14",
                                    "(No column name)": "7"
                                },
                                {
                                    "USERNEV": "JANOSG",
                                    "METTOL": "2016-05-09",
                                    "MEDDIG": "2016-05-15",
                                    "(No column name)": "NULL"
                                },
                                {
                                    "USERNEV": "JANOSG",
                                    "METTOL": "2016-08-16",
                                    "MEDDIG": "2016-08-23",
                                    "(No column name)": "1"
                                },
                                {
                                    "USERNEV": "JANOSG",
                                    "METTOL": "2016-08-30",
                                    "MEDDIG": "2016-09-03",
                                    "(No column name)": "4"
                                },
                                {
                                    "USERNEV": "JANOSG",
                                    "METTOL": "2016-11-07",
                                    "MEDDIG": "2016-11-14",
                                    "(No column name)": "7"
                                },
                                {
                                    "USERNEV": "JANOSG",
                                    "METTOL": "2016-12-28",
                                    "MEDDIG": "2016-12-30",
                                    "(No column name)": "9"
                                },
                                {
                                    "USERNEV": "JANOSG",
                                    "METTOL": "2017-01-10",
                                    "MEDDIG": "2017-01-15",
                                    "(No column name)": "8"
                                },
                                {
                                    "USERNEV": "JANOSG",
                                    "METTOL": "2017-01-31",
                                    "MEDDIG": "2017-02-05",
                                    "(No column name)": "7"
                                },
                                {
                                    "USERNEV": "JANOSP",
                                    "METTOL": "2016-07-04",
                                    "MEDDIG": "2016-07-11",
                                    "(No column name)": "NULL"
                                },
                                {
                                    "USERNEV": "JANOSP",
                                    "METTOL": "2016-11-23",
                                    "MEDDIG": "2016-11-28",
                                    "(No column name)": "3"
                                },
                                {
                                    "USERNEV": "JANOSP",
                                    "METTOL": "2016-11-25",
                                    "MEDDIG": "2016-11-27",
                                    "(No column name)": "5"
                                },
                                {
                                    "USERNEV": "JANOSP",
                                    "METTOL": "2016-12-18",
                                    "MEDDIG": "2016-12-21",
                                    "(No column name)": "7"
                                },
                                {
                                    "USERNEV": "jozsef",
                                    "METTOL": "2016-09-13",
                                    "MEDDIG": "2016-09-19",
                                    "(No column name)": "NULL"
                                },
                                {
                                    "USERNEV": "jozsef",
                                    "METTOL": "2016-10-08",
                                    "MEDDIG": "2016-10-10",
                                    "(No column name)": "2"
                                },
                                {
                                    "USERNEV": "jozsef",
                                    "METTOL": "2016-12-06",
                                    "MEDDIG": "2016-12-07",
                                    "(No column name)": "4"
                                },
                                {
                                    "USERNEV": "jozsef2",
                                    "METTOL": "2016-07-06",
                                    "MEDDIG": "2016-07-11",
                                    "(No column name)": "NULL"
                                },
                                {
                                    "USERNEV": "jozsef2",
                                    "METTOL": "2016-07-16",
                                    "MEDDIG": "2016-07-20",
                                    "(No column name)": "2"
                                },
                                {
                                    "USERNEV": "jozsef2",
                                    "METTOL": "2016-09-09",
                                    "MEDDIG": "2016-09-15",
                                    "(No column name)": "5"
                                },
                                {
                                    "USERNEV": "jozsef2",
                                    "METTOL": "2016-11-23",
                                    "MEDDIG": "2016-11-29",
                                    "(No column name)": "7"
                                },
                                {
                                    "USERNEV": "jozsef2",
                                    "METTOL": "2016-11-25",
                                    "MEDDIG": "2016-11-29",
                                    "(No column name)": "8"
                                },
                                {
                                    "USERNEV": "JOZSEFG",
                                    "METTOL": "2016-05-02",
                                    "MEDDIG": "2016-05-06",
                                    "(No column name)": "NULL"
                                },
                                {
                                    "USERNEV": "JOZSEFG",
                                    "METTOL": "2016-05-23",
                                    "MEDDIG": "2016-05-25",
                                    "(No column name)": "2"
                                },
                                {
                                    "USERNEV": "JOZSEFG",
                                    "METTOL": "2016-06-04",
                                    "MEDDIG": "2016-06-09",
                                    "(No column name)": "3"
                                },
                                {
                                    "USERNEV": "JOZSEFG",
                                    "METTOL": "2016-08-24",
                                    "MEDDIG": "2016-08-27",
                                    "(No column name)": "7"
                                },
                                {
                                    "USERNEV": "JOZSEFG",
                                    "METTOL": "2017-01-09",
                                    "MEDDIG": "2017-01-13",
                                    "(No column name)": "8"
                                },
                                {
                                    "USERNEV": "JOZSEFG",
                                    "METTOL": "2017-01-22",
                                    "MEDDIG": "2017-01-26",
                                    "(No column name)": "9"
                                },
                                {
                                    "USERNEV": "JOZSEFG",
                                    "METTOL": "2017-02-24",
                                    "MEDDIG": "2017-03-03",
                                    "(No column name)": "6"
                                },
                                {
                                    "USERNEV": "JUDITH",
                                    "METTOL": "2016-06-06",
                                    "MEDDIG": "2016-06-10",
                                    "(No column name)": "NULL"
                                },
                                {
                                    "USERNEV": "JUDITH",
                                    "METTOL": "2016-07-28",
                                    "MEDDIG": "2016-07-30",
                                    "(No column name)": "2"
                                },
                                {
                                    "USERNEV": "JUDITH",
                                    "METTOL": "2016-12-19",
                                    "MEDDIG": "2016-12-26",
                                    "(No column name)": "4"
                                },
                                {
                                    "USERNEV": "julia",
                                    "METTOL": "2016-04-21",
                                    "MEDDIG": "2016-04-26",
                                    "(No column name)": "NULL"
                                },
                                {
                                    "USERNEV": "julia",
                                    "METTOL": "2016-05-12",
                                    "MEDDIG": "2016-05-17",
                                    "(No column name)": "2"
                                },
                                {
                                    "USERNEV": "julia",
                                    "METTOL": "2016-06-07",
                                    "MEDDIG": "2016-06-08",
                                    "(No column name)": "3"
                                },
                                {
                                    "USERNEV": "julia",
                                    "METTOL": "2016-07-20",
                                    "MEDDIG": "2016-07-22",
                                    "(No column name)": "8"
                                },
                                {
                                    "USERNEV": "julia",
                                    "METTOL": "2017-02-27",
                                    "MEDDIG": "2017-03-06",
                                    "(No column name)": "8"
                                },
                                {
                                    "USERNEV": "julia4",
                                    "METTOL": "2016-11-07",
                                    "MEDDIG": "2016-11-12",
                                    "(No column name)": "NULL"
                                },
                                {
                                    "USERNEV": "julia4",
                                    "METTOL": "2017-02-04",
                                    "MEDDIG": "2017-02-11",
                                    "(No column name)": "1"
                                },
                                {
                                    "USERNEV": "julianna4",
                                    "METTOL": "2016-07-20",
                                    "MEDDIG": "2016-07-26",
                                    "(No column name)": "NULL"
                                },
                                {
                                    "USERNEV": "julianna4",
                                    "METTOL": "2016-10-29",
                                    "MEDDIG": "2016-10-31",
                                    "(No column name)": "2"
                                },
                                {
                                    "USERNEV": "julianna4",
                                    "METTOL": "2016-11-03",
                                    "MEDDIG": "2016-11-04",
                                    "(No column name)": "5"
                                },
                                {
                                    "USERNEV": "julianna4",
                                    "METTOL": "2016-11-27",
                                    "MEDDIG": "2016-12-04",
                                    "(No column name)": "7"
                                },
                                {
                                    "USERNEV": "kata",
                                    "METTOL": "2016-04-10",
                                    "MEDDIG": "2016-04-11",
                                    "(No column name)": "NULL"
                                },
                                {
                                    "USERNEV": "kata",
                                    "METTOL": "2016-04-25",
                                    "MEDDIG": "2016-05-01",
                                    "(No column name)": "2"
                                },
                                {
                                    "USERNEV": "kata",
                                    "METTOL": "2016-05-31",
                                    "MEDDIG": "2016-06-01",
                                    "(No column name)": "3"
                                },
                                {
                                    "USERNEV": "kata",
                                    "METTOL": "2016-06-07",
                                    "MEDDIG": "2016-06-12",
                                    "(No column name)": "6"
                                },
                                {
                                    "USERNEV": "kata",
                                    "METTOL": "2016-07-01",
                                    "MEDDIG": "2016-07-07",
                                    "(No column name)": "6"
                                },
                                {
                                    "USERNEV": "kata",
                                    "METTOL": "2016-07-03",
                                    "MEDDIG": "2016-07-06",
                                    "(No column name)": "7"
                                },
                                {
                                    "USERNEV": "kata",
                                    "METTOL": "2016-07-07",
                                    "MEDDIG": "2016-07-09",
                                    "(No column name)": "5"
                                },
                                {
                                    "USERNEV": "kata",
                                    "METTOL": "2016-08-24",
                                    "MEDDIG": "2016-08-27",
                                    "(No column name)": "6"
                                },
                                {
                                    "USERNEV": "kata",
                                    "METTOL": "2016-09-19",
                                    "MEDDIG": "2016-09-20",
                                    "(No column name)": "7"
                                },
                                {
                                    "USERNEV": "kata",
                                    "METTOL": "2017-01-15",
                                    "MEDDIG": "2017-01-21",
                                    "(No column name)": "9"
                                },
                                {
                                    "USERNEV": "katalin",
                                    "METTOL": "2016-04-10",
                                    "MEDDIG": "2016-04-17",
                                    "(No column name)": "NULL"
                                },
                                {
                                    "USERNEV": "katalin",
                                    "METTOL": "2016-05-21",
                                    "MEDDIG": "2016-05-26",
                                    "(No column name)": "2"
                                },
                                {
                                    "USERNEV": "katalin",
                                    "METTOL": "2016-07-06",
                                    "MEDDIG": "2016-07-11",
                                    "(No column name)": "3"
                                },
                                {
                                    "USERNEV": "katalin",
                                    "METTOL": "2016-07-28",
                                    "MEDDIG": "2016-07-29",
                                    "(No column name)": "4"
                                },
                                {
                                    "USERNEV": "katalin",
                                    "METTOL": "2016-10-26",
                                    "MEDDIG": "2016-10-30",
                                    "(No column name)": "3"
                                },
                                {
                                    "USERNEV": "katalin",
                                    "METTOL": "2016-12-13",
                                    "MEDDIG": "2016-12-19",
                                    "(No column name)": "4"
                                },
                                {
                                    "USERNEV": "katalin",
                                    "METTOL": "2016-12-17",
                                    "MEDDIG": "2016-12-24",
                                    "(No column name)": "5"
                                },
                                {
                                    "USERNEV": "katalin",
                                    "METTOL": "2016-12-24",
                                    "MEDDIG": "2016-12-27",
                                    "(No column name)": "5"
                                },
                                {
                                    "USERNEV": "katalin",
                                    "METTOL": "2017-02-24",
                                    "MEDDIG": "2017-02-27",
                                    "(No column name)": "5"
                                },
                                {
                                    "USERNEV": "katalin4",
                                    "METTOL": "2016-07-01",
                                    "MEDDIG": "2016-07-07",
                                    "(No column name)": "NULL"
                                },
                                {
                                    "USERNEV": "katalin4",
                                    "METTOL": "2016-07-03",
                                    "MEDDIG": "2016-07-04",
                                    "(No column name)": "1"
                                },
                                {
                                    "USERNEV": "katalin4",
                                    "METTOL": "2016-11-27",
                                    "MEDDIG": "2016-12-04",
                                    "(No column name)": "5"
                                },
                                {
                                    "USERNEV": "katalin4",
                                    "METTOL": "2016-12-04",
                                    "MEDDIG": "2016-12-09",
                                    "(No column name)": "8"
                                },
                                {
                                    "USERNEV": "katalin4",
                                    "METTOL": "2017-01-18",
                                    "MEDDIG": "2017-01-20",
                                    "(No column name)": "10"
                                },
                                {
                                    "USERNEV": "katalin4",
                                    "METTOL": "2017-01-24",
                                    "MEDDIG": "2017-01-31",
                                    "(No column name)": "8"
                                },
                                {
                                    "USERNEV": "kati",
                                    "METTOL": "2016-06-06",
                                    "MEDDIG": "2016-06-10",
                                    "(No column name)": "NULL"
                                },
                                {
                                    "USERNEV": "kati",
                                    "METTOL": "2016-06-06",
                                    "MEDDIG": "2016-06-11",
                                    "(No column name)": "2"
                                },
                                {
                                    "USERNEV": "kati",
                                    "METTOL": "2016-07-13",
                                    "MEDDIG": "2016-07-20",
                                    "(No column name)": "5"
                                },
                                {
                                    "USERNEV": "kati",
                                    "METTOL": "2016-07-27",
                                    "MEDDIG": "2016-08-03",
                                    "(No column name)": "7"
                                },
                                {
                                    "USERNEV": "kati",
                                    "METTOL": "2016-08-03",
                                    "MEDDIG": "2016-08-07",
                                    "(No column name)": "7"
                                },
                                {
                                    "USERNEV": "kati",
                                    "METTOL": "2016-10-26",
                                    "MEDDIG": "2016-10-28",
                                    "(No column name)": "6"
                                },
                                {
                                    "USERNEV": "kati",
                                    "METTOL": "2016-10-30",
                                    "MEDDIG": "2016-11-01",
                                    "(No column name)": "6"
                                },
                                {
                                    "USERNEV": "katka",
                                    "METTOL": "2016-04-10",
                                    "MEDDIG": "2016-04-12",
                                    "(No column name)": "NULL"
                                },
                                {
                                    "USERNEV": "katka",
                                    "METTOL": "2016-05-09",
                                    "MEDDIG": "2016-05-15",
                                    "(No column name)": "2"
                                },
                                {
                                    "USERNEV": "katka",
                                    "METTOL": "2016-06-13",
                                    "MEDDIG": "2016-06-18",
                                    "(No column name)": "5"
                                },
                                {
                                    "USERNEV": "katka",
                                    "METTOL": "2016-06-13",
                                    "MEDDIG": "2016-06-19",
                                    "(No column name)": "6"
                                },
                                {
                                    "USERNEV": "katka",
                                    "METTOL": "2016-08-24",
                                    "MEDDIG": "2016-08-26",
                                    "(No column name)": "8"
                                },
                                {
                                    "USERNEV": "katka",
                                    "METTOL": "2016-09-05",
                                    "MEDDIG": "2016-09-10",
                                    "(No column name)": "7"
                                },
                                {
                                    "USERNEV": "katka",
                                    "METTOL": "2016-11-05",
                                    "MEDDIG": "2016-11-08",
                                    "(No column name)": "10"
                                },
                                {
                                    "USERNEV": "katka",
                                    "METTOL": "2017-01-02",
                                    "MEDDIG": "2017-01-05",
                                    "(No column name)": "9"
                                },
                                {
                                    "USERNEV": "katka",
                                    "METTOL": "2017-01-19",
                                    "MEDDIG": "2017-01-20",
                                    "(No column name)": "10"
                                },
                                {
                                    "USERNEV": "klaudia2",
                                    "METTOL": "2016-06-06",
                                    "MEDDIG": "2016-06-08",
                                    "(No column name)": "NULL"
                                },
                                {
                                    "USERNEV": "klaudia2",
                                    "METTOL": "2016-10-01",
                                    "MEDDIG": "2016-10-02",
                                    "(No column name)": "4"
                                },
                                {
                                    "USERNEV": "klaudia2",
                                    "METTOL": "2016-10-02",
                                    "MEDDIG": "2016-10-05",
                                    "(No column name)": "6"
                                },
                                {
                                    "USERNEV": "kornel4",
                                    "METTOL": "2016-05-08",
                                    "MEDDIG": "2016-05-14",
                                    "(No column name)": "NULL"
                                },
                                {
                                    "USERNEV": "kornel4",
                                    "METTOL": "2016-06-02",
                                    "MEDDIG": "2016-06-09",
                                    "(No column name)": "3"
                                },
                                {
                                    "USERNEV": "kornel4",
                                    "METTOL": "2016-09-23",
                                    "MEDDIG": "2016-09-24",
                                    "(No column name)": "6"
                                },
                                {
                                    "USERNEV": "kristof4",
                                    "METTOL": "2016-04-08",
                                    "MEDDIG": "2016-04-14",
                                    "(No column name)": "NULL"
                                },
                                {
                                    "USERNEV": "kristof4",
                                    "METTOL": "2016-09-30",
                                    "MEDDIG": "2016-10-04",
                                    "(No column name)": "2"
                                },
                                {
                                    "USERNEV": "kriszti",
                                    "METTOL": "2016-05-19",
                                    "MEDDIG": "2016-05-26",
                                    "(No column name)": "NULL"
                                },
                                {
                                    "USERNEV": "kriszti",
                                    "METTOL": "2016-08-24",
                                    "MEDDIG": "2016-08-25",
                                    "(No column name)": "2"
                                },
                                {
                                    "USERNEV": "kriszti",
                                    "METTOL": "2016-09-30",
                                    "MEDDIG": "2016-10-05",
                                    "(No column name)": "5"
                                },
                                {
                                    "USERNEV": "kriszti",
                                    "METTOL": "2016-10-01",
                                    "MEDDIG": "2016-10-02",
                                    "(No column name)": "8"
                                },
                                {
                                    "USERNEV": "kriszti",
                                    "METTOL": "2017-02-04",
                                    "MEDDIG": "2017-02-11",
                                    "(No column name)": "9"
                                },
                                {
                                    "USERNEV": "kriszti",
                                    "METTOL": "2017-03-03",
                                    "MEDDIG": "2017-03-04",
                                    "(No column name)": "9"
                                },
                                {
                                    "USERNEV": "krisztian4",
                                    "METTOL": "2016-06-03",
                                    "MEDDIG": "2016-06-04",
                                    "(No column name)": "NULL"
                                },
                                {
                                    "USERNEV": "krisztian4",
                                    "METTOL": "2016-06-07",
                                    "MEDDIG": "2016-06-09",
                                    "(No column name)": "2"
                                },
                                {
                                    "USERNEV": "krisztian4",
                                    "METTOL": "2016-07-28",
                                    "MEDDIG": "2016-08-01",
                                    "(No column name)": "4"
                                },
                                {
                                    "USERNEV": "krisztian4",
                                    "METTOL": "2016-08-01",
                                    "MEDDIG": "2016-08-04",
                                    "(No column name)": "6"
                                },
                                {
                                    "USERNEV": "krisztian4",
                                    "METTOL": "2016-08-16",
                                    "MEDDIG": "2016-08-19",
                                    "(No column name)": "7"
                                },
                                {
                                    "USERNEV": "krisztian4",
                                    "METTOL": "2016-08-29",
                                    "MEDDIG": "2016-09-03",
                                    "(No column name)": "6"
                                },
                                {
                                    "USERNEV": "krisztian4",
                                    "METTOL": "2016-10-17",
                                    "MEDDIG": "2016-10-22",
                                    "(No column name)": "5"
                                },
                                {
                                    "USERNEV": "krisztian4",
                                    "METTOL": "2016-11-02",
                                    "MEDDIG": "2016-11-03",
                                    "(No column name)": "5"
                                },
                                {
                                    "USERNEV": "krisztian4",
                                    "METTOL": "2016-12-11",
                                    "MEDDIG": "2016-12-18",
                                    "(No column name)": "6"
                                },
                                {
                                    "USERNEV": "krisztian4",
                                    "METTOL": "2017-01-06",
                                    "MEDDIG": "2017-01-09",
                                    "(No column name)": "7"
                                },
                                {
                                    "USERNEV": "krisztian4",
                                    "METTOL": "2017-01-16",
                                    "MEDDIG": "2017-01-23",
                                    "(No column name)": "5"
                                },
                                {
                                    "USERNEV": "krisztian4",
                                    "METTOL": "2017-02-23",
                                    "MEDDIG": "2017-03-02",
                                    "(No column name)": "6"
                                },
                                {
                                    "USERNEV": "KRISZTIANM",
                                    "METTOL": "2016-04-09",
                                    "MEDDIG": "2016-04-15",
                                    "(No column name)": "NULL"
                                },
                                {
                                    "USERNEV": "KRISZTIANM",
                                    "METTOL": "2016-06-04",
                                    "MEDDIG": "2016-06-08",
                                    "(No column name)": "2"
                                },
                                {
                                    "USERNEV": "KRISZTIANM",
                                    "METTOL": "2016-07-09",
                                    "MEDDIG": "2016-07-14",
                                    "(No column name)": "4"
                                },
                                {
                                    "USERNEV": "KRISZTIANM",
                                    "METTOL": "2016-08-02",
                                    "MEDDIG": "2016-08-08",
                                    "(No column name)": "7"
                                },
                                {
                                    "USERNEV": "KRISZTIANM",
                                    "METTOL": "2016-12-25",
                                    "MEDDIG": "2016-12-31",
                                    "(No column name)": "9"
                                },
                                {
                                    "USERNEV": "KRISZTIANM",
                                    "METTOL": "2017-01-16",
                                    "MEDDIG": "2017-01-23",
                                    "(No column name)": "9"
                                },
                                {
                                    "USERNEV": "krisztina",
                                    "METTOL": "2016-05-21",
                                    "MEDDIG": "2016-05-27",
                                    "(No column name)": "NULL"
                                },
                                {
                                    "USERNEV": "krisztina",
                                    "METTOL": "2016-07-05",
                                    "MEDDIG": "2016-07-12",
                                    "(No column name)": "2"
                                },
                                {
                                    "USERNEV": "krisztina",
                                    "METTOL": "2016-09-13",
                                    "MEDDIG": "2016-09-16",
                                    "(No column name)": "5"
                                },
                                {
                                    "USERNEV": "krisztina",
                                    "METTOL": "2016-09-19",
                                    "MEDDIG": "2016-09-26",
                                    "(No column name)": "6"
                                },
                                {
                                    "USERNEV": "krisztina",
                                    "METTOL": "2016-11-08",
                                    "MEDDIG": "2016-11-12",
                                    "(No column name)": "6"
                                },
                                {
                                    "USERNEV": "krisztina",
                                    "METTOL": "2016-11-22",
                                    "MEDDIG": "2016-11-25",
                                    "(No column name)": "5"
                                },
                                {
                                    "USERNEV": "krisztina",
                                    "METTOL": "2017-02-05",
                                    "MEDDIG": "2017-02-07",
                                    "(No column name)": "5"
                                },
                                {
                                    "USERNEV": "krisztina",
                                    "METTOL": "2017-02-16",
                                    "MEDDIG": "2017-02-20",
                                    "(No column name)": "5"
                                },
                                {
                                    "USERNEV": "krisztina1",
                                    "METTOL": "2016-04-28",
                                    "MEDDIG": "2016-04-30",
                                    "(No column name)": "NULL"
                                },
                                {
                                    "USERNEV": "krisztina1",
                                    "METTOL": "2016-05-16",
                                    "MEDDIG": "2016-05-20",
                                    "(No column name)": "2"
                                },
                                {
                                    "USERNEV": "krisztina1",
                                    "METTOL": "2016-06-16",
                                    "MEDDIG": "2016-06-22",
                                    "(No column name)": "3"
                                },
                                {
                                    "USERNEV": "krisztina1",
                                    "METTOL": "2016-09-15",
                                    "MEDDIG": "2016-09-20",
                                    "(No column name)": "5"
                                },
                                {
                                    "USERNEV": "krisztina1",
                                    "METTOL": "2016-10-29",
                                    "MEDDIG": "2016-10-30",
                                    "(No column name)": "6"
                                },
                                {
                                    "USERNEV": "krisztina1",
                                    "METTOL": "2017-01-21",
                                    "MEDDIG": "2017-01-24",
                                    "(No column name)": "9"
                                },
                                {
                                    "USERNEV": "KRISZTINAG",
                                    "METTOL": "2016-04-23",
                                    "MEDDIG": "2016-04-24",
                                    "(No column name)": "NULL"
                                },
                                {
                                    "USERNEV": "KRISZTINAG",
                                    "METTOL": "2016-05-24",
                                    "MEDDIG": "2016-05-31",
                                    "(No column name)": "2"
                                },
                                {
                                    "USERNEV": "KRISZTINAG",
                                    "METTOL": "2016-06-08",
                                    "MEDDIG": "2016-06-12",
                                    "(No column name)": "3"
                                },
                                {
                                    "USERNEV": "KRISZTINAG",
                                    "METTOL": "2016-08-08",
                                    "MEDDIG": "2016-08-12",
                                    "(No column name)": "4"
                                },
                                {
                                    "USERNEV": "KRISZTINAG",
                                    "METTOL": "2017-01-25",
                                    "MEDDIG": "2017-01-30",
                                    "(No column name)": "5"
                                },
                                {
                                    "USERNEV": "lajos",
                                    "METTOL": "2016-07-18",
                                    "MEDDIG": "2016-07-21",
                                    "(No column name)": "NULL"
                                },
                                {
                                    "USERNEV": "lajos",
                                    "METTOL": "2016-12-25",
                                    "MEDDIG": "2016-12-28",
                                    "(No column name)": "2"
                                },
                                {
                                    "USERNEV": "lajos",
                                    "METTOL": "2017-02-12",
                                    "MEDDIG": "2017-02-13",
                                    "(No column name)": "6"
                                },
                                {
                                    "USERNEV": "lala",
                                    "METTOL": "2016-06-16",
                                    "MEDDIG": "2016-06-22",
                                    "(No column name)": "NULL"
                                },
                                {
                                    "USERNEV": "lala",
                                    "METTOL": "2016-07-20",
                                    "MEDDIG": "2016-07-21",
                                    "(No column name)": "2"
                                },
                                {
                                    "USERNEV": "lala",
                                    "METTOL": "2016-07-26",
                                    "MEDDIG": "2016-07-27",
                                    "(No column name)": "5"
                                },
                                {
                                    "USERNEV": "lala",
                                    "METTOL": "2016-10-30",
                                    "MEDDIG": "2016-10-31",
                                    "(No column name)": "8"
                                },
                                {
                                    "USERNEV": "lala",
                                    "METTOL": "2017-01-08",
                                    "MEDDIG": "2017-01-10",
                                    "(No column name)": "9"
                                },
                                {
                                    "USERNEV": "lala",
                                    "METTOL": "2017-01-17",
                                    "MEDDIG": "2017-01-19",
                                    "(No column name)": "9"
                                },
                                {
                                    "USERNEV": "laszlo1",
                                    "METTOL": "2016-09-23",
                                    "MEDDIG": "2016-09-30",
                                    "(No column name)": "NULL"
                                },
                                {
                                    "USERNEV": "laszlo2",
                                    "METTOL": "2016-04-06",
                                    "MEDDIG": "2016-04-10",
                                    "(No column name)": "NULL"
                                },
                                {
                                    "USERNEV": "laszlo2",
                                    "METTOL": "2016-04-27",
                                    "MEDDIG": "2016-04-29",
                                    "(No column name)": "2"
                                },
                                {
                                    "USERNEV": "laszlo2",
                                    "METTOL": "2016-08-14",
                                    "MEDDIG": "2016-08-15",
                                    "(No column name)": "4"
                                },
                                {
                                    "USERNEV": "laszlo2",
                                    "METTOL": "2016-09-05",
                                    "MEDDIG": "2016-09-10",
                                    "(No column name)": "7"
                                },
                                {
                                    "USERNEV": "laszlo2",
                                    "METTOL": "2016-11-25",
                                    "MEDDIG": "2016-11-26",
                                    "(No column name)": "8"
                                },
                                {
                                    "USERNEV": "LASZLOA",
                                    "METTOL": "2016-06-03",
                                    "MEDDIG": "2016-06-09",
                                    "(No column name)": "NULL"
                                },
                                {
                                    "USERNEV": "LASZLOA",
                                    "METTOL": "2016-06-07",
                                    "MEDDIG": "2016-06-11",
                                    "(No column name)": "2"
                                },
                                {
                                    "USERNEV": "LASZLOA",
                                    "METTOL": "2016-06-10",
                                    "MEDDIG": "2016-06-13",
                                    "(No column name)": "3"
                                },
                                {
                                    "USERNEV": "LASZLOA",
                                    "METTOL": "2017-02-08",
                                    "MEDDIG": "2017-02-14",
                                    "(No column name)": "6"
                                },
                                {
                                    "USERNEV": "LASZLON",
                                    "METTOL": "2016-06-03",
                                    "MEDDIG": "2016-06-06",
                                    "(No column name)": "NULL"
                                },
                                {
                                    "USERNEV": "LASZLON",
                                    "METTOL": "2016-06-08",
                                    "MEDDIG": "2016-06-09",
                                    "(No column name)": "1"
                                },
                                {
                                    "USERNEV": "LASZLON",
                                    "METTOL": "2016-10-01",
                                    "MEDDIG": "2016-10-04",
                                    "(No column name)": "3"
                                },
                                {
                                    "USERNEV": "LASZLON",
                                    "METTOL": "2016-10-09",
                                    "MEDDIG": "2016-10-14",
                                    "(No column name)": "6"
                                },
                                {
                                    "USERNEV": "LASZLON",
                                    "METTOL": "2016-11-29",
                                    "MEDDIG": "2016-12-04",
                                    "(No column name)": "6"
                                },
                                {
                                    "USERNEV": "LASZLON",
                                    "METTOL": "2017-02-18",
                                    "MEDDIG": "2017-02-25",
                                    "(No column name)": "5"
                                },
                                {
                                    "USERNEV": "maria1",
                                    "METTOL": "2016-05-13",
                                    "MEDDIG": "2016-05-18",
                                    "(No column name)": "NULL"
                                },
                                {
                                    "USERNEV": "maria1",
                                    "METTOL": "2016-05-18",
                                    "MEDDIG": "2016-05-19",
                                    "(No column name)": "2"
                                },
                                {
                                    "USERNEV": "maria1",
                                    "METTOL": "2016-05-28",
                                    "MEDDIG": "2016-06-03",
                                    "(No column name)": "3"
                                },
                                {
                                    "USERNEV": "maria1",
                                    "METTOL": "2016-06-23",
                                    "MEDDIG": "2016-06-27",
                                    "(No column name)": "5"
                                },
                                {
                                    "USERNEV": "maria1",
                                    "METTOL": "2016-08-11",
                                    "MEDDIG": "2016-08-14",
                                    "(No column name)": "4"
                                },
                                {
                                    "USERNEV": "maria1",
                                    "METTOL": "2016-09-02",
                                    "MEDDIG": "2016-09-05",
                                    "(No column name)": "6"
                                },
                                {
                                    "USERNEV": "maria1",
                                    "METTOL": "2016-11-08",
                                    "MEDDIG": "2016-11-12",
                                    "(No column name)": "5"
                                },
                                {
                                    "USERNEV": "maria1",
                                    "METTOL": "2017-02-24",
                                    "MEDDIG": "2017-03-02",
                                    "(No column name)": "7"
                                },
                                {
                                    "USERNEV": "mark",
                                    "METTOL": "2016-04-19",
                                    "MEDDIG": "2016-04-26",
                                    "(No column name)": "NULL"
                                },
                                {
                                    "USERNEV": "mark",
                                    "METTOL": "2016-06-13",
                                    "MEDDIG": "2016-06-18",
                                    "(No column name)": "4"
                                },
                                {
                                    "USERNEV": "mark",
                                    "METTOL": "2016-08-09",
                                    "MEDDIG": "2016-08-16",
                                    "(No column name)": "7"
                                },
                                {
                                    "USERNEV": "mark",
                                    "METTOL": "2016-10-20",
                                    "MEDDIG": "2016-10-27",
                                    "(No column name)": "10"
                                },
                                {
                                    "USERNEV": "mark",
                                    "METTOL": "2016-11-19",
                                    "MEDDIG": "2016-11-22",
                                    "(No column name)": "7"
                                },
                                {
                                    "USERNEV": "MARKH",
                                    "METTOL": "2016-09-14",
                                    "MEDDIG": "2016-09-17",
                                    "(No column name)": "NULL"
                                },
                                {
                                    "USERNEV": "MARKH",
                                    "METTOL": "2016-09-23",
                                    "MEDDIG": "2016-09-30",
                                    "(No column name)": "3"
                                },
                                {
                                    "USERNEV": "MARKH",
                                    "METTOL": "2016-09-26",
                                    "MEDDIG": "2016-10-01",
                                    "(No column name)": "5"
                                },
                                {
                                    "USERNEV": "MARKH",
                                    "METTOL": "2017-01-22",
                                    "MEDDIG": "2017-01-29",
                                    "(No column name)": "9"
                                },
                                {
                                    "USERNEV": "marton",
                                    "METTOL": "2016-04-27",
                                    "MEDDIG": "2016-05-04",
                                    "(No column name)": "NULL"
                                },
                                {
                                    "USERNEV": "marton",
                                    "METTOL": "2016-05-05",
                                    "MEDDIG": "2016-05-10",
                                    "(No column name)": "3"
                                },
                                {
                                    "USERNEV": "marton",
                                    "METTOL": "2016-06-06",
                                    "MEDDIG": "2016-06-08",
                                    "(No column name)": "4"
                                },
                                {
                                    "USERNEV": "marton",
                                    "METTOL": "2016-06-22",
                                    "MEDDIG": "2016-06-29",
                                    "(No column name)": "7"
                                },
                                {
                                    "USERNEV": "marton",
                                    "METTOL": "2016-08-12",
                                    "MEDDIG": "2016-08-17",
                                    "(No column name)": "6"
                                },
                                {
                                    "USERNEV": "marton",
                                    "METTOL": "2016-09-10",
                                    "MEDDIG": "2016-09-12",
                                    "(No column name)": "7"
                                },
                                {
                                    "USERNEV": "marton",
                                    "METTOL": "2017-03-02",
                                    "MEDDIG": "2017-03-03",
                                    "(No column name)": "6"
                                },
                                {
                                    "USERNEV": "MATEK",
                                    "METTOL": "2016-08-17",
                                    "MEDDIG": "2016-08-21",
                                    "(No column name)": "NULL"
                                },
                                {
                                    "USERNEV": "MATEK",
                                    "METTOL": "2016-10-01",
                                    "MEDDIG": "2016-10-04",
                                    "(No column name)": "4"
                                },
                                {
                                    "USERNEV": "MATEK",
                                    "METTOL": "2017-01-16",
                                    "MEDDIG": "2017-01-22",
                                    "(No column name)": "6"
                                },
                                {
                                    "USERNEV": "matyas2",
                                    "METTOL": "2016-07-13",
                                    "MEDDIG": "2016-07-16",
                                    "(No column name)": "NULL"
                                },
                                {
                                    "USERNEV": "matyas2",
                                    "METTOL": "2016-12-09",
                                    "MEDDIG": "2016-12-13",
                                    "(No column name)": "2"
                                },
                                {
                                    "USERNEV": "MATYASS",
                                    "METTOL": "2016-05-10",
                                    "MEDDIG": "2016-05-16",
                                    "(No column name)": "NULL"
                                },
                                {
                                    "USERNEV": "MATYASS",
                                    "METTOL": "2016-06-02",
                                    "MEDDIG": "2016-06-08",
                                    "(No column name)": "2"
                                },
                                {
                                    "USERNEV": "MATYASS",
                                    "METTOL": "2016-07-23",
                                    "MEDDIG": "2016-07-25",
                                    "(No column name)": "3"
                                },
                                {
                                    "USERNEV": "MATYASS",
                                    "METTOL": "2016-10-09",
                                    "MEDDIG": "2016-10-15",
                                    "(No column name)": "6"
                                },
                                {
                                    "USERNEV": "MATYASS",
                                    "METTOL": "2016-10-24",
                                    "MEDDIG": "2016-10-31",
                                    "(No column name)": "7"
                                },
                                {
                                    "USERNEV": "MATYASS",
                                    "METTOL": "2016-10-30",
                                    "MEDDIG": "2016-11-04",
                                    "(No column name)": "7"
                                },
                                {
                                    "USERNEV": "MATYASS",
                                    "METTOL": "2016-12-20",
                                    "MEDDIG": "2016-12-25",
                                    "(No column name)": "7"
                                },
                                {
                                    "USERNEV": "MATYASS",
                                    "METTOL": "2017-01-09",
                                    "MEDDIG": "2017-01-13",
                                    "(No column name)": "6"
                                },
                                {
                                    "USERNEV": "MIHALYJ",
                                    "METTOL": "2016-05-30",
                                    "MEDDIG": "2016-06-01",
                                    "(No column name)": "NULL"
                                },
                                {
                                    "USERNEV": "MIHALYJ",
                                    "METTOL": "2016-06-27",
                                    "MEDDIG": "2016-07-01",
                                    "(No column name)": "2"
                                },
                                {
                                    "USERNEV": "MIHALYJ",
                                    "METTOL": "2016-08-29",
                                    "MEDDIG": "2016-09-03",
                                    "(No column name)": "3"
                                },
                                {
                                    "USERNEV": "MIHALYJ",
                                    "METTOL": "2016-11-01",
                                    "MEDDIG": "2016-11-04",
                                    "(No column name)": "4"
                                },
                                {
                                    "USERNEV": "MIHALYJ",
                                    "METTOL": "2017-02-06",
                                    "MEDDIG": "2017-02-12",
                                    "(No column name)": "5"
                                },
                                {
                                    "USERNEV": "miklos2",
                                    "METTOL": "2016-04-19",
                                    "MEDDIG": "2016-04-21",
                                    "(No column name)": "NULL"
                                },
                                {
                                    "USERNEV": "miklos2",
                                    "METTOL": "2016-10-08",
                                    "MEDDIG": "2016-10-09",
                                    "(No column name)": "3"
                                },
                                {
                                    "USERNEV": "miklos2",
                                    "METTOL": "2016-11-16",
                                    "MEDDIG": "2016-11-18",
                                    "(No column name)": "4"
                                },
                                {
                                    "USERNEV": "MIKLOSB",
                                    "METTOL": "2016-06-26",
                                    "MEDDIG": "2016-06-30",
                                    "(No column name)": "NULL"
                                },
                                {
                                    "USERNEV": "MIKLOSB",
                                    "METTOL": "2016-07-18",
                                    "MEDDIG": "2016-07-21",
                                    "(No column name)": "2"
                                },
                                {
                                    "USERNEV": "MIKLOSB",
                                    "METTOL": "2016-12-05",
                                    "MEDDIG": "2016-12-10",
                                    "(No column name)": "4"
                                },
                                {
                                    "USERNEV": "MONIKAM",
                                    "METTOL": "2016-04-29",
                                    "MEDDIG": "2016-05-01",
                                    "(No column name)": "NULL"
                                },
                                {
                                    "USERNEV": "MONIKAM",
                                    "METTOL": "2016-07-23",
                                    "MEDDIG": "2016-07-30",
                                    "(No column name)": "2"
                                },
                                {
                                    "USERNEV": "MONIKAM",
                                    "METTOL": "2016-11-09",
                                    "MEDDIG": "2016-11-16",
                                    "(No column name)": "3"
                                },
                                {
                                    "USERNEV": "MONIKAM",
                                    "METTOL": "2017-01-17",
                                    "MEDDIG": "2017-01-24",
                                    "(No column name)": "5"
                                },
                                {
                                    "USERNEV": "MONIKAM",
                                    "METTOL": "2017-02-06",
                                    "MEDDIG": "2017-02-09",
                                    "(No column name)": "4"
                                },
                                {
                                    "USERNEV": "MONIKAM",
                                    "METTOL": "2017-02-23",
                                    "MEDDIG": "2017-02-26",
                                    "(No column name)": "5"
                                },
                                {
                                    "USERNEV": "NANDORF",
                                    "METTOL": "2016-04-06",
                                    "MEDDIG": "2016-04-10",
                                    "(No column name)": "NULL"
                                },
                                {
                                    "USERNEV": "NANDORF",
                                    "METTOL": "2016-11-03",
                                    "MEDDIG": "2016-11-04",
                                    "(No column name)": "3"
                                },
                                {
                                    "USERNEV": "NANDORF",
                                    "METTOL": "2017-02-05",
                                    "MEDDIG": "2017-02-08",
                                    "(No column name)": "6"
                                },
                                {
                                    "USERNEV": "nikolett3",
                                    "METTOL": "2016-05-24",
                                    "MEDDIG": "2016-05-29",
                                    "(No column name)": "NULL"
                                },
                                {
                                    "USERNEV": "nikolett3",
                                    "METTOL": "2016-06-03",
                                    "MEDDIG": "2016-06-09",
                                    "(No column name)": "2"
                                },
                                {
                                    "USERNEV": "nikolett3",
                                    "METTOL": "2016-06-22",
                                    "MEDDIG": "2016-06-24",
                                    "(No column name)": "3"
                                },
                                {
                                    "USERNEV": "nikolett3",
                                    "METTOL": "2016-10-22",
                                    "MEDDIG": "2016-10-29",
                                    "(No column name)": "4"
                                },
                                {
                                    "USERNEV": "nikoletta4",
                                    "METTOL": "2016-04-08",
                                    "MEDDIG": "2016-04-10",
                                    "(No column name)": "NULL"
                                },
                                {
                                    "USERNEV": "nikoletta4",
                                    "METTOL": "2016-05-09",
                                    "MEDDIG": "2016-05-15",
                                    "(No column name)": "2"
                                },
                                {
                                    "USERNEV": "nikoletta4",
                                    "METTOL": "2016-05-30",
                                    "MEDDIG": "2016-06-03",
                                    "(No column name)": "4"
                                },
                                {
                                    "USERNEV": "nikoletta4",
                                    "METTOL": "2016-06-29",
                                    "MEDDIG": "2016-07-06",
                                    "(No column name)": "7"
                                },
                                {
                                    "USERNEV": "nikoletta4",
                                    "METTOL": "2016-08-13",
                                    "MEDDIG": "2016-08-17",
                                    "(No column name)": "7"
                                },
                                {
                                    "USERNEV": "nikoletta4",
                                    "METTOL": "2016-12-08",
                                    "MEDDIG": "2016-12-10",
                                    "(No column name)": "8"
                                },
                                {
                                    "USERNEV": "nikoletta4",
                                    "METTOL": "2017-02-01",
                                    "MEDDIG": "2017-02-04",
                                    "(No column name)": "10"
                                },
                                {
                                    "USERNEV": "NIKOLETTAT",
                                    "METTOL": "2016-05-22",
                                    "MEDDIG": "2016-05-23",
                                    "(No column name)": "NULL"
                                },
                                {
                                    "USERNEV": "NIKOLETTAT",
                                    "METTOL": "2016-06-07",
                                    "MEDDIG": "2016-06-09",
                                    "(No column name)": "4"
                                },
                                {
                                    "USERNEV": "NIKOLETTAT",
                                    "METTOL": "2016-07-27",
                                    "MEDDIG": "2016-07-29",
                                    "(No column name)": "6"
                                },
                                {
                                    "USERNEV": "NIKOLETTAT",
                                    "METTOL": "2016-09-21",
                                    "MEDDIG": "2016-09-26",
                                    "(No column name)": "10"
                                },
                                {
                                    "USERNEV": "norbert",
                                    "METTOL": "2016-07-08",
                                    "MEDDIG": "2016-07-13",
                                    "(No column name)": "NULL"
                                },
                                {
                                    "USERNEV": "norbert",
                                    "METTOL": "2016-11-16",
                                    "MEDDIG": "2016-11-23",
                                    "(No column name)": "1"
                                },
                                {
                                    "USERNEV": "norbert",
                                    "METTOL": "2016-12-15",
                                    "MEDDIG": "2016-12-18",
                                    "(No column name)": "4"
                                },
                                {
                                    "USERNEV": "norbert",
                                    "METTOL": "2017-02-13",
                                    "MEDDIG": "2017-02-15",
                                    "(No column name)": "6"
                                },
                                {
                                    "USERNEV": "norbert",
                                    "METTOL": "2017-02-26",
                                    "MEDDIG": "2017-03-01",
                                    "(No column name)": "8"
                                },
                                {
                                    "USERNEV": "norbert2",
                                    "METTOL": "2016-04-19",
                                    "MEDDIG": "2016-04-26",
                                    "(No column name)": "NULL"
                                },
                                {
                                    "USERNEV": "norbert2",
                                    "METTOL": "2016-05-09",
                                    "MEDDIG": "2016-05-10",
                                    "(No column name)": "1"
                                },
                                {
                                    "USERNEV": "norbert2",
                                    "METTOL": "2016-07-13",
                                    "MEDDIG": "2016-07-15",
                                    "(No column name)": "3"
                                },
                                {
                                    "USERNEV": "norbert2",
                                    "METTOL": "2016-07-27",
                                    "MEDDIG": "2016-08-02",
                                    "(No column name)": "6"
                                },
                                {
                                    "USERNEV": "norbert2",
                                    "METTOL": "2016-08-16",
                                    "MEDDIG": "2016-08-19",
                                    "(No column name)": "7"
                                },
                                {
                                    "USERNEV": "norbert2",
                                    "METTOL": "2016-10-31",
                                    "MEDDIG": "2016-11-07",
                                    "(No column name)": "6"
                                },
                                {
                                    "USERNEV": "norbert2",
                                    "METTOL": "2017-01-29",
                                    "MEDDIG": "2017-02-05",
                                    "(No column name)": "5"
                                },
                                {
                                    "USERNEV": "norbert4",
                                    "METTOL": "2016-04-10",
                                    "MEDDIG": "2016-04-13",
                                    "(No column name)": "NULL"
                                },
                                {
                                    "USERNEV": "norbert4",
                                    "METTOL": "2016-05-29",
                                    "MEDDIG": "2016-06-03",
                                    "(No column name)": "2"
                                },
                                {
                                    "USERNEV": "norbert4",
                                    "METTOL": "2016-06-16",
                                    "MEDDIG": "2016-06-17",
                                    "(No column name)": "5"
                                },
                                {
                                    "USERNEV": "norbert4",
                                    "METTOL": "2016-06-16",
                                    "MEDDIG": "2016-06-21",
                                    "(No column name)": "9"
                                },
                                {
                                    "USERNEV": "norbert4",
                                    "METTOL": "2016-10-05",
                                    "MEDDIG": "2016-10-10",
                                    "(No column name)": "10"
                                },
                                {
                                    "USERNEV": "norbert4",
                                    "METTOL": "2016-10-28",
                                    "MEDDIG": "2016-10-31",
                                    "(No column name)": "10"
                                },
                                {
                                    "USERNEV": "norbert4",
                                    "METTOL": "2016-11-30",
                                    "MEDDIG": "2016-12-06",
                                    "(No column name)": "9"
                                },
                                {
                                    "USERNEV": "norbert4",
                                    "METTOL": "2017-02-16",
                                    "MEDDIG": "2017-02-17",
                                    "(No column name)": "9"
                                },
                                {
                                    "USERNEV": "norbert4",
                                    "METTOL": "2017-03-03",
                                    "MEDDIG": "2017-03-07",
                                    "(No column name)": "7"
                                },
                                {
                                    "USERNEV": "norbert5",
                                    "METTOL": "2016-06-24",
                                    "MEDDIG": "2016-06-28",
                                    "(No column name)": "NULL"
                                },
                                {
                                    "USERNEV": "norbert5",
                                    "METTOL": "2016-08-10",
                                    "MEDDIG": "2016-08-11",
                                    "(No column name)": "2"
                                },
                                {
                                    "USERNEV": "norbert5",
                                    "METTOL": "2016-11-05",
                                    "MEDDIG": "2016-11-07",
                                    "(No column name)": "4"
                                },
                                {
                                    "USERNEV": "pal",
                                    "METTOL": "2016-08-14",
                                    "MEDDIG": "2016-08-18",
                                    "(No column name)": "NULL"
                                },
                                {
                                    "USERNEV": "pal",
                                    "METTOL": "2016-09-16",
                                    "MEDDIG": "2016-09-19",
                                    "(No column name)": "3"
                                },
                                {
                                    "USERNEV": "pal",
                                    "METTOL": "2016-12-17",
                                    "MEDDIG": "2016-12-23",
                                    "(No column name)": "5"
                                },
                                {
                                    "USERNEV": "pal",
                                    "METTOL": "2017-02-13",
                                    "MEDDIG": "2017-02-19",
                                    "(No column name)": "8"
                                },
                                {
                                    "USERNEV": "pal",
                                    "METTOL": "2017-02-20",
                                    "MEDDIG": "2017-02-22",
                                    "(No column name)": "8"
                                },
                                {
                                    "USERNEV": "peter1",
                                    "METTOL": "2016-07-14",
                                    "MEDDIG": "2016-07-18",
                                    "(No column name)": "NULL"
                                },
                                {
                                    "USERNEV": "peter1",
                                    "METTOL": "2016-10-26",
                                    "MEDDIG": "2016-11-01",
                                    "(No column name)": "3"
                                },
                                {
                                    "USERNEV": "peter1",
                                    "METTOL": "2017-02-23",
                                    "MEDDIG": "2017-02-26",
                                    "(No column name)": "6"
                                },
                                {
                                    "USERNEV": "peter1",
                                    "METTOL": "2017-02-28",
                                    "MEDDIG": "2017-03-05",
                                    "(No column name)": "9"
                                },
                                {
                                    "USERNEV": "peter2",
                                    "METTOL": "2016-07-03",
                                    "MEDDIG": "2016-07-08",
                                    "(No column name)": "NULL"
                                },
                                {
                                    "USERNEV": "peter2",
                                    "METTOL": "2016-10-10",
                                    "MEDDIG": "2016-10-16",
                                    "(No column name)": "2"
                                },
                                {
                                    "USERNEV": "peter2",
                                    "METTOL": "2016-11-01",
                                    "MEDDIG": "2016-11-02",
                                    "(No column name)": "4"
                                },
                                {
                                    "USERNEV": "peter2",
                                    "METTOL": "2016-11-15",
                                    "MEDDIG": "2016-11-21",
                                    "(No column name)": "6"
                                },
                                {
                                    "USERNEV": "peter3",
                                    "METTOL": "2016-06-30",
                                    "MEDDIG": "2016-07-05",
                                    "(No column name)": "NULL"
                                },
                                {
                                    "USERNEV": "peter3",
                                    "METTOL": "2016-07-27",
                                    "MEDDIG": "2016-07-31",
                                    "(No column name)": "3"
                                },
                                {
                                    "USERNEV": "peter3",
                                    "METTOL": "2016-10-30",
                                    "MEDDIG": "2016-11-06",
                                    "(No column name)": "7"
                                },
                                {
                                    "USERNEV": "peter3",
                                    "METTOL": "2016-12-25",
                                    "MEDDIG": "2016-12-28",
                                    "(No column name)": "9"
                                },
                                {
                                    "USERNEV": "peter3",
                                    "METTOL": "2017-01-12",
                                    "MEDDIG": "2017-01-17",
                                    "(No column name)": "7"
                                },
                                {
                                    "USERNEV": "peter3",
                                    "METTOL": "2017-02-21",
                                    "MEDDIG": "2017-02-24",
                                    "(No column name)": "4"
                                },
                                {
                                    "USERNEV": "peter4",
                                    "METTOL": "2016-04-12",
                                    "MEDDIG": "2016-04-15",
                                    "(No column name)": "NULL"
                                },
                                {
                                    "USERNEV": "peter4",
                                    "METTOL": "2016-08-06",
                                    "MEDDIG": "2016-08-13",
                                    "(No column name)": "3"
                                },
                                {
                                    "USERNEV": "peter4",
                                    "METTOL": "2016-08-24",
                                    "MEDDIG": "2016-08-25",
                                    "(No column name)": "5"
                                },
                                {
                                    "USERNEV": "peter4",
                                    "METTOL": "2016-09-11",
                                    "MEDDIG": "2016-09-17",
                                    "(No column name)": "8"
                                },
                                {
                                    "USERNEV": "peter4",
                                    "METTOL": "2016-09-25",
                                    "MEDDIG": "2016-09-26",
                                    "(No column name)": "9"
                                },
                                {
                                    "USERNEV": "peter4",
                                    "METTOL": "2016-09-30",
                                    "MEDDIG": "2016-10-06",
                                    "(No column name)": "10"
                                },
                                {
                                    "USERNEV": "peter4",
                                    "METTOL": "2016-10-09",
                                    "MEDDIG": "2016-10-16",
                                    "(No column name)": "10"
                                },
                                {
                                    "USERNEV": "peter4",
                                    "METTOL": "2016-10-24",
                                    "MEDDIG": "2016-10-25",
                                    "(No column name)": "9"
                                },
                                {
                                    "USERNEV": "peter4",
                                    "METTOL": "2016-10-30",
                                    "MEDDIG": "2016-11-01",
                                    "(No column name)": "8"
                                },
                                {
                                    "USERNEV": "peter4",
                                    "METTOL": "2016-11-10",
                                    "MEDDIG": "2016-11-17",
                                    "(No column name)": "8"
                                },
                                {
                                    "USERNEV": "peter4",
                                    "METTOL": "2016-11-25",
                                    "MEDDIG": "2016-11-30",
                                    "(No column name)": "8"
                                },
                                {
                                    "USERNEV": "peter4",
                                    "METTOL": "2017-02-05",
                                    "MEDDIG": "2017-02-09",
                                    "(No column name)": "9"
                                },
                                {
                                    "USERNEV": "PETERB",
                                    "METTOL": "2016-04-06",
                                    "MEDDIG": "2016-04-10",
                                    "(No column name)": "NULL"
                                },
                                {
                                    "USERNEV": "PETERB",
                                    "METTOL": "2016-07-20",
                                    "MEDDIG": "2016-07-24",
                                    "(No column name)": "1"
                                },
                                {
                                    "USERNEV": "PETERB",
                                    "METTOL": "2016-08-16",
                                    "MEDDIG": "2016-08-23",
                                    "(No column name)": "3"
                                },
                                {
                                    "USERNEV": "PETERB",
                                    "METTOL": "2016-10-19",
                                    "MEDDIG": "2016-10-20",
                                    "(No column name)": "4"
                                },
                                {
                                    "USERNEV": "PETERB",
                                    "METTOL": "2016-11-17",
                                    "MEDDIG": "2016-11-20",
                                    "(No column name)": "7"
                                },
                                {
                                    "USERNEV": "polla",
                                    "METTOL": "2016-04-17",
                                    "MEDDIG": "2016-04-22",
                                    "(No column name)": "NULL"
                                },
                                {
                                    "USERNEV": "polla",
                                    "METTOL": "2016-05-28",
                                    "MEDDIG": "2016-06-04",
                                    "(No column name)": "3"
                                },
                                {
                                    "USERNEV": "polla",
                                    "METTOL": "2016-08-14",
                                    "MEDDIG": "2016-08-17",
                                    "(No column name)": "5"
                                },
                                {
                                    "USERNEV": "polla",
                                    "METTOL": "2016-08-16",
                                    "MEDDIG": "2016-08-19",
                                    "(No column name)": "7"
                                },
                                {
                                    "USERNEV": "polla",
                                    "METTOL": "2017-01-29",
                                    "MEDDIG": "2017-02-01",
                                    "(No column name)": "8"
                                },
                                {
                                    "USERNEV": "polla",
                                    "METTOL": "2017-02-11",
                                    "MEDDIG": "2017-02-16",
                                    "(No column name)": "8"
                                },
                                {
                                    "USERNEV": "rajmond4",
                                    "METTOL": "2016-09-05",
                                    "MEDDIG": "2016-09-07",
                                    "(No column name)": "NULL"
                                },
                                {
                                    "USERNEV": "rajmond4",
                                    "METTOL": "2016-10-03",
                                    "MEDDIG": "2016-10-04",
                                    "(No column name)": "3"
                                },
                                {
                                    "USERNEV": "rajmond4",
                                    "METTOL": "2016-11-08",
                                    "MEDDIG": "2016-11-09",
                                    "(No column name)": "6"
                                },
                                {
                                    "USERNEV": "rajmond4",
                                    "METTOL": "2016-11-16",
                                    "MEDDIG": "2016-11-20",
                                    "(No column name)": "10"
                                },
                                {
                                    "USERNEV": "reka4",
                                    "METTOL": "2016-07-27",
                                    "MEDDIG": "2016-07-31",
                                    "(No column name)": "NULL"
                                },
                                {
                                    "USERNEV": "reka4",
                                    "METTOL": "2016-08-02",
                                    "MEDDIG": "2016-08-04",
                                    "(No column name)": "2"
                                },
                                {
                                    "USERNEV": "reka4",
                                    "METTOL": "2016-09-05",
                                    "MEDDIG": "2016-09-07",
                                    "(No column name)": "6"
                                },
                                {
                                    "USERNEV": "reka4",
                                    "METTOL": "2016-09-30",
                                    "MEDDIG": "2016-10-06",
                                    "(No column name)": "9"
                                },
                                {
                                    "USERNEV": "reka4",
                                    "METTOL": "2017-02-26",
                                    "MEDDIG": "2017-03-04",
                                    "(No column name)": "9"
                                },
                                {
                                    "USERNEV": "RENATAK",
                                    "METTOL": "2016-10-27",
                                    "MEDDIG": "2016-10-29",
                                    "(No column name)": "NULL"
                                },
                                {
                                    "USERNEV": "RENATAK",
                                    "METTOL": "2016-10-30",
                                    "MEDDIG": "2016-10-31",
                                    "(No column name)": "4"
                                },
                                {
                                    "USERNEV": "RENATAK",
                                    "METTOL": "2016-11-23",
                                    "MEDDIG": "2016-11-26",
                                    "(No column name)": "5"
                                },
                                {
                                    "USERNEV": "RENATAK",
                                    "METTOL": "2017-01-23",
                                    "MEDDIG": "2017-01-24",
                                    "(No column name)": "6"
                                },
                                {
                                    "USERNEV": "RENATAK",
                                    "METTOL": "2017-02-16",
                                    "MEDDIG": "2017-02-23",
                                    "(No column name)": "5"
                                },
                                {
                                    "USERNEV": "RENATAK",
                                    "METTOL": "2017-03-01",
                                    "MEDDIG": "2017-03-06",
                                    "(No column name)": "5"
                                },
                                {
                                    "USERNEV": "RENATAS",
                                    "METTOL": "2016-05-04",
                                    "MEDDIG": "2016-05-11",
                                    "(No column name)": "NULL"
                                },
                                {
                                    "USERNEV": "RENATAS",
                                    "METTOL": "2016-05-11",
                                    "MEDDIG": "2016-05-16",
                                    "(No column name)": "2"
                                },
                                {
                                    "USERNEV": "RENATAS",
                                    "METTOL": "2016-06-24",
                                    "MEDDIG": "2016-06-30",
                                    "(No column name)": "4"
                                },
                                {
                                    "USERNEV": "RENATAS",
                                    "METTOL": "2017-02-13",
                                    "MEDDIG": "2017-02-17",
                                    "(No column name)": "9"
                                },
                                {
                                    "USERNEV": "RENATAS",
                                    "METTOL": "2017-02-14",
                                    "MEDDIG": "2017-02-17",
                                    "(No column name)": "8"
                                },
                                {
                                    "USERNEV": "robert2",
                                    "METTOL": "2016-05-15",
                                    "MEDDIG": "2016-05-18",
                                    "(No column name)": "NULL"
                                },
                                {
                                    "USERNEV": "robert2",
                                    "METTOL": "2016-08-20",
                                    "MEDDIG": "2016-08-27",
                                    "(No column name)": "2"
                                },
                                {
                                    "USERNEV": "robert2",
                                    "METTOL": "2016-10-23",
                                    "MEDDIG": "2016-10-28",
                                    "(No column name)": "4"
                                },
                                {
                                    "USERNEV": "robert2",
                                    "METTOL": "2016-12-17",
                                    "MEDDIG": "2016-12-22",
                                    "(No column name)": "7"
                                },
                                {
                                    "USERNEV": "ROBERTI",
                                    "METTOL": "2016-07-12",
                                    "MEDDIG": "2016-07-19",
                                    "(No column name)": "NULL"
                                },
                                {
                                    "USERNEV": "ROBERTI",
                                    "METTOL": "2016-08-16",
                                    "MEDDIG": "2016-08-21",
                                    "(No column name)": "4"
                                },
                                {
                                    "USERNEV": "ROBERTI",
                                    "METTOL": "2016-08-23",
                                    "MEDDIG": "2016-08-25",
                                    "(No column name)": "6"
                                },
                                {
                                    "USERNEV": "ROBERTI",
                                    "METTOL": "2016-10-08",
                                    "MEDDIG": "2016-10-12",
                                    "(No column name)": "8"
                                },
                                {
                                    "USERNEV": "ROBERTI",
                                    "METTOL": "2016-10-09",
                                    "MEDDIG": "2016-10-10",
                                    "(No column name)": "7"
                                },
                                {
                                    "USERNEV": "ROBERTI",
                                    "METTOL": "2016-10-23",
                                    "MEDDIG": "2016-10-29",
                                    "(No column name)": "7"
                                },
                                {
                                    "USERNEV": "ROBERTI",
                                    "METTOL": "2016-10-26",
                                    "MEDDIG": "2016-11-01",
                                    "(No column name)": "6"
                                },
                                {
                                    "USERNEV": "ROBERTI",
                                    "METTOL": "2017-02-17",
                                    "MEDDIG": "2017-02-20",
                                    "(No column name)": "5"
                                },
                                {
                                    "USERNEV": "ROBERTP",
                                    "METTOL": "2016-07-30",
                                    "MEDDIG": "2016-08-05",
                                    "(No column name)": "NULL"
                                },
                                {
                                    "USERNEV": "ROBERTP",
                                    "METTOL": "2016-09-08",
                                    "MEDDIG": "2016-09-11",
                                    "(No column name)": "2"
                                },
                                {
                                    "USERNEV": "roland",
                                    "METTOL": "2016-06-09",
                                    "MEDDIG": "2016-06-13",
                                    "(No column name)": "NULL"
                                },
                                {
                                    "USERNEV": "roland",
                                    "METTOL": "2016-06-22",
                                    "MEDDIG": "2016-06-23",
                                    "(No column name)": "3"
                                },
                                {
                                    "USERNEV": "roland",
                                    "METTOL": "2016-09-04",
                                    "MEDDIG": "2016-09-05",
                                    "(No column name)": "6"
                                },
                                {
                                    "USERNEV": "roland",
                                    "METTOL": "2016-11-19",
                                    "MEDDIG": "2016-11-24",
                                    "(No column name)": "8"
                                },
                                {
                                    "USERNEV": "roland1",
                                    "METTOL": "2016-11-05",
                                    "MEDDIG": "2016-11-07",
                                    "(No column name)": "NULL"
                                },
                                {
                                    "USERNEV": "roland1",
                                    "METTOL": "2016-12-22",
                                    "MEDDIG": "2016-12-29",
                                    "(No column name)": "3"
                                },
                                {
                                    "USERNEV": "roland1",
                                    "METTOL": "2017-01-04",
                                    "MEDDIG": "2017-01-08",
                                    "(No column name)": "4"
                                },
                                {
                                    "USERNEV": "roland1",
                                    "METTOL": "2017-01-16",
                                    "MEDDIG": "2017-01-22",
                                    "(No column name)": "7"
                                },
                                {
                                    "USERNEV": "roza2",
                                    "METTOL": "2016-09-10",
                                    "MEDDIG": "2016-09-13",
                                    "(No column name)": "NULL"
                                },
                                {
                                    "USERNEV": "roza2",
                                    "METTOL": "2017-01-11",
                                    "MEDDIG": "2017-01-17",
                                    "(No column name)": "2"
                                },
                                {
                                    "USERNEV": "roza2",
                                    "METTOL": "2017-02-18",
                                    "MEDDIG": "2017-02-21",
                                    "(No column name)": "5"
                                },
                                {
                                    "USERNEV": "sandor",
                                    "METTOL": "2016-07-04",
                                    "MEDDIG": "2016-07-06",
                                    "(No column name)": "NULL"
                                },
                                {
                                    "USERNEV": "sandor",
                                    "METTOL": "2016-07-18",
                                    "MEDDIG": "2016-07-24",
                                    "(No column name)": "2"
                                },
                                {
                                    "USERNEV": "sandor",
                                    "METTOL": "2016-08-20",
                                    "MEDDIG": "2016-08-25",
                                    "(No column name)": "4"
                                },
                                {
                                    "USERNEV": "sandor",
                                    "METTOL": "2016-09-19",
                                    "MEDDIG": "2016-09-26",
                                    "(No column name)": "6"
                                },
                                {
                                    "USERNEV": "sandor3",
                                    "METTOL": "2016-05-12",
                                    "MEDDIG": "2016-05-15",
                                    "(No column name)": "NULL"
                                },
                                {
                                    "USERNEV": "sandor3",
                                    "METTOL": "2016-05-25",
                                    "MEDDIG": "2016-05-30",
                                    "(No column name)": "2"
                                },
                                {
                                    "USERNEV": "sandor3",
                                    "METTOL": "2016-10-09",
                                    "MEDDIG": "2016-10-14",
                                    "(No column name)": "3"
                                },
                                {
                                    "USERNEV": "sandor3",
                                    "METTOL": "2016-10-23",
                                    "MEDDIG": "2016-10-29",
                                    "(No column name)": "5"
                                },
                                {
                                    "USERNEV": "sandor3",
                                    "METTOL": "2016-11-10",
                                    "MEDDIG": "2016-11-11",
                                    "(No column name)": "6"
                                },
                                {
                                    "USERNEV": "sandor4",
                                    "METTOL": "2016-10-15",
                                    "MEDDIG": "2016-10-18",
                                    "(No column name)": "NULL"
                                },
                                {
                                    "USERNEV": "sandor4",
                                    "METTOL": "2016-11-29",
                                    "MEDDIG": "2016-12-03",
                                    "(No column name)": "1"
                                },
                                {
                                    "USERNEV": "sandor4",
                                    "METTOL": "2016-12-03",
                                    "MEDDIG": "2016-12-09",
                                    "(No column name)": "3"
                                },
                                {
                                    "USERNEV": "sandor4",
                                    "METTOL": "2017-01-22",
                                    "MEDDIG": "2017-01-26",
                                    "(No column name)": "4"
                                },
                                {
                                    "USERNEV": "sara",
                                    "METTOL": "2016-05-28",
                                    "MEDDIG": "2016-05-30",
                                    "(No column name)": "NULL"
                                },
                                {
                                    "USERNEV": "sara",
                                    "METTOL": "2016-05-30",
                                    "MEDDIG": "2016-05-31",
                                    "(No column name)": "2"
                                },
                                {
                                    "USERNEV": "sara",
                                    "METTOL": "2016-06-06",
                                    "MEDDIG": "2016-06-08",
                                    "(No column name)": "4"
                                },
                                {
                                    "USERNEV": "sara",
                                    "METTOL": "2016-07-15",
                                    "MEDDIG": "2016-07-17",
                                    "(No column name)": "6"
                                },
                                {
                                    "USERNEV": "sara",
                                    "METTOL": "2016-07-24",
                                    "MEDDIG": "2016-07-27",
                                    "(No column name)": "7"
                                },
                                {
                                    "USERNEV": "sara",
                                    "METTOL": "2016-10-06",
                                    "MEDDIG": "2016-10-12",
                                    "(No column name)": "8"
                                },
                                {
                                    "USERNEV": "sara",
                                    "METTOL": "2016-10-11",
                                    "MEDDIG": "2016-10-14",
                                    "(No column name)": "9"
                                },
                                {
                                    "USERNEV": "sara",
                                    "METTOL": "2016-10-28",
                                    "MEDDIG": "2016-11-03",
                                    "(No column name)": "9"
                                },
                                {
                                    "USERNEV": "sara",
                                    "METTOL": "2016-11-18",
                                    "MEDDIG": "2016-11-21",
                                    "(No column name)": "8"
                                },
                                {
                                    "USERNEV": "sara",
                                    "METTOL": "2016-11-23",
                                    "MEDDIG": "2016-11-30",
                                    "(No column name)": "8"
                                },
                                {
                                    "USERNEV": "sara",
                                    "METTOL": "2016-12-06",
                                    "MEDDIG": "2016-12-10",
                                    "(No column name)": "9"
                                },
                                {
                                    "USERNEV": "sara",
                                    "METTOL": "2016-12-25",
                                    "MEDDIG": "2016-12-30",
                                    "(No column name)": "8"
                                },
                                {
                                    "USERNEV": "SEBASTIANF",
                                    "METTOL": "2016-04-06",
                                    "MEDDIG": "2016-04-12",
                                    "(No column name)": "NULL"
                                },
                                {
                                    "USERNEV": "SEBASTIANF",
                                    "METTOL": "2016-07-17",
                                    "MEDDIG": "2016-07-21",
                                    "(No column name)": "2"
                                },
                                {
                                    "USERNEV": "SEBASTIANF",
                                    "METTOL": "2016-07-30",
                                    "MEDDIG": "2016-08-06",
                                    "(No column name)": "4"
                                },
                                {
                                    "USERNEV": "SEBASTIANF",
                                    "METTOL": "2016-09-14",
                                    "MEDDIG": "2016-09-15",
                                    "(No column name)": "8"
                                },
                                {
                                    "USERNEV": "SEBASTIANF",
                                    "METTOL": "2016-09-17",
                                    "MEDDIG": "2016-09-20",
                                    "(No column name)": "9"
                                },
                                {
                                    "USERNEV": "sebestyen",
                                    "METTOL": "2016-04-07",
                                    "MEDDIG": "2016-04-12",
                                    "(No column name)": "NULL"
                                },
                                {
                                    "USERNEV": "sebestyen",
                                    "METTOL": "2016-04-26",
                                    "MEDDIG": "2016-05-02",
                                    "(No column name)": "4"
                                },
                                {
                                    "USERNEV": "sebestyen",
                                    "METTOL": "2016-06-09",
                                    "MEDDIG": "2016-06-14",
                                    "(No column name)": "8"
                                },
                                {
                                    "USERNEV": "sebestyen",
                                    "METTOL": "2016-10-26",
                                    "MEDDIG": "2016-11-01",
                                    "(No column name)": "12"
                                },
                                {
                                    "USERNEV": "szabolcs",
                                    "METTOL": "2016-12-05",
                                    "MEDDIG": "2016-12-07",
                                    "(No column name)": "NULL"
                                },
                                {
                                    "USERNEV": "SZABOLCSM",
                                    "METTOL": "2016-06-18",
                                    "MEDDIG": "2016-06-21",
                                    "(No column name)": "NULL"
                                },
                                {
                                    "USERNEV": "SZABOLCSM",
                                    "METTOL": "2016-07-28",
                                    "MEDDIG": "2016-08-03",
                                    "(No column name)": "3"
                                },
                                {
                                    "USERNEV": "SZABOLCSM",
                                    "METTOL": "2016-10-17",
                                    "MEDDIG": "2016-10-19",
                                    "(No column name)": "5"
                                },
                                {
                                    "USERNEV": "SZABOLCSM",
                                    "METTOL": "2016-10-28",
                                    "MEDDIG": "2016-11-03",
                                    "(No column name)": "7"
                                },
                                {
                                    "USERNEV": "SZABOLCSM",
                                    "METTOL": "2016-11-12",
                                    "MEDDIG": "2016-11-13",
                                    "(No column name)": "7"
                                },
                                {
                                    "USERNEV": "SZABOLCSM",
                                    "METTOL": "2017-01-07",
                                    "MEDDIG": "2017-01-08",
                                    "(No column name)": "7"
                                },
                                {
                                    "USERNEV": "SZABOLCSM",
                                    "METTOL": "2017-02-04",
                                    "MEDDIG": "2017-02-05",
                                    "(No column name)": "7"
                                },
                                {
                                    "USERNEV": "SZILARDS",
                                    "METTOL": "2016-04-23",
                                    "MEDDIG": "2016-04-30",
                                    "(No column name)": "NULL"
                                },
                                {
                                    "USERNEV": "SZILARDS",
                                    "METTOL": "2016-07-27",
                                    "MEDDIG": "2016-08-03",
                                    "(No column name)": "3"
                                },
                                {
                                    "USERNEV": "SZILARDS",
                                    "METTOL": "2016-08-28",
                                    "MEDDIG": "2016-08-29",
                                    "(No column name)": "8"
                                },
                                {
                                    "USERNEV": "SZILARDS",
                                    "METTOL": "2016-09-20",
                                    "MEDDIG": "2016-09-24",
                                    "(No column name)": "12"
                                },
                                {
                                    "USERNEV": "SZILARDS",
                                    "METTOL": "2016-10-01",
                                    "MEDDIG": "2016-10-08",
                                    "(No column name)": "12"
                                },
                                {
                                    "USERNEV": "SZILARDS",
                                    "METTOL": "2017-01-16",
                                    "MEDDIG": "2017-01-19",
                                    "(No column name)": "10"
                                },
                                {
                                    "USERNEV": "SZILARDS",
                                    "METTOL": "2017-02-08",
                                    "MEDDIG": "2017-02-15",
                                    "(No column name)": "9"
                                },
                                {
                                    "USERNEV": "szilvia1",
                                    "METTOL": "2016-05-14",
                                    "MEDDIG": "2016-05-21",
                                    "(No column name)": "NULL"
                                },
                                {
                                    "USERNEV": "szilvia1",
                                    "METTOL": "2016-05-28",
                                    "MEDDIG": "2016-06-03",
                                    "(No column name)": "2"
                                },
                                {
                                    "USERNEV": "szilvia1",
                                    "METTOL": "2016-07-25",
                                    "MEDDIG": "2016-07-28",
                                    "(No column name)": "4"
                                },
                                {
                                    "USERNEV": "szilvia1",
                                    "METTOL": "2016-10-09",
                                    "MEDDIG": "2016-10-10",
                                    "(No column name)": "6"
                                },
                                {
                                    "USERNEV": "szilvia1",
                                    "METTOL": "2016-10-25",
                                    "MEDDIG": "2016-10-31",
                                    "(No column name)": "7"
                                },
                                {
                                    "USERNEV": "szilvia1",
                                    "METTOL": "2016-10-27",
                                    "MEDDIG": "2016-10-28",
                                    "(No column name)": "8"
                                },
                                {
                                    "USERNEV": "szilvia1",
                                    "METTOL": "2016-12-25",
                                    "MEDDIG": "2016-12-29",
                                    "(No column name)": "8"
                                },
                                {
                                    "USERNEV": "szilvia1",
                                    "METTOL": "2016-12-27",
                                    "MEDDIG": "2017-01-02",
                                    "(No column name)": "10"
                                },
                                {
                                    "USERNEV": "szilvia1",
                                    "METTOL": "2017-01-28",
                                    "MEDDIG": "2017-02-03",
                                    "(No column name)": "9"
                                },
                                {
                                    "USERNEV": "tamara2",
                                    "METTOL": "2016-08-12",
                                    "MEDDIG": "2016-08-15",
                                    "(No column name)": "NULL"
                                },
                                {
                                    "USERNEV": "tamara2",
                                    "METTOL": "2016-11-15",
                                    "MEDDIG": "2016-11-18",
                                    "(No column name)": "3"
                                },
                                {
                                    "USERNEV": "tamas",
                                    "METTOL": "2016-05-17",
                                    "MEDDIG": "2016-05-22",
                                    "(No column name)": "NULL"
                                },
                                {
                                    "USERNEV": "tamas",
                                    "METTOL": "2016-06-14",
                                    "MEDDIG": "2016-06-21",
                                    "(No column name)": "2"
                                },
                                {
                                    "USERNEV": "tamas",
                                    "METTOL": "2016-08-24",
                                    "MEDDIG": "2016-08-27",
                                    "(No column name)": "4"
                                },
                                {
                                    "USERNEV": "tamas",
                                    "METTOL": "2017-02-14",
                                    "MEDDIG": "2017-02-19",
                                    "(No column name)": "7"
                                },
                                {
                                    "USERNEV": "TAMASF",
                                    "METTOL": "2016-05-03",
                                    "MEDDIG": "2016-05-04",
                                    "(No column name)": "NULL"
                                },
                                {
                                    "USERNEV": "TAMASF",
                                    "METTOL": "2016-06-10",
                                    "MEDDIG": "2016-06-13",
                                    "(No column name)": "2"
                                },
                                {
                                    "USERNEV": "TAMASF",
                                    "METTOL": "2016-06-28",
                                    "MEDDIG": "2016-07-05",
                                    "(No column name)": "5"
                                },
                                {
                                    "USERNEV": "TAMASF",
                                    "METTOL": "2016-07-04",
                                    "MEDDIG": "2016-07-10",
                                    "(No column name)": "8"
                                },
                                {
                                    "USERNEV": "TAMASF",
                                    "METTOL": "2016-09-12",
                                    "MEDDIG": "2016-09-18",
                                    "(No column name)": "8"
                                },
                                {
                                    "USERNEV": "TAMASF",
                                    "METTOL": "2016-12-02",
                                    "MEDDIG": "2016-12-04",
                                    "(No column name)": "8"
                                },
                                {
                                    "USERNEV": "TAMASF",
                                    "METTOL": "2016-12-10",
                                    "MEDDIG": "2016-12-14",
                                    "(No column name)": "6"
                                },
                                {
                                    "USERNEV": "TAMASF",
                                    "METTOL": "2017-02-12",
                                    "MEDDIG": "2017-02-17",
                                    "(No column name)": "7"
                                },
                                {
                                    "USERNEV": "TAMASF",
                                    "METTOL": "2017-02-16",
                                    "MEDDIG": "2017-02-19",
                                    "(No column name)": "6"
                                },
                                {
                                    "USERNEV": "tibor",
                                    "METTOL": "2016-10-09",
                                    "MEDDIG": "2016-10-13",
                                    "(No column name)": "NULL"
                                },
                                {
                                    "USERNEV": "tibor",
                                    "METTOL": "2016-11-05",
                                    "MEDDIG": "2016-11-09",
                                    "(No column name)": "2"
                                },
                                {
                                    "USERNEV": "tibor2",
                                    "METTOL": "2016-10-20",
                                    "MEDDIG": "2016-10-25",
                                    "(No column name)": "NULL"
                                },
                                {
                                    "USERNEV": "tihamer",
                                    "METTOL": "2016-05-30",
                                    "MEDDIG": "2016-06-05",
                                    "(No column name)": "NULL"
                                },
                                {
                                    "USERNEV": "tihamer",
                                    "METTOL": "2016-06-03",
                                    "MEDDIG": "2016-06-08",
                                    "(No column name)": "1"
                                },
                                {
                                    "USERNEV": "tihamer",
                                    "METTOL": "2016-07-20",
                                    "MEDDIG": "2016-07-24",
                                    "(No column name)": "6"
                                },
                                {
                                    "USERNEV": "tihamer",
                                    "METTOL": "2016-08-18",
                                    "MEDDIG": "2016-08-22",
                                    "(No column name)": "9"
                                },
                                {
                                    "USERNEV": "tihamer",
                                    "METTOL": "2016-10-19",
                                    "MEDDIG": "2016-10-23",
                                    "(No column name)": "11"
                                },
                                {
                                    "USERNEV": "tihamer",
                                    "METTOL": "2016-12-25",
                                    "MEDDIG": "2016-12-26",
                                    "(No column name)": "8"
                                },
                                {
                                    "USERNEV": "timea",
                                    "METTOL": "2016-12-26",
                                    "MEDDIG": "2016-12-27",
                                    "(No column name)": "NULL"
                                },
                                {
                                    "USERNEV": "timea2",
                                    "METTOL": "2016-06-06",
                                    "MEDDIG": "2016-06-07",
                                    "(No column name)": "NULL"
                                },
                                {
                                    "USERNEV": "timea2",
                                    "METTOL": "2016-08-07",
                                    "MEDDIG": "2016-08-10",
                                    "(No column name)": "2"
                                },
                                {
                                    "USERNEV": "timea2",
                                    "METTOL": "2016-10-26",
                                    "MEDDIG": "2016-10-29",
                                    "(No column name)": "5"
                                },
                                {
                                    "USERNEV": "timea2",
                                    "METTOL": "2016-11-27",
                                    "MEDDIG": "2016-12-01",
                                    "(No column name)": "8"
                                },
                                {
                                    "USERNEV": "timea2",
                                    "METTOL": "2016-12-14",
                                    "MEDDIG": "2016-12-16",
                                    "(No column name)": "10"
                                },
                                {
                                    "USERNEV": "tunde",
                                    "METTOL": "2016-06-03",
                                    "MEDDIG": "2016-06-07",
                                    "(No column name)": "NULL"
                                },
                                {
                                    "USERNEV": "tunde",
                                    "METTOL": "2016-06-06",
                                    "MEDDIG": "2016-06-12",
                                    "(No column name)": "3"
                                },
                                {
                                    "USERNEV": "tunde",
                                    "METTOL": "2016-07-14",
                                    "MEDDIG": "2016-07-21",
                                    "(No column name)": "6"
                                },
                                {
                                    "USERNEV": "tunde",
                                    "METTOL": "2016-09-05",
                                    "MEDDIG": "2016-09-12",
                                    "(No column name)": "7"
                                },
                                {
                                    "USERNEV": "tunde",
                                    "METTOL": "2016-10-24",
                                    "MEDDIG": "2016-10-30",
                                    "(No column name)": "6"
                                },
                                {
                                    "USERNEV": "tunde",
                                    "METTOL": "2016-11-19",
                                    "MEDDIG": "2016-11-20",
                                    "(No column name)": "6"
                                },
                                {
                                    "USERNEV": "tunde",
                                    "METTOL": "2016-12-15",
                                    "MEDDIG": "2016-12-20",
                                    "(No column name)": "8"
                                },
                                {
                                    "USERNEV": "tunde",
                                    "METTOL": "2017-01-03",
                                    "MEDDIG": "2017-01-06",
                                    "(No column name)": "9"
                                },
                                {
                                    "USERNEV": "valentin",
                                    "METTOL": "2016-05-24",
                                    "MEDDIG": "2016-05-30",
                                    "(No column name)": "NULL"
                                },
                                {
                                    "USERNEV": "valentin",
                                    "METTOL": "2016-07-24",
                                    "MEDDIG": "2016-07-29",
                                    "(No column name)": "4"
                                },
                                {
                                    "USERNEV": "valentin",
                                    "METTOL": "2016-10-26",
                                    "MEDDIG": "2016-10-30",
                                    "(No column name)": "5"
                                },
                                {
                                    "USERNEV": "valentin",
                                    "METTOL": "2016-11-11",
                                    "MEDDIG": "2016-11-17",
                                    "(No column name)": "8"
                                },
                                {
                                    "USERNEV": "valentin",
                                    "METTOL": "2016-12-01",
                                    "MEDDIG": "2016-12-05",
                                    "(No column name)": "7"
                                },
                                {
                                    "USERNEV": "veronika4",
                                    "METTOL": "2016-05-30",
                                    "MEDDIG": "2016-06-04",
                                    "(No column name)": "NULL"
                                },
                                {
                                    "USERNEV": "veronika4",
                                    "METTOL": "2016-07-20",
                                    "MEDDIG": "2016-07-26",
                                    "(No column name)": "2"
                                },
                                {
                                    "USERNEV": "veronika4",
                                    "METTOL": "2016-08-16",
                                    "MEDDIG": "2016-08-21",
                                    "(No column name)": "5"
                                },
                                {
                                    "USERNEV": "veronika4",
                                    "METTOL": "2016-09-26",
                                    "MEDDIG": "2016-10-03",
                                    "(No column name)": "6"
                                },
                                {
                                    "USERNEV": "veronika4",
                                    "METTOL": "2017-01-19",
                                    "MEDDIG": "2017-01-24",
                                    "(No column name)": "6"
                                },
                                {
                                    "USERNEV": "veronika4",
                                    "METTOL": "2017-02-03",
                                    "MEDDIG": "2017-02-05",
                                    "(No column name)": "6"
                                },
                                {
                                    "USERNEV": "VIKTORIAU",
                                    "METTOL": "2016-04-30",
                                    "MEDDIG": "2016-05-03",
                                    "(No column name)": "NULL"
                                },
                                {
                                    "USERNEV": "VIKTORIAU",
                                    "METTOL": "2016-08-03",
                                    "MEDDIG": "2016-08-04",
                                    "(No column name)": "1"
                                },
                                {
                                    "USERNEV": "VIKTORIAU",
                                    "METTOL": "2016-10-14",
                                    "MEDDIG": "2016-10-15",
                                    "(No column name)": "3"
                                },
                                {
                                    "USERNEV": "VIKTORIAU",
                                    "METTOL": "2016-10-26",
                                    "MEDDIG": "2016-11-02",
                                    "(No column name)": "6"
                                },
                                {
                                    "USERNEV": "VIKTORK",
                                    "METTOL": "2016-05-30",
                                    "MEDDIG": "2016-06-01",
                                    "(No column name)": "NULL"
                                },
                                {
                                    "USERNEV": "VIKTORK",
                                    "METTOL": "2016-06-06",
                                    "MEDDIG": "2016-06-07",
                                    "(No column name)": "2"
                                },
                                {
                                    "USERNEV": "vivien3",
                                    "METTOL": "2016-05-02",
                                    "MEDDIG": "2016-05-05",
                                    "(No column name)": "NULL"
                                },
                                {
                                    "USERNEV": "vivien3",
                                    "METTOL": "2016-08-13",
                                    "MEDDIG": "2016-08-18",
                                    "(No column name)": "3"
                                },
                                {
                                    "USERNEV": "vivien3",
                                    "METTOL": "2016-09-01",
                                    "MEDDIG": "2016-09-05",
                                    "(No column name)": "5"
                                },
                                {
                                    "USERNEV": "vivien3",
                                    "METTOL": "2016-10-01",
                                    "MEDDIG": "2016-10-04",
                                    "(No column name)": "7"
                                },
                                {
                                    "USERNEV": "vivien3",
                                    "METTOL": "2016-11-17",
                                    "MEDDIG": "2016-11-20",
                                    "(No column name)": "5"
                                },
                                {
                                    "USERNEV": "vivien3",
                                    "METTOL": "2016-12-17",
                                    "MEDDIG": "2016-12-21",
                                    "(No column name)": "5"
                                },
                                {
                                    "USERNEV": "vivien3",
                                    "METTOL": "2016-12-24",
                                    "MEDDIG": "2016-12-26",
                                    "(No column name)": "5"
                                },
                                {
                                    "USERNEV": "zoltan",
                                    "METTOL": "2016-08-24",
                                    "MEDDIG": "2016-08-31",
                                    "(No column name)": "NULL"
                                },
                                {
                                    "USERNEV": "zoltan",
                                    "METTOL": "2016-09-05",
                                    "MEDDIG": "2016-09-09",
                                    "(No column name)": "2"
                                },
                                {
                                    "USERNEV": "zoltan4",
                                    "METTOL": "2016-05-12",
                                    "MEDDIG": "2016-05-16",
                                    "(No column name)": "NULL"
                                },
                                {
                                    "USERNEV": "zoltan4",
                                    "METTOL": "2016-05-13",
                                    "MEDDIG": "2016-05-16",
                                    "(No column name)": "3"
                                },
                                {
                                    "USERNEV": "zoltan4",
                                    "METTOL": "2016-06-03",
                                    "MEDDIG": "2016-06-06",
                                    "(No column name)": "6"
                                },
                                {
                                    "USERNEV": "zoltan4",
                                    "METTOL": "2016-08-15",
                                    "MEDDIG": "2016-08-21",
                                    "(No column name)": "7"
                                },
                                {
                                    "USERNEV": "zoltan4",
                                    "METTOL": "2016-08-16",
                                    "MEDDIG": "2016-08-23",
                                    "(No column name)": "5"
                                },
                                {
                                    "USERNEV": "zoltan4",
                                    "METTOL": "2016-09-30",
                                    "MEDDIG": "2016-10-07",
                                    "(No column name)": "4"
                                },
                                {
                                    "USERNEV": "zoltan4",
                                    "METTOL": "2016-10-21",
                                    "MEDDIG": "2016-10-24",
                                    "(No column name)": "6"
                                },
                                {
                                    "USERNEV": "zoltan4",
                                    "METTOL": "2016-10-26",
                                    "MEDDIG": "2016-10-30",
                                    "(No column name)": "10"
                                },
                                {
                                    "USERNEV": "zoltan4",
                                    "METTOL": "2016-10-30",
                                    "MEDDIG": "2016-11-06",
                                    "(No column name)": "10"
                                },
                                {
                                    "USERNEV": "zoltan4",
                                    "METTOL": "2016-11-19",
                                    "MEDDIG": "2016-11-21",
                                    "(No column name)": "8"
                                },
                                {
                                    "USERNEV": "zoltan4",
                                    "METTOL": "2016-12-29",
                                    "MEDDIG": "2017-01-04",
                                    "(No column name)": "5"
                                },
                                {
                                    "USERNEV": "zoltan4",
                                    "METTOL": "2017-01-01",
                                    "MEDDIG": "2017-01-02",
                                    "(No column name)": "4"
                                },
                                {
                                    "USERNEV": "ZOLTANP",
                                    "METTOL": "2016-06-05",
                                    "MEDDIG": "2016-06-08",
                                    "(No column name)": "NULL"
                                },
                                {
                                    "USERNEV": "ZOLTANP",
                                    "METTOL": "2016-06-06",
                                    "MEDDIG": "2016-06-08",
                                    "(No column name)": "2"
                                },
                                {
                                    "USERNEV": "ZOLTANP",
                                    "METTOL": "2016-07-20",
                                    "MEDDIG": "2016-07-25",
                                    "(No column name)": "4"
                                },
                                {
                                    "USERNEV": "ZOLTANP",
                                    "METTOL": "2016-10-19",
                                    "MEDDIG": "2016-10-25",
                                    "(No column name)": "7"
                                },
                                {
                                    "USERNEV": "ZOLTANP",
                                    "METTOL": "2016-12-07",
                                    "MEDDIG": "2016-12-10",
                                    "(No column name)": "7"
                                },
                                {
                                    "USERNEV": "ZOLTANP",
                                    "METTOL": "2016-12-25",
                                    "MEDDIG": "2016-12-29",
                                    "(No column name)": "8"
                                },
                                {
                                    "USERNEV": "ZOLTANT",
                                    "METTOL": "2016-05-01",
                                    "MEDDIG": "2016-05-04",
                                    "(No column name)": "NULL"
                                },
                                {
                                    "USERNEV": "ZOLTANT",
                                    "METTOL": "2016-07-14",
                                    "MEDDIG": "2016-07-15",
                                    "(No column name)": "3"
                                },
                                {
                                    "USERNEV": "ZOLTANT",
                                    "METTOL": "2017-01-16",
                                    "MEDDIG": "2017-01-20",
                                    "(No column name)": "6"
                                },
                                {
                                    "USERNEV": "zsofi1",
                                    "METTOL": "2016-06-16",
                                    "MEDDIG": "2016-06-17",
                                    "(No column name)": "NULL"
                                },
                                {
                                    "USERNEV": "zsofi1",
                                    "METTOL": "2017-02-18",
                                    "MEDDIG": "2017-02-19",
                                    "(No column name)": "2"
                                },
                                {
                                    "USERNEV": "zsolt1",
                                    "METTOL": "2016-04-14",
                                    "MEDDIG": "2016-04-17",
                                    "(No column name)": "NULL"
                                },
                                {
                                    "USERNEV": "zsolt1",
                                    "METTOL": "2016-06-06",
                                    "MEDDIG": "2016-06-08",
                                    "(No column name)": "2"
                                },
                                {
                                    "USERNEV": "zsolt1",
                                    "METTOL": "2016-06-07",
                                    "MEDDIG": "2016-06-10",
                                    "(No column name)": "4"
                                },
                                {
                                    "USERNEV": "zsolt1",
                                    "METTOL": "2016-07-31",
                                    "MEDDIG": "2016-08-02",
                                    "(No column name)": "8"
                                },
                                {
                                    "USERNEV": "ZSOLTJ",
                                    "METTOL": "2016-04-24",
                                    "MEDDIG": "2016-04-26",
                                    "(No column name)": "NULL"
                                },
                                {
                                    "USERNEV": "ZSOLTJ",
                                    "METTOL": "2016-05-09",
                                    "MEDDIG": "2016-05-11",
                                    "(No column name)": "4"
                                },
                                {
                                    "USERNEV": "ZSOLTJ",
                                    "METTOL": "2016-05-28",
                                    "MEDDIG": "2016-06-03",
                                    "(No column name)": "6"
                                },
                                {
                                    "USERNEV": "ZSOLTJ",
                                    "METTOL": "2016-06-17",
                                    "MEDDIG": "2016-06-19",
                                    "(No column name)": "7"
                                },
                                {
                                    "USERNEV": "ZSOLTJ",
                                    "METTOL": "2016-07-18",
                                    "MEDDIG": "2016-07-19",
                                    "(No column name)": "5"
                                },
                                {
                                    "USERNEV": "ZSOLTJ",
                                    "METTOL": "2016-10-01",
                                    "MEDDIG": "2016-10-06",
                                    "(No column name)": "5"
                                },
                                {
                                    "USERNEV": "zsuzsa",
                                    "METTOL": "2016-07-24",
                                    "MEDDIG": "2016-07-25",
                                    "(No column name)": "NULL"
                                },
                                {
                                    "USERNEV": "zsuzsa",
                                    "METTOL": "2016-08-28",
                                    "MEDDIG": "2016-08-30",
                                    "(No column name)": "3"
                                },
                                {
                                    "USERNEV": "zsuzsa",
                                    "METTOL": "2016-11-28",
                                    "MEDDIG": "2016-12-04",
                                    "(No column name)": "5"
                                },
                                {
                                    "USERNEV": "zsuzsa3",
                                    "METTOL": "2016-07-30",
                                    "MEDDIG": "2016-08-02",
                                    "(No column name)": "NULL"
                                },
                                {
                                    "USERNEV": "zsuzsa3",
                                    "METTOL": "2016-09-09",
                                    "MEDDIG": "2016-09-10",
                                    "(No column name)": "2"
                                },
                                {
                                    "USERNEV": "zsuzsa3",
                                    "METTOL": "2016-09-28",
                                    "MEDDIG": "2016-10-03",
                                    "(No column name)": "4"
                                },
                                {
                                    "USERNEV": "zsuzsa3",
                                    "METTOL": "2016-10-27",
                                    "MEDDIG": "2016-11-03",
                                    "(No column name)": "6"
                                },
                                {
                                    "USERNEV": "zsuzsanna",
                                    "METTOL": "2016-05-17",
                                    "MEDDIG": "2016-05-23",
                                    "(No column name)": "NULL"
                                },
                                {
                                    "USERNEV": "zsuzsanna",
                                    "METTOL": "2016-07-12",
                                    "MEDDIG": "2016-07-15",
                                    "(No column name)": "2"
                                },
                                {
                                    "USERNEV": "zsuzsanna",
                                    "METTOL": "2017-01-09",
                                    "MEDDIG": "2017-01-16",
                                    "(No column name)": "4"
                                },
                                {
                                    "USERNEV": "zsuzsanna",
                                    "METTOL": "2017-01-16",
                                    "MEDDIG": "2017-01-22",
                                    "(No column name)": "5"
                                },
                                {
                                    "USERNEV": "ZSUZSAV",
                                    "METTOL": "2016-04-14",
                                    "MEDDIG": "2016-04-16",
                                    "(No column name)": "NULL"
                                },
                                {
                                    "USERNEV": "ZSUZSAV",
                                    "METTOL": "2016-05-28",
                                    "MEDDIG": "2016-06-01",
                                    "(No column name)": "2"
                                },
                                {
                                    "USERNEV": "ZSUZSAV",
                                    "METTOL": "2016-06-15",
                                    "MEDDIG": "2016-06-21",
                                    "(No column name)": "6"
                                },
                                {
                                    "USERNEV": "ZSUZSAV",
                                    "METTOL": "2016-09-18",
                                    "MEDDIG": "2016-09-20",
                                    "(No column name)": "9"
                                },
                                {
                                    "USERNEV": "ZSUZSAV",
                                    "METTOL": "2016-10-26",
                                    "MEDDIG": "2016-10-28",
                                    "(No column name)": "9"
                                },
                                {
                                    "USERNEV": "ZSUZSAV",
                                    "METTOL": "2016-11-21",
                                    "MEDDIG": "2016-11-24",
                                    "(No column name)": "6"
                                }
                            ]
                        },
                        "text/html": "<table><tr><th>USERNEV</th><th>METTOL</th><th>MEDDIG</th><th>(No column name)</th><th>(No column name)</th></tr><tr><td>adam1</td><td>2016-05-28</td><td>2016-06-03</td><td>3</td><td>NULL</td></tr><tr><td>adam1</td><td>2016-08-20</td><td>2016-08-24</td><td>1</td><td>3</td></tr><tr><td>adam1</td><td>2016-10-19</td><td>2016-10-24</td><td>2</td><td>4</td></tr><tr><td>adam3</td><td>2016-09-12</td><td>2016-09-16</td><td>2</td><td>NULL</td></tr><tr><td>adam3</td><td>2017-02-06</td><td>2017-02-10</td><td>1</td><td>2</td></tr><tr><td>adam4</td><td>2016-08-28</td><td>2016-08-30</td><td>3</td><td>NULL</td></tr><tr><td>adam4</td><td>2016-10-27</td><td>2016-11-02</td><td>3</td><td>3</td></tr><tr><td>adam4</td><td>2016-11-15</td><td>2016-11-18</td><td>2</td><td>6</td></tr><tr><td>adam4</td><td>2016-12-06</td><td>2016-12-09</td><td>3</td><td>8</td></tr><tr><td>adam4</td><td>2017-01-12</td><td>2017-01-19</td><td>2</td><td>8</td></tr><tr><td>adam4</td><td>2017-02-23</td><td>2017-02-27</td><td>3</td><td>7</td></tr><tr><td>agnes</td><td>2016-05-09</td><td>2016-05-11</td><td>3</td><td>NULL</td></tr><tr><td>agnes</td><td>2016-05-25</td><td>2016-05-30</td><td>1</td><td>3</td></tr><tr><td>agnes</td><td>2016-07-13</td><td>2016-07-19</td><td>3</td><td>4</td></tr><tr><td>agnes</td><td>2016-07-30</td><td>2016-08-06</td><td>3</td><td>7</td></tr><tr><td>agnes</td><td>2016-11-07</td><td>2016-11-13</td><td>2</td><td>7</td></tr><tr><td>agnes3</td><td>2016-08-04</td><td>2016-08-10</td><td>1</td><td>NULL</td></tr><tr><td>agnes3</td><td>2016-10-22</td><td>2016-10-23</td><td>3</td><td>1</td></tr><tr><td>agnes3</td><td>2017-02-16</td><td>2017-02-21</td><td>3</td><td>4</td></tr><tr><td>AGNESH</td><td>2016-04-10</td><td>2016-04-12</td><td>2</td><td>NULL</td></tr><tr><td>AGNESH</td><td>2016-04-27</td><td>2016-04-28</td><td>4</td><td>2</td></tr><tr><td>AGNESH</td><td>2016-06-23</td><td>2016-06-26</td><td>1</td><td>6</td></tr><tr><td>AGNESH</td><td>2016-10-30</td><td>2016-11-04</td><td>1</td><td>7</td></tr><tr><td>AGNESH</td><td>2017-01-03</td><td>2017-01-10</td><td>2</td><td>6</td></tr><tr><td>AGNESH</td><td>2017-01-16</td><td>2017-01-23</td><td>3</td><td>4</td></tr><tr><td>AGNESK</td><td>2016-07-29</td><td>2016-08-01</td><td>3</td><td>NULL</td></tr><tr><td>AGNESK</td><td>2016-10-17</td><td>2016-10-19</td><td>2</td><td>3</td></tr><tr><td>AGNESK</td><td>2016-12-17</td><td>2016-12-18</td><td>2</td><td>5</td></tr><tr><td>akos</td><td>2016-05-18</td><td>2016-05-19</td><td>2</td><td>NULL</td></tr><tr><td>akos</td><td>2016-07-14</td><td>2016-07-19</td><td>2</td><td>2</td></tr><tr><td>akos</td><td>2016-07-16</td><td>2016-07-18</td><td>2</td><td>4</td></tr><tr><td>akos</td><td>2016-07-22</td><td>2016-07-26</td><td>1</td><td>6</td></tr><tr><td>akos</td><td>2016-09-06</td><td>2016-09-12</td><td>1</td><td>5</td></tr><tr><td>akos</td><td>2016-10-05</td><td>2016-10-09</td><td>2</td><td>4</td></tr><tr><td>akos</td><td>2016-10-18</td><td>2016-10-23</td><td>2</td><td>4</td></tr><tr><td>akos</td><td>2016-11-21</td><td>2016-11-27</td><td>2</td><td>5</td></tr><tr><td>akos</td><td>2016-12-15</td><td>2016-12-21</td><td>2</td><td>6</td></tr><tr><td>akos</td><td>2016-12-29</td><td>2016-12-30</td><td>3</td><td>6</td></tr><tr><td>aladar</td><td>2016-05-17</td><td>2016-05-24</td><td>1</td><td>NULL</td></tr><tr><td>aladar</td><td>2016-09-24</td><td>2016-09-28</td><td>1</td><td>1</td></tr><tr><td>aladar</td><td>2016-11-22</td><td>2016-11-23</td><td>2</td><td>2</td></tr><tr><td>alexandra</td><td>2016-05-21</td><td>2016-05-27</td><td>3</td><td>NULL</td></tr><tr><td>alexandra</td><td>2016-06-08</td><td>2016-06-11</td><td>3</td><td>3</td></tr><tr><td>alexandra</td><td>2016-07-27</td><td>2016-07-30</td><td>2</td><td>6</td></tr><tr><td>alexandra</td><td>2016-10-21</td><td>2016-10-25</td><td>2</td><td>8</td></tr><tr><td>alexandra</td><td>2016-11-29</td><td>2016-12-05</td><td>2</td><td>7</td></tr><tr><td>alexandra</td><td>2017-01-13</td><td>2017-01-14</td><td>1</td><td>6</td></tr><tr><td>alexandra</td><td>2017-01-19</td><td>2017-01-26</td><td>2</td><td>5</td></tr><tr><td>andi</td><td>2016-05-08</td><td>2016-05-14</td><td>4</td><td>NULL</td></tr><tr><td>andi</td><td>2016-06-13</td><td>2016-06-14</td><td>1</td><td>4</td></tr><tr><td>andi</td><td>2016-09-13</td><td>2016-09-16</td><td>2</td><td>5</td></tr><tr><td>andi</td><td>2016-11-16</td><td>2016-11-17</td><td>3</td><td>7</td></tr><tr><td>andi</td><td>2017-01-13</td><td>2017-01-17</td><td>3</td><td>6</td></tr><tr><td>andras2</td><td>2016-05-30</td><td>2016-06-04</td><td>1</td><td>NULL</td></tr><tr><td>andras2</td><td>2016-07-20</td><td>2016-07-22</td><td>2</td><td>1</td></tr><tr><td>andras2</td><td>2016-09-30</td><td>2016-10-03</td><td>2</td><td>3</td></tr><tr><td>andras2</td><td>2016-10-07</td><td>2016-10-10</td><td>3</td><td>5</td></tr><tr><td>andras2</td><td>2017-02-08</td><td>2017-02-10</td><td>4</td><td>7</td></tr><tr><td>andras21</td><td>2016-06-21</td><td>2016-06-26</td><td>2</td><td>NULL</td></tr><tr><td>andras21</td><td>2016-07-04</td><td>2016-07-05</td><td>3</td><td>2</td></tr><tr><td>andras21</td><td>2016-07-20</td><td>2016-07-22</td><td>1</td><td>5</td></tr><tr><td>andras21</td><td>2016-10-01</td><td>2016-10-06</td><td>3</td><td>6</td></tr><tr><td>andras21</td><td>2016-10-04</td><td>2016-10-11</td><td>3</td><td>7</td></tr><tr><td>andras21</td><td>2016-11-23</td><td>2016-11-24</td><td>4</td><td>7</td></tr><tr><td>andras21</td><td>2017-01-28</td><td>2017-02-01</td><td>2</td><td>10</td></tr><tr><td>andras3</td><td>2016-05-01</td><td>2016-05-06</td><td>2</td><td>NULL</td></tr><tr><td>andras3</td><td>2016-05-30</td><td>2016-06-03</td><td>1</td><td>2</td></tr><tr><td>andras3</td><td>2016-06-10</td><td>2016-06-11</td><td>1</td><td>3</td></tr><tr><td>andras3</td><td>2016-07-15</td><td>2016-07-19</td><td>3</td><td>4</td></tr><tr><td>andras3</td><td>2016-07-21</td><td>2016-07-23</td><td>2</td><td>5</td></tr><tr><td>andras3</td><td>2016-08-29</td><td>2016-09-02</td><td>3</td><td>6</td></tr><tr><td>andras3</td><td>2016-11-28</td><td>2016-12-02</td><td>2</td><td>8</td></tr><tr><td>andras3</td><td>2017-02-02</td><td>2017-02-08</td><td>2</td><td>7</td></tr><tr><td>andras4</td><td>2016-09-17</td><td>2016-09-20</td><td>2</td><td>NULL</td></tr><tr><td>andras4</td><td>2016-11-25</td><td>2016-11-28</td><td>2</td><td>2</td></tr><tr><td>andras4</td><td>2017-01-09</td><td>2017-01-10</td><td>2</td><td>4</td></tr><tr><td>andras41</td><td>2016-05-14</td><td>2016-05-16</td><td>2</td><td>NULL</td></tr><tr><td>andras41</td><td>2016-05-21</td><td>2016-05-23</td><td>4</td><td>2</td></tr><tr><td>andras41</td><td>2016-06-07</td><td>2016-06-11</td><td>3</td><td>6</td></tr><tr><td>andras41</td><td>2016-06-23</td><td>2016-06-29</td><td>2</td><td>9</td></tr><tr><td>andras41</td><td>2016-07-28</td><td>2016-08-03</td><td>3</td><td>9</td></tr><tr><td>andras41</td><td>2016-08-17</td><td>2016-08-21</td><td>3</td><td>8</td></tr><tr><td>andras41</td><td>2016-08-19</td><td>2016-08-23</td><td>1</td><td>8</td></tr><tr><td>andras41</td><td>2016-09-22</td><td>2016-09-29</td><td>1</td><td>7</td></tr><tr><td>andras41</td><td>2016-09-30</td><td>2016-10-05</td><td>2</td><td>5</td></tr><tr><td>andras41</td><td>2016-10-09</td><td>2016-10-13</td><td>2</td><td>4</td></tr><tr><td>andras41</td><td>2016-10-15</td><td>2016-10-18</td><td>3</td><td>5</td></tr><tr><td>andras41</td><td>2016-11-20</td><td>2016-11-24</td><td>3</td><td>7</td></tr><tr><td>andras41</td><td>2016-11-23</td><td>2016-11-24</td><td>1</td><td>8</td></tr><tr><td>ANDRASE</td><td>2016-04-24</td><td>2016-05-01</td><td>1</td><td>NULL</td></tr><tr><td>ANDRASE</td><td>2016-07-06</td><td>2016-07-07</td><td>2</td><td>1</td></tr><tr><td>ANDRASE</td><td>2016-08-16</td><td>2016-08-20</td><td>2</td><td>3</td></tr><tr><td>ANDRASE</td><td>2016-11-19</td><td>2016-11-20</td><td>4</td><td>5</td></tr><tr><td>ANDRASE</td><td>2016-11-29</td><td>2016-12-06</td><td>3</td><td>8</td></tr><tr><td>ANDRASN</td><td>2016-11-25</td><td>2016-12-01</td><td>2</td><td>NULL</td></tr><tr><td>andrea</td><td>2016-07-27</td><td>2016-07-28</td><td>2</td><td>NULL</td></tr><tr><td>andrea</td><td>2016-08-01</td><td>2016-08-02</td><td>2</td><td>2</td></tr><tr><td>andrea</td><td>2016-08-23</td><td>2016-08-26</td><td>3</td><td>4</td></tr><tr><td>andrea</td><td>2016-08-26</td><td>2016-08-30</td><td>2</td><td>7</td></tr><tr><td>andrea</td><td>2016-10-21</td><td>2016-10-27</td><td>4</td><td>7</td></tr><tr><td>andrea</td><td>2017-02-09</td><td>2017-02-14</td><td>2</td><td>9</td></tr><tr><td>andrea3</td><td>2016-11-19</td><td>2016-11-21</td><td>3</td><td>NULL</td></tr><tr><td>andrea4</td><td>2016-05-27</td><td>2016-05-29</td><td>1</td><td>NULL</td></tr><tr><td>andrea4</td><td>2016-09-13</td><td>2016-09-17</td><td>2</td><td>1</td></tr><tr><td>andrea4</td><td>2016-10-30</td><td>2016-11-06</td><td>3</td><td>3</td></tr><tr><td>andrea4</td><td>2017-01-22</td><td>2017-01-29</td><td>2</td><td>6</td></tr><tr><td>ANDREAT</td><td>2016-07-27</td><td>2016-08-01</td><td>2</td><td>NULL</td></tr><tr><td>ANDREAT</td><td>2016-09-15</td><td>2016-09-16</td><td>2</td><td>2</td></tr><tr><td>ANDREAT</td><td>2016-10-08</td><td>2016-10-12</td><td>3</td><td>4</td></tr><tr><td>anett3</td><td>2016-04-10</td><td>2016-04-17</td><td>1</td><td>NULL</td></tr><tr><td>anett3</td><td>2016-04-13</td><td>2016-04-19</td><td>3</td><td>1</td></tr><tr><td>anett3</td><td>2016-04-15</td><td>2016-04-19</td><td>3</td><td>4</td></tr><tr><td>anett3</td><td>2016-04-28</td><td>2016-05-02</td><td>3</td><td>7</td></tr><tr><td>anett3</td><td>2016-08-15</td><td>2016-08-16</td><td>2</td><td>9</td></tr><tr><td>anett3</td><td>2016-08-17</td><td>2016-08-23</td><td>3</td><td>8</td></tr><tr><td>anett3</td><td>2016-10-12</td><td>2016-10-19</td><td>3</td><td>8</td></tr><tr><td>anett3</td><td>2016-10-16</td><td>2016-10-21</td><td>1</td><td>8</td></tr><tr><td>aniko</td><td>2016-06-25</td><td>2016-06-30</td><td>3</td><td>NULL</td></tr><tr><td>aniko</td><td>2017-02-12</td><td>2017-02-14</td><td>3</td><td>3</td></tr><tr><td>aniko</td><td>2017-02-23</td><td>2017-02-24</td><td>2</td><td>6</td></tr><tr><td>aniko4</td><td>2016-07-02</td><td>2016-07-09</td><td>1</td><td>NULL</td></tr><tr><td>aniko4</td><td>2016-07-22</td><td>2016-07-25</td><td>3</td><td>1</td></tr><tr><td>aniko4</td><td>2016-09-05</td><td>2016-09-07</td><td>4</td><td>4</td></tr><tr><td>aniko4</td><td>2016-10-16</td><td>2016-10-18</td><td>3</td><td>8</td></tr><tr><td>ANIKOS</td><td>2016-04-19</td><td>2016-04-24</td><td>2</td><td>NULL</td></tr><tr><td>ANIKOS</td><td>2016-05-24</td><td>2016-05-25</td><td>3</td><td>2</td></tr><tr><td>ANIKOS</td><td>2016-06-16</td><td>2016-06-23</td><td>1</td><td>5</td></tr><tr><td>ANIKOS</td><td>2016-06-27</td><td>2016-06-30</td><td>2</td><td>6</td></tr><tr><td>ANIKOS</td><td>2016-07-17</td><td>2016-07-22</td><td>3</td><td>6</td></tr><tr><td>ANIKOS</td><td>2016-08-26</td><td>2016-09-02</td><td>2</td><td>6</td></tr><tr><td>ANIKOS</td><td>2016-10-08</td><td>2016-10-14</td><td>2</td><td>7</td></tr><tr><td>ANIKOS</td><td>2016-10-29</td><td>2016-11-05</td><td>3</td><td>7</td></tr><tr><td>ANIKOS</td><td>2016-11-10</td><td>2016-11-15</td><td>2</td><td>7</td></tr><tr><td>anita</td><td>2016-09-28</td><td>2016-10-02</td><td>4</td><td>NULL</td></tr><tr><td>anita</td><td>2016-10-01</td><td>2016-10-04</td><td>2</td><td>4</td></tr><tr><td>anita</td><td>2017-02-19</td><td>2017-02-22</td><td>2</td><td>6</td></tr><tr><td>anita</td><td>2017-02-20</td><td>2017-02-25</td><td>2</td><td>8</td></tr><tr><td>annamaria1</td><td>2016-06-06</td><td>2016-06-07</td><td>3</td><td>NULL</td></tr><tr><td>annamaria1</td><td>2017-01-30</td><td>2017-01-31</td><td>4</td><td>3</td></tr><tr><td>ANNAMARIAR</td><td>2016-06-08</td><td>2016-06-11</td><td>2</td><td>NULL</td></tr><tr><td>ANNAMARIAR</td><td>2016-07-18</td><td>2016-07-21</td><td>1</td><td>2</td></tr><tr><td>ANNAMARIAR</td><td>2016-09-23</td><td>2016-09-27</td><td>2</td><td>3</td></tr><tr><td>ANNAMARIAR</td><td>2016-11-11</td><td>2016-11-12</td><td>3</td><td>5</td></tr><tr><td>ANNAMARIAR</td><td>2017-01-10</td><td>2017-01-13</td><td>2</td><td>6</td></tr><tr><td>ANNAMARIAR</td><td>2017-02-16</td><td>2017-02-18</td><td>2</td><td>7</td></tr><tr><td>aron2</td><td>2016-04-11</td><td>2016-04-12</td><td>3</td><td>NULL</td></tr><tr><td>aron2</td><td>2016-07-04</td><td>2016-07-06</td><td>3</td><td>3</td></tr><tr><td>aron2</td><td>2016-10-23</td><td>2016-10-27</td><td>2</td><td>6</td></tr><tr><td>aron2</td><td>2016-11-05</td><td>2016-11-09</td><td>2</td><td>8</td></tr><tr><td>aron2</td><td>2017-01-17</td><td>2017-01-18</td><td>3</td><td>7</td></tr><tr><td>aron2</td><td>2017-02-26</td><td>2017-02-27</td><td>3</td><td>7</td></tr><tr><td>ARONK</td><td>2016-04-06</td><td>2016-04-08</td><td>2</td><td>NULL</td></tr><tr><td>ARONK</td><td>2016-05-14</td><td>2016-05-20</td><td>4</td><td>2</td></tr><tr><td>ARONK</td><td>2016-06-04</td><td>2016-06-09</td><td>2</td><td>6</td></tr><tr><td>ARONK</td><td>2016-06-07</td><td>2016-06-13</td><td>3</td><td>8</td></tr><tr><td>ARONK</td><td>2016-07-03</td><td>2016-07-07</td><td>2</td><td>9</td></tr><tr><td>ARONK</td><td>2016-08-05</td><td>2016-08-08</td><td>4</td><td>7</td></tr><tr><td>ARONK</td><td>2016-09-08</td><td>2016-09-15</td><td>2</td><td>9</td></tr><tr><td>ARONK</td><td>2016-11-03</td><td>2016-11-10</td><td>2</td><td>8</td></tr><tr><td>ARONK</td><td>2016-11-05</td><td>2016-11-07</td><td>2</td><td>8</td></tr><tr><td>ARONK</td><td>2016-12-07</td><td>2016-12-12</td><td>3</td><td>6</td></tr><tr><td>ARONK</td><td>2017-01-01</td><td>2017-01-03</td><td>2</td><td>7</td></tr><tr><td>ARONK</td><td>2017-01-30</td><td>2017-02-03</td><td>2</td><td>7</td></tr><tr><td>ARONK</td><td>2017-02-21</td><td>2017-02-23</td><td>2</td><td>7</td></tr><tr><td>arpad2</td><td>2016-06-05</td><td>2016-06-07</td><td>2</td><td>NULL</td></tr><tr><td>arpad2</td><td>2016-08-23</td><td>2016-08-25</td><td>2</td><td>2</td></tr><tr><td>arpad2</td><td>2016-09-28</td><td>2016-09-30</td><td>2</td><td>4</td></tr><tr><td>arpad2</td><td>2016-10-13</td><td>2016-10-19</td><td>3</td><td>6</td></tr><tr><td>arpad2</td><td>2016-11-06</td><td>2016-11-10</td><td>2</td><td>7</td></tr><tr><td>arpad2</td><td>2016-12-24</td><td>2016-12-27</td><td>3</td><td>7</td></tr><tr><td>arpad2</td><td>2017-02-18</td><td>2017-02-19</td><td>4</td><td>8</td></tr><tr><td>ARPADH</td><td>2016-06-06</td><td>2016-06-07</td><td>3</td><td>NULL</td></tr><tr><td>ARPADH</td><td>2016-07-14</td><td>2016-07-18</td><td>2</td><td>3</td></tr><tr><td>ARPADH</td><td>2016-09-16</td><td>2016-09-23</td><td>1</td><td>5</td></tr><tr><td>ARPADH</td><td>2016-09-18</td><td>2016-09-25</td><td>1</td><td>6</td></tr><tr><td>ARPADH</td><td>2016-12-04</td><td>2016-12-10</td><td>1</td><td>4</td></tr><tr><td>ARPADH</td><td>2016-12-18</td><td>2016-12-19</td><td>3</td><td>3</td></tr><tr><td>ARPADH</td><td>2017-02-16</td><td>2017-02-18</td><td>2</td><td>5</td></tr><tr><td>ARPADM</td><td>2016-05-29</td><td>2016-06-01</td><td>2</td><td>NULL</td></tr><tr><td>ARPADM</td><td>2016-08-12</td><td>2016-08-16</td><td>2</td><td>2</td></tr><tr><td>ARPADM</td><td>2016-11-09</td><td>2016-11-11</td><td>2</td><td>4</td></tr><tr><td>ARPADM</td><td>2016-12-14</td><td>2016-12-17</td><td>3</td><td>6</td></tr><tr><td>ARPADM</td><td>2017-01-05</td><td>2017-01-10</td><td>1</td><td>7</td></tr><tr><td>ARPADM</td><td>2017-02-12</td><td>2017-02-14</td><td>3</td><td>6</td></tr><tr><td>attila</td><td>2016-09-30</td><td>2016-10-07</td><td>3</td><td>NULL</td></tr><tr><td>attila</td><td>2016-10-15</td><td>2016-10-19</td><td>1</td><td>3</td></tr><tr><td>attila</td><td>2016-12-22</td><td>2016-12-26</td><td>2</td><td>4</td></tr><tr><td>attila1</td><td>2016-05-20</td><td>2016-05-26</td><td>1</td><td>NULL</td></tr><tr><td>attila1</td><td>2016-10-09</td><td>2016-10-12</td><td>2</td><td>1</td></tr><tr><td>attila1</td><td>2016-10-15</td><td>2016-10-16</td><td>3</td><td>3</td></tr><tr><td>attila1</td><td>2016-10-30</td><td>2016-11-05</td><td>2</td><td>6</td></tr><tr><td>attila1</td><td>2016-11-10</td><td>2016-11-14</td><td>2</td><td>7</td></tr><tr><td>attila1</td><td>2017-01-23</td><td>2017-01-30</td><td>4</td><td>7</td></tr><tr><td>attila4</td><td>2016-08-18</td><td>2016-08-23</td><td>4</td><td>NULL</td></tr><tr><td>attila4</td><td>2016-12-31</td><td>2017-01-01</td><td>2</td><td>4</td></tr><tr><td>attila4</td><td>2017-02-15</td><td>2017-02-22</td><td>2</td><td>6</td></tr><tr><td>ATTILAO</td><td>2016-05-21</td><td>2016-05-26</td><td>3</td><td>NULL</td></tr><tr><td>ATTILAO</td><td>2016-06-04</td><td>2016-06-11</td><td>3</td><td>3</td></tr><tr><td>ATTILAO</td><td>2016-10-30</td><td>2016-11-03</td><td>2</td><td>6</td></tr><tr><td>ATTILAO</td><td>2017-02-22</td><td>2017-02-25</td><td>3</td><td>8</td></tr><tr><td>balazs1</td><td>2016-05-07</td><td>2016-05-14</td><td>2</td><td>NULL</td></tr><tr><td>balazs1</td><td>2016-07-22</td><td>2016-07-26</td><td>4</td><td>2</td></tr><tr><td>balazs1</td><td>2016-12-26</td><td>2016-12-28</td><td>3</td><td>6</td></tr><tr><td>balazs1</td><td>2017-01-01</td><td>2017-01-05</td><td>2</td><td>9</td></tr><tr><td>balazs1</td><td>2017-02-10</td><td>2017-02-14</td><td>3</td><td>9</td></tr><tr><td>balazs1</td><td>2017-02-12</td><td>2017-02-14</td><td>2</td><td>8</td></tr><tr><td>balazs2</td><td>2016-04-16</td><td>2016-04-19</td><td>2</td><td>NULL</td></tr><tr><td>balazs2</td><td>2016-05-22</td><td>2016-05-29</td><td>3</td><td>2</td></tr><tr><td>balazs2</td><td>2016-05-28</td><td>2016-06-01</td><td>3</td><td>5</td></tr><tr><td>balazs2</td><td>2016-07-08</td><td>2016-07-12</td><td>3</td><td>8</td></tr><tr><td>balazs2</td><td>2016-07-10</td><td>2016-07-17</td><td>3</td><td>9</td></tr><tr><td>balazs2</td><td>2016-07-20</td><td>2016-07-25</td><td>2</td><td>9</td></tr><tr><td>balazs2</td><td>2016-08-21</td><td>2016-08-22</td><td>3</td><td>8</td></tr><tr><td>balazs2</td><td>2016-09-12</td><td>2016-09-14</td><td>3</td><td>8</td></tr><tr><td>balazs2</td><td>2016-11-03</td><td>2016-11-05</td><td>3</td><td>8</td></tr><tr><td>balazs2</td><td>2017-02-27</td><td>2017-03-06</td><td>1</td><td>9</td></tr><tr><td>balazs3</td><td>2016-07-17</td><td>2016-07-21</td><td>2</td><td>NULL</td></tr><tr><td>balazs3</td><td>2016-07-27</td><td>2016-07-31</td><td>4</td><td>2</td></tr><tr><td>balazs3</td><td>2016-08-24</td><td>2016-08-28</td><td>3</td><td>6</td></tr><tr><td>balazs3</td><td>2016-09-15</td><td>2016-09-16</td><td>3</td><td>9</td></tr><tr><td>balazs3</td><td>2016-12-05</td><td>2016-12-11</td><td>3</td><td>10</td></tr><tr><td>balazs3</td><td>2017-01-20</td><td>2017-01-22</td><td>2</td><td>9</td></tr><tr><td>balint</td><td>2016-04-22</td><td>2016-04-29</td><td>2</td><td>NULL</td></tr><tr><td>balint</td><td>2016-10-09</td><td>2016-10-11</td><td>2</td><td>2</td></tr><tr><td>balint</td><td>2016-11-24</td><td>2016-11-29</td><td>3</td><td>4</td></tr><tr><td>balint1</td><td>2016-06-07</td><td>2016-06-11</td><td>3</td><td>NULL</td></tr><tr><td>balint1</td><td>2016-06-07</td><td>2016-06-12</td><td>3</td><td>3</td></tr><tr><td>balint1</td><td>2016-06-10</td><td>2016-06-12</td><td>1</td><td>6</td></tr><tr><td>balint1</td><td>2016-07-26</td><td>2016-07-28</td><td>2</td><td>7</td></tr><tr><td>balint1</td><td>2016-08-03</td><td>2016-08-08</td><td>2</td><td>6</td></tr><tr><td>balint1</td><td>2016-09-16</td><td>2016-09-21</td><td>1</td><td>5</td></tr><tr><td>balint1</td><td>2016-11-07</td><td>2016-11-10</td><td>2</td><td>5</td></tr><tr><td>balint1</td><td>2016-12-17</td><td>2016-12-22</td><td>3</td><td>5</td></tr><tr><td>balint1</td><td>2016-12-29</td><td>2016-12-31</td><td>3</td><td>6</td></tr><tr><td>balint1</td><td>2017-01-03</td><td>2017-01-08</td><td>2</td><td>8</td></tr><tr><td>balint2</td><td>2016-07-21</td><td>2016-07-26</td><td>1</td><td>NULL</td></tr><tr><td>balint2</td><td>2016-12-04</td><td>2016-12-06</td><td>3</td><td>1</td></tr><tr><td>balu</td><td>2016-08-06</td><td>2016-08-10</td><td>2</td><td>NULL</td></tr><tr><td>balu</td><td>2016-12-22</td><td>2016-12-23</td><td>2</td><td>2</td></tr><tr><td>beata4</td><td>2016-04-20</td><td>2016-04-21</td><td>2</td><td>NULL</td></tr><tr><td>beata4</td><td>2016-06-03</td><td>2016-06-04</td><td>2</td><td>2</td></tr><tr><td>beata4</td><td>2016-07-03</td><td>2016-07-06</td><td>1</td><td>4</td></tr><tr><td>beata4</td><td>2016-08-25</td><td>2016-08-27</td><td>3</td><td>5</td></tr><tr><td>beata4</td><td>2016-10-01</td><td>2016-10-05</td><td>1</td><td>6</td></tr><tr><td>beata4</td><td>2016-10-03</td><td>2016-10-06</td><td>3</td><td>5</td></tr><tr><td>BEATRIXK</td><td>2016-06-10</td><td>2016-06-11</td><td>2</td><td>NULL</td></tr><tr><td>BEATRIXK</td><td>2016-06-10</td><td>2016-06-14</td><td>2</td><td>2</td></tr><tr><td>BEATRIXK</td><td>2016-06-19</td><td>2016-06-21</td><td>3</td><td>4</td></tr><tr><td>BEATRIXK</td><td>2016-08-12</td><td>2016-08-18</td><td>4</td><td>7</td></tr><tr><td>BEATRIXK</td><td>2016-10-23</td><td>2016-10-28</td><td>2</td><td>9</td></tr><tr><td>BEATRIXK</td><td>2016-11-14</td><td>2016-11-19</td><td>2</td><td>9</td></tr><tr><td>BEATRIXK</td><td>2016-12-12</td><td>2016-12-14</td><td>3</td><td>8</td></tr><tr><td>BEATRIXK</td><td>2016-12-17</td><td>2016-12-22</td><td>4</td><td>7</td></tr><tr><td>BEATRIXK</td><td>2017-02-08</td><td>2017-02-09</td><td>3</td><td>9</td></tr><tr><td>BEATRIXS</td><td>2016-04-18</td><td>2016-04-24</td><td>1</td><td>NULL</td></tr><tr><td>BEATRIXS</td><td>2016-06-11</td><td>2016-06-14</td><td>3</td><td>1</td></tr><tr><td>BEATRIXS</td><td>2016-10-01</td><td>2016-10-03</td><td>3</td><td>4</td></tr><tr><td>BEATRIXS</td><td>2016-10-01</td><td>2016-10-05</td><td>3</td><td>7</td></tr><tr><td>BEATRIXS</td><td>2016-12-21</td><td>2016-12-27</td><td>2</td><td>9</td></tr><tr><td>BEATRIXS</td><td>2017-02-03</td><td>2017-02-04</td><td>2</td><td>8</td></tr><tr><td>BELAF</td><td>2016-07-27</td><td>2016-07-30</td><td>3</td><td>NULL</td></tr><tr><td>BELAF</td><td>2016-07-29</td><td>2016-07-31</td><td>2</td><td>3</td></tr><tr><td>BELAF</td><td>2016-08-29</td><td>2016-08-31</td><td>2</td><td>5</td></tr><tr><td>BELAF</td><td>2016-11-03</td><td>2016-11-09</td><td>4</td><td>7</td></tr><tr><td>BELAF</td><td>2016-12-02</td><td>2016-12-04</td><td>3</td><td>8</td></tr><tr><td>BELAF</td><td>2016-12-06</td><td>2016-12-09</td><td>1</td><td>9</td></tr><tr><td>bence</td><td>2016-05-08</td><td>2016-05-11</td><td>2</td><td>NULL</td></tr><tr><td>bence</td><td>2016-05-29</td><td>2016-06-03</td><td>1</td><td>2</td></tr><tr><td>bence</td><td>2016-07-24</td><td>2016-07-30</td><td>2</td><td>3</td></tr><tr><td>bence</td><td>2016-07-25</td><td>2016-08-01</td><td>3</td><td>5</td></tr><tr><td>bence</td><td>2016-09-03</td><td>2016-09-06</td><td>3</td><td>6</td></tr><tr><td>bence</td><td>2016-10-30</td><td>2016-11-02</td><td>4</td><td>8</td></tr><tr><td>bence</td><td>2016-12-17</td><td>2016-12-18</td><td>2</td><td>10</td></tr><tr><td>bence</td><td>2016-12-26</td><td>2016-12-27</td><td>2</td><td>9</td></tr><tr><td>bence</td><td>2017-02-05</td><td>2017-02-09</td><td>3</td><td>8</td></tr><tr><td>BENCEB</td><td>2016-05-14</td><td>2016-05-17</td><td>3</td><td>NULL</td></tr><tr><td>BENCEB</td><td>2016-06-03</td><td>2016-06-09</td><td>2</td><td>3</td></tr><tr><td>BENCEB</td><td>2016-08-01</td><td>2016-08-02</td><td>2</td><td>5</td></tr><tr><td>BENCEB</td><td>2016-10-22</td><td>2016-10-29</td><td>3</td><td>7</td></tr><tr><td>BENCEB</td><td>2016-11-28</td><td>2016-12-02</td><td>2</td><td>7</td></tr><tr><td>BENCEB</td><td>2017-02-12</td><td>2017-02-19</td><td>3</td><td>7</td></tr><tr><td>bernadett1</td><td>2016-06-12</td><td>2016-06-17</td><td>3</td><td>NULL</td></tr><tr><td>bernadett1</td><td>2016-10-08</td><td>2016-10-09</td><td>4</td><td>3</td></tr><tr><td>bernadett1</td><td>2016-10-15</td><td>2016-10-22</td><td>3</td><td>7</td></tr><tr><td>bernadett1</td><td>2016-10-26</td><td>2016-11-02</td><td>3</td><td>10</td></tr><tr><td>bernadett1</td><td>2016-10-28</td><td>2016-11-01</td><td>3</td><td>10</td></tr><tr><td>bernadett1</td><td>2017-02-14</td><td>2017-02-15</td><td>3</td><td>9</td></tr><tr><td>bernadett1</td><td>2017-02-24</td><td>2017-03-03</td><td>1</td><td>9</td></tr><tr><td>bernadett2</td><td>2016-05-01</td><td>2016-05-03</td><td>2</td><td>NULL</td></tr><tr><td>bernadett2</td><td>2016-06-17</td><td>2016-06-23</td><td>3</td><td>2</td></tr><tr><td>bernadett2</td><td>2016-08-23</td><td>2016-08-29</td><td>2</td><td>5</td></tr><tr><td>bernadett2</td><td>2016-08-25</td><td>2016-08-27</td><td>3</td><td>7</td></tr><tr><td>bernadett2</td><td>2016-09-07</td><td>2016-09-13</td><td>3</td><td>8</td></tr><tr><td>bernadett2</td><td>2016-10-30</td><td>2016-11-06</td><td>3</td><td>8</td></tr><tr><td>bernadett2</td><td>2016-12-17</td><td>2016-12-20</td><td>1</td><td>9</td></tr><tr><td>bernadett2</td><td>2017-01-24</td><td>2017-01-30</td><td>3</td><td>7</td></tr><tr><td>BERNADETTO</td><td>2016-04-10</td><td>2016-04-17</td><td>2</td><td>NULL</td></tr><tr><td>BERNADETTO</td><td>2016-04-17</td><td>2016-04-19</td><td>2</td><td>2</td></tr><tr><td>BERNADETTO</td><td>2016-06-07</td><td>2016-06-13</td><td>3</td><td>4</td></tr><tr><td>BERNADETTO</td><td>2016-06-10</td><td>2016-06-16</td><td>4</td><td>7</td></tr><tr><td>BERNADETTO</td><td>2016-10-04</td><td>2016-10-05</td><td>2</td><td>9</td></tr><tr><td>BERNADETTO</td><td>2017-01-01</td><td>2017-01-02</td><td>3</td><td>9</td></tr><tr><td>BERNADETTO</td><td>2017-01-28</td><td>2017-02-03</td><td>2</td><td>9</td></tr><tr><td>bertalan</td><td>2016-05-18</td><td>2016-05-23</td><td>2</td><td>NULL</td></tr><tr><td>bertalan</td><td>2016-06-20</td><td>2016-06-21</td><td>1</td><td>2</td></tr><tr><td>bertalan</td><td>2016-11-03</td><td>2016-11-10</td><td>2</td><td>3</td></tr><tr><td>bertalan</td><td>2016-11-26</td><td>2016-11-29</td><td>3</td><td>5</td></tr><tr><td>bertalan</td><td>2017-02-16</td><td>2017-02-22</td><td>2</td><td>6</td></tr><tr><td>bertalan</td><td>2017-02-20</td><td>2017-02-24</td><td>4</td><td>7</td></tr><tr><td>brigitta</td><td>2016-05-30</td><td>2016-06-06</td><td>3</td><td>NULL</td></tr><tr><td>brigitta</td><td>2016-08-28</td><td>2016-09-01</td><td>3</td><td>3</td></tr><tr><td>brigitta</td><td>2016-10-21</td><td>2016-10-28</td><td>3</td><td>6</td></tr><tr><td>brigitta</td><td>2016-12-17</td><td>2016-12-22</td><td>2</td><td>9</td></tr><tr><td>brigitta</td><td>2017-01-23</td><td>2017-01-25</td><td>1</td><td>8</td></tr><tr><td>brigitta3</td><td>2016-06-01</td><td>2016-06-05</td><td>2</td><td>NULL</td></tr><tr><td>brigitta3</td><td>2016-06-13</td><td>2016-06-17</td><td>3</td><td>2</td></tr><tr><td>brigitta3</td><td>2016-10-10</td><td>2016-10-14</td><td>2</td><td>5</td></tr><tr><td>brigitta3</td><td>2016-11-03</td><td>2016-11-09</td><td>3</td><td>7</td></tr><tr><td>brigitta3</td><td>2017-02-09</td><td>2017-02-16</td><td>2</td><td>8</td></tr><tr><td>csongor3</td><td>2016-05-01</td><td>2016-05-04</td><td>2</td><td>NULL</td></tr><tr><td>csongor3</td><td>2016-05-08</td><td>2016-05-15</td><td>3</td><td>2</td></tr><tr><td>csongor3</td><td>2016-06-04</td><td>2016-06-05</td><td>2</td><td>5</td></tr><tr><td>csongor3</td><td>2016-06-10</td><td>2016-06-17</td><td>3</td><td>7</td></tr><tr><td>csongor3</td><td>2016-06-11</td><td>2016-06-14</td><td>2</td><td>8</td></tr><tr><td>csongor3</td><td>2016-07-09</td><td>2016-07-10</td><td>4</td><td>7</td></tr><tr><td>csongor3</td><td>2016-11-12</td><td>2016-11-17</td><td>3</td><td>9</td></tr><tr><td>csongor3</td><td>2017-02-13</td><td>2017-02-19</td><td>3</td><td>9</td></tr><tr><td>dani</td><td>2016-06-06</td><td>2016-06-10</td><td>3</td><td>NULL</td></tr><tr><td>dani</td><td>2016-07-11</td><td>2016-07-12</td><td>3</td><td>3</td></tr><tr><td>dani</td><td>2016-08-06</td><td>2016-08-09</td><td>2</td><td>6</td></tr><tr><td>dani</td><td>2016-09-19</td><td>2016-09-25</td><td>4</td><td>8</td></tr><tr><td>dani</td><td>2016-10-01</td><td>2016-10-02</td><td>1</td><td>9</td></tr><tr><td>dani</td><td>2016-11-22</td><td>2016-11-24</td><td>2</td><td>7</td></tr><tr><td>dani</td><td>2017-01-17</td><td>2017-01-23</td><td>2</td><td>7</td></tr><tr><td>dani</td><td>2017-01-22</td><td>2017-01-29</td><td>1</td><td>5</td></tr><tr><td>dani</td><td>2017-02-25</td><td>2017-03-01</td><td>3</td><td>5</td></tr><tr><td>daniel</td><td>2016-04-10</td><td>2016-04-11</td><td>4</td><td>NULL</td></tr><tr><td>daniel</td><td>2016-04-22</td><td>2016-04-25</td><td>2</td><td>4</td></tr><tr><td>daniel</td><td>2016-05-09</td><td>2016-05-13</td><td>3</td><td>6</td></tr><tr><td>daniel</td><td>2016-09-08</td><td>2016-09-10</td><td>4</td><td>9</td></tr><tr><td>daniel</td><td>2016-11-13</td><td>2016-11-19</td><td>3</td><td>9</td></tr><tr><td>daniel</td><td>2016-12-25</td><td>2016-12-26</td><td>3</td><td>10</td></tr><tr><td>daniel</td><td>2017-01-09</td><td>2017-01-11</td><td>1</td><td>10</td></tr><tr><td>daniel</td><td>2017-02-12</td><td>2017-02-13</td><td>3</td><td>7</td></tr><tr><td>daniel</td><td>2017-02-20</td><td>2017-02-23</td><td>3</td><td>7</td></tr><tr><td>daniel1</td><td>2016-04-10</td><td>2016-04-15</td><td>2</td><td>NULL</td></tr><tr><td>daniel1</td><td>2016-05-10</td><td>2016-05-13</td><td>4</td><td>2</td></tr><tr><td>daniel1</td><td>2016-05-26</td><td>2016-05-27</td><td>3</td><td>6</td></tr><tr><td>daniel1</td><td>2016-11-09</td><td>2016-11-11</td><td>2</td><td>9</td></tr><tr><td>daniel1</td><td>2016-11-23</td><td>2016-11-25</td><td>2</td><td>9</td></tr><tr><td>daniel1</td><td>2017-01-05</td><td>2017-01-08</td><td>3</td><td>7</td></tr><tr><td>daniel1</td><td>2017-03-01</td><td>2017-03-06</td><td>4</td><td>7</td></tr><tr><td>david</td><td>2016-05-18</td><td>2016-05-25</td><td>2</td><td>NULL</td></tr><tr><td>david</td><td>2016-06-09</td><td>2016-06-10</td><td>2</td><td>2</td></tr><tr><td>david</td><td>2016-06-30</td><td>2016-07-07</td><td>2</td><td>4</td></tr><tr><td>david</td><td>2016-07-18</td><td>2016-07-21</td><td>2</td><td>6</td></tr><tr><td>david</td><td>2016-08-05</td><td>2016-08-12</td><td>1</td><td>6</td></tr><tr><td>david</td><td>2016-08-20</td><td>2016-08-25</td><td>3</td><td>5</td></tr><tr><td>david</td><td>2016-08-22</td><td>2016-08-24</td><td>3</td><td>6</td></tr><tr><td>david</td><td>2016-10-30</td><td>2016-11-04</td><td>2</td><td>7</td></tr><tr><td>david</td><td>2017-01-18</td><td>2017-01-19</td><td>2</td><td>8</td></tr><tr><td>david1</td><td>2016-09-20</td><td>2016-09-21</td><td>2</td><td>NULL</td></tr><tr><td>david1</td><td>2016-10-01</td><td>2016-10-02</td><td>2</td><td>2</td></tr><tr><td>david1</td><td>2016-11-19</td><td>2016-11-22</td><td>2</td><td>4</td></tr><tr><td>david1</td><td>2016-12-30</td><td>2017-01-06</td><td>2</td><td>6</td></tr><tr><td>david1</td><td>2017-02-17</td><td>2017-02-20</td><td>3</td><td>6</td></tr><tr><td>david1</td><td>2017-02-25</td><td>2017-02-27</td><td>4</td><td>7</td></tr><tr><td>david4</td><td>2017-02-16</td><td>2017-02-19</td><td>3</td><td>NULL</td></tr><tr><td>debora</td><td>2016-06-22</td><td>2016-06-24</td><td>5</td><td>NULL</td></tr><tr><td>debora</td><td>2016-10-29</td><td>2016-11-03</td><td>2</td><td>5</td></tr><tr><td>debora</td><td>2017-01-23</td><td>2017-01-28</td><td>3</td><td>7</td></tr><tr><td>debora</td><td>2017-02-04</td><td>2017-02-06</td><td>3</td><td>10</td></tr><tr><td>denes</td><td>2016-05-27</td><td>2016-05-31</td><td>3</td><td>NULL</td></tr><tr><td>denes</td><td>2016-07-19</td><td>2016-07-23</td><td>2</td><td>3</td></tr><tr><td>denes</td><td>2016-08-01</td><td>2016-08-08</td><td>3</td><td>5</td></tr><tr><td>denes</td><td>2016-08-16</td><td>2016-08-23</td><td>2</td><td>8</td></tr><tr><td>denes</td><td>2016-08-20</td><td>2016-08-27</td><td>3</td><td>7</td></tr><tr><td>denes</td><td>2016-11-06</td><td>2016-11-10</td><td>2</td><td>8</td></tr><tr><td>dora3</td><td>2016-08-16</td><td>2016-08-19</td><td>4</td><td>NULL</td></tr><tr><td>dora3</td><td>2016-08-25</td><td>2016-08-29</td><td>3</td><td>4</td></tr><tr><td>dora3</td><td>2016-10-09</td><td>2016-10-12</td><td>3</td><td>7</td></tr><tr><td>dora3</td><td>2016-10-29</td><td>2016-11-02</td><td>3</td><td>10</td></tr><tr><td>dora3</td><td>2016-11-22</td><td>2016-11-29</td><td>3</td><td>9</td></tr><tr><td>edit</td><td>2016-07-14</td><td>2016-07-17</td><td>3</td><td>NULL</td></tr><tr><td>edit</td><td>2016-08-03</td><td>2016-08-09</td><td>4</td><td>3</td></tr><tr><td>edit</td><td>2016-08-12</td><td>2016-08-14</td><td>2</td><td>7</td></tr><tr><td>edit</td><td>2016-09-17</td><td>2016-09-24</td><td>2</td><td>9</td></tr><tr><td>edit</td><td>2016-09-18</td><td>2016-09-21</td><td>3</td><td>8</td></tr><tr><td>edit</td><td>2017-01-15</td><td>2017-01-18</td><td>4</td><td>7</td></tr><tr><td>edit</td><td>2017-02-08</td><td>2017-02-14</td><td>3</td><td>9</td></tr><tr><td>emese</td><td>2016-07-22</td><td>2016-07-24</td><td>2</td><td>NULL</td></tr><tr><td>emese</td><td>2016-08-09</td><td>2016-08-12</td><td>2</td><td>2</td></tr><tr><td>emese</td><td>2016-09-27</td><td>2016-09-28</td><td>3</td><td>4</td></tr><tr><td>emese</td><td>2016-11-05</td><td>2016-11-09</td><td>1</td><td>7</td></tr><tr><td>emese</td><td>2016-11-23</td><td>2016-11-27</td><td>4</td><td>6</td></tr><tr><td>emese</td><td>2016-12-07</td><td>2016-12-08</td><td>3</td><td>8</td></tr><tr><td>emese</td><td>2017-01-30</td><td>2017-01-31</td><td>2</td><td>8</td></tr><tr><td>eszter</td><td>2016-08-12</td><td>2016-08-18</td><td>3</td><td>NULL</td></tr><tr><td>eszter</td><td>2016-10-04</td><td>2016-10-10</td><td>3</td><td>3</td></tr><tr><td>eszter</td><td>2016-10-26</td><td>2016-11-01</td><td>3</td><td>6</td></tr><tr><td>eszter</td><td>2016-12-23</td><td>2016-12-28</td><td>2</td><td>9</td></tr><tr><td>eszter2</td><td>2016-06-30</td><td>2016-07-07</td><td>3</td><td>NULL</td></tr><tr><td>eszter2</td><td>2016-07-08</td><td>2016-07-09</td><td>1</td><td>3</td></tr><tr><td>eszter2</td><td>2016-10-01</td><td>2016-10-05</td><td>3</td><td>4</td></tr><tr><td>eszter2</td><td>2016-10-01</td><td>2016-10-06</td><td>1</td><td>7</td></tr><tr><td>eszter2</td><td>2016-10-20</td><td>2016-10-25</td><td>1</td><td>5</td></tr><tr><td>eszter2</td><td>2016-10-23</td><td>2016-10-30</td><td>1</td><td>5</td></tr><tr><td>eszter2</td><td>2016-11-05</td><td>2016-11-12</td><td>4</td><td>3</td></tr><tr><td>eszter2</td><td>2016-12-02</td><td>2016-12-07</td><td>1</td><td>6</td></tr><tr><td>eszter2</td><td>2016-12-05</td><td>2016-12-08</td><td>2</td><td>6</td></tr><tr><td>eszter2</td><td>2016-12-29</td><td>2017-02-04</td><td>1</td><td>7</td></tr><tr><td>eszter4</td><td>2017-01-05</td><td>2017-01-10</td><td>2</td><td>NULL</td></tr><tr><td>eszter4</td><td>2017-01-26</td><td>2017-02-02</td><td>2</td><td>2</td></tr><tr><td>eszter4</td><td>2017-02-26</td><td>2017-02-27</td><td>3</td><td>4</td></tr><tr><td>ESZTERE</td><td>2016-05-30</td><td>2016-06-05</td><td>2</td><td>NULL</td></tr><tr><td>ESZTERE</td><td>2016-07-19</td><td>2016-07-21</td><td>2</td><td>2</td></tr><tr><td>ESZTERE</td><td>2016-11-01</td><td>2016-11-08</td><td>2</td><td>4</td></tr><tr><td>ESZTERE</td><td>2017-02-10</td><td>2017-02-14</td><td>2</td><td>6</td></tr><tr><td>eva</td><td>2016-10-06</td><td>2016-10-09</td><td>3</td><td>NULL</td></tr><tr><td>eva</td><td>2017-01-14</td><td>2017-01-16</td><td>2</td><td>3</td></tr><tr><td>eva2</td><td>2016-09-02</td><td>2016-09-03</td><td>1</td><td>NULL</td></tr><tr><td>eva2</td><td>2016-11-06</td><td>2016-11-13</td><td>2</td><td>1</td></tr><tr><td>eva2</td><td>2016-12-06</td><td>2016-12-11</td><td>2</td><td>3</td></tr><tr><td>eva2</td><td>2017-01-06</td><td>2017-01-09</td><td>4</td><td>5</td></tr><tr><td>EVAV</td><td>2016-05-01</td><td>2016-05-05</td><td>3</td><td>NULL</td></tr><tr><td>EVAV</td><td>2016-08-31</td><td>2016-09-04</td><td>2</td><td>3</td></tr><tr><td>EVAV</td><td>2016-10-15</td><td>2016-10-21</td><td>3</td><td>5</td></tr><tr><td>EVAV</td><td>2016-10-16</td><td>2016-10-23</td><td>2</td><td>8</td></tr><tr><td>EVAV</td><td>2017-02-04</td><td>2017-02-11</td><td>5</td><td>7</td></tr><tr><td>ferenc1</td><td>2016-05-08</td><td>2016-05-11</td><td>2</td><td>NULL</td></tr><tr><td>ferenc1</td><td>2016-06-16</td><td>2016-06-22</td><td>2</td><td>2</td></tr><tr><td>ferenc1</td><td>2016-10-08</td><td>2016-10-09</td><td>2</td><td>4</td></tr><tr><td>ferenc1</td><td>2016-11-07</td><td>2016-11-08</td><td>3</td><td>6</td></tr><tr><td>fruzsina4</td><td>2016-06-02</td><td>2016-06-04</td><td>2</td><td>NULL</td></tr><tr><td>fruzsina4</td><td>2016-07-01</td><td>2016-07-04</td><td>3</td><td>2</td></tr><tr><td>fruzsina4</td><td>2016-07-13</td><td>2016-07-19</td><td>3</td><td>5</td></tr><tr><td>fruzsina4</td><td>2016-08-27</td><td>2016-08-30</td><td>4</td><td>8</td></tr><tr><td>fruzsina4</td><td>2016-09-29</td><td>2016-10-01</td><td>3</td><td>10</td></tr><tr><td>fruzsina4</td><td>2016-11-22</td><td>2016-11-24</td><td>2</td><td>10</td></tr><tr><td>fruzsina4</td><td>2016-12-16</td><td>2016-12-21</td><td>1</td><td>9</td></tr><tr><td>fruzsina4</td><td>2017-01-22</td><td>2017-01-25</td><td>4</td><td>6</td></tr><tr><td>gabor1</td><td>2016-06-20</td><td>2016-06-21</td><td>4</td><td>NULL</td></tr><tr><td>gabor1</td><td>2016-07-12</td><td>2016-07-15</td><td>1</td><td>4</td></tr><tr><td>gabor1</td><td>2016-07-28</td><td>2016-07-30</td><td>2</td><td>5</td></tr><tr><td>gabor1</td><td>2016-09-02</td><td>2016-09-03</td><td>3</td><td>7</td></tr><tr><td>gabor1</td><td>2016-10-20</td><td>2016-10-24</td><td>1</td><td>6</td></tr><tr><td>gabor1</td><td>2016-11-19</td><td>2016-11-22</td><td>2</td><td>6</td></tr><tr><td>gabor4</td><td>2016-04-26</td><td>2016-04-29</td><td>3</td><td>NULL</td></tr><tr><td>gabor4</td><td>2016-05-30</td><td>2016-06-05</td><td>1</td><td>3</td></tr><tr><td>gabor4</td><td>2016-08-31</td><td>2016-09-06</td><td>4</td><td>4</td></tr><tr><td>gabor4</td><td>2016-11-07</td><td>2016-11-13</td><td>4</td><td>8</td></tr><tr><td>gabriella1</td><td>2016-04-21</td><td>2016-04-24</td><td>3</td><td>NULL</td></tr><tr><td>gabriella1</td><td>2016-07-10</td><td>2016-07-11</td><td>3</td><td>3</td></tr><tr><td>gabriella1</td><td>2016-07-24</td><td>2016-07-31</td><td>2</td><td>6</td></tr><tr><td>gabriella1</td><td>2017-02-04</td><td>2017-02-11</td><td>3</td><td>8</td></tr><tr><td>gabriella1</td><td>2017-02-12</td><td>2017-02-13</td><td>2</td><td>8</td></tr><tr><td>gabriella1</td><td>2017-02-21</td><td>2017-02-27</td><td>3</td><td>7</td></tr><tr><td>gabriella10</td><td>2016-10-01</td><td>2016-10-06</td><td>3</td><td>NULL</td></tr><tr><td>georgij</td><td>2016-06-16</td><td>2016-06-20</td><td>3</td><td>NULL</td></tr><tr><td>georgij</td><td>2016-08-16</td><td>2016-08-22</td><td>4</td><td>3</td></tr><tr><td>georgij</td><td>2016-08-28</td><td>2016-09-04</td><td>2</td><td>7</td></tr><tr><td>georgij</td><td>2016-09-18</td><td>2016-09-24</td><td>3</td><td>9</td></tr><tr><td>gusztav</td><td>2016-05-06</td><td>2016-05-13</td><td>2</td><td>NULL</td></tr><tr><td>gusztav</td><td>2016-08-05</td><td>2016-08-11</td><td>3</td><td>2</td></tr><tr><td>gusztav</td><td>2016-10-01</td><td>2016-10-03</td><td>3</td><td>5</td></tr><tr><td>gusztav</td><td>2017-02-03</td><td>2017-02-09</td><td>2</td><td>8</td></tr><tr><td>gusztav</td><td>2017-02-23</td><td>2017-03-01</td><td>4</td><td>8</td></tr><tr><td>GYONGYIK</td><td>2016-06-02</td><td>2016-06-05</td><td>3</td><td>NULL</td></tr><tr><td>GYONGYIK</td><td>2016-06-10</td><td>2016-06-17</td><td>1</td><td>3</td></tr><tr><td>GYONGYIK</td><td>2016-07-01</td><td>2016-07-05</td><td>2</td><td>4</td></tr><tr><td>GYONGYIK</td><td>2016-08-17</td><td>2016-08-21</td><td>3</td><td>6</td></tr><tr><td>GYONGYIK</td><td>2016-11-08</td><td>2016-11-13</td><td>2</td><td>6</td></tr><tr><td>GYONGYIK</td><td>2016-12-01</td><td>2016-12-08</td><td>2</td><td>7</td></tr><tr><td>GYONGYIK</td><td>2017-01-22</td><td>2017-01-29</td><td>3</td><td>7</td></tr><tr><td>GYORGYO</td><td>2016-05-27</td><td>2016-05-28</td><td>3</td><td>NULL</td></tr><tr><td>GYORGYO</td><td>2016-06-01</td><td>2016-06-07</td><td>2</td><td>3</td></tr><tr><td>GYORGYO</td><td>2016-06-10</td><td>2016-06-15</td><td>2</td><td>5</td></tr><tr><td>GYORGYO</td><td>2016-07-18</td><td>2016-07-25</td><td>2</td><td>7</td></tr><tr><td>GYORGYO</td><td>2016-07-28</td><td>2016-08-03</td><td>3</td><td>6</td></tr><tr><td>GYORGYO</td><td>2016-10-28</td><td>2016-10-31</td><td>1</td><td>7</td></tr><tr><td>GYORGYO</td><td>2017-02-13</td><td>2017-02-15</td><td>2</td><td>6</td></tr><tr><td>GYORGYO</td><td>2017-02-24</td><td>2017-02-25</td><td>3</td><td>6</td></tr><tr><td>henrik3</td><td>2016-08-24</td><td>2016-08-28</td><td>1</td><td>NULL</td></tr><tr><td>henrik3</td><td>2016-12-29</td><td>2017-01-03</td><td>3</td><td>1</td></tr><tr><td>henrik3</td><td>2017-01-27</td><td>2017-01-28</td><td>3</td><td>4</td></tr><tr><td>IBOLYAA</td><td>2016-08-29</td><td>2016-08-31</td><td>5</td><td>NULL</td></tr><tr><td>IBOLYAA</td><td>2016-10-23</td><td>2016-10-28</td><td>2</td><td>5</td></tr><tr><td>IBOLYAA</td><td>2017-01-17</td><td>2017-01-23</td><td>3</td><td>7</td></tr><tr><td>ilona3</td><td>2016-07-31</td><td>2016-08-06</td><td>2</td><td>NULL</td></tr><tr><td>ilona3</td><td>2016-08-04</td><td>2016-08-08</td><td>3</td><td>2</td></tr><tr><td>ilona3</td><td>2016-11-04</td><td>2016-11-06</td><td>4</td><td>5</td></tr><tr><td>ilona3</td><td>2016-12-25</td><td>2016-12-31</td><td>3</td><td>9</td></tr><tr><td>imre</td><td>2016-09-17</td><td>2016-09-19</td><td>3</td><td>NULL</td></tr><tr><td>imre</td><td>2016-10-28</td><td>2016-10-29</td><td>4</td><td>3</td></tr><tr><td>imre1</td><td>2016-06-23</td><td>2016-06-26</td><td>4</td><td>NULL</td></tr><tr><td>imre1</td><td>2016-06-27</td><td>2016-06-28</td><td>2</td><td>4</td></tr><tr><td>imre1</td><td>2016-08-21</td><td>2016-08-27</td><td>2</td><td>6</td></tr><tr><td>imre1</td><td>2016-08-23</td><td>2016-08-25</td><td>3</td><td>8</td></tr><tr><td>imre1</td><td>2016-08-29</td><td>2016-08-31</td><td>2</td><td>7</td></tr><tr><td>imre1</td><td>2017-02-01</td><td>2017-02-04</td><td>2</td><td>7</td></tr><tr><td>imre1</td><td>2017-02-05</td><td>2017-02-07</td><td>4</td><td>7</td></tr><tr><td>istvan</td><td>2016-10-07</td><td>2016-10-10</td><td>2</td><td>NULL</td></tr><tr><td>istvan</td><td>2016-11-22</td><td>2016-11-24</td><td>3</td><td>2</td></tr><tr><td>istvan</td><td>2017-01-02</td><td>2017-01-05</td><td>2</td><td>5</td></tr><tr><td>istvan1</td><td>2016-04-16</td><td>2016-04-22</td><td>3</td><td>NULL</td></tr><tr><td>istvan1</td><td>2016-04-24</td><td>2016-04-28</td><td>3</td><td>3</td></tr><tr><td>istvan1</td><td>2016-07-19</td><td>2016-07-24</td><td>1</td><td>6</td></tr><tr><td>istvan1</td><td>2017-02-07</td><td>2017-02-10</td><td>3</td><td>7</td></tr><tr><td>ISTVANV</td><td>2016-07-01</td><td>2016-07-04</td><td>4</td><td>NULL</td></tr><tr><td>ISTVANV</td><td>2016-09-29</td><td>2016-10-01</td><td>3</td><td>4</td></tr><tr><td>janos3</td><td>2016-06-04</td><td>2016-06-06</td><td>1</td><td>NULL</td></tr><tr><td>janos3</td><td>2016-08-24</td><td>2016-08-25</td><td>3</td><td>1</td></tr><tr><td>janos3</td><td>2016-10-03</td><td>2016-10-08</td><td>3</td><td>4</td></tr><tr><td>janos3</td><td>2016-10-22</td><td>2016-10-23</td><td>1</td><td>7</td></tr><tr><td>janos3</td><td>2017-02-12</td><td>2017-02-14</td><td>3</td><td>7</td></tr><tr><td>JANOSG</td><td>2016-05-09</td><td>2016-05-15</td><td>1</td><td>NULL</td></tr><tr><td>JANOSG</td><td>2016-08-16</td><td>2016-08-23</td><td>3</td><td>1</td></tr><tr><td>JANOSG</td><td>2016-08-30</td><td>2016-09-03</td><td>3</td><td>4</td></tr><tr><td>JANOSG</td><td>2016-11-07</td><td>2016-11-14</td><td>3</td><td>7</td></tr><tr><td>JANOSG</td><td>2016-12-28</td><td>2016-12-30</td><td>2</td><td>9</td></tr><tr><td>JANOSG</td><td>2017-01-10</td><td>2017-01-15</td><td>2</td><td>8</td></tr><tr><td>JANOSG</td><td>2017-01-31</td><td>2017-02-05</td><td>2</td><td>7</td></tr><tr><td>JANOSP</td><td>2016-07-04</td><td>2016-07-11</td><td>3</td><td>NULL</td></tr><tr><td>JANOSP</td><td>2016-11-23</td><td>2016-11-28</td><td>2</td><td>3</td></tr><tr><td>JANOSP</td><td>2016-11-25</td><td>2016-11-27</td><td>2</td><td>5</td></tr><tr><td>JANOSP</td><td>2016-12-18</td><td>2016-12-21</td><td>2</td><td>7</td></tr><tr><td>jozsef</td><td>2016-09-13</td><td>2016-09-19</td><td>2</td><td>NULL</td></tr><tr><td>jozsef</td><td>2016-10-08</td><td>2016-10-10</td><td>2</td><td>2</td></tr><tr><td>jozsef</td><td>2016-12-06</td><td>2016-12-07</td><td>2</td><td>4</td></tr><tr><td>jozsef2</td><td>2016-07-06</td><td>2016-07-11</td><td>2</td><td>NULL</td></tr><tr><td>jozsef2</td><td>2016-07-16</td><td>2016-07-20</td><td>3</td><td>2</td></tr><tr><td>jozsef2</td><td>2016-09-09</td><td>2016-09-15</td><td>2</td><td>5</td></tr><tr><td>jozsef2</td><td>2016-11-23</td><td>2016-11-29</td><td>3</td><td>7</td></tr><tr><td>jozsef2</td><td>2016-11-25</td><td>2016-11-29</td><td>3</td><td>8</td></tr><tr><td>JOZSEFG</td><td>2016-05-02</td><td>2016-05-06</td><td>2</td><td>NULL</td></tr><tr><td>JOZSEFG</td><td>2016-05-23</td><td>2016-05-25</td><td>1</td><td>2</td></tr><tr><td>JOZSEFG</td><td>2016-06-04</td><td>2016-06-09</td><td>4</td><td>3</td></tr><tr><td>JOZSEFG</td><td>2016-08-24</td><td>2016-08-27</td><td>3</td><td>7</td></tr><tr><td>JOZSEFG</td><td>2017-01-09</td><td>2017-01-13</td><td>2</td><td>8</td></tr><tr><td>JOZSEFG</td><td>2017-01-22</td><td>2017-01-26</td><td>1</td><td>9</td></tr><tr><td>JOZSEFG</td><td>2017-02-24</td><td>2017-03-03</td><td>3</td><td>6</td></tr><tr><td>JUDITH</td><td>2016-06-06</td><td>2016-06-10</td><td>2</td><td>NULL</td></tr><tr><td>JUDITH</td><td>2016-07-28</td><td>2016-07-30</td><td>2</td><td>2</td></tr><tr><td>JUDITH</td><td>2016-12-19</td><td>2016-12-26</td><td>1</td><td>4</td></tr><tr><td>julia</td><td>2016-04-21</td><td>2016-04-26</td><td>2</td><td>NULL</td></tr><tr><td>julia</td><td>2016-05-12</td><td>2016-05-17</td><td>1</td><td>2</td></tr><tr><td>julia</td><td>2016-06-07</td><td>2016-06-08</td><td>5</td><td>3</td></tr><tr><td>julia</td><td>2016-07-20</td><td>2016-07-22</td><td>2</td><td>8</td></tr><tr><td>julia</td><td>2017-02-27</td><td>2017-03-06</td><td>3</td><td>8</td></tr><tr><td>julia4</td><td>2016-11-07</td><td>2016-11-12</td><td>1</td><td>NULL</td></tr><tr><td>julia4</td><td>2017-02-04</td><td>2017-02-11</td><td>4</td><td>1</td></tr><tr><td>julianna4</td><td>2016-07-20</td><td>2016-07-26</td><td>2</td><td>NULL</td></tr><tr><td>julianna4</td><td>2016-10-29</td><td>2016-10-31</td><td>3</td><td>2</td></tr><tr><td>julianna4</td><td>2016-11-03</td><td>2016-11-04</td><td>2</td><td>5</td></tr><tr><td>julianna4</td><td>2016-11-27</td><td>2016-12-04</td><td>3</td><td>7</td></tr><tr><td>kata</td><td>2016-04-10</td><td>2016-04-11</td><td>2</td><td>NULL</td></tr><tr><td>kata</td><td>2016-04-25</td><td>2016-05-01</td><td>1</td><td>2</td></tr><tr><td>kata</td><td>2016-05-31</td><td>2016-06-01</td><td>3</td><td>3</td></tr><tr><td>kata</td><td>2016-06-07</td><td>2016-06-12</td><td>2</td><td>6</td></tr><tr><td>kata</td><td>2016-07-01</td><td>2016-07-07</td><td>2</td><td>6</td></tr><tr><td>kata</td><td>2016-07-03</td><td>2016-07-06</td><td>1</td><td>7</td></tr><tr><td>kata</td><td>2016-07-07</td><td>2016-07-09</td><td>3</td><td>5</td></tr><tr><td>kata</td><td>2016-08-24</td><td>2016-08-27</td><td>3</td><td>6</td></tr><tr><td>kata</td><td>2016-09-19</td><td>2016-09-20</td><td>3</td><td>7</td></tr><tr><td>kata</td><td>2017-01-15</td><td>2017-01-21</td><td>3</td><td>9</td></tr><tr><td>katalin</td><td>2016-04-10</td><td>2016-04-17</td><td>2</td><td>NULL</td></tr><tr><td>katalin</td><td>2016-05-21</td><td>2016-05-26</td><td>1</td><td>2</td></tr><tr><td>katalin</td><td>2016-07-06</td><td>2016-07-11</td><td>1</td><td>3</td></tr><tr><td>katalin</td><td>2016-07-28</td><td>2016-07-29</td><td>1</td><td>4</td></tr><tr><td>katalin</td><td>2016-10-26</td><td>2016-10-30</td><td>2</td><td>3</td></tr><tr><td>katalin</td><td>2016-12-13</td><td>2016-12-19</td><td>2</td><td>4</td></tr><tr><td>katalin</td><td>2016-12-17</td><td>2016-12-24</td><td>1</td><td>5</td></tr><tr><td>katalin</td><td>2016-12-24</td><td>2016-12-27</td><td>2</td><td>5</td></tr><tr><td>katalin</td><td>2017-02-24</td><td>2017-02-27</td><td>3</td><td>5</td></tr><tr><td>katalin4</td><td>2016-07-01</td><td>2016-07-07</td><td>1</td><td>NULL</td></tr><tr><td>katalin4</td><td>2016-07-03</td><td>2016-07-04</td><td>4</td><td>1</td></tr><tr><td>katalin4</td><td>2016-11-27</td><td>2016-12-04</td><td>3</td><td>5</td></tr><tr><td>katalin4</td><td>2016-12-04</td><td>2016-12-09</td><td>3</td><td>8</td></tr><tr><td>katalin4</td><td>2017-01-18</td><td>2017-01-20</td><td>2</td><td>10</td></tr><tr><td>katalin4</td><td>2017-01-24</td><td>2017-01-31</td><td>2</td><td>8</td></tr><tr><td>kati</td><td>2016-06-06</td><td>2016-06-10</td><td>2</td><td>NULL</td></tr><tr><td>kati</td><td>2016-06-06</td><td>2016-06-11</td><td>3</td><td>2</td></tr><tr><td>kati</td><td>2016-07-13</td><td>2016-07-20</td><td>2</td><td>5</td></tr><tr><td>kati</td><td>2016-07-27</td><td>2016-08-03</td><td>2</td><td>7</td></tr><tr><td>kati</td><td>2016-08-03</td><td>2016-08-07</td><td>2</td><td>7</td></tr><tr><td>kati</td><td>2016-10-26</td><td>2016-10-28</td><td>2</td><td>6</td></tr><tr><td>kati</td><td>2016-10-30</td><td>2016-11-01</td><td>3</td><td>6</td></tr><tr><td>katka</td><td>2016-04-10</td><td>2016-04-12</td><td>2</td><td>NULL</td></tr><tr><td>katka</td><td>2016-05-09</td><td>2016-05-15</td><td>3</td><td>2</td></tr><tr><td>katka</td><td>2016-06-13</td><td>2016-06-18</td><td>1</td><td>5</td></tr><tr><td>katka</td><td>2016-06-13</td><td>2016-06-19</td><td>4</td><td>6</td></tr><tr><td>katka</td><td>2016-08-24</td><td>2016-08-26</td><td>2</td><td>8</td></tr><tr><td>katka</td><td>2016-09-05</td><td>2016-09-10</td><td>4</td><td>7</td></tr><tr><td>katka</td><td>2016-11-05</td><td>2016-11-08</td><td>3</td><td>10</td></tr><tr><td>katka</td><td>2017-01-02</td><td>2017-01-05</td><td>3</td><td>9</td></tr><tr><td>katka</td><td>2017-01-19</td><td>2017-01-20</td><td>3</td><td>10</td></tr><tr><td>klaudia2</td><td>2016-06-06</td><td>2016-06-08</td><td>4</td><td>NULL</td></tr><tr><td>klaudia2</td><td>2016-10-01</td><td>2016-10-02</td><td>2</td><td>4</td></tr><tr><td>klaudia2</td><td>2016-10-02</td><td>2016-10-05</td><td>2</td><td>6</td></tr><tr><td>kornel4</td><td>2016-05-08</td><td>2016-05-14</td><td>3</td><td>NULL</td></tr><tr><td>kornel4</td><td>2016-06-02</td><td>2016-06-09</td><td>3</td><td>3</td></tr><tr><td>kornel4</td><td>2016-09-23</td><td>2016-09-24</td><td>3</td><td>6</td></tr><tr><td>kristof4</td><td>2016-04-08</td><td>2016-04-14</td><td>2</td><td>NULL</td></tr><tr><td>kristof4</td><td>2016-09-30</td><td>2016-10-04</td><td>2</td><td>2</td></tr><tr><td>kriszti</td><td>2016-05-19</td><td>2016-05-26</td><td>2</td><td>NULL</td></tr><tr><td>kriszti</td><td>2016-08-24</td><td>2016-08-25</td><td>3</td><td>2</td></tr><tr><td>kriszti</td><td>2016-09-30</td><td>2016-10-05</td><td>3</td><td>5</td></tr><tr><td>kriszti</td><td>2016-10-01</td><td>2016-10-02</td><td>3</td><td>8</td></tr><tr><td>kriszti</td><td>2017-02-04</td><td>2017-02-11</td><td>3</td><td>9</td></tr><tr><td>kriszti</td><td>2017-03-03</td><td>2017-03-04</td><td>3</td><td>9</td></tr><tr><td>krisztian4</td><td>2016-06-03</td><td>2016-06-04</td><td>2</td><td>NULL</td></tr><tr><td>krisztian4</td><td>2016-06-07</td><td>2016-06-09</td><td>2</td><td>2</td></tr><tr><td>krisztian4</td><td>2016-07-28</td><td>2016-08-01</td><td>2</td><td>4</td></tr><tr><td>krisztian4</td><td>2016-08-01</td><td>2016-08-04</td><td>3</td><td>6</td></tr><tr><td>krisztian4</td><td>2016-08-16</td><td>2016-08-19</td><td>1</td><td>7</td></tr><tr><td>krisztian4</td><td>2016-08-29</td><td>2016-09-03</td><td>1</td><td>6</td></tr><tr><td>krisztian4</td><td>2016-10-17</td><td>2016-10-22</td><td>3</td><td>5</td></tr><tr><td>krisztian4</td><td>2016-11-02</td><td>2016-11-03</td><td>2</td><td>5</td></tr><tr><td>krisztian4</td><td>2016-12-11</td><td>2016-12-18</td><td>2</td><td>6</td></tr><tr><td>krisztian4</td><td>2017-01-06</td><td>2017-01-09</td><td>1</td><td>7</td></tr><tr><td>krisztian4</td><td>2017-01-16</td><td>2017-01-23</td><td>3</td><td>5</td></tr><tr><td>krisztian4</td><td>2017-02-23</td><td>2017-03-02</td><td>2</td><td>6</td></tr><tr><td>KRISZTIANM</td><td>2016-04-09</td><td>2016-04-15</td><td>2</td><td>NULL</td></tr><tr><td>KRISZTIANM</td><td>2016-06-04</td><td>2016-06-08</td><td>2</td><td>2</td></tr><tr><td>KRISZTIANM</td><td>2016-07-09</td><td>2016-07-14</td><td>3</td><td>4</td></tr><tr><td>KRISZTIANM</td><td>2016-08-02</td><td>2016-08-08</td><td>4</td><td>7</td></tr><tr><td>KRISZTIANM</td><td>2016-12-25</td><td>2016-12-31</td><td>2</td><td>9</td></tr><tr><td>KRISZTIANM</td><td>2017-01-16</td><td>2017-01-23</td><td>1</td><td>9</td></tr><tr><td>krisztina</td><td>2016-05-21</td><td>2016-05-27</td><td>2</td><td>NULL</td></tr><tr><td>krisztina</td><td>2016-07-05</td><td>2016-07-12</td><td>3</td><td>2</td></tr><tr><td>krisztina</td><td>2016-09-13</td><td>2016-09-16</td><td>1</td><td>5</td></tr><tr><td>krisztina</td><td>2016-09-19</td><td>2016-09-26</td><td>2</td><td>6</td></tr><tr><td>krisztina</td><td>2016-11-08</td><td>2016-11-12</td><td>2</td><td>6</td></tr><tr><td>krisztina</td><td>2016-11-22</td><td>2016-11-25</td><td>1</td><td>5</td></tr><tr><td>krisztina</td><td>2017-02-05</td><td>2017-02-07</td><td>2</td><td>5</td></tr><tr><td>krisztina</td><td>2017-02-16</td><td>2017-02-20</td><td>4</td><td>5</td></tr><tr><td>krisztina1</td><td>2016-04-28</td><td>2016-04-30</td><td>2</td><td>NULL</td></tr><tr><td>krisztina1</td><td>2016-05-16</td><td>2016-05-20</td><td>1</td><td>2</td></tr><tr><td>krisztina1</td><td>2016-06-16</td><td>2016-06-22</td><td>2</td><td>3</td></tr><tr><td>krisztina1</td><td>2016-09-15</td><td>2016-09-20</td><td>3</td><td>5</td></tr><tr><td>krisztina1</td><td>2016-10-29</td><td>2016-10-30</td><td>4</td><td>6</td></tr><tr><td>krisztina1</td><td>2017-01-21</td><td>2017-01-24</td><td>2</td><td>9</td></tr><tr><td>KRISZTINAG</td><td>2016-04-23</td><td>2016-04-24</td><td>2</td><td>NULL</td></tr><tr><td>KRISZTINAG</td><td>2016-05-24</td><td>2016-05-31</td><td>1</td><td>2</td></tr><tr><td>KRISZTINAG</td><td>2016-06-08</td><td>2016-06-12</td><td>1</td><td>3</td></tr><tr><td>KRISZTINAG</td><td>2016-08-08</td><td>2016-08-12</td><td>3</td><td>4</td></tr><tr><td>KRISZTINAG</td><td>2017-01-25</td><td>2017-01-30</td><td>2</td><td>5</td></tr><tr><td>lajos</td><td>2016-07-18</td><td>2016-07-21</td><td>2</td><td>NULL</td></tr><tr><td>lajos</td><td>2016-12-25</td><td>2016-12-28</td><td>4</td><td>2</td></tr><tr><td>lajos</td><td>2017-02-12</td><td>2017-02-13</td><td>1</td><td>6</td></tr><tr><td>lala</td><td>2016-06-16</td><td>2016-06-22</td><td>2</td><td>NULL</td></tr><tr><td>lala</td><td>2016-07-20</td><td>2016-07-21</td><td>3</td><td>2</td></tr><tr><td>lala</td><td>2016-07-26</td><td>2016-07-27</td><td>3</td><td>5</td></tr><tr><td>lala</td><td>2016-10-30</td><td>2016-10-31</td><td>3</td><td>8</td></tr><tr><td>lala</td><td>2017-01-08</td><td>2017-01-10</td><td>3</td><td>9</td></tr><tr><td>lala</td><td>2017-01-17</td><td>2017-01-19</td><td>2</td><td>9</td></tr><tr><td>laszlo1</td><td>2016-09-23</td><td>2016-09-30</td><td>3</td><td>NULL</td></tr><tr><td>laszlo2</td><td>2016-04-06</td><td>2016-04-10</td><td>2</td><td>NULL</td></tr><tr><td>laszlo2</td><td>2016-04-27</td><td>2016-04-29</td><td>2</td><td>2</td></tr><tr><td>laszlo2</td><td>2016-08-14</td><td>2016-08-15</td><td>3</td><td>4</td></tr><tr><td>laszlo2</td><td>2016-09-05</td><td>2016-09-10</td><td>3</td><td>7</td></tr><tr><td>laszlo2</td><td>2016-11-25</td><td>2016-11-26</td><td>3</td><td>8</td></tr><tr><td>LASZLOA</td><td>2016-06-03</td><td>2016-06-09</td><td>2</td><td>NULL</td></tr><tr><td>LASZLOA</td><td>2016-06-07</td><td>2016-06-11</td><td>1</td><td>2</td></tr><tr><td>LASZLOA</td><td>2016-06-10</td><td>2016-06-13</td><td>3</td><td>3</td></tr><tr><td>LASZLOA</td><td>2017-02-08</td><td>2017-02-14</td><td>2</td><td>6</td></tr><tr><td>LASZLON</td><td>2016-06-03</td><td>2016-06-06</td><td>1</td><td>NULL</td></tr><tr><td>LASZLON</td><td>2016-06-08</td><td>2016-06-09</td><td>2</td><td>1</td></tr><tr><td>LASZLON</td><td>2016-10-01</td><td>2016-10-04</td><td>3</td><td>3</td></tr><tr><td>LASZLON</td><td>2016-10-09</td><td>2016-10-14</td><td>1</td><td>6</td></tr><tr><td>LASZLON</td><td>2016-11-29</td><td>2016-12-04</td><td>1</td><td>6</td></tr><tr><td>LASZLON</td><td>2017-02-18</td><td>2017-02-25</td><td>3</td><td>5</td></tr><tr><td>maria1</td><td>2016-05-13</td><td>2016-05-18</td><td>2</td><td>NULL</td></tr><tr><td>maria1</td><td>2016-05-18</td><td>2016-05-19</td><td>1</td><td>2</td></tr><tr><td>maria1</td><td>2016-05-28</td><td>2016-06-03</td><td>2</td><td>3</td></tr><tr><td>maria1</td><td>2016-06-23</td><td>2016-06-27</td><td>1</td><td>5</td></tr><tr><td>maria1</td><td>2016-08-11</td><td>2016-08-14</td><td>3</td><td>4</td></tr><tr><td>maria1</td><td>2016-09-02</td><td>2016-09-05</td><td>1</td><td>6</td></tr><tr><td>maria1</td><td>2016-11-08</td><td>2016-11-12</td><td>3</td><td>5</td></tr><tr><td>maria1</td><td>2017-02-24</td><td>2017-03-02</td><td>2</td><td>7</td></tr><tr><td>mark</td><td>2016-04-19</td><td>2016-04-26</td><td>4</td><td>NULL</td></tr><tr><td>mark</td><td>2016-06-13</td><td>2016-06-18</td><td>3</td><td>4</td></tr><tr><td>mark</td><td>2016-08-09</td><td>2016-08-16</td><td>3</td><td>7</td></tr><tr><td>mark</td><td>2016-10-20</td><td>2016-10-27</td><td>1</td><td>10</td></tr><tr><td>mark</td><td>2016-11-19</td><td>2016-11-22</td><td>2</td><td>7</td></tr><tr><td>MARKH</td><td>2016-09-14</td><td>2016-09-17</td><td>3</td><td>NULL</td></tr><tr><td>MARKH</td><td>2016-09-23</td><td>2016-09-30</td><td>2</td><td>3</td></tr><tr><td>MARKH</td><td>2016-09-26</td><td>2016-10-01</td><td>4</td><td>5</td></tr><tr><td>MARKH</td><td>2017-01-22</td><td>2017-01-29</td><td>4</td><td>9</td></tr><tr><td>marton</td><td>2016-04-27</td><td>2016-05-04</td><td>3</td><td>NULL</td></tr><tr><td>marton</td><td>2016-05-05</td><td>2016-05-10</td><td>1</td><td>3</td></tr><tr><td>marton</td><td>2016-06-06</td><td>2016-06-08</td><td>3</td><td>4</td></tr><tr><td>marton</td><td>2016-06-22</td><td>2016-06-29</td><td>2</td><td>7</td></tr><tr><td>marton</td><td>2016-08-12</td><td>2016-08-17</td><td>2</td><td>6</td></tr><tr><td>marton</td><td>2016-09-10</td><td>2016-09-12</td><td>2</td><td>7</td></tr><tr><td>marton</td><td>2017-03-02</td><td>2017-03-03</td><td>2</td><td>6</td></tr><tr><td>MATEK</td><td>2016-08-17</td><td>2016-08-21</td><td>4</td><td>NULL</td></tr><tr><td>MATEK</td><td>2016-10-01</td><td>2016-10-04</td><td>2</td><td>4</td></tr><tr><td>MATEK</td><td>2017-01-16</td><td>2017-01-22</td><td>2</td><td>6</td></tr><tr><td>matyas2</td><td>2016-07-13</td><td>2016-07-16</td><td>2</td><td>NULL</td></tr><tr><td>matyas2</td><td>2016-12-09</td><td>2016-12-13</td><td>3</td><td>2</td></tr><tr><td>MATYASS</td><td>2016-05-10</td><td>2016-05-16</td><td>2</td><td>NULL</td></tr><tr><td>MATYASS</td><td>2016-06-02</td><td>2016-06-08</td><td>1</td><td>2</td></tr><tr><td>MATYASS</td><td>2016-07-23</td><td>2016-07-25</td><td>3</td><td>3</td></tr><tr><td>MATYASS</td><td>2016-10-09</td><td>2016-10-15</td><td>3</td><td>6</td></tr><tr><td>MATYASS</td><td>2016-10-24</td><td>2016-10-31</td><td>1</td><td>7</td></tr><tr><td>MATYASS</td><td>2016-10-30</td><td>2016-11-04</td><td>3</td><td>7</td></tr><tr><td>MATYASS</td><td>2016-12-20</td><td>2016-12-25</td><td>2</td><td>7</td></tr><tr><td>MATYASS</td><td>2017-01-09</td><td>2017-01-13</td><td>2</td><td>6</td></tr><tr><td>MIHALYJ</td><td>2016-05-30</td><td>2016-06-01</td><td>2</td><td>NULL</td></tr><tr><td>MIHALYJ</td><td>2016-06-27</td><td>2016-07-01</td><td>1</td><td>2</td></tr><tr><td>MIHALYJ</td><td>2016-08-29</td><td>2016-09-03</td><td>1</td><td>3</td></tr><tr><td>MIHALYJ</td><td>2016-11-01</td><td>2016-11-04</td><td>3</td><td>4</td></tr><tr><td>MIHALYJ</td><td>2017-02-06</td><td>2017-02-12</td><td>4</td><td>5</td></tr><tr><td>miklos2</td><td>2016-04-19</td><td>2016-04-21</td><td>3</td><td>NULL</td></tr><tr><td>miklos2</td><td>2016-10-08</td><td>2016-10-09</td><td>1</td><td>3</td></tr><tr><td>miklos2</td><td>2016-11-16</td><td>2016-11-18</td><td>3</td><td>4</td></tr><tr><td>MIKLOSB</td><td>2016-06-26</td><td>2016-06-30</td><td>2</td><td>NULL</td></tr><tr><td>MIKLOSB</td><td>2016-07-18</td><td>2016-07-21</td><td>2</td><td>2</td></tr><tr><td>MIKLOSB</td><td>2016-12-05</td><td>2016-12-10</td><td>2</td><td>4</td></tr><tr><td>MONIKAM</td><td>2016-04-29</td><td>2016-05-01</td><td>2</td><td>NULL</td></tr><tr><td>MONIKAM</td><td>2016-07-23</td><td>2016-07-30</td><td>1</td><td>2</td></tr><tr><td>MONIKAM</td><td>2016-11-09</td><td>2016-11-16</td><td>2</td><td>3</td></tr><tr><td>MONIKAM</td><td>2017-01-17</td><td>2017-01-24</td><td>1</td><td>5</td></tr><tr><td>MONIKAM</td><td>2017-02-06</td><td>2017-02-09</td><td>2</td><td>4</td></tr><tr><td>MONIKAM</td><td>2017-02-23</td><td>2017-02-26</td><td>2</td><td>5</td></tr><tr><td>NANDORF</td><td>2016-04-06</td><td>2016-04-10</td><td>3</td><td>NULL</td></tr><tr><td>NANDORF</td><td>2016-11-03</td><td>2016-11-04</td><td>3</td><td>3</td></tr><tr><td>NANDORF</td><td>2017-02-05</td><td>2017-02-08</td><td>3</td><td>6</td></tr><tr><td>nikolett3</td><td>2016-05-24</td><td>2016-05-29</td><td>2</td><td>NULL</td></tr><tr><td>nikolett3</td><td>2016-06-03</td><td>2016-06-09</td><td>1</td><td>2</td></tr><tr><td>nikolett3</td><td>2016-06-22</td><td>2016-06-24</td><td>1</td><td>3</td></tr><tr><td>nikolett3</td><td>2016-10-22</td><td>2016-10-29</td><td>3</td><td>4</td></tr><tr><td>nikoletta4</td><td>2016-04-08</td><td>2016-04-10</td><td>2</td><td>NULL</td></tr><tr><td>nikoletta4</td><td>2016-05-09</td><td>2016-05-15</td><td>2</td><td>2</td></tr><tr><td>nikoletta4</td><td>2016-05-30</td><td>2016-06-03</td><td>3</td><td>4</td></tr><tr><td>nikoletta4</td><td>2016-06-29</td><td>2016-07-06</td><td>2</td><td>7</td></tr><tr><td>nikoletta4</td><td>2016-08-13</td><td>2016-08-17</td><td>3</td><td>7</td></tr><tr><td>nikoletta4</td><td>2016-12-08</td><td>2016-12-10</td><td>5</td><td>8</td></tr><tr><td>nikoletta4</td><td>2017-02-01</td><td>2017-02-04</td><td>2</td><td>10</td></tr><tr><td>NIKOLETTAT</td><td>2016-05-22</td><td>2016-05-23</td><td>4</td><td>NULL</td></tr><tr><td>NIKOLETTAT</td><td>2016-06-07</td><td>2016-06-09</td><td>2</td><td>4</td></tr><tr><td>NIKOLETTAT</td><td>2016-07-27</td><td>2016-07-29</td><td>4</td><td>6</td></tr><tr><td>NIKOLETTAT</td><td>2016-09-21</td><td>2016-09-26</td><td>2</td><td>10</td></tr><tr><td>norbert</td><td>2016-07-08</td><td>2016-07-13</td><td>1</td><td>NULL</td></tr><tr><td>norbert</td><td>2016-11-16</td><td>2016-11-23</td><td>3</td><td>1</td></tr><tr><td>norbert</td><td>2016-12-15</td><td>2016-12-18</td><td>2</td><td>4</td></tr><tr><td>norbert</td><td>2017-02-13</td><td>2017-02-15</td><td>3</td><td>6</td></tr><tr><td>norbert</td><td>2017-02-26</td><td>2017-03-01</td><td>1</td><td>8</td></tr><tr><td>norbert2</td><td>2016-04-19</td><td>2016-04-26</td><td>1</td><td>NULL</td></tr><tr><td>norbert2</td><td>2016-05-09</td><td>2016-05-10</td><td>2</td><td>1</td></tr><tr><td>norbert2</td><td>2016-07-13</td><td>2016-07-15</td><td>3</td><td>3</td></tr><tr><td>norbert2</td><td>2016-07-27</td><td>2016-08-02</td><td>2</td><td>6</td></tr><tr><td>norbert2</td><td>2016-08-16</td><td>2016-08-19</td><td>1</td><td>7</td></tr><tr><td>norbert2</td><td>2016-10-31</td><td>2016-11-07</td><td>2</td><td>6</td></tr><tr><td>norbert2</td><td>2017-01-29</td><td>2017-02-05</td><td>3</td><td>5</td></tr><tr><td>norbert4</td><td>2016-04-10</td><td>2016-04-13</td><td>2</td><td>NULL</td></tr><tr><td>norbert4</td><td>2016-05-29</td><td>2016-06-03</td><td>3</td><td>2</td></tr><tr><td>norbert4</td><td>2016-06-16</td><td>2016-06-17</td><td>4</td><td>5</td></tr><tr><td>norbert4</td><td>2016-06-16</td><td>2016-06-21</td><td>3</td><td>9</td></tr><tr><td>norbert4</td><td>2016-10-05</td><td>2016-10-10</td><td>3</td><td>10</td></tr><tr><td>norbert4</td><td>2016-10-28</td><td>2016-10-31</td><td>3</td><td>10</td></tr><tr><td>norbert4</td><td>2016-11-30</td><td>2016-12-06</td><td>3</td><td>9</td></tr><tr><td>norbert4</td><td>2017-02-16</td><td>2017-02-17</td><td>1</td><td>9</td></tr><tr><td>norbert4</td><td>2017-03-03</td><td>2017-03-07</td><td>2</td><td>7</td></tr><tr><td>norbert5</td><td>2016-06-24</td><td>2016-06-28</td><td>2</td><td>NULL</td></tr><tr><td>norbert5</td><td>2016-08-10</td><td>2016-08-11</td><td>2</td><td>2</td></tr><tr><td>norbert5</td><td>2016-11-05</td><td>2016-11-07</td><td>1</td><td>4</td></tr><tr><td>pal</td><td>2016-08-14</td><td>2016-08-18</td><td>3</td><td>NULL</td></tr><tr><td>pal</td><td>2016-09-16</td><td>2016-09-19</td><td>2</td><td>3</td></tr><tr><td>pal</td><td>2016-12-17</td><td>2016-12-23</td><td>3</td><td>5</td></tr><tr><td>pal</td><td>2017-02-13</td><td>2017-02-19</td><td>3</td><td>8</td></tr><tr><td>pal</td><td>2017-02-20</td><td>2017-02-22</td><td>3</td><td>8</td></tr><tr><td>peter1</td><td>2016-07-14</td><td>2016-07-18</td><td>3</td><td>NULL</td></tr><tr><td>peter1</td><td>2016-10-26</td><td>2016-11-01</td><td>3</td><td>3</td></tr><tr><td>peter1</td><td>2017-02-23</td><td>2017-02-26</td><td>3</td><td>6</td></tr><tr><td>peter1</td><td>2017-02-28</td><td>2017-03-05</td><td>3</td><td>9</td></tr><tr><td>peter2</td><td>2016-07-03</td><td>2016-07-08</td><td>2</td><td>NULL</td></tr><tr><td>peter2</td><td>2016-10-10</td><td>2016-10-16</td><td>2</td><td>2</td></tr><tr><td>peter2</td><td>2016-11-01</td><td>2016-11-02</td><td>2</td><td>4</td></tr><tr><td>peter2</td><td>2016-11-15</td><td>2016-11-21</td><td>3</td><td>6</td></tr><tr><td>peter3</td><td>2016-06-30</td><td>2016-07-05</td><td>3</td><td>NULL</td></tr><tr><td>peter3</td><td>2016-07-27</td><td>2016-07-31</td><td>4</td><td>3</td></tr><tr><td>peter3</td><td>2016-10-30</td><td>2016-11-06</td><td>2</td><td>7</td></tr><tr><td>peter3</td><td>2016-12-25</td><td>2016-12-28</td><td>1</td><td>9</td></tr><tr><td>peter3</td><td>2017-01-12</td><td>2017-01-17</td><td>1</td><td>7</td></tr><tr><td>peter3</td><td>2017-02-21</td><td>2017-02-24</td><td>2</td><td>4</td></tr><tr><td>peter4</td><td>2016-04-12</td><td>2016-04-15</td><td>3</td><td>NULL</td></tr><tr><td>peter4</td><td>2016-08-06</td><td>2016-08-13</td><td>2</td><td>3</td></tr><tr><td>peter4</td><td>2016-08-24</td><td>2016-08-25</td><td>3</td><td>5</td></tr><tr><td>peter4</td><td>2016-09-11</td><td>2016-09-17</td><td>4</td><td>8</td></tr><tr><td>peter4</td><td>2016-09-25</td><td>2016-09-26</td><td>3</td><td>9</td></tr><tr><td>peter4</td><td>2016-09-30</td><td>2016-10-06</td><td>3</td><td>10</td></tr><tr><td>peter4</td><td>2016-10-09</td><td>2016-10-16</td><td>3</td><td>10</td></tr><tr><td>peter4</td><td>2016-10-24</td><td>2016-10-25</td><td>2</td><td>9</td></tr><tr><td>peter4</td><td>2016-10-30</td><td>2016-11-01</td><td>3</td><td>8</td></tr><tr><td>peter4</td><td>2016-11-10</td><td>2016-11-17</td><td>3</td><td>8</td></tr><tr><td>peter4</td><td>2016-11-25</td><td>2016-11-30</td><td>3</td><td>8</td></tr><tr><td>peter4</td><td>2017-02-05</td><td>2017-02-09</td><td>3</td><td>9</td></tr><tr><td>PETERB</td><td>2016-04-06</td><td>2016-04-10</td><td>1</td><td>NULL</td></tr><tr><td>PETERB</td><td>2016-07-20</td><td>2016-07-24</td><td>2</td><td>1</td></tr><tr><td>PETERB</td><td>2016-08-16</td><td>2016-08-23</td><td>1</td><td>3</td></tr><tr><td>PETERB</td><td>2016-10-19</td><td>2016-10-20</td><td>4</td><td>4</td></tr><tr><td>PETERB</td><td>2016-11-17</td><td>2016-11-20</td><td>2</td><td>7</td></tr><tr><td>polla</td><td>2016-04-17</td><td>2016-04-22</td><td>3</td><td>NULL</td></tr><tr><td>polla</td><td>2016-05-28</td><td>2016-06-04</td><td>2</td><td>3</td></tr><tr><td>polla</td><td>2016-08-14</td><td>2016-08-17</td><td>2</td><td>5</td></tr><tr><td>polla</td><td>2016-08-16</td><td>2016-08-19</td><td>4</td><td>7</td></tr><tr><td>polla</td><td>2017-01-29</td><td>2017-02-01</td><td>2</td><td>8</td></tr><tr><td>polla</td><td>2017-02-11</td><td>2017-02-16</td><td>2</td><td>8</td></tr><tr><td>rajmond4</td><td>2016-09-05</td><td>2016-09-07</td><td>3</td><td>NULL</td></tr><tr><td>rajmond4</td><td>2016-10-03</td><td>2016-10-04</td><td>3</td><td>3</td></tr><tr><td>rajmond4</td><td>2016-11-08</td><td>2016-11-09</td><td>4</td><td>6</td></tr><tr><td>rajmond4</td><td>2016-11-16</td><td>2016-11-20</td><td>2</td><td>10</td></tr><tr><td>reka4</td><td>2016-07-27</td><td>2016-07-31</td><td>2</td><td>NULL</td></tr><tr><td>reka4</td><td>2016-08-02</td><td>2016-08-04</td><td>4</td><td>2</td></tr><tr><td>reka4</td><td>2016-09-05</td><td>2016-09-07</td><td>3</td><td>6</td></tr><tr><td>reka4</td><td>2016-09-30</td><td>2016-10-06</td><td>2</td><td>9</td></tr><tr><td>reka4</td><td>2017-02-26</td><td>2017-03-04</td><td>2</td><td>9</td></tr><tr><td>RENATAK</td><td>2016-10-27</td><td>2016-10-29</td><td>4</td><td>NULL</td></tr><tr><td>RENATAK</td><td>2016-10-30</td><td>2016-10-31</td><td>1</td><td>4</td></tr><tr><td>RENATAK</td><td>2016-11-23</td><td>2016-11-26</td><td>1</td><td>5</td></tr><tr><td>RENATAK</td><td>2017-01-23</td><td>2017-01-24</td><td>3</td><td>6</td></tr><tr><td>RENATAK</td><td>2017-02-16</td><td>2017-02-23</td><td>1</td><td>5</td></tr><tr><td>RENATAK</td><td>2017-03-01</td><td>2017-03-06</td><td>1</td><td>5</td></tr><tr><td>RENATAS</td><td>2016-05-04</td><td>2016-05-11</td><td>2</td><td>NULL</td></tr><tr><td>RENATAS</td><td>2016-05-11</td><td>2016-05-16</td><td>2</td><td>2</td></tr><tr><td>RENATAS</td><td>2016-06-24</td><td>2016-06-30</td><td>5</td><td>4</td></tr><tr><td>RENATAS</td><td>2017-02-13</td><td>2017-02-17</td><td>1</td><td>9</td></tr><tr><td>RENATAS</td><td>2017-02-14</td><td>2017-02-17</td><td>2</td><td>8</td></tr><tr><td>robert2</td><td>2016-05-15</td><td>2016-05-18</td><td>2</td><td>NULL</td></tr><tr><td>robert2</td><td>2016-08-20</td><td>2016-08-27</td><td>2</td><td>2</td></tr><tr><td>robert2</td><td>2016-10-23</td><td>2016-10-28</td><td>3</td><td>4</td></tr><tr><td>robert2</td><td>2016-12-17</td><td>2016-12-22</td><td>1</td><td>7</td></tr><tr><td>ROBERTI</td><td>2016-07-12</td><td>2016-07-19</td><td>4</td><td>NULL</td></tr><tr><td>ROBERTI</td><td>2016-08-16</td><td>2016-08-21</td><td>2</td><td>4</td></tr><tr><td>ROBERTI</td><td>2016-08-23</td><td>2016-08-25</td><td>2</td><td>6</td></tr><tr><td>ROBERTI</td><td>2016-10-08</td><td>2016-10-12</td><td>3</td><td>8</td></tr><tr><td>ROBERTI</td><td>2016-10-09</td><td>2016-10-10</td><td>2</td><td>7</td></tr><tr><td>ROBERTI</td><td>2016-10-23</td><td>2016-10-29</td><td>1</td><td>7</td></tr><tr><td>ROBERTI</td><td>2016-10-26</td><td>2016-11-01</td><td>2</td><td>6</td></tr><tr><td>ROBERTI</td><td>2017-02-17</td><td>2017-02-20</td><td>2</td><td>5</td></tr><tr><td>ROBERTP</td><td>2016-07-30</td><td>2016-08-05</td><td>2</td><td>NULL</td></tr><tr><td>ROBERTP</td><td>2016-09-08</td><td>2016-09-11</td><td>4</td><td>2</td></tr><tr><td>roland</td><td>2016-06-09</td><td>2016-06-13</td><td>3</td><td>NULL</td></tr><tr><td>roland</td><td>2016-06-22</td><td>2016-06-23</td><td>3</td><td>3</td></tr><tr><td>roland</td><td>2016-09-04</td><td>2016-09-05</td><td>2</td><td>6</td></tr><tr><td>roland</td><td>2016-11-19</td><td>2016-11-24</td><td>2</td><td>8</td></tr><tr><td>roland1</td><td>2016-11-05</td><td>2016-11-07</td><td>3</td><td>NULL</td></tr><tr><td>roland1</td><td>2016-12-22</td><td>2016-12-29</td><td>1</td><td>3</td></tr><tr><td>roland1</td><td>2017-01-04</td><td>2017-01-08</td><td>3</td><td>4</td></tr><tr><td>roland1</td><td>2017-01-16</td><td>2017-01-22</td><td>2</td><td>7</td></tr><tr><td>roza2</td><td>2016-09-10</td><td>2016-09-13</td><td>2</td><td>NULL</td></tr><tr><td>roza2</td><td>2017-01-11</td><td>2017-01-17</td><td>3</td><td>2</td></tr><tr><td>roza2</td><td>2017-02-18</td><td>2017-02-21</td><td>3</td><td>5</td></tr><tr><td>sandor</td><td>2016-07-04</td><td>2016-07-06</td><td>2</td><td>NULL</td></tr><tr><td>sandor</td><td>2016-07-18</td><td>2016-07-24</td><td>2</td><td>2</td></tr><tr><td>sandor</td><td>2016-08-20</td><td>2016-08-25</td><td>2</td><td>4</td></tr><tr><td>sandor</td><td>2016-09-19</td><td>2016-09-26</td><td>4</td><td>6</td></tr><tr><td>sandor3</td><td>2016-05-12</td><td>2016-05-15</td><td>2</td><td>NULL</td></tr><tr><td>sandor3</td><td>2016-05-25</td><td>2016-05-30</td><td>1</td><td>2</td></tr><tr><td>sandor3</td><td>2016-10-09</td><td>2016-10-14</td><td>2</td><td>3</td></tr><tr><td>sandor3</td><td>2016-10-23</td><td>2016-10-29</td><td>3</td><td>5</td></tr><tr><td>sandor3</td><td>2016-11-10</td><td>2016-11-11</td><td>2</td><td>6</td></tr><tr><td>sandor4</td><td>2016-10-15</td><td>2016-10-18</td><td>1</td><td>NULL</td></tr><tr><td>sandor4</td><td>2016-11-29</td><td>2016-12-03</td><td>2</td><td>1</td></tr><tr><td>sandor4</td><td>2016-12-03</td><td>2016-12-09</td><td>1</td><td>3</td></tr><tr><td>sandor4</td><td>2017-01-22</td><td>2017-01-26</td><td>2</td><td>4</td></tr><tr><td>sara</td><td>2016-05-28</td><td>2016-05-30</td><td>2</td><td>NULL</td></tr><tr><td>sara</td><td>2016-05-30</td><td>2016-05-31</td><td>2</td><td>2</td></tr><tr><td>sara</td><td>2016-06-06</td><td>2016-06-08</td><td>2</td><td>4</td></tr><tr><td>sara</td><td>2016-07-15</td><td>2016-07-17</td><td>3</td><td>6</td></tr><tr><td>sara</td><td>2016-07-24</td><td>2016-07-27</td><td>3</td><td>7</td></tr><tr><td>sara</td><td>2016-10-06</td><td>2016-10-12</td><td>3</td><td>8</td></tr><tr><td>sara</td><td>2016-10-11</td><td>2016-10-14</td><td>3</td><td>9</td></tr><tr><td>sara</td><td>2016-10-28</td><td>2016-11-03</td><td>2</td><td>9</td></tr><tr><td>sara</td><td>2016-11-18</td><td>2016-11-21</td><td>3</td><td>8</td></tr><tr><td>sara</td><td>2016-11-23</td><td>2016-11-30</td><td>4</td><td>8</td></tr><tr><td>sara</td><td>2016-12-06</td><td>2016-12-10</td><td>1</td><td>9</td></tr><tr><td>sara</td><td>2016-12-25</td><td>2016-12-30</td><td>2</td><td>8</td></tr><tr><td>SEBASTIANF</td><td>2016-04-06</td><td>2016-04-12</td><td>2</td><td>NULL</td></tr><tr><td>SEBASTIANF</td><td>2016-07-17</td><td>2016-07-21</td><td>2</td><td>2</td></tr><tr><td>SEBASTIANF</td><td>2016-07-30</td><td>2016-08-06</td><td>4</td><td>4</td></tr><tr><td>SEBASTIANF</td><td>2016-09-14</td><td>2016-09-15</td><td>3</td><td>8</td></tr><tr><td>SEBASTIANF</td><td>2016-09-17</td><td>2016-09-20</td><td>3</td><td>9</td></tr><tr><td>sebestyen</td><td>2016-04-07</td><td>2016-04-12</td><td>4</td><td>NULL</td></tr><tr><td>sebestyen</td><td>2016-04-26</td><td>2016-05-02</td><td>4</td><td>4</td></tr><tr><td>sebestyen</td><td>2016-06-09</td><td>2016-06-14</td><td>4</td><td>8</td></tr><tr><td>sebestyen</td><td>2016-10-26</td><td>2016-11-01</td><td>5</td><td>12</td></tr><tr><td>szabolcs</td><td>2016-12-05</td><td>2016-12-07</td><td>2</td><td>NULL</td></tr><tr><td>SZABOLCSM</td><td>2016-06-18</td><td>2016-06-21</td><td>3</td><td>NULL</td></tr><tr><td>SZABOLCSM</td><td>2016-07-28</td><td>2016-08-03</td><td>2</td><td>3</td></tr><tr><td>SZABOLCSM</td><td>2016-10-17</td><td>2016-10-19</td><td>2</td><td>5</td></tr><tr><td>SZABOLCSM</td><td>2016-10-28</td><td>2016-11-03</td><td>3</td><td>7</td></tr><tr><td>SZABOLCSM</td><td>2016-11-12</td><td>2016-11-13</td><td>2</td><td>7</td></tr><tr><td>SZABOLCSM</td><td>2017-01-07</td><td>2017-01-08</td><td>2</td><td>7</td></tr><tr><td>SZABOLCSM</td><td>2017-02-04</td><td>2017-02-05</td><td>3</td><td>7</td></tr><tr><td>SZILARDS</td><td>2016-04-23</td><td>2016-04-30</td><td>3</td><td>NULL</td></tr><tr><td>SZILARDS</td><td>2016-07-27</td><td>2016-08-03</td><td>5</td><td>3</td></tr><tr><td>SZILARDS</td><td>2016-08-28</td><td>2016-08-29</td><td>4</td><td>8</td></tr><tr><td>SZILARDS</td><td>2016-09-20</td><td>2016-09-24</td><td>3</td><td>12</td></tr><tr><td>SZILARDS</td><td>2016-10-01</td><td>2016-10-08</td><td>3</td><td>12</td></tr><tr><td>SZILARDS</td><td>2017-01-16</td><td>2017-01-19</td><td>3</td><td>10</td></tr><tr><td>SZILARDS</td><td>2017-02-08</td><td>2017-02-15</td><td>1</td><td>9</td></tr><tr><td>szilvia1</td><td>2016-05-14</td><td>2016-05-21</td><td>2</td><td>NULL</td></tr><tr><td>szilvia1</td><td>2016-05-28</td><td>2016-06-03</td><td>2</td><td>2</td></tr><tr><td>szilvia1</td><td>2016-07-25</td><td>2016-07-28</td><td>2</td><td>4</td></tr><tr><td>szilvia1</td><td>2016-10-09</td><td>2016-10-10</td><td>3</td><td>6</td></tr><tr><td>szilvia1</td><td>2016-10-25</td><td>2016-10-31</td><td>3</td><td>7</td></tr><tr><td>szilvia1</td><td>2016-10-27</td><td>2016-10-28</td><td>2</td><td>8</td></tr><tr><td>szilvia1</td><td>2016-12-25</td><td>2016-12-29</td><td>5</td><td>8</td></tr><tr><td>szilvia1</td><td>2016-12-27</td><td>2017-01-02</td><td>2</td><td>10</td></tr><tr><td>szilvia1</td><td>2017-01-28</td><td>2017-02-03</td><td>2</td><td>9</td></tr><tr><td>tamara2</td><td>2016-08-12</td><td>2016-08-15</td><td>3</td><td>NULL</td></tr><tr><td>tamara2</td><td>2016-11-15</td><td>2016-11-18</td><td>2</td><td>3</td></tr><tr><td>tamas</td><td>2016-05-17</td><td>2016-05-22</td><td>2</td><td>NULL</td></tr><tr><td>tamas</td><td>2016-06-14</td><td>2016-06-21</td><td>2</td><td>2</td></tr><tr><td>tamas</td><td>2016-08-24</td><td>2016-08-27</td><td>3</td><td>4</td></tr><tr><td>tamas</td><td>2017-02-14</td><td>2017-02-19</td><td>3</td><td>7</td></tr><tr><td>TAMASF</td><td>2016-05-03</td><td>2016-05-04</td><td>2</td><td>NULL</td></tr><tr><td>TAMASF</td><td>2016-06-10</td><td>2016-06-13</td><td>3</td><td>2</td></tr><tr><td>TAMASF</td><td>2016-06-28</td><td>2016-07-05</td><td>3</td><td>5</td></tr><tr><td>TAMASF</td><td>2016-07-04</td><td>2016-07-10</td><td>2</td><td>8</td></tr><tr><td>TAMASF</td><td>2016-09-12</td><td>2016-09-18</td><td>3</td><td>8</td></tr><tr><td>TAMASF</td><td>2016-12-02</td><td>2016-12-04</td><td>1</td><td>8</td></tr><tr><td>TAMASF</td><td>2016-12-10</td><td>2016-12-14</td><td>3</td><td>6</td></tr><tr><td>TAMASF</td><td>2017-02-12</td><td>2017-02-17</td><td>2</td><td>7</td></tr><tr><td>TAMASF</td><td>2017-02-16</td><td>2017-02-19</td><td>4</td><td>6</td></tr><tr><td>tibor</td><td>2016-10-09</td><td>2016-10-13</td><td>2</td><td>NULL</td></tr><tr><td>tibor</td><td>2016-11-05</td><td>2016-11-09</td><td>1</td><td>2</td></tr><tr><td>tibor2</td><td>2016-10-20</td><td>2016-10-25</td><td>2</td><td>NULL</td></tr><tr><td>tihamer</td><td>2016-05-30</td><td>2016-06-05</td><td>1</td><td>NULL</td></tr><tr><td>tihamer</td><td>2016-06-03</td><td>2016-06-08</td><td>5</td><td>1</td></tr><tr><td>tihamer</td><td>2016-07-20</td><td>2016-07-24</td><td>3</td><td>6</td></tr><tr><td>tihamer</td><td>2016-08-18</td><td>2016-08-22</td><td>3</td><td>9</td></tr><tr><td>tihamer</td><td>2016-10-19</td><td>2016-10-23</td><td>2</td><td>11</td></tr><tr><td>tihamer</td><td>2016-12-25</td><td>2016-12-26</td><td>2</td><td>8</td></tr><tr><td>timea</td><td>2016-12-26</td><td>2016-12-27</td><td>2</td><td>NULL</td></tr><tr><td>timea2</td><td>2016-06-06</td><td>2016-06-07</td><td>2</td><td>NULL</td></tr><tr><td>timea2</td><td>2016-08-07</td><td>2016-08-10</td><td>3</td><td>2</td></tr><tr><td>timea2</td><td>2016-10-26</td><td>2016-10-29</td><td>3</td><td>5</td></tr><tr><td>timea2</td><td>2016-11-27</td><td>2016-12-01</td><td>4</td><td>8</td></tr><tr><td>timea2</td><td>2016-12-14</td><td>2016-12-16</td><td>4</td><td>10</td></tr><tr><td>tunde</td><td>2016-06-03</td><td>2016-06-07</td><td>3</td><td>NULL</td></tr><tr><td>tunde</td><td>2016-06-06</td><td>2016-06-12</td><td>3</td><td>3</td></tr><tr><td>tunde</td><td>2016-07-14</td><td>2016-07-21</td><td>1</td><td>6</td></tr><tr><td>tunde</td><td>2016-09-05</td><td>2016-09-12</td><td>2</td><td>7</td></tr><tr><td>tunde</td><td>2016-10-24</td><td>2016-10-30</td><td>3</td><td>6</td></tr><tr><td>tunde</td><td>2016-11-19</td><td>2016-11-20</td><td>3</td><td>6</td></tr><tr><td>tunde</td><td>2016-12-15</td><td>2016-12-20</td><td>3</td><td>8</td></tr><tr><td>tunde</td><td>2017-01-03</td><td>2017-01-06</td><td>5</td><td>9</td></tr><tr><td>valentin</td><td>2016-05-24</td><td>2016-05-30</td><td>4</td><td>NULL</td></tr><tr><td>valentin</td><td>2016-07-24</td><td>2016-07-29</td><td>1</td><td>4</td></tr><tr><td>valentin</td><td>2016-10-26</td><td>2016-10-30</td><td>3</td><td>5</td></tr><tr><td>valentin</td><td>2016-11-11</td><td>2016-11-17</td><td>3</td><td>8</td></tr><tr><td>valentin</td><td>2016-12-01</td><td>2016-12-05</td><td>3</td><td>7</td></tr><tr><td>veronika4</td><td>2016-05-30</td><td>2016-06-04</td><td>2</td><td>NULL</td></tr><tr><td>veronika4</td><td>2016-07-20</td><td>2016-07-26</td><td>3</td><td>2</td></tr><tr><td>veronika4</td><td>2016-08-16</td><td>2016-08-21</td><td>1</td><td>5</td></tr><tr><td>veronika4</td><td>2016-09-26</td><td>2016-10-03</td><td>2</td><td>6</td></tr><tr><td>veronika4</td><td>2017-01-19</td><td>2017-01-24</td><td>3</td><td>6</td></tr><tr><td>veronika4</td><td>2017-02-03</td><td>2017-02-05</td><td>2</td><td>6</td></tr><tr><td>VIKTORIAU</td><td>2016-04-30</td><td>2016-05-03</td><td>1</td><td>NULL</td></tr><tr><td>VIKTORIAU</td><td>2016-08-03</td><td>2016-08-04</td><td>2</td><td>1</td></tr><tr><td>VIKTORIAU</td><td>2016-10-14</td><td>2016-10-15</td><td>3</td><td>3</td></tr><tr><td>VIKTORIAU</td><td>2016-10-26</td><td>2016-11-02</td><td>4</td><td>6</td></tr><tr><td>VIKTORK</td><td>2016-05-30</td><td>2016-06-01</td><td>2</td><td>NULL</td></tr><tr><td>VIKTORK</td><td>2016-06-06</td><td>2016-06-07</td><td>4</td><td>2</td></tr><tr><td>vivien3</td><td>2016-05-02</td><td>2016-05-05</td><td>3</td><td>NULL</td></tr><tr><td>vivien3</td><td>2016-08-13</td><td>2016-08-18</td><td>2</td><td>3</td></tr><tr><td>vivien3</td><td>2016-09-01</td><td>2016-09-05</td><td>2</td><td>5</td></tr><tr><td>vivien3</td><td>2016-10-01</td><td>2016-10-04</td><td>1</td><td>7</td></tr><tr><td>vivien3</td><td>2016-11-17</td><td>2016-11-20</td><td>2</td><td>5</td></tr><tr><td>vivien3</td><td>2016-12-17</td><td>2016-12-21</td><td>2</td><td>5</td></tr><tr><td>vivien3</td><td>2016-12-24</td><td>2016-12-26</td><td>3</td><td>5</td></tr><tr><td>zoltan</td><td>2016-08-24</td><td>2016-08-31</td><td>2</td><td>NULL</td></tr><tr><td>zoltan</td><td>2016-09-05</td><td>2016-09-09</td><td>3</td><td>2</td></tr><tr><td>zoltan4</td><td>2016-05-12</td><td>2016-05-16</td><td>3</td><td>NULL</td></tr><tr><td>zoltan4</td><td>2016-05-13</td><td>2016-05-16</td><td>3</td><td>3</td></tr><tr><td>zoltan4</td><td>2016-06-03</td><td>2016-06-06</td><td>1</td><td>6</td></tr><tr><td>zoltan4</td><td>2016-08-15</td><td>2016-08-21</td><td>1</td><td>7</td></tr><tr><td>zoltan4</td><td>2016-08-16</td><td>2016-08-23</td><td>2</td><td>5</td></tr><tr><td>zoltan4</td><td>2016-09-30</td><td>2016-10-07</td><td>3</td><td>4</td></tr><tr><td>zoltan4</td><td>2016-10-21</td><td>2016-10-24</td><td>5</td><td>6</td></tr><tr><td>zoltan4</td><td>2016-10-26</td><td>2016-10-30</td><td>2</td><td>10</td></tr><tr><td>zoltan4</td><td>2016-10-30</td><td>2016-11-06</td><td>1</td><td>10</td></tr><tr><td>zoltan4</td><td>2016-11-19</td><td>2016-11-21</td><td>2</td><td>8</td></tr><tr><td>zoltan4</td><td>2016-12-29</td><td>2017-01-04</td><td>1</td><td>5</td></tr><tr><td>zoltan4</td><td>2017-01-01</td><td>2017-01-02</td><td>3</td><td>4</td></tr><tr><td>ZOLTANP</td><td>2016-06-05</td><td>2016-06-08</td><td>2</td><td>NULL</td></tr><tr><td>ZOLTANP</td><td>2016-06-06</td><td>2016-06-08</td><td>2</td><td>2</td></tr><tr><td>ZOLTANP</td><td>2016-07-20</td><td>2016-07-25</td><td>3</td><td>4</td></tr><tr><td>ZOLTANP</td><td>2016-10-19</td><td>2016-10-25</td><td>2</td><td>7</td></tr><tr><td>ZOLTANP</td><td>2016-12-07</td><td>2016-12-10</td><td>3</td><td>7</td></tr><tr><td>ZOLTANP</td><td>2016-12-25</td><td>2016-12-29</td><td>2</td><td>8</td></tr><tr><td>ZOLTANT</td><td>2016-05-01</td><td>2016-05-04</td><td>3</td><td>NULL</td></tr><tr><td>ZOLTANT</td><td>2016-07-14</td><td>2016-07-15</td><td>3</td><td>3</td></tr><tr><td>ZOLTANT</td><td>2017-01-16</td><td>2017-01-20</td><td>2</td><td>6</td></tr><tr><td>zsofi1</td><td>2016-06-16</td><td>2016-06-17</td><td>2</td><td>NULL</td></tr><tr><td>zsofi1</td><td>2017-02-18</td><td>2017-02-19</td><td>3</td><td>2</td></tr><tr><td>zsolt1</td><td>2016-04-14</td><td>2016-04-17</td><td>2</td><td>NULL</td></tr><tr><td>zsolt1</td><td>2016-06-06</td><td>2016-06-08</td><td>2</td><td>2</td></tr><tr><td>zsolt1</td><td>2016-06-07</td><td>2016-06-10</td><td>4</td><td>4</td></tr><tr><td>zsolt1</td><td>2016-07-31</td><td>2016-08-02</td><td>2</td><td>8</td></tr><tr><td>ZSOLTJ</td><td>2016-04-24</td><td>2016-04-26</td><td>4</td><td>NULL</td></tr><tr><td>ZSOLTJ</td><td>2016-05-09</td><td>2016-05-11</td><td>2</td><td>4</td></tr><tr><td>ZSOLTJ</td><td>2016-05-28</td><td>2016-06-03</td><td>1</td><td>6</td></tr><tr><td>ZSOLTJ</td><td>2016-06-17</td><td>2016-06-19</td><td>2</td><td>7</td></tr><tr><td>ZSOLTJ</td><td>2016-07-18</td><td>2016-07-19</td><td>2</td><td>5</td></tr><tr><td>ZSOLTJ</td><td>2016-10-01</td><td>2016-10-06</td><td>2</td><td>5</td></tr><tr><td>zsuzsa</td><td>2016-07-24</td><td>2016-07-25</td><td>3</td><td>NULL</td></tr><tr><td>zsuzsa</td><td>2016-08-28</td><td>2016-08-30</td><td>2</td><td>3</td></tr><tr><td>zsuzsa</td><td>2016-11-28</td><td>2016-12-04</td><td>3</td><td>5</td></tr><tr><td>zsuzsa3</td><td>2016-07-30</td><td>2016-08-02</td><td>2</td><td>NULL</td></tr><tr><td>zsuzsa3</td><td>2016-09-09</td><td>2016-09-10</td><td>2</td><td>2</td></tr><tr><td>zsuzsa3</td><td>2016-09-28</td><td>2016-10-03</td><td>2</td><td>4</td></tr><tr><td>zsuzsa3</td><td>2016-10-27</td><td>2016-11-03</td><td>4</td><td>6</td></tr><tr><td>zsuzsanna</td><td>2016-05-17</td><td>2016-05-23</td><td>2</td><td>NULL</td></tr><tr><td>zsuzsanna</td><td>2016-07-12</td><td>2016-07-15</td><td>2</td><td>2</td></tr><tr><td>zsuzsanna</td><td>2017-01-09</td><td>2017-01-16</td><td>1</td><td>4</td></tr><tr><td>zsuzsanna</td><td>2017-01-16</td><td>2017-01-22</td><td>2</td><td>5</td></tr><tr><td>ZSUZSAV</td><td>2016-04-14</td><td>2016-04-16</td><td>2</td><td>NULL</td></tr><tr><td>ZSUZSAV</td><td>2016-05-28</td><td>2016-06-01</td><td>4</td><td>2</td></tr><tr><td>ZSUZSAV</td><td>2016-06-15</td><td>2016-06-21</td><td>3</td><td>6</td></tr><tr><td>ZSUZSAV</td><td>2016-09-18</td><td>2016-09-20</td><td>2</td><td>9</td></tr><tr><td>ZSUZSAV</td><td>2016-10-26</td><td>2016-10-28</td><td>1</td><td>9</td></tr><tr><td>ZSUZSAV</td><td>2016-11-21</td><td>2016-11-24</td><td>3</td><td>6</td></tr></table>"
                    },
                    "metadata": {}
                }
            ],
            "execution_count": 9
        },
        {
            "cell_type": "markdown",
            "source": [
                "4. <span style=\"background-color: rgb(255, 255, 255); color: rgb(0, 0, 0); font-family: &quot;Open Sans&quot;, sans-serif; font-size: 14.44px;\">Készítsünk listát arról, hogy az egyes szálláshelyeken évente hány foglalás történt!&nbsp;</span> \n",
                "\n",
                "a. A lista jelenítse meg a szálláshely azonosítóját, nevét, az évet, és a foglalások számát!\n",
                "\n",
                "b. Egy új oszlopban jelenítsük meg a szálláshely eddigi éves foglalásainak számát is (az aktuálisat is beleértve). \n",
                "\n",
                "c. Az évnél a METTOL dátumot vegyük figyelembe! \n",
                "\n",
                "d. A lista ne tartalmazzon duplikált sorokat!"
            ],
            "metadata": {
                "azdata_cell_guid": "8e7fef82-8022-49a0-8255-fc2846c2134b"
            },
            "attachments": {}
        },
        {
            "cell_type": "code",
            "source": [
                ""
            ],
            "metadata": {
                "azdata_cell_guid": "36f7b396-4a1f-45e5-8720-2302537c91bc",
                "language": "sql"
            },
            "outputs": [],
            "execution_count": null
        },
        {
            "cell_type": "markdown",
            "source": [
                "5. <span style=\"background-color: rgb(255, 255, 255); color: rgb(0, 0, 0); font-family: &quot;Open Sans&quot;, sans-serif; font-size: 14.44px;\">Készítsük listát a szálláshelyekről! A lista tartalmazza a szálláshely azonosítóját, nevét, és a csillagok számát csillagszám szerint csökkenő, azon belül szállásnév szerint növekvő sorrendben!&nbsp;</span> \n",
                "\n",
                "a. Vegyünk fel két új oszlopot, amely a sorrend szerint előző szálláshely nevét, illetve azonosítóját is megjeleníti!"
            ],
            "metadata": {
                "azdata_cell_guid": "84239ca2-6b5e-49f5-9860-d44c11d6de32"
            },
            "attachments": {}
        },
        {
            "cell_type": "code",
            "source": [
                ""
            ],
            "metadata": {
                "azdata_cell_guid": "06d9a62b-9430-424b-a135-d80e675f0eb3",
                "language": "sql"
            },
            "outputs": [],
            "execution_count": null
        },
        {
            "cell_type": "markdown",
            "source": [
                "6. <span style=\"background-color: rgb(255, 255, 255); color: rgb(0, 0, 0); font-family: &quot;Open Sans&quot;, sans-serif; font-size: 14.44px;\">Listázzuk azon termékeket, amelyekből az átlagosnál kevesebb van raktáron!&nbsp;</span> \n",
                "\n",
                "a. Csak a termék kódja és megnevezése jelenjen meg!"
            ],
            "metadata": {
                "azdata_cell_guid": "b0d15045-3c43-4f3a-b8d4-76b4f24e5546"
            },
            "attachments": {}
        },
        {
            "cell_type": "code",
            "source": [
                "SELECT  TERMEKKOD,\r\n",
                "        MEGNEVEZES\r\n",
                "FROM Termek\r\n",
                "WHERE KESZLET > (\r\n",
                "    SELECT AVG(KESZLET)\r\n",
                "    FROM Termek\r\n",
                ")"
            ],
            "metadata": {
                "azdata_cell_guid": "f2b7400d-1255-40ac-9250-4d57f9da5357",
                "language": "sql"
            },
            "outputs": [
                {
                    "output_type": "display_data",
                    "data": {
                        "text/html": "(114 rows affected)"
                    },
                    "metadata": {}
                },
                {
                    "output_type": "display_data",
                    "data": {
                        "text/html": "Total execution time: 00:00:00.008"
                    },
                    "metadata": {}
                },
                {
                    "output_type": "execute_result",
                    "execution_count": 10,
                    "data": {
                        "application/vnd.dataresource+json": {
                            "schema": {
                                "fields": [
                                    {
                                        "name": "TERMEKKOD"
                                    },
                                    {
                                        "name": "MEGNEVEZES"
                                    }
                                ]
                            },
                            "data": [
                                {
                                    "TERMEKKOD": "01010001T",
                                    "MEGNEVEZES": "félfamentes rajzlap A4 (10 lap)"
                                },
                                {
                                    "TERMEKKOD": "01020299T",
                                    "MEGNEVEZES": "Oklevél A/4 egyszínű"
                                },
                                {
                                    "TERMEKKOD": "01090498T",
                                    "MEGNEVEZES": "Műnyomó 300g 17,5*20"
                                },
                                {
                                    "TERMEKKOD": "01100071T",
                                    "MEGNEVEZES": "Dekorációs karton arany, ezüst"
                                },
                                {
                                    "TERMEKKOD": "02020444T",
                                    "MEGNEVEZES": "Határidő napló A/6"
                                },
                                {
                                    "TERMEKKOD": "02030041T",
                                    "MEGNEVEZES": "Boríték LC 5"
                                },
                                {
                                    "TERMEKKOD": "02030042T",
                                    "MEGNEVEZES": "Boríték LC 6"
                                },
                                {
                                    "TERMEKKOD": "02030043T",
                                    "MEGNEVEZES": "Boríték légp. kicsi"
                                },
                                {
                                    "TERMEKKOD": "02030044T",
                                    "MEGNEVEZES": "Boríték mintás"
                                },
                                {
                                    "TERMEKKOD": "02040002T",
                                    "MEGNEVEZES": "irodai tűzőgép"
                                },
                                {
                                    "TERMEKKOD": "02040146T",
                                    "MEGNEVEZES": "Gemkapocs ICO"
                                },
                                {
                                    "TERMEKKOD": "02040149T",
                                    "MEGNEVEZES": "Genotherm A4 10db-os"
                                },
                                {
                                    "TERMEKKOD": "02040210T",
                                    "MEGNEVEZES": "Iratsín kék"
                                },
                                {
                                    "TERMEKKOD": "02040292T",
                                    "MEGNEVEZES": "Naptárhát nagy"
                                },
                                {
                                    "TERMEKKOD": "02040293T",
                                    "MEGNEVEZES": "Névjegytartó kicsi"
                                },
                                {
                                    "TERMEKKOD": "02040295T",
                                    "MEGNEVEZES": "Notesz A/5 sima spirál"
                                },
                                {
                                    "TERMEKKOD": "02040296T",
                                    "MEGNEVEZES": "Notesz A/6 College"
                                },
                                {
                                    "TERMEKKOD": "02040297T",
                                    "MEGNEVEZES": "Notesz sima spirál College"
                                },
                                {
                                    "TERMEKKOD": "02040406T",
                                    "MEGNEVEZES": "Tűzőkapocs 24/6"
                                },
                                {
                                    "TERMEKKOD": "02080435T",
                                    "MEGNEVEZES": "Mappa bemutató"
                                },
                                {
                                    "TERMEKKOD": "03050079T",
                                    "MEGNEVEZES": "Díszkötöző szalag vékony"
                                },
                                {
                                    "TERMEKKOD": "03050080T",
                                    "MEGNEVEZES": "Diszkötöző széles szalag"
                                },
                                {
                                    "TERMEKKOD": "03050457T",
                                    "MEGNEVEZES": "Ajándék cs. tasak kicsi"
                                },
                                {
                                    "TERMEKKOD": "03050458T",
                                    "MEGNEVEZES": "Ajándék cs. 2×100×70"
                                },
                                {
                                    "TERMEKKOD": "03050459T",
                                    "MEGNEVEZES": "Talpas tasak"
                                },
                                {
                                    "TERMEKKOD": "03080005T",
                                    "MEGNEVEZES": "Ajándék cs. tasak virágos nagy"
                                },
                                {
                                    "TERMEKKOD": "03080007T",
                                    "MEGNEVEZES": "Ajándék cs. tasak mintás nagy"
                                },
                                {
                                    "TERMEKKOD": "03080008T",
                                    "MEGNEVEZES": "Ajándék cs. tasak kicsi"
                                },
                                {
                                    "TERMEKKOD": "03080010T",
                                    "MEGNEVEZES": "Ajándék csom. 150x70"
                                },
                                {
                                    "TERMEKKOD": "03080011T",
                                    "MEGNEVEZES": "Ajándék cs. tasak közepes"
                                },
                                {
                                    "TERMEKKOD": "03080018T",
                                    "MEGNEVEZES": "Ajándék csom. gyűrt 50x70 "
                                },
                                {
                                    "TERMEKKOD": "03080031T",
                                    "MEGNEVEZES": "Ajándék cs. húsvéti"
                                },
                                {
                                    "TERMEKKOD": "03080437T",
                                    "MEGNEVEZES": "Ajándék csomagoló tasak"
                                },
                                {
                                    "TERMEKKOD": "03080438T",
                                    "MEGNEVEZES": "Ajándék csomagoló tasak lézeres"
                                },
                                {
                                    "TERMEKKOD": "04030234T",
                                    "MEGNEVEZES": "Képeslap karácsonyi"
                                },
                                {
                                    "TERMEKKOD": "04030236T",
                                    "MEGNEVEZES": "Képeslap karácsonyi WD"
                                },
                                {
                                    "TERMEKKOD": "04030240T",
                                    "MEGNEVEZES": "Képeslap virágos"
                                },
                                {
                                    "TERMEKKOD": "04030241T",
                                    "MEGNEVEZES": "Képeslap virágos +boríték"
                                },
                                {
                                    "TERMEKKOD": "04030242T",
                                    "MEGNEVEZES": "Képeslap WD +boríték"
                                },
                                {
                                    "TERMEKKOD": "04030260T",
                                    "MEGNEVEZES": "Levélpapír A/4"
                                },
                                {
                                    "TERMEKKOD": "04030287T",
                                    "MEGNEVEZES": "Műanyag foszforeszkáló állat"
                                },
                                {
                                    "TERMEKKOD": "04030289T",
                                    "MEGNEVEZES": "Műanyag pohár 5 cl-es"
                                },
                                {
                                    "TERMEKKOD": "04040090T",
                                    "MEGNEVEZES": "Emlékkönyv"
                                },
                                {
                                    "TERMEKKOD": "04050225T",
                                    "MEGNEVEZES": "Kártya mini Magyar"
                                },
                                {
                                    "TERMEKKOD": "04050250T",
                                    "MEGNEVEZES": "Kulcstartó autós"
                                },
                                {
                                    "TERMEKKOD": "04050251T",
                                    "MEGNEVEZES": "Kulcstartó billiárd golyós"
                                },
                                {
                                    "TERMEKKOD": "04050255T",
                                    "MEGNEVEZES": "Kulcstartó mesefigurás"
                                },
                                {
                                    "TERMEKKOD": "04050256T",
                                    "MEGNEVEZES": "Kulcstartó nagyítós"
                                },
                                {
                                    "TERMEKKOD": "04050267T",
                                    "MEGNEVEZES": "Logikai készlet"
                                },
                                {
                                    "TERMEKKOD": "04050268T",
                                    "MEGNEVEZES": "Lufi formázható"
                                },
                                {
                                    "TERMEKKOD": "04050321T",
                                    "MEGNEVEZES": "Plüss kicsi"
                                },
                                {
                                    "TERMEKKOD": "04080442T",
                                    "MEGNEVEZES": "Emlékkönyv"
                                },
                                {
                                    "TERMEKKOD": "04110273T",
                                    "MEGNEVEZES": "Matrica állatos"
                                },
                                {
                                    "TERMEKKOD": "05010027T",
                                    "MEGNEVEZES": "Alufólia 20 m-es"
                                },
                                {
                                    "TERMEKKOD": "05010306T",
                                    "MEGNEVEZES": "Papízsebkendő,10db Szindy"
                                },
                                {
                                    "TERMEKKOD": "05050465T",
                                    "MEGNEVEZES": "Tapétavágó kés"
                                },
                                {
                                    "TERMEKKOD": "06010086T",
                                    "MEGNEVEZES": "Ecset Nebulo 4-es"
                                },
                                {
                                    "TERMEKKOD": "06010113T",
                                    "MEGNEVEZES": "Füzet 31-32 szótár"
                                },
                                {
                                    "TERMEKKOD": "06010343T",
                                    "MEGNEVEZES": "Ragasztószalag 19 mm-es SCOTCH+ tépő"
                                },
                                {
                                    "TERMEKKOD": "06010373T",
                                    "MEGNEVEZES": "Színes papír I.II-IV.V-VIII-ig"
                                },
                                {
                                    "TERMEKKOD": "06010374T",
                                    "MEGNEVEZES": "Szorzótábla műanyag"
                                },
                                {
                                    "TERMEKKOD": "06040087T",
                                    "MEGNEVEZES": "Ecset Nebuló 10-es"
                                },
                                {
                                    "TERMEKKOD": "06040088T",
                                    "MEGNEVEZES": "Egészségügyi könyv"
                                },
                                {
                                    "TERMEKKOD": "06040172T",
                                    "MEGNEVEZES": "Gumis mappa csomagolt"
                                },
                                {
                                    "TERMEKKOD": "06040173T",
                                    "MEGNEVEZES": "Gumis mappa fóliázott állatos"
                                },
                                {
                                    "TERMEKKOD": "06040174T",
                                    "MEGNEVEZES": "Gumis mappa "
                                },
                                {
                                    "TERMEKKOD": "06040181T",
                                    "MEGNEVEZES": "Gyűjtőlap A/4"
                                },
                                {
                                    "TERMEKKOD": "06040182T",
                                    "MEGNEVEZES": "Gyűrűskönyv bet. A/4"
                                },
                                {
                                    "TERMEKKOD": "06040185T",
                                    "MEGNEVEZES": "Gyűrűskönyv"
                                },
                                {
                                    "TERMEKKOD": "06040247T",
                                    "MEGNEVEZES": "Körzőhegy grafit"
                                },
                                {
                                    "TERMEKKOD": "06040325T",
                                    "MEGNEVEZES": "Radír gyümölcsös"
                                },
                                {
                                    "TERMEKKOD": "06040327T",
                                    "MEGNEVEZES": "Radír Koh-i-nor 40"
                                },
                                {
                                    "TERMEKKOD": "06040328T",
                                    "MEGNEVEZES": "Radír Maped"
                                },
                                {
                                    "TERMEKKOD": "06040329T",
                                    "MEGNEVEZES": "Radír stabilo"
                                },
                                {
                                    "TERMEKKOD": "06040357T",
                                    "MEGNEVEZES": "Sp.Füzet A/5 70-es"
                                },
                                {
                                    "TERMEKKOD": "06040396T",
                                    "MEGNEVEZES": "Tolltartó Garfield"
                                },
                                {
                                    "TERMEKKOD": "06080123T",
                                    "MEGNEVEZES": "Füzettartó A/4 keménytáblás"
                                },
                                {
                                    "TERMEKKOD": "06080334T",
                                    "MEGNEVEZES": "Ragasztó szalag KORES "
                                },
                                {
                                    "TERMEKKOD": "06080336T",
                                    "MEGNEVEZES": "Ragasztó 8 g Pritt"
                                },
                                {
                                    "TERMEKKOD": "06080338T",
                                    "MEGNEVEZES": "Ragasztó kenőfejes Nebuló"
                                },
                                {
                                    "TERMEKKOD": "06080414T",
                                    "MEGNEVEZES": "Vonalzó 20 cm-es "
                                },
                                {
                                    "TERMEKKOD": "06080440T",
                                    "MEGNEVEZES": "Gyurma 12 szinű"
                                },
                                {
                                    "TERMEKKOD": "07010136T",
                                    "MEGNEVEZES": "G.toll betét PAX"
                                },
                                {
                                    "TERMEKKOD": "07010138T",
                                    "MEGNEVEZES": "G.toll betét jumbo"
                                },
                                {
                                    "TERMEKKOD": "07010371T",
                                    "MEGNEVEZES": "Színes ceruza 6-os"
                                },
                                {
                                    "TERMEKKOD": "07010372T",
                                    "MEGNEVEZES": "Színes ceruza 12 szín"
                                },
                                {
                                    "TERMEKKOD": "07040048T",
                                    "MEGNEVEZES": "Ceruza arany, ezüst"
                                },
                                {
                                    "TERMEKKOD": "07040131T",
                                    "MEGNEVEZES": "G. toll betét UNI lachnok Fine SA-7C"
                                },
                                {
                                    "TERMEKKOD": "07040134T",
                                    "MEGNEVEZES": "G.toll betét illatos"
                                },
                                {
                                    "TERMEKKOD": "07040135T",
                                    "MEGNEVEZES": "G.toll betét Parker "
                                },
                                {
                                    "TERMEKKOD": "07080158T",
                                    "MEGNEVEZES": "Golyóstoll Parker tokban"
                                },
                                {
                                    "TERMEKKOD": "07080163T",
                                    "MEGNEVEZES": "Golyóstoll UNI átlátszó"
                                },
                                {
                                    "TERMEKKOD": "07080164T",
                                    "MEGNEVEZES": "Golyóstoll UNI gumis"
                                },
                                {
                                    "TERMEKKOD": "07080311T",
                                    "MEGNEVEZES": "Pixiron  UNI"
                                },
                                {
                                    "TERMEKKOD": "07080312T",
                                    "MEGNEVEZES": "Pixiron 0,7 Handy"
                                },
                                {
                                    "TERMEKKOD": "07080313T",
                                    "MEGNEVEZES": "Pixiron Centrum"
                                },
                                {
                                    "TERMEKKOD": "07080314T",
                                    "MEGNEVEZES": "Pixiron Handy fém"
                                },
                                {
                                    "TERMEKKOD": "07080315T",
                                    "MEGNEVEZES": "Pixiron Handy műanyag"
                                },
                                {
                                    "TERMEKKOD": "07080317T",
                                    "MEGNEVEZES": "Pixiron mini "
                                },
                                {
                                    "TERMEKKOD": "07080318T",
                                    "MEGNEVEZES": "Pixiron Penac"
                                },
                                {
                                    "TERMEKKOD": "07080319T",
                                    "MEGNEVEZES": "Pixiron Pentel színes"
                                },
                                {
                                    "TERMEKKOD": "07080418T",
                                    "MEGNEVEZES": "Zselés toll "
                                },
                                {
                                    "TERMEKKOD": "07080419T",
                                    "MEGNEVEZES": "Zselés toll MICRO"
                                },
                                {
                                    "TERMEKKOD": "07080420T",
                                    "MEGNEVEZES": "Zselés toll Muhnwa"
                                },
                                {
                                    "TERMEKKOD": "07080467T",
                                    "MEGNEVEZES": "Golyóstoll kétfunkciós ICO"
                                },
                                {
                                    "TERMEKKOD": "07080468T",
                                    "MEGNEVEZES": "Golyóstoll háromfunkciós"
                                },
                                {
                                    "TERMEKKOD": "07080469T",
                                    "MEGNEVEZES": "Golyóstoll UNIBALL 07"
                                },
                                {
                                    "TERMEKKOD": "07080470T",
                                    "MEGNEVEZES": "Golyóstoll háromszög"
                                },
                                {
                                    "TERMEKKOD": "07080471T",
                                    "MEGNEVEZES": "Golyóstoll levélbontós"
                                },
                                {
                                    "TERMEKKOD": "08070475T",
                                    "MEGNEVEZES": "A föld amelyen élünk - munkafüzet"
                                },
                                {
                                    "TERMEKKOD": "08070476T",
                                    "MEGNEVEZES": "Anyanyelvi gyakorló 2"
                                },
                                {
                                    "TERMEKKOD": "08070480T",
                                    "MEGNEVEZES": "Fizika 13 éveseknek"
                                },
                                {
                                    "TERMEKKOD": "08070488T",
                                    "MEGNEVEZES": "Matematika gyakorló 4"
                                },
                                {
                                    "TERMEKKOD": "08070489T",
                                    "MEGNEVEZES": "RAMba zárt világ"
                                }
                            ]
                        },
                        "text/html": "<table><tr><th>TERMEKKOD</th><th>MEGNEVEZES</th></tr><tr><td>01010001T</td><td>félfamentes rajzlap A4 (10 lap)</td></tr><tr><td>01020299T</td><td>Oklevél A/4 egyszínű</td></tr><tr><td>01090498T</td><td>Műnyomó 300g 17,5*20</td></tr><tr><td>01100071T</td><td>Dekorációs karton arany, ezüst</td></tr><tr><td>02020444T</td><td>Határidő napló A/6</td></tr><tr><td>02030041T</td><td>Boríték LC 5</td></tr><tr><td>02030042T</td><td>Boríték LC 6</td></tr><tr><td>02030043T</td><td>Boríték légp. kicsi</td></tr><tr><td>02030044T</td><td>Boríték mintás</td></tr><tr><td>02040002T</td><td>irodai tűzőgép</td></tr><tr><td>02040146T</td><td>Gemkapocs ICO</td></tr><tr><td>02040149T</td><td>Genotherm A4 10db-os</td></tr><tr><td>02040210T</td><td>Iratsín kék</td></tr><tr><td>02040292T</td><td>Naptárhát nagy</td></tr><tr><td>02040293T</td><td>Névjegytartó kicsi</td></tr><tr><td>02040295T</td><td>Notesz A/5 sima spirál</td></tr><tr><td>02040296T</td><td>Notesz A/6 College</td></tr><tr><td>02040297T</td><td>Notesz sima spirál College</td></tr><tr><td>02040406T</td><td>Tűzőkapocs 24/6</td></tr><tr><td>02080435T</td><td>Mappa bemutató</td></tr><tr><td>03050079T</td><td>Díszkötöző szalag vékony</td></tr><tr><td>03050080T</td><td>Diszkötöző széles szalag</td></tr><tr><td>03050457T</td><td>Ajándék cs. tasak kicsi</td></tr><tr><td>03050458T</td><td>Ajándék cs. 2×100×70</td></tr><tr><td>03050459T</td><td>Talpas tasak</td></tr><tr><td>03080005T</td><td>Ajándék cs. tasak virágos nagy</td></tr><tr><td>03080007T</td><td>Ajándék cs. tasak mintás nagy</td></tr><tr><td>03080008T</td><td>Ajándék cs. tasak kicsi</td></tr><tr><td>03080010T</td><td>Ajándék csom. 150x70</td></tr><tr><td>03080011T</td><td>Ajándék cs. tasak közepes</td></tr><tr><td>03080018T</td><td>Ajándék csom. gyűrt 50x70 </td></tr><tr><td>03080031T</td><td>Ajándék cs. húsvéti</td></tr><tr><td>03080437T</td><td>Ajándék csomagoló tasak</td></tr><tr><td>03080438T</td><td>Ajándék csomagoló tasak lézeres</td></tr><tr><td>04030234T</td><td>Képeslap karácsonyi</td></tr><tr><td>04030236T</td><td>Képeslap karácsonyi WD</td></tr><tr><td>04030240T</td><td>Képeslap virágos</td></tr><tr><td>04030241T</td><td>Képeslap virágos +boríték</td></tr><tr><td>04030242T</td><td>Képeslap WD +boríték</td></tr><tr><td>04030260T</td><td>Levélpapír A/4</td></tr><tr><td>04030287T</td><td>Műanyag foszforeszkáló állat</td></tr><tr><td>04030289T</td><td>Műanyag pohár 5 cl-es</td></tr><tr><td>04040090T</td><td>Emlékkönyv</td></tr><tr><td>04050225T</td><td>Kártya mini Magyar</td></tr><tr><td>04050250T</td><td>Kulcstartó autós</td></tr><tr><td>04050251T</td><td>Kulcstartó billiárd golyós</td></tr><tr><td>04050255T</td><td>Kulcstartó mesefigurás</td></tr><tr><td>04050256T</td><td>Kulcstartó nagyítós</td></tr><tr><td>04050267T</td><td>Logikai készlet</td></tr><tr><td>04050268T</td><td>Lufi formázható</td></tr><tr><td>04050321T</td><td>Plüss kicsi</td></tr><tr><td>04080442T</td><td>Emlékkönyv</td></tr><tr><td>04110273T</td><td>Matrica állatos</td></tr><tr><td>05010027T</td><td>Alufólia 20 m-es</td></tr><tr><td>05010306T</td><td>Papízsebkendő,10db Szindy</td></tr><tr><td>05050465T</td><td>Tapétavágó kés</td></tr><tr><td>06010086T</td><td>Ecset Nebulo 4-es</td></tr><tr><td>06010113T</td><td>Füzet 31-32 szótár</td></tr><tr><td>06010343T</td><td>Ragasztószalag 19 mm-es SCOTCH+ tépő</td></tr><tr><td>06010373T</td><td>Színes papír I.II-IV.V-VIII-ig</td></tr><tr><td>06010374T</td><td>Szorzótábla műanyag</td></tr><tr><td>06040087T</td><td>Ecset Nebuló 10-es</td></tr><tr><td>06040088T</td><td>Egészségügyi könyv</td></tr><tr><td>06040172T</td><td>Gumis mappa csomagolt</td></tr><tr><td>06040173T</td><td>Gumis mappa fóliázott állatos</td></tr><tr><td>06040174T</td><td>Gumis mappa </td></tr><tr><td>06040181T</td><td>Gyűjtőlap A/4</td></tr><tr><td>06040182T</td><td>Gyűrűskönyv bet. A/4</td></tr><tr><td>06040185T</td><td>Gyűrűskönyv</td></tr><tr><td>06040247T</td><td>Körzőhegy grafit</td></tr><tr><td>06040325T</td><td>Radír gyümölcsös</td></tr><tr><td>06040327T</td><td>Radír Koh-i-nor 40</td></tr><tr><td>06040328T</td><td>Radír Maped</td></tr><tr><td>06040329T</td><td>Radír stabilo</td></tr><tr><td>06040357T</td><td>Sp.Füzet A/5 70-es</td></tr><tr><td>06040396T</td><td>Tolltartó Garfield</td></tr><tr><td>06080123T</td><td>Füzettartó A/4 keménytáblás</td></tr><tr><td>06080334T</td><td>Ragasztó szalag KORES </td></tr><tr><td>06080336T</td><td>Ragasztó 8 g Pritt</td></tr><tr><td>06080338T</td><td>Ragasztó kenőfejes Nebuló</td></tr><tr><td>06080414T</td><td>Vonalzó 20 cm-es </td></tr><tr><td>06080440T</td><td>Gyurma 12 szinű</td></tr><tr><td>07010136T</td><td>G.toll betét PAX</td></tr><tr><td>07010138T</td><td>G.toll betét jumbo</td></tr><tr><td>07010371T</td><td>Színes ceruza 6-os</td></tr><tr><td>07010372T</td><td>Színes ceruza 12 szín</td></tr><tr><td>07040048T</td><td>Ceruza arany, ezüst</td></tr><tr><td>07040131T</td><td>G. toll betét UNI lachnok Fine SA-7C</td></tr><tr><td>07040134T</td><td>G.toll betét illatos</td></tr><tr><td>07040135T</td><td>G.toll betét Parker </td></tr><tr><td>07080158T</td><td>Golyóstoll Parker tokban</td></tr><tr><td>07080163T</td><td>Golyóstoll UNI átlátszó</td></tr><tr><td>07080164T</td><td>Golyóstoll UNI gumis</td></tr><tr><td>07080311T</td><td>Pixiron  UNI</td></tr><tr><td>07080312T</td><td>Pixiron 0,7 Handy</td></tr><tr><td>07080313T</td><td>Pixiron Centrum</td></tr><tr><td>07080314T</td><td>Pixiron Handy fém</td></tr><tr><td>07080315T</td><td>Pixiron Handy műanyag</td></tr><tr><td>07080317T</td><td>Pixiron mini </td></tr><tr><td>07080318T</td><td>Pixiron Penac</td></tr><tr><td>07080319T</td><td>Pixiron Pentel színes</td></tr><tr><td>07080418T</td><td>Zselés toll </td></tr><tr><td>07080419T</td><td>Zselés toll MICRO</td></tr><tr><td>07080420T</td><td>Zselés toll Muhnwa</td></tr><tr><td>07080467T</td><td>Golyóstoll kétfunkciós ICO</td></tr><tr><td>07080468T</td><td>Golyóstoll háromfunkciós</td></tr><tr><td>07080469T</td><td>Golyóstoll UNIBALL 07</td></tr><tr><td>07080470T</td><td>Golyóstoll háromszög</td></tr><tr><td>07080471T</td><td>Golyóstoll levélbontós</td></tr><tr><td>08070475T</td><td>A föld amelyen élünk - munkafüzet</td></tr><tr><td>08070476T</td><td>Anyanyelvi gyakorló 2</td></tr><tr><td>08070480T</td><td>Fizika 13 éveseknek</td></tr><tr><td>08070488T</td><td>Matematika gyakorló 4</td></tr><tr><td>08070489T</td><td>RAMba zárt világ</td></tr></table>"
                    },
                    "metadata": {}
                }
            ],
            "execution_count": 10
        },
        {
            "cell_type": "markdown",
            "source": [
                "7. <span style=\"background-color: rgb(255, 255, 255); color: rgb(0, 0, 0); font-family: &quot;Open Sans&quot;, sans-serif; font-size: 14.44px;\">Listázzuk azon ügyfeleket, akik még nem fizettek bankkártyával!&nbsp;</span> \n",
                "\n",
                "a. Csak az ügyfelek neve jelenjen meg!"
            ],
            "metadata": {
                "azdata_cell_guid": "7ebf7ddd-1bd2-4246-815a-be8ae37e3b5b"
            },
            "attachments": {}
        },
        {
            "cell_type": "code",
            "source": [
                "SELECT  NEV\r\n",
                "FROM Ugyfel\r\n",
                "WHERE [LOGIN] NOT IN(\r\n",
                "    SELECT [LOGIN]\r\n",
                "    FROM Rendeles\r\n",
                "    WHERE FIZ_MOD = 'bankkártya'\r\n",
                ")"
            ],
            "metadata": {
                "azdata_cell_guid": "84b7e896-f36e-4985-88f5-e0f706494fef",
                "language": "sql"
            },
            "outputs": [
                {
                    "output_type": "display_data",
                    "data": {
                        "text/html": "(9 rows affected)"
                    },
                    "metadata": {}
                },
                {
                    "output_type": "display_data",
                    "data": {
                        "text/html": "Total execution time: 00:00:00.056"
                    },
                    "metadata": {}
                },
                {
                    "output_type": "execute_result",
                    "execution_count": 12,
                    "data": {
                        "application/vnd.dataresource+json": {
                            "schema": {
                                "fields": [
                                    {
                                        "name": "NEV"
                                    }
                                ]
                            },
                            "data": [
                                {
                                    "NEV": "Biró Alexander"
                                },
                                {
                                    "NEV": "Csóti Attila"
                                },
                                {
                                    "NEV": "Bagi Beáta"
                                },
                                {
                                    "NEV": "Mór Ottó"
                                },
                                {
                                    "NEV": "Molnár Eszter"
                                },
                                {
                                    "NEV": "Kiss Anita"
                                },
                                {
                                    "NEV": "Kispál Márk"
                                },
                                {
                                    "NEV": "Nagy Péter"
                                },
                                {
                                    "NEV": "Szűcs Norbert"
                                }
                            ]
                        },
                        "text/html": "<table><tr><th>NEV</th></tr><tr><td>Biró Alexander</td></tr><tr><td>Csóti Attila</td></tr><tr><td>Bagi Beáta</td></tr><tr><td>Mór Ottó</td></tr><tr><td>Molnár Eszter</td></tr><tr><td>Kiss Anita</td></tr><tr><td>Kispál Márk</td></tr><tr><td>Nagy Péter</td></tr><tr><td>Szűcs Norbert</td></tr></table>"
                    },
                    "metadata": {}
                }
            ],
            "execution_count": 12
        },
        {
            "cell_type": "markdown",
            "source": [
                "8. <span style=\"background-color: rgb(255, 255, 255); color: rgb(0, 0, 0); font-family: &quot;Open Sans&quot;, sans-serif; font-size: 14.44px;\">Mennyibe kerül a második legnagyobb listaárú termék?</span>"
            ],
            "metadata": {
                "azdata_cell_guid": "27a3d3dc-eafb-4a5e-b103-9f465b9eda8f"
            },
            "attachments": {}
        },
        {
            "cell_type": "code",
            "source": [
                "SELECT LISTAAR\r\n",
                "FROM (\r\n",
                "    SELECT LISTAAR, ROW_NUMBER() OVER(ORDER BY listaar) AS rn\r\n",
                "    FROM Termek\r\n",
                ") sub\r\n",
                "WHERE rn = 2;"
            ],
            "metadata": {
                "azdata_cell_guid": "f09edb3f-649b-4a96-958e-9e12774ae8b7",
                "language": "sql"
            },
            "outputs": [
                {
                    "output_type": "display_data",
                    "data": {
                        "text/html": "(1 row affected)"
                    },
                    "metadata": {}
                },
                {
                    "output_type": "display_data",
                    "data": {
                        "text/html": "Total execution time: 00:00:00.018"
                    },
                    "metadata": {}
                },
                {
                    "output_type": "execute_result",
                    "execution_count": 7,
                    "data": {
                        "application/vnd.dataresource+json": {
                            "schema": {
                                "fields": [
                                    {
                                        "name": "LISTAAR"
                                    }
                                ]
                            },
                            "data": [
                                {
                                    "LISTAAR": "3"
                                }
                            ]
                        },
                        "text/html": "<table><tr><th>LISTAAR</th></tr><tr><td>3</td></tr></table>"
                    },
                    "metadata": {}
                }
            ],
            "execution_count": 7
        },
        {
            "cell_type": "markdown",
            "source": [
                "9. <span style=\"background-color: rgb(255, 255, 255); color: rgb(0, 0, 0); font-family: &quot;Open Sans&quot;, sans-serif; font-size: 14.44px;\">Melyik raktár(ak)ban van az a termék, amelyből a legnagyobb készlet van?&nbsp;</span> \n",
                "\n",
                "a. Csak a raktár(ak) neve jelenjen meg!"
            ],
            "metadata": {
                "azdata_cell_guid": "f12a331a-0e26-4d3d-9c68-812316286577"
            },
            "attachments": {}
        },
        {
            "cell_type": "code",
            "source": [
                "SELECT t.keszlet,\r\n",
                "       r.raktar_nev\r\n",
                "FROM Termek t \r\n",
                "JOIN Raktar r ON t.RAKTAR_KOD = r.RAKTAR_KOD\r\n",
                "WHERE t.keszlet = (SELECT MAX(keszlet) FROM Termek)"
            ],
            "metadata": {
                "azdata_cell_guid": "10a77fc9-e61a-46fc-a401-59720d82bc50",
                "language": "sql"
            },
            "outputs": [
                {
                    "output_type": "display_data",
                    "data": {
                        "text/html": "(2 rows affected)"
                    },
                    "metadata": {}
                },
                {
                    "output_type": "display_data",
                    "data": {
                        "text/html": "Total execution time: 00:00:00.027"
                    },
                    "metadata": {}
                },
                {
                    "output_type": "execute_result",
                    "execution_count": 11,
                    "data": {
                        "application/vnd.dataresource+json": {
                            "schema": {
                                "fields": [
                                    {
                                        "name": "keszlet"
                                    },
                                    {
                                        "name": "raktar_nev"
                                    }
                                ]
                            },
                            "data": [
                                {
                                    "keszlet": "50000",
                                    "raktar_nev": "Veresegyházi"
                                },
                                {
                                    "keszlet": "50000",
                                    "raktar_nev": "Báthory"
                                }
                            ]
                        },
                        "text/html": "<table><tr><th>keszlet</th><th>raktar_nev</th></tr><tr><td>50000</td><td>Veresegyházi</td></tr><tr><td>50000</td><td>Báthory</td></tr></table>"
                    },
                    "metadata": {}
                }
            ],
            "execution_count": 11
        },
        {
            "cell_type": "markdown",
            "source": [
                "10. <span style=\"background-color: rgb(255, 255, 255); color: rgb(0, 0, 0); font-family: &quot;Open Sans&quot;, sans-serif; font-size: 14.44px;\">Melyek azok a termékek, amelyek listaára nagyobb, mint bármelyik olyan terméké, amelynek nevében az Ajándék szó szerepel?&nbsp;</span> \n",
                "\n",
                "a. A termékek kódját és nevét is jelenítsük meg!"
            ],
            "metadata": {
                "azdata_cell_guid": "9229e2b6-e200-4499-b95b-2d0222149831"
            },
            "attachments": {}
        },
        {
            "cell_type": "code",
            "source": [
                "SELECT MEGNEVEZES,TERMEKKOD\r\n",
                "FROM Termek\r\n",
                "WHERE LISTAAR >= ANY(SELECT LISTAAR\r\n",
                "FROM Termek\r\n",
                "WHERE MEGNEVEZES LIKE '%ajándék%')"
            ],
            "metadata": {
                "azdata_cell_guid": "8b49ed67-28c6-4880-82a8-cd369e5bba99",
                "language": "sql"
            },
            "outputs": [
                {
                    "output_type": "display_data",
                    "data": {
                        "text/html": "(503 rows affected)"
                    },
                    "metadata": {}
                },
                {
                    "output_type": "display_data",
                    "data": {
                        "text/html": "Total execution time: 00:00:00.090"
                    },
                    "metadata": {}
                },
                {
                    "output_type": "execute_result",
                    "execution_count": 17,
                    "data": {
                        "application/vnd.dataresource+json": {
                            "schema": {
                                "fields": [
                                    {
                                        "name": "MEGNEVEZES"
                                    },
                                    {
                                        "name": "TERMEKKOD"
                                    }
                                ]
                            },
                            "data": [
                                {
                                    "MEGNEVEZES": "félfamentes rajzlap A4 (10 lap)",
                                    "TERMEKKOD": "01010001T"
                                },
                                {
                                    "MEGNEVEZES": "Fotópapír A/4 fényes",
                                    "TERMEKKOD": "01010110T"
                                },
                                {
                                    "MEGNEVEZES": "Öntapadós hologramos papír A/4",
                                    "TERMEKKOD": "01010304T"
                                },
                                {
                                    "MEGNEVEZES": "Oklevél A/4 egyszínű",
                                    "TERMEKKOD": "01020299T"
                                },
                                {
                                    "MEGNEVEZES": "Oklevél A/4 színes",
                                    "TERMEKKOD": "01020300T"
                                },
                                {
                                    "MEGNEVEZES": "Emléklap A/5",
                                    "TERMEKKOD": "01030091T"
                                },
                                {
                                    "MEGNEVEZES": "Esküvői meghívó",
                                    "TERMEKKOD": "01030092T"
                                },
                                {
                                    "MEGNEVEZES": "Előlap spirálhoz",
                                    "TERMEKKOD": "01040502T"
                                },
                                {
                                    "MEGNEVEZES": "Fax papír 15 m",
                                    "TERMEKKOD": "01080093T"
                                },
                                {
                                    "MEGNEVEZES": "Öntapadó A/4",
                                    "TERMEKKOD": "01080512T"
                                },
                                {
                                    "MEGNEVEZES": "Selyemfényű karton A/4",
                                    "TERMEKKOD": "01080513T"
                                },
                                {
                                    "MEGNEVEZES": "Színes karton A4",
                                    "TERMEKKOD": "01090516T"
                                },
                                {
                                    "MEGNEVEZES": "Dekorációs karton",
                                    "TERMEKKOD": "01100070T"
                                },
                                {
                                    "MEGNEVEZES": "Dekorációs karton arany, ezüst",
                                    "TERMEKKOD": "01100071T"
                                },
                                {
                                    "MEGNEVEZES": "Fénymásoló papír DataCopy",
                                    "TERMEKKOD": "01100094T"
                                },
                                {
                                    "MEGNEVEZES": "Fénymásoló papír GetCopy",
                                    "TERMEKKOD": "01100095T"
                                },
                                {
                                    "MEGNEVEZES": "Fénymásoló papír Qconnect",
                                    "TERMEKKOD": "01100096T"
                                },
                                {
                                    "MEGNEVEZES": "Színes másoló a/4 80g",
                                    "TERMEKKOD": "01100496T"
                                },
                                {
                                    "MEGNEVEZES": "Fehér másoló A/3",
                                    "TERMEKKOD": "01100504T"
                                },
                                {
                                    "MEGNEVEZES": "Fehér másoló A/4",
                                    "TERMEKKOD": "01100505T"
                                },
                                {
                                    "MEGNEVEZES": "Márványos A/4",
                                    "TERMEKKOD": "01100509T"
                                },
                                {
                                    "MEGNEVEZES": "Árazószalag ",
                                    "TERMEKKOD": "02010028T"
                                },
                                {
                                    "MEGNEVEZES": "Átírótömb A/6",
                                    "TERMEKKOD": "02020029T"
                                },
                                {
                                    "MEGNEVEZES": "Beírókönyv A5 ",
                                    "TERMEKKOD": "02020032T"
                                },
                                {
                                    "MEGNEVEZES": "Beírókönyv A4",
                                    "TERMEKKOD": "02020033T"
                                },
                                {
                                    "MEGNEVEZES": "Bevételi pénztárbizonylat 3×25",
                                    "TERMEKKOD": "02020037T"
                                },
                                {
                                    "MEGNEVEZES": "Kiadási pénztárbizonylat 2×25",
                                    "TERMEKKOD": "02020245T"
                                },
                                {
                                    "MEGNEVEZES": "Határidő napló A/6",
                                    "TERMEKKOD": "02020444T"
                                },
                                {
                                    "MEGNEVEZES": "Boríték légp. kicsi",
                                    "TERMEKKOD": "02030043T"
                                },
                                {
                                    "MEGNEVEZES": "irodai tűzőgép",
                                    "TERMEKKOD": "02040002T"
                                },
                                {
                                    "MEGNEVEZES": "Álló irattartó karton",
                                    "TERMEKKOD": "02040025T"
                                },
                                {
                                    "MEGNEVEZES": "Gemkapocs 28 mm",
                                    "TERMEKKOD": "02040145T"
                                },
                                {
                                    "MEGNEVEZES": "Gemkapocs ICO",
                                    "TERMEKKOD": "02040146T"
                                },
                                {
                                    "MEGNEVEZES": "Genotherm lefűzhető A4 10db-os",
                                    "TERMEKKOD": "02040148T"
                                },
                                {
                                    "MEGNEVEZES": "Genotherm A4 10db-os",
                                    "TERMEKKOD": "02040149T"
                                },
                                {
                                    "MEGNEVEZES": "Gyorsfűző műa.",
                                    "TERMEKKOD": "02040177T"
                                },
                                {
                                    "MEGNEVEZES": "Gyorsfűző műa.",
                                    "TERMEKKOD": "02040178T"
                                },
                                {
                                    "MEGNEVEZES": "Hibajav.roll.Pritt 4,2mm",
                                    "TERMEKKOD": "02040194T"
                                },
                                {
                                    "MEGNEVEZES": "Hibajavító ecsetes Aqua",
                                    "TERMEKKOD": "02040195T"
                                },
                                {
                                    "MEGNEVEZES": "Hibajavító készlet Blanco",
                                    "TERMEKKOD": "02040196T"
                                },
                                {
                                    "MEGNEVEZES": "Hibajavító lap ",
                                    "TERMEKKOD": "02040197T"
                                },
                                {
                                    "MEGNEVEZES": "Hibajavító roller 5 mm",
                                    "TERMEKKOD": "02040198T"
                                },
                                {
                                    "MEGNEVEZES": "Hibajavító roller Pax",
                                    "TERMEKKOD": "02040199T"
                                },
                                {
                                    "MEGNEVEZES": "Hibajavító Kores mini pen",
                                    "TERMEKKOD": "02040200T"
                                },
                                {
                                    "MEGNEVEZES": "Írásvetítő fólia",
                                    "TERMEKKOD": "02040206T"
                                },
                                {
                                    "MEGNEVEZES": "Iratgyűjtő ESSELTE ablakos",
                                    "TERMEKKOD": "02040207T"
                                },
                                {
                                    "MEGNEVEZES": "Iratgyűjtő fehér",
                                    "TERMEKKOD": "02040208T"
                                },
                                {
                                    "MEGNEVEZES": "Iratsín fehér",
                                    "TERMEKKOD": "02040209T"
                                },
                                {
                                    "MEGNEVEZES": "Iratsín kék",
                                    "TERMEKKOD": "02040210T"
                                },
                                {
                                    "MEGNEVEZES": "Iratrendező ESSELTE",
                                    "TERMEKKOD": "02040211T"
                                },
                                {
                                    "MEGNEVEZES": "Iromány fedél feles",
                                    "TERMEKKOD": "02040214T"
                                },
                                {
                                    "MEGNEVEZES": "Naptár 24-es",
                                    "TERMEKKOD": "02040290T"
                                },
                                {
                                    "MEGNEVEZES": "Naptárhát nagy",
                                    "TERMEKKOD": "02040292T"
                                },
                                {
                                    "MEGNEVEZES": "Névjegytartó kicsi",
                                    "TERMEKKOD": "02040293T"
                                },
                                {
                                    "MEGNEVEZES": "Notesz A/5 sima",
                                    "TERMEKKOD": "02040294T"
                                },
                                {
                                    "MEGNEVEZES": "Notesz A/5 sima spirál",
                                    "TERMEKKOD": "02040295T"
                                },
                                {
                                    "MEGNEVEZES": "Notesz A/6 College",
                                    "TERMEKKOD": "02040296T"
                                },
                                {
                                    "MEGNEVEZES": "Notesz sima spirál College",
                                    "TERMEKKOD": "02040297T"
                                },
                                {
                                    "MEGNEVEZES": "Notesz mintás",
                                    "TERMEKKOD": "02040298T"
                                },
                                {
                                    "MEGNEVEZES": "Pénztárgépsz. 2 pl. nem öníró",
                                    "TERMEKKOD": "02040308T"
                                },
                                {
                                    "MEGNEVEZES": "Pénztárgépszalag 2pl SC 57.5/60",
                                    "TERMEKKOD": "02040309T"
                                },
                                {
                                    "MEGNEVEZES": "Tűzőgép Boxer 10",
                                    "TERMEKKOD": "02040401T"
                                },
                                {
                                    "MEGNEVEZES": "Tűzőgép Boxer ",
                                    "TERMEKKOD": "02040402T"
                                },
                                {
                                    "MEGNEVEZES": "Tűzőgép SAX 239",
                                    "TERMEKKOD": "02040403T"
                                },
                                {
                                    "MEGNEVEZES": "Tűzőgép EAGLE",
                                    "TERMEKKOD": "02040404T"
                                },
                                {
                                    "MEGNEVEZES": "Tűzőkapocs 10-es",
                                    "TERMEKKOD": "02040405T"
                                },
                                {
                                    "MEGNEVEZES": "Tűzőkapocs 24/6",
                                    "TERMEKKOD": "02040406T"
                                },
                                {
                                    "MEGNEVEZES": "Fólia tasakos A4 125 mik.",
                                    "TERMEKKOD": "02040506T"
                                },
                                {
                                    "MEGNEVEZES": "Fólia tasakos A4 80 mik.",
                                    "TERMEKKOD": "02040507T"
                                },
                                {
                                    "MEGNEVEZES": "Fólia tasakos A4100 mik.",
                                    "TERMEKKOD": "02040508T"
                                },
                                {
                                    "MEGNEVEZES": "Bélyegzőfesték ",
                                    "TERMEKKOD": "02060034T"
                                },
                                {
                                    "MEGNEVEZES": "Bélyegző IDEAL 50",
                                    "TERMEKKOD": "02060038T"
                                },
                                {
                                    "MEGNEVEZES": "Bélyegző párna",
                                    "TERMEKKOD": "02060039T"
                                },
                                {
                                    "MEGNEVEZES": "Bélyegző pocket",
                                    "TERMEKKOD": "02060447T"
                                },
                                {
                                    "MEGNEVEZES": "Bélyegző RP 18-47",
                                    "TERMEKKOD": "02060448T"
                                },
                                {
                                    "MEGNEVEZES": "CD tartó tok",
                                    "TERMEKKOD": "02080069T"
                                },
                                {
                                    "MEGNEVEZES": "Dvd",
                                    "TERMEKKOD": "02080081T"
                                },
                                {
                                    "MEGNEVEZES": "Floppy lemez",
                                    "TERMEKKOD": "02080109T"
                                },
                                {
                                    "MEGNEVEZES": "Kapocskiszedő",
                                    "TERMEKKOD": "02080226T"
                                },
                                {
                                    "MEGNEVEZES": "Álló irattartó",
                                    "TERMEKKOD": "02080431T"
                                },
                                {
                                    "MEGNEVEZES": "Tokos iratrendező",
                                    "TERMEKKOD": "02080432T"
                                },
                                {
                                    "MEGNEVEZES": "Ragasztószalag 19 mm-es",
                                    "TERMEKKOD": "02080433T"
                                },
                                {
                                    "MEGNEVEZES": "Mappa müa A/4",
                                    "TERMEKKOD": "02080434T"
                                },
                                {
                                    "MEGNEVEZES": "Mappa bemutató",
                                    "TERMEKKOD": "02080435T"
                                },
                                {
                                    "MEGNEVEZES": "Irattartó müa. boríték A/4",
                                    "TERMEKKOD": "02080436T"
                                },
                                {
                                    "MEGNEVEZES": "Térképtű színes",
                                    "TERMEKKOD": "02080449T"
                                },
                                {
                                    "MEGNEVEZES": "Gémkapocs 28-as színes",
                                    "TERMEKKOD": "02080450T"
                                },
                                {
                                    "MEGNEVEZES": "Gémkapocs 50-es",
                                    "TERMEKKOD": "02080451T"
                                },
                                {
                                    "MEGNEVEZES": "Tűzőgép mini",
                                    "TERMEKKOD": "02080452T"
                                },
                                {
                                    "MEGNEVEZES": "Lyukasztó EAGLE",
                                    "TERMEKKOD": "02080453T"
                                },
                                {
                                    "MEGNEVEZES": "Lyukasztó BOXER",
                                    "TERMEKKOD": "02080454T"
                                },
                                {
                                    "MEGNEVEZES": "Festékpatron BCI-3BK",
                                    "TERMEKKOD": "02080455T"
                                },
                                {
                                    "MEGNEVEZES": "Genoterm HERLITZ 10-es",
                                    "TERMEKKOD": "02080456T"
                                },
                                {
                                    "MEGNEVEZES": "Oki toner C",
                                    "TERMEKKOD": "02080511T"
                                },
                                {
                                    "MEGNEVEZES": "Spirál 1/4 ",
                                    "TERMEKKOD": "02080514T"
                                },
                                {
                                    "MEGNEVEZES": "Ragasztószalag nagy 12 mm",
                                    "TERMEKKOD": "03010344T"
                                },
                                {
                                    "MEGNEVEZES": "Ragasztószalag széles barna",
                                    "TERMEKKOD": "03010345T"
                                },
                                {
                                    "MEGNEVEZES": "Díszkötöző szalag metál nagy",
                                    "TERMEKKOD": "03050076T"
                                },
                                {
                                    "MEGNEVEZES": "Diszkötöző szalag arany",
                                    "TERMEKKOD": "03050077T"
                                },
                                {
                                    "MEGNEVEZES": "Diszkötöző széles szalag",
                                    "TERMEKKOD": "03050080T"
                                },
                                {
                                    "MEGNEVEZES": "Ajándék cs. tasak kicsi",
                                    "TERMEKKOD": "03050457T"
                                },
                                {
                                    "MEGNEVEZES": "Ajándék cs. 2×100×70",
                                    "TERMEKKOD": "03050458T"
                                },
                                {
                                    "MEGNEVEZES": "Talpas tasak",
                                    "TERMEKKOD": "03050459T"
                                },
                                {
                                    "MEGNEVEZES": "Ajándék cs. tasak italos",
                                    "TERMEKKOD": "03080003T"
                                },
                                {
                                    "MEGNEVEZES": "Ajándék cs. tasak italos, fólia",
                                    "TERMEKKOD": "03080004T"
                                },
                                {
                                    "MEGNEVEZES": "Ajándék cs. tasak virágos nagy",
                                    "TERMEKKOD": "03080005T"
                                },
                                {
                                    "MEGNEVEZES": "Ajándék cs. tasak mintás kicsi",
                                    "TERMEKKOD": "03080006T"
                                },
                                {
                                    "MEGNEVEZES": "Ajándék cs. tasak mintás nagy",
                                    "TERMEKKOD": "03080007T"
                                },
                                {
                                    "MEGNEVEZES": "Ajándék cs. tasak kicsi",
                                    "TERMEKKOD": "03080008T"
                                },
                                {
                                    "MEGNEVEZES": "Ajándék csom. 100x70 metál",
                                    "TERMEKKOD": "03080009T"
                                },
                                {
                                    "MEGNEVEZES": "Ajándék csom. 150x70",
                                    "TERMEKKOD": "03080010T"
                                },
                                {
                                    "MEGNEVEZES": "Ajándék cs. tasak közepes",
                                    "TERMEKKOD": "03080011T"
                                },
                                {
                                    "MEGNEVEZES": "Ajándék csom. 200x70",
                                    "TERMEKKOD": "03080012T"
                                },
                                {
                                    "MEGNEVEZES": "Ajándék csom. 50x70 húsvéti",
                                    "TERMEKKOD": "03080013T"
                                },
                                {
                                    "MEGNEVEZES": "Ajándék csom. 70x50 metál",
                                    "TERMEKKOD": "03080014T"
                                },
                                {
                                    "MEGNEVEZES": "Ajándék csom. gyűrt",
                                    "TERMEKKOD": "03080015T"
                                },
                                {
                                    "MEGNEVEZES": "házt.csom.  5 ív",
                                    "TERMEKKOD": "03080016T"
                                },
                                {
                                    "MEGNEVEZES": "iskolai csomagoló papír",
                                    "TERMEKKOD": "03080017T"
                                },
                                {
                                    "MEGNEVEZES": "Ajándék csom. gyűrt 50x70 ",
                                    "TERMEKKOD": "03080018T"
                                },
                                {
                                    "MEGNEVEZES": "Ajándék csom. Krepp",
                                    "TERMEKKOD": "03080019T"
                                },
                                {
                                    "MEGNEVEZES": "Ajándék csom. nagy  ",
                                    "TERMEKKOD": "03080020T"
                                },
                                {
                                    "MEGNEVEZES": "Ajándék csom. vékony",
                                    "TERMEKKOD": "03080021T"
                                },
                                {
                                    "MEGNEVEZES": "Ajándék cs. húsvéti 200x70",
                                    "TERMEKKOD": "03080030T"
                                },
                                {
                                    "MEGNEVEZES": "Ajándék cs. húsvéti",
                                    "TERMEKKOD": "03080031T"
                                },
                                {
                                    "MEGNEVEZES": "Ajándék csomagoló tasak",
                                    "TERMEKKOD": "03080437T"
                                },
                                {
                                    "MEGNEVEZES": "Ajándék csomagoló tasak lézeres",
                                    "TERMEKKOD": "03080438T"
                                },
                                {
                                    "MEGNEVEZES": "Italtartó doboz",
                                    "TERMEKKOD": "03080439T"
                                },
                                {
                                    "MEGNEVEZES": "Határidő napló 2010-s",
                                    "TERMEKKOD": "04020445T"
                                },
                                {
                                    "MEGNEVEZES": "Képeslap karácsonyi",
                                    "TERMEKKOD": "04030234T"
                                },
                                {
                                    "MEGNEVEZES": "Képeslap karácsonyi borítékos",
                                    "TERMEKKOD": "04030235T"
                                },
                                {
                                    "MEGNEVEZES": "Képeslap kerek",
                                    "TERMEKKOD": "04030237T"
                                },
                                {
                                    "MEGNEVEZES": "Képeslap stancolt",
                                    "TERMEKKOD": "04030238T"
                                },
                                {
                                    "MEGNEVEZES": "Képeslap stancolt szív",
                                    "TERMEKKOD": "04030239T"
                                },
                                {
                                    "MEGNEVEZES": "Képeslap virágos +boríték",
                                    "TERMEKKOD": "04030241T"
                                },
                                {
                                    "MEGNEVEZES": "Képeslap WD +boríték",
                                    "TERMEKKOD": "04030242T"
                                },
                                {
                                    "MEGNEVEZES": "Képkirakó Dirib-darab",
                                    "TERMEKKOD": "04030243T"
                                },
                                {
                                    "MEGNEVEZES": "Levélpapír állatos",
                                    "TERMEKKOD": "04030261T"
                                },
                                {
                                    "MEGNEVEZES": "Levélpapír sima",
                                    "TERMEKKOD": "04030262T"
                                },
                                {
                                    "MEGNEVEZES": "Levélpapír szett",
                                    "TERMEKKOD": "04030263T"
                                },
                                {
                                    "MEGNEVEZES": "Levélpapír szett ",
                                    "TERMEKKOD": "04030264T"
                                },
                                {
                                    "MEGNEVEZES": "Levélpapír szett natur, mintás",
                                    "TERMEKKOD": "04030265T"
                                },
                                {
                                    "MEGNEVEZES": "Levélpapír szett virágos",
                                    "TERMEKKOD": "04030266T"
                                },
                                {
                                    "MEGNEVEZES": "Műanyag állatok",
                                    "TERMEKKOD": "04030286T"
                                },
                                {
                                    "MEGNEVEZES": "Műanyag foszforeszkáló állat",
                                    "TERMEKKOD": "04030287T"
                                },
                                {
                                    "MEGNEVEZES": "Emlékkönyv",
                                    "TERMEKKOD": "04040090T"
                                },
                                {
                                    "MEGNEVEZES": "Tenisz labda",
                                    "TERMEKKOD": "04040387T"
                                },
                                {
                                    "MEGNEVEZES": "Álarc",
                                    "TERMEKKOD": "04050022T"
                                },
                                {
                                    "MEGNEVEZES": "Álarc fejdísz",
                                    "TERMEKKOD": "04050023T"
                                },
                                {
                                    "MEGNEVEZES": "Álarc szemüveg",
                                    "TERMEKKOD": "04050024T"
                                },
                                {
                                    "MEGNEVEZES": "Bérlet tok",
                                    "TERMEKKOD": "04050035T"
                                },
                                {
                                    "MEGNEVEZES": "Díszdoboz kar.",
                                    "TERMEKKOD": "04050073T"
                                },
                                {
                                    "MEGNEVEZES": "Díszdoboz tollnak 2 db-os",
                                    "TERMEKKOD": "04050074T"
                                },
                                {
                                    "MEGNEVEZES": "Díszdoboz tollnak 2 db-os keskeny",
                                    "TERMEKKOD": "04050075T"
                                },
                                {
                                    "MEGNEVEZES": "Gumilabda közepes",
                                    "TERMEKKOD": "04050171T"
                                },
                                {
                                    "MEGNEVEZES": "Hajgumi macis",
                                    "TERMEKKOD": "04050187T"
                                },
                                {
                                    "MEGNEVEZES": "Hűtőmágnes",
                                    "TERMEKKOD": "04050203T"
                                },
                                {
                                    "MEGNEVEZES": "Hűtőmágnes WD",
                                    "TERMEKKOD": "04050204T"
                                },
                                {
                                    "MEGNEVEZES": "Játék autó",
                                    "TERMEKKOD": "04050220T"
                                },
                                {
                                    "MEGNEVEZES": "Játékautó Blisteres",
                                    "TERMEKKOD": "04050221T"
                                },
                                {
                                    "MEGNEVEZES": "Játékautó elemes",
                                    "TERMEKKOD": "04050222T"
                                },
                                {
                                    "MEGNEVEZES": "Játékautó mini",
                                    "TERMEKKOD": "04050223T"
                                },
                                {
                                    "MEGNEVEZES": "Jelzőkréta",
                                    "TERMEKKOD": "04050224T"
                                },
                                {
                                    "MEGNEVEZES": "Kártya mini Magyar",
                                    "TERMEKKOD": "04050225T"
                                },
                                {
                                    "MEGNEVEZES": "Kulcstartó autós",
                                    "TERMEKKOD": "04050250T"
                                },
                                {
                                    "MEGNEVEZES": "Kulcstartó billiárd golyós",
                                    "TERMEKKOD": "04050251T"
                                },
                                {
                                    "MEGNEVEZES": "Kulcstartó Csőrikés",
                                    "TERMEKKOD": "04050252T"
                                },
                                {
                                    "MEGNEVEZES": "Kulcstartó figurás",
                                    "TERMEKKOD": "04050253T"
                                },
                                {
                                    "MEGNEVEZES": "Kulcstartó intarziás állatos",
                                    "TERMEKKOD": "04050254T"
                                },
                                {
                                    "MEGNEVEZES": "Kulcstartó mesefigurás",
                                    "TERMEKKOD": "04050255T"
                                },
                                {
                                    "MEGNEVEZES": "Kulcstartó nagyítós",
                                    "TERMEKKOD": "04050256T"
                                },
                                {
                                    "MEGNEVEZES": "Logikai készlet",
                                    "TERMEKKOD": "04050267T"
                                },
                                {
                                    "MEGNEVEZES": "Plüss  QX állatok",
                                    "TERMEKKOD": "04050320T"
                                },
                                {
                                    "MEGNEVEZES": "Plüss kicsi",
                                    "TERMEKKOD": "04050321T"
                                },
                                {
                                    "MEGNEVEZES": "Plüss sárkány",
                                    "TERMEKKOD": "04050322T"
                                },
                                {
                                    "MEGNEVEZES": "Strandlabda ",
                                    "TERMEKKOD": "04050358T"
                                },
                                {
                                    "MEGNEVEZES": "Mappa bőr A5",
                                    "TERMEKKOD": "04080270T"
                                },
                                {
                                    "MEGNEVEZES": "Mappa PVC villámzáras",
                                    "TERMEKKOD": "04080271T"
                                },
                                {
                                    "MEGNEVEZES": "Mappa PVC villámzáras  képes",
                                    "TERMEKKOD": "04080272T"
                                },
                                {
                                    "MEGNEVEZES": "Emlékkönyv",
                                    "TERMEKKOD": "04080442T"
                                },
                                {
                                    "MEGNEVEZES": "Emlékkönyv lakatos",
                                    "TERMEKKOD": "04080443T"
                                },
                                {
                                    "MEGNEVEZES": "Címke 8 db-os",
                                    "TERMEKKOD": "04110066T"
                                },
                                {
                                    "MEGNEVEZES": "Címke WD. állat",
                                    "TERMEKKOD": "04110067T"
                                },
                                {
                                    "MEGNEVEZES": "Címke egyszínű",
                                    "TERMEKKOD": "04110068T"
                                },
                                {
                                    "MEGNEVEZES": "Képeslap  borítékos",
                                    "TERMEKKOD": "04110227T"
                                },
                                {
                                    "MEGNEVEZES": "Képeslap \"Nászajándék\"",
                                    "TERMEKKOD": "04110228T"
                                },
                                {
                                    "MEGNEVEZES": "Képeslap \"Részvét\"",
                                    "TERMEKKOD": "04110229T"
                                },
                                {
                                    "MEGNEVEZES": "Képeslap humoros ",
                                    "TERMEKKOD": "04110230T"
                                },
                                {
                                    "MEGNEVEZES": "Képeslap humoros borítékos",
                                    "TERMEKKOD": "04110231T"
                                },
                                {
                                    "MEGNEVEZES": "Képeslap humoros kaparós",
                                    "TERMEKKOD": "04110232T"
                                },
                                {
                                    "MEGNEVEZES": "Képeslap humoros",
                                    "TERMEKKOD": "04110233T"
                                },
                                {
                                    "MEGNEVEZES": "Lampion",
                                    "TERMEKKOD": "04110258T"
                                },
                                {
                                    "MEGNEVEZES": "Matrica állatos",
                                    "TERMEKKOD": "04110273T"
                                },
                                {
                                    "MEGNEVEZES": "Matrica autóra H",
                                    "TERMEKKOD": "04110274T"
                                },
                                {
                                    "MEGNEVEZES": "Matrica motoros kicsi",
                                    "TERMEKKOD": "04110275T"
                                },
                                {
                                    "MEGNEVEZES": "Matrica Stickers nagy állatos",
                                    "TERMEKKOD": "04110276T"
                                },
                                {
                                    "MEGNEVEZES": "Matrica Stickers szíves",
                                    "TERMEKKOD": "04110277T"
                                },
                                {
                                    "MEGNEVEZES": "Matrica Test ékszer tattoo",
                                    "TERMEKKOD": "04110278T"
                                },
                                {
                                    "MEGNEVEZES": "Matrica tetoválás",
                                    "TERMEKKOD": "04110279T"
                                },
                                {
                                    "MEGNEVEZES": "Matrica tetoválós kicsi",
                                    "TERMEKKOD": "04110280T"
                                },
                                {
                                    "MEGNEVEZES": "Matrica világítós ",
                                    "TERMEKKOD": "04110281T"
                                },
                                {
                                    "MEGNEVEZES": "Matrica WD kicsi",
                                    "TERMEKKOD": "04110282T"
                                },
                                {
                                    "MEGNEVEZES": "Meghívó állatos",
                                    "TERMEKKOD": "04110283T"
                                },
                                {
                                    "MEGNEVEZES": "Meghívó borítékos",
                                    "TERMEKKOD": "04110284T"
                                },
                                {
                                    "MEGNEVEZES": "Szalvéta gyűjtőknek",
                                    "TERMEKKOD": "04110362T"
                                },
                                {
                                    "MEGNEVEZES": "Alufólia 10 m-es",
                                    "TERMEKKOD": "05010026T"
                                },
                                {
                                    "MEGNEVEZES": "Alufólia 20 m-es",
                                    "TERMEKKOD": "05010027T"
                                },
                                {
                                    "MEGNEVEZES": "Papízsebkendő,10db Szindy",
                                    "TERMEKKOD": "05010306T"
                                },
                                {
                                    "MEGNEVEZES": "Szemetes zsák 60 literes",
                                    "TERMEKKOD": "05010369T"
                                },
                                {
                                    "MEGNEVEZES": "Szilvia csomagoló",
                                    "TERMEKKOD": "05010370T"
                                },
                                {
                                    "MEGNEVEZES": "Pill.ragasztó",
                                    "TERMEKKOD": "05040310T"
                                },
                                {
                                    "MEGNEVEZES": "Rajzszeg színes",
                                    "TERMEKKOD": "05040348T"
                                },
                                {
                                    "MEGNEVEZES": "Rajzszeg",
                                    "TERMEKKOD": "05040349T"
                                },
                                {
                                    "MEGNEVEZES": "Celofán",
                                    "TERMEKKOD": "05050045T"
                                },
                                {
                                    "MEGNEVEZES": "Celofán 50 db-os",
                                    "TERMEKKOD": "05050046T"
                                },
                                {
                                    "MEGNEVEZES": "Gumigyűrű",
                                    "TERMEKKOD": "05050170T"
                                },
                                {
                                    "MEGNEVEZES": "Rágógumi Orbit",
                                    "TERMEKKOD": "05050346T"
                                },
                                {
                                    "MEGNEVEZES": "Tapétavágó kés",
                                    "TERMEKKOD": "05050465T"
                                },
                                {
                                    "MEGNEVEZES": "Ragasztó, Technokol 35g kék",
                                    "TERMEKKOD": "05080340T"
                                },
                                {
                                    "MEGNEVEZES": "Ragasztó, Technokol 35g piros",
                                    "TERMEKKOD": "05080341T"
                                },
                                {
                                    "MEGNEVEZES": "Szalvéta ",
                                    "TERMEKKOD": "05110359T"
                                },
                                {
                                    "MEGNEVEZES": "Szalvéta egyszínű",
                                    "TERMEKKOD": "05110360T"
                                },
                                {
                                    "MEGNEVEZES": "Szalvéta Goma húsvéti",
                                    "TERMEKKOD": "05110361T"
                                },
                                {
                                    "MEGNEVEZES": "Szalvéta dekor",
                                    "TERMEKKOD": "05110363T"
                                },
                                {
                                    "MEGNEVEZES": "Szalvéta kicsi virágos",
                                    "TERMEKKOD": "05110364T"
                                },
                                {
                                    "MEGNEVEZES": "Betűtartó sin",
                                    "TERMEKKOD": "06010036T"
                                },
                                {
                                    "MEGNEVEZES": "Ecset Centrum 10,11,12",
                                    "TERMEKKOD": "06010082T"
                                },
                                {
                                    "MEGNEVEZES": "Ecset Centrum 7,8,9",
                                    "TERMEKKOD": "06010083T"
                                },
                                {
                                    "MEGNEVEZES": "Ecset Deák 2-es",
                                    "TERMEKKOD": "06010084T"
                                },
                                {
                                    "MEGNEVEZES": "Ecset Lizzy 10-es",
                                    "TERMEKKOD": "06010085T"
                                },
                                {
                                    "MEGNEVEZES": "Ecset Nebulo 4-es",
                                    "TERMEKKOD": "06010086T"
                                },
                                {
                                    "MEGNEVEZES": "Füzet  A/4 ",
                                    "TERMEKKOD": "06010111T"
                                },
                                {
                                    "MEGNEVEZES": "Füzet  A4 mintás",
                                    "TERMEKKOD": "06010112T"
                                },
                                {
                                    "MEGNEVEZES": "Füzet 31-32 szótár",
                                    "TERMEKKOD": "06010113T"
                                },
                                {
                                    "MEGNEVEZES": "Füzet A/5 hangjegy 36/16",
                                    "TERMEKKOD": "06010114T"
                                },
                                {
                                    "MEGNEVEZES": "Füzet A/5, mintás",
                                    "TERMEKKOD": "06010115T"
                                },
                                {
                                    "MEGNEVEZES": "Hőmérő, műa.",
                                    "TERMEKKOD": "06010201T"
                                },
                                {
                                    "MEGNEVEZES": "Hurkapálca 10 db-os",
                                    "TERMEKKOD": "06010202T"
                                },
                                {
                                    "MEGNEVEZES": "Ragasztószalag 19 mm-es SCOTCH+ tépő",
                                    "TERMEKKOD": "06010343T"
                                },
                                {
                                    "MEGNEVEZES": "Számegyenes",
                                    "TERMEKKOD": "06010365T"
                                },
                                {
                                    "MEGNEVEZES": "Számológép Roxin",
                                    "TERMEKKOD": "06010366T"
                                },
                                {
                                    "MEGNEVEZES": "Számolókorong",
                                    "TERMEKKOD": "06010367T"
                                },
                                {
                                    "MEGNEVEZES": "Számolópálca",
                                    "TERMEKKOD": "06010368T"
                                },
                                {
                                    "MEGNEVEZES": "Színes papír I.II-IV.V-VIII-ig",
                                    "TERMEKKOD": "06010373T"
                                },
                                {
                                    "MEGNEVEZES": "Szorzótábla műanyag",
                                    "TERMEKKOD": "06010374T"
                                },
                                {
                                    "MEGNEVEZES": "Szögmérő 180 fokos műa.",
                                    "TERMEKKOD": "06010375T"
                                },
                                {
                                    "MEGNEVEZES": "Ecset Nebuló 10-es",
                                    "TERMEKKOD": "06040087T"
                                },
                                {
                                    "MEGNEVEZES": "Egészségügyi könyv",
                                    "TERMEKKOD": "06040088T"
                                },
                                {
                                    "MEGNEVEZES": "Gumis mappa csomagolt",
                                    "TERMEKKOD": "06040172T"
                                },
                                {
                                    "MEGNEVEZES": "Gumis mappa fóliázott állatos",
                                    "TERMEKKOD": "06040173T"
                                },
                                {
                                    "MEGNEVEZES": "Gumis mappa ",
                                    "TERMEKKOD": "06040174T"
                                },
                                {
                                    "MEGNEVEZES": "Gumis mappa Köbüki",
                                    "TERMEKKOD": "06040175T"
                                },
                                {
                                    "MEGNEVEZES": "Gyurma színes 200 g-os",
                                    "TERMEKKOD": "06040179T"
                                },
                                {
                                    "MEGNEVEZES": "Gyurma színes natúr",
                                    "TERMEKKOD": "06040180T"
                                },
                                {
                                    "MEGNEVEZES": "Gyűrűskönyv bet. A/4",
                                    "TERMEKKOD": "06040182T"
                                },
                                {
                                    "MEGNEVEZES": "Gyűrűskönyv bet. A/5",
                                    "TERMEKKOD": "06040183T"
                                },
                                {
                                    "MEGNEVEZES": "Gyűrűskönyv betét A/5",
                                    "TERMEKKOD": "06040184T"
                                },
                                {
                                    "MEGNEVEZES": "Gyűrűskönyv",
                                    "TERMEKKOD": "06040185T"
                                },
                                {
                                    "MEGNEVEZES": "Gyűrűskönyv színes",
                                    "TERMEKKOD": "06040186T"
                                },
                                {
                                    "MEGNEVEZES": "Írólap 10-50 ffam.",
                                    "TERMEKKOD": "06040212T"
                                },
                                {
                                    "MEGNEVEZES": "Írólap 20-50 ",
                                    "TERMEKKOD": "06040213T"
                                },
                                {
                                    "MEGNEVEZES": "Körző",
                                    "TERMEKKOD": "06040246T"
                                },
                                {
                                    "MEGNEVEZES": "Körzőhegy grafit",
                                    "TERMEKKOD": "06040247T"
                                },
                                {
                                    "MEGNEVEZES": "Körző maped",
                                    "TERMEKKOD": "06040248T"
                                },
                                {
                                    "MEGNEVEZES": "Post-it 51×38 100 lapos",
                                    "TERMEKKOD": "06040323T"
                                },
                                {
                                    "MEGNEVEZES": "Post-it 75×75 100 lapos",
                                    "TERMEKKOD": "06040324T"
                                },
                                {
                                    "MEGNEVEZES": "Radír gyümölcsös",
                                    "TERMEKKOD": "06040325T"
                                },
                                {
                                    "MEGNEVEZES": "Radír KOH-I-NOR 80",
                                    "TERMEKKOD": "06040326T"
                                },
                                {
                                    "MEGNEVEZES": "Radír Koh-i-nor 40",
                                    "TERMEKKOD": "06040327T"
                                },
                                {
                                    "MEGNEVEZES": "Radír Maped",
                                    "TERMEKKOD": "06040328T"
                                },
                                {
                                    "MEGNEVEZES": "Radír stabilo",
                                    "TERMEKKOD": "06040329T"
                                },
                                {
                                    "MEGNEVEZES": "Radír Tikky 30 ",
                                    "TERMEKKOD": "06040330T"
                                },
                                {
                                    "MEGNEVEZES": "Radír Tikky 40 ",
                                    "TERMEKKOD": "06040331T"
                                },
                                {
                                    "MEGNEVEZES": "Rajzlap A/4 10db ffam.",
                                    "TERMEKKOD": "06040347T"
                                },
                                {
                                    "MEGNEVEZES": "Regiszteres füzet A4",
                                    "TERMEKKOD": "06040350T"
                                },
                                {
                                    "MEGNEVEZES": "Regiszteres füzet A5 Hightech",
                                    "TERMEKKOD": "06040351T"
                                },
                                {
                                    "MEGNEVEZES": "Rovatolt papír 20 íves",
                                    "TERMEKKOD": "06040352T"
                                },
                                {
                                    "MEGNEVEZES": "Sp.Füzet A/4  perforált, lyuk.",
                                    "TERMEKKOD": "06040354T"
                                },
                                {
                                    "MEGNEVEZES": "Sp.Füzet A/4 70-as",
                                    "TERMEKKOD": "06040355T"
                                },
                                {
                                    "MEGNEVEZES": "Sp.Füzet A/4  70es",
                                    "TERMEKKOD": "06040356T"
                                },
                                {
                                    "MEGNEVEZES": "Sp.Füzet A/5 70-es",
                                    "TERMEKKOD": "06040357T"
                                },
                                {
                                    "MEGNEVEZES": "Szövegkiemelő vékony",
                                    "TERMEKKOD": "06040378T"
                                },
                                {
                                    "MEGNEVEZES": "Szövegkiemelő ",
                                    "TERMEKKOD": "06040379T"
                                },
                                {
                                    "MEGNEVEZES": "Szövegkiemelő",
                                    "TERMEKKOD": "06040380T"
                                },
                                {
                                    "MEGNEVEZES": "Szövegkiemelő Videotip",
                                    "TERMEKKOD": "06040381T"
                                },
                                {
                                    "MEGNEVEZES": "Táblafilc",
                                    "TERMEKKOD": "06040382T"
                                },
                                {
                                    "MEGNEVEZES": "Taffet papír",
                                    "TERMEKKOD": "06040383T"
                                },
                                {
                                    "MEGNEVEZES": "Technika cs. I-II-III-IV",
                                    "TERMEKKOD": "06040384T"
                                },
                                {
                                    "MEGNEVEZES": "Tempera szóló ezüst",
                                    "TERMEKKOD": "06040385T"
                                },
                                {
                                    "MEGNEVEZES": "Tempera szóló színes",
                                    "TERMEKKOD": "06040386T"
                                },
                                {
                                    "MEGNEVEZES": "Tolltartó 1 zipzáros",
                                    "TERMEKKOD": "06040392T"
                                },
                                {
                                    "MEGNEVEZES": "Tolltartó 2 részes NG.",
                                    "TERMEKKOD": "06040393T"
                                },
                                {
                                    "MEGNEVEZES": "Tolltartó zipzáras",
                                    "TERMEKKOD": "06040394T"
                                },
                                {
                                    "MEGNEVEZES": "Tolltartó 2 zipzáros töltött",
                                    "TERMEKKOD": "06040395T"
                                },
                                {
                                    "MEGNEVEZES": "Tolltartó Garfield",
                                    "TERMEKKOD": "06040396T"
                                },
                                {
                                    "MEGNEVEZES": "Tolltartó asztali",
                                    "TERMEKKOD": "06040397T"
                                },
                                {
                                    "MEGNEVEZES": "Tolltartó hengeres ",
                                    "TERMEKKOD": "06040398T"
                                },
                                {
                                    "MEGNEVEZES": "Tombola tömb",
                                    "TERMEKKOD": "06040399T"
                                },
                                {
                                    "MEGNEVEZES": "Tornazsák",
                                    "TERMEKKOD": "06040400T"
                                },
                                {
                                    "MEGNEVEZES": "Számológép tudományos",
                                    "TERMEKKOD": "06040446T"
                                },
                                {
                                    "MEGNEVEZES": "Krepp papír",
                                    "TERMEKKOD": "06050249T"
                                },
                                {
                                    "MEGNEVEZES": "Olló gyerek ",
                                    "TERMEKKOD": "06050301T"
                                },
                                {
                                    "MEGNEVEZES": "Olló Tagit 18 cm-es",
                                    "TERMEKKOD": "06050302T"
                                },
                                {
                                    "MEGNEVEZES": "Olló, iskolai",
                                    "TERMEKKOD": "06050303T"
                                },
                                {
                                    "MEGNEVEZES": "Füzet A5 1-8 osz.-ig",
                                    "TERMEKKOD": "06080116T"
                                },
                                {
                                    "MEGNEVEZES": "Füzetborító mesefig.",
                                    "TERMEKKOD": "06080119T"
                                },
                                {
                                    "MEGNEVEZES": "Füzetborító öntapadó kicsi",
                                    "TERMEKKOD": "06080120T"
                                },
                                {
                                    "MEGNEVEZES": "Füzetborító öntapadó tekercses",
                                    "TERMEKKOD": "06080121T"
                                },
                                {
                                    "MEGNEVEZES": "Füzetborító öntapadós nagy",
                                    "TERMEKKOD": "06080122T"
                                },
                                {
                                    "MEGNEVEZES": "Füzettartó A/4 keménytáblás",
                                    "TERMEKKOD": "06080123T"
                                },
                                {
                                    "MEGNEVEZES": "Füzettartó A/4 keménytáblás",
                                    "TERMEKKOD": "06080124T"
                                },
                                {
                                    "MEGNEVEZES": "Füzettartó A/5 vastag",
                                    "TERMEKKOD": "06080125T"
                                },
                                {
                                    "MEGNEVEZES": "Füzettartó A/5  ",
                                    "TERMEKKOD": "06080126T"
                                },
                                {
                                    "MEGNEVEZES": "Hegyező gép",
                                    "TERMEKKOD": "06080188T"
                                },
                                {
                                    "MEGNEVEZES": "Hegyező műanyag dupla",
                                    "TERMEKKOD": "06080189T"
                                },
                                {
                                    "MEGNEVEZES": "Hegyező műanyag egyes",
                                    "TERMEKKOD": "06080190T"
                                },
                                {
                                    "MEGNEVEZES": "Hegyező tartályos egyes",
                                    "TERMEKKOD": "06080191T"
                                },
                                {
                                    "MEGNEVEZES": "Hegyző fém 1 lyukú",
                                    "TERMEKKOD": "06080192T"
                                },
                                {
                                    "MEGNEVEZES": "Hegyző fém 2 lyukú",
                                    "TERMEKKOD": "06080193T"
                                },
                                {
                                    "MEGNEVEZES": "Leckefüzet",
                                    "TERMEKKOD": "06080259T"
                                },
                                {
                                    "MEGNEVEZES": "Radírtoll betét ER100",
                                    "TERMEKKOD": "06080332T"
                                },
                                {
                                    "MEGNEVEZES": "Radírtoll betét vastag",
                                    "TERMEKKOD": "06080333T"
                                },
                                {
                                    "MEGNEVEZES": "Ragasztó szalag KORES ",
                                    "TERMEKKOD": "06080334T"
                                },
                                {
                                    "MEGNEVEZES": "Ragasztó 9 g Pax",
                                    "TERMEKKOD": "06080335T"
                                },
                                {
                                    "MEGNEVEZES": "Ragasztó 8 g Pritt",
                                    "TERMEKKOD": "06080336T"
                                },
                                {
                                    "MEGNEVEZES": "Ragasztó Gyurma",
                                    "TERMEKKOD": "06080337T"
                                },
                                {
                                    "MEGNEVEZES": "Ragasztó kenőfejes Nebuló",
                                    "TERMEKKOD": "06080338T"
                                },
                                {
                                    "MEGNEVEZES": "Ragasztó kores",
                                    "TERMEKKOD": "06080339T"
                                },
                                {
                                    "MEGNEVEZES": "Vízfesték  12 színű nagy",
                                    "TERMEKKOD": "06080407T"
                                },
                                {
                                    "MEGNEVEZES": "Vízfesték 12 db-os ",
                                    "TERMEKKOD": "06080408T"
                                },
                                {
                                    "MEGNEVEZES": "Vízfesték 12 színű kerek",
                                    "TERMEKKOD": "06080409T"
                                },
                                {
                                    "MEGNEVEZES": "Vízfesték 12db-os kínai",
                                    "TERMEKKOD": "06080410T"
                                },
                                {
                                    "MEGNEVEZES": "Vonalzó 15 cm-es ESSELTE",
                                    "TERMEKKOD": "06080411T"
                                },
                                {
                                    "MEGNEVEZES": "Vonalzó 16 cm-es LIZZY",
                                    "TERMEKKOD": "06080412T"
                                },
                                {
                                    "MEGNEVEZES": "Vonalzó 30 cm",
                                    "TERMEKKOD": "06080413T"
                                },
                                {
                                    "MEGNEVEZES": "Vonalzó 20 cm-es ",
                                    "TERMEKKOD": "06080414T"
                                },
                                {
                                    "MEGNEVEZES": "Vonalzó 45 fokos",
                                    "TERMEKKOD": "06080415T"
                                },
                                {
                                    "MEGNEVEZES": "Vonalzó 60 fokos",
                                    "TERMEKKOD": "06080416T"
                                },
                                {
                                    "MEGNEVEZES": "Zászló papír",
                                    "TERMEKKOD": "06080417T"
                                },
                                {
                                    "MEGNEVEZES": "Füzettartó A/4",
                                    "TERMEKKOD": "06080422T"
                                },
                                {
                                    "MEGNEVEZES": "Beíró A/5 kockás",
                                    "TERMEKKOD": "06080423T"
                                },
                                {
                                    "MEGNEVEZES": "Füzetborító A/4 mintás",
                                    "TERMEKKOD": "06080424T"
                                },
                                {
                                    "MEGNEVEZES": "Szótárfüzet Lizzy",
                                    "TERMEKKOD": "06080426T"
                                },
                                {
                                    "MEGNEVEZES": "Ablakkréta",
                                    "TERMEKKOD": "06080427T"
                                },
                                {
                                    "MEGNEVEZES": "Ecsetkészlet",
                                    "TERMEKKOD": "06080428T"
                                },
                                {
                                    "MEGNEVEZES": "Meghívó ballagási",
                                    "TERMEKKOD": "06080429T"
                                },
                                {
                                    "MEGNEVEZES": "Öntapadős betűk",
                                    "TERMEKKOD": "06080430T"
                                },
                                {
                                    "MEGNEVEZES": "Gyurma 12 szinű",
                                    "TERMEKKOD": "06080440T"
                                },
                                {
                                    "MEGNEVEZES": "Gyurmakés",
                                    "TERMEKKOD": "06080441T"
                                },
                                {
                                    "MEGNEVEZES": "G.toll betét PAX",
                                    "TERMEKKOD": "07010136T"
                                },
                                {
                                    "MEGNEVEZES": "G.toll betét PAX tip.",
                                    "TERMEKKOD": "07010137T"
                                },
                                {
                                    "MEGNEVEZES": "G.toll betét jumbo",
                                    "TERMEKKOD": "07010138T"
                                },
                                {
                                    "MEGNEVEZES": "G.toll betét S7L ",
                                    "TERMEKKOD": "07010139T"
                                },
                                {
                                    "MEGNEVEZES": "G.toll betét Stabilo",
                                    "TERMEKKOD": "07010140T"
                                },
                                {
                                    "MEGNEVEZES": "G.toll betét Zebra F-0.7",
                                    "TERMEKKOD": "07010142T"
                                },
                                {
                                    "MEGNEVEZES": "G.toll betét Zebra H-0,7",
                                    "TERMEKKOD": "07010143T"
                                },
                                {
                                    "MEGNEVEZES": "G.toll betét Zebra K-0,7",
                                    "TERMEKKOD": "07010144T"
                                },
                                {
                                    "MEGNEVEZES": "Kerámiatoll",
                                    "TERMEKKOD": "07010244T"
                                },
                                {
                                    "MEGNEVEZES": "Színes ceruza 6-os",
                                    "TERMEKKOD": "07010371T"
                                },
                                {
                                    "MEGNEVEZES": "Színes ceruza 12 szín",
                                    "TERMEKKOD": "07010372T"
                                },
                                {
                                    "MEGNEVEZES": "Filctoll TINTEN PEN",
                                    "TERMEKKOD": "07030103T"
                                },
                                {
                                    "MEGNEVEZES": "Filctoll vastag ARTIP",
                                    "TERMEKKOD": "07030104T"
                                },
                                {
                                    "MEGNEVEZES": "Filctoll, alkoholos Centropen",
                                    "TERMEKKOD": "07030105T"
                                },
                                {
                                    "MEGNEVEZES": "Filctoll, alkoholosOHP F-M-C",
                                    "TERMEKKOD": "07030106T"
                                },
                                {
                                    "MEGNEVEZES": "Filctoll, textil Edding 4500",
                                    "TERMEKKOD": "07030107T"
                                },
                                {
                                    "MEGNEVEZES": "Ceruza 2H-4B",
                                    "TERMEKKOD": "07040047T"
                                },
                                {
                                    "MEGNEVEZES": "Ceruza arany, ezüst",
                                    "TERMEKKOD": "07040048T"
                                },
                                {
                                    "MEGNEVEZES": "Ceruza Conté zöld",
                                    "TERMEKKOD": "07040049T"
                                },
                                {
                                    "MEGNEVEZES": "Ceruza Cseh",
                                    "TERMEKKOD": "07040050T"
                                },
                                {
                                    "MEGNEVEZES": "Ceruza háromszög ",
                                    "TERMEKKOD": "07040051T"
                                },
                                {
                                    "MEGNEVEZES": "Ceruza 2H-3B Koh-i-nor",
                                    "TERMEKKOD": "07040052T"
                                },
                                {
                                    "MEGNEVEZES": "Ceruza HB radiros",
                                    "TERMEKKOD": "07040053T"
                                },
                                {
                                    "MEGNEVEZES": "Ceruza kártyás",
                                    "TERMEKKOD": "07040054T"
                                },
                                {
                                    "MEGNEVEZES": "Ceruza piros-kék",
                                    "TERMEKKOD": "07040055T"
                                },
                                {
                                    "MEGNEVEZES": "Ceruza piros-kék vékony",
                                    "TERMEKKOD": "07040056T"
                                },
                                {
                                    "MEGNEVEZES": "Ceruza Progresso",
                                    "TERMEKKOD": "07040057T"
                                },
                                {
                                    "MEGNEVEZES": "Ceruza smaragd",
                                    "TERMEKKOD": "07040059T"
                                },
                                {
                                    "MEGNEVEZES": "Ceruza stabilo swano",
                                    "TERMEKKOD": "07040060T"
                                },
                                {
                                    "MEGNEVEZES": "Ceruza stabilo opera",
                                    "TERMEKKOD": "07040061T"
                                },
                                {
                                    "MEGNEVEZES": "Filctoll ",
                                    "TERMEKKOD": "07040097T"
                                },
                                {
                                    "MEGNEVEZES": "Filctoll document pen",
                                    "TERMEKKOD": "07040098T"
                                },
                                {
                                    "MEGNEVEZES": "Filctoll Edding 750",
                                    "TERMEKKOD": "07040099T"
                                },
                                {
                                    "MEGNEVEZES": "Filctoll Marvy alkoholos",
                                    "TERMEKKOD": "07040100T"
                                },
                                {
                                    "MEGNEVEZES": "Filctoll permanent vastag",
                                    "TERMEKKOD": "07040101T"
                                },
                                {
                                    "MEGNEVEZES": "Filctoll supra fine",
                                    "TERMEKKOD": "07040102T"
                                },
                                {
                                    "MEGNEVEZES": "G. toll betét mini",
                                    "TERMEKKOD": "07040127T"
                                },
                                {
                                    "MEGNEVEZES": "G. toll betét mini fém",
                                    "TERMEKKOD": "07040128T"
                                },
                                {
                                    "MEGNEVEZES": "G. toll betét réz",
                                    "TERMEKKOD": "07040129T"
                                },
                                {
                                    "MEGNEVEZES": "G. toll betét S7S",
                                    "TERMEKKOD": "07040130T"
                                },
                                {
                                    "MEGNEVEZES": "G. toll betét UNI lachnok Fine SA-7C",
                                    "TERMEKKOD": "07040131T"
                                },
                                {
                                    "MEGNEVEZES": "G.toll betét csavaros",
                                    "TERMEKKOD": "07040132T"
                                },
                                {
                                    "MEGNEVEZES": "G.toll betét görbe hegyű",
                                    "TERMEKKOD": "07040133T"
                                },
                                {
                                    "MEGNEVEZES": "G.toll betét illatos",
                                    "TERMEKKOD": "07040134T"
                                },
                                {
                                    "MEGNEVEZES": "G.toll betét Parker ",
                                    "TERMEKKOD": "07040135T"
                                },
                                {
                                    "MEGNEVEZES": "Golyóstoll UNI laknock",
                                    "TERMEKKOD": "07040165T"
                                },
                                {
                                    "MEGNEVEZES": "Golyóstoll Zebra 301",
                                    "TERMEKKOD": "07040166T"
                                },
                                {
                                    "MEGNEVEZES": "Golyóstoll Zebra mini",
                                    "TERMEKKOD": "07040167T"
                                },
                                {
                                    "MEGNEVEZES": "Golyóstoll Zebra new hard",
                                    "TERMEKKOD": "07040168T"
                                },
                                {
                                    "MEGNEVEZES": "Golyóstoll Zodiák",
                                    "TERMEKKOD": "07040169T"
                                },
                                {
                                    "MEGNEVEZES": "Ironbél  2B ICO",
                                    "TERMEKKOD": "07040215T"
                                },
                                {
                                    "MEGNEVEZES": "Ironbél B 0,5",
                                    "TERMEKKOD": "07040216T"
                                },
                                {
                                    "MEGNEVEZES": "Ironbél H 0,5",
                                    "TERMEKKOD": "07040217T"
                                },
                                {
                                    "MEGNEVEZES": "Ironbél HB 0,5",
                                    "TERMEKKOD": "07040218T"
                                },
                                {
                                    "MEGNEVEZES": "Ironbél HI-POLIMER HB 0,7",
                                    "TERMEKKOD": "07040219T"
                                },
                                {
                                    "MEGNEVEZES": "Lakk filc Edding 750",
                                    "TERMEKKOD": "07040257T"
                                },
                                {
                                    "MEGNEVEZES": "Tintapatron 30 db-os kék",
                                    "TERMEKKOD": "07040389T"
                                },
                                {
                                    "MEGNEVEZES": "Toll Centropen roller",
                                    "TERMEKKOD": "07040391T"
                                },
                                {
                                    "MEGNEVEZES": "Töltőtoll tinta ",
                                    "TERMEKKOD": "07050462T"
                                },
                                {
                                    "MEGNEVEZES": "Ceruzafogó",
                                    "TERMEKKOD": "07050463T"
                                },
                                {
                                    "MEGNEVEZES": "Szövegkiemelő Staedtler",
                                    "TERMEKKOD": "07050464T"
                                },
                                {
                                    "MEGNEVEZES": "Ceruza szén",
                                    "TERMEKKOD": "07080062T"
                                },
                                {
                                    "MEGNEVEZES": "Ceruza szorzótáblás",
                                    "TERMEKKOD": "07080063T"
                                },
                                {
                                    "MEGNEVEZES": "Ceruza zöld színű",
                                    "TERMEKKOD": "07080064T"
                                },
                                {
                                    "MEGNEVEZES": "Golyóstoll",
                                    "TERMEKKOD": "07080150T"
                                },
                                {
                                    "MEGNEVEZES": "Golyóstoll + ceruza Twister 2in1",
                                    "TERMEKKOD": "07080151T"
                                },
                                {
                                    "MEGNEVEZES": "Golyóstoll 3 funkciós ",
                                    "TERMEKKOD": "07080152T"
                                },
                                {
                                    "MEGNEVEZES": "Golyóstoll illatos ICO",
                                    "TERMEKKOD": "07080153T"
                                },
                                {
                                    "MEGNEVEZES": "Golyóstoll INOXCROM",
                                    "TERMEKKOD": "07080154T"
                                },
                                {
                                    "MEGNEVEZES": "Golyóstoll",
                                    "TERMEKKOD": "07080155T"
                                },
                                {
                                    "MEGNEVEZES": "Golyóstoll kupakos piros",
                                    "TERMEKKOD": "07080156T"
                                },
                                {
                                    "MEGNEVEZES": "Golyóstoll Montex Hytone",
                                    "TERMEKKOD": "07080157T"
                                },
                                {
                                    "MEGNEVEZES": "Golyóstoll Parker tokban",
                                    "TERMEKKOD": "07080158T"
                                },
                                {
                                    "MEGNEVEZES": "Golyóstoll Pax tip.",
                                    "TERMEKKOD": "07080159T"
                                },
                                {
                                    "MEGNEVEZES": "Golyóstoll penac",
                                    "TERMEKKOD": "07080160T"
                                },
                                {
                                    "MEGNEVEZES": "Golyóstoll kétszínű",
                                    "TERMEKKOD": "07080161T"
                                },
                                {
                                    "MEGNEVEZES": "Golyóstoll Stabilo piros",
                                    "TERMEKKOD": "07080162T"
                                },
                                {
                                    "MEGNEVEZES": "Golyóstoll UNI átlátszó",
                                    "TERMEKKOD": "07080163T"
                                },
                                {
                                    "MEGNEVEZES": "Golyóstoll UNI gumis",
                                    "TERMEKKOD": "07080164T"
                                },
                                {
                                    "MEGNEVEZES": "Pixiron  UNI",
                                    "TERMEKKOD": "07080311T"
                                },
                                {
                                    "MEGNEVEZES": "Pixiron 0,7 Handy",
                                    "TERMEKKOD": "07080312T"
                                },
                                {
                                    "MEGNEVEZES": "Pixiron Centrum",
                                    "TERMEKKOD": "07080313T"
                                },
                                {
                                    "MEGNEVEZES": "Pixiron Handy fém",
                                    "TERMEKKOD": "07080314T"
                                },
                                {
                                    "MEGNEVEZES": "Pixiron Handy műanyag",
                                    "TERMEKKOD": "07080315T"
                                },
                                {
                                    "MEGNEVEZES": "Pixiron KOH-I-NOOR",
                                    "TERMEKKOD": "07080316T"
                                },
                                {
                                    "MEGNEVEZES": "Pixiron mini ",
                                    "TERMEKKOD": "07080317T"
                                },
                                {
                                    "MEGNEVEZES": "Pixiron Penac",
                                    "TERMEKKOD": "07080318T"
                                },
                                {
                                    "MEGNEVEZES": "Pixiron Pentel színes",
                                    "TERMEKKOD": "07080319T"
                                },
                                {
                                    "MEGNEVEZES": "Zselés toll ",
                                    "TERMEKKOD": "07080418T"
                                },
                                {
                                    "MEGNEVEZES": "Zselés toll MICRO",
                                    "TERMEKKOD": "07080419T"
                                },
                                {
                                    "MEGNEVEZES": "Zselés toll Muhnwa",
                                    "TERMEKKOD": "07080420T"
                                },
                                {
                                    "MEGNEVEZES": "Zseléstoll Lizzy Card",
                                    "TERMEKKOD": "07080421T"
                                },
                                {
                                    "MEGNEVEZES": "Golyóstoll Stabiló 308",
                                    "TERMEKKOD": "07080466T"
                                },
                                {
                                    "MEGNEVEZES": "Golyóstoll kétfunkciós ICO",
                                    "TERMEKKOD": "07080467T"
                                },
                                {
                                    "MEGNEVEZES": "Golyóstoll háromfunkciós",
                                    "TERMEKKOD": "07080468T"
                                },
                                {
                                    "MEGNEVEZES": "Golyóstoll UNIBALL 07",
                                    "TERMEKKOD": "07080469T"
                                },
                                {
                                    "MEGNEVEZES": "Golyóstoll háromszög",
                                    "TERMEKKOD": "07080470T"
                                },
                                {
                                    "MEGNEVEZES": "Golyóstoll levélbontós",
                                    "TERMEKKOD": "07080471T"
                                },
                                {
                                    "MEGNEVEZES": "A föld amelyen élünk - Európa földrajza",
                                    "TERMEKKOD": "08070472T"
                                },
                                {
                                    "MEGNEVEZES": "A föld amelyen élünk - Távoli földrészek",
                                    "TERMEKKOD": "08070473T"
                                },
                                {
                                    "MEGNEVEZES": "A föld amelyen élünk - Hazánk földrajza",
                                    "TERMEKKOD": "08070474T"
                                },
                                {
                                    "MEGNEVEZES": "A föld amelyen élünk - munkafüzet",
                                    "TERMEKKOD": "08070475T"
                                },
                                {
                                    "MEGNEVEZES": "Anyanyelvi gyakorló 2",
                                    "TERMEKKOD": "08070476T"
                                },
                                {
                                    "MEGNEVEZES": "Anyanyelvi gyakorló 3",
                                    "TERMEKKOD": "08070477T"
                                },
                                {
                                    "MEGNEVEZES": "Összefoglaló feladatgyüjtemény számtech.",
                                    "TERMEKKOD": "08070478T"
                                },
                                {
                                    "MEGNEVEZES": "Fizika",
                                    "TERMEKKOD": "08070479T"
                                },
                                {
                                    "MEGNEVEZES": "Fizika 13 éveseknek",
                                    "TERMEKKOD": "08070480T"
                                },
                                {
                                    "MEGNEVEZES": "Fizika munkafüzet 13 év.",
                                    "TERMEKKOD": "08070481T"
                                },
                                {
                                    "MEGNEVEZES": "Fizika munkafüzet 14 év.",
                                    "TERMEKKOD": "08070482T"
                                },
                                {
                                    "MEGNEVEZES": "Fizikai feladatok és tévedések",
                                    "TERMEKKOD": "08070483T"
                                },
                                {
                                    "MEGNEVEZES": "Fogalmazás lépésről lépésre",
                                    "TERMEKKOD": "08070484T"
                                },
                                {
                                    "MEGNEVEZES": "Jól felkészültem-e - Fizika",
                                    "TERMEKKOD": "08070485T"
                                },
                                {
                                    "MEGNEVEZES": "Matematika gyakorló 2",
                                    "TERMEKKOD": "08070486T"
                                },
                                {
                                    "MEGNEVEZES": "Matematika gyakorló 3",
                                    "TERMEKKOD": "08070487T"
                                },
                                {
                                    "MEGNEVEZES": "Matematika gyakorló 4",
                                    "TERMEKKOD": "08070488T"
                                },
                                {
                                    "MEGNEVEZES": "RAMba zárt világ",
                                    "TERMEKKOD": "08070489T"
                                },
                                {
                                    "MEGNEVEZES": "Szövegszerkesztés",
                                    "TERMEKKOD": "08070490T"
                                },
                                {
                                    "MEGNEVEZES": "Szám.tech. kicsiknek",
                                    "TERMEKKOD": "08070491T"
                                },
                                {
                                    "MEGNEVEZES": "Informatika",
                                    "TERMEKKOD": "08070492T"
                                },
                                {
                                    "MEGNEVEZES": "Érettségi felv. fel. Matematika",
                                    "TERMEKKOD": "08070493T"
                                },
                                {
                                    "MEGNEVEZES": "Érettségi felv. fel. Fizika",
                                    "TERMEKKOD": "08070494T"
                                },
                                {
                                    "MEGNEVEZES": "Érettségi felv. fel. Biológia",
                                    "TERMEKKOD": "08070495T"
                                },
                                {
                                    "MEGNEVEZES": "férfi szövet kabát",
                                    "TERMEKKOD": "F001-KB101"
                                },
                                {
                                    "MEGNEVEZES": "férfi farmer nadrág",
                                    "TERMEKKOD": "F007-NA201"
                                },
                                {
                                    "MEGNEVEZES": "férfi szövet nadrág",
                                    "TERMEKKOD": "F013-NA207"
                                },
                                {
                                    "MEGNEVEZES": "férfi ing",
                                    "TERMEKKOD": "F021-IN215"
                                },
                                {
                                    "MEGNEVEZES": "gyermek kabát (fiú)",
                                    "TERMEKKOD": "G001-KB101"
                                },
                                {
                                    "MEGNEVEZES": "gyermek farmer nadrág (fiú)",
                                    "TERMEKKOD": "G013-NA201"
                                },
                                {
                                    "MEGNEVEZES": "gyermek pamut nadrág (fiú)",
                                    "TERMEKKOD": "G019-NA207"
                                },
                                {
                                    "MEGNEVEZES": "fiú alsó",
                                    "TERMEKKOD": "G023-FE301"
                                },
                                {
                                    "MEGNEVEZES": "fiú zokni",
                                    "TERMEKKOD": "G029-FE307"
                                },
                                {
                                    "MEGNEVEZES": "fiú harisnya",
                                    "TERMEKKOD": "G038-FE316"
                                },
                                {
                                    "MEGNEVEZES": "fiú ünneplős ruha",
                                    "TERMEKKOD": "G041-AL211"
                                },
                                {
                                    "MEGNEVEZES": "gyermek póló (fiú)",
                                    "TERMEKKOD": "G048-PO218"
                                },
                                {
                                    "MEGNEVEZES": "gyermek szandál (fiú)",
                                    "TERMEKKOD": "G064-CI401"
                                },
                                {
                                    "MEGNEVEZES": "gyermek cipő (fiú)",
                                    "TERMEKKOD": "G073-CI410"
                                },
                                {
                                    "MEGNEVEZES": "gyermek csizma (fiú)",
                                    "TERMEKKOD": "G082-CI419"
                                },
                                {
                                    "MEGNEVEZES": "gyermek kabát (lány)",
                                    "TERMEKKOD": "L001-KB101"
                                },
                                {
                                    "MEGNEVEZES": "gyermek farmer nadrág (lány)",
                                    "TERMEKKOD": "L013-NA201"
                                },
                                {
                                    "MEGNEVEZES": "gyermek pamut nadrág (lány)",
                                    "TERMEKKOD": "L019-NA207"
                                },
                                {
                                    "MEGNEVEZES": "lány alsó",
                                    "TERMEKKOD": "L023-FE301"
                                },
                                {
                                    "MEGNEVEZES": "lány zokni",
                                    "TERMEKKOD": "L029-FE307"
                                },
                                {
                                    "MEGNEVEZES": "lány harisnya",
                                    "TERMEKKOD": "L033-FE311"
                                },
                                {
                                    "MEGNEVEZES": "lány ünneplős ruha",
                                    "TERMEKKOD": "L041-AL211"
                                },
                                {
                                    "MEGNEVEZES": "gyermek póló (lány)",
                                    "TERMEKKOD": "L048-PO218"
                                },
                                {
                                    "MEGNEVEZES": "gyermek szandál (lány)",
                                    "TERMEKKOD": "L064-CI401"
                                },
                                {
                                    "MEGNEVEZES": "gyermek cipő (lány)",
                                    "TERMEKKOD": "L073-CI410"
                                },
                                {
                                    "MEGNEVEZES": "gyermek csizma (lány)",
                                    "TERMEKKOD": "L082-CI419"
                                },
                                {
                                    "MEGNEVEZES": "női szövet kabát",
                                    "TERMEKKOD": "N001-KB101"
                                },
                                {
                                    "MEGNEVEZES": "női farmer nadrág",
                                    "TERMEKKOD": "N008-NA201"
                                },
                                {
                                    "MEGNEVEZES": "női alsó",
                                    "TERMEKKOD": "N019-FE301"
                                },
                                {
                                    "MEGNEVEZES": "női koktélruha",
                                    "TERMEKKOD": "N029-AL212"
                                },
                                {
                                    "MEGNEVEZES": "kosztüm (rövid)",
                                    "TERMEKKOD": "N035-AL218"
                                },
                                {
                                    "MEGNEVEZES": "kosztüm (hosszú)",
                                    "TERMEKKOD": "N039-AL222"
                                },
                                {
                                    "MEGNEVEZES": "sál",
                                    "TERMEKKOD": "U001-KI501"
                                }
                            ]
                        },
                        "text/html": "<table><tr><th>MEGNEVEZES</th><th>TERMEKKOD</th></tr><tr><td>félfamentes rajzlap A4 (10 lap)</td><td>01010001T</td></tr><tr><td>Fotópapír A/4 fényes</td><td>01010110T</td></tr><tr><td>Öntapadós hologramos papír A/4</td><td>01010304T</td></tr><tr><td>Oklevél A/4 egyszínű</td><td>01020299T</td></tr><tr><td>Oklevél A/4 színes</td><td>01020300T</td></tr><tr><td>Emléklap A/5</td><td>01030091T</td></tr><tr><td>Esküvői meghívó</td><td>01030092T</td></tr><tr><td>Előlap spirálhoz</td><td>01040502T</td></tr><tr><td>Fax papír 15 m</td><td>01080093T</td></tr><tr><td>Öntapadó A/4</td><td>01080512T</td></tr><tr><td>Selyemfényű karton A/4</td><td>01080513T</td></tr><tr><td>Színes karton A4</td><td>01090516T</td></tr><tr><td>Dekorációs karton</td><td>01100070T</td></tr><tr><td>Dekorációs karton arany, ezüst</td><td>01100071T</td></tr><tr><td>Fénymásoló papír DataCopy</td><td>01100094T</td></tr><tr><td>Fénymásoló papír GetCopy</td><td>01100095T</td></tr><tr><td>Fénymásoló papír Qconnect</td><td>01100096T</td></tr><tr><td>Színes másoló a/4 80g</td><td>01100496T</td></tr><tr><td>Fehér másoló A/3</td><td>01100504T</td></tr><tr><td>Fehér másoló A/4</td><td>01100505T</td></tr><tr><td>Márványos A/4</td><td>01100509T</td></tr><tr><td>Árazószalag </td><td>02010028T</td></tr><tr><td>Átírótömb A/6</td><td>02020029T</td></tr><tr><td>Beírókönyv A5 </td><td>02020032T</td></tr><tr><td>Beírókönyv A4</td><td>02020033T</td></tr><tr><td>Bevételi pénztárbizonylat 3×25</td><td>02020037T</td></tr><tr><td>Kiadási pénztárbizonylat 2×25</td><td>02020245T</td></tr><tr><td>Határidő napló A/6</td><td>02020444T</td></tr><tr><td>Boríték légp. kicsi</td><td>02030043T</td></tr><tr><td>irodai tűzőgép</td><td>02040002T</td></tr><tr><td>Álló irattartó karton</td><td>02040025T</td></tr><tr><td>Gemkapocs 28 mm</td><td>02040145T</td></tr><tr><td>Gemkapocs ICO</td><td>02040146T</td></tr><tr><td>Genotherm lefűzhető A4 10db-os</td><td>02040148T</td></tr><tr><td>Genotherm A4 10db-os</td><td>02040149T</td></tr><tr><td>Gyorsfűző műa.</td><td>02040177T</td></tr><tr><td>Gyorsfűző műa.</td><td>02040178T</td></tr><tr><td>Hibajav.roll.Pritt 4,2mm</td><td>02040194T</td></tr><tr><td>Hibajavító ecsetes Aqua</td><td>02040195T</td></tr><tr><td>Hibajavító készlet Blanco</td><td>02040196T</td></tr><tr><td>Hibajavító lap </td><td>02040197T</td></tr><tr><td>Hibajavító roller 5 mm</td><td>02040198T</td></tr><tr><td>Hibajavító roller Pax</td><td>02040199T</td></tr><tr><td>Hibajavító Kores mini pen</td><td>02040200T</td></tr><tr><td>Írásvetítő fólia</td><td>02040206T</td></tr><tr><td>Iratgyűjtő ESSELTE ablakos</td><td>02040207T</td></tr><tr><td>Iratgyűjtő fehér</td><td>02040208T</td></tr><tr><td>Iratsín fehér</td><td>02040209T</td></tr><tr><td>Iratsín kék</td><td>02040210T</td></tr><tr><td>Iratrendező ESSELTE</td><td>02040211T</td></tr><tr><td>Iromány fedél feles</td><td>02040214T</td></tr><tr><td>Naptár 24-es</td><td>02040290T</td></tr><tr><td>Naptárhát nagy</td><td>02040292T</td></tr><tr><td>Névjegytartó kicsi</td><td>02040293T</td></tr><tr><td>Notesz A/5 sima</td><td>02040294T</td></tr><tr><td>Notesz A/5 sima spirál</td><td>02040295T</td></tr><tr><td>Notesz A/6 College</td><td>02040296T</td></tr><tr><td>Notesz sima spirál College</td><td>02040297T</td></tr><tr><td>Notesz mintás</td><td>02040298T</td></tr><tr><td>Pénztárgépsz. 2 pl. nem öníró</td><td>02040308T</td></tr><tr><td>Pénztárgépszalag 2pl SC 57.5/60</td><td>02040309T</td></tr><tr><td>Tűzőgép Boxer 10</td><td>02040401T</td></tr><tr><td>Tűzőgép Boxer </td><td>02040402T</td></tr><tr><td>Tűzőgép SAX 239</td><td>02040403T</td></tr><tr><td>Tűzőgép EAGLE</td><td>02040404T</td></tr><tr><td>Tűzőkapocs 10-es</td><td>02040405T</td></tr><tr><td>Tűzőkapocs 24/6</td><td>02040406T</td></tr><tr><td>Fólia tasakos A4 125 mik.</td><td>02040506T</td></tr><tr><td>Fólia tasakos A4 80 mik.</td><td>02040507T</td></tr><tr><td>Fólia tasakos A4100 mik.</td><td>02040508T</td></tr><tr><td>Bélyegzőfesték </td><td>02060034T</td></tr><tr><td>Bélyegző IDEAL 50</td><td>02060038T</td></tr><tr><td>Bélyegző párna</td><td>02060039T</td></tr><tr><td>Bélyegző pocket</td><td>02060447T</td></tr><tr><td>Bélyegző RP 18-47</td><td>02060448T</td></tr><tr><td>CD tartó tok</td><td>02080069T</td></tr><tr><td>Dvd</td><td>02080081T</td></tr><tr><td>Floppy lemez</td><td>02080109T</td></tr><tr><td>Kapocskiszedő</td><td>02080226T</td></tr><tr><td>Álló irattartó</td><td>02080431T</td></tr><tr><td>Tokos iratrendező</td><td>02080432T</td></tr><tr><td>Ragasztószalag 19 mm-es</td><td>02080433T</td></tr><tr><td>Mappa müa A/4</td><td>02080434T</td></tr><tr><td>Mappa bemutató</td><td>02080435T</td></tr><tr><td>Irattartó müa. boríték A/4</td><td>02080436T</td></tr><tr><td>Térképtű színes</td><td>02080449T</td></tr><tr><td>Gémkapocs 28-as színes</td><td>02080450T</td></tr><tr><td>Gémkapocs 50-es</td><td>02080451T</td></tr><tr><td>Tűzőgép mini</td><td>02080452T</td></tr><tr><td>Lyukasztó EAGLE</td><td>02080453T</td></tr><tr><td>Lyukasztó BOXER</td><td>02080454T</td></tr><tr><td>Festékpatron BCI-3BK</td><td>02080455T</td></tr><tr><td>Genoterm HERLITZ 10-es</td><td>02080456T</td></tr><tr><td>Oki toner C</td><td>02080511T</td></tr><tr><td>Spirál 1/4 </td><td>02080514T</td></tr><tr><td>Ragasztószalag nagy 12 mm</td><td>03010344T</td></tr><tr><td>Ragasztószalag széles barna</td><td>03010345T</td></tr><tr><td>Díszkötöző szalag metál nagy</td><td>03050076T</td></tr><tr><td>Diszkötöző szalag arany</td><td>03050077T</td></tr><tr><td>Diszkötöző széles szalag</td><td>03050080T</td></tr><tr><td>Ajándék cs. tasak kicsi</td><td>03050457T</td></tr><tr><td>Ajándék cs. 2×100×70</td><td>03050458T</td></tr><tr><td>Talpas tasak</td><td>03050459T</td></tr><tr><td>Ajándék cs. tasak italos</td><td>03080003T</td></tr><tr><td>Ajándék cs. tasak italos, fólia</td><td>03080004T</td></tr><tr><td>Ajándék cs. tasak virágos nagy</td><td>03080005T</td></tr><tr><td>Ajándék cs. tasak mintás kicsi</td><td>03080006T</td></tr><tr><td>Ajándék cs. tasak mintás nagy</td><td>03080007T</td></tr><tr><td>Ajándék cs. tasak kicsi</td><td>03080008T</td></tr><tr><td>Ajándék csom. 100x70 metál</td><td>03080009T</td></tr><tr><td>Ajándék csom. 150x70</td><td>03080010T</td></tr><tr><td>Ajándék cs. tasak közepes</td><td>03080011T</td></tr><tr><td>Ajándék csom. 200x70</td><td>03080012T</td></tr><tr><td>Ajándék csom. 50x70 húsvéti</td><td>03080013T</td></tr><tr><td>Ajándék csom. 70x50 metál</td><td>03080014T</td></tr><tr><td>Ajándék csom. gyűrt</td><td>03080015T</td></tr><tr><td>házt.csom.  5 ív</td><td>03080016T</td></tr><tr><td>iskolai csomagoló papír</td><td>03080017T</td></tr><tr><td>Ajándék csom. gyűrt 50x70 </td><td>03080018T</td></tr><tr><td>Ajándék csom. Krepp</td><td>03080019T</td></tr><tr><td>Ajándék csom. nagy  </td><td>03080020T</td></tr><tr><td>Ajándék csom. vékony</td><td>03080021T</td></tr><tr><td>Ajándék cs. húsvéti 200x70</td><td>03080030T</td></tr><tr><td>Ajándék cs. húsvéti</td><td>03080031T</td></tr><tr><td>Ajándék csomagoló tasak</td><td>03080437T</td></tr><tr><td>Ajándék csomagoló tasak lézeres</td><td>03080438T</td></tr><tr><td>Italtartó doboz</td><td>03080439T</td></tr><tr><td>Határidő napló 2010-s</td><td>04020445T</td></tr><tr><td>Képeslap karácsonyi</td><td>04030234T</td></tr><tr><td>Képeslap karácsonyi borítékos</td><td>04030235T</td></tr><tr><td>Képeslap kerek</td><td>04030237T</td></tr><tr><td>Képeslap stancolt</td><td>04030238T</td></tr><tr><td>Képeslap stancolt szív</td><td>04030239T</td></tr><tr><td>Képeslap virágos +boríték</td><td>04030241T</td></tr><tr><td>Képeslap WD +boríték</td><td>04030242T</td></tr><tr><td>Képkirakó Dirib-darab</td><td>04030243T</td></tr><tr><td>Levélpapír állatos</td><td>04030261T</td></tr><tr><td>Levélpapír sima</td><td>04030262T</td></tr><tr><td>Levélpapír szett</td><td>04030263T</td></tr><tr><td>Levélpapír szett </td><td>04030264T</td></tr><tr><td>Levélpapír szett natur, mintás</td><td>04030265T</td></tr><tr><td>Levélpapír szett virágos</td><td>04030266T</td></tr><tr><td>Műanyag állatok</td><td>04030286T</td></tr><tr><td>Műanyag foszforeszkáló állat</td><td>04030287T</td></tr><tr><td>Emlékkönyv</td><td>04040090T</td></tr><tr><td>Tenisz labda</td><td>04040387T</td></tr><tr><td>Álarc</td><td>04050022T</td></tr><tr><td>Álarc fejdísz</td><td>04050023T</td></tr><tr><td>Álarc szemüveg</td><td>04050024T</td></tr><tr><td>Bérlet tok</td><td>04050035T</td></tr><tr><td>Díszdoboz kar.</td><td>04050073T</td></tr><tr><td>Díszdoboz tollnak 2 db-os</td><td>04050074T</td></tr><tr><td>Díszdoboz tollnak 2 db-os keskeny</td><td>04050075T</td></tr><tr><td>Gumilabda közepes</td><td>04050171T</td></tr><tr><td>Hajgumi macis</td><td>04050187T</td></tr><tr><td>Hűtőmágnes</td><td>04050203T</td></tr><tr><td>Hűtőmágnes WD</td><td>04050204T</td></tr><tr><td>Játék autó</td><td>04050220T</td></tr><tr><td>Játékautó Blisteres</td><td>04050221T</td></tr><tr><td>Játékautó elemes</td><td>04050222T</td></tr><tr><td>Játékautó mini</td><td>04050223T</td></tr><tr><td>Jelzőkréta</td><td>04050224T</td></tr><tr><td>Kártya mini Magyar</td><td>04050225T</td></tr><tr><td>Kulcstartó autós</td><td>04050250T</td></tr><tr><td>Kulcstartó billiárd golyós</td><td>04050251T</td></tr><tr><td>Kulcstartó Csőrikés</td><td>04050252T</td></tr><tr><td>Kulcstartó figurás</td><td>04050253T</td></tr><tr><td>Kulcstartó intarziás állatos</td><td>04050254T</td></tr><tr><td>Kulcstartó mesefigurás</td><td>04050255T</td></tr><tr><td>Kulcstartó nagyítós</td><td>04050256T</td></tr><tr><td>Logikai készlet</td><td>04050267T</td></tr><tr><td>Plüss  QX állatok</td><td>04050320T</td></tr><tr><td>Plüss kicsi</td><td>04050321T</td></tr><tr><td>Plüss sárkány</td><td>04050322T</td></tr><tr><td>Strandlabda </td><td>04050358T</td></tr><tr><td>Mappa bőr A5</td><td>04080270T</td></tr><tr><td>Mappa PVC villámzáras</td><td>04080271T</td></tr><tr><td>Mappa PVC villámzáras  képes</td><td>04080272T</td></tr><tr><td>Emlékkönyv</td><td>04080442T</td></tr><tr><td>Emlékkönyv lakatos</td><td>04080443T</td></tr><tr><td>Címke 8 db-os</td><td>04110066T</td></tr><tr><td>Címke WD. állat</td><td>04110067T</td></tr><tr><td>Címke egyszínű</td><td>04110068T</td></tr><tr><td>Képeslap  borítékos</td><td>04110227T</td></tr><tr><td>Képeslap &quot;Nászajándék&quot;</td><td>04110228T</td></tr><tr><td>Képeslap &quot;Részvét&quot;</td><td>04110229T</td></tr><tr><td>Képeslap humoros </td><td>04110230T</td></tr><tr><td>Képeslap humoros borítékos</td><td>04110231T</td></tr><tr><td>Képeslap humoros kaparós</td><td>04110232T</td></tr><tr><td>Képeslap humoros</td><td>04110233T</td></tr><tr><td>Lampion</td><td>04110258T</td></tr><tr><td>Matrica állatos</td><td>04110273T</td></tr><tr><td>Matrica autóra H</td><td>04110274T</td></tr><tr><td>Matrica motoros kicsi</td><td>04110275T</td></tr><tr><td>Matrica Stickers nagy állatos</td><td>04110276T</td></tr><tr><td>Matrica Stickers szíves</td><td>04110277T</td></tr><tr><td>Matrica Test ékszer tattoo</td><td>04110278T</td></tr><tr><td>Matrica tetoválás</td><td>04110279T</td></tr><tr><td>Matrica tetoválós kicsi</td><td>04110280T</td></tr><tr><td>Matrica világítós </td><td>04110281T</td></tr><tr><td>Matrica WD kicsi</td><td>04110282T</td></tr><tr><td>Meghívó állatos</td><td>04110283T</td></tr><tr><td>Meghívó borítékos</td><td>04110284T</td></tr><tr><td>Szalvéta gyűjtőknek</td><td>04110362T</td></tr><tr><td>Alufólia 10 m-es</td><td>05010026T</td></tr><tr><td>Alufólia 20 m-es</td><td>05010027T</td></tr><tr><td>Papízsebkendő,10db Szindy</td><td>05010306T</td></tr><tr><td>Szemetes zsák 60 literes</td><td>05010369T</td></tr><tr><td>Szilvia csomagoló</td><td>05010370T</td></tr><tr><td>Pill.ragasztó</td><td>05040310T</td></tr><tr><td>Rajzszeg színes</td><td>05040348T</td></tr><tr><td>Rajzszeg</td><td>05040349T</td></tr><tr><td>Celofán</td><td>05050045T</td></tr><tr><td>Celofán 50 db-os</td><td>05050046T</td></tr><tr><td>Gumigyűrű</td><td>05050170T</td></tr><tr><td>Rágógumi Orbit</td><td>05050346T</td></tr><tr><td>Tapétavágó kés</td><td>05050465T</td></tr><tr><td>Ragasztó, Technokol 35g kék</td><td>05080340T</td></tr><tr><td>Ragasztó, Technokol 35g piros</td><td>05080341T</td></tr><tr><td>Szalvéta </td><td>05110359T</td></tr><tr><td>Szalvéta egyszínű</td><td>05110360T</td></tr><tr><td>Szalvéta Goma húsvéti</td><td>05110361T</td></tr><tr><td>Szalvéta dekor</td><td>05110363T</td></tr><tr><td>Szalvéta kicsi virágos</td><td>05110364T</td></tr><tr><td>Betűtartó sin</td><td>06010036T</td></tr><tr><td>Ecset Centrum 10,11,12</td><td>06010082T</td></tr><tr><td>Ecset Centrum 7,8,9</td><td>06010083T</td></tr><tr><td>Ecset Deák 2-es</td><td>06010084T</td></tr><tr><td>Ecset Lizzy 10-es</td><td>06010085T</td></tr><tr><td>Ecset Nebulo 4-es</td><td>06010086T</td></tr><tr><td>Füzet  A/4 </td><td>06010111T</td></tr><tr><td>Füzet  A4 mintás</td><td>06010112T</td></tr><tr><td>Füzet 31-32 szótár</td><td>06010113T</td></tr><tr><td>Füzet A/5 hangjegy 36/16</td><td>06010114T</td></tr><tr><td>Füzet A/5, mintás</td><td>06010115T</td></tr><tr><td>Hőmérő, műa.</td><td>06010201T</td></tr><tr><td>Hurkapálca 10 db-os</td><td>06010202T</td></tr><tr><td>Ragasztószalag 19 mm-es SCOTCH+ tépő</td><td>06010343T</td></tr><tr><td>Számegyenes</td><td>06010365T</td></tr><tr><td>Számológép Roxin</td><td>06010366T</td></tr><tr><td>Számolókorong</td><td>06010367T</td></tr><tr><td>Számolópálca</td><td>06010368T</td></tr><tr><td>Színes papír I.II-IV.V-VIII-ig</td><td>06010373T</td></tr><tr><td>Szorzótábla műanyag</td><td>06010374T</td></tr><tr><td>Szögmérő 180 fokos műa.</td><td>06010375T</td></tr><tr><td>Ecset Nebuló 10-es</td><td>06040087T</td></tr><tr><td>Egészségügyi könyv</td><td>06040088T</td></tr><tr><td>Gumis mappa csomagolt</td><td>06040172T</td></tr><tr><td>Gumis mappa fóliázott állatos</td><td>06040173T</td></tr><tr><td>Gumis mappa </td><td>06040174T</td></tr><tr><td>Gumis mappa Köbüki</td><td>06040175T</td></tr><tr><td>Gyurma színes 200 g-os</td><td>06040179T</td></tr><tr><td>Gyurma színes natúr</td><td>06040180T</td></tr><tr><td>Gyűrűskönyv bet. A/4</td><td>06040182T</td></tr><tr><td>Gyűrűskönyv bet. A/5</td><td>06040183T</td></tr><tr><td>Gyűrűskönyv betét A/5</td><td>06040184T</td></tr><tr><td>Gyűrűskönyv</td><td>06040185T</td></tr><tr><td>Gyűrűskönyv színes</td><td>06040186T</td></tr><tr><td>Írólap 10-50 ffam.</td><td>06040212T</td></tr><tr><td>Írólap 20-50 </td><td>06040213T</td></tr><tr><td>Körző</td><td>06040246T</td></tr><tr><td>Körzőhegy grafit</td><td>06040247T</td></tr><tr><td>Körző maped</td><td>06040248T</td></tr><tr><td>Post-it 51×38 100 lapos</td><td>06040323T</td></tr><tr><td>Post-it 75×75 100 lapos</td><td>06040324T</td></tr><tr><td>Radír gyümölcsös</td><td>06040325T</td></tr><tr><td>Radír KOH-I-NOR 80</td><td>06040326T</td></tr><tr><td>Radír Koh-i-nor 40</td><td>06040327T</td></tr><tr><td>Radír Maped</td><td>06040328T</td></tr><tr><td>Radír stabilo</td><td>06040329T</td></tr><tr><td>Radír Tikky 30 </td><td>06040330T</td></tr><tr><td>Radír Tikky 40 </td><td>06040331T</td></tr><tr><td>Rajzlap A/4 10db ffam.</td><td>06040347T</td></tr><tr><td>Regiszteres füzet A4</td><td>06040350T</td></tr><tr><td>Regiszteres füzet A5 Hightech</td><td>06040351T</td></tr><tr><td>Rovatolt papír 20 íves</td><td>06040352T</td></tr><tr><td>Sp.Füzet A/4  perforált, lyuk.</td><td>06040354T</td></tr><tr><td>Sp.Füzet A/4 70-as</td><td>06040355T</td></tr><tr><td>Sp.Füzet A/4  70es</td><td>06040356T</td></tr><tr><td>Sp.Füzet A/5 70-es</td><td>06040357T</td></tr><tr><td>Szövegkiemelő vékony</td><td>06040378T</td></tr><tr><td>Szövegkiemelő </td><td>06040379T</td></tr><tr><td>Szövegkiemelő</td><td>06040380T</td></tr><tr><td>Szövegkiemelő Videotip</td><td>06040381T</td></tr><tr><td>Táblafilc</td><td>06040382T</td></tr><tr><td>Taffet papír</td><td>06040383T</td></tr><tr><td>Technika cs. I-II-III-IV</td><td>06040384T</td></tr><tr><td>Tempera szóló ezüst</td><td>06040385T</td></tr><tr><td>Tempera szóló színes</td><td>06040386T</td></tr><tr><td>Tolltartó 1 zipzáros</td><td>06040392T</td></tr><tr><td>Tolltartó 2 részes NG.</td><td>06040393T</td></tr><tr><td>Tolltartó zipzáras</td><td>06040394T</td></tr><tr><td>Tolltartó 2 zipzáros töltött</td><td>06040395T</td></tr><tr><td>Tolltartó Garfield</td><td>06040396T</td></tr><tr><td>Tolltartó asztali</td><td>06040397T</td></tr><tr><td>Tolltartó hengeres </td><td>06040398T</td></tr><tr><td>Tombola tömb</td><td>06040399T</td></tr><tr><td>Tornazsák</td><td>06040400T</td></tr><tr><td>Számológép tudományos</td><td>06040446T</td></tr><tr><td>Krepp papír</td><td>06050249T</td></tr><tr><td>Olló gyerek </td><td>06050301T</td></tr><tr><td>Olló Tagit 18 cm-es</td><td>06050302T</td></tr><tr><td>Olló, iskolai</td><td>06050303T</td></tr><tr><td>Füzet A5 1-8 osz.-ig</td><td>06080116T</td></tr><tr><td>Füzetborító mesefig.</td><td>06080119T</td></tr><tr><td>Füzetborító öntapadó kicsi</td><td>06080120T</td></tr><tr><td>Füzetborító öntapadó tekercses</td><td>06080121T</td></tr><tr><td>Füzetborító öntapadós nagy</td><td>06080122T</td></tr><tr><td>Füzettartó A/4 keménytáblás</td><td>06080123T</td></tr><tr><td>Füzettartó A/4 keménytáblás</td><td>06080124T</td></tr><tr><td>Füzettartó A/5 vastag</td><td>06080125T</td></tr><tr><td>Füzettartó A/5  </td><td>06080126T</td></tr><tr><td>Hegyező gép</td><td>06080188T</td></tr><tr><td>Hegyező műanyag dupla</td><td>06080189T</td></tr><tr><td>Hegyező műanyag egyes</td><td>06080190T</td></tr><tr><td>Hegyező tartályos egyes</td><td>06080191T</td></tr><tr><td>Hegyző fém 1 lyukú</td><td>06080192T</td></tr><tr><td>Hegyző fém 2 lyukú</td><td>06080193T</td></tr><tr><td>Leckefüzet</td><td>06080259T</td></tr><tr><td>Radírtoll betét ER100</td><td>06080332T</td></tr><tr><td>Radírtoll betét vastag</td><td>06080333T</td></tr><tr><td>Ragasztó szalag KORES </td><td>06080334T</td></tr><tr><td>Ragasztó 9 g Pax</td><td>06080335T</td></tr><tr><td>Ragasztó 8 g Pritt</td><td>06080336T</td></tr><tr><td>Ragasztó Gyurma</td><td>06080337T</td></tr><tr><td>Ragasztó kenőfejes Nebuló</td><td>06080338T</td></tr><tr><td>Ragasztó kores</td><td>06080339T</td></tr><tr><td>Vízfesték  12 színű nagy</td><td>06080407T</td></tr><tr><td>Vízfesték 12 db-os </td><td>06080408T</td></tr><tr><td>Vízfesték 12 színű kerek</td><td>06080409T</td></tr><tr><td>Vízfesték 12db-os kínai</td><td>06080410T</td></tr><tr><td>Vonalzó 15 cm-es ESSELTE</td><td>06080411T</td></tr><tr><td>Vonalzó 16 cm-es LIZZY</td><td>06080412T</td></tr><tr><td>Vonalzó 30 cm</td><td>06080413T</td></tr><tr><td>Vonalzó 20 cm-es </td><td>06080414T</td></tr><tr><td>Vonalzó 45 fokos</td><td>06080415T</td></tr><tr><td>Vonalzó 60 fokos</td><td>06080416T</td></tr><tr><td>Zászló papír</td><td>06080417T</td></tr><tr><td>Füzettartó A/4</td><td>06080422T</td></tr><tr><td>Beíró A/5 kockás</td><td>06080423T</td></tr><tr><td>Füzetborító A/4 mintás</td><td>06080424T</td></tr><tr><td>Szótárfüzet Lizzy</td><td>06080426T</td></tr><tr><td>Ablakkréta</td><td>06080427T</td></tr><tr><td>Ecsetkészlet</td><td>06080428T</td></tr><tr><td>Meghívó ballagási</td><td>06080429T</td></tr><tr><td>Öntapadős betűk</td><td>06080430T</td></tr><tr><td>Gyurma 12 szinű</td><td>06080440T</td></tr><tr><td>Gyurmakés</td><td>06080441T</td></tr><tr><td>G.toll betét PAX</td><td>07010136T</td></tr><tr><td>G.toll betét PAX tip.</td><td>07010137T</td></tr><tr><td>G.toll betét jumbo</td><td>07010138T</td></tr><tr><td>G.toll betét S7L </td><td>07010139T</td></tr><tr><td>G.toll betét Stabilo</td><td>07010140T</td></tr><tr><td>G.toll betét Zebra F-0.7</td><td>07010142T</td></tr><tr><td>G.toll betét Zebra H-0,7</td><td>07010143T</td></tr><tr><td>G.toll betét Zebra K-0,7</td><td>07010144T</td></tr><tr><td>Kerámiatoll</td><td>07010244T</td></tr><tr><td>Színes ceruza 6-os</td><td>07010371T</td></tr><tr><td>Színes ceruza 12 szín</td><td>07010372T</td></tr><tr><td>Filctoll TINTEN PEN</td><td>07030103T</td></tr><tr><td>Filctoll vastag ARTIP</td><td>07030104T</td></tr><tr><td>Filctoll, alkoholos Centropen</td><td>07030105T</td></tr><tr><td>Filctoll, alkoholosOHP F-M-C</td><td>07030106T</td></tr><tr><td>Filctoll, textil Edding 4500</td><td>07030107T</td></tr><tr><td>Ceruza 2H-4B</td><td>07040047T</td></tr><tr><td>Ceruza arany, ezüst</td><td>07040048T</td></tr><tr><td>Ceruza Conté zöld</td><td>07040049T</td></tr><tr><td>Ceruza Cseh</td><td>07040050T</td></tr><tr><td>Ceruza háromszög </td><td>07040051T</td></tr><tr><td>Ceruza 2H-3B Koh-i-nor</td><td>07040052T</td></tr><tr><td>Ceruza HB radiros</td><td>07040053T</td></tr><tr><td>Ceruza kártyás</td><td>07040054T</td></tr><tr><td>Ceruza piros-kék</td><td>07040055T</td></tr><tr><td>Ceruza piros-kék vékony</td><td>07040056T</td></tr><tr><td>Ceruza Progresso</td><td>07040057T</td></tr><tr><td>Ceruza smaragd</td><td>07040059T</td></tr><tr><td>Ceruza stabilo swano</td><td>07040060T</td></tr><tr><td>Ceruza stabilo opera</td><td>07040061T</td></tr><tr><td>Filctoll </td><td>07040097T</td></tr><tr><td>Filctoll document pen</td><td>07040098T</td></tr><tr><td>Filctoll Edding 750</td><td>07040099T</td></tr><tr><td>Filctoll Marvy alkoholos</td><td>07040100T</td></tr><tr><td>Filctoll permanent vastag</td><td>07040101T</td></tr><tr><td>Filctoll supra fine</td><td>07040102T</td></tr><tr><td>G. toll betét mini</td><td>07040127T</td></tr><tr><td>G. toll betét mini fém</td><td>07040128T</td></tr><tr><td>G. toll betét réz</td><td>07040129T</td></tr><tr><td>G. toll betét S7S</td><td>07040130T</td></tr><tr><td>G. toll betét UNI lachnok Fine SA-7C</td><td>07040131T</td></tr><tr><td>G.toll betét csavaros</td><td>07040132T</td></tr><tr><td>G.toll betét görbe hegyű</td><td>07040133T</td></tr><tr><td>G.toll betét illatos</td><td>07040134T</td></tr><tr><td>G.toll betét Parker </td><td>07040135T</td></tr><tr><td>Golyóstoll UNI laknock</td><td>07040165T</td></tr><tr><td>Golyóstoll Zebra 301</td><td>07040166T</td></tr><tr><td>Golyóstoll Zebra mini</td><td>07040167T</td></tr><tr><td>Golyóstoll Zebra new hard</td><td>07040168T</td></tr><tr><td>Golyóstoll Zodiák</td><td>07040169T</td></tr><tr><td>Ironbél  2B ICO</td><td>07040215T</td></tr><tr><td>Ironbél B 0,5</td><td>07040216T</td></tr><tr><td>Ironbél H 0,5</td><td>07040217T</td></tr><tr><td>Ironbél HB 0,5</td><td>07040218T</td></tr><tr><td>Ironbél HI-POLIMER HB 0,7</td><td>07040219T</td></tr><tr><td>Lakk filc Edding 750</td><td>07040257T</td></tr><tr><td>Tintapatron 30 db-os kék</td><td>07040389T</td></tr><tr><td>Toll Centropen roller</td><td>07040391T</td></tr><tr><td>Töltőtoll tinta </td><td>07050462T</td></tr><tr><td>Ceruzafogó</td><td>07050463T</td></tr><tr><td>Szövegkiemelő Staedtler</td><td>07050464T</td></tr><tr><td>Ceruza szén</td><td>07080062T</td></tr><tr><td>Ceruza szorzótáblás</td><td>07080063T</td></tr><tr><td>Ceruza zöld színű</td><td>07080064T</td></tr><tr><td>Golyóstoll</td><td>07080150T</td></tr><tr><td>Golyóstoll + ceruza Twister 2in1</td><td>07080151T</td></tr><tr><td>Golyóstoll 3 funkciós </td><td>07080152T</td></tr><tr><td>Golyóstoll illatos ICO</td><td>07080153T</td></tr><tr><td>Golyóstoll INOXCROM</td><td>07080154T</td></tr><tr><td>Golyóstoll</td><td>07080155T</td></tr><tr><td>Golyóstoll kupakos piros</td><td>07080156T</td></tr><tr><td>Golyóstoll Montex Hytone</td><td>07080157T</td></tr><tr><td>Golyóstoll Parker tokban</td><td>07080158T</td></tr><tr><td>Golyóstoll Pax tip.</td><td>07080159T</td></tr><tr><td>Golyóstoll penac</td><td>07080160T</td></tr><tr><td>Golyóstoll kétszínű</td><td>07080161T</td></tr><tr><td>Golyóstoll Stabilo piros</td><td>07080162T</td></tr><tr><td>Golyóstoll UNI átlátszó</td><td>07080163T</td></tr><tr><td>Golyóstoll UNI gumis</td><td>07080164T</td></tr><tr><td>Pixiron  UNI</td><td>07080311T</td></tr><tr><td>Pixiron 0,7 Handy</td><td>07080312T</td></tr><tr><td>Pixiron Centrum</td><td>07080313T</td></tr><tr><td>Pixiron Handy fém</td><td>07080314T</td></tr><tr><td>Pixiron Handy műanyag</td><td>07080315T</td></tr><tr><td>Pixiron KOH-I-NOOR</td><td>07080316T</td></tr><tr><td>Pixiron mini </td><td>07080317T</td></tr><tr><td>Pixiron Penac</td><td>07080318T</td></tr><tr><td>Pixiron Pentel színes</td><td>07080319T</td></tr><tr><td>Zselés toll </td><td>07080418T</td></tr><tr><td>Zselés toll MICRO</td><td>07080419T</td></tr><tr><td>Zselés toll Muhnwa</td><td>07080420T</td></tr><tr><td>Zseléstoll Lizzy Card</td><td>07080421T</td></tr><tr><td>Golyóstoll Stabiló 308</td><td>07080466T</td></tr><tr><td>Golyóstoll kétfunkciós ICO</td><td>07080467T</td></tr><tr><td>Golyóstoll háromfunkciós</td><td>07080468T</td></tr><tr><td>Golyóstoll UNIBALL 07</td><td>07080469T</td></tr><tr><td>Golyóstoll háromszög</td><td>07080470T</td></tr><tr><td>Golyóstoll levélbontós</td><td>07080471T</td></tr><tr><td>A föld amelyen élünk - Európa földrajza</td><td>08070472T</td></tr><tr><td>A föld amelyen élünk - Távoli földrészek</td><td>08070473T</td></tr><tr><td>A föld amelyen élünk - Hazánk földrajza</td><td>08070474T</td></tr><tr><td>A föld amelyen élünk - munkafüzet</td><td>08070475T</td></tr><tr><td>Anyanyelvi gyakorló 2</td><td>08070476T</td></tr><tr><td>Anyanyelvi gyakorló 3</td><td>08070477T</td></tr><tr><td>Összefoglaló feladatgyüjtemény számtech.</td><td>08070478T</td></tr><tr><td>Fizika</td><td>08070479T</td></tr><tr><td>Fizika 13 éveseknek</td><td>08070480T</td></tr><tr><td>Fizika munkafüzet 13 év.</td><td>08070481T</td></tr><tr><td>Fizika munkafüzet 14 év.</td><td>08070482T</td></tr><tr><td>Fizikai feladatok és tévedések</td><td>08070483T</td></tr><tr><td>Fogalmazás lépésről lépésre</td><td>08070484T</td></tr><tr><td>Jól felkészültem-e - Fizika</td><td>08070485T</td></tr><tr><td>Matematika gyakorló 2</td><td>08070486T</td></tr><tr><td>Matematika gyakorló 3</td><td>08070487T</td></tr><tr><td>Matematika gyakorló 4</td><td>08070488T</td></tr><tr><td>RAMba zárt világ</td><td>08070489T</td></tr><tr><td>Szövegszerkesztés</td><td>08070490T</td></tr><tr><td>Szám.tech. kicsiknek</td><td>08070491T</td></tr><tr><td>Informatika</td><td>08070492T</td></tr><tr><td>Érettségi felv. fel. Matematika</td><td>08070493T</td></tr><tr><td>Érettségi felv. fel. Fizika</td><td>08070494T</td></tr><tr><td>Érettségi felv. fel. Biológia</td><td>08070495T</td></tr><tr><td>férfi szövet kabát</td><td>F001-KB101</td></tr><tr><td>férfi farmer nadrág</td><td>F007-NA201</td></tr><tr><td>férfi szövet nadrág</td><td>F013-NA207</td></tr><tr><td>férfi ing</td><td>F021-IN215</td></tr><tr><td>gyermek kabát (fiú)</td><td>G001-KB101</td></tr><tr><td>gyermek farmer nadrág (fiú)</td><td>G013-NA201</td></tr><tr><td>gyermek pamut nadrág (fiú)</td><td>G019-NA207</td></tr><tr><td>fiú alsó</td><td>G023-FE301</td></tr><tr><td>fiú zokni</td><td>G029-FE307</td></tr><tr><td>fiú harisnya</td><td>G038-FE316</td></tr><tr><td>fiú ünneplős ruha</td><td>G041-AL211</td></tr><tr><td>gyermek póló (fiú)</td><td>G048-PO218</td></tr><tr><td>gyermek szandál (fiú)</td><td>G064-CI401</td></tr><tr><td>gyermek cipő (fiú)</td><td>G073-CI410</td></tr><tr><td>gyermek csizma (fiú)</td><td>G082-CI419</td></tr><tr><td>gyermek kabát (lány)</td><td>L001-KB101</td></tr><tr><td>gyermek farmer nadrág (lány)</td><td>L013-NA201</td></tr><tr><td>gyermek pamut nadrág (lány)</td><td>L019-NA207</td></tr><tr><td>lány alsó</td><td>L023-FE301</td></tr><tr><td>lány zokni</td><td>L029-FE307</td></tr><tr><td>lány harisnya</td><td>L033-FE311</td></tr><tr><td>lány ünneplős ruha</td><td>L041-AL211</td></tr><tr><td>gyermek póló (lány)</td><td>L048-PO218</td></tr><tr><td>gyermek szandál (lány)</td><td>L064-CI401</td></tr><tr><td>gyermek cipő (lány)</td><td>L073-CI410</td></tr><tr><td>gyermek csizma (lány)</td><td>L082-CI419</td></tr><tr><td>női szövet kabát</td><td>N001-KB101</td></tr><tr><td>női farmer nadrág</td><td>N008-NA201</td></tr><tr><td>női alsó</td><td>N019-FE301</td></tr><tr><td>női koktélruha</td><td>N029-AL212</td></tr><tr><td>kosztüm (rövid)</td><td>N035-AL218</td></tr><tr><td>kosztüm (hosszú)</td><td>N039-AL222</td></tr><tr><td>sál</td><td>U001-KI501</td></tr></table>"
                    },
                    "metadata": {}
                }
            ],
            "execution_count": 17
        },
        {
            "cell_type": "markdown",
            "source": [
                "11. <span style=\"background-color: rgb(255, 255, 255); color: rgb(0, 0, 0); font-family: &quot;Open Sans&quot;, sans-serif; font-size: 14.44px;\">Melyik hónapokban adtak le az ügyfelek több rendelést, mint januárban?&nbsp;</span> \n",
                "\n",
                "a. Elég a hónapok sorszámait megjeleníteni. \n",
                "\n",
                "b. A listát rendezzük a hónapok száma szerint növekvő sorrendbe!"
            ],
            "metadata": {
                "azdata_cell_guid": "7f5fc7a7-3b6a-4d89-b292-490830afb0c6"
            },
            "attachments": {}
        },
        {
            "cell_type": "code",
            "source": [
                "SELECT  MONTH(REND_DATUM) AS 'Hónap',\r\n",
                "        COUNT(SORSZAM) AS 'Rendelések'\r\n",
                "FROM Rendeles\r\n",
                "GROUP BY MONTH(REND_DATUM)\r\n",
                "HAVING COUNT(SORSZAM) > (\r\n",
                "    SELECT COUNT(SORSZAM)\r\n",
                "    FROM Rendeles\r\n",
                "    WHERE MONTH(REND_DATUM) = 1\r\n",
                ")\r\n",
                "ORDER BY MONTH(REND_DATUM)"
            ],
            "metadata": {
                "azdata_cell_guid": "4a9ece40-f782-4c0d-92cd-9c21969067ed",
                "language": "sql"
            },
            "outputs": [
                {
                    "output_type": "display_data",
                    "data": {
                        "text/html": "(5 rows affected)"
                    },
                    "metadata": {}
                },
                {
                    "output_type": "display_data",
                    "data": {
                        "text/html": "Total execution time: 00:00:00.136"
                    },
                    "metadata": {}
                },
                {
                    "output_type": "execute_result",
                    "execution_count": 5,
                    "data": {
                        "application/vnd.dataresource+json": {
                            "schema": {
                                "fields": [
                                    {
                                        "name": "Hónap"
                                    },
                                    {
                                        "name": "Rendelés"
                                    }
                                ]
                            },
                            "data": [
                                {
                                    "Hónap": "3",
                                    "Rendelés": "2516"
                                },
                                {
                                    "Hónap": "7",
                                    "Rendelés": "2444"
                                },
                                {
                                    "Hónap": "8",
                                    "Rendelés": "2550"
                                },
                                {
                                    "Hónap": "10",
                                    "Rendelés": "2510"
                                },
                                {
                                    "Hónap": "12",
                                    "Rendelés": "2487"
                                }
                            ]
                        },
                        "text/html": "<table><tr><th>Hónap</th><th>Rendelés</th></tr><tr><td>3</td><td>2516</td></tr><tr><td>7</td><td>2444</td></tr><tr><td>8</td><td>2550</td></tr><tr><td>10</td><td>2510</td></tr><tr><td>12</td><td>2487</td></tr></table>"
                    },
                    "metadata": {}
                }
            ],
            "execution_count": 5
        },
        {
            "cell_type": "markdown",
            "source": [
                "12. <span style=\"background-color: rgb(255, 255, 255); color: rgb(0, 0, 0); font-family: &quot;Open Sans&quot;, sans-serif; font-size: 14.44px;\">Melyek azok a termékek, amelyek listaára az átlagostól max. 20%-kal tér el?&nbsp;</span> \n",
                "\n",
                "a. A termék kódját és nevét is jelenítsük meg!"
            ],
            "metadata": {
                "azdata_cell_guid": "5a483c52-bb98-44bb-bd03-1146d4b0abfa"
            },
            "attachments": {}
        },
        {
            "cell_type": "code",
            "source": [
                "SELECT  TERMEKKOD,\r\n",
                "        MEGNEVEZES,\r\n",
                "        LISTAAR\r\n",
                "FROM Termek\r\n",
                "WHERE LISTAAR > (\r\n",
                "    SELECT AVG(LISTAAR) * 0.8\r\n",
                "    FROM Termek\r\n",
                ") AND \r\n",
                "LISTAAR > (\r\n",
                "    SELECT AVG(LISTAAR) * 1.2\r\n",
                "    FROM Termek\r\n",
                ")"
            ],
            "metadata": {
                "azdata_cell_guid": "dd6e89bd-08f9-4b18-8460-03c45b503df0",
                "language": "sql"
            },
            "outputs": [
                {
                    "output_type": "display_data",
                    "data": {
                        "text/html": "(42 rows affected)"
                    },
                    "metadata": {}
                },
                {
                    "output_type": "display_data",
                    "data": {
                        "text/html": "Total execution time: 00:00:01.004"
                    },
                    "metadata": {}
                },
                {
                    "output_type": "execute_result",
                    "execution_count": 2,
                    "data": {
                        "application/vnd.dataresource+json": {
                            "schema": {
                                "fields": [
                                    {
                                        "name": "TERMEKKOD"
                                    },
                                    {
                                        "name": "MEGNEVEZES"
                                    },
                                    {
                                        "name": "LISTAAR"
                                    }
                                ]
                            },
                            "data": [
                                {
                                    "TERMEKKOD": "01080512T",
                                    "MEGNEVEZES": "Öntapadó A/4",
                                    "LISTAAR": "4575"
                                },
                                {
                                    "TERMEKKOD": "01100496T",
                                    "MEGNEVEZES": "Színes másoló a/4 80g",
                                    "LISTAAR": "1500"
                                },
                                {
                                    "TERMEKKOD": "01100504T",
                                    "MEGNEVEZES": "Fehér másoló A/3",
                                    "LISTAAR": "1488"
                                },
                                {
                                    "TERMEKKOD": "02040002T",
                                    "MEGNEVEZES": "irodai tűzőgép",
                                    "LISTAAR": "2100"
                                },
                                {
                                    "TERMEKKOD": "02040403T",
                                    "MEGNEVEZES": "Tűzőgép SAX 239",
                                    "LISTAAR": "1351"
                                },
                                {
                                    "TERMEKKOD": "02060447T",
                                    "MEGNEVEZES": "Bélyegző pocket",
                                    "LISTAAR": "1377"
                                },
                                {
                                    "TERMEKKOD": "02060448T",
                                    "MEGNEVEZES": "Bélyegző RP 18-47",
                                    "LISTAAR": "1147"
                                },
                                {
                                    "TERMEKKOD": "02080511T",
                                    "MEGNEVEZES": "Oki toner C",
                                    "LISTAAR": "14250"
                                },
                                {
                                    "TERMEKKOD": "04080270T",
                                    "MEGNEVEZES": "Mappa bőr A5",
                                    "LISTAAR": "1765"
                                },
                                {
                                    "TERMEKKOD": "06040446T",
                                    "MEGNEVEZES": "Számológép tudományos",
                                    "LISTAAR": "1173"
                                },
                                {
                                    "TERMEKKOD": "07080152T",
                                    "MEGNEVEZES": "Golyóstoll 3 funkciós ",
                                    "LISTAAR": "1019"
                                },
                                {
                                    "TERMEKKOD": "08070472T",
                                    "MEGNEVEZES": "A föld amelyen élünk - Európa földrajza",
                                    "LISTAAR": "1089"
                                },
                                {
                                    "TERMEKKOD": "08070473T",
                                    "MEGNEVEZES": "A föld amelyen élünk - Távoli földrészek",
                                    "LISTAAR": "1089"
                                },
                                {
                                    "TERMEKKOD": "08070474T",
                                    "MEGNEVEZES": "A föld amelyen élünk - Hazánk földrajza",
                                    "LISTAAR": "1089"
                                },
                                {
                                    "TERMEKKOD": "F001-KB101",
                                    "MEGNEVEZES": "férfi szövet kabát",
                                    "LISTAAR": "22000"
                                },
                                {
                                    "TERMEKKOD": "F007-NA201",
                                    "MEGNEVEZES": "férfi farmer nadrág",
                                    "LISTAAR": "7890"
                                },
                                {
                                    "TERMEKKOD": "F013-NA207",
                                    "MEGNEVEZES": "férfi szövet nadrág",
                                    "LISTAAR": "11900"
                                },
                                {
                                    "TERMEKKOD": "F021-IN215",
                                    "MEGNEVEZES": "férfi ing",
                                    "LISTAAR": "6490"
                                },
                                {
                                    "TERMEKKOD": "G001-KB101",
                                    "MEGNEVEZES": "gyermek kabát (fiú)",
                                    "LISTAAR": "8900"
                                },
                                {
                                    "TERMEKKOD": "G013-NA201",
                                    "MEGNEVEZES": "gyermek farmer nadrág (fiú)",
                                    "LISTAAR": "4990"
                                },
                                {
                                    "TERMEKKOD": "G019-NA207",
                                    "MEGNEVEZES": "gyermek pamut nadrág (fiú)",
                                    "LISTAAR": "1290"
                                },
                                {
                                    "TERMEKKOD": "G038-FE316",
                                    "MEGNEVEZES": "fiú harisnya",
                                    "LISTAAR": "990"
                                },
                                {
                                    "TERMEKKOD": "G041-AL211",
                                    "MEGNEVEZES": "fiú ünneplős ruha",
                                    "LISTAAR": "16900"
                                },
                                {
                                    "TERMEKKOD": "G048-PO218",
                                    "MEGNEVEZES": "gyermek póló (fiú)",
                                    "LISTAAR": "3900"
                                },
                                {
                                    "TERMEKKOD": "G064-CI401",
                                    "MEGNEVEZES": "gyermek szandál (fiú)",
                                    "LISTAAR": "6900"
                                },
                                {
                                    "TERMEKKOD": "G073-CI410",
                                    "MEGNEVEZES": "gyermek cipő (fiú)",
                                    "LISTAAR": "7900"
                                },
                                {
                                    "TERMEKKOD": "G082-CI419",
                                    "MEGNEVEZES": "gyermek csizma (fiú)",
                                    "LISTAAR": "8000"
                                },
                                {
                                    "TERMEKKOD": "L001-KB101",
                                    "MEGNEVEZES": "gyermek kabát (lány)",
                                    "LISTAAR": "8900"
                                },
                                {
                                    "TERMEKKOD": "L013-NA201",
                                    "MEGNEVEZES": "gyermek farmer nadrág (lány)",
                                    "LISTAAR": "4990"
                                },
                                {
                                    "TERMEKKOD": "L019-NA207",
                                    "MEGNEVEZES": "gyermek pamut nadrág (lány)",
                                    "LISTAAR": "1290"
                                },
                                {
                                    "TERMEKKOD": "L033-FE311",
                                    "MEGNEVEZES": "lány harisnya",
                                    "LISTAAR": "990"
                                },
                                {
                                    "TERMEKKOD": "L041-AL211",
                                    "MEGNEVEZES": "lány ünneplős ruha",
                                    "LISTAAR": "16900"
                                },
                                {
                                    "TERMEKKOD": "L048-PO218",
                                    "MEGNEVEZES": "gyermek póló (lány)",
                                    "LISTAAR": "3900"
                                },
                                {
                                    "TERMEKKOD": "L064-CI401",
                                    "MEGNEVEZES": "gyermek szandál (lány)",
                                    "LISTAAR": "6900"
                                },
                                {
                                    "TERMEKKOD": "L073-CI410",
                                    "MEGNEVEZES": "gyermek cipő (lány)",
                                    "LISTAAR": "7900"
                                },
                                {
                                    "TERMEKKOD": "L082-CI419",
                                    "MEGNEVEZES": "gyermek csizma (lány)",
                                    "LISTAAR": "8000"
                                },
                                {
                                    "TERMEKKOD": "N001-KB101",
                                    "MEGNEVEZES": "női szövet kabát",
                                    "LISTAAR": "24000"
                                },
                                {
                                    "TERMEKKOD": "N008-NA201",
                                    "MEGNEVEZES": "női farmer nadrág",
                                    "LISTAAR": "8290"
                                },
                                {
                                    "TERMEKKOD": "N029-AL212",
                                    "MEGNEVEZES": "női koktélruha",
                                    "LISTAAR": "32000"
                                },
                                {
                                    "TERMEKKOD": "N035-AL218",
                                    "MEGNEVEZES": "kosztüm (rövid)",
                                    "LISTAAR": "39000"
                                },
                                {
                                    "TERMEKKOD": "N039-AL222",
                                    "MEGNEVEZES": "kosztüm (hosszú)",
                                    "LISTAAR": "46000"
                                },
                                {
                                    "TERMEKKOD": "U001-KI501",
                                    "MEGNEVEZES": "sál",
                                    "LISTAAR": "1990"
                                }
                            ]
                        },
                        "text/html": "<table><tr><th>TERMEKKOD</th><th>MEGNEVEZES</th><th>LISTAAR</th></tr><tr><td>01080512T</td><td>Öntapadó A/4</td><td>4575</td></tr><tr><td>01100496T</td><td>Színes másoló a/4 80g</td><td>1500</td></tr><tr><td>01100504T</td><td>Fehér másoló A/3</td><td>1488</td></tr><tr><td>02040002T</td><td>irodai tűzőgép</td><td>2100</td></tr><tr><td>02040403T</td><td>Tűzőgép SAX 239</td><td>1351</td></tr><tr><td>02060447T</td><td>Bélyegző pocket</td><td>1377</td></tr><tr><td>02060448T</td><td>Bélyegző RP 18-47</td><td>1147</td></tr><tr><td>02080511T</td><td>Oki toner C</td><td>14250</td></tr><tr><td>04080270T</td><td>Mappa bőr A5</td><td>1765</td></tr><tr><td>06040446T</td><td>Számológép tudományos</td><td>1173</td></tr><tr><td>07080152T</td><td>Golyóstoll 3 funkciós </td><td>1019</td></tr><tr><td>08070472T</td><td>A föld amelyen élünk - Európa földrajza</td><td>1089</td></tr><tr><td>08070473T</td><td>A föld amelyen élünk - Távoli földrészek</td><td>1089</td></tr><tr><td>08070474T</td><td>A föld amelyen élünk - Hazánk földrajza</td><td>1089</td></tr><tr><td>F001-KB101</td><td>férfi szövet kabát</td><td>22000</td></tr><tr><td>F007-NA201</td><td>férfi farmer nadrág</td><td>7890</td></tr><tr><td>F013-NA207</td><td>férfi szövet nadrág</td><td>11900</td></tr><tr><td>F021-IN215</td><td>férfi ing</td><td>6490</td></tr><tr><td>G001-KB101</td><td>gyermek kabát (fiú)</td><td>8900</td></tr><tr><td>G013-NA201</td><td>gyermek farmer nadrág (fiú)</td><td>4990</td></tr><tr><td>G019-NA207</td><td>gyermek pamut nadrág (fiú)</td><td>1290</td></tr><tr><td>G038-FE316</td><td>fiú harisnya</td><td>990</td></tr><tr><td>G041-AL211</td><td>fiú ünneplős ruha</td><td>16900</td></tr><tr><td>G048-PO218</td><td>gyermek póló (fiú)</td><td>3900</td></tr><tr><td>G064-CI401</td><td>gyermek szandál (fiú)</td><td>6900</td></tr><tr><td>G073-CI410</td><td>gyermek cipő (fiú)</td><td>7900</td></tr><tr><td>G082-CI419</td><td>gyermek csizma (fiú)</td><td>8000</td></tr><tr><td>L001-KB101</td><td>gyermek kabát (lány)</td><td>8900</td></tr><tr><td>L013-NA201</td><td>gyermek farmer nadrág (lány)</td><td>4990</td></tr><tr><td>L019-NA207</td><td>gyermek pamut nadrág (lány)</td><td>1290</td></tr><tr><td>L033-FE311</td><td>lány harisnya</td><td>990</td></tr><tr><td>L041-AL211</td><td>lány ünneplős ruha</td><td>16900</td></tr><tr><td>L048-PO218</td><td>gyermek póló (lány)</td><td>3900</td></tr><tr><td>L064-CI401</td><td>gyermek szandál (lány)</td><td>6900</td></tr><tr><td>L073-CI410</td><td>gyermek cipő (lány)</td><td>7900</td></tr><tr><td>L082-CI419</td><td>gyermek csizma (lány)</td><td>8000</td></tr><tr><td>N001-KB101</td><td>női szövet kabát</td><td>24000</td></tr><tr><td>N008-NA201</td><td>női farmer nadrág</td><td>8290</td></tr><tr><td>N029-AL212</td><td>női koktélruha</td><td>32000</td></tr><tr><td>N035-AL218</td><td>kosztüm (rövid)</td><td>39000</td></tr><tr><td>N039-AL222</td><td>kosztüm (hosszú)</td><td>46000</td></tr><tr><td>U001-KI501</td><td>sál</td><td>1990</td></tr></table>"
                    },
                    "metadata": {}
                }
            ],
            "execution_count": 2
        },
        {
            "cell_type": "markdown",
            "source": [
                "13. <span style=\"background-color: rgb(255, 255, 255); color: rgb(0, 0, 0); font-family: &quot;Open Sans&quot;, sans-serif; font-size: 14.44px;\">Készítsünk listát (sorszámonként) az egyes rendelések teljes összegéről!&nbsp;</span> \n",
                "\n",
                "a. Szűrjünk azon tételekre, ahol ez az érték nagyobb, mint Viktor Éva rendeléseinek teljes összege! \n",
                "\n",
                "b. A teljes összeg oszlopot nevezzük el értelemszerűen!"
            ],
            "metadata": {
                "azdata_cell_guid": "85d5cb66-96c6-42de-99cf-85ab22d08548"
            },
            "attachments": {}
        },
        {
            "cell_type": "code",
            "source": [
                "SELECT  r.[LOGIN],\r\n",
                "        SUM(rt.MENNYISEG * rt.EGYSEGAR) AS 'Teljes Összeg'\r\n",
                "FROM Rendeles r JOIN Rendeles_tetel rt ON r.SORSZAM = rt.SORSZAM\r\n",
                "                JOIN Ugyfel u ON r.[LOGIN] = u.[LOGIN]\r\n",
                "GROUP BY r.[LOGIN]\r\n",
                "HAVING SUM(rt.MENNYISEG * rt.EGYSEGAR) > (SELECT SUM(rt.MENNYISEG * rt.EGYSEGAR)\r\n",
                "    FROM Rendeles r JOIN Rendeles_tetel rt ON r.SORSZAM = rt.SORSZAM\r\n",
                "                JOIN Ugyfel u ON r.[LOGIN] = u.[LOGIN]\r\n",
                "    WHERE u.NEV = 'Viktor Éva'\r\n",
                ")"
            ],
            "metadata": {
                "azdata_cell_guid": "cb07d64b-0eaa-498b-b4d2-0b46971e95ce",
                "language": "sql"
            },
            "outputs": [
                {
                    "output_type": "display_data",
                    "data": {
                        "text/html": "Warning: Null value is eliminated by an aggregate or other SET operation."
                    },
                    "metadata": {}
                },
                {
                    "output_type": "display_data",
                    "data": {
                        "text/html": "(190 rows affected)"
                    },
                    "metadata": {}
                },
                {
                    "output_type": "display_data",
                    "data": {
                        "text/html": "Total execution time: 00:00:02.710"
                    },
                    "metadata": {}
                },
                {
                    "output_type": "execute_result",
                    "execution_count": 20,
                    "data": {
                        "application/vnd.dataresource+json": {
                            "schema": {
                                "fields": [
                                    {
                                        "name": "LOGIN"
                                    },
                                    {
                                        "name": "Teljes Összeg"
                                    }
                                ]
                            },
                            "data": [
                                {
                                    "LOGIN": "adam1",
                                    "Teljes Összeg": "35899584"
                                },
                                {
                                    "LOGIN": "adam3",
                                    "Teljes Összeg": "1770202"
                                },
                                {
                                    "LOGIN": "adam4",
                                    "Teljes Összeg": "2442219"
                                },
                                {
                                    "LOGIN": "agnes",
                                    "Teljes Összeg": "42184015"
                                },
                                {
                                    "LOGIN": "agnes3",
                                    "Teljes Összeg": "42706494"
                                },
                                {
                                    "LOGIN": "AGNESH",
                                    "Teljes Összeg": "689457"
                                },
                                {
                                    "LOGIN": "AGNESK",
                                    "Teljes Összeg": "994001"
                                },
                                {
                                    "LOGIN": "akos",
                                    "Teljes Összeg": "39085204"
                                },
                                {
                                    "LOGIN": "aladar",
                                    "Teljes Összeg": "45071367"
                                },
                                {
                                    "LOGIN": "alexandra",
                                    "Teljes Összeg": "1896213"
                                },
                                {
                                    "LOGIN": "andi",
                                    "Teljes Összeg": "2704440"
                                },
                                {
                                    "LOGIN": "andras2",
                                    "Teljes Összeg": "2220165"
                                },
                                {
                                    "LOGIN": "andras21",
                                    "Teljes Összeg": "37661233"
                                },
                                {
                                    "LOGIN": "andras3",
                                    "Teljes Összeg": "2372246"
                                },
                                {
                                    "LOGIN": "andras4",
                                    "Teljes Összeg": "1329440"
                                },
                                {
                                    "LOGIN": "andras41",
                                    "Teljes Összeg": "41713636"
                                },
                                {
                                    "LOGIN": "ANDRASE",
                                    "Teljes Összeg": "49022197"
                                },
                                {
                                    "LOGIN": "ANDRASN",
                                    "Teljes Összeg": "2087290"
                                },
                                {
                                    "LOGIN": "andrea",
                                    "Teljes Összeg": "2835113"
                                },
                                {
                                    "LOGIN": "andrea3",
                                    "Teljes Összeg": "46522412"
                                },
                                {
                                    "LOGIN": "andrea4",
                                    "Teljes Összeg": "1658773"
                                },
                                {
                                    "LOGIN": "ANDREAT",
                                    "Teljes Összeg": "1804434"
                                },
                                {
                                    "LOGIN": "anett3",
                                    "Teljes Összeg": "1153050"
                                },
                                {
                                    "LOGIN": "aniko",
                                    "Teljes Összeg": "40513452"
                                },
                                {
                                    "LOGIN": "aniko4",
                                    "Teljes Összeg": "1632700"
                                },
                                {
                                    "LOGIN": "ANIKOS",
                                    "Teljes Összeg": "44678016"
                                },
                                {
                                    "LOGIN": "anita",
                                    "Teljes Összeg": "542387"
                                },
                                {
                                    "LOGIN": "annamaria1",
                                    "Teljes Összeg": "1450069"
                                },
                                {
                                    "LOGIN": "ANNAMARIAR",
                                    "Teljes Összeg": "1926550"
                                },
                                {
                                    "LOGIN": "aron2",
                                    "Teljes Összeg": "46382324"
                                },
                                {
                                    "LOGIN": "ARONK",
                                    "Teljes Összeg": "43105533"
                                },
                                {
                                    "LOGIN": "arpad2",
                                    "Teljes Összeg": "1765023"
                                },
                                {
                                    "LOGIN": "ARPADH",
                                    "Teljes Összeg": "448250"
                                },
                                {
                                    "LOGIN": "ARPADM",
                                    "Teljes Összeg": "2097166"
                                },
                                {
                                    "LOGIN": "attila1",
                                    "Teljes Összeg": "1760976"
                                },
                                {
                                    "LOGIN": "attila4",
                                    "Teljes Összeg": "38700597"
                                },
                                {
                                    "LOGIN": "ATTILAO",
                                    "Teljes Összeg": "1198692"
                                },
                                {
                                    "LOGIN": "balazs1",
                                    "Teljes Összeg": "42607534"
                                },
                                {
                                    "LOGIN": "balazs2",
                                    "Teljes Összeg": "1299590"
                                },
                                {
                                    "LOGIN": "balazs3",
                                    "Teljes Összeg": "1728101"
                                },
                                {
                                    "LOGIN": "balint",
                                    "Teljes Összeg": "3907068"
                                },
                                {
                                    "LOGIN": "balint1",
                                    "Teljes Összeg": "43635507"
                                },
                                {
                                    "LOGIN": "balint2",
                                    "Teljes Összeg": "4152725"
                                },
                                {
                                    "LOGIN": "balu",
                                    "Teljes Összeg": "34911402"
                                },
                                {
                                    "LOGIN": "BEATRIXK",
                                    "Teljes Összeg": "42020751"
                                },
                                {
                                    "LOGIN": "BEATRIXS",
                                    "Teljes Összeg": "44890035"
                                },
                                {
                                    "LOGIN": "BELAF",
                                    "Teljes Összeg": "1973472"
                                },
                                {
                                    "LOGIN": "bence",
                                    "Teljes Összeg": "1302200"
                                },
                                {
                                    "LOGIN": "BENCEB",
                                    "Teljes Összeg": "1110728"
                                },
                                {
                                    "LOGIN": "bernadett1",
                                    "Teljes Összeg": "2142571"
                                },
                                {
                                    "LOGIN": "bernadett2",
                                    "Teljes Összeg": "703610"
                                },
                                {
                                    "LOGIN": "BERNADETTO",
                                    "Teljes Összeg": "1594757"
                                },
                                {
                                    "LOGIN": "bertalan",
                                    "Teljes Összeg": "35734010"
                                },
                                {
                                    "LOGIN": "brigitta",
                                    "Teljes Összeg": "41636390"
                                },
                                {
                                    "LOGIN": "brigitta3",
                                    "Teljes Összeg": "42075405"
                                },
                                {
                                    "LOGIN": "csongor3",
                                    "Teljes Összeg": "3331394"
                                },
                                {
                                    "LOGIN": "dani",
                                    "Teljes Összeg": "761135"
                                },
                                {
                                    "LOGIN": "daniel",
                                    "Teljes Összeg": "1039057"
                                },
                                {
                                    "LOGIN": "daniel1",
                                    "Teljes Összeg": "43332270"
                                },
                                {
                                    "LOGIN": "david",
                                    "Teljes Összeg": "39329950"
                                },
                                {
                                    "LOGIN": "david1",
                                    "Teljes Összeg": "1473486"
                                },
                                {
                                    "LOGIN": "david4",
                                    "Teljes Összeg": "1580409"
                                },
                                {
                                    "LOGIN": "debora",
                                    "Teljes Összeg": "1743086"
                                },
                                {
                                    "LOGIN": "denes",
                                    "Teljes Összeg": "1510130"
                                },
                                {
                                    "LOGIN": "dora3",
                                    "Teljes Összeg": "43559098"
                                },
                                {
                                    "LOGIN": "edit",
                                    "Teljes Összeg": "2054589"
                                },
                                {
                                    "LOGIN": "emese",
                                    "Teljes Összeg": "39859053"
                                },
                                {
                                    "LOGIN": "eszter2",
                                    "Teljes Összeg": "38489345"
                                },
                                {
                                    "LOGIN": "eszter4",
                                    "Teljes Összeg": "44923986"
                                },
                                {
                                    "LOGIN": "ESZTERE",
                                    "Teljes Összeg": "1776030"
                                },
                                {
                                    "LOGIN": "eva",
                                    "Teljes Összeg": "41980505"
                                },
                                {
                                    "LOGIN": "eva2",
                                    "Teljes Összeg": "44429607"
                                },
                                {
                                    "LOGIN": "ferenc1",
                                    "Teljes Összeg": "43136532"
                                },
                                {
                                    "LOGIN": "fruzsina4",
                                    "Teljes Összeg": "1630810"
                                },
                                {
                                    "LOGIN": "gabor1",
                                    "Teljes Összeg": "3507436"
                                },
                                {
                                    "LOGIN": "gabor4",
                                    "Teljes Összeg": "1483479"
                                },
                                {
                                    "LOGIN": "GABORS",
                                    "Teljes Összeg": "1009550"
                                },
                                {
                                    "LOGIN": "gabriella1",
                                    "Teljes Összeg": "2117237"
                                },
                                {
                                    "LOGIN": "gabriella10",
                                    "Teljes Összeg": "1542816"
                                },
                                {
                                    "LOGIN": "georgij",
                                    "Teljes Összeg": "1922269"
                                },
                                {
                                    "LOGIN": "gusztav",
                                    "Teljes Összeg": "2099520"
                                },
                                {
                                    "LOGIN": "GYONGYIK",
                                    "Teljes Összeg": "1108450"
                                },
                                {
                                    "LOGIN": "GYORGYO",
                                    "Teljes Összeg": "1072740"
                                },
                                {
                                    "LOGIN": "henrik3",
                                    "Teljes Összeg": "1152682"
                                },
                                {
                                    "LOGIN": "IBOLYAA",
                                    "Teljes Összeg": "42477628"
                                },
                                {
                                    "LOGIN": "ilona3",
                                    "Teljes Összeg": "1574760"
                                },
                                {
                                    "LOGIN": "imre",
                                    "Teljes Összeg": "1786420"
                                },
                                {
                                    "LOGIN": "imre1",
                                    "Teljes Összeg": "823496"
                                },
                                {
                                    "LOGIN": "istvan",
                                    "Teljes Összeg": "671705"
                                },
                                {
                                    "LOGIN": "istvan1",
                                    "Teljes Összeg": "1343616"
                                },
                                {
                                    "LOGIN": "ISTVANV",
                                    "Teljes Összeg": "1235363"
                                },
                                {
                                    "LOGIN": "janos3",
                                    "Teljes Összeg": "2585406"
                                },
                                {
                                    "LOGIN": "JANOSG",
                                    "Teljes Összeg": "938821"
                                },
                                {
                                    "LOGIN": "JANOSP",
                                    "Teljes Összeg": "1012280"
                                },
                                {
                                    "LOGIN": "jozsef",
                                    "Teljes Összeg": "37941768"
                                },
                                {
                                    "LOGIN": "jozsef2",
                                    "Teljes Összeg": "1476179"
                                },
                                {
                                    "LOGIN": "JOZSEFG",
                                    "Teljes Összeg": "1623490"
                                },
                                {
                                    "LOGIN": "JUDITH",
                                    "Teljes Összeg": "43385722"
                                },
                                {
                                    "LOGIN": "julia",
                                    "Teljes Összeg": "47627192"
                                },
                                {
                                    "LOGIN": "julia4",
                                    "Teljes Összeg": "2983487"
                                },
                                {
                                    "LOGIN": "julianna4",
                                    "Teljes Összeg": "1950322"
                                },
                                {
                                    "LOGIN": "kata",
                                    "Teljes Összeg": "622622"
                                },
                                {
                                    "LOGIN": "katalin",
                                    "Teljes Összeg": "980420"
                                },
                                {
                                    "LOGIN": "katalin4",
                                    "Teljes Összeg": "1362241"
                                },
                                {
                                    "LOGIN": "kati",
                                    "Teljes Összeg": "1527091"
                                },
                                {
                                    "LOGIN": "katka",
                                    "Teljes Összeg": "3922496"
                                },
                                {
                                    "LOGIN": "klaudia2",
                                    "Teljes Összeg": "1246383"
                                },
                                {
                                    "LOGIN": "kornel4",
                                    "Teljes Összeg": "640896"
                                },
                                {
                                    "LOGIN": "kristof4",
                                    "Teljes Összeg": "1683186"
                                },
                                {
                                    "LOGIN": "kriszti",
                                    "Teljes Összeg": "1469394"
                                },
                                {
                                    "LOGIN": "krisztian4",
                                    "Teljes Összeg": "2315630"
                                },
                                {
                                    "LOGIN": "KRISZTIANM",
                                    "Teljes Összeg": "32244016"
                                },
                                {
                                    "LOGIN": "krisztina",
                                    "Teljes Összeg": "45976626"
                                },
                                {
                                    "LOGIN": "krisztina1",
                                    "Teljes Összeg": "2536142"
                                },
                                {
                                    "LOGIN": "KRISZTINAG",
                                    "Teljes Összeg": "2732969"
                                },
                                {
                                    "LOGIN": "lajos",
                                    "Teljes Összeg": "799732"
                                },
                                {
                                    "LOGIN": "lala",
                                    "Teljes Összeg": "2213276"
                                },
                                {
                                    "LOGIN": "laszlo1",
                                    "Teljes Összeg": "42980614"
                                },
                                {
                                    "LOGIN": "laszlo2",
                                    "Teljes Összeg": "2946896"
                                },
                                {
                                    "LOGIN": "LASZLOA",
                                    "Teljes Összeg": "49254341"
                                },
                                {
                                    "LOGIN": "LASZLON",
                                    "Teljes Összeg": "42544779"
                                },
                                {
                                    "LOGIN": "maria1",
                                    "Teljes Összeg": "536245"
                                },
                                {
                                    "LOGIN": "MARKH",
                                    "Teljes Összeg": "36815153"
                                },
                                {
                                    "LOGIN": "marton",
                                    "Teljes Összeg": "1303973"
                                },
                                {
                                    "LOGIN": "MATEK",
                                    "Teljes Összeg": "3097444"
                                },
                                {
                                    "LOGIN": "matyas2",
                                    "Teljes Összeg": "42204782"
                                },
                                {
                                    "LOGIN": "MATYASS",
                                    "Teljes Összeg": "918470"
                                },
                                {
                                    "LOGIN": "MIHALYJ",
                                    "Teljes Összeg": "692955"
                                },
                                {
                                    "LOGIN": "miklos2",
                                    "Teljes Összeg": "1417527"
                                },
                                {
                                    "LOGIN": "MIKLOSB",
                                    "Teljes Összeg": "1375784"
                                },
                                {
                                    "LOGIN": "MONIKAM",
                                    "Teljes Összeg": "44868304"
                                },
                                {
                                    "LOGIN": "NANDORF",
                                    "Teljes Összeg": "45406395"
                                },
                                {
                                    "LOGIN": "nikolett3",
                                    "Teljes Összeg": "1796491"
                                },
                                {
                                    "LOGIN": "nikoletta4",
                                    "Teljes Összeg": "44931201"
                                },
                                {
                                    "LOGIN": "NIKOLETTAT",
                                    "Teljes Összeg": "1986996"
                                },
                                {
                                    "LOGIN": "norbert2",
                                    "Teljes Összeg": "1097813"
                                },
                                {
                                    "LOGIN": "norbert4",
                                    "Teljes Összeg": "1006551"
                                },
                                {
                                    "LOGIN": "norbert5",
                                    "Teljes Összeg": "1541721"
                                },
                                {
                                    "LOGIN": "pal",
                                    "Teljes Összeg": "41147173"
                                },
                                {
                                    "LOGIN": "peter1",
                                    "Teljes Összeg": "39927870"
                                },
                                {
                                    "LOGIN": "peter2",
                                    "Teljes Összeg": "1836530"
                                },
                                {
                                    "LOGIN": "peter3",
                                    "Teljes Összeg": "1682847"
                                },
                                {
                                    "LOGIN": "peter4",
                                    "Teljes Összeg": "80324595"
                                },
                                {
                                    "LOGIN": "PETERB",
                                    "Teljes Összeg": "1464655"
                                },
                                {
                                    "LOGIN": "polla",
                                    "Teljes Összeg": "1543679"
                                },
                                {
                                    "LOGIN": "rajmond4",
                                    "Teljes Összeg": "3025777"
                                },
                                {
                                    "LOGIN": "reka4",
                                    "Teljes Összeg": "1369674"
                                },
                                {
                                    "LOGIN": "RENATAK",
                                    "Teljes Összeg": "41824403"
                                },
                                {
                                    "LOGIN": "RENATAS",
                                    "Teljes Összeg": "1539350"
                                },
                                {
                                    "LOGIN": "robert2",
                                    "Teljes Összeg": "1533075"
                                },
                                {
                                    "LOGIN": "ROBERTI",
                                    "Teljes Összeg": "509766"
                                },
                                {
                                    "LOGIN": "ROBERTP",
                                    "Teljes Összeg": "2648763"
                                },
                                {
                                    "LOGIN": "roland",
                                    "Teljes Összeg": "36488632"
                                },
                                {
                                    "LOGIN": "roland1",
                                    "Teljes Összeg": "45182534"
                                },
                                {
                                    "LOGIN": "roza2",
                                    "Teljes Összeg": "312150"
                                },
                                {
                                    "LOGIN": "sandor",
                                    "Teljes Összeg": "1710358"
                                },
                                {
                                    "LOGIN": "sandor3",
                                    "Teljes Összeg": "1289512"
                                },
                                {
                                    "LOGIN": "sandor4",
                                    "Teljes Összeg": "939007"
                                },
                                {
                                    "LOGIN": "sara",
                                    "Teljes Összeg": "2408238"
                                },
                                {
                                    "LOGIN": "SEBASTIANF",
                                    "Teljes Összeg": "893400"
                                },
                                {
                                    "LOGIN": "sebestyen",
                                    "Teljes Összeg": "1438910"
                                },
                                {
                                    "LOGIN": "szabolcs",
                                    "Teljes Összeg": "43119352"
                                },
                                {
                                    "LOGIN": "SZABOLCSM",
                                    "Teljes Összeg": "41298860"
                                },
                                {
                                    "LOGIN": "SZILARDS",
                                    "Teljes Összeg": "43415397"
                                },
                                {
                                    "LOGIN": "szilvia1",
                                    "Teljes Összeg": "46610604"
                                },
                                {
                                    "LOGIN": "tamara2",
                                    "Teljes Összeg": "441070"
                                },
                                {
                                    "LOGIN": "tamas",
                                    "Teljes Összeg": "41550864"
                                },
                                {
                                    "LOGIN": "TAMASF",
                                    "Teljes Összeg": "39393296"
                                },
                                {
                                    "LOGIN": "tibor",
                                    "Teljes Összeg": "34459657"
                                },
                                {
                                    "LOGIN": "tibor2",
                                    "Teljes Összeg": "1787654"
                                },
                                {
                                    "LOGIN": "tihamer",
                                    "Teljes Összeg": "2129263"
                                },
                                {
                                    "LOGIN": "timea",
                                    "Teljes Összeg": "5475437"
                                },
                                {
                                    "LOGIN": "timea2",
                                    "Teljes Összeg": "2457583"
                                },
                                {
                                    "LOGIN": "tunde",
                                    "Teljes Összeg": "1801441"
                                },
                                {
                                    "LOGIN": "valentin",
                                    "Teljes Összeg": "807438"
                                },
                                {
                                    "LOGIN": "veronika4",
                                    "Teljes Összeg": "1696867"
                                },
                                {
                                    "LOGIN": "VIKTORIAU",
                                    "Teljes Összeg": "1461968"
                                },
                                {
                                    "LOGIN": "VIKTORK",
                                    "Teljes Összeg": "2597393"
                                },
                                {
                                    "LOGIN": "vivien3",
                                    "Teljes Összeg": "1868164"
                                },
                                {
                                    "LOGIN": "zoltan",
                                    "Teljes Összeg": "1204406"
                                },
                                {
                                    "LOGIN": "zoltan4",
                                    "Teljes Összeg": "41823427"
                                },
                                {
                                    "LOGIN": "ZOLTANP",
                                    "Teljes Összeg": "1497343"
                                },
                                {
                                    "LOGIN": "ZOLTANT",
                                    "Teljes Összeg": "33561277"
                                },
                                {
                                    "LOGIN": "zsofi1",
                                    "Teljes Összeg": "1714553"
                                },
                                {
                                    "LOGIN": "zsolt1",
                                    "Teljes Összeg": "922380"
                                },
                                {
                                    "LOGIN": "ZSOLTJ",
                                    "Teljes Összeg": "3155410"
                                },
                                {
                                    "LOGIN": "zsuzsa",
                                    "Teljes Összeg": "1169416"
                                },
                                {
                                    "LOGIN": "zsuzsa3",
                                    "Teljes Összeg": "3816977"
                                },
                                {
                                    "LOGIN": "zsuzsanna",
                                    "Teljes Összeg": "2161390"
                                },
                                {
                                    "LOGIN": "ZSUZSAV",
                                    "Teljes Összeg": "43612791"
                                }
                            ]
                        },
                        "text/html": "<table><tr><th>LOGIN</th><th>Teljes Összeg</th></tr><tr><td>adam1</td><td>35899584</td></tr><tr><td>adam3</td><td>1770202</td></tr><tr><td>adam4</td><td>2442219</td></tr><tr><td>agnes</td><td>42184015</td></tr><tr><td>agnes3</td><td>42706494</td></tr><tr><td>AGNESH</td><td>689457</td></tr><tr><td>AGNESK</td><td>994001</td></tr><tr><td>akos</td><td>39085204</td></tr><tr><td>aladar</td><td>45071367</td></tr><tr><td>alexandra</td><td>1896213</td></tr><tr><td>andi</td><td>2704440</td></tr><tr><td>andras2</td><td>2220165</td></tr><tr><td>andras21</td><td>37661233</td></tr><tr><td>andras3</td><td>2372246</td></tr><tr><td>andras4</td><td>1329440</td></tr><tr><td>andras41</td><td>41713636</td></tr><tr><td>ANDRASE</td><td>49022197</td></tr><tr><td>ANDRASN</td><td>2087290</td></tr><tr><td>andrea</td><td>2835113</td></tr><tr><td>andrea3</td><td>46522412</td></tr><tr><td>andrea4</td><td>1658773</td></tr><tr><td>ANDREAT</td><td>1804434</td></tr><tr><td>anett3</td><td>1153050</td></tr><tr><td>aniko</td><td>40513452</td></tr><tr><td>aniko4</td><td>1632700</td></tr><tr><td>ANIKOS</td><td>44678016</td></tr><tr><td>anita</td><td>542387</td></tr><tr><td>annamaria1</td><td>1450069</td></tr><tr><td>ANNAMARIAR</td><td>1926550</td></tr><tr><td>aron2</td><td>46382324</td></tr><tr><td>ARONK</td><td>43105533</td></tr><tr><td>arpad2</td><td>1765023</td></tr><tr><td>ARPADH</td><td>448250</td></tr><tr><td>ARPADM</td><td>2097166</td></tr><tr><td>attila1</td><td>1760976</td></tr><tr><td>attila4</td><td>38700597</td></tr><tr><td>ATTILAO</td><td>1198692</td></tr><tr><td>balazs1</td><td>42607534</td></tr><tr><td>balazs2</td><td>1299590</td></tr><tr><td>balazs3</td><td>1728101</td></tr><tr><td>balint</td><td>3907068</td></tr><tr><td>balint1</td><td>43635507</td></tr><tr><td>balint2</td><td>4152725</td></tr><tr><td>balu</td><td>34911402</td></tr><tr><td>BEATRIXK</td><td>42020751</td></tr><tr><td>BEATRIXS</td><td>44890035</td></tr><tr><td>BELAF</td><td>1973472</td></tr><tr><td>bence</td><td>1302200</td></tr><tr><td>BENCEB</td><td>1110728</td></tr><tr><td>bernadett1</td><td>2142571</td></tr><tr><td>bernadett2</td><td>703610</td></tr><tr><td>BERNADETTO</td><td>1594757</td></tr><tr><td>bertalan</td><td>35734010</td></tr><tr><td>brigitta</td><td>41636390</td></tr><tr><td>brigitta3</td><td>42075405</td></tr><tr><td>csongor3</td><td>3331394</td></tr><tr><td>dani</td><td>761135</td></tr><tr><td>daniel</td><td>1039057</td></tr><tr><td>daniel1</td><td>43332270</td></tr><tr><td>david</td><td>39329950</td></tr><tr><td>david1</td><td>1473486</td></tr><tr><td>david4</td><td>1580409</td></tr><tr><td>debora</td><td>1743086</td></tr><tr><td>denes</td><td>1510130</td></tr><tr><td>dora3</td><td>43559098</td></tr><tr><td>edit</td><td>2054589</td></tr><tr><td>emese</td><td>39859053</td></tr><tr><td>eszter2</td><td>38489345</td></tr><tr><td>eszter4</td><td>44923986</td></tr><tr><td>ESZTERE</td><td>1776030</td></tr><tr><td>eva</td><td>41980505</td></tr><tr><td>eva2</td><td>44429607</td></tr><tr><td>ferenc1</td><td>43136532</td></tr><tr><td>fruzsina4</td><td>1630810</td></tr><tr><td>gabor1</td><td>3507436</td></tr><tr><td>gabor4</td><td>1483479</td></tr><tr><td>GABORS</td><td>1009550</td></tr><tr><td>gabriella1</td><td>2117237</td></tr><tr><td>gabriella10</td><td>1542816</td></tr><tr><td>georgij</td><td>1922269</td></tr><tr><td>gusztav</td><td>2099520</td></tr><tr><td>GYONGYIK</td><td>1108450</td></tr><tr><td>GYORGYO</td><td>1072740</td></tr><tr><td>henrik3</td><td>1152682</td></tr><tr><td>IBOLYAA</td><td>42477628</td></tr><tr><td>ilona3</td><td>1574760</td></tr><tr><td>imre</td><td>1786420</td></tr><tr><td>imre1</td><td>823496</td></tr><tr><td>istvan</td><td>671705</td></tr><tr><td>istvan1</td><td>1343616</td></tr><tr><td>ISTVANV</td><td>1235363</td></tr><tr><td>janos3</td><td>2585406</td></tr><tr><td>JANOSG</td><td>938821</td></tr><tr><td>JANOSP</td><td>1012280</td></tr><tr><td>jozsef</td><td>37941768</td></tr><tr><td>jozsef2</td><td>1476179</td></tr><tr><td>JOZSEFG</td><td>1623490</td></tr><tr><td>JUDITH</td><td>43385722</td></tr><tr><td>julia</td><td>47627192</td></tr><tr><td>julia4</td><td>2983487</td></tr><tr><td>julianna4</td><td>1950322</td></tr><tr><td>kata</td><td>622622</td></tr><tr><td>katalin</td><td>980420</td></tr><tr><td>katalin4</td><td>1362241</td></tr><tr><td>kati</td><td>1527091</td></tr><tr><td>katka</td><td>3922496</td></tr><tr><td>klaudia2</td><td>1246383</td></tr><tr><td>kornel4</td><td>640896</td></tr><tr><td>kristof4</td><td>1683186</td></tr><tr><td>kriszti</td><td>1469394</td></tr><tr><td>krisztian4</td><td>2315630</td></tr><tr><td>KRISZTIANM</td><td>32244016</td></tr><tr><td>krisztina</td><td>45976626</td></tr><tr><td>krisztina1</td><td>2536142</td></tr><tr><td>KRISZTINAG</td><td>2732969</td></tr><tr><td>lajos</td><td>799732</td></tr><tr><td>lala</td><td>2213276</td></tr><tr><td>laszlo1</td><td>42980614</td></tr><tr><td>laszlo2</td><td>2946896</td></tr><tr><td>LASZLOA</td><td>49254341</td></tr><tr><td>LASZLON</td><td>42544779</td></tr><tr><td>maria1</td><td>536245</td></tr><tr><td>MARKH</td><td>36815153</td></tr><tr><td>marton</td><td>1303973</td></tr><tr><td>MATEK</td><td>3097444</td></tr><tr><td>matyas2</td><td>42204782</td></tr><tr><td>MATYASS</td><td>918470</td></tr><tr><td>MIHALYJ</td><td>692955</td></tr><tr><td>miklos2</td><td>1417527</td></tr><tr><td>MIKLOSB</td><td>1375784</td></tr><tr><td>MONIKAM</td><td>44868304</td></tr><tr><td>NANDORF</td><td>45406395</td></tr><tr><td>nikolett3</td><td>1796491</td></tr><tr><td>nikoletta4</td><td>44931201</td></tr><tr><td>NIKOLETTAT</td><td>1986996</td></tr><tr><td>norbert2</td><td>1097813</td></tr><tr><td>norbert4</td><td>1006551</td></tr><tr><td>norbert5</td><td>1541721</td></tr><tr><td>pal</td><td>41147173</td></tr><tr><td>peter1</td><td>39927870</td></tr><tr><td>peter2</td><td>1836530</td></tr><tr><td>peter3</td><td>1682847</td></tr><tr><td>peter4</td><td>80324595</td></tr><tr><td>PETERB</td><td>1464655</td></tr><tr><td>polla</td><td>1543679</td></tr><tr><td>rajmond4</td><td>3025777</td></tr><tr><td>reka4</td><td>1369674</td></tr><tr><td>RENATAK</td><td>41824403</td></tr><tr><td>RENATAS</td><td>1539350</td></tr><tr><td>robert2</td><td>1533075</td></tr><tr><td>ROBERTI</td><td>509766</td></tr><tr><td>ROBERTP</td><td>2648763</td></tr><tr><td>roland</td><td>36488632</td></tr><tr><td>roland1</td><td>45182534</td></tr><tr><td>roza2</td><td>312150</td></tr><tr><td>sandor</td><td>1710358</td></tr><tr><td>sandor3</td><td>1289512</td></tr><tr><td>sandor4</td><td>939007</td></tr><tr><td>sara</td><td>2408238</td></tr><tr><td>SEBASTIANF</td><td>893400</td></tr><tr><td>sebestyen</td><td>1438910</td></tr><tr><td>szabolcs</td><td>43119352</td></tr><tr><td>SZABOLCSM</td><td>41298860</td></tr><tr><td>SZILARDS</td><td>43415397</td></tr><tr><td>szilvia1</td><td>46610604</td></tr><tr><td>tamara2</td><td>441070</td></tr><tr><td>tamas</td><td>41550864</td></tr><tr><td>TAMASF</td><td>39393296</td></tr><tr><td>tibor</td><td>34459657</td></tr><tr><td>tibor2</td><td>1787654</td></tr><tr><td>tihamer</td><td>2129263</td></tr><tr><td>timea</td><td>5475437</td></tr><tr><td>timea2</td><td>2457583</td></tr><tr><td>tunde</td><td>1801441</td></tr><tr><td>valentin</td><td>807438</td></tr><tr><td>veronika4</td><td>1696867</td></tr><tr><td>VIKTORIAU</td><td>1461968</td></tr><tr><td>VIKTORK</td><td>2597393</td></tr><tr><td>vivien3</td><td>1868164</td></tr><tr><td>zoltan</td><td>1204406</td></tr><tr><td>zoltan4</td><td>41823427</td></tr><tr><td>ZOLTANP</td><td>1497343</td></tr><tr><td>ZOLTANT</td><td>33561277</td></tr><tr><td>zsofi1</td><td>1714553</td></tr><tr><td>zsolt1</td><td>922380</td></tr><tr><td>ZSOLTJ</td><td>3155410</td></tr><tr><td>zsuzsa</td><td>1169416</td></tr><tr><td>zsuzsa3</td><td>3816977</td></tr><tr><td>zsuzsanna</td><td>2161390</td></tr><tr><td>ZSUZSAV</td><td>43612791</td></tr></table>"
                    },
                    "metadata": {}
                }
            ],
            "execution_count": 20
        },
        {
            "cell_type": "markdown",
            "source": [
                "14. <span style=\"background-color: rgb(255, 255, 255); color: rgb(0, 0, 0); font-family: &quot;Open Sans&quot;, sans-serif; font-size: 14.44px;\">Listázzuk azokat a termékkategóriákat, amelyből 2017 januárban nem történt rendelés!&nbsp;</span> \n",
                "\n",
                "a. Elég a kategóriák nevét megjeleníteni!"
            ],
            "metadata": {
                "azdata_cell_guid": "f95ad665-a807-4099-bf06-64ed974f866f"
            },
            "attachments": {}
        },
        {
            "cell_type": "code",
            "source": [
                "SELECT  DISTINCT tk.kat_nev\r\n",
                "FROM Termek t JOIN Termekkategoria tk ON t.kat_id = tk.kat_id\r\n",
                "            JOIN Rendeles_tetel rt ON t.termekkod = rt.termekkod\r\n",
                "            JOIN Rendeles r ON rt.sorszam = r.sorszam\r\n",
                "WHERE r.REND_DATUM NOT BETWEEN '2017-01-01' AND '2017-01-31'\r\n",
                ""
            ],
            "metadata": {
                "azdata_cell_guid": "74c7ec8a-ae4a-4d03-b1c4-e8f6bb1be12c",
                "language": "sql"
            },
            "outputs": [
                {
                    "output_type": "display_data",
                    "data": {
                        "text/html": "(142 rows affected)"
                    },
                    "metadata": {}
                },
                {
                    "output_type": "display_data",
                    "data": {
                        "text/html": "Total execution time: 00:00:00.134"
                    },
                    "metadata": {}
                },
                {
                    "output_type": "execute_result",
                    "metadata": {},
                    "execution_count": 22,
                    "data": {
                        "application/vnd.dataresource+json": {
                            "schema": {
                                "fields": [
                                    {
                                        "name": "kat_nev"
                                    }
                                ]
                            },
                            "data": [
                                {
                                    "kat_nev": "könyv"
                                },
                                {
                                    "kat_nev": "ajándék tárgy"
                                },
                                {
                                    "kat_nev": "ajándék tasak"
                                },
                                {
                                    "kat_nev": "álarc"
                                },
                                {
                                    "kat_nev": "alkalmi"
                                },
                                {
                                    "kat_nev": "alufólia"
                                },
                                {
                                    "kat_nev": "árazószalag"
                                },
                                {
                                    "kat_nev": "átírótömb"
                                },
                                {
                                    "kat_nev": "beíró"
                                },
                                {
                                    "kat_nev": "beírókönyv"
                                },
                                {
                                    "kat_nev": "bélyegző"
                                },
                                {
                                    "kat_nev": "bélyegzőfesték"
                                },
                                {
                                    "kat_nev": "boríték"
                                },
                                {
                                    "kat_nev": "cd tok"
                                },
                                {
                                    "kat_nev": "celofán"
                                },
                                {
                                    "kat_nev": "ceruza"
                                },
                                {
                                    "kat_nev": "címke"
                                },
                                {
                                    "kat_nev": "color copy"
                                },
                                {
                                    "kat_nev": "csomagoló"
                                },
                                {
                                    "kat_nev": "csomagoló papír"
                                },
                                {
                                    "kat_nev": "dekor"
                                },
                                {
                                    "kat_nev": "dipa"
                                },
                                {
                                    "kat_nev": "díszdoboz"
                                },
                                {
                                    "kat_nev": "díszkötöző"
                                },
                                {
                                    "kat_nev": "dvd"
                                },
                                {
                                    "kat_nev": "ecset"
                                },
                                {
                                    "kat_nev": "előlap"
                                },
                                {
                                    "kat_nev": "emlékkönyv"
                                },
                                {
                                    "kat_nev": "emléklap"
                                },
                                {
                                    "kat_nev": "fax papír"
                                },
                                {
                                    "kat_nev": "fehérnemű"
                                },
                                {
                                    "kat_nev": "fénymásoló papír"
                                },
                                {
                                    "kat_nev": "férfi ing"
                                },
                                {
                                    "kat_nev": "férfi kabát"
                                },
                                {
                                    "kat_nev": "férfi nadrág"
                                },
                                {
                                    "kat_nev": "festékpatron"
                                },
                                {
                                    "kat_nev": "filctoll"
                                },
                                {
                                    "kat_nev": "floppy"
                                },
                                {
                                    "kat_nev": "fólia"
                                },
                                {
                                    "kat_nev": "fotópapír"
                                },
                                {
                                    "kat_nev": "füzet"
                                },
                                {
                                    "kat_nev": "füzetborító"
                                },
                                {
                                    "kat_nev": "füzettartó"
                                },
                                {
                                    "kat_nev": "gemkapocs"
                                },
                                {
                                    "kat_nev": "gémkapocs"
                                },
                                {
                                    "kat_nev": "genoterm"
                                },
                                {
                                    "kat_nev": "genotherm"
                                },
                                {
                                    "kat_nev": "golyóstoll"
                                },
                                {
                                    "kat_nev": "gumigyűrű"
                                },
                                {
                                    "kat_nev": "gyermek cipő"
                                },
                                {
                                    "kat_nev": "gyermek kabát"
                                },
                                {
                                    "kat_nev": "gyermek nadrág"
                                },
                                {
                                    "kat_nev": "gyermek póló"
                                },
                                {
                                    "kat_nev": "gyorsfűző"
                                },
                                {
                                    "kat_nev": "gyurma"
                                },
                                {
                                    "kat_nev": "gyűrűskönyv"
                                },
                                {
                                    "kat_nev": "hajgumi"
                                },
                                {
                                    "kat_nev": "határidő napló"
                                },
                                {
                                    "kat_nev": "hegyező"
                                },
                                {
                                    "kat_nev": "hegyző"
                                },
                                {
                                    "kat_nev": "hibajavító"
                                },
                                {
                                    "kat_nev": "hűtőmágnes"
                                },
                                {
                                    "kat_nev": "iratgyűjtő"
                                },
                                {
                                    "kat_nev": "iratrendező"
                                },
                                {
                                    "kat_nev": "iratsín"
                                },
                                {
                                    "kat_nev": "irattartó"
                                },
                                {
                                    "kat_nev": "irodaszer"
                                },
                                {
                                    "kat_nev": "írólap"
                                },
                                {
                                    "kat_nev": "ironbél"
                                },
                                {
                                    "kat_nev": "iskolaszer"
                                },
                                {
                                    "kat_nev": "játékautó"
                                },
                                {
                                    "kat_nev": "jelzőkréta"
                                },
                                {
                                    "kat_nev": "kapocskiszedő"
                                },
                                {
                                    "kat_nev": "karton"
                                },
                                {
                                    "kat_nev": "kártya"
                                },
                                {
                                    "kat_nev": "képeslap"
                                },
                                {
                                    "kat_nev": "képkirakó"
                                },
                                {
                                    "kat_nev": "kosztüm"
                                },
                                {
                                    "kat_nev": "körző"
                                },
                                {
                                    "kat_nev": "kreatív"
                                },
                                {
                                    "kat_nev": "kulcstartó"
                                },
                                {
                                    "kat_nev": "labda"
                                },
                                {
                                    "kat_nev": "levélpapír"
                                },
                                {
                                    "kat_nev": "lufi"
                                },
                                {
                                    "kat_nev": "lyukasztó"
                                },
                                {
                                    "kat_nev": "mappa"
                                },
                                {
                                    "kat_nev": "matrica"
                                },
                                {
                                    "kat_nev": "meghívó"
                                },
                                {
                                    "kat_nev": "miliméterpapír"
                                },
                                {
                                    "kat_nev": "munkafüzet"
                                },
                                {
                                    "kat_nev": "műnyomó"
                                },
                                {
                                    "kat_nev": "naptár"
                                },
                                {
                                    "kat_nev": "naptárhát"
                                },
                                {
                                    "kat_nev": "névjegytartó"
                                },
                                {
                                    "kat_nev": "notesz"
                                },
                                {
                                    "kat_nev": "női kabát"
                                },
                                {
                                    "kat_nev": "női nadrág"
                                },
                                {
                                    "kat_nev": "ofszet"
                                },
                                {
                                    "kat_nev": "oklevél"
                                },
                                {
                                    "kat_nev": "olló"
                                },
                                {
                                    "kat_nev": "öntapadó"
                                },
                                {
                                    "kat_nev": "papízsebkendő"
                                },
                                {
                                    "kat_nev": "pausz"
                                },
                                {
                                    "kat_nev": "pénztárbizonylat"
                                },
                                {
                                    "kat_nev": "pénztárgépszalag"
                                },
                                {
                                    "kat_nev": "pixiron"
                                },
                                {
                                    "kat_nev": "plüss"
                                },
                                {
                                    "kat_nev": "post-it"
                                },
                                {
                                    "kat_nev": "radír"
                                },
                                {
                                    "kat_nev": "radírtoll"
                                },
                                {
                                    "kat_nev": "ragasztó"
                                },
                                {
                                    "kat_nev": "ragasztószalag"
                                },
                                {
                                    "kat_nev": "rágógumi"
                                },
                                {
                                    "kat_nev": "rajzlap"
                                },
                                {
                                    "kat_nev": "rajzszeg"
                                },
                                {
                                    "kat_nev": "regiszteres füzet"
                                },
                                {
                                    "kat_nev": "sál"
                                },
                                {
                                    "kat_nev": "spirál"
                                },
                                {
                                    "kat_nev": "strandlabda"
                                },
                                {
                                    "kat_nev": "szalvéta"
                                },
                                {
                                    "kat_nev": "számológép"
                                },
                                {
                                    "kat_nev": "szemetes"
                                },
                                {
                                    "kat_nev": "színes"
                                },
                                {
                                    "kat_nev": "szögmérő"
                                },
                                {
                                    "kat_nev": "szövegkiemelő"
                                },
                                {
                                    "kat_nev": "táblafilc"
                                },
                                {
                                    "kat_nev": "tapétavágó"
                                },
                                {
                                    "kat_nev": "tempera"
                                },
                                {
                                    "kat_nev": "térképtű"
                                },
                                {
                                    "kat_nev": "tintapatron"
                                },
                                {
                                    "kat_nev": "toll"
                                },
                                {
                                    "kat_nev": "tollbetét"
                                },
                                {
                                    "kat_nev": "tolltartó"
                                },
                                {
                                    "kat_nev": "toner"
                                },
                                {
                                    "kat_nev": "töltőtoll"
                                },
                                {
                                    "kat_nev": "tűzőgép"
                                },
                                {
                                    "kat_nev": "tűzőkapocs"
                                },
                                {
                                    "kat_nev": "vízfesték"
                                },
                                {
                                    "kat_nev": "vonalzó"
                                },
                                {
                                    "kat_nev": "zászló"
                                },
                                {
                                    "kat_nev": "zseléstoll"
                                },
                                {
                                    "kat_nev": "írásvetítő fólia"
                                }
                            ]
                        },
                        "text/html": [
                            "<table>",
                            "<tr><th>kat_nev</th></tr>",
                            "<tr><td>könyv</td></tr>",
                            "<tr><td>ajándék tárgy</td></tr>",
                            "<tr><td>ajándék tasak</td></tr>",
                            "<tr><td>álarc</td></tr>",
                            "<tr><td>alkalmi</td></tr>",
                            "<tr><td>alufólia</td></tr>",
                            "<tr><td>árazószalag</td></tr>",
                            "<tr><td>átírótömb</td></tr>",
                            "<tr><td>beíró</td></tr>",
                            "<tr><td>beírókönyv</td></tr>",
                            "<tr><td>bélyegző</td></tr>",
                            "<tr><td>bélyegzőfesték</td></tr>",
                            "<tr><td>boríték</td></tr>",
                            "<tr><td>cd tok</td></tr>",
                            "<tr><td>celofán</td></tr>",
                            "<tr><td>ceruza</td></tr>",
                            "<tr><td>címke</td></tr>",
                            "<tr><td>color copy</td></tr>",
                            "<tr><td>csomagoló</td></tr>",
                            "<tr><td>csomagoló papír</td></tr>",
                            "<tr><td>dekor</td></tr>",
                            "<tr><td>dipa</td></tr>",
                            "<tr><td>díszdoboz</td></tr>",
                            "<tr><td>díszkötöző</td></tr>",
                            "<tr><td>dvd</td></tr>",
                            "<tr><td>ecset</td></tr>",
                            "<tr><td>előlap</td></tr>",
                            "<tr><td>emlékkönyv</td></tr>",
                            "<tr><td>emléklap</td></tr>",
                            "<tr><td>fax papír</td></tr>",
                            "<tr><td>fehérnemű</td></tr>",
                            "<tr><td>fénymásoló papír</td></tr>",
                            "<tr><td>férfi ing</td></tr>",
                            "<tr><td>férfi kabát</td></tr>",
                            "<tr><td>férfi nadrág</td></tr>",
                            "<tr><td>festékpatron</td></tr>",
                            "<tr><td>filctoll</td></tr>",
                            "<tr><td>floppy</td></tr>",
                            "<tr><td>fólia</td></tr>",
                            "<tr><td>fotópapír</td></tr>",
                            "<tr><td>füzet</td></tr>",
                            "<tr><td>füzetborító</td></tr>",
                            "<tr><td>füzettartó</td></tr>",
                            "<tr><td>gemkapocs</td></tr>",
                            "<tr><td>gémkapocs</td></tr>",
                            "<tr><td>genoterm</td></tr>",
                            "<tr><td>genotherm</td></tr>",
                            "<tr><td>golyóstoll</td></tr>",
                            "<tr><td>gumigyűrű</td></tr>",
                            "<tr><td>gyermek cipő</td></tr>",
                            "<tr><td>gyermek kabát</td></tr>",
                            "<tr><td>gyermek nadrág</td></tr>",
                            "<tr><td>gyermek póló</td></tr>",
                            "<tr><td>gyorsfűző</td></tr>",
                            "<tr><td>gyurma</td></tr>",
                            "<tr><td>gyűrűskönyv</td></tr>",
                            "<tr><td>hajgumi</td></tr>",
                            "<tr><td>határidő napló</td></tr>",
                            "<tr><td>hegyező</td></tr>",
                            "<tr><td>hegyző</td></tr>",
                            "<tr><td>hibajavító</td></tr>",
                            "<tr><td>hűtőmágnes</td></tr>",
                            "<tr><td>iratgyűjtő</td></tr>",
                            "<tr><td>iratrendező</td></tr>",
                            "<tr><td>iratsín</td></tr>",
                            "<tr><td>irattartó</td></tr>",
                            "<tr><td>irodaszer</td></tr>",
                            "<tr><td>írólap</td></tr>",
                            "<tr><td>ironbél</td></tr>",
                            "<tr><td>iskolaszer</td></tr>",
                            "<tr><td>játékautó</td></tr>",
                            "<tr><td>jelzőkréta</td></tr>",
                            "<tr><td>kapocskiszedő</td></tr>",
                            "<tr><td>karton</td></tr>",
                            "<tr><td>kártya</td></tr>",
                            "<tr><td>képeslap</td></tr>",
                            "<tr><td>képkirakó</td></tr>",
                            "<tr><td>kosztüm</td></tr>",
                            "<tr><td>körző</td></tr>",
                            "<tr><td>kreatív</td></tr>",
                            "<tr><td>kulcstartó</td></tr>",
                            "<tr><td>labda</td></tr>",
                            "<tr><td>levélpapír</td></tr>",
                            "<tr><td>lufi</td></tr>",
                            "<tr><td>lyukasztó</td></tr>",
                            "<tr><td>mappa</td></tr>",
                            "<tr><td>matrica</td></tr>",
                            "<tr><td>meghívó</td></tr>",
                            "<tr><td>miliméterpapír</td></tr>",
                            "<tr><td>munkafüzet</td></tr>",
                            "<tr><td>műnyomó</td></tr>",
                            "<tr><td>naptár</td></tr>",
                            "<tr><td>naptárhát</td></tr>",
                            "<tr><td>névjegytartó</td></tr>",
                            "<tr><td>notesz</td></tr>",
                            "<tr><td>női kabát</td></tr>",
                            "<tr><td>női nadrág</td></tr>",
                            "<tr><td>ofszet</td></tr>",
                            "<tr><td>oklevél</td></tr>",
                            "<tr><td>olló</td></tr>",
                            "<tr><td>öntapadó</td></tr>",
                            "<tr><td>papízsebkendő</td></tr>",
                            "<tr><td>pausz</td></tr>",
                            "<tr><td>pénztárbizonylat</td></tr>",
                            "<tr><td>pénztárgépszalag</td></tr>",
                            "<tr><td>pixiron</td></tr>",
                            "<tr><td>plüss</td></tr>",
                            "<tr><td>post-it</td></tr>",
                            "<tr><td>radír</td></tr>",
                            "<tr><td>radírtoll</td></tr>",
                            "<tr><td>ragasztó</td></tr>",
                            "<tr><td>ragasztószalag</td></tr>",
                            "<tr><td>rágógumi</td></tr>",
                            "<tr><td>rajzlap</td></tr>",
                            "<tr><td>rajzszeg</td></tr>",
                            "<tr><td>regiszteres füzet</td></tr>",
                            "<tr><td>sál</td></tr>",
                            "<tr><td>spirál</td></tr>",
                            "<tr><td>strandlabda</td></tr>",
                            "<tr><td>szalvéta</td></tr>",
                            "<tr><td>számológép</td></tr>",
                            "<tr><td>szemetes</td></tr>",
                            "<tr><td>színes</td></tr>",
                            "<tr><td>szögmérő</td></tr>",
                            "<tr><td>szövegkiemelő</td></tr>",
                            "<tr><td>táblafilc</td></tr>",
                            "<tr><td>tapétavágó</td></tr>",
                            "<tr><td>tempera</td></tr>",
                            "<tr><td>térképtű</td></tr>",
                            "<tr><td>tintapatron</td></tr>",
                            "<tr><td>toll</td></tr>",
                            "<tr><td>tollbetét</td></tr>",
                            "<tr><td>tolltartó</td></tr>",
                            "<tr><td>toner</td></tr>",
                            "<tr><td>töltőtoll</td></tr>",
                            "<tr><td>tűzőgép</td></tr>",
                            "<tr><td>tűzőkapocs</td></tr>",
                            "<tr><td>vízfesték</td></tr>",
                            "<tr><td>vonalzó</td></tr>",
                            "<tr><td>zászló</td></tr>",
                            "<tr><td>zseléstoll</td></tr>",
                            "<tr><td>írásvetítő fólia</td></tr>",
                            "</table>"
                        ]
                    }
                }
            ],
            "execution_count": 22
        },
        {
            "cell_type": "markdown",
            "source": [
                "15. <span style=\"background-color: rgb(255, 255, 255); color: rgb(0, 0, 0); font-family: &quot;Open Sans&quot;, sans-serif; font-size: 14.44px;\">Listázzuk azon rendelési tételeket, amelynek értéke nagyobb, mint a legdrágább termék listaára azon termékek közül, amelyek szülő kategóriája a ruha!</span>"
            ],
            "metadata": {
                "azdata_cell_guid": "93552388-ffec-49ff-99e5-ae8dc8072601"
            },
            "attachments": {}
        },
        {
            "cell_type": "code",
            "source": [
                "SELECT rt.EGYSEGAR,*\r\n",
                "FROM Rendeles_tetel rt JOIN Termek t ON rt.TERMEKKOD = t.TERMEKKOD\r\n",
                "        JOIN Termekkategoria tk ON t.kat_id = tk.kat_id\r\n",
                "WHERE rt.EGYSEGAR > (SELECT MAX(t.LISTAAR)\r\n",
                "    FROM Termek t JOIN Termekkategoria tk ON t.kat_id = tk.kat_id\r\n",
                "    WHERE tk.kat_nev = 'ruha'\r\n",
                ") /*nincs ruha kategória"
            ],
            "metadata": {
                "azdata_cell_guid": "0e7f547f-7d96-4611-b1c2-0fa84a581e79",
                "language": "sql",
                "tags": []
            },
            "outputs": [
                {
                    "output_type": "display_data",
                    "data": {
                        "text/html": "(551 rows affected)"
                    },
                    "metadata": {}
                },
                {
                    "output_type": "display_data",
                    "data": {
                        "text/html": "Total execution time: 00:00:00.193"
                    },
                    "metadata": {}
                },
                {
                    "output_type": "execute_result",
                    "metadata": {},
                    "execution_count": 33,
                    "data": {
                        "application/vnd.dataresource+json": {
                            "schema": {
                                "fields": [
                                    {
                                        "name": "LISTAAR"
                                    },
                                    {
                                        "name": "KAT_ID"
                                    },
                                    {
                                        "name": "KAT_NEV"
                                    },
                                    {
                                        "name": "SZULO_KAT"
                                    }
                                ]
                            },
                            "data": [
                                {
                                    "LISTAAR": "1089",
                                    "KAT_ID": "4",
                                    "KAT_NEV": "könyv",
                                    "SZULO_KAT": "NULL"
                                },
                                {
                                    "LISTAAR": "1089",
                                    "KAT_ID": "4",
                                    "KAT_NEV": "könyv",
                                    "SZULO_KAT": "NULL"
                                },
                                {
                                    "LISTAAR": "1089",
                                    "KAT_ID": "4",
                                    "KAT_NEV": "könyv",
                                    "SZULO_KAT": "NULL"
                                },
                                {
                                    "LISTAAR": "674",
                                    "KAT_ID": "4",
                                    "KAT_NEV": "könyv",
                                    "SZULO_KAT": "NULL"
                                },
                                {
                                    "LISTAAR": "308",
                                    "KAT_ID": "4",
                                    "KAT_NEV": "könyv",
                                    "SZULO_KAT": "NULL"
                                },
                                {
                                    "LISTAAR": "868",
                                    "KAT_ID": "4",
                                    "KAT_NEV": "könyv",
                                    "SZULO_KAT": "NULL"
                                },
                                {
                                    "LISTAAR": "691",
                                    "KAT_ID": "4",
                                    "KAT_NEV": "könyv",
                                    "SZULO_KAT": "NULL"
                                },
                                {
                                    "LISTAAR": "214",
                                    "KAT_ID": "4",
                                    "KAT_NEV": "könyv",
                                    "SZULO_KAT": "NULL"
                                },
                                {
                                    "LISTAAR": "735",
                                    "KAT_ID": "4",
                                    "KAT_NEV": "könyv",
                                    "SZULO_KAT": "NULL"
                                },
                                {
                                    "LISTAAR": "720",
                                    "KAT_ID": "4",
                                    "KAT_NEV": "könyv",
                                    "SZULO_KAT": "NULL"
                                },
                                {
                                    "LISTAAR": "440",
                                    "KAT_ID": "4",
                                    "KAT_NEV": "könyv",
                                    "SZULO_KAT": "NULL"
                                },
                                {
                                    "LISTAAR": "440",
                                    "KAT_ID": "4",
                                    "KAT_NEV": "könyv",
                                    "SZULO_KAT": "NULL"
                                },
                                {
                                    "LISTAAR": "324",
                                    "KAT_ID": "4",
                                    "KAT_NEV": "könyv",
                                    "SZULO_KAT": "NULL"
                                },
                                {
                                    "LISTAAR": "345",
                                    "KAT_ID": "4",
                                    "KAT_NEV": "könyv",
                                    "SZULO_KAT": "NULL"
                                },
                                {
                                    "LISTAAR": "291",
                                    "KAT_ID": "4",
                                    "KAT_NEV": "könyv",
                                    "SZULO_KAT": "NULL"
                                },
                                {
                                    "LISTAAR": "24",
                                    "KAT_ID": "5",
                                    "KAT_NEV": "ajándék tárgy",
                                    "SZULO_KAT": "1"
                                },
                                {
                                    "LISTAAR": "129",
                                    "KAT_ID": "5",
                                    "KAT_NEV": "ajándék tárgy",
                                    "SZULO_KAT": "1"
                                },
                                {
                                    "LISTAAR": "73",
                                    "KAT_ID": "5",
                                    "KAT_NEV": "ajándék tárgy",
                                    "SZULO_KAT": "1"
                                },
                                {
                                    "LISTAAR": "11",
                                    "KAT_ID": "6",
                                    "KAT_NEV": "ajándék tasak",
                                    "SZULO_KAT": "5"
                                },
                                {
                                    "LISTAAR": "26",
                                    "KAT_ID": "6",
                                    "KAT_NEV": "ajándék tasak",
                                    "SZULO_KAT": "5"
                                },
                                {
                                    "LISTAAR": "148",
                                    "KAT_ID": "6",
                                    "KAT_NEV": "ajándék tasak",
                                    "SZULO_KAT": "5"
                                },
                                {
                                    "LISTAAR": "40",
                                    "KAT_ID": "6",
                                    "KAT_NEV": "ajándék tasak",
                                    "SZULO_KAT": "5"
                                },
                                {
                                    "LISTAAR": "185",
                                    "KAT_ID": "6",
                                    "KAT_NEV": "ajándék tasak",
                                    "SZULO_KAT": "5"
                                },
                                {
                                    "LISTAAR": "19",
                                    "KAT_ID": "6",
                                    "KAT_NEV": "ajándék tasak",
                                    "SZULO_KAT": "5"
                                },
                                {
                                    "LISTAAR": "290",
                                    "KAT_ID": "6",
                                    "KAT_NEV": "ajándék tasak",
                                    "SZULO_KAT": "5"
                                },
                                {
                                    "LISTAAR": "26",
                                    "KAT_ID": "6",
                                    "KAT_NEV": "ajándék tasak",
                                    "SZULO_KAT": "5"
                                },
                                {
                                    "LISTAAR": "206",
                                    "KAT_ID": "6",
                                    "KAT_NEV": "ajándék tasak",
                                    "SZULO_KAT": "5"
                                },
                                {
                                    "LISTAAR": "103",
                                    "KAT_ID": "6",
                                    "KAT_NEV": "ajándék tasak",
                                    "SZULO_KAT": "5"
                                },
                                {
                                    "LISTAAR": "148",
                                    "KAT_ID": "6",
                                    "KAT_NEV": "ajándék tasak",
                                    "SZULO_KAT": "5"
                                },
                                {
                                    "LISTAAR": "206",
                                    "KAT_ID": "6",
                                    "KAT_NEV": "ajándék tasak",
                                    "SZULO_KAT": "5"
                                },
                                {
                                    "LISTAAR": "148",
                                    "KAT_ID": "6",
                                    "KAT_NEV": "ajándék tasak",
                                    "SZULO_KAT": "5"
                                },
                                {
                                    "LISTAAR": "125",
                                    "KAT_ID": "6",
                                    "KAT_NEV": "ajándék tasak",
                                    "SZULO_KAT": "5"
                                },
                                {
                                    "LISTAAR": "64",
                                    "KAT_ID": "6",
                                    "KAT_NEV": "ajándék tasak",
                                    "SZULO_KAT": "5"
                                },
                                {
                                    "LISTAAR": "81",
                                    "KAT_ID": "6",
                                    "KAT_NEV": "ajándék tasak",
                                    "SZULO_KAT": "5"
                                },
                                {
                                    "LISTAAR": "169",
                                    "KAT_ID": "6",
                                    "KAT_NEV": "ajándék tasak",
                                    "SZULO_KAT": "5"
                                },
                                {
                                    "LISTAAR": "185",
                                    "KAT_ID": "6",
                                    "KAT_NEV": "ajándék tasak",
                                    "SZULO_KAT": "5"
                                },
                                {
                                    "LISTAAR": "214",
                                    "KAT_ID": "6",
                                    "KAT_NEV": "ajándék tasak",
                                    "SZULO_KAT": "5"
                                },
                                {
                                    "LISTAAR": "114",
                                    "KAT_ID": "6",
                                    "KAT_NEV": "ajándék tasak",
                                    "SZULO_KAT": "5"
                                },
                                {
                                    "LISTAAR": "89",
                                    "KAT_ID": "7",
                                    "KAT_NEV": "álarc",
                                    "SZULO_KAT": "5"
                                },
                                {
                                    "LISTAAR": "144",
                                    "KAT_ID": "7",
                                    "KAT_NEV": "álarc",
                                    "SZULO_KAT": "5"
                                },
                                {
                                    "LISTAAR": "144",
                                    "KAT_ID": "7",
                                    "KAT_NEV": "álarc",
                                    "SZULO_KAT": "5"
                                },
                                {
                                    "LISTAAR": "16900",
                                    "KAT_ID": "8",
                                    "KAT_NEV": "alkalmi",
                                    "SZULO_KAT": "2"
                                },
                                {
                                    "LISTAAR": "16900",
                                    "KAT_ID": "8",
                                    "KAT_NEV": "alkalmi",
                                    "SZULO_KAT": "2"
                                },
                                {
                                    "LISTAAR": "32000",
                                    "KAT_ID": "8",
                                    "KAT_NEV": "alkalmi",
                                    "SZULO_KAT": "2"
                                },
                                {
                                    "LISTAAR": "118",
                                    "KAT_ID": "9",
                                    "KAT_NEV": "alufólia",
                                    "SZULO_KAT": "63"
                                },
                                {
                                    "LISTAAR": "214",
                                    "KAT_ID": "9",
                                    "KAT_NEV": "alufólia",
                                    "SZULO_KAT": "63"
                                },
                                {
                                    "LISTAAR": "106",
                                    "KAT_ID": "10",
                                    "KAT_NEV": "árazószalag",
                                    "SZULO_KAT": "74"
                                },
                                {
                                    "LISTAAR": "115",
                                    "KAT_ID": "11",
                                    "KAT_NEV": "átírótömb",
                                    "SZULO_KAT": "74"
                                },
                                {
                                    "LISTAAR": "228",
                                    "KAT_ID": "12",
                                    "KAT_NEV": "beíró",
                                    "SZULO_KAT": "78"
                                },
                                {
                                    "LISTAAR": "133",
                                    "KAT_ID": "13",
                                    "KAT_NEV": "beírókönyv",
                                    "SZULO_KAT": "74"
                                },
                                {
                                    "LISTAAR": "328",
                                    "KAT_ID": "13",
                                    "KAT_NEV": "beírókönyv",
                                    "SZULO_KAT": "74"
                                },
                                {
                                    "LISTAAR": "780",
                                    "KAT_ID": "14",
                                    "KAT_NEV": "bélyegző",
                                    "SZULO_KAT": "74"
                                },
                                {
                                    "LISTAAR": "650",
                                    "KAT_ID": "14",
                                    "KAT_NEV": "bélyegző",
                                    "SZULO_KAT": "74"
                                },
                                {
                                    "LISTAAR": "1377",
                                    "KAT_ID": "14",
                                    "KAT_NEV": "bélyegző",
                                    "SZULO_KAT": "74"
                                },
                                {
                                    "LISTAAR": "1147",
                                    "KAT_ID": "14",
                                    "KAT_NEV": "bélyegző",
                                    "SZULO_KAT": "74"
                                },
                                {
                                    "LISTAAR": "297",
                                    "KAT_ID": "15",
                                    "KAT_NEV": "bélyegzőfesték",
                                    "SZULO_KAT": "74"
                                },
                                {
                                    "LISTAAR": "15",
                                    "KAT_ID": "16",
                                    "KAT_NEV": "boríték",
                                    "SZULO_KAT": "74"
                                },
                                {
                                    "LISTAAR": "18",
                                    "KAT_ID": "16",
                                    "KAT_NEV": "boríték",
                                    "SZULO_KAT": "74"
                                },
                                {
                                    "LISTAAR": "6",
                                    "KAT_ID": "16",
                                    "KAT_NEV": "boríték",
                                    "SZULO_KAT": "74"
                                },
                                {
                                    "LISTAAR": "6",
                                    "KAT_ID": "16",
                                    "KAT_NEV": "boríték",
                                    "SZULO_KAT": "74"
                                },
                                {
                                    "LISTAAR": "3",
                                    "KAT_ID": "16",
                                    "KAT_NEV": "boríték",
                                    "SZULO_KAT": "74"
                                },
                                {
                                    "LISTAAR": "39",
                                    "KAT_ID": "16",
                                    "KAT_NEV": "boríték",
                                    "SZULO_KAT": "74"
                                },
                                {
                                    "LISTAAR": "15",
                                    "KAT_ID": "16",
                                    "KAT_NEV": "boríték",
                                    "SZULO_KAT": "74"
                                },
                                {
                                    "LISTAAR": "30",
                                    "KAT_ID": "17",
                                    "KAT_NEV": "cd tok",
                                    "SZULO_KAT": "74"
                                },
                                {
                                    "LISTAAR": "46",
                                    "KAT_ID": "18",
                                    "KAT_NEV": "celofán",
                                    "SZULO_KAT": "63"
                                },
                                {
                                    "LISTAAR": "73",
                                    "KAT_ID": "18",
                                    "KAT_NEV": "celofán",
                                    "SZULO_KAT": "63"
                                },
                                {
                                    "LISTAAR": "146",
                                    "KAT_ID": "19",
                                    "KAT_NEV": "ceruza",
                                    "SZULO_KAT": "77"
                                },
                                {
                                    "LISTAAR": "35",
                                    "KAT_ID": "19",
                                    "KAT_NEV": "ceruza",
                                    "SZULO_KAT": "77"
                                },
                                {
                                    "LISTAAR": "40",
                                    "KAT_ID": "19",
                                    "KAT_NEV": "ceruza",
                                    "SZULO_KAT": "77"
                                },
                                {
                                    "LISTAAR": "11",
                                    "KAT_ID": "19",
                                    "KAT_NEV": "ceruza",
                                    "SZULO_KAT": "77"
                                },
                                {
                                    "LISTAAR": "39",
                                    "KAT_ID": "19",
                                    "KAT_NEV": "ceruza",
                                    "SZULO_KAT": "77"
                                },
                                {
                                    "LISTAAR": "55",
                                    "KAT_ID": "19",
                                    "KAT_NEV": "ceruza",
                                    "SZULO_KAT": "77"
                                },
                                {
                                    "LISTAAR": "40",
                                    "KAT_ID": "19",
                                    "KAT_NEV": "ceruza",
                                    "SZULO_KAT": "77"
                                },
                                {
                                    "LISTAAR": "30",
                                    "KAT_ID": "19",
                                    "KAT_NEV": "ceruza",
                                    "SZULO_KAT": "77"
                                },
                                {
                                    "LISTAAR": "39",
                                    "KAT_ID": "19",
                                    "KAT_NEV": "ceruza",
                                    "SZULO_KAT": "77"
                                },
                                {
                                    "LISTAAR": "53",
                                    "KAT_ID": "19",
                                    "KAT_NEV": "ceruza",
                                    "SZULO_KAT": "77"
                                },
                                {
                                    "LISTAAR": "23",
                                    "KAT_ID": "19",
                                    "KAT_NEV": "ceruza",
                                    "SZULO_KAT": "77"
                                },
                                {
                                    "LISTAAR": "55",
                                    "KAT_ID": "19",
                                    "KAT_NEV": "ceruza",
                                    "SZULO_KAT": "77"
                                },
                                {
                                    "LISTAAR": "59",
                                    "KAT_ID": "19",
                                    "KAT_NEV": "ceruza",
                                    "SZULO_KAT": "77"
                                },
                                {
                                    "LISTAAR": "40",
                                    "KAT_ID": "19",
                                    "KAT_NEV": "ceruza",
                                    "SZULO_KAT": "77"
                                },
                                {
                                    "LISTAAR": "106",
                                    "KAT_ID": "19",
                                    "KAT_NEV": "ceruza",
                                    "SZULO_KAT": "77"
                                },
                                {
                                    "LISTAAR": "11",
                                    "KAT_ID": "19",
                                    "KAT_NEV": "ceruza",
                                    "SZULO_KAT": "77"
                                },
                                {
                                    "LISTAAR": "58",
                                    "KAT_ID": "19",
                                    "KAT_NEV": "ceruza",
                                    "SZULO_KAT": "77"
                                },
                                {
                                    "LISTAAR": "36",
                                    "KAT_ID": "19",
                                    "KAT_NEV": "ceruza",
                                    "SZULO_KAT": "77"
                                },
                                {
                                    "LISTAAR": "44",
                                    "KAT_ID": "19",
                                    "KAT_NEV": "ceruza",
                                    "SZULO_KAT": "77"
                                },
                                {
                                    "LISTAAR": "26",
                                    "KAT_ID": "20",
                                    "KAT_NEV": "címke",
                                    "SZULO_KAT": "5"
                                },
                                {
                                    "LISTAAR": "31",
                                    "KAT_ID": "20",
                                    "KAT_NEV": "címke",
                                    "SZULO_KAT": "5"
                                },
                                {
                                    "LISTAAR": "20",
                                    "KAT_ID": "20",
                                    "KAT_NEV": "címke",
                                    "SZULO_KAT": "5"
                                },
                                {
                                    "LISTAAR": "1500",
                                    "KAT_ID": "21",
                                    "KAT_NEV": "color copy",
                                    "SZULO_KAT": "113"
                                },
                                {
                                    "LISTAAR": "14",
                                    "KAT_ID": "21",
                                    "KAT_NEV": "color copy",
                                    "SZULO_KAT": "113"
                                },
                                {
                                    "LISTAAR": "10",
                                    "KAT_ID": "21",
                                    "KAT_NEV": "color copy",
                                    "SZULO_KAT": "113"
                                },
                                {
                                    "LISTAAR": "15",
                                    "KAT_ID": "21",
                                    "KAT_NEV": "color copy",
                                    "SZULO_KAT": "113"
                                },
                                {
                                    "LISTAAR": "14",
                                    "KAT_ID": "21",
                                    "KAT_NEV": "color copy",
                                    "SZULO_KAT": "113"
                                },
                                {
                                    "LISTAAR": "110",
                                    "KAT_ID": "22",
                                    "KAT_NEV": "csomagoló",
                                    "SZULO_KAT": "63"
                                },
                                {
                                    "LISTAAR": "89",
                                    "KAT_ID": "22",
                                    "KAT_NEV": "csomagoló",
                                    "SZULO_KAT": "63"
                                },
                                {
                                    "LISTAAR": "148",
                                    "KAT_ID": "24",
                                    "KAT_NEV": "csomagoló papír",
                                    "SZULO_KAT": "23"
                                },
                                {
                                    "LISTAAR": "121",
                                    "KAT_ID": "24",
                                    "KAT_NEV": "csomagoló papír",
                                    "SZULO_KAT": "23"
                                },
                                {
                                    "LISTAAR": "56",
                                    "KAT_ID": "24",
                                    "KAT_NEV": "csomagoló papír",
                                    "SZULO_KAT": "23"
                                },
                                {
                                    "LISTAAR": "44",
                                    "KAT_ID": "24",
                                    "KAT_NEV": "csomagoló papír",
                                    "SZULO_KAT": "23"
                                },
                                {
                                    "LISTAAR": "23",
                                    "KAT_ID": "24",
                                    "KAT_NEV": "csomagoló papír",
                                    "SZULO_KAT": "23"
                                },
                                {
                                    "LISTAAR": "220",
                                    "KAT_ID": "24",
                                    "KAT_NEV": "csomagoló papír",
                                    "SZULO_KAT": "23"
                                },
                                {
                                    "LISTAAR": "106",
                                    "KAT_ID": "24",
                                    "KAT_NEV": "csomagoló papír",
                                    "SZULO_KAT": "23"
                                },
                                {
                                    "LISTAAR": "44",
                                    "KAT_ID": "25",
                                    "KAT_NEV": "dekor",
                                    "SZULO_KAT": "5"
                                },
                                {
                                    "LISTAAR": "23",
                                    "KAT_ID": "25",
                                    "KAT_NEV": "dekor",
                                    "SZULO_KAT": "5"
                                },
                                {
                                    "LISTAAR": "3",
                                    "KAT_ID": "25",
                                    "KAT_NEV": "dekor",
                                    "SZULO_KAT": "5"
                                },
                                {
                                    "LISTAAR": "15",
                                    "KAT_ID": "25",
                                    "KAT_NEV": "dekor",
                                    "SZULO_KAT": "5"
                                },
                                {
                                    "LISTAAR": "9",
                                    "KAT_ID": "26",
                                    "KAT_NEV": "dipa",
                                    "SZULO_KAT": "113"
                                },
                                {
                                    "LISTAAR": "61",
                                    "KAT_ID": "27",
                                    "KAT_NEV": "díszdoboz",
                                    "SZULO_KAT": "5"
                                },
                                {
                                    "LISTAAR": "66",
                                    "KAT_ID": "27",
                                    "KAT_NEV": "díszdoboz",
                                    "SZULO_KAT": "5"
                                },
                                {
                                    "LISTAAR": "44",
                                    "KAT_ID": "27",
                                    "KAT_NEV": "díszdoboz",
                                    "SZULO_KAT": "5"
                                },
                                {
                                    "LISTAAR": "26",
                                    "KAT_ID": "28",
                                    "KAT_NEV": "díszkötöző",
                                    "SZULO_KAT": "23"
                                },
                                {
                                    "LISTAAR": "44",
                                    "KAT_ID": "28",
                                    "KAT_NEV": "díszkötöző",
                                    "SZULO_KAT": "23"
                                },
                                {
                                    "LISTAAR": "15",
                                    "KAT_ID": "28",
                                    "KAT_NEV": "díszkötöző",
                                    "SZULO_KAT": "23"
                                },
                                {
                                    "LISTAAR": "15",
                                    "KAT_ID": "28",
                                    "KAT_NEV": "díszkötöző",
                                    "SZULO_KAT": "23"
                                },
                                {
                                    "LISTAAR": "81",
                                    "KAT_ID": "28",
                                    "KAT_NEV": "díszkötöző",
                                    "SZULO_KAT": "23"
                                },
                                {
                                    "LISTAAR": "133",
                                    "KAT_ID": "29",
                                    "KAT_NEV": "dvd",
                                    "SZULO_KAT": "74"
                                },
                                {
                                    "LISTAAR": "40",
                                    "KAT_ID": "30",
                                    "KAT_NEV": "ecset",
                                    "SZULO_KAT": "78"
                                },
                                {
                                    "LISTAAR": "33",
                                    "KAT_ID": "30",
                                    "KAT_NEV": "ecset",
                                    "SZULO_KAT": "78"
                                },
                                {
                                    "LISTAAR": "60",
                                    "KAT_ID": "30",
                                    "KAT_NEV": "ecset",
                                    "SZULO_KAT": "78"
                                },
                                {
                                    "LISTAAR": "65",
                                    "KAT_ID": "30",
                                    "KAT_NEV": "ecset",
                                    "SZULO_KAT": "78"
                                },
                                {
                                    "LISTAAR": "36",
                                    "KAT_ID": "30",
                                    "KAT_NEV": "ecset",
                                    "SZULO_KAT": "78"
                                },
                                {
                                    "LISTAAR": "79",
                                    "KAT_ID": "30",
                                    "KAT_NEV": "ecset",
                                    "SZULO_KAT": "78"
                                },
                                {
                                    "LISTAAR": "180",
                                    "KAT_ID": "30",
                                    "KAT_NEV": "ecset",
                                    "SZULO_KAT": "78"
                                },
                                {
                                    "LISTAAR": "25",
                                    "KAT_ID": "31",
                                    "KAT_NEV": "előlap",
                                    "SZULO_KAT": "113"
                                },
                                {
                                    "LISTAAR": "316",
                                    "KAT_ID": "32",
                                    "KAT_NEV": "emlékkönyv",
                                    "SZULO_KAT": "5"
                                },
                                {
                                    "LISTAAR": "449",
                                    "KAT_ID": "32",
                                    "KAT_NEV": "emlékkönyv",
                                    "SZULO_KAT": "5"
                                },
                                {
                                    "LISTAAR": "526",
                                    "KAT_ID": "32",
                                    "KAT_NEV": "emlékkönyv",
                                    "SZULO_KAT": "5"
                                },
                                {
                                    "LISTAAR": "26",
                                    "KAT_ID": "33",
                                    "KAT_NEV": "emléklap",
                                    "SZULO_KAT": "113"
                                },
                                {
                                    "LISTAAR": "161",
                                    "KAT_ID": "34",
                                    "KAT_NEV": "fax papír",
                                    "SZULO_KAT": "113"
                                },
                                {
                                    "LISTAAR": "690",
                                    "KAT_ID": "35",
                                    "KAT_NEV": "fehérnemű",
                                    "SZULO_KAT": "2"
                                },
                                {
                                    "LISTAAR": "390",
                                    "KAT_ID": "35",
                                    "KAT_NEV": "fehérnemű",
                                    "SZULO_KAT": "2"
                                },
                                {
                                    "LISTAAR": "240",
                                    "KAT_ID": "35",
                                    "KAT_NEV": "fehérnemű",
                                    "SZULO_KAT": "2"
                                },
                                {
                                    "LISTAAR": "990",
                                    "KAT_ID": "35",
                                    "KAT_NEV": "fehérnemű",
                                    "SZULO_KAT": "2"
                                },
                                {
                                    "LISTAAR": "390",
                                    "KAT_ID": "35",
                                    "KAT_NEV": "fehérnemű",
                                    "SZULO_KAT": "2"
                                },
                                {
                                    "LISTAAR": "240",
                                    "KAT_ID": "35",
                                    "KAT_NEV": "fehérnemű",
                                    "SZULO_KAT": "2"
                                },
                                {
                                    "LISTAAR": "990",
                                    "KAT_ID": "35",
                                    "KAT_NEV": "fehérnemű",
                                    "SZULO_KAT": "2"
                                },
                                {
                                    "LISTAAR": "845",
                                    "KAT_ID": "36",
                                    "KAT_NEV": "fénymásoló papír",
                                    "SZULO_KAT": "113"
                                },
                                {
                                    "LISTAAR": "728",
                                    "KAT_ID": "36",
                                    "KAT_NEV": "fénymásoló papír",
                                    "SZULO_KAT": "113"
                                },
                                {
                                    "LISTAAR": "728",
                                    "KAT_ID": "36",
                                    "KAT_NEV": "fénymásoló papír",
                                    "SZULO_KAT": "113"
                                },
                                {
                                    "LISTAAR": "1488",
                                    "KAT_ID": "36",
                                    "KAT_NEV": "fénymásoló papír",
                                    "SZULO_KAT": "113"
                                },
                                {
                                    "LISTAAR": "686",
                                    "KAT_ID": "36",
                                    "KAT_NEV": "fénymásoló papír",
                                    "SZULO_KAT": "113"
                                },
                                {
                                    "LISTAAR": "6490",
                                    "KAT_ID": "37",
                                    "KAT_NEV": "férfi ing",
                                    "SZULO_KAT": "69"
                                },
                                {
                                    "LISTAAR": "22000",
                                    "KAT_ID": "38",
                                    "KAT_NEV": "férfi kabát",
                                    "SZULO_KAT": "81"
                                },
                                {
                                    "LISTAAR": "7890",
                                    "KAT_ID": "39",
                                    "KAT_NEV": "férfi nadrág",
                                    "SZULO_KAT": "102"
                                },
                                {
                                    "LISTAAR": "11900",
                                    "KAT_ID": "39",
                                    "KAT_NEV": "férfi nadrág",
                                    "SZULO_KAT": "102"
                                },
                                {
                                    "LISTAAR": "625",
                                    "KAT_ID": "40",
                                    "KAT_NEV": "festékpatron",
                                    "SZULO_KAT": "74"
                                },
                                {
                                    "LISTAAR": "53",
                                    "KAT_ID": "41",
                                    "KAT_NEV": "filctoll",
                                    "SZULO_KAT": "77"
                                },
                                {
                                    "LISTAAR": "76",
                                    "KAT_ID": "41",
                                    "KAT_NEV": "filctoll",
                                    "SZULO_KAT": "77"
                                },
                                {
                                    "LISTAAR": "114",
                                    "KAT_ID": "41",
                                    "KAT_NEV": "filctoll",
                                    "SZULO_KAT": "77"
                                },
                                {
                                    "LISTAAR": "103",
                                    "KAT_ID": "41",
                                    "KAT_NEV": "filctoll",
                                    "SZULO_KAT": "77"
                                },
                                {
                                    "LISTAAR": "276",
                                    "KAT_ID": "41",
                                    "KAT_NEV": "filctoll",
                                    "SZULO_KAT": "77"
                                },
                                {
                                    "LISTAAR": "0",
                                    "KAT_ID": "41",
                                    "KAT_NEV": "filctoll",
                                    "SZULO_KAT": "77"
                                },
                                {
                                    "LISTAAR": "434",
                                    "KAT_ID": "41",
                                    "KAT_NEV": "filctoll",
                                    "SZULO_KAT": "77"
                                },
                                {
                                    "LISTAAR": "26",
                                    "KAT_ID": "41",
                                    "KAT_NEV": "filctoll",
                                    "SZULO_KAT": "77"
                                },
                                {
                                    "LISTAAR": "278",
                                    "KAT_ID": "41",
                                    "KAT_NEV": "filctoll",
                                    "SZULO_KAT": "77"
                                },
                                {
                                    "LISTAAR": "434",
                                    "KAT_ID": "41",
                                    "KAT_NEV": "filctoll",
                                    "SZULO_KAT": "77"
                                },
                                {
                                    "LISTAAR": "390",
                                    "KAT_ID": "41",
                                    "KAT_NEV": "filctoll",
                                    "SZULO_KAT": "77"
                                },
                                {
                                    "LISTAAR": "140",
                                    "KAT_ID": "41",
                                    "KAT_NEV": "filctoll",
                                    "SZULO_KAT": "77"
                                },
                                {
                                    "LISTAAR": "46",
                                    "KAT_ID": "41",
                                    "KAT_NEV": "filctoll",
                                    "SZULO_KAT": "77"
                                },
                                {
                                    "LISTAAR": "51",
                                    "KAT_ID": "42",
                                    "KAT_NEV": "floppy",
                                    "SZULO_KAT": "74"
                                },
                                {
                                    "LISTAAR": "44",
                                    "KAT_ID": "43",
                                    "KAT_NEV": "fólia",
                                    "SZULO_KAT": "74"
                                },
                                {
                                    "LISTAAR": "40",
                                    "KAT_ID": "43",
                                    "KAT_NEV": "fólia",
                                    "SZULO_KAT": "74"
                                },
                                {
                                    "LISTAAR": "44",
                                    "KAT_ID": "43",
                                    "KAT_NEV": "fólia",
                                    "SZULO_KAT": "74"
                                },
                                {
                                    "LISTAAR": "30",
                                    "KAT_ID": "44",
                                    "KAT_NEV": "fotópapír",
                                    "SZULO_KAT": "113"
                                },
                                {
                                    "LISTAAR": "206",
                                    "KAT_ID": "45",
                                    "KAT_NEV": "füzet",
                                    "SZULO_KAT": "78"
                                },
                                {
                                    "LISTAAR": "155",
                                    "KAT_ID": "45",
                                    "KAT_NEV": "füzet",
                                    "SZULO_KAT": "78"
                                },
                                {
                                    "LISTAAR": "144",
                                    "KAT_ID": "45",
                                    "KAT_NEV": "füzet",
                                    "SZULO_KAT": "78"
                                },
                                {
                                    "LISTAAR": "89",
                                    "KAT_ID": "45",
                                    "KAT_NEV": "füzet",
                                    "SZULO_KAT": "78"
                                },
                                {
                                    "LISTAAR": "68",
                                    "KAT_ID": "45",
                                    "KAT_NEV": "füzet",
                                    "SZULO_KAT": "78"
                                },
                                {
                                    "LISTAAR": "78",
                                    "KAT_ID": "45",
                                    "KAT_NEV": "füzet",
                                    "SZULO_KAT": "78"
                                },
                                {
                                    "LISTAAR": "34",
                                    "KAT_ID": "45",
                                    "KAT_NEV": "füzet",
                                    "SZULO_KAT": "78"
                                },
                                {
                                    "LISTAAR": "30",
                                    "KAT_ID": "45",
                                    "KAT_NEV": "füzet",
                                    "SZULO_KAT": "78"
                                },
                                {
                                    "LISTAAR": "48",
                                    "KAT_ID": "45",
                                    "KAT_NEV": "füzet",
                                    "SZULO_KAT": "78"
                                },
                                {
                                    "LISTAAR": "34",
                                    "KAT_ID": "45",
                                    "KAT_NEV": "füzet",
                                    "SZULO_KAT": "78"
                                },
                                {
                                    "LISTAAR": "161",
                                    "KAT_ID": "45",
                                    "KAT_NEV": "füzet",
                                    "SZULO_KAT": "78"
                                },
                                {
                                    "LISTAAR": "24",
                                    "KAT_ID": "46",
                                    "KAT_NEV": "füzetborító",
                                    "SZULO_KAT": "78"
                                },
                                {
                                    "LISTAAR": "10",
                                    "KAT_ID": "46",
                                    "KAT_NEV": "füzetborító",
                                    "SZULO_KAT": "78"
                                },
                                {
                                    "LISTAAR": "8",
                                    "KAT_ID": "46",
                                    "KAT_NEV": "füzetborító",
                                    "SZULO_KAT": "78"
                                },
                                {
                                    "LISTAAR": "19",
                                    "KAT_ID": "46",
                                    "KAT_NEV": "füzetborító",
                                    "SZULO_KAT": "78"
                                },
                                {
                                    "LISTAAR": "23",
                                    "KAT_ID": "46",
                                    "KAT_NEV": "füzetborító",
                                    "SZULO_KAT": "78"
                                },
                                {
                                    "LISTAAR": "195",
                                    "KAT_ID": "46",
                                    "KAT_NEV": "füzetborító",
                                    "SZULO_KAT": "78"
                                },
                                {
                                    "LISTAAR": "19",
                                    "KAT_ID": "46",
                                    "KAT_NEV": "füzetborító",
                                    "SZULO_KAT": "78"
                                },
                                {
                                    "LISTAAR": "551",
                                    "KAT_ID": "47",
                                    "KAT_NEV": "füzettartó",
                                    "SZULO_KAT": "78"
                                },
                                {
                                    "LISTAAR": "508",
                                    "KAT_ID": "47",
                                    "KAT_NEV": "füzettartó",
                                    "SZULO_KAT": "78"
                                },
                                {
                                    "LISTAAR": "411",
                                    "KAT_ID": "47",
                                    "KAT_NEV": "füzettartó",
                                    "SZULO_KAT": "78"
                                },
                                {
                                    "LISTAAR": "203",
                                    "KAT_ID": "47",
                                    "KAT_NEV": "füzettartó",
                                    "SZULO_KAT": "78"
                                },
                                {
                                    "LISTAAR": "30",
                                    "KAT_ID": "48",
                                    "KAT_NEV": "gemkapocs",
                                    "SZULO_KAT": "74"
                                },
                                {
                                    "LISTAAR": "48",
                                    "KAT_ID": "48",
                                    "KAT_NEV": "gemkapocs",
                                    "SZULO_KAT": "74"
                                },
                                {
                                    "LISTAAR": "44",
                                    "KAT_ID": "49",
                                    "KAT_NEV": "gémkapocs",
                                    "SZULO_KAT": "74"
                                },
                                {
                                    "LISTAAR": "103",
                                    "KAT_ID": "49",
                                    "KAT_NEV": "gémkapocs",
                                    "SZULO_KAT": "74"
                                },
                                {
                                    "LISTAAR": "89",
                                    "KAT_ID": "50",
                                    "KAT_NEV": "genoterm",
                                    "SZULO_KAT": "74"
                                },
                                {
                                    "LISTAAR": "8",
                                    "KAT_ID": "51",
                                    "KAT_NEV": "genotherm",
                                    "SZULO_KAT": "74"
                                },
                                {
                                    "LISTAAR": "63",
                                    "KAT_ID": "51",
                                    "KAT_NEV": "genotherm",
                                    "SZULO_KAT": "74"
                                },
                                {
                                    "LISTAAR": "110",
                                    "KAT_ID": "51",
                                    "KAT_NEV": "genotherm",
                                    "SZULO_KAT": "74"
                                },
                                {
                                    "LISTAAR": "218",
                                    "KAT_ID": "52",
                                    "KAT_NEV": "golyóstoll",
                                    "SZULO_KAT": "77"
                                },
                                {
                                    "LISTAAR": "455",
                                    "KAT_ID": "52",
                                    "KAT_NEV": "golyóstoll",
                                    "SZULO_KAT": "77"
                                },
                                {
                                    "LISTAAR": "655",
                                    "KAT_ID": "52",
                                    "KAT_NEV": "golyóstoll",
                                    "SZULO_KAT": "77"
                                },
                                {
                                    "LISTAAR": "189",
                                    "KAT_ID": "52",
                                    "KAT_NEV": "golyóstoll",
                                    "SZULO_KAT": "77"
                                },
                                {
                                    "LISTAAR": "94",
                                    "KAT_ID": "52",
                                    "KAT_NEV": "golyóstoll",
                                    "SZULO_KAT": "77"
                                },
                                {
                                    "LISTAAR": "81",
                                    "KAT_ID": "52",
                                    "KAT_NEV": "golyóstoll",
                                    "SZULO_KAT": "77"
                                },
                                {
                                    "LISTAAR": "273",
                                    "KAT_ID": "52",
                                    "KAT_NEV": "golyóstoll",
                                    "SZULO_KAT": "77"
                                },
                                {
                                    "LISTAAR": "110",
                                    "KAT_ID": "52",
                                    "KAT_NEV": "golyóstoll",
                                    "SZULO_KAT": "77"
                                },
                                {
                                    "LISTAAR": "364",
                                    "KAT_ID": "52",
                                    "KAT_NEV": "golyóstoll",
                                    "SZULO_KAT": "77"
                                },
                                {
                                    "LISTAAR": "188",
                                    "KAT_ID": "52",
                                    "KAT_NEV": "golyóstoll",
                                    "SZULO_KAT": "77"
                                },
                                {
                                    "LISTAAR": "294",
                                    "KAT_ID": "52",
                                    "KAT_NEV": "golyóstoll",
                                    "SZULO_KAT": "77"
                                },
                                {
                                    "LISTAAR": "51",
                                    "KAT_ID": "52",
                                    "KAT_NEV": "golyóstoll",
                                    "SZULO_KAT": "77"
                                },
                                {
                                    "LISTAAR": "390",
                                    "KAT_ID": "52",
                                    "KAT_NEV": "golyóstoll",
                                    "SZULO_KAT": "77"
                                },
                                {
                                    "LISTAAR": "1019",
                                    "KAT_ID": "52",
                                    "KAT_NEV": "golyóstoll",
                                    "SZULO_KAT": "77"
                                },
                                {
                                    "LISTAAR": "41",
                                    "KAT_ID": "52",
                                    "KAT_NEV": "golyóstoll",
                                    "SZULO_KAT": "77"
                                },
                                {
                                    "LISTAAR": "401",
                                    "KAT_ID": "52",
                                    "KAT_NEV": "golyóstoll",
                                    "SZULO_KAT": "77"
                                },
                                {
                                    "LISTAAR": "33",
                                    "KAT_ID": "52",
                                    "KAT_NEV": "golyóstoll",
                                    "SZULO_KAT": "77"
                                },
                                {
                                    "LISTAAR": "23",
                                    "KAT_ID": "52",
                                    "KAT_NEV": "golyóstoll",
                                    "SZULO_KAT": "77"
                                },
                                {
                                    "LISTAAR": "93",
                                    "KAT_ID": "52",
                                    "KAT_NEV": "golyóstoll",
                                    "SZULO_KAT": "77"
                                },
                                {
                                    "LISTAAR": "773",
                                    "KAT_ID": "52",
                                    "KAT_NEV": "golyóstoll",
                                    "SZULO_KAT": "77"
                                },
                                {
                                    "LISTAAR": "63",
                                    "KAT_ID": "52",
                                    "KAT_NEV": "golyóstoll",
                                    "SZULO_KAT": "77"
                                },
                                {
                                    "LISTAAR": "239",
                                    "KAT_ID": "52",
                                    "KAT_NEV": "golyóstoll",
                                    "SZULO_KAT": "77"
                                },
                                {
                                    "LISTAAR": "44",
                                    "KAT_ID": "52",
                                    "KAT_NEV": "golyóstoll",
                                    "SZULO_KAT": "77"
                                },
                                {
                                    "LISTAAR": "101",
                                    "KAT_ID": "52",
                                    "KAT_NEV": "golyóstoll",
                                    "SZULO_KAT": "77"
                                },
                                {
                                    "LISTAAR": "230",
                                    "KAT_ID": "52",
                                    "KAT_NEV": "golyóstoll",
                                    "SZULO_KAT": "77"
                                },
                                {
                                    "LISTAAR": "231",
                                    "KAT_ID": "52",
                                    "KAT_NEV": "golyóstoll",
                                    "SZULO_KAT": "77"
                                },
                                {
                                    "LISTAAR": "19",
                                    "KAT_ID": "53",
                                    "KAT_NEV": "gumigyűrű",
                                    "SZULO_KAT": "63"
                                },
                                {
                                    "LISTAAR": "6900",
                                    "KAT_ID": "54",
                                    "KAT_NEV": "gyermek cipő",
                                    "SZULO_KAT": "3"
                                },
                                {
                                    "LISTAAR": "7900",
                                    "KAT_ID": "54",
                                    "KAT_NEV": "gyermek cipő",
                                    "SZULO_KAT": "3"
                                },
                                {
                                    "LISTAAR": "8000",
                                    "KAT_ID": "54",
                                    "KAT_NEV": "gyermek cipő",
                                    "SZULO_KAT": "3"
                                },
                                {
                                    "LISTAAR": "6900",
                                    "KAT_ID": "54",
                                    "KAT_NEV": "gyermek cipő",
                                    "SZULO_KAT": "3"
                                },
                                {
                                    "LISTAAR": "7900",
                                    "KAT_ID": "54",
                                    "KAT_NEV": "gyermek cipő",
                                    "SZULO_KAT": "3"
                                },
                                {
                                    "LISTAAR": "8000",
                                    "KAT_ID": "54",
                                    "KAT_NEV": "gyermek cipő",
                                    "SZULO_KAT": "3"
                                },
                                {
                                    "LISTAAR": "8900",
                                    "KAT_ID": "55",
                                    "KAT_NEV": "gyermek kabát",
                                    "SZULO_KAT": "81"
                                },
                                {
                                    "LISTAAR": "8900",
                                    "KAT_ID": "55",
                                    "KAT_NEV": "gyermek kabát",
                                    "SZULO_KAT": "81"
                                },
                                {
                                    "LISTAAR": "4990",
                                    "KAT_ID": "56",
                                    "KAT_NEV": "gyermek nadrág",
                                    "SZULO_KAT": "102"
                                },
                                {
                                    "LISTAAR": "1290",
                                    "KAT_ID": "56",
                                    "KAT_NEV": "gyermek nadrág",
                                    "SZULO_KAT": "102"
                                },
                                {
                                    "LISTAAR": "4990",
                                    "KAT_ID": "56",
                                    "KAT_NEV": "gyermek nadrág",
                                    "SZULO_KAT": "102"
                                },
                                {
                                    "LISTAAR": "1290",
                                    "KAT_ID": "56",
                                    "KAT_NEV": "gyermek nadrág",
                                    "SZULO_KAT": "102"
                                },
                                {
                                    "LISTAAR": "3900",
                                    "KAT_ID": "57",
                                    "KAT_NEV": "gyermek póló",
                                    "SZULO_KAT": "120"
                                },
                                {
                                    "LISTAAR": "3900",
                                    "KAT_ID": "57",
                                    "KAT_NEV": "gyermek póló",
                                    "SZULO_KAT": "120"
                                },
                                {
                                    "LISTAAR": "18",
                                    "KAT_ID": "58",
                                    "KAT_NEV": "gyorsfűző",
                                    "SZULO_KAT": "74"
                                },
                                {
                                    "LISTAAR": "30",
                                    "KAT_ID": "58",
                                    "KAT_NEV": "gyorsfűző",
                                    "SZULO_KAT": "74"
                                },
                                {
                                    "LISTAAR": "35",
                                    "KAT_ID": "58",
                                    "KAT_NEV": "gyorsfűző",
                                    "SZULO_KAT": "74"
                                },
                                {
                                    "LISTAAR": "180",
                                    "KAT_ID": "59",
                                    "KAT_NEV": "gyurma",
                                    "SZULO_KAT": "78"
                                },
                                {
                                    "LISTAAR": "228",
                                    "KAT_ID": "59",
                                    "KAT_NEV": "gyurma",
                                    "SZULO_KAT": "78"
                                },
                                {
                                    "LISTAAR": "161",
                                    "KAT_ID": "59",
                                    "KAT_NEV": "gyurma",
                                    "SZULO_KAT": "78"
                                },
                                {
                                    "LISTAAR": "121",
                                    "KAT_ID": "59",
                                    "KAT_NEV": "gyurma",
                                    "SZULO_KAT": "78"
                                },
                                {
                                    "LISTAAR": "184",
                                    "KAT_ID": "60",
                                    "KAT_NEV": "gyűrűskönyv",
                                    "SZULO_KAT": "78"
                                },
                                {
                                    "LISTAAR": "95",
                                    "KAT_ID": "60",
                                    "KAT_NEV": "gyűrűskönyv",
                                    "SZULO_KAT": "78"
                                },
                                {
                                    "LISTAAR": "218",
                                    "KAT_ID": "60",
                                    "KAT_NEV": "gyűrűskönyv",
                                    "SZULO_KAT": "78"
                                },
                                {
                                    "LISTAAR": "581",
                                    "KAT_ID": "60",
                                    "KAT_NEV": "gyűrűskönyv",
                                    "SZULO_KAT": "78"
                                },
                                {
                                    "LISTAAR": "699",
                                    "KAT_ID": "60",
                                    "KAT_NEV": "gyűrűskönyv",
                                    "SZULO_KAT": "78"
                                },
                                {
                                    "LISTAAR": "66",
                                    "KAT_ID": "61",
                                    "KAT_NEV": "hajgumi",
                                    "SZULO_KAT": "5"
                                },
                                {
                                    "LISTAAR": "464",
                                    "KAT_ID": "62",
                                    "KAT_NEV": "határidő napló",
                                    "SZULO_KAT": "5"
                                },
                                {
                                    "LISTAAR": "728",
                                    "KAT_ID": "62",
                                    "KAT_NEV": "határidő napló",
                                    "SZULO_KAT": "5"
                                },
                                {
                                    "LISTAAR": "875",
                                    "KAT_ID": "64",
                                    "KAT_NEV": "hegyező",
                                    "SZULO_KAT": "78"
                                },
                                {
                                    "LISTAAR": "30",
                                    "KAT_ID": "64",
                                    "KAT_NEV": "hegyező",
                                    "SZULO_KAT": "78"
                                },
                                {
                                    "LISTAAR": "23",
                                    "KAT_ID": "64",
                                    "KAT_NEV": "hegyező",
                                    "SZULO_KAT": "78"
                                },
                                {
                                    "LISTAAR": "30",
                                    "KAT_ID": "64",
                                    "KAT_NEV": "hegyező",
                                    "SZULO_KAT": "78"
                                },
                                {
                                    "LISTAAR": "70",
                                    "KAT_ID": "65",
                                    "KAT_NEV": "hegyző",
                                    "SZULO_KAT": "78"
                                },
                                {
                                    "LISTAAR": "180",
                                    "KAT_ID": "65",
                                    "KAT_NEV": "hegyző",
                                    "SZULO_KAT": "78"
                                },
                                {
                                    "LISTAAR": "794",
                                    "KAT_ID": "66",
                                    "KAT_NEV": "hibajavító",
                                    "SZULO_KAT": "74"
                                },
                                {
                                    "LISTAAR": "185",
                                    "KAT_ID": "66",
                                    "KAT_NEV": "hibajavító",
                                    "SZULO_KAT": "74"
                                },
                                {
                                    "LISTAAR": "273",
                                    "KAT_ID": "66",
                                    "KAT_NEV": "hibajavító",
                                    "SZULO_KAT": "74"
                                },
                                {
                                    "LISTAAR": "81",
                                    "KAT_ID": "66",
                                    "KAT_NEV": "hibajavító",
                                    "SZULO_KAT": "74"
                                },
                                {
                                    "LISTAAR": "133",
                                    "KAT_ID": "66",
                                    "KAT_NEV": "hibajavító",
                                    "SZULO_KAT": "74"
                                },
                                {
                                    "LISTAAR": "286",
                                    "KAT_ID": "66",
                                    "KAT_NEV": "hibajavító",
                                    "SZULO_KAT": "74"
                                },
                                {
                                    "LISTAAR": "278",
                                    "KAT_ID": "66",
                                    "KAT_NEV": "hibajavító",
                                    "SZULO_KAT": "74"
                                },
                                {
                                    "LISTAAR": "24",
                                    "KAT_ID": "67",
                                    "KAT_NEV": "hűtőmágnes",
                                    "SZULO_KAT": "5"
                                },
                                {
                                    "LISTAAR": "169",
                                    "KAT_ID": "67",
                                    "KAT_NEV": "hűtőmágnes",
                                    "SZULO_KAT": "5"
                                },
                                {
                                    "LISTAAR": "15",
                                    "KAT_ID": "68",
                                    "KAT_NEV": "indigó",
                                    "SZULO_KAT": "78"
                                },
                                {
                                    "LISTAAR": "12",
                                    "KAT_ID": "68",
                                    "KAT_NEV": "indigó",
                                    "SZULO_KAT": "78"
                                },
                                {
                                    "LISTAAR": "19",
                                    "KAT_ID": "70",
                                    "KAT_NEV": "iratgyűjtő",
                                    "SZULO_KAT": "74"
                                },
                                {
                                    "LISTAAR": "19",
                                    "KAT_ID": "70",
                                    "KAT_NEV": "iratgyűjtő",
                                    "SZULO_KAT": "74"
                                },
                                {
                                    "LISTAAR": "133",
                                    "KAT_ID": "70",
                                    "KAT_NEV": "iratgyűjtő",
                                    "SZULO_KAT": "74"
                                },
                                {
                                    "LISTAAR": "259",
                                    "KAT_ID": "71",
                                    "KAT_NEV": "iratrendező",
                                    "SZULO_KAT": "74"
                                },
                                {
                                    "LISTAAR": "243",
                                    "KAT_ID": "71",
                                    "KAT_NEV": "iratrendező",
                                    "SZULO_KAT": "74"
                                },
                                {
                                    "LISTAAR": "44",
                                    "KAT_ID": "72",
                                    "KAT_NEV": "iratsín",
                                    "SZULO_KAT": "74"
                                },
                                {
                                    "LISTAAR": "89",
                                    "KAT_ID": "72",
                                    "KAT_NEV": "iratsín",
                                    "SZULO_KAT": "74"
                                },
                                {
                                    "LISTAAR": "66",
                                    "KAT_ID": "73",
                                    "KAT_NEV": "irattartó",
                                    "SZULO_KAT": "74"
                                },
                                {
                                    "LISTAAR": "214",
                                    "KAT_ID": "73",
                                    "KAT_NEV": "irattartó",
                                    "SZULO_KAT": "74"
                                },
                                {
                                    "LISTAAR": "59",
                                    "KAT_ID": "74",
                                    "KAT_NEV": "irodaszer",
                                    "SZULO_KAT": "1"
                                },
                                {
                                    "LISTAAR": "29",
                                    "KAT_ID": "75",
                                    "KAT_NEV": "írólap",
                                    "SZULO_KAT": "78"
                                },
                                {
                                    "LISTAAR": "34",
                                    "KAT_ID": "75",
                                    "KAT_NEV": "írólap",
                                    "SZULO_KAT": "78"
                                },
                                {
                                    "LISTAAR": "74",
                                    "KAT_ID": "76",
                                    "KAT_NEV": "ironbél",
                                    "SZULO_KAT": "77"
                                },
                                {
                                    "LISTAAR": "36",
                                    "KAT_ID": "76",
                                    "KAT_NEV": "ironbél",
                                    "SZULO_KAT": "77"
                                },
                                {
                                    "LISTAAR": "59",
                                    "KAT_ID": "76",
                                    "KAT_NEV": "ironbél",
                                    "SZULO_KAT": "77"
                                },
                                {
                                    "LISTAAR": "23",
                                    "KAT_ID": "76",
                                    "KAT_NEV": "ironbél",
                                    "SZULO_KAT": "77"
                                },
                                {
                                    "LISTAAR": "78",
                                    "KAT_ID": "76",
                                    "KAT_NEV": "ironbél",
                                    "SZULO_KAT": "77"
                                },
                                {
                                    "LISTAAR": "161",
                                    "KAT_ID": "78",
                                    "KAT_NEV": "iskolaszer",
                                    "SZULO_KAT": "1"
                                },
                                {
                                    "LISTAAR": "74",
                                    "KAT_ID": "78",
                                    "KAT_NEV": "iskolaszer",
                                    "SZULO_KAT": "1"
                                },
                                {
                                    "LISTAAR": "36",
                                    "KAT_ID": "78",
                                    "KAT_NEV": "iskolaszer",
                                    "SZULO_KAT": "1"
                                },
                                {
                                    "LISTAAR": "161",
                                    "KAT_ID": "78",
                                    "KAT_NEV": "iskolaszer",
                                    "SZULO_KAT": "1"
                                },
                                {
                                    "LISTAAR": "73",
                                    "KAT_ID": "78",
                                    "KAT_NEV": "iskolaszer",
                                    "SZULO_KAT": "1"
                                },
                                {
                                    "LISTAAR": "125",
                                    "KAT_ID": "78",
                                    "KAT_NEV": "iskolaszer",
                                    "SZULO_KAT": "1"
                                },
                                {
                                    "LISTAAR": "511",
                                    "KAT_ID": "78",
                                    "KAT_NEV": "iskolaszer",
                                    "SZULO_KAT": "1"
                                },
                                {
                                    "LISTAAR": "33",
                                    "KAT_ID": "78",
                                    "KAT_NEV": "iskolaszer",
                                    "SZULO_KAT": "1"
                                },
                                {
                                    "LISTAAR": "324",
                                    "KAT_ID": "78",
                                    "KAT_NEV": "iskolaszer",
                                    "SZULO_KAT": "1"
                                },
                                {
                                    "LISTAAR": "36",
                                    "KAT_ID": "78",
                                    "KAT_NEV": "iskolaszer",
                                    "SZULO_KAT": "1"
                                },
                                {
                                    "LISTAAR": "23",
                                    "KAT_ID": "78",
                                    "KAT_NEV": "iskolaszer",
                                    "SZULO_KAT": "1"
                                },
                                {
                                    "LISTAAR": "9",
                                    "KAT_ID": "78",
                                    "KAT_NEV": "iskolaszer",
                                    "SZULO_KAT": "1"
                                },
                                {
                                    "LISTAAR": "8",
                                    "KAT_ID": "78",
                                    "KAT_NEV": "iskolaszer",
                                    "SZULO_KAT": "1"
                                },
                                {
                                    "LISTAAR": "103",
                                    "KAT_ID": "78",
                                    "KAT_NEV": "iskolaszer",
                                    "SZULO_KAT": "1"
                                },
                                {
                                    "LISTAAR": "8",
                                    "KAT_ID": "78",
                                    "KAT_NEV": "iskolaszer",
                                    "SZULO_KAT": "1"
                                },
                                {
                                    "LISTAAR": "51",
                                    "KAT_ID": "78",
                                    "KAT_NEV": "iskolaszer",
                                    "SZULO_KAT": "1"
                                },
                                {
                                    "LISTAAR": "5",
                                    "KAT_ID": "78",
                                    "KAT_NEV": "iskolaszer",
                                    "SZULO_KAT": "1"
                                },
                                {
                                    "LISTAAR": "36",
                                    "KAT_ID": "78",
                                    "KAT_NEV": "iskolaszer",
                                    "SZULO_KAT": "1"
                                },
                                {
                                    "LISTAAR": "35",
                                    "KAT_ID": "78",
                                    "KAT_NEV": "iskolaszer",
                                    "SZULO_KAT": "1"
                                },
                                {
                                    "LISTAAR": "61",
                                    "KAT_ID": "78",
                                    "KAT_NEV": "iskolaszer",
                                    "SZULO_KAT": "1"
                                },
                                {
                                    "LISTAAR": "43",
                                    "KAT_ID": "78",
                                    "KAT_NEV": "iskolaszer",
                                    "SZULO_KAT": "1"
                                },
                                {
                                    "LISTAAR": "45",
                                    "KAT_ID": "78",
                                    "KAT_NEV": "iskolaszer",
                                    "SZULO_KAT": "1"
                                },
                                {
                                    "LISTAAR": "19",
                                    "KAT_ID": "78",
                                    "KAT_NEV": "iskolaszer",
                                    "SZULO_KAT": "1"
                                },
                                {
                                    "LISTAAR": "58",
                                    "KAT_ID": "78",
                                    "KAT_NEV": "iskolaszer",
                                    "SZULO_KAT": "1"
                                },
                                {
                                    "LISTAAR": "65",
                                    "KAT_ID": "79",
                                    "KAT_NEV": "játékautó",
                                    "SZULO_KAT": "5"
                                },
                                {
                                    "LISTAAR": "133",
                                    "KAT_ID": "79",
                                    "KAT_NEV": "játékautó",
                                    "SZULO_KAT": "5"
                                },
                                {
                                    "LISTAAR": "165",
                                    "KAT_ID": "79",
                                    "KAT_NEV": "játékautó",
                                    "SZULO_KAT": "5"
                                },
                                {
                                    "LISTAAR": "73",
                                    "KAT_ID": "79",
                                    "KAT_NEV": "játékautó",
                                    "SZULO_KAT": "5"
                                },
                                {
                                    "LISTAAR": "48",
                                    "KAT_ID": "80",
                                    "KAT_NEV": "jelzőkréta",
                                    "SZULO_KAT": "5"
                                },
                                {
                                    "LISTAAR": "106",
                                    "KAT_ID": "82",
                                    "KAT_NEV": "kapocskiszedő",
                                    "SZULO_KAT": "74"
                                },
                                {
                                    "LISTAAR": "38",
                                    "KAT_ID": "83",
                                    "KAT_NEV": "karton",
                                    "SZULO_KAT": "113"
                                },
                                {
                                    "LISTAAR": "11",
                                    "KAT_ID": "83",
                                    "KAT_NEV": "karton",
                                    "SZULO_KAT": "113"
                                },
                                {
                                    "LISTAAR": "25",
                                    "KAT_ID": "83",
                                    "KAT_NEV": "karton",
                                    "SZULO_KAT": "113"
                                },
                                {
                                    "LISTAAR": "73",
                                    "KAT_ID": "83",
                                    "KAT_NEV": "karton",
                                    "SZULO_KAT": "113"
                                },
                                {
                                    "LISTAAR": "89",
                                    "KAT_ID": "83",
                                    "KAT_NEV": "karton",
                                    "SZULO_KAT": "113"
                                },
                                {
                                    "LISTAAR": "40",
                                    "KAT_ID": "83",
                                    "KAT_NEV": "karton",
                                    "SZULO_KAT": "113"
                                },
                                {
                                    "LISTAAR": "131",
                                    "KAT_ID": "84",
                                    "KAT_NEV": "kártya",
                                    "SZULO_KAT": "5"
                                },
                                {
                                    "LISTAAR": "33",
                                    "KAT_ID": "85",
                                    "KAT_NEV": "képeslap",
                                    "SZULO_KAT": "5"
                                },
                                {
                                    "LISTAAR": "184",
                                    "KAT_ID": "85",
                                    "KAT_NEV": "képeslap",
                                    "SZULO_KAT": "5"
                                },
                                {
                                    "LISTAAR": "33",
                                    "KAT_ID": "85",
                                    "KAT_NEV": "képeslap",
                                    "SZULO_KAT": "5"
                                },
                                {
                                    "LISTAAR": "55",
                                    "KAT_ID": "85",
                                    "KAT_NEV": "képeslap",
                                    "SZULO_KAT": "5"
                                },
                                {
                                    "LISTAAR": "81",
                                    "KAT_ID": "85",
                                    "KAT_NEV": "képeslap",
                                    "SZULO_KAT": "5"
                                },
                                {
                                    "LISTAAR": "51",
                                    "KAT_ID": "85",
                                    "KAT_NEV": "képeslap",
                                    "SZULO_KAT": "5"
                                },
                                {
                                    "LISTAAR": "89",
                                    "KAT_ID": "85",
                                    "KAT_NEV": "képeslap",
                                    "SZULO_KAT": "5"
                                },
                                {
                                    "LISTAAR": "30",
                                    "KAT_ID": "85",
                                    "KAT_NEV": "képeslap",
                                    "SZULO_KAT": "5"
                                },
                                {
                                    "LISTAAR": "73",
                                    "KAT_ID": "85",
                                    "KAT_NEV": "képeslap",
                                    "SZULO_KAT": "5"
                                },
                                {
                                    "LISTAAR": "15",
                                    "KAT_ID": "85",
                                    "KAT_NEV": "képeslap",
                                    "SZULO_KAT": "5"
                                },
                                {
                                    "LISTAAR": "36",
                                    "KAT_ID": "85",
                                    "KAT_NEV": "képeslap",
                                    "SZULO_KAT": "5"
                                },
                                {
                                    "LISTAAR": "59",
                                    "KAT_ID": "85",
                                    "KAT_NEV": "képeslap",
                                    "SZULO_KAT": "5"
                                },
                                {
                                    "LISTAAR": "48",
                                    "KAT_ID": "85",
                                    "KAT_NEV": "képeslap",
                                    "SZULO_KAT": "5"
                                },
                                {
                                    "LISTAAR": "14",
                                    "KAT_ID": "85",
                                    "KAT_NEV": "képeslap",
                                    "SZULO_KAT": "5"
                                },
                                {
                                    "LISTAAR": "44",
                                    "KAT_ID": "85",
                                    "KAT_NEV": "képeslap",
                                    "SZULO_KAT": "5"
                                },
                                {
                                    "LISTAAR": "118",
                                    "KAT_ID": "85",
                                    "KAT_NEV": "képeslap",
                                    "SZULO_KAT": "5"
                                },
                                {
                                    "LISTAAR": "195",
                                    "KAT_ID": "86",
                                    "KAT_NEV": "képkirakó",
                                    "SZULO_KAT": "5"
                                },
                                {
                                    "LISTAAR": "39000",
                                    "KAT_ID": "88",
                                    "KAT_NEV": "kosztüm",
                                    "SZULO_KAT": "8"
                                },
                                {
                                    "LISTAAR": "46000",
                                    "KAT_ID": "88",
                                    "KAT_NEV": "kosztüm",
                                    "SZULO_KAT": "8"
                                },
                                {
                                    "LISTAAR": "161",
                                    "KAT_ID": "89",
                                    "KAT_NEV": "körző",
                                    "SZULO_KAT": "78"
                                },
                                {
                                    "LISTAAR": "30",
                                    "KAT_ID": "89",
                                    "KAT_NEV": "körző",
                                    "SZULO_KAT": "78"
                                },
                                {
                                    "LISTAAR": "243",
                                    "KAT_ID": "89",
                                    "KAT_NEV": "körző",
                                    "SZULO_KAT": "78"
                                },
                                {
                                    "LISTAAR": "13",
                                    "KAT_ID": "90",
                                    "KAT_NEV": "kreatív",
                                    "SZULO_KAT": "113"
                                },
                                {
                                    "LISTAAR": "4",
                                    "KAT_ID": "90",
                                    "KAT_NEV": "kreatív",
                                    "SZULO_KAT": "113"
                                },
                                {
                                    "LISTAAR": "115",
                                    "KAT_ID": "91",
                                    "KAT_NEV": "kulcstartó",
                                    "SZULO_KAT": "5"
                                },
                                {
                                    "LISTAAR": "148",
                                    "KAT_ID": "91",
                                    "KAT_NEV": "kulcstartó",
                                    "SZULO_KAT": "5"
                                },
                                {
                                    "LISTAAR": "124",
                                    "KAT_ID": "91",
                                    "KAT_NEV": "kulcstartó",
                                    "SZULO_KAT": "5"
                                },
                                {
                                    "LISTAAR": "103",
                                    "KAT_ID": "91",
                                    "KAT_NEV": "kulcstartó",
                                    "SZULO_KAT": "5"
                                },
                                {
                                    "LISTAAR": "155",
                                    "KAT_ID": "91",
                                    "KAT_NEV": "kulcstartó",
                                    "SZULO_KAT": "5"
                                },
                                {
                                    "LISTAAR": "36",
                                    "KAT_ID": "91",
                                    "KAT_NEV": "kulcstartó",
                                    "SZULO_KAT": "5"
                                },
                                {
                                    "LISTAAR": "129",
                                    "KAT_ID": "91",
                                    "KAT_NEV": "kulcstartó",
                                    "SZULO_KAT": "5"
                                },
                                {
                                    "LISTAAR": "81",
                                    "KAT_ID": "92",
                                    "KAT_NEV": "labda",
                                    "SZULO_KAT": "5"
                                },
                                {
                                    "LISTAAR": "110",
                                    "KAT_ID": "92",
                                    "KAT_NEV": "labda",
                                    "SZULO_KAT": "5"
                                },
                                {
                                    "LISTAAR": "15",
                                    "KAT_ID": "93",
                                    "KAT_NEV": "levélpapír",
                                    "SZULO_KAT": "5"
                                },
                                {
                                    "LISTAAR": "140",
                                    "KAT_ID": "93",
                                    "KAT_NEV": "levélpapír",
                                    "SZULO_KAT": "5"
                                },
                                {
                                    "LISTAAR": "56",
                                    "KAT_ID": "93",
                                    "KAT_NEV": "levélpapír",
                                    "SZULO_KAT": "5"
                                },
                                {
                                    "LISTAAR": "89",
                                    "KAT_ID": "93",
                                    "KAT_NEV": "levélpapír",
                                    "SZULO_KAT": "5"
                                },
                                {
                                    "LISTAAR": "74",
                                    "KAT_ID": "93",
                                    "KAT_NEV": "levélpapír",
                                    "SZULO_KAT": "5"
                                },
                                {
                                    "LISTAAR": "103",
                                    "KAT_ID": "93",
                                    "KAT_NEV": "levélpapír",
                                    "SZULO_KAT": "5"
                                },
                                {
                                    "LISTAAR": "169",
                                    "KAT_ID": "93",
                                    "KAT_NEV": "levélpapír",
                                    "SZULO_KAT": "5"
                                },
                                {
                                    "LISTAAR": "15",
                                    "KAT_ID": "94",
                                    "KAT_NEV": "lufi",
                                    "SZULO_KAT": "5"
                                },
                                {
                                    "LISTAAR": "11",
                                    "KAT_ID": "94",
                                    "KAT_NEV": "lufi",
                                    "SZULO_KAT": "5"
                                },
                                {
                                    "LISTAAR": "526",
                                    "KAT_ID": "95",
                                    "KAT_NEV": "lyukasztó",
                                    "SZULO_KAT": "74"
                                },
                                {
                                    "LISTAAR": "765",
                                    "KAT_ID": "95",
                                    "KAT_NEV": "lyukasztó",
                                    "SZULO_KAT": "74"
                                },
                                {
                                    "LISTAAR": "210",
                                    "KAT_ID": "96",
                                    "KAT_NEV": "mappa",
                                    "SZULO_KAT": "5"
                                },
                                {
                                    "LISTAAR": "184",
                                    "KAT_ID": "96",
                                    "KAT_NEV": "mappa",
                                    "SZULO_KAT": "5"
                                },
                                {
                                    "LISTAAR": "1765",
                                    "KAT_ID": "96",
                                    "KAT_NEV": "mappa",
                                    "SZULO_KAT": "5"
                                },
                                {
                                    "LISTAAR": "264",
                                    "KAT_ID": "96",
                                    "KAT_NEV": "mappa",
                                    "SZULO_KAT": "5"
                                },
                                {
                                    "LISTAAR": "360",
                                    "KAT_ID": "96",
                                    "KAT_NEV": "mappa",
                                    "SZULO_KAT": "5"
                                },
                                {
                                    "LISTAAR": "195",
                                    "KAT_ID": "96",
                                    "KAT_NEV": "mappa",
                                    "SZULO_KAT": "5"
                                },
                                {
                                    "LISTAAR": "211",
                                    "KAT_ID": "96",
                                    "KAT_NEV": "mappa",
                                    "SZULO_KAT": "5"
                                },
                                {
                                    "LISTAAR": "148",
                                    "KAT_ID": "96",
                                    "KAT_NEV": "mappa",
                                    "SZULO_KAT": "5"
                                },
                                {
                                    "LISTAAR": "191",
                                    "KAT_ID": "96",
                                    "KAT_NEV": "mappa",
                                    "SZULO_KAT": "5"
                                },
                                {
                                    "LISTAAR": "55",
                                    "KAT_ID": "97",
                                    "KAT_NEV": "matrica",
                                    "SZULO_KAT": "5"
                                },
                                {
                                    "LISTAAR": "49",
                                    "KAT_ID": "97",
                                    "KAT_NEV": "matrica",
                                    "SZULO_KAT": "5"
                                },
                                {
                                    "LISTAAR": "49",
                                    "KAT_ID": "97",
                                    "KAT_NEV": "matrica",
                                    "SZULO_KAT": "5"
                                },
                                {
                                    "LISTAAR": "109",
                                    "KAT_ID": "97",
                                    "KAT_NEV": "matrica",
                                    "SZULO_KAT": "5"
                                },
                                {
                                    "LISTAAR": "93",
                                    "KAT_ID": "97",
                                    "KAT_NEV": "matrica",
                                    "SZULO_KAT": "5"
                                },
                                {
                                    "LISTAAR": "161",
                                    "KAT_ID": "97",
                                    "KAT_NEV": "matrica",
                                    "SZULO_KAT": "5"
                                },
                                {
                                    "LISTAAR": "168",
                                    "KAT_ID": "97",
                                    "KAT_NEV": "matrica",
                                    "SZULO_KAT": "5"
                                },
                                {
                                    "LISTAAR": "148",
                                    "KAT_ID": "97",
                                    "KAT_NEV": "matrica",
                                    "SZULO_KAT": "5"
                                },
                                {
                                    "LISTAAR": "175",
                                    "KAT_ID": "97",
                                    "KAT_NEV": "matrica",
                                    "SZULO_KAT": "5"
                                },
                                {
                                    "LISTAAR": "56",
                                    "KAT_ID": "97",
                                    "KAT_NEV": "matrica",
                                    "SZULO_KAT": "5"
                                },
                                {
                                    "LISTAAR": "155",
                                    "KAT_ID": "98",
                                    "KAT_NEV": "meghívó",
                                    "SZULO_KAT": "5"
                                },
                                {
                                    "LISTAAR": "169",
                                    "KAT_ID": "98",
                                    "KAT_NEV": "meghívó",
                                    "SZULO_KAT": "5"
                                },
                                {
                                    "LISTAAR": "59",
                                    "KAT_ID": "98",
                                    "KAT_NEV": "meghívó",
                                    "SZULO_KAT": "5"
                                },
                                {
                                    "LISTAAR": "63",
                                    "KAT_ID": "98",
                                    "KAT_NEV": "meghívó",
                                    "SZULO_KAT": "5"
                                },
                                {
                                    "LISTAAR": "8",
                                    "KAT_ID": "99",
                                    "KAT_NEV": "miliméterpapír",
                                    "SZULO_KAT": "78"
                                },
                                {
                                    "LISTAAR": "403",
                                    "KAT_ID": "100",
                                    "KAT_NEV": "munkafüzet",
                                    "SZULO_KAT": "78"
                                },
                                {
                                    "LISTAAR": "403",
                                    "KAT_ID": "100",
                                    "KAT_NEV": "munkafüzet",
                                    "SZULO_KAT": "78"
                                },
                                {
                                    "LISTAAR": "403",
                                    "KAT_ID": "100",
                                    "KAT_NEV": "munkafüzet",
                                    "SZULO_KAT": "78"
                                },
                                {
                                    "LISTAAR": "198",
                                    "KAT_ID": "100",
                                    "KAT_NEV": "munkafüzet",
                                    "SZULO_KAT": "78"
                                },
                                {
                                    "LISTAAR": "190",
                                    "KAT_ID": "100",
                                    "KAT_NEV": "munkafüzet",
                                    "SZULO_KAT": "78"
                                },
                                {
                                    "LISTAAR": "440",
                                    "KAT_ID": "100",
                                    "KAT_NEV": "munkafüzet",
                                    "SZULO_KAT": "78"
                                },
                                {
                                    "LISTAAR": "293",
                                    "KAT_ID": "100",
                                    "KAT_NEV": "munkafüzet",
                                    "SZULO_KAT": "78"
                                },
                                {
                                    "LISTAAR": "353",
                                    "KAT_ID": "100",
                                    "KAT_NEV": "munkafüzet",
                                    "SZULO_KAT": "78"
                                },
                                {
                                    "LISTAAR": "785",
                                    "KAT_ID": "100",
                                    "KAT_NEV": "munkafüzet",
                                    "SZULO_KAT": "78"
                                },
                                {
                                    "LISTAAR": "3",
                                    "KAT_ID": "101",
                                    "KAT_NEV": "műnyomó",
                                    "SZULO_KAT": "113"
                                },
                                {
                                    "LISTAAR": "89",
                                    "KAT_ID": "103",
                                    "KAT_NEV": "naptár",
                                    "SZULO_KAT": "74"
                                },
                                {
                                    "LISTAAR": "15",
                                    "KAT_ID": "104",
                                    "KAT_NEV": "naptárhát",
                                    "SZULO_KAT": "74"
                                },
                                {
                                    "LISTAAR": "78",
                                    "KAT_ID": "104",
                                    "KAT_NEV": "naptárhát",
                                    "SZULO_KAT": "74"
                                },
                                {
                                    "LISTAAR": "310",
                                    "KAT_ID": "105",
                                    "KAT_NEV": "névjegytartó",
                                    "SZULO_KAT": "74"
                                },
                                {
                                    "LISTAAR": "103",
                                    "KAT_ID": "106",
                                    "KAT_NEV": "notesz",
                                    "SZULO_KAT": "74"
                                },
                                {
                                    "LISTAAR": "89",
                                    "KAT_ID": "106",
                                    "KAT_NEV": "notesz",
                                    "SZULO_KAT": "74"
                                },
                                {
                                    "LISTAAR": "56",
                                    "KAT_ID": "106",
                                    "KAT_NEV": "notesz",
                                    "SZULO_KAT": "74"
                                },
                                {
                                    "LISTAAR": "103",
                                    "KAT_ID": "106",
                                    "KAT_NEV": "notesz",
                                    "SZULO_KAT": "74"
                                },
                                {
                                    "LISTAAR": "44",
                                    "KAT_ID": "106",
                                    "KAT_NEV": "notesz",
                                    "SZULO_KAT": "74"
                                },
                                {
                                    "LISTAAR": "24000",
                                    "KAT_ID": "107",
                                    "KAT_NEV": "női kabát",
                                    "SZULO_KAT": "81"
                                },
                                {
                                    "LISTAAR": "8290",
                                    "KAT_ID": "108",
                                    "KAT_NEV": "női nadrág",
                                    "SZULO_KAT": "102"
                                },
                                {
                                    "LISTAAR": "4",
                                    "KAT_ID": "109",
                                    "KAT_NEV": "ofszet",
                                    "SZULO_KAT": "113"
                                },
                                {
                                    "LISTAAR": "48",
                                    "KAT_ID": "110",
                                    "KAT_NEV": "oklevél",
                                    "SZULO_KAT": "113"
                                },
                                {
                                    "LISTAAR": "55",
                                    "KAT_ID": "110",
                                    "KAT_NEV": "oklevél",
                                    "SZULO_KAT": "113"
                                },
                                {
                                    "LISTAAR": "133",
                                    "KAT_ID": "111",
                                    "KAT_NEV": "olló",
                                    "SZULO_KAT": "78"
                                },
                                {
                                    "LISTAAR": "176",
                                    "KAT_ID": "111",
                                    "KAT_NEV": "olló",
                                    "SZULO_KAT": "78"
                                },
                                {
                                    "LISTAAR": "161",
                                    "KAT_ID": "111",
                                    "KAT_NEV": "olló",
                                    "SZULO_KAT": "78"
                                },
                                {
                                    "LISTAAR": "59",
                                    "KAT_ID": "112",
                                    "KAT_NEV": "öntapadó",
                                    "SZULO_KAT": "113"
                                },
                                {
                                    "LISTAAR": "4575",
                                    "KAT_ID": "112",
                                    "KAT_NEV": "öntapadó",
                                    "SZULO_KAT": "113"
                                },
                                {
                                    "LISTAAR": "20",
                                    "KAT_ID": "114",
                                    "KAT_NEV": "papízsebkendő",
                                    "SZULO_KAT": "63"
                                },
                                {
                                    "LISTAAR": "15",
                                    "KAT_ID": "115",
                                    "KAT_NEV": "pausz",
                                    "SZULO_KAT": "113"
                                },
                                {
                                    "LISTAAR": "144",
                                    "KAT_ID": "116",
                                    "KAT_NEV": "pénztárbizonylat",
                                    "SZULO_KAT": "74"
                                },
                                {
                                    "LISTAAR": "103",
                                    "KAT_ID": "116",
                                    "KAT_NEV": "pénztárbizonylat",
                                    "SZULO_KAT": "74"
                                },
                                {
                                    "LISTAAR": "81",
                                    "KAT_ID": "117",
                                    "KAT_NEV": "pénztárgépszalag",
                                    "SZULO_KAT": "74"
                                },
                                {
                                    "LISTAAR": "93",
                                    "KAT_ID": "117",
                                    "KAT_NEV": "pénztárgépszalag",
                                    "SZULO_KAT": "74"
                                },
                                {
                                    "LISTAAR": "276",
                                    "KAT_ID": "118",
                                    "KAT_NEV": "pixiron",
                                    "SZULO_KAT": "77"
                                },
                                {
                                    "LISTAAR": "125",
                                    "KAT_ID": "118",
                                    "KAT_NEV": "pixiron",
                                    "SZULO_KAT": "77"
                                },
                                {
                                    "LISTAAR": "59",
                                    "KAT_ID": "118",
                                    "KAT_NEV": "pixiron",
                                    "SZULO_KAT": "77"
                                },
                                {
                                    "LISTAAR": "133",
                                    "KAT_ID": "118",
                                    "KAT_NEV": "pixiron",
                                    "SZULO_KAT": "77"
                                },
                                {
                                    "LISTAAR": "94",
                                    "KAT_ID": "118",
                                    "KAT_NEV": "pixiron",
                                    "SZULO_KAT": "77"
                                },
                                {
                                    "LISTAAR": "468",
                                    "KAT_ID": "118",
                                    "KAT_NEV": "pixiron",
                                    "SZULO_KAT": "77"
                                },
                                {
                                    "LISTAAR": "59",
                                    "KAT_ID": "118",
                                    "KAT_NEV": "pixiron",
                                    "SZULO_KAT": "77"
                                },
                                {
                                    "LISTAAR": "235",
                                    "KAT_ID": "118",
                                    "KAT_NEV": "pixiron",
                                    "SZULO_KAT": "77"
                                },
                                {
                                    "LISTAAR": "299",
                                    "KAT_ID": "118",
                                    "KAT_NEV": "pixiron",
                                    "SZULO_KAT": "77"
                                },
                                {
                                    "LISTAAR": "173",
                                    "KAT_ID": "119",
                                    "KAT_NEV": "plüss",
                                    "SZULO_KAT": "5"
                                },
                                {
                                    "LISTAAR": "161",
                                    "KAT_ID": "119",
                                    "KAT_NEV": "plüss",
                                    "SZULO_KAT": "5"
                                },
                                {
                                    "LISTAAR": "314",
                                    "KAT_ID": "119",
                                    "KAT_NEV": "plüss",
                                    "SZULO_KAT": "5"
                                },
                                {
                                    "LISTAAR": "36",
                                    "KAT_ID": "121",
                                    "KAT_NEV": "post-it",
                                    "SZULO_KAT": "78"
                                },
                                {
                                    "LISTAAR": "89",
                                    "KAT_ID": "121",
                                    "KAT_NEV": "post-it",
                                    "SZULO_KAT": "78"
                                },
                                {
                                    "LISTAAR": "40",
                                    "KAT_ID": "122",
                                    "KAT_NEV": "radír",
                                    "SZULO_KAT": "78"
                                },
                                {
                                    "LISTAAR": "19",
                                    "KAT_ID": "122",
                                    "KAT_NEV": "radír",
                                    "SZULO_KAT": "78"
                                },
                                {
                                    "LISTAAR": "36",
                                    "KAT_ID": "122",
                                    "KAT_NEV": "radír",
                                    "SZULO_KAT": "78"
                                },
                                {
                                    "LISTAAR": "44",
                                    "KAT_ID": "122",
                                    "KAT_NEV": "radír",
                                    "SZULO_KAT": "78"
                                },
                                {
                                    "LISTAAR": "44",
                                    "KAT_ID": "122",
                                    "KAT_NEV": "radír",
                                    "SZULO_KAT": "78"
                                },
                                {
                                    "LISTAAR": "50",
                                    "KAT_ID": "122",
                                    "KAT_NEV": "radír",
                                    "SZULO_KAT": "78"
                                },
                                {
                                    "LISTAAR": "49",
                                    "KAT_ID": "122",
                                    "KAT_NEV": "radír",
                                    "SZULO_KAT": "78"
                                },
                                {
                                    "LISTAAR": "74",
                                    "KAT_ID": "123",
                                    "KAT_NEV": "radírtoll",
                                    "SZULO_KAT": "78"
                                },
                                {
                                    "LISTAAR": "119",
                                    "KAT_ID": "123",
                                    "KAT_NEV": "radírtoll",
                                    "SZULO_KAT": "78"
                                },
                                {
                                    "LISTAAR": "133",
                                    "KAT_ID": "124",
                                    "KAT_NEV": "ragasztó",
                                    "SZULO_KAT": "63"
                                },
                                {
                                    "LISTAAR": "110",
                                    "KAT_ID": "124",
                                    "KAT_NEV": "ragasztó",
                                    "SZULO_KAT": "63"
                                },
                                {
                                    "LISTAAR": "81",
                                    "KAT_ID": "124",
                                    "KAT_NEV": "ragasztó",
                                    "SZULO_KAT": "63"
                                },
                                {
                                    "LISTAAR": "293",
                                    "KAT_ID": "124",
                                    "KAT_NEV": "ragasztó",
                                    "SZULO_KAT": "63"
                                },
                                {
                                    "LISTAAR": "101",
                                    "KAT_ID": "124",
                                    "KAT_NEV": "ragasztó",
                                    "SZULO_KAT": "63"
                                },
                                {
                                    "LISTAAR": "89",
                                    "KAT_ID": "124",
                                    "KAT_NEV": "ragasztó",
                                    "SZULO_KAT": "63"
                                },
                                {
                                    "LISTAAR": "426",
                                    "KAT_ID": "124",
                                    "KAT_NEV": "ragasztó",
                                    "SZULO_KAT": "63"
                                },
                                {
                                    "LISTAAR": "144",
                                    "KAT_ID": "124",
                                    "KAT_NEV": "ragasztó",
                                    "SZULO_KAT": "63"
                                },
                                {
                                    "LISTAAR": "144",
                                    "KAT_ID": "124",
                                    "KAT_NEV": "ragasztó",
                                    "SZULO_KAT": "63"
                                },
                                {
                                    "LISTAAR": "103",
                                    "KAT_ID": "124",
                                    "KAT_NEV": "ragasztó",
                                    "SZULO_KAT": "63"
                                },
                                {
                                    "LISTAAR": "15",
                                    "KAT_ID": "125",
                                    "KAT_NEV": "ragasztószalag",
                                    "SZULO_KAT": "23"
                                },
                                {
                                    "LISTAAR": "63",
                                    "KAT_ID": "125",
                                    "KAT_NEV": "ragasztószalag",
                                    "SZULO_KAT": "23"
                                },
                                {
                                    "LISTAAR": "166",
                                    "KAT_ID": "125",
                                    "KAT_NEV": "ragasztószalag",
                                    "SZULO_KAT": "23"
                                },
                                {
                                    "LISTAAR": "55",
                                    "KAT_ID": "125",
                                    "KAT_NEV": "ragasztószalag",
                                    "SZULO_KAT": "23"
                                },
                                {
                                    "LISTAAR": "89",
                                    "KAT_ID": "126",
                                    "KAT_NEV": "rágógumi",
                                    "SZULO_KAT": "63"
                                },
                                {
                                    "LISTAAR": "28",
                                    "KAT_ID": "127",
                                    "KAT_NEV": "rajzlap",
                                    "SZULO_KAT": "78"
                                },
                                {
                                    "LISTAAR": "342",
                                    "KAT_ID": "127",
                                    "KAT_NEV": "rajzlap",
                                    "SZULO_KAT": "78"
                                },
                                {
                                    "LISTAAR": "106",
                                    "KAT_ID": "128",
                                    "KAT_NEV": "rajzszeg",
                                    "SZULO_KAT": "63"
                                },
                                {
                                    "LISTAAR": "63",
                                    "KAT_ID": "128",
                                    "KAT_NEV": "rajzszeg",
                                    "SZULO_KAT": "63"
                                },
                                {
                                    "LISTAAR": "256",
                                    "KAT_ID": "129",
                                    "KAT_NEV": "regiszteres füzet",
                                    "SZULO_KAT": "78"
                                },
                                {
                                    "LISTAAR": "203",
                                    "KAT_ID": "129",
                                    "KAT_NEV": "regiszteres füzet",
                                    "SZULO_KAT": "78"
                                },
                                {
                                    "LISTAAR": "1990",
                                    "KAT_ID": "130",
                                    "KAT_NEV": "sál",
                                    "SZULO_KAT": "87"
                                },
                                {
                                    "LISTAAR": "45",
                                    "KAT_ID": "131",
                                    "KAT_NEV": "spirál",
                                    "SZULO_KAT": "74"
                                },
                                {
                                    "LISTAAR": "356",
                                    "KAT_ID": "132",
                                    "KAT_NEV": "strandlabda",
                                    "SZULO_KAT": "5"
                                },
                                {
                                    "LISTAAR": "183",
                                    "KAT_ID": "133",
                                    "KAT_NEV": "szalvéta",
                                    "SZULO_KAT": "5"
                                },
                                {
                                    "LISTAAR": "176",
                                    "KAT_ID": "133",
                                    "KAT_NEV": "szalvéta",
                                    "SZULO_KAT": "5"
                                },
                                {
                                    "LISTAAR": "118",
                                    "KAT_ID": "133",
                                    "KAT_NEV": "szalvéta",
                                    "SZULO_KAT": "5"
                                },
                                {
                                    "LISTAAR": "175",
                                    "KAT_ID": "133",
                                    "KAT_NEV": "szalvéta",
                                    "SZULO_KAT": "5"
                                },
                                {
                                    "LISTAAR": "133",
                                    "KAT_ID": "133",
                                    "KAT_NEV": "szalvéta",
                                    "SZULO_KAT": "5"
                                },
                                {
                                    "LISTAAR": "161",
                                    "KAT_ID": "133",
                                    "KAT_NEV": "szalvéta",
                                    "SZULO_KAT": "5"
                                },
                                {
                                    "LISTAAR": "508",
                                    "KAT_ID": "134",
                                    "KAT_NEV": "számológép",
                                    "SZULO_KAT": "78"
                                },
                                {
                                    "LISTAAR": "1173",
                                    "KAT_ID": "134",
                                    "KAT_NEV": "számológép",
                                    "SZULO_KAT": "78"
                                },
                                {
                                    "LISTAAR": "129",
                                    "KAT_ID": "135",
                                    "KAT_NEV": "szemetes",
                                    "SZULO_KAT": "63"
                                },
                                {
                                    "LISTAAR": "99",
                                    "KAT_ID": "136",
                                    "KAT_NEV": "színes",
                                    "SZULO_KAT": "77"
                                },
                                {
                                    "LISTAAR": "161",
                                    "KAT_ID": "136",
                                    "KAT_NEV": "színes",
                                    "SZULO_KAT": "77"
                                },
                                {
                                    "LISTAAR": "24",
                                    "KAT_ID": "137",
                                    "KAT_NEV": "szögmérő",
                                    "SZULO_KAT": "78"
                                },
                                {
                                    "LISTAAR": "11",
                                    "KAT_ID": "137",
                                    "KAT_NEV": "szögmérő",
                                    "SZULO_KAT": "78"
                                },
                                {
                                    "LISTAAR": "8",
                                    "KAT_ID": "137",
                                    "KAT_NEV": "szögmérő",
                                    "SZULO_KAT": "78"
                                },
                                {
                                    "LISTAAR": "89",
                                    "KAT_ID": "138",
                                    "KAT_NEV": "szövegkiemelő",
                                    "SZULO_KAT": "77"
                                },
                                {
                                    "LISTAAR": "93",
                                    "KAT_ID": "138",
                                    "KAT_NEV": "szövegkiemelő",
                                    "SZULO_KAT": "77"
                                },
                                {
                                    "LISTAAR": "78",
                                    "KAT_ID": "138",
                                    "KAT_NEV": "szövegkiemelő",
                                    "SZULO_KAT": "77"
                                },
                                {
                                    "LISTAAR": "103",
                                    "KAT_ID": "138",
                                    "KAT_NEV": "szövegkiemelő",
                                    "SZULO_KAT": "77"
                                },
                                {
                                    "LISTAAR": "140",
                                    "KAT_ID": "138",
                                    "KAT_NEV": "szövegkiemelő",
                                    "SZULO_KAT": "77"
                                },
                                {
                                    "LISTAAR": "633",
                                    "KAT_ID": "139",
                                    "KAT_NEV": "táblafilc",
                                    "SZULO_KAT": "78"
                                },
                                {
                                    "LISTAAR": "40",
                                    "KAT_ID": "140",
                                    "KAT_NEV": "tapétavágó",
                                    "SZULO_KAT": "63"
                                },
                                {
                                    "LISTAAR": "96",
                                    "KAT_ID": "141",
                                    "KAT_NEV": "tempera",
                                    "SZULO_KAT": "78"
                                },
                                {
                                    "LISTAAR": "48",
                                    "KAT_ID": "141",
                                    "KAT_NEV": "tempera",
                                    "SZULO_KAT": "78"
                                },
                                {
                                    "LISTAAR": "103",
                                    "KAT_ID": "142",
                                    "KAT_NEV": "térképtű",
                                    "SZULO_KAT": "74"
                                },
                                {
                                    "LISTAAR": "9",
                                    "KAT_ID": "143",
                                    "KAT_NEV": "tintapatron",
                                    "SZULO_KAT": "77"
                                },
                                {
                                    "LISTAAR": "360",
                                    "KAT_ID": "143",
                                    "KAT_NEV": "tintapatron",
                                    "SZULO_KAT": "77"
                                },
                                {
                                    "LISTAAR": "11",
                                    "KAT_ID": "143",
                                    "KAT_NEV": "tintapatron",
                                    "SZULO_KAT": "77"
                                },
                                {
                                    "LISTAAR": "80",
                                    "KAT_ID": "144",
                                    "KAT_NEV": "toll",
                                    "SZULO_KAT": "77"
                                },
                                {
                                    "LISTAAR": "74",
                                    "KAT_ID": "144",
                                    "KAT_NEV": "toll",
                                    "SZULO_KAT": "77"
                                },
                                {
                                    "LISTAAR": "123",
                                    "KAT_ID": "145",
                                    "KAT_NEV": "tollbetét",
                                    "SZULO_KAT": "77"
                                },
                                {
                                    "LISTAAR": "48",
                                    "KAT_ID": "145",
                                    "KAT_NEV": "tollbetét",
                                    "SZULO_KAT": "77"
                                },
                                {
                                    "LISTAAR": "33",
                                    "KAT_ID": "145",
                                    "KAT_NEV": "tollbetét",
                                    "SZULO_KAT": "77"
                                },
                                {
                                    "LISTAAR": "91",
                                    "KAT_ID": "145",
                                    "KAT_NEV": "tollbetét",
                                    "SZULO_KAT": "77"
                                },
                                {
                                    "LISTAAR": "23",
                                    "KAT_ID": "145",
                                    "KAT_NEV": "tollbetét",
                                    "SZULO_KAT": "77"
                                },
                                {
                                    "LISTAAR": "15",
                                    "KAT_ID": "145",
                                    "KAT_NEV": "tollbetét",
                                    "SZULO_KAT": "77"
                                },
                                {
                                    "LISTAAR": "228",
                                    "KAT_ID": "145",
                                    "KAT_NEV": "tollbetét",
                                    "SZULO_KAT": "77"
                                },
                                {
                                    "LISTAAR": "78",
                                    "KAT_ID": "145",
                                    "KAT_NEV": "tollbetét",
                                    "SZULO_KAT": "77"
                                },
                                {
                                    "LISTAAR": "89",
                                    "KAT_ID": "145",
                                    "KAT_NEV": "tollbetét",
                                    "SZULO_KAT": "77"
                                },
                                {
                                    "LISTAAR": "30",
                                    "KAT_ID": "145",
                                    "KAT_NEV": "tollbetét",
                                    "SZULO_KAT": "77"
                                },
                                {
                                    "LISTAAR": "55",
                                    "KAT_ID": "145",
                                    "KAT_NEV": "tollbetét",
                                    "SZULO_KAT": "77"
                                },
                                {
                                    "LISTAAR": "30",
                                    "KAT_ID": "145",
                                    "KAT_NEV": "tollbetét",
                                    "SZULO_KAT": "77"
                                },
                                {
                                    "LISTAAR": "80",
                                    "KAT_ID": "145",
                                    "KAT_NEV": "tollbetét",
                                    "SZULO_KAT": "77"
                                },
                                {
                                    "LISTAAR": "85",
                                    "KAT_ID": "145",
                                    "KAT_NEV": "tollbetét",
                                    "SZULO_KAT": "77"
                                },
                                {
                                    "LISTAAR": "55",
                                    "KAT_ID": "145",
                                    "KAT_NEV": "tollbetét",
                                    "SZULO_KAT": "77"
                                },
                                {
                                    "LISTAAR": "39",
                                    "KAT_ID": "145",
                                    "KAT_NEV": "tollbetét",
                                    "SZULO_KAT": "77"
                                },
                                {
                                    "LISTAAR": "44",
                                    "KAT_ID": "145",
                                    "KAT_NEV": "tollbetét",
                                    "SZULO_KAT": "77"
                                },
                                {
                                    "LISTAAR": "684",
                                    "KAT_ID": "145",
                                    "KAT_NEV": "tollbetét",
                                    "SZULO_KAT": "77"
                                },
                                {
                                    "LISTAAR": "728",
                                    "KAT_ID": "146",
                                    "KAT_NEV": "tolltartó",
                                    "SZULO_KAT": "78"
                                },
                                {
                                    "LISTAAR": "765",
                                    "KAT_ID": "146",
                                    "KAT_NEV": "tolltartó",
                                    "SZULO_KAT": "78"
                                },
                                {
                                    "LISTAAR": "324",
                                    "KAT_ID": "146",
                                    "KAT_NEV": "tolltartó",
                                    "SZULO_KAT": "78"
                                },
                                {
                                    "LISTAAR": "728",
                                    "KAT_ID": "146",
                                    "KAT_NEV": "tolltartó",
                                    "SZULO_KAT": "78"
                                },
                                {
                                    "LISTAAR": "410",
                                    "KAT_ID": "146",
                                    "KAT_NEV": "tolltartó",
                                    "SZULO_KAT": "78"
                                },
                                {
                                    "LISTAAR": "655",
                                    "KAT_ID": "146",
                                    "KAT_NEV": "tolltartó",
                                    "SZULO_KAT": "78"
                                },
                                {
                                    "LISTAAR": "411",
                                    "KAT_ID": "146",
                                    "KAT_NEV": "tolltartó",
                                    "SZULO_KAT": "78"
                                },
                                {
                                    "LISTAAR": "14250",
                                    "KAT_ID": "147",
                                    "KAT_NEV": "toner",
                                    "SZULO_KAT": "74"
                                },
                                {
                                    "LISTAAR": "493",
                                    "KAT_ID": "148",
                                    "KAT_NEV": "töltőtoll",
                                    "SZULO_KAT": "77"
                                },
                                {
                                    "LISTAAR": "438",
                                    "KAT_ID": "149",
                                    "KAT_NEV": "tűzőgép",
                                    "SZULO_KAT": "74"
                                },
                                {
                                    "LISTAAR": "339",
                                    "KAT_ID": "149",
                                    "KAT_NEV": "tűzőgép",
                                    "SZULO_KAT": "74"
                                },
                                {
                                    "LISTAAR": "286",
                                    "KAT_ID": "149",
                                    "KAT_NEV": "tűzőgép",
                                    "SZULO_KAT": "74"
                                },
                                {
                                    "LISTAAR": "1351",
                                    "KAT_ID": "149",
                                    "KAT_NEV": "tűzőgép",
                                    "SZULO_KAT": "74"
                                },
                                {
                                    "LISTAAR": "405",
                                    "KAT_ID": "149",
                                    "KAT_NEV": "tűzőgép",
                                    "SZULO_KAT": "74"
                                },
                                {
                                    "LISTAAR": "2100",
                                    "KAT_ID": "149",
                                    "KAT_NEV": "tűzőgép",
                                    "SZULO_KAT": "74"
                                },
                                {
                                    "LISTAAR": "44",
                                    "KAT_ID": "150",
                                    "KAT_NEV": "tűzőkapocs",
                                    "SZULO_KAT": "74"
                                },
                                {
                                    "LISTAAR": "34",
                                    "KAT_ID": "150",
                                    "KAT_NEV": "tűzőkapocs",
                                    "SZULO_KAT": "74"
                                },
                                {
                                    "LISTAAR": "249",
                                    "KAT_ID": "151",
                                    "KAT_NEV": "vízfesték",
                                    "SZULO_KAT": "78"
                                },
                                {
                                    "LISTAAR": "210",
                                    "KAT_ID": "151",
                                    "KAT_NEV": "vízfesték",
                                    "SZULO_KAT": "78"
                                },
                                {
                                    "LISTAAR": "180",
                                    "KAT_ID": "151",
                                    "KAT_NEV": "vízfesték",
                                    "SZULO_KAT": "78"
                                },
                                {
                                    "LISTAAR": "176",
                                    "KAT_ID": "151",
                                    "KAT_NEV": "vízfesték",
                                    "SZULO_KAT": "78"
                                },
                                {
                                    "LISTAAR": "58",
                                    "KAT_ID": "152",
                                    "KAT_NEV": "vonalzó",
                                    "SZULO_KAT": "78"
                                },
                                {
                                    "LISTAAR": "30",
                                    "KAT_ID": "152",
                                    "KAT_NEV": "vonalzó",
                                    "SZULO_KAT": "78"
                                },
                                {
                                    "LISTAAR": "30",
                                    "KAT_ID": "152",
                                    "KAT_NEV": "vonalzó",
                                    "SZULO_KAT": "78"
                                },
                                {
                                    "LISTAAR": "30",
                                    "KAT_ID": "152",
                                    "KAT_NEV": "vonalzó",
                                    "SZULO_KAT": "78"
                                },
                                {
                                    "LISTAAR": "30",
                                    "KAT_ID": "152",
                                    "KAT_NEV": "vonalzó",
                                    "SZULO_KAT": "78"
                                },
                                {
                                    "LISTAAR": "33",
                                    "KAT_ID": "152",
                                    "KAT_NEV": "vonalzó",
                                    "SZULO_KAT": "78"
                                },
                                {
                                    "LISTAAR": "20",
                                    "KAT_ID": "153",
                                    "KAT_NEV": "zászló",
                                    "SZULO_KAT": "78"
                                },
                                {
                                    "LISTAAR": "95",
                                    "KAT_ID": "154",
                                    "KAT_NEV": "zseléstoll",
                                    "SZULO_KAT": "77"
                                },
                                {
                                    "LISTAAR": "66",
                                    "KAT_ID": "154",
                                    "KAT_NEV": "zseléstoll",
                                    "SZULO_KAT": "77"
                                },
                                {
                                    "LISTAAR": "161",
                                    "KAT_ID": "154",
                                    "KAT_NEV": "zseléstoll",
                                    "SZULO_KAT": "77"
                                },
                                {
                                    "LISTAAR": "228",
                                    "KAT_ID": "154",
                                    "KAT_NEV": "zseléstoll",
                                    "SZULO_KAT": "77"
                                },
                                {
                                    "LISTAAR": "81",
                                    "KAT_ID": "155",
                                    "KAT_NEV": "írásvetítő fólia",
                                    "SZULO_KAT": "74"
                                }
                            ]
                        },
                        "text/html": [
                            "<table>",
                            "<tr><th>LISTAAR</th><th>KAT_ID</th><th>KAT_NEV</th><th>SZULO_KAT</th></tr>",
                            "<tr><td>1089</td><td>4</td><td>könyv</td><td>NULL</td></tr>",
                            "<tr><td>1089</td><td>4</td><td>könyv</td><td>NULL</td></tr>",
                            "<tr><td>1089</td><td>4</td><td>könyv</td><td>NULL</td></tr>",
                            "<tr><td>674</td><td>4</td><td>könyv</td><td>NULL</td></tr>",
                            "<tr><td>308</td><td>4</td><td>könyv</td><td>NULL</td></tr>",
                            "<tr><td>868</td><td>4</td><td>könyv</td><td>NULL</td></tr>",
                            "<tr><td>691</td><td>4</td><td>könyv</td><td>NULL</td></tr>",
                            "<tr><td>214</td><td>4</td><td>könyv</td><td>NULL</td></tr>",
                            "<tr><td>735</td><td>4</td><td>könyv</td><td>NULL</td></tr>",
                            "<tr><td>720</td><td>4</td><td>könyv</td><td>NULL</td></tr>",
                            "<tr><td>440</td><td>4</td><td>könyv</td><td>NULL</td></tr>",
                            "<tr><td>440</td><td>4</td><td>könyv</td><td>NULL</td></tr>",
                            "<tr><td>324</td><td>4</td><td>könyv</td><td>NULL</td></tr>",
                            "<tr><td>345</td><td>4</td><td>könyv</td><td>NULL</td></tr>",
                            "<tr><td>291</td><td>4</td><td>könyv</td><td>NULL</td></tr>",
                            "<tr><td>24</td><td>5</td><td>ajándék tárgy</td><td>1</td></tr>",
                            "<tr><td>129</td><td>5</td><td>ajándék tárgy</td><td>1</td></tr>",
                            "<tr><td>73</td><td>5</td><td>ajándék tárgy</td><td>1</td></tr>",
                            "<tr><td>11</td><td>6</td><td>ajándék tasak</td><td>5</td></tr>",
                            "<tr><td>26</td><td>6</td><td>ajándék tasak</td><td>5</td></tr>",
                            "<tr><td>148</td><td>6</td><td>ajándék tasak</td><td>5</td></tr>",
                            "<tr><td>40</td><td>6</td><td>ajándék tasak</td><td>5</td></tr>",
                            "<tr><td>185</td><td>6</td><td>ajándék tasak</td><td>5</td></tr>",
                            "<tr><td>19</td><td>6</td><td>ajándék tasak</td><td>5</td></tr>",
                            "<tr><td>290</td><td>6</td><td>ajándék tasak</td><td>5</td></tr>",
                            "<tr><td>26</td><td>6</td><td>ajándék tasak</td><td>5</td></tr>",
                            "<tr><td>206</td><td>6</td><td>ajándék tasak</td><td>5</td></tr>",
                            "<tr><td>103</td><td>6</td><td>ajándék tasak</td><td>5</td></tr>",
                            "<tr><td>148</td><td>6</td><td>ajándék tasak</td><td>5</td></tr>",
                            "<tr><td>206</td><td>6</td><td>ajándék tasak</td><td>5</td></tr>",
                            "<tr><td>148</td><td>6</td><td>ajándék tasak</td><td>5</td></tr>",
                            "<tr><td>125</td><td>6</td><td>ajándék tasak</td><td>5</td></tr>",
                            "<tr><td>64</td><td>6</td><td>ajándék tasak</td><td>5</td></tr>",
                            "<tr><td>81</td><td>6</td><td>ajándék tasak</td><td>5</td></tr>",
                            "<tr><td>169</td><td>6</td><td>ajándék tasak</td><td>5</td></tr>",
                            "<tr><td>185</td><td>6</td><td>ajándék tasak</td><td>5</td></tr>",
                            "<tr><td>214</td><td>6</td><td>ajándék tasak</td><td>5</td></tr>",
                            "<tr><td>114</td><td>6</td><td>ajándék tasak</td><td>5</td></tr>",
                            "<tr><td>89</td><td>7</td><td>álarc</td><td>5</td></tr>",
                            "<tr><td>144</td><td>7</td><td>álarc</td><td>5</td></tr>",
                            "<tr><td>144</td><td>7</td><td>álarc</td><td>5</td></tr>",
                            "<tr><td>16900</td><td>8</td><td>alkalmi</td><td>2</td></tr>",
                            "<tr><td>16900</td><td>8</td><td>alkalmi</td><td>2</td></tr>",
                            "<tr><td>32000</td><td>8</td><td>alkalmi</td><td>2</td></tr>",
                            "<tr><td>118</td><td>9</td><td>alufólia</td><td>63</td></tr>",
                            "<tr><td>214</td><td>9</td><td>alufólia</td><td>63</td></tr>",
                            "<tr><td>106</td><td>10</td><td>árazószalag</td><td>74</td></tr>",
                            "<tr><td>115</td><td>11</td><td>átírótömb</td><td>74</td></tr>",
                            "<tr><td>228</td><td>12</td><td>beíró</td><td>78</td></tr>",
                            "<tr><td>133</td><td>13</td><td>beírókönyv</td><td>74</td></tr>",
                            "<tr><td>328</td><td>13</td><td>beírókönyv</td><td>74</td></tr>",
                            "<tr><td>780</td><td>14</td><td>bélyegző</td><td>74</td></tr>",
                            "<tr><td>650</td><td>14</td><td>bélyegző</td><td>74</td></tr>",
                            "<tr><td>1377</td><td>14</td><td>bélyegző</td><td>74</td></tr>",
                            "<tr><td>1147</td><td>14</td><td>bélyegző</td><td>74</td></tr>",
                            "<tr><td>297</td><td>15</td><td>bélyegzőfesték</td><td>74</td></tr>",
                            "<tr><td>15</td><td>16</td><td>boríték</td><td>74</td></tr>",
                            "<tr><td>18</td><td>16</td><td>boríték</td><td>74</td></tr>",
                            "<tr><td>6</td><td>16</td><td>boríték</td><td>74</td></tr>",
                            "<tr><td>6</td><td>16</td><td>boríték</td><td>74</td></tr>",
                            "<tr><td>3</td><td>16</td><td>boríték</td><td>74</td></tr>",
                            "<tr><td>39</td><td>16</td><td>boríték</td><td>74</td></tr>",
                            "<tr><td>15</td><td>16</td><td>boríték</td><td>74</td></tr>",
                            "<tr><td>30</td><td>17</td><td>cd tok</td><td>74</td></tr>",
                            "<tr><td>46</td><td>18</td><td>celofán</td><td>63</td></tr>",
                            "<tr><td>73</td><td>18</td><td>celofán</td><td>63</td></tr>",
                            "<tr><td>146</td><td>19</td><td>ceruza</td><td>77</td></tr>",
                            "<tr><td>35</td><td>19</td><td>ceruza</td><td>77</td></tr>",
                            "<tr><td>40</td><td>19</td><td>ceruza</td><td>77</td></tr>",
                            "<tr><td>11</td><td>19</td><td>ceruza</td><td>77</td></tr>",
                            "<tr><td>39</td><td>19</td><td>ceruza</td><td>77</td></tr>",
                            "<tr><td>55</td><td>19</td><td>ceruza</td><td>77</td></tr>",
                            "<tr><td>40</td><td>19</td><td>ceruza</td><td>77</td></tr>",
                            "<tr><td>30</td><td>19</td><td>ceruza</td><td>77</td></tr>",
                            "<tr><td>39</td><td>19</td><td>ceruza</td><td>77</td></tr>",
                            "<tr><td>53</td><td>19</td><td>ceruza</td><td>77</td></tr>",
                            "<tr><td>23</td><td>19</td><td>ceruza</td><td>77</td></tr>",
                            "<tr><td>55</td><td>19</td><td>ceruza</td><td>77</td></tr>",
                            "<tr><td>59</td><td>19</td><td>ceruza</td><td>77</td></tr>",
                            "<tr><td>40</td><td>19</td><td>ceruza</td><td>77</td></tr>",
                            "<tr><td>106</td><td>19</td><td>ceruza</td><td>77</td></tr>",
                            "<tr><td>11</td><td>19</td><td>ceruza</td><td>77</td></tr>",
                            "<tr><td>58</td><td>19</td><td>ceruza</td><td>77</td></tr>",
                            "<tr><td>36</td><td>19</td><td>ceruza</td><td>77</td></tr>",
                            "<tr><td>44</td><td>19</td><td>ceruza</td><td>77</td></tr>",
                            "<tr><td>26</td><td>20</td><td>címke</td><td>5</td></tr>",
                            "<tr><td>31</td><td>20</td><td>címke</td><td>5</td></tr>",
                            "<tr><td>20</td><td>20</td><td>címke</td><td>5</td></tr>",
                            "<tr><td>1500</td><td>21</td><td>color copy</td><td>113</td></tr>",
                            "<tr><td>14</td><td>21</td><td>color copy</td><td>113</td></tr>",
                            "<tr><td>10</td><td>21</td><td>color copy</td><td>113</td></tr>",
                            "<tr><td>15</td><td>21</td><td>color copy</td><td>113</td></tr>",
                            "<tr><td>14</td><td>21</td><td>color copy</td><td>113</td></tr>",
                            "<tr><td>110</td><td>22</td><td>csomagoló</td><td>63</td></tr>",
                            "<tr><td>89</td><td>22</td><td>csomagoló</td><td>63</td></tr>",
                            "<tr><td>148</td><td>24</td><td>csomagoló papír</td><td>23</td></tr>",
                            "<tr><td>121</td><td>24</td><td>csomagoló papír</td><td>23</td></tr>",
                            "<tr><td>56</td><td>24</td><td>csomagoló papír</td><td>23</td></tr>",
                            "<tr><td>44</td><td>24</td><td>csomagoló papír</td><td>23</td></tr>",
                            "<tr><td>23</td><td>24</td><td>csomagoló papír</td><td>23</td></tr>",
                            "<tr><td>220</td><td>24</td><td>csomagoló papír</td><td>23</td></tr>",
                            "<tr><td>106</td><td>24</td><td>csomagoló papír</td><td>23</td></tr>",
                            "<tr><td>44</td><td>25</td><td>dekor</td><td>5</td></tr>",
                            "<tr><td>23</td><td>25</td><td>dekor</td><td>5</td></tr>",
                            "<tr><td>3</td><td>25</td><td>dekor</td><td>5</td></tr>",
                            "<tr><td>15</td><td>25</td><td>dekor</td><td>5</td></tr>",
                            "<tr><td>9</td><td>26</td><td>dipa</td><td>113</td></tr>",
                            "<tr><td>61</td><td>27</td><td>díszdoboz</td><td>5</td></tr>",
                            "<tr><td>66</td><td>27</td><td>díszdoboz</td><td>5</td></tr>",
                            "<tr><td>44</td><td>27</td><td>díszdoboz</td><td>5</td></tr>",
                            "<tr><td>26</td><td>28</td><td>díszkötöző</td><td>23</td></tr>",
                            "<tr><td>44</td><td>28</td><td>díszkötöző</td><td>23</td></tr>",
                            "<tr><td>15</td><td>28</td><td>díszkötöző</td><td>23</td></tr>",
                            "<tr><td>15</td><td>28</td><td>díszkötöző</td><td>23</td></tr>",
                            "<tr><td>81</td><td>28</td><td>díszkötöző</td><td>23</td></tr>",
                            "<tr><td>133</td><td>29</td><td>dvd</td><td>74</td></tr>",
                            "<tr><td>40</td><td>30</td><td>ecset</td><td>78</td></tr>",
                            "<tr><td>33</td><td>30</td><td>ecset</td><td>78</td></tr>",
                            "<tr><td>60</td><td>30</td><td>ecset</td><td>78</td></tr>",
                            "<tr><td>65</td><td>30</td><td>ecset</td><td>78</td></tr>",
                            "<tr><td>36</td><td>30</td><td>ecset</td><td>78</td></tr>",
                            "<tr><td>79</td><td>30</td><td>ecset</td><td>78</td></tr>",
                            "<tr><td>180</td><td>30</td><td>ecset</td><td>78</td></tr>",
                            "<tr><td>25</td><td>31</td><td>előlap</td><td>113</td></tr>",
                            "<tr><td>316</td><td>32</td><td>emlékkönyv</td><td>5</td></tr>",
                            "<tr><td>449</td><td>32</td><td>emlékkönyv</td><td>5</td></tr>",
                            "<tr><td>526</td><td>32</td><td>emlékkönyv</td><td>5</td></tr>",
                            "<tr><td>26</td><td>33</td><td>emléklap</td><td>113</td></tr>",
                            "<tr><td>161</td><td>34</td><td>fax papír</td><td>113</td></tr>",
                            "<tr><td>690</td><td>35</td><td>fehérnemű</td><td>2</td></tr>",
                            "<tr><td>390</td><td>35</td><td>fehérnemű</td><td>2</td></tr>",
                            "<tr><td>240</td><td>35</td><td>fehérnemű</td><td>2</td></tr>",
                            "<tr><td>990</td><td>35</td><td>fehérnemű</td><td>2</td></tr>",
                            "<tr><td>390</td><td>35</td><td>fehérnemű</td><td>2</td></tr>",
                            "<tr><td>240</td><td>35</td><td>fehérnemű</td><td>2</td></tr>",
                            "<tr><td>990</td><td>35</td><td>fehérnemű</td><td>2</td></tr>",
                            "<tr><td>845</td><td>36</td><td>fénymásoló papír</td><td>113</td></tr>",
                            "<tr><td>728</td><td>36</td><td>fénymásoló papír</td><td>113</td></tr>",
                            "<tr><td>728</td><td>36</td><td>fénymásoló papír</td><td>113</td></tr>",
                            "<tr><td>1488</td><td>36</td><td>fénymásoló papír</td><td>113</td></tr>",
                            "<tr><td>686</td><td>36</td><td>fénymásoló papír</td><td>113</td></tr>",
                            "<tr><td>6490</td><td>37</td><td>férfi ing</td><td>69</td></tr>",
                            "<tr><td>22000</td><td>38</td><td>férfi kabát</td><td>81</td></tr>",
                            "<tr><td>7890</td><td>39</td><td>férfi nadrág</td><td>102</td></tr>",
                            "<tr><td>11900</td><td>39</td><td>férfi nadrág</td><td>102</td></tr>",
                            "<tr><td>625</td><td>40</td><td>festékpatron</td><td>74</td></tr>",
                            "<tr><td>53</td><td>41</td><td>filctoll</td><td>77</td></tr>",
                            "<tr><td>76</td><td>41</td><td>filctoll</td><td>77</td></tr>",
                            "<tr><td>114</td><td>41</td><td>filctoll</td><td>77</td></tr>",
                            "<tr><td>103</td><td>41</td><td>filctoll</td><td>77</td></tr>",
                            "<tr><td>276</td><td>41</td><td>filctoll</td><td>77</td></tr>",
                            "<tr><td>0</td><td>41</td><td>filctoll</td><td>77</td></tr>",
                            "<tr><td>434</td><td>41</td><td>filctoll</td><td>77</td></tr>",
                            "<tr><td>26</td><td>41</td><td>filctoll</td><td>77</td></tr>",
                            "<tr><td>278</td><td>41</td><td>filctoll</td><td>77</td></tr>",
                            "<tr><td>434</td><td>41</td><td>filctoll</td><td>77</td></tr>",
                            "<tr><td>390</td><td>41</td><td>filctoll</td><td>77</td></tr>",
                            "<tr><td>140</td><td>41</td><td>filctoll</td><td>77</td></tr>",
                            "<tr><td>46</td><td>41</td><td>filctoll</td><td>77</td></tr>",
                            "<tr><td>51</td><td>42</td><td>floppy</td><td>74</td></tr>",
                            "<tr><td>44</td><td>43</td><td>fólia</td><td>74</td></tr>",
                            "<tr><td>40</td><td>43</td><td>fólia</td><td>74</td></tr>",
                            "<tr><td>44</td><td>43</td><td>fólia</td><td>74</td></tr>",
                            "<tr><td>30</td><td>44</td><td>fotópapír</td><td>113</td></tr>",
                            "<tr><td>206</td><td>45</td><td>füzet</td><td>78</td></tr>",
                            "<tr><td>155</td><td>45</td><td>füzet</td><td>78</td></tr>",
                            "<tr><td>144</td><td>45</td><td>füzet</td><td>78</td></tr>",
                            "<tr><td>89</td><td>45</td><td>füzet</td><td>78</td></tr>",
                            "<tr><td>68</td><td>45</td><td>füzet</td><td>78</td></tr>",
                            "<tr><td>78</td><td>45</td><td>füzet</td><td>78</td></tr>",
                            "<tr><td>34</td><td>45</td><td>füzet</td><td>78</td></tr>",
                            "<tr><td>30</td><td>45</td><td>füzet</td><td>78</td></tr>",
                            "<tr><td>48</td><td>45</td><td>füzet</td><td>78</td></tr>",
                            "<tr><td>34</td><td>45</td><td>füzet</td><td>78</td></tr>",
                            "<tr><td>161</td><td>45</td><td>füzet</td><td>78</td></tr>",
                            "<tr><td>24</td><td>46</td><td>füzetborító</td><td>78</td></tr>",
                            "<tr><td>10</td><td>46</td><td>füzetborító</td><td>78</td></tr>",
                            "<tr><td>8</td><td>46</td><td>füzetborító</td><td>78</td></tr>",
                            "<tr><td>19</td><td>46</td><td>füzetborító</td><td>78</td></tr>",
                            "<tr><td>23</td><td>46</td><td>füzetborító</td><td>78</td></tr>",
                            "<tr><td>195</td><td>46</td><td>füzetborító</td><td>78</td></tr>",
                            "<tr><td>19</td><td>46</td><td>füzetborító</td><td>78</td></tr>",
                            "<tr><td>551</td><td>47</td><td>füzettartó</td><td>78</td></tr>",
                            "<tr><td>508</td><td>47</td><td>füzettartó</td><td>78</td></tr>",
                            "<tr><td>411</td><td>47</td><td>füzettartó</td><td>78</td></tr>",
                            "<tr><td>203</td><td>47</td><td>füzettartó</td><td>78</td></tr>",
                            "<tr><td>30</td><td>48</td><td>gemkapocs</td><td>74</td></tr>",
                            "<tr><td>48</td><td>48</td><td>gemkapocs</td><td>74</td></tr>",
                            "<tr><td>44</td><td>49</td><td>gémkapocs</td><td>74</td></tr>",
                            "<tr><td>103</td><td>49</td><td>gémkapocs</td><td>74</td></tr>",
                            "<tr><td>89</td><td>50</td><td>genoterm</td><td>74</td></tr>",
                            "<tr><td>8</td><td>51</td><td>genotherm</td><td>74</td></tr>",
                            "<tr><td>63</td><td>51</td><td>genotherm</td><td>74</td></tr>",
                            "<tr><td>110</td><td>51</td><td>genotherm</td><td>74</td></tr>",
                            "<tr><td>218</td><td>52</td><td>golyóstoll</td><td>77</td></tr>",
                            "<tr><td>455</td><td>52</td><td>golyóstoll</td><td>77</td></tr>",
                            "<tr><td>655</td><td>52</td><td>golyóstoll</td><td>77</td></tr>",
                            "<tr><td>189</td><td>52</td><td>golyóstoll</td><td>77</td></tr>",
                            "<tr><td>94</td><td>52</td><td>golyóstoll</td><td>77</td></tr>",
                            "<tr><td>81</td><td>52</td><td>golyóstoll</td><td>77</td></tr>",
                            "<tr><td>273</td><td>52</td><td>golyóstoll</td><td>77</td></tr>",
                            "<tr><td>110</td><td>52</td><td>golyóstoll</td><td>77</td></tr>",
                            "<tr><td>364</td><td>52</td><td>golyóstoll</td><td>77</td></tr>",
                            "<tr><td>188</td><td>52</td><td>golyóstoll</td><td>77</td></tr>",
                            "<tr><td>294</td><td>52</td><td>golyóstoll</td><td>77</td></tr>",
                            "<tr><td>51</td><td>52</td><td>golyóstoll</td><td>77</td></tr>",
                            "<tr><td>390</td><td>52</td><td>golyóstoll</td><td>77</td></tr>",
                            "<tr><td>1019</td><td>52</td><td>golyóstoll</td><td>77</td></tr>",
                            "<tr><td>41</td><td>52</td><td>golyóstoll</td><td>77</td></tr>",
                            "<tr><td>401</td><td>52</td><td>golyóstoll</td><td>77</td></tr>",
                            "<tr><td>33</td><td>52</td><td>golyóstoll</td><td>77</td></tr>",
                            "<tr><td>23</td><td>52</td><td>golyóstoll</td><td>77</td></tr>",
                            "<tr><td>93</td><td>52</td><td>golyóstoll</td><td>77</td></tr>",
                            "<tr><td>773</td><td>52</td><td>golyóstoll</td><td>77</td></tr>",
                            "<tr><td>63</td><td>52</td><td>golyóstoll</td><td>77</td></tr>",
                            "<tr><td>239</td><td>52</td><td>golyóstoll</td><td>77</td></tr>",
                            "<tr><td>44</td><td>52</td><td>golyóstoll</td><td>77</td></tr>",
                            "<tr><td>101</td><td>52</td><td>golyóstoll</td><td>77</td></tr>",
                            "<tr><td>230</td><td>52</td><td>golyóstoll</td><td>77</td></tr>",
                            "<tr><td>231</td><td>52</td><td>golyóstoll</td><td>77</td></tr>",
                            "<tr><td>19</td><td>53</td><td>gumigyűrű</td><td>63</td></tr>",
                            "<tr><td>6900</td><td>54</td><td>gyermek cipő</td><td>3</td></tr>",
                            "<tr><td>7900</td><td>54</td><td>gyermek cipő</td><td>3</td></tr>",
                            "<tr><td>8000</td><td>54</td><td>gyermek cipő</td><td>3</td></tr>",
                            "<tr><td>6900</td><td>54</td><td>gyermek cipő</td><td>3</td></tr>",
                            "<tr><td>7900</td><td>54</td><td>gyermek cipő</td><td>3</td></tr>",
                            "<tr><td>8000</td><td>54</td><td>gyermek cipő</td><td>3</td></tr>",
                            "<tr><td>8900</td><td>55</td><td>gyermek kabát</td><td>81</td></tr>",
                            "<tr><td>8900</td><td>55</td><td>gyermek kabát</td><td>81</td></tr>",
                            "<tr><td>4990</td><td>56</td><td>gyermek nadrág</td><td>102</td></tr>",
                            "<tr><td>1290</td><td>56</td><td>gyermek nadrág</td><td>102</td></tr>",
                            "<tr><td>4990</td><td>56</td><td>gyermek nadrág</td><td>102</td></tr>",
                            "<tr><td>1290</td><td>56</td><td>gyermek nadrág</td><td>102</td></tr>",
                            "<tr><td>3900</td><td>57</td><td>gyermek póló</td><td>120</td></tr>",
                            "<tr><td>3900</td><td>57</td><td>gyermek póló</td><td>120</td></tr>",
                            "<tr><td>18</td><td>58</td><td>gyorsfűző</td><td>74</td></tr>",
                            "<tr><td>30</td><td>58</td><td>gyorsfűző</td><td>74</td></tr>",
                            "<tr><td>35</td><td>58</td><td>gyorsfűző</td><td>74</td></tr>",
                            "<tr><td>180</td><td>59</td><td>gyurma</td><td>78</td></tr>",
                            "<tr><td>228</td><td>59</td><td>gyurma</td><td>78</td></tr>",
                            "<tr><td>161</td><td>59</td><td>gyurma</td><td>78</td></tr>",
                            "<tr><td>121</td><td>59</td><td>gyurma</td><td>78</td></tr>",
                            "<tr><td>184</td><td>60</td><td>gyűrűskönyv</td><td>78</td></tr>",
                            "<tr><td>95</td><td>60</td><td>gyűrűskönyv</td><td>78</td></tr>",
                            "<tr><td>218</td><td>60</td><td>gyűrűskönyv</td><td>78</td></tr>",
                            "<tr><td>581</td><td>60</td><td>gyűrűskönyv</td><td>78</td></tr>",
                            "<tr><td>699</td><td>60</td><td>gyűrűskönyv</td><td>78</td></tr>",
                            "<tr><td>66</td><td>61</td><td>hajgumi</td><td>5</td></tr>",
                            "<tr><td>464</td><td>62</td><td>határidő napló</td><td>5</td></tr>",
                            "<tr><td>728</td><td>62</td><td>határidő napló</td><td>5</td></tr>",
                            "<tr><td>875</td><td>64</td><td>hegyező</td><td>78</td></tr>",
                            "<tr><td>30</td><td>64</td><td>hegyező</td><td>78</td></tr>",
                            "<tr><td>23</td><td>64</td><td>hegyező</td><td>78</td></tr>",
                            "<tr><td>30</td><td>64</td><td>hegyező</td><td>78</td></tr>",
                            "<tr><td>70</td><td>65</td><td>hegyző</td><td>78</td></tr>",
                            "<tr><td>180</td><td>65</td><td>hegyző</td><td>78</td></tr>",
                            "<tr><td>794</td><td>66</td><td>hibajavító</td><td>74</td></tr>",
                            "<tr><td>185</td><td>66</td><td>hibajavító</td><td>74</td></tr>",
                            "<tr><td>273</td><td>66</td><td>hibajavító</td><td>74</td></tr>",
                            "<tr><td>81</td><td>66</td><td>hibajavító</td><td>74</td></tr>",
                            "<tr><td>133</td><td>66</td><td>hibajavító</td><td>74</td></tr>",
                            "<tr><td>286</td><td>66</td><td>hibajavító</td><td>74</td></tr>",
                            "<tr><td>278</td><td>66</td><td>hibajavító</td><td>74</td></tr>",
                            "<tr><td>24</td><td>67</td><td>hűtőmágnes</td><td>5</td></tr>",
                            "<tr><td>169</td><td>67</td><td>hűtőmágnes</td><td>5</td></tr>",
                            "<tr><td>15</td><td>68</td><td>indigó</td><td>78</td></tr>",
                            "<tr><td>12</td><td>68</td><td>indigó</td><td>78</td></tr>",
                            "<tr><td>19</td><td>70</td><td>iratgyűjtő</td><td>74</td></tr>",
                            "<tr><td>19</td><td>70</td><td>iratgyűjtő</td><td>74</td></tr>",
                            "<tr><td>133</td><td>70</td><td>iratgyűjtő</td><td>74</td></tr>",
                            "<tr><td>259</td><td>71</td><td>iratrendező</td><td>74</td></tr>",
                            "<tr><td>243</td><td>71</td><td>iratrendező</td><td>74</td></tr>",
                            "<tr><td>44</td><td>72</td><td>iratsín</td><td>74</td></tr>",
                            "<tr><td>89</td><td>72</td><td>iratsín</td><td>74</td></tr>",
                            "<tr><td>66</td><td>73</td><td>irattartó</td><td>74</td></tr>",
                            "<tr><td>214</td><td>73</td><td>irattartó</td><td>74</td></tr>",
                            "<tr><td>59</td><td>74</td><td>irodaszer</td><td>1</td></tr>",
                            "<tr><td>29</td><td>75</td><td>írólap</td><td>78</td></tr>",
                            "<tr><td>34</td><td>75</td><td>írólap</td><td>78</td></tr>",
                            "<tr><td>74</td><td>76</td><td>ironbél</td><td>77</td></tr>",
                            "<tr><td>36</td><td>76</td><td>ironbél</td><td>77</td></tr>",
                            "<tr><td>59</td><td>76</td><td>ironbél</td><td>77</td></tr>",
                            "<tr><td>23</td><td>76</td><td>ironbél</td><td>77</td></tr>",
                            "<tr><td>78</td><td>76</td><td>ironbél</td><td>77</td></tr>",
                            "<tr><td>161</td><td>78</td><td>iskolaszer</td><td>1</td></tr>",
                            "<tr><td>74</td><td>78</td><td>iskolaszer</td><td>1</td></tr>",
                            "<tr><td>36</td><td>78</td><td>iskolaszer</td><td>1</td></tr>",
                            "<tr><td>161</td><td>78</td><td>iskolaszer</td><td>1</td></tr>",
                            "<tr><td>73</td><td>78</td><td>iskolaszer</td><td>1</td></tr>",
                            "<tr><td>125</td><td>78</td><td>iskolaszer</td><td>1</td></tr>",
                            "<tr><td>511</td><td>78</td><td>iskolaszer</td><td>1</td></tr>",
                            "<tr><td>33</td><td>78</td><td>iskolaszer</td><td>1</td></tr>",
                            "<tr><td>324</td><td>78</td><td>iskolaszer</td><td>1</td></tr>",
                            "<tr><td>36</td><td>78</td><td>iskolaszer</td><td>1</td></tr>",
                            "<tr><td>23</td><td>78</td><td>iskolaszer</td><td>1</td></tr>",
                            "<tr><td>9</td><td>78</td><td>iskolaszer</td><td>1</td></tr>",
                            "<tr><td>8</td><td>78</td><td>iskolaszer</td><td>1</td></tr>",
                            "<tr><td>103</td><td>78</td><td>iskolaszer</td><td>1</td></tr>",
                            "<tr><td>8</td><td>78</td><td>iskolaszer</td><td>1</td></tr>",
                            "<tr><td>51</td><td>78</td><td>iskolaszer</td><td>1</td></tr>",
                            "<tr><td>5</td><td>78</td><td>iskolaszer</td><td>1</td></tr>",
                            "<tr><td>36</td><td>78</td><td>iskolaszer</td><td>1</td></tr>",
                            "<tr><td>35</td><td>78</td><td>iskolaszer</td><td>1</td></tr>",
                            "<tr><td>61</td><td>78</td><td>iskolaszer</td><td>1</td></tr>",
                            "<tr><td>43</td><td>78</td><td>iskolaszer</td><td>1</td></tr>",
                            "<tr><td>45</td><td>78</td><td>iskolaszer</td><td>1</td></tr>",
                            "<tr><td>19</td><td>78</td><td>iskolaszer</td><td>1</td></tr>",
                            "<tr><td>58</td><td>78</td><td>iskolaszer</td><td>1</td></tr>",
                            "<tr><td>65</td><td>79</td><td>játékautó</td><td>5</td></tr>",
                            "<tr><td>133</td><td>79</td><td>játékautó</td><td>5</td></tr>",
                            "<tr><td>165</td><td>79</td><td>játékautó</td><td>5</td></tr>",
                            "<tr><td>73</td><td>79</td><td>játékautó</td><td>5</td></tr>",
                            "<tr><td>48</td><td>80</td><td>jelzőkréta</td><td>5</td></tr>",
                            "<tr><td>106</td><td>82</td><td>kapocskiszedő</td><td>74</td></tr>",
                            "<tr><td>38</td><td>83</td><td>karton</td><td>113</td></tr>",
                            "<tr><td>11</td><td>83</td><td>karton</td><td>113</td></tr>",
                            "<tr><td>25</td><td>83</td><td>karton</td><td>113</td></tr>",
                            "<tr><td>73</td><td>83</td><td>karton</td><td>113</td></tr>",
                            "<tr><td>89</td><td>83</td><td>karton</td><td>113</td></tr>",
                            "<tr><td>40</td><td>83</td><td>karton</td><td>113</td></tr>",
                            "<tr><td>131</td><td>84</td><td>kártya</td><td>5</td></tr>",
                            "<tr><td>33</td><td>85</td><td>képeslap</td><td>5</td></tr>",
                            "<tr><td>184</td><td>85</td><td>képeslap</td><td>5</td></tr>",
                            "<tr><td>33</td><td>85</td><td>képeslap</td><td>5</td></tr>",
                            "<tr><td>55</td><td>85</td><td>képeslap</td><td>5</td></tr>",
                            "<tr><td>81</td><td>85</td><td>képeslap</td><td>5</td></tr>",
                            "<tr><td>51</td><td>85</td><td>képeslap</td><td>5</td></tr>",
                            "<tr><td>89</td><td>85</td><td>képeslap</td><td>5</td></tr>",
                            "<tr><td>30</td><td>85</td><td>képeslap</td><td>5</td></tr>",
                            "<tr><td>73</td><td>85</td><td>képeslap</td><td>5</td></tr>",
                            "<tr><td>15</td><td>85</td><td>képeslap</td><td>5</td></tr>",
                            "<tr><td>36</td><td>85</td><td>képeslap</td><td>5</td></tr>",
                            "<tr><td>59</td><td>85</td><td>képeslap</td><td>5</td></tr>",
                            "<tr><td>48</td><td>85</td><td>képeslap</td><td>5</td></tr>",
                            "<tr><td>14</td><td>85</td><td>képeslap</td><td>5</td></tr>",
                            "<tr><td>44</td><td>85</td><td>képeslap</td><td>5</td></tr>",
                            "<tr><td>118</td><td>85</td><td>képeslap</td><td>5</td></tr>",
                            "<tr><td>195</td><td>86</td><td>képkirakó</td><td>5</td></tr>",
                            "<tr><td>39000</td><td>88</td><td>kosztüm</td><td>8</td></tr>",
                            "<tr><td>46000</td><td>88</td><td>kosztüm</td><td>8</td></tr>",
                            "<tr><td>161</td><td>89</td><td>körző</td><td>78</td></tr>",
                            "<tr><td>30</td><td>89</td><td>körző</td><td>78</td></tr>",
                            "<tr><td>243</td><td>89</td><td>körző</td><td>78</td></tr>",
                            "<tr><td>13</td><td>90</td><td>kreatív</td><td>113</td></tr>",
                            "<tr><td>4</td><td>90</td><td>kreatív</td><td>113</td></tr>",
                            "<tr><td>115</td><td>91</td><td>kulcstartó</td><td>5</td></tr>",
                            "<tr><td>148</td><td>91</td><td>kulcstartó</td><td>5</td></tr>",
                            "<tr><td>124</td><td>91</td><td>kulcstartó</td><td>5</td></tr>",
                            "<tr><td>103</td><td>91</td><td>kulcstartó</td><td>5</td></tr>",
                            "<tr><td>155</td><td>91</td><td>kulcstartó</td><td>5</td></tr>",
                            "<tr><td>36</td><td>91</td><td>kulcstartó</td><td>5</td></tr>",
                            "<tr><td>129</td><td>91</td><td>kulcstartó</td><td>5</td></tr>",
                            "<tr><td>81</td><td>92</td><td>labda</td><td>5</td></tr>",
                            "<tr><td>110</td><td>92</td><td>labda</td><td>5</td></tr>",
                            "<tr><td>15</td><td>93</td><td>levélpapír</td><td>5</td></tr>",
                            "<tr><td>140</td><td>93</td><td>levélpapír</td><td>5</td></tr>",
                            "<tr><td>56</td><td>93</td><td>levélpapír</td><td>5</td></tr>",
                            "<tr><td>89</td><td>93</td><td>levélpapír</td><td>5</td></tr>",
                            "<tr><td>74</td><td>93</td><td>levélpapír</td><td>5</td></tr>",
                            "<tr><td>103</td><td>93</td><td>levélpapír</td><td>5</td></tr>",
                            "<tr><td>169</td><td>93</td><td>levélpapír</td><td>5</td></tr>",
                            "<tr><td>15</td><td>94</td><td>lufi</td><td>5</td></tr>",
                            "<tr><td>11</td><td>94</td><td>lufi</td><td>5</td></tr>",
                            "<tr><td>526</td><td>95</td><td>lyukasztó</td><td>74</td></tr>",
                            "<tr><td>765</td><td>95</td><td>lyukasztó</td><td>74</td></tr>",
                            "<tr><td>210</td><td>96</td><td>mappa</td><td>5</td></tr>",
                            "<tr><td>184</td><td>96</td><td>mappa</td><td>5</td></tr>",
                            "<tr><td>1765</td><td>96</td><td>mappa</td><td>5</td></tr>",
                            "<tr><td>264</td><td>96</td><td>mappa</td><td>5</td></tr>",
                            "<tr><td>360</td><td>96</td><td>mappa</td><td>5</td></tr>",
                            "<tr><td>195</td><td>96</td><td>mappa</td><td>5</td></tr>",
                            "<tr><td>211</td><td>96</td><td>mappa</td><td>5</td></tr>",
                            "<tr><td>148</td><td>96</td><td>mappa</td><td>5</td></tr>",
                            "<tr><td>191</td><td>96</td><td>mappa</td><td>5</td></tr>",
                            "<tr><td>55</td><td>97</td><td>matrica</td><td>5</td></tr>",
                            "<tr><td>49</td><td>97</td><td>matrica</td><td>5</td></tr>",
                            "<tr><td>49</td><td>97</td><td>matrica</td><td>5</td></tr>",
                            "<tr><td>109</td><td>97</td><td>matrica</td><td>5</td></tr>",
                            "<tr><td>93</td><td>97</td><td>matrica</td><td>5</td></tr>",
                            "<tr><td>161</td><td>97</td><td>matrica</td><td>5</td></tr>",
                            "<tr><td>168</td><td>97</td><td>matrica</td><td>5</td></tr>",
                            "<tr><td>148</td><td>97</td><td>matrica</td><td>5</td></tr>",
                            "<tr><td>175</td><td>97</td><td>matrica</td><td>5</td></tr>",
                            "<tr><td>56</td><td>97</td><td>matrica</td><td>5</td></tr>",
                            "<tr><td>155</td><td>98</td><td>meghívó</td><td>5</td></tr>",
                            "<tr><td>169</td><td>98</td><td>meghívó</td><td>5</td></tr>",
                            "<tr><td>59</td><td>98</td><td>meghívó</td><td>5</td></tr>",
                            "<tr><td>63</td><td>98</td><td>meghívó</td><td>5</td></tr>",
                            "<tr><td>8</td><td>99</td><td>miliméterpapír</td><td>78</td></tr>",
                            "<tr><td>403</td><td>100</td><td>munkafüzet</td><td>78</td></tr>",
                            "<tr><td>403</td><td>100</td><td>munkafüzet</td><td>78</td></tr>",
                            "<tr><td>403</td><td>100</td><td>munkafüzet</td><td>78</td></tr>",
                            "<tr><td>198</td><td>100</td><td>munkafüzet</td><td>78</td></tr>",
                            "<tr><td>190</td><td>100</td><td>munkafüzet</td><td>78</td></tr>",
                            "<tr><td>440</td><td>100</td><td>munkafüzet</td><td>78</td></tr>",
                            "<tr><td>293</td><td>100</td><td>munkafüzet</td><td>78</td></tr>",
                            "<tr><td>353</td><td>100</td><td>munkafüzet</td><td>78</td></tr>",
                            "<tr><td>785</td><td>100</td><td>munkafüzet</td><td>78</td></tr>",
                            "<tr><td>3</td><td>101</td><td>műnyomó</td><td>113</td></tr>",
                            "<tr><td>89</td><td>103</td><td>naptár</td><td>74</td></tr>",
                            "<tr><td>15</td><td>104</td><td>naptárhát</td><td>74</td></tr>",
                            "<tr><td>78</td><td>104</td><td>naptárhát</td><td>74</td></tr>",
                            "<tr><td>310</td><td>105</td><td>névjegytartó</td><td>74</td></tr>",
                            "<tr><td>103</td><td>106</td><td>notesz</td><td>74</td></tr>",
                            "<tr><td>89</td><td>106</td><td>notesz</td><td>74</td></tr>",
                            "<tr><td>56</td><td>106</td><td>notesz</td><td>74</td></tr>",
                            "<tr><td>103</td><td>106</td><td>notesz</td><td>74</td></tr>",
                            "<tr><td>44</td><td>106</td><td>notesz</td><td>74</td></tr>",
                            "<tr><td>24000</td><td>107</td><td>női kabát</td><td>81</td></tr>",
                            "<tr><td>8290</td><td>108</td><td>női nadrág</td><td>102</td></tr>",
                            "<tr><td>4</td><td>109</td><td>ofszet</td><td>113</td></tr>",
                            "<tr><td>48</td><td>110</td><td>oklevél</td><td>113</td></tr>",
                            "<tr><td>55</td><td>110</td><td>oklevél</td><td>113</td></tr>",
                            "<tr><td>133</td><td>111</td><td>olló</td><td>78</td></tr>",
                            "<tr><td>176</td><td>111</td><td>olló</td><td>78</td></tr>",
                            "<tr><td>161</td><td>111</td><td>olló</td><td>78</td></tr>",
                            "<tr><td>59</td><td>112</td><td>öntapadó</td><td>113</td></tr>",
                            "<tr><td>4575</td><td>112</td><td>öntapadó</td><td>113</td></tr>",
                            "<tr><td>20</td><td>114</td><td>papízsebkendő</td><td>63</td></tr>",
                            "<tr><td>15</td><td>115</td><td>pausz</td><td>113</td></tr>",
                            "<tr><td>144</td><td>116</td><td>pénztárbizonylat</td><td>74</td></tr>",
                            "<tr><td>103</td><td>116</td><td>pénztárbizonylat</td><td>74</td></tr>",
                            "<tr><td>81</td><td>117</td><td>pénztárgépszalag</td><td>74</td></tr>",
                            "<tr><td>93</td><td>117</td><td>pénztárgépszalag</td><td>74</td></tr>",
                            "<tr><td>276</td><td>118</td><td>pixiron</td><td>77</td></tr>",
                            "<tr><td>125</td><td>118</td><td>pixiron</td><td>77</td></tr>",
                            "<tr><td>59</td><td>118</td><td>pixiron</td><td>77</td></tr>",
                            "<tr><td>133</td><td>118</td><td>pixiron</td><td>77</td></tr>",
                            "<tr><td>94</td><td>118</td><td>pixiron</td><td>77</td></tr>",
                            "<tr><td>468</td><td>118</td><td>pixiron</td><td>77</td></tr>",
                            "<tr><td>59</td><td>118</td><td>pixiron</td><td>77</td></tr>",
                            "<tr><td>235</td><td>118</td><td>pixiron</td><td>77</td></tr>",
                            "<tr><td>299</td><td>118</td><td>pixiron</td><td>77</td></tr>",
                            "<tr><td>173</td><td>119</td><td>plüss</td><td>5</td></tr>",
                            "<tr><td>161</td><td>119</td><td>plüss</td><td>5</td></tr>",
                            "<tr><td>314</td><td>119</td><td>plüss</td><td>5</td></tr>",
                            "<tr><td>36</td><td>121</td><td>post-it</td><td>78</td></tr>",
                            "<tr><td>89</td><td>121</td><td>post-it</td><td>78</td></tr>",
                            "<tr><td>40</td><td>122</td><td>radír</td><td>78</td></tr>",
                            "<tr><td>19</td><td>122</td><td>radír</td><td>78</td></tr>",
                            "<tr><td>36</td><td>122</td><td>radír</td><td>78</td></tr>",
                            "<tr><td>44</td><td>122</td><td>radír</td><td>78</td></tr>",
                            "<tr><td>44</td><td>122</td><td>radír</td><td>78</td></tr>",
                            "<tr><td>50</td><td>122</td><td>radír</td><td>78</td></tr>",
                            "<tr><td>49</td><td>122</td><td>radír</td><td>78</td></tr>",
                            "<tr><td>74</td><td>123</td><td>radírtoll</td><td>78</td></tr>",
                            "<tr><td>119</td><td>123</td><td>radírtoll</td><td>78</td></tr>",
                            "<tr><td>133</td><td>124</td><td>ragasztó</td><td>63</td></tr>",
                            "<tr><td>110</td><td>124</td><td>ragasztó</td><td>63</td></tr>",
                            "<tr><td>81</td><td>124</td><td>ragasztó</td><td>63</td></tr>",
                            "<tr><td>293</td><td>124</td><td>ragasztó</td><td>63</td></tr>",
                            "<tr><td>101</td><td>124</td><td>ragasztó</td><td>63</td></tr>",
                            "<tr><td>89</td><td>124</td><td>ragasztó</td><td>63</td></tr>",
                            "<tr><td>426</td><td>124</td><td>ragasztó</td><td>63</td></tr>",
                            "<tr><td>144</td><td>124</td><td>ragasztó</td><td>63</td></tr>",
                            "<tr><td>144</td><td>124</td><td>ragasztó</td><td>63</td></tr>",
                            "<tr><td>103</td><td>124</td><td>ragasztó</td><td>63</td></tr>",
                            "<tr><td>15</td><td>125</td><td>ragasztószalag</td><td>23</td></tr>",
                            "<tr><td>63</td><td>125</td><td>ragasztószalag</td><td>23</td></tr>",
                            "<tr><td>166</td><td>125</td><td>ragasztószalag</td><td>23</td></tr>",
                            "<tr><td>55</td><td>125</td><td>ragasztószalag</td><td>23</td></tr>",
                            "<tr><td>89</td><td>126</td><td>rágógumi</td><td>63</td></tr>",
                            "<tr><td>28</td><td>127</td><td>rajzlap</td><td>78</td></tr>",
                            "<tr><td>342</td><td>127</td><td>rajzlap</td><td>78</td></tr>",
                            "<tr><td>106</td><td>128</td><td>rajzszeg</td><td>63</td></tr>",
                            "<tr><td>63</td><td>128</td><td>rajzszeg</td><td>63</td></tr>",
                            "<tr><td>256</td><td>129</td><td>regiszteres füzet</td><td>78</td></tr>",
                            "<tr><td>203</td><td>129</td><td>regiszteres füzet</td><td>78</td></tr>",
                            "<tr><td>1990</td><td>130</td><td>sál</td><td>87</td></tr>",
                            "<tr><td>45</td><td>131</td><td>spirál</td><td>74</td></tr>",
                            "<tr><td>356</td><td>132</td><td>strandlabda</td><td>5</td></tr>",
                            "<tr><td>183</td><td>133</td><td>szalvéta</td><td>5</td></tr>",
                            "<tr><td>176</td><td>133</td><td>szalvéta</td><td>5</td></tr>",
                            "<tr><td>118</td><td>133</td><td>szalvéta</td><td>5</td></tr>",
                            "<tr><td>175</td><td>133</td><td>szalvéta</td><td>5</td></tr>",
                            "<tr><td>133</td><td>133</td><td>szalvéta</td><td>5</td></tr>",
                            "<tr><td>161</td><td>133</td><td>szalvéta</td><td>5</td></tr>",
                            "<tr><td>508</td><td>134</td><td>számológép</td><td>78</td></tr>",
                            "<tr><td>1173</td><td>134</td><td>számológép</td><td>78</td></tr>",
                            "<tr><td>129</td><td>135</td><td>szemetes</td><td>63</td></tr>",
                            "<tr><td>99</td><td>136</td><td>színes</td><td>77</td></tr>",
                            "<tr><td>161</td><td>136</td><td>színes</td><td>77</td></tr>",
                            "<tr><td>24</td><td>137</td><td>szögmérő</td><td>78</td></tr>",
                            "<tr><td>11</td><td>137</td><td>szögmérő</td><td>78</td></tr>",
                            "<tr><td>8</td><td>137</td><td>szögmérő</td><td>78</td></tr>",
                            "<tr><td>89</td><td>138</td><td>szövegkiemelő</td><td>77</td></tr>",
                            "<tr><td>93</td><td>138</td><td>szövegkiemelő</td><td>77</td></tr>",
                            "<tr><td>78</td><td>138</td><td>szövegkiemelő</td><td>77</td></tr>",
                            "<tr><td>103</td><td>138</td><td>szövegkiemelő</td><td>77</td></tr>",
                            "<tr><td>140</td><td>138</td><td>szövegkiemelő</td><td>77</td></tr>",
                            "<tr><td>633</td><td>139</td><td>táblafilc</td><td>78</td></tr>",
                            "<tr><td>40</td><td>140</td><td>tapétavágó</td><td>63</td></tr>",
                            "<tr><td>96</td><td>141</td><td>tempera</td><td>78</td></tr>",
                            "<tr><td>48</td><td>141</td><td>tempera</td><td>78</td></tr>",
                            "<tr><td>103</td><td>142</td><td>térképtű</td><td>74</td></tr>",
                            "<tr><td>9</td><td>143</td><td>tintapatron</td><td>77</td></tr>",
                            "<tr><td>360</td><td>143</td><td>tintapatron</td><td>77</td></tr>",
                            "<tr><td>11</td><td>143</td><td>tintapatron</td><td>77</td></tr>",
                            "<tr><td>80</td><td>144</td><td>toll</td><td>77</td></tr>",
                            "<tr><td>74</td><td>144</td><td>toll</td><td>77</td></tr>",
                            "<tr><td>123</td><td>145</td><td>tollbetét</td><td>77</td></tr>",
                            "<tr><td>48</td><td>145</td><td>tollbetét</td><td>77</td></tr>",
                            "<tr><td>33</td><td>145</td><td>tollbetét</td><td>77</td></tr>",
                            "<tr><td>91</td><td>145</td><td>tollbetét</td><td>77</td></tr>",
                            "<tr><td>23</td><td>145</td><td>tollbetét</td><td>77</td></tr>",
                            "<tr><td>15</td><td>145</td><td>tollbetét</td><td>77</td></tr>",
                            "<tr><td>228</td><td>145</td><td>tollbetét</td><td>77</td></tr>",
                            "<tr><td>78</td><td>145</td><td>tollbetét</td><td>77</td></tr>",
                            "<tr><td>89</td><td>145</td><td>tollbetét</td><td>77</td></tr>",
                            "<tr><td>30</td><td>145</td><td>tollbetét</td><td>77</td></tr>",
                            "<tr><td>55</td><td>145</td><td>tollbetét</td><td>77</td></tr>",
                            "<tr><td>30</td><td>145</td><td>tollbetét</td><td>77</td></tr>",
                            "<tr><td>80</td><td>145</td><td>tollbetét</td><td>77</td></tr>",
                            "<tr><td>85</td><td>145</td><td>tollbetét</td><td>77</td></tr>",
                            "<tr><td>55</td><td>145</td><td>tollbetét</td><td>77</td></tr>",
                            "<tr><td>39</td><td>145</td><td>tollbetét</td><td>77</td></tr>",
                            "<tr><td>44</td><td>145</td><td>tollbetét</td><td>77</td></tr>",
                            "<tr><td>684</td><td>145</td><td>tollbetét</td><td>77</td></tr>",
                            "<tr><td>728</td><td>146</td><td>tolltartó</td><td>78</td></tr>",
                            "<tr><td>765</td><td>146</td><td>tolltartó</td><td>78</td></tr>",
                            "<tr><td>324</td><td>146</td><td>tolltartó</td><td>78</td></tr>",
                            "<tr><td>728</td><td>146</td><td>tolltartó</td><td>78</td></tr>",
                            "<tr><td>410</td><td>146</td><td>tolltartó</td><td>78</td></tr>",
                            "<tr><td>655</td><td>146</td><td>tolltartó</td><td>78</td></tr>",
                            "<tr><td>411</td><td>146</td><td>tolltartó</td><td>78</td></tr>",
                            "<tr><td>14250</td><td>147</td><td>toner</td><td>74</td></tr>",
                            "<tr><td>493</td><td>148</td><td>töltőtoll</td><td>77</td></tr>",
                            "<tr><td>438</td><td>149</td><td>tűzőgép</td><td>74</td></tr>",
                            "<tr><td>339</td><td>149</td><td>tűzőgép</td><td>74</td></tr>",
                            "<tr><td>286</td><td>149</td><td>tűzőgép</td><td>74</td></tr>",
                            "<tr><td>1351</td><td>149</td><td>tűzőgép</td><td>74</td></tr>",
                            "<tr><td>405</td><td>149</td><td>tűzőgép</td><td>74</td></tr>",
                            "<tr><td>2100</td><td>149</td><td>tűzőgép</td><td>74</td></tr>",
                            "<tr><td>44</td><td>150</td><td>tűzőkapocs</td><td>74</td></tr>",
                            "<tr><td>34</td><td>150</td><td>tűzőkapocs</td><td>74</td></tr>",
                            "<tr><td>249</td><td>151</td><td>vízfesték</td><td>78</td></tr>",
                            "<tr><td>210</td><td>151</td><td>vízfesték</td><td>78</td></tr>",
                            "<tr><td>180</td><td>151</td><td>vízfesték</td><td>78</td></tr>",
                            "<tr><td>176</td><td>151</td><td>vízfesték</td><td>78</td></tr>",
                            "<tr><td>58</td><td>152</td><td>vonalzó</td><td>78</td></tr>",
                            "<tr><td>30</td><td>152</td><td>vonalzó</td><td>78</td></tr>",
                            "<tr><td>30</td><td>152</td><td>vonalzó</td><td>78</td></tr>",
                            "<tr><td>30</td><td>152</td><td>vonalzó</td><td>78</td></tr>",
                            "<tr><td>30</td><td>152</td><td>vonalzó</td><td>78</td></tr>",
                            "<tr><td>33</td><td>152</td><td>vonalzó</td><td>78</td></tr>",
                            "<tr><td>20</td><td>153</td><td>zászló</td><td>78</td></tr>",
                            "<tr><td>95</td><td>154</td><td>zseléstoll</td><td>77</td></tr>",
                            "<tr><td>66</td><td>154</td><td>zseléstoll</td><td>77</td></tr>",
                            "<tr><td>161</td><td>154</td><td>zseléstoll</td><td>77</td></tr>",
                            "<tr><td>228</td><td>154</td><td>zseléstoll</td><td>77</td></tr>",
                            "<tr><td>81</td><td>155</td><td>írásvetítő fólia</td><td>74</td></tr>",
                            "</table>"
                        ]
                    }
                }
            ],
            "execution_count": 33
        }
    ]
}