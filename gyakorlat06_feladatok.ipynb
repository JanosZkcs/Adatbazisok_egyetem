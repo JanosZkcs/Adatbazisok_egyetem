{
    "metadata": {
        "kernelspec": {
            "name": "SQL",
            "display_name": "SQL",
            "language": "sql"
        },
        "language_info": {
            "name": "sql",
            "version": ""
        }
    },
    "nbformat_minor": 2,
    "nbformat": 4,
    "cells": [
        {
            "cell_type": "markdown",
            "source": [
                "1. <span style=\"background-color: rgb(255, 255, 255); color: rgb(0, 0, 0); font-family: &quot;Open Sans&quot;, sans-serif; font-size: 14.44px;\">Készítsünk sorszámozott listát a szálláshelyek adatairól!&nbsp;</span> \n",
                "\n",
                "a. A lista legyen a szálláshely típusa szerint, azon belül hely szerint, majd a neve szerint növekvően rendezve! \n",
                "\n",
                "b. A számozás típusonként kezdődjön újra!"
            ],
            "metadata": {
                "azdata_cell_guid": "363cd270-6577-449b-9c89-d4b7c7972d52"
            },
            "attachments": {}
        },
        {
            "cell_type": "code",
            "source": [
                "SELECT  ROW_NUMBER() OVER(PARTITION BY TIPUS ORDER BY TIPUS,HELY,SZALLAS_NEV) AS 'Sorszámozott lista',\r\n",
                "        *\r\n",
                "FROM SZALLASHELY"
            ],
            "metadata": {
                "azdata_cell_guid": "6ab9f633-a3b5-48c9-a1dc-4fb8235ae85b",
                "language": "sql"
            },
            "outputs": [
                {
                    "output_type": "display_data",
                    "data": {
                        "text/html": "(21 rows affected)"
                    },
                    "metadata": {}
                },
                {
                    "output_type": "display_data",
                    "data": {
                        "text/html": "Total execution time: 00:00:00.043"
                    },
                    "metadata": {}
                },
                {
                    "output_type": "execute_result",
                    "metadata": {},
                    "execution_count": 5,
                    "data": {
                        "application/vnd.dataresource+json": {
                            "schema": {
                                "fields": [
                                    {
                                        "name": "Sorszámozott lista"
                                    },
                                    {
                                        "name": "SZALLAS_ID"
                                    },
                                    {
                                        "name": "SZALLAS_NEV"
                                    },
                                    {
                                        "name": "HELY"
                                    },
                                    {
                                        "name": "CSILLAGOK_SZAMA"
                                    },
                                    {
                                        "name": "TIPUS"
                                    },
                                    {
                                        "name": "ROGZITETTE"
                                    },
                                    {
                                        "name": "ROGZ_IDO"
                                    },
                                    {
                                        "name": "CIM"
                                    }
                                ]
                            },
                            "data": [
                                {
                                    "Sorszámozott lista": "1",
                                    "SZALLAS_ID": "7",
                                    "SZALLAS_NEV": "Szieszta Apartmanház",
                                    "HELY": "Balaton-dél",
                                    "CSILLAGOK_SZAMA": "0",
                                    "TIPUS": "Apartman",
                                    "ROGZITETTE": "Mari",
                                    "ROGZ_IDO": "2016-03-11",
                                    "CIM": "8630 Balatonboglár, Dózsa György utca 108"
                                },
                                {
                                    "Sorszámozott lista": "2",
                                    "SZALLAS_ID": "18",
                                    "SZALLAS_NEV": "Fortuna Apartman",
                                    "HELY": "Dél-Somogy",
                                    "CSILLAGOK_SZAMA": "0",
                                    "TIPUS": "Apartman",
                                    "ROGZITETTE": "Béla",
                                    "ROGZ_IDO": "2016-04-07",
                                    "CIM": "7570 Barcs, Kossuth u. 13."
                                },
                                {
                                    "Sorszámozott lista": "3",
                                    "SZALLAS_ID": "3",
                                    "SZALLAS_NEV": "Fortuna Apartman",
                                    "HELY": "Hajdúbihar megye",
                                    "CSILLAGOK_SZAMA": "0",
                                    "TIPUS": "Apartman",
                                    "ROGZITETTE": "Sára",
                                    "ROGZ_IDO": "2016-03-06",
                                    "CIM": "4200 Hajdúszoboszló, Wesselényi utca 56."
                                },
                                {
                                    "Sorszámozott lista": "1",
                                    "SZALLAS_ID": "20",
                                    "SZALLAS_NEV": "Kollégium",
                                    "HELY": "Budapest",
                                    "CSILLAGOK_SZAMA": "0",
                                    "TIPUS": "Diákszálló",
                                    "ROGZITETTE": "Sára",
                                    "ROGZ_IDO": "2016-04-07",
                                    "CIM": "1146 Budapest, Ajtósi Dürer sor 23."
                                },
                                {
                                    "Sorszámozott lista": "1",
                                    "SZALLAS_ID": "8",
                                    "SZALLAS_NEV": "Hotel Három Hattyú",
                                    "HELY": "Balaton-dél",
                                    "CSILLAGOK_SZAMA": "4",
                                    "TIPUS": "Hotel",
                                    "ROGZITETTE": "Béla",
                                    "ROGZ_IDO": "2016-03-13",
                                    "CIM": "8623 Balatonföldvár, Rákóczi Ferenc út 45."
                                },
                                {
                                    "Sorszámozott lista": "2",
                                    "SZALLAS_ID": "6",
                                    "SZALLAS_NEV": "Kentaur Hotel",
                                    "HELY": "Balaton-dél",
                                    "CSILLAGOK_SZAMA": "3",
                                    "TIPUS": "Hotel",
                                    "ROGZITETTE": "Béla",
                                    "ROGZ_IDO": "2016-03-08",
                                    "CIM": "8600 Siófok (Széplak), Akácfa utca 1"
                                },
                                {
                                    "Sorszámozott lista": "3",
                                    "SZALLAS_ID": "12",
                                    "SZALLAS_NEV": "Gold Hotel",
                                    "HELY": "Budapest",
                                    "CSILLAGOK_SZAMA": "3",
                                    "TIPUS": "Hotel",
                                    "ROGZITETTE": "Béla",
                                    "ROGZ_IDO": "2016-03-24",
                                    "CIM": "1016 Budapest, Hegyalja út 12"
                                },
                                {
                                    "Sorszámozott lista": "4",
                                    "SZALLAS_ID": "10",
                                    "SZALLAS_NEV": "Lagúna Hotel",
                                    "HELY": "Budapest",
                                    "CSILLAGOK_SZAMA": "4",
                                    "TIPUS": "Hotel",
                                    "ROGZITETTE": "Sára",
                                    "ROGZ_IDO": "2016-03-20",
                                    "CIM": "1097 Budapest, Albert Flórián út 3"
                                },
                                {
                                    "Sorszámozott lista": "5",
                                    "SZALLAS_ID": "16",
                                    "SZALLAS_NEV": "Bagoly Hotel",
                                    "HELY": "Pest megye",
                                    "CSILLAGOK_SZAMA": "3",
                                    "TIPUS": "Hotel",
                                    "ROGZITETTE": "Mari",
                                    "ROGZ_IDO": "2016-04-01",
                                    "CIM": "2230 Gyömrő, Bergszász u. 5."
                                },
                                {
                                    "Sorszámozott lista": "6",
                                    "SZALLAS_ID": "17",
                                    "SZALLAS_NEV": "Szarvas Hotel",
                                    "HELY": "Tolna megye",
                                    "CSILLAGOK_SZAMA": "4",
                                    "TIPUS": "Hotel",
                                    "ROGZITETTE": "Béla",
                                    "ROGZ_IDO": "2016-04-04",
                                    "CIM": "7121 Szálka, Petőfi Sándor u."
                                },
                                {
                                    "Sorszámozott lista": "1",
                                    "SZALLAS_ID": "9",
                                    "SZALLAS_NEV": "Jáde panzió",
                                    "HELY": "Balaton-dél",
                                    "CSILLAGOK_SZAMA": "3",
                                    "TIPUS": "panzió",
                                    "ROGZITETTE": "Mari",
                                    "ROGZ_IDO": "2016-03-16",
                                    "CIM": "8624 Balatonföldvár, Kiss u.2."
                                },
                                {
                                    "Sorszámozott lista": "2",
                                    "SZALLAS_ID": "15",
                                    "SZALLAS_NEV": "Tímárház Panzió",
                                    "HELY": "Balaton-dél",
                                    "CSILLAGOK_SZAMA": "3",
                                    "TIPUS": "panzió",
                                    "ROGZITETTE": "Béla",
                                    "ROGZ_IDO": "2016-03-29",
                                    "CIM": "8600 Siófok, Virág utca 1"
                                },
                                {
                                    "Sorszámozott lista": "3",
                                    "SZALLAS_ID": "5",
                                    "SZALLAS_NEV": "Fortuna Panzió",
                                    "HELY": "Békés megye",
                                    "CSILLAGOK_SZAMA": "3",
                                    "TIPUS": "panzió",
                                    "ROGZITETTE": "Sára",
                                    "ROGZ_IDO": "2016-03-08",
                                    "CIM": "5900 Orosháza, Gyopárosfürdő Tópart utca 3."
                                },
                                {
                                    "Sorszámozott lista": "4",
                                    "SZALLAS_ID": "4",
                                    "SZALLAS_NEV": "Fortuna panzió",
                                    "HELY": "Budapest",
                                    "CSILLAGOK_SZAMA": "3",
                                    "TIPUS": "panzió",
                                    "ROGZITETTE": "Béla",
                                    "ROGZ_IDO": "2016-03-07",
                                    "CIM": "1019 Budapest XIV. Cinkotai út 86."
                                },
                                {
                                    "Sorszámozott lista": "5",
                                    "SZALLAS_ID": "13",
                                    "SZALLAS_NEV": "Riviéra Panzió",
                                    "HELY": "Csongrád megye",
                                    "CSILLAGOK_SZAMA": "3",
                                    "TIPUS": "panzió",
                                    "ROGZITETTE": "Sára",
                                    "ROGZ_IDO": "2016-03-27",
                                    "CIM": "6722 Szeged, Petőfi Sándor út 3."
                                },
                                {
                                    "Sorszámozott lista": "1",
                                    "SZALLAS_ID": "2",
                                    "SZALLAS_NEV": "Családi Ház",
                                    "HELY": "Balaton-dél",
                                    "CSILLAGOK_SZAMA": "0",
                                    "TIPUS": "vendégház",
                                    "ROGZITETTE": "Béla",
                                    "ROGZ_IDO": "2016-03-02",
                                    "CIM": "8630 Balatonboglár, József Attila utca 25"
                                },
                                {
                                    "Sorszámozott lista": "2",
                                    "SZALLAS_ID": "1",
                                    "SZALLAS_NEV": "Sába-Ház",
                                    "HELY": "Balaton-dél",
                                    "CSILLAGOK_SZAMA": "0",
                                    "TIPUS": "vendégház",
                                    "ROGZITETTE": "Béla",
                                    "ROGZ_IDO": "2016-02-28",
                                    "CIM": "8630 Balatonboglár, Radnóti Miklós utca 8"
                                },
                                {
                                    "Sorszámozott lista": "3",
                                    "SZALLAS_ID": "11",
                                    "SZALLAS_NEV": "Partiszél Vendégház",
                                    "HELY": "Balaton-észak",
                                    "CSILLAGOK_SZAMA": "0",
                                    "TIPUS": "vendégház",
                                    "ROGZITETTE": "Béla",
                                    "ROGZ_IDO": "2016-03-22",
                                    "CIM": "8220 Balatonalmádi Neptun u. 23."
                                },
                                {
                                    "Sorszámozott lista": "4",
                                    "SZALLAS_ID": "14",
                                    "SZALLAS_NEV": "Nyárfás Vendégház",
                                    "HELY": "Csongrád megye",
                                    "CSILLAGOK_SZAMA": "0",
                                    "TIPUS": "vendégház",
                                    "ROGZITETTE": "Béla",
                                    "ROGZ_IDO": "2016-03-27",
                                    "CIM": "6723 Szeged, Nagy u. 12."
                                },
                                {
                                    "Sorszámozott lista": "5",
                                    "SZALLAS_ID": "21",
                                    "SZALLAS_NEV": "Müller Vendégház",
                                    "HELY": "Dél-Somogy",
                                    "CSILLAGOK_SZAMA": "0",
                                    "TIPUS": "vendégház",
                                    "ROGZITETTE": "Béla",
                                    "ROGZ_IDO": "2016-04-07",
                                    "CIM": "7570 Barcs, Magyar u. 10."
                                },
                                {
                                    "Sorszámozott lista": "6",
                                    "SZALLAS_ID": "19",
                                    "SZALLAS_NEV": "Nyárfás Vendégház",
                                    "HELY": "Dél-Somogy",
                                    "CSILLAGOK_SZAMA": "0",
                                    "TIPUS": "vendégház",
                                    "ROGZITETTE": "Sára",
                                    "ROGZ_IDO": "2016-04-07",
                                    "CIM": "7570 Barcs, Bajcsy-Zs. u. 53"
                                }
                            ]
                        },
                        "text/html": [
                            "<table>",
                            "<tr><th>Sorszámozott lista</th><th>SZALLAS_ID</th><th>SZALLAS_NEV</th><th>HELY</th><th>CSILLAGOK_SZAMA</th><th>TIPUS</th><th>ROGZITETTE</th><th>ROGZ_IDO</th><th>CIM</th></tr>",
                            "<tr><td>1</td><td>7</td><td>Szieszta Apartmanház</td><td>Balaton-dél</td><td>0</td><td>Apartman</td><td>Mari</td><td>2016-03-11</td><td>8630 Balatonboglár, Dózsa György utca 108</td></tr>",
                            "<tr><td>2</td><td>18</td><td>Fortuna Apartman</td><td>Dél-Somogy</td><td>0</td><td>Apartman</td><td>Béla</td><td>2016-04-07</td><td>7570 Barcs, Kossuth u. 13.</td></tr>",
                            "<tr><td>3</td><td>3</td><td>Fortuna Apartman</td><td>Hajdúbihar megye</td><td>0</td><td>Apartman</td><td>Sára</td><td>2016-03-06</td><td>4200 Hajdúszoboszló, Wesselényi utca 56.</td></tr>",
                            "<tr><td>1</td><td>20</td><td>Kollégium</td><td>Budapest</td><td>0</td><td>Diákszálló</td><td>Sára</td><td>2016-04-07</td><td>1146 Budapest, Ajtósi Dürer sor 23.</td></tr>",
                            "<tr><td>1</td><td>8</td><td>Hotel Három Hattyú</td><td>Balaton-dél</td><td>4</td><td>Hotel</td><td>Béla</td><td>2016-03-13</td><td>8623 Balatonföldvár, Rákóczi Ferenc út 45.</td></tr>",
                            "<tr><td>2</td><td>6</td><td>Kentaur Hotel</td><td>Balaton-dél</td><td>3</td><td>Hotel</td><td>Béla</td><td>2016-03-08</td><td>8600 Siófok (Széplak), Akácfa utca 1</td></tr>",
                            "<tr><td>3</td><td>12</td><td>Gold Hotel</td><td>Budapest</td><td>3</td><td>Hotel</td><td>Béla</td><td>2016-03-24</td><td>1016 Budapest, Hegyalja út 12</td></tr>",
                            "<tr><td>4</td><td>10</td><td>Lagúna Hotel</td><td>Budapest</td><td>4</td><td>Hotel</td><td>Sára</td><td>2016-03-20</td><td>1097 Budapest, Albert Flórián út 3</td></tr>",
                            "<tr><td>5</td><td>16</td><td>Bagoly Hotel</td><td>Pest megye</td><td>3</td><td>Hotel</td><td>Mari</td><td>2016-04-01</td><td>2230 Gyömrő, Bergszász u. 5.</td></tr>",
                            "<tr><td>6</td><td>17</td><td>Szarvas Hotel</td><td>Tolna megye</td><td>4</td><td>Hotel</td><td>Béla</td><td>2016-04-04</td><td>7121 Szálka, Petőfi Sándor u.</td></tr>",
                            "<tr><td>1</td><td>9</td><td>Jáde panzió</td><td>Balaton-dél</td><td>3</td><td>panzió</td><td>Mari</td><td>2016-03-16</td><td>8624 Balatonföldvár, Kiss u.2.</td></tr>",
                            "<tr><td>2</td><td>15</td><td>Tímárház Panzió</td><td>Balaton-dél</td><td>3</td><td>panzió</td><td>Béla</td><td>2016-03-29</td><td>8600 Siófok, Virág utca 1</td></tr>",
                            "<tr><td>3</td><td>5</td><td>Fortuna Panzió</td><td>Békés megye</td><td>3</td><td>panzió</td><td>Sára</td><td>2016-03-08</td><td>5900 Orosháza, Gyopárosfürdő Tópart utca 3.</td></tr>",
                            "<tr><td>4</td><td>4</td><td>Fortuna panzió</td><td>Budapest</td><td>3</td><td>panzió</td><td>Béla</td><td>2016-03-07</td><td>1019 Budapest XIV. Cinkotai út 86.</td></tr>",
                            "<tr><td>5</td><td>13</td><td>Riviéra Panzió</td><td>Csongrád megye</td><td>3</td><td>panzió</td><td>Sára</td><td>2016-03-27</td><td>6722 Szeged, Petőfi Sándor út 3.</td></tr>",
                            "<tr><td>1</td><td>2</td><td>Családi Ház</td><td>Balaton-dél</td><td>0</td><td>vendégház</td><td>Béla</td><td>2016-03-02</td><td>8630 Balatonboglár, József Attila utca 25</td></tr>",
                            "<tr><td>2</td><td>1</td><td>Sába-Ház</td><td>Balaton-dél</td><td>0</td><td>vendégház</td><td>Béla</td><td>2016-02-28</td><td>8630 Balatonboglár, Radnóti Miklós utca 8</td></tr>",
                            "<tr><td>3</td><td>11</td><td>Partiszél Vendégház</td><td>Balaton-észak</td><td>0</td><td>vendégház</td><td>Béla</td><td>2016-03-22</td><td>8220 Balatonalmádi Neptun u. 23.</td></tr>",
                            "<tr><td>4</td><td>14</td><td>Nyárfás Vendégház</td><td>Csongrád megye</td><td>0</td><td>vendégház</td><td>Béla</td><td>2016-03-27</td><td>6723 Szeged, Nagy u. 12.</td></tr>",
                            "<tr><td>5</td><td>21</td><td>Müller Vendégház</td><td>Dél-Somogy</td><td>0</td><td>vendégház</td><td>Béla</td><td>2016-04-07</td><td>7570 Barcs, Magyar u. 10.</td></tr>",
                            "<tr><td>6</td><td>19</td><td>Nyárfás Vendégház</td><td>Dél-Somogy</td><td>0</td><td>vendégház</td><td>Sára</td><td>2016-04-07</td><td>7570 Barcs, Bajcsy-Zs. u. 53</td></tr>",
                            "</table>"
                        ]
                    }
                }
            ],
            "execution_count": 5
        },
        {
            "cell_type": "markdown",
            "source": [
                "2. <span style=\"background-color: rgb(255, 255, 255); color: rgb(0, 0, 0); font-family: &quot;Open Sans&quot;, sans-serif; font-size: 14.44px;\">Készítsünk lekérdezést, amely a foglalások adatait jeleníti meg!&nbsp;</span> \n",
                "\n",
                "a. A lista tartalmazzon két új oszlopot, amelyek az adott ügyfél legrövidebb, illetve leghosszabb foglalásának hosszát (a foglalt napok számát) mutatják meg! \n",
                "\n",
                "b. Az oszlopokat nevezzük el értelemszerűen!"
            ],
            "metadata": {
                "azdata_cell_guid": "ea75c103-911f-41a3-a32c-3d40fb3e4e4a"
            },
            "attachments": {}
        },
        {
            "cell_type": "code",
            "source": [
                ""
            ],
            "metadata": {
                "azdata_cell_guid": "222b9618-a8e8-42b4-a8e8-d002257122b7",
                "language": "sql"
            },
            "outputs": [],
            "execution_count": null
        },
        {
            "cell_type": "markdown",
            "source": [
                "```\n",
                "3. Készítsük listát, amely megjeleníti az ügyfelek azonosítóját, nevét és a foglalásainak kezdő- és befejező dátumát, valamint azt, hogy a foglalás összesen hány főre történt! \n",
                "```\n",
                "\n",
                "a. Egy új oszlopban jelenítsük meg azt is, hogy az ügyfél előző három foglalása összesen hány főre történt!\n",
                "\n",
                "![](https://moodle.uni-corvinus.hu/theme/image.php/adaptable/atto_h5p/1709548862/icon)"
            ],
            "metadata": {
                "azdata_cell_guid": "d7876bb9-76d0-4d07-baed-3cb17b2f96c3"
            },
            "attachments": {}
        },
        {
            "cell_type": "code",
            "source": [
                "SELECT  v.USERNEV,\r\n",
                "        f.METTOL,\r\n",
                "        f.MEDDIG,\r\n",
                "        f.FELNOTT_SZAM + f.GYERMEK_SZAM,\r\n",
                "        --összesen hány fő az előző 3 rész\r\n",
                "        SUM(f.FELNOTT_SZAM + f.GYERMEK_SZAM) OVER(PARTITION BY f.ugyfel_fk\r\n",
                "        ORDER BY f.mettol\r\n",
                "        ROWS BETWEEN 3 PRECEDING AND 1 PRECEDING)\r\n",
                "FROM Foglalas f JOIN Vendeg v ON f.UGYFEL_FK = v.USERNEV"
            ],
            "metadata": {
                "azdata_cell_guid": "56ec19ce-e249-4551-b2a8-f17569765acc",
                "language": "sql"
            },
            "outputs": [
                {
                    "output_type": "display_data",
                    "data": {
                        "text/html": "(1027 rows affected)"
                    },
                    "metadata": {}
                },
                {
                    "output_type": "display_data",
                    "data": {
                        "text/html": "Total execution time: 00:00:00.020"
                    },
                    "metadata": {}
                },
                {
                    "output_type": "execute_result",
                    "metadata": {},
                    "execution_count": 9,
                    "data": {
                        "application/vnd.dataresource+json": {
                            "schema": {
                                "fields": [
                                    {
                                        "name": "USERNEV"
                                    },
                                    {
                                        "name": "METTOL"
                                    },
                                    {
                                        "name": "MEDDIG"
                                    },
                                    {
                                        "name": "(No column name)"
                                    },
                                    {
                                        "name": "(No column name)"
                                    }
                                ]
                            },
                            "data": [
                                {
                                    "USERNEV": "adam1",
                                    "METTOL": "2016-05-28",
                                    "MEDDIG": "2016-06-03",
                                    "(No column name)": "NULL"
                                },
                                {
                                    "USERNEV": "adam1",
                                    "METTOL": "2016-08-20",
                                    "MEDDIG": "2016-08-24",
                                    "(No column name)": "3"
                                },
                                {
                                    "USERNEV": "adam1",
                                    "METTOL": "2016-10-19",
                                    "MEDDIG": "2016-10-24",
                                    "(No column name)": "4"
                                },
                                {
                                    "USERNEV": "adam3",
                                    "METTOL": "2016-09-12",
                                    "MEDDIG": "2016-09-16",
                                    "(No column name)": "NULL"
                                },
                                {
                                    "USERNEV": "adam3",
                                    "METTOL": "2017-02-06",
                                    "MEDDIG": "2017-02-10",
                                    "(No column name)": "2"
                                },
                                {
                                    "USERNEV": "adam4",
                                    "METTOL": "2016-08-28",
                                    "MEDDIG": "2016-08-30",
                                    "(No column name)": "NULL"
                                },
                                {
                                    "USERNEV": "adam4",
                                    "METTOL": "2016-10-27",
                                    "MEDDIG": "2016-11-02",
                                    "(No column name)": "3"
                                },
                                {
                                    "USERNEV": "adam4",
                                    "METTOL": "2016-11-15",
                                    "MEDDIG": "2016-11-18",
                                    "(No column name)": "6"
                                },
                                {
                                    "USERNEV": "adam4",
                                    "METTOL": "2016-12-06",
                                    "MEDDIG": "2016-12-09",
                                    "(No column name)": "8"
                                },
                                {
                                    "USERNEV": "adam4",
                                    "METTOL": "2017-01-12",
                                    "MEDDIG": "2017-01-19",
                                    "(No column name)": "8"
                                },
                                {
                                    "USERNEV": "adam4",
                                    "METTOL": "2017-02-23",
                                    "MEDDIG": "2017-02-27",
                                    "(No column name)": "7"
                                },
                                {
                                    "USERNEV": "agnes",
                                    "METTOL": "2016-05-09",
                                    "MEDDIG": "2016-05-11",
                                    "(No column name)": "NULL"
                                },
                                {
                                    "USERNEV": "agnes",
                                    "METTOL": "2016-05-25",
                                    "MEDDIG": "2016-05-30",
                                    "(No column name)": "3"
                                },
                                {
                                    "USERNEV": "agnes",
                                    "METTOL": "2016-07-13",
                                    "MEDDIG": "2016-07-19",
                                    "(No column name)": "4"
                                },
                                {
                                    "USERNEV": "agnes",
                                    "METTOL": "2016-07-30",
                                    "MEDDIG": "2016-08-06",
                                    "(No column name)": "7"
                                },
                                {
                                    "USERNEV": "agnes",
                                    "METTOL": "2016-11-07",
                                    "MEDDIG": "2016-11-13",
                                    "(No column name)": "7"
                                },
                                {
                                    "USERNEV": "agnes3",
                                    "METTOL": "2016-08-04",
                                    "MEDDIG": "2016-08-10",
                                    "(No column name)": "NULL"
                                },
                                {
                                    "USERNEV": "agnes3",
                                    "METTOL": "2016-10-22",
                                    "MEDDIG": "2016-10-23",
                                    "(No column name)": "1"
                                },
                                {
                                    "USERNEV": "agnes3",
                                    "METTOL": "2017-02-16",
                                    "MEDDIG": "2017-02-21",
                                    "(No column name)": "4"
                                },
                                {
                                    "USERNEV": "AGNESH",
                                    "METTOL": "2016-04-10",
                                    "MEDDIG": "2016-04-12",
                                    "(No column name)": "NULL"
                                },
                                {
                                    "USERNEV": "AGNESH",
                                    "METTOL": "2016-04-27",
                                    "MEDDIG": "2016-04-28",
                                    "(No column name)": "2"
                                },
                                {
                                    "USERNEV": "AGNESH",
                                    "METTOL": "2016-06-23",
                                    "MEDDIG": "2016-06-26",
                                    "(No column name)": "6"
                                },
                                {
                                    "USERNEV": "AGNESH",
                                    "METTOL": "2016-10-30",
                                    "MEDDIG": "2016-11-04",
                                    "(No column name)": "7"
                                },
                                {
                                    "USERNEV": "AGNESH",
                                    "METTOL": "2017-01-03",
                                    "MEDDIG": "2017-01-10",
                                    "(No column name)": "6"
                                },
                                {
                                    "USERNEV": "AGNESH",
                                    "METTOL": "2017-01-16",
                                    "MEDDIG": "2017-01-23",
                                    "(No column name)": "4"
                                },
                                {
                                    "USERNEV": "AGNESK",
                                    "METTOL": "2016-07-29",
                                    "MEDDIG": "2016-08-01",
                                    "(No column name)": "NULL"
                                },
                                {
                                    "USERNEV": "AGNESK",
                                    "METTOL": "2016-10-17",
                                    "MEDDIG": "2016-10-19",
                                    "(No column name)": "3"
                                },
                                {
                                    "USERNEV": "AGNESK",
                                    "METTOL": "2016-12-17",
                                    "MEDDIG": "2016-12-18",
                                    "(No column name)": "5"
                                },
                                {
                                    "USERNEV": "akos",
                                    "METTOL": "2016-05-18",
                                    "MEDDIG": "2016-05-19",
                                    "(No column name)": "NULL"
                                },
                                {
                                    "USERNEV": "akos",
                                    "METTOL": "2016-07-14",
                                    "MEDDIG": "2016-07-19",
                                    "(No column name)": "2"
                                },
                                {
                                    "USERNEV": "akos",
                                    "METTOL": "2016-07-16",
                                    "MEDDIG": "2016-07-18",
                                    "(No column name)": "4"
                                },
                                {
                                    "USERNEV": "akos",
                                    "METTOL": "2016-07-22",
                                    "MEDDIG": "2016-07-26",
                                    "(No column name)": "6"
                                },
                                {
                                    "USERNEV": "akos",
                                    "METTOL": "2016-09-06",
                                    "MEDDIG": "2016-09-12",
                                    "(No column name)": "5"
                                },
                                {
                                    "USERNEV": "akos",
                                    "METTOL": "2016-10-05",
                                    "MEDDIG": "2016-10-09",
                                    "(No column name)": "4"
                                },
                                {
                                    "USERNEV": "akos",
                                    "METTOL": "2016-10-18",
                                    "MEDDIG": "2016-10-23",
                                    "(No column name)": "4"
                                },
                                {
                                    "USERNEV": "akos",
                                    "METTOL": "2016-11-21",
                                    "MEDDIG": "2016-11-27",
                                    "(No column name)": "5"
                                },
                                {
                                    "USERNEV": "akos",
                                    "METTOL": "2016-12-15",
                                    "MEDDIG": "2016-12-21",
                                    "(No column name)": "6"
                                },
                                {
                                    "USERNEV": "akos",
                                    "METTOL": "2016-12-29",
                                    "MEDDIG": "2016-12-30",
                                    "(No column name)": "6"
                                },
                                {
                                    "USERNEV": "aladar",
                                    "METTOL": "2016-05-17",
                                    "MEDDIG": "2016-05-24",
                                    "(No column name)": "NULL"
                                },
                                {
                                    "USERNEV": "aladar",
                                    "METTOL": "2016-09-24",
                                    "MEDDIG": "2016-09-28",
                                    "(No column name)": "1"
                                },
                                {
                                    "USERNEV": "aladar",
                                    "METTOL": "2016-11-22",
                                    "MEDDIG": "2016-11-23",
                                    "(No column name)": "2"
                                },
                                {
                                    "USERNEV": "alexandra",
                                    "METTOL": "2016-05-21",
                                    "MEDDIG": "2016-05-27",
                                    "(No column name)": "NULL"
                                },
                                {
                                    "USERNEV": "alexandra",
                                    "METTOL": "2016-06-08",
                                    "MEDDIG": "2016-06-11",
                                    "(No column name)": "3"
                                },
                                {
                                    "USERNEV": "alexandra",
                                    "METTOL": "2016-07-27",
                                    "MEDDIG": "2016-07-30",
                                    "(No column name)": "6"
                                },
                                {
                                    "USERNEV": "alexandra",
                                    "METTOL": "2016-10-21",
                                    "MEDDIG": "2016-10-25",
                                    "(No column name)": "8"
                                },
                                {
                                    "USERNEV": "alexandra",
                                    "METTOL": "2016-11-29",
                                    "MEDDIG": "2016-12-05",
                                    "(No column name)": "7"
                                },
                                {
                                    "USERNEV": "alexandra",
                                    "METTOL": "2017-01-13",
                                    "MEDDIG": "2017-01-14",
                                    "(No column name)": "6"
                                },
                                {
                                    "USERNEV": "alexandra",
                                    "METTOL": "2017-01-19",
                                    "MEDDIG": "2017-01-26",
                                    "(No column name)": "5"
                                },
                                {
                                    "USERNEV": "andi",
                                    "METTOL": "2016-05-08",
                                    "MEDDIG": "2016-05-14",
                                    "(No column name)": "NULL"
                                },
                                {
                                    "USERNEV": "andi",
                                    "METTOL": "2016-06-13",
                                    "MEDDIG": "2016-06-14",
                                    "(No column name)": "4"
                                },
                                {
                                    "USERNEV": "andi",
                                    "METTOL": "2016-09-13",
                                    "MEDDIG": "2016-09-16",
                                    "(No column name)": "5"
                                },
                                {
                                    "USERNEV": "andi",
                                    "METTOL": "2016-11-16",
                                    "MEDDIG": "2016-11-17",
                                    "(No column name)": "7"
                                },
                                {
                                    "USERNEV": "andi",
                                    "METTOL": "2017-01-13",
                                    "MEDDIG": "2017-01-17",
                                    "(No column name)": "6"
                                },
                                {
                                    "USERNEV": "andras2",
                                    "METTOL": "2016-05-30",
                                    "MEDDIG": "2016-06-04",
                                    "(No column name)": "NULL"
                                },
                                {
                                    "USERNEV": "andras2",
                                    "METTOL": "2016-07-20",
                                    "MEDDIG": "2016-07-22",
                                    "(No column name)": "1"
                                },
                                {
                                    "USERNEV": "andras2",
                                    "METTOL": "2016-09-30",
                                    "MEDDIG": "2016-10-03",
                                    "(No column name)": "3"
                                },
                                {
                                    "USERNEV": "andras2",
                                    "METTOL": "2016-10-07",
                                    "MEDDIG": "2016-10-10",
                                    "(No column name)": "5"
                                },
                                {
                                    "USERNEV": "andras2",
                                    "METTOL": "2017-02-08",
                                    "MEDDIG": "2017-02-10",
                                    "(No column name)": "7"
                                },
                                {
                                    "USERNEV": "andras21",
                                    "METTOL": "2016-06-21",
                                    "MEDDIG": "2016-06-26",
                                    "(No column name)": "NULL"
                                },
                                {
                                    "USERNEV": "andras21",
                                    "METTOL": "2016-07-04",
                                    "MEDDIG": "2016-07-05",
                                    "(No column name)": "2"
                                },
                                {
                                    "USERNEV": "andras21",
                                    "METTOL": "2016-07-20",
                                    "MEDDIG": "2016-07-22",
                                    "(No column name)": "5"
                                },
                                {
                                    "USERNEV": "andras21",
                                    "METTOL": "2016-10-01",
                                    "MEDDIG": "2016-10-06",
                                    "(No column name)": "6"
                                },
                                {
                                    "USERNEV": "andras21",
                                    "METTOL": "2016-10-04",
                                    "MEDDIG": "2016-10-11",
                                    "(No column name)": "7"
                                },
                                {
                                    "USERNEV": "andras21",
                                    "METTOL": "2016-11-23",
                                    "MEDDIG": "2016-11-24",
                                    "(No column name)": "7"
                                },
                                {
                                    "USERNEV": "andras21",
                                    "METTOL": "2017-01-28",
                                    "MEDDIG": "2017-02-01",
                                    "(No column name)": "10"
                                },
                                {
                                    "USERNEV": "andras3",
                                    "METTOL": "2016-05-01",
                                    "MEDDIG": "2016-05-06",
                                    "(No column name)": "NULL"
                                },
                                {
                                    "USERNEV": "andras3",
                                    "METTOL": "2016-05-30",
                                    "MEDDIG": "2016-06-03",
                                    "(No column name)": "2"
                                },
                                {
                                    "USERNEV": "andras3",
                                    "METTOL": "2016-06-10",
                                    "MEDDIG": "2016-06-11",
                                    "(No column name)": "3"
                                },
                                {
                                    "USERNEV": "andras3",
                                    "METTOL": "2016-07-15",
                                    "MEDDIG": "2016-07-19",
                                    "(No column name)": "4"
                                },
                                {
                                    "USERNEV": "andras3",
                                    "METTOL": "2016-07-21",
                                    "MEDDIG": "2016-07-23",
                                    "(No column name)": "5"
                                },
                                {
                                    "USERNEV": "andras3",
                                    "METTOL": "2016-08-29",
                                    "MEDDIG": "2016-09-02",
                                    "(No column name)": "6"
                                },
                                {
                                    "USERNEV": "andras3",
                                    "METTOL": "2016-11-28",
                                    "MEDDIG": "2016-12-02",
                                    "(No column name)": "8"
                                },
                                {
                                    "USERNEV": "andras3",
                                    "METTOL": "2017-02-02",
                                    "MEDDIG": "2017-02-08",
                                    "(No column name)": "7"
                                },
                                {
                                    "USERNEV": "andras4",
                                    "METTOL": "2016-09-17",
                                    "MEDDIG": "2016-09-20",
                                    "(No column name)": "NULL"
                                },
                                {
                                    "USERNEV": "andras4",
                                    "METTOL": "2016-11-25",
                                    "MEDDIG": "2016-11-28",
                                    "(No column name)": "2"
                                },
                                {
                                    "USERNEV": "andras4",
                                    "METTOL": "2017-01-09",
                                    "MEDDIG": "2017-01-10",
                                    "(No column name)": "4"
                                },
                                {
                                    "USERNEV": "andras41",
                                    "METTOL": "2016-05-14",
                                    "MEDDIG": "2016-05-16",
                                    "(No column name)": "NULL"
                                },
                                {
                                    "USERNEV": "andras41",
                                    "METTOL": "2016-05-21",
                                    "MEDDIG": "2016-05-23",
                                    "(No column name)": "2"
                                },
                                {
                                    "USERNEV": "andras41",
                                    "METTOL": "2016-06-07",
                                    "MEDDIG": "2016-06-11",
                                    "(No column name)": "6"
                                },
                                {
                                    "USERNEV": "andras41",
                                    "METTOL": "2016-06-23",
                                    "MEDDIG": "2016-06-29",
                                    "(No column name)": "9"
                                },
                                {
                                    "USERNEV": "andras41",
                                    "METTOL": "2016-07-28",
                                    "MEDDIG": "2016-08-03",
                                    "(No column name)": "9"
                                },
                                {
                                    "USERNEV": "andras41",
                                    "METTOL": "2016-08-17",
                                    "MEDDIG": "2016-08-21",
                                    "(No column name)": "8"
                                },
                                {
                                    "USERNEV": "andras41",
                                    "METTOL": "2016-08-19",
                                    "MEDDIG": "2016-08-23",
                                    "(No column name)": "8"
                                },
                                {
                                    "USERNEV": "andras41",
                                    "METTOL": "2016-09-22",
                                    "MEDDIG": "2016-09-29",
                                    "(No column name)": "7"
                                },
                                {
                                    "USERNEV": "andras41",
                                    "METTOL": "2016-09-30",
                                    "MEDDIG": "2016-10-05",
                                    "(No column name)": "5"
                                },
                                {
                                    "USERNEV": "andras41",
                                    "METTOL": "2016-10-09",
                                    "MEDDIG": "2016-10-13",
                                    "(No column name)": "4"
                                },
                                {
                                    "USERNEV": "andras41",
                                    "METTOL": "2016-10-15",
                                    "MEDDIG": "2016-10-18",
                                    "(No column name)": "5"
                                },
                                {
                                    "USERNEV": "andras41",
                                    "METTOL": "2016-11-20",
                                    "MEDDIG": "2016-11-24",
                                    "(No column name)": "7"
                                },
                                {
                                    "USERNEV": "andras41",
                                    "METTOL": "2016-11-23",
                                    "MEDDIG": "2016-11-24",
                                    "(No column name)": "8"
                                },
                                {
                                    "USERNEV": "ANDRASE",
                                    "METTOL": "2016-04-24",
                                    "MEDDIG": "2016-05-01",
                                    "(No column name)": "NULL"
                                },
                                {
                                    "USERNEV": "ANDRASE",
                                    "METTOL": "2016-07-06",
                                    "MEDDIG": "2016-07-07",
                                    "(No column name)": "1"
                                },
                                {
                                    "USERNEV": "ANDRASE",
                                    "METTOL": "2016-08-16",
                                    "MEDDIG": "2016-08-20",
                                    "(No column name)": "3"
                                },
                                {
                                    "USERNEV": "ANDRASE",
                                    "METTOL": "2016-11-19",
                                    "MEDDIG": "2016-11-20",
                                    "(No column name)": "5"
                                },
                                {
                                    "USERNEV": "ANDRASE",
                                    "METTOL": "2016-11-29",
                                    "MEDDIG": "2016-12-06",
                                    "(No column name)": "8"
                                },
                                {
                                    "USERNEV": "ANDRASN",
                                    "METTOL": "2016-11-25",
                                    "MEDDIG": "2016-12-01",
                                    "(No column name)": "NULL"
                                },
                                {
                                    "USERNEV": "andrea",
                                    "METTOL": "2016-07-27",
                                    "MEDDIG": "2016-07-28",
                                    "(No column name)": "NULL"
                                },
                                {
                                    "USERNEV": "andrea",
                                    "METTOL": "2016-08-01",
                                    "MEDDIG": "2016-08-02",
                                    "(No column name)": "2"
                                },
                                {
                                    "USERNEV": "andrea",
                                    "METTOL": "2016-08-23",
                                    "MEDDIG": "2016-08-26",
                                    "(No column name)": "4"
                                },
                                {
                                    "USERNEV": "andrea",
                                    "METTOL": "2016-08-26",
                                    "MEDDIG": "2016-08-30",
                                    "(No column name)": "7"
                                },
                                {
                                    "USERNEV": "andrea",
                                    "METTOL": "2016-10-21",
                                    "MEDDIG": "2016-10-27",
                                    "(No column name)": "7"
                                },
                                {
                                    "USERNEV": "andrea",
                                    "METTOL": "2017-02-09",
                                    "MEDDIG": "2017-02-14",
                                    "(No column name)": "9"
                                },
                                {
                                    "USERNEV": "andrea3",
                                    "METTOL": "2016-11-19",
                                    "MEDDIG": "2016-11-21",
                                    "(No column name)": "NULL"
                                },
                                {
                                    "USERNEV": "andrea4",
                                    "METTOL": "2016-05-27",
                                    "MEDDIG": "2016-05-29",
                                    "(No column name)": "NULL"
                                },
                                {
                                    "USERNEV": "andrea4",
                                    "METTOL": "2016-09-13",
                                    "MEDDIG": "2016-09-17",
                                    "(No column name)": "1"
                                },
                                {
                                    "USERNEV": "andrea4",
                                    "METTOL": "2016-10-30",
                                    "MEDDIG": "2016-11-06",
                                    "(No column name)": "3"
                                },
                                {
                                    "USERNEV": "andrea4",
                                    "METTOL": "2017-01-22",
                                    "MEDDIG": "2017-01-29",
                                    "(No column name)": "6"
                                },
                                {
                                    "USERNEV": "ANDREAT",
                                    "METTOL": "2016-07-27",
                                    "MEDDIG": "2016-08-01",
                                    "(No column name)": "NULL"
                                },
                                {
                                    "USERNEV": "ANDREAT",
                                    "METTOL": "2016-09-15",
                                    "MEDDIG": "2016-09-16",
                                    "(No column name)": "2"
                                },
                                {
                                    "USERNEV": "ANDREAT",
                                    "METTOL": "2016-10-08",
                                    "MEDDIG": "2016-10-12",
                                    "(No column name)": "4"
                                },
                                {
                                    "USERNEV": "anett3",
                                    "METTOL": "2016-04-10",
                                    "MEDDIG": "2016-04-17",
                                    "(No column name)": "NULL"
                                },
                                {
                                    "USERNEV": "anett3",
                                    "METTOL": "2016-04-13",
                                    "MEDDIG": "2016-04-19",
                                    "(No column name)": "1"
                                },
                                {
                                    "USERNEV": "anett3",
                                    "METTOL": "2016-04-15",
                                    "MEDDIG": "2016-04-19",
                                    "(No column name)": "4"
                                },
                                {
                                    "USERNEV": "anett3",
                                    "METTOL": "2016-04-28",
                                    "MEDDIG": "2016-05-02",
                                    "(No column name)": "7"
                                },
                                {
                                    "USERNEV": "anett3",
                                    "METTOL": "2016-08-15",
                                    "MEDDIG": "2016-08-16",
                                    "(No column name)": "9"
                                },
                                {
                                    "USERNEV": "anett3",
                                    "METTOL": "2016-08-17",
                                    "MEDDIG": "2016-08-23",
                                    "(No column name)": "8"
                                },
                                {
                                    "USERNEV": "anett3",
                                    "METTOL": "2016-10-12",
                                    "MEDDIG": "2016-10-19",
                                    "(No column name)": "8"
                                },
                                {
                                    "USERNEV": "anett3",
                                    "METTOL": "2016-10-16",
                                    "MEDDIG": "2016-10-21",
                                    "(No column name)": "8"
                                },
                                {
                                    "USERNEV": "aniko",
                                    "METTOL": "2016-06-25",
                                    "MEDDIG": "2016-06-30",
                                    "(No column name)": "NULL"
                                },
                                {
                                    "USERNEV": "aniko",
                                    "METTOL": "2017-02-12",
                                    "MEDDIG": "2017-02-14",
                                    "(No column name)": "3"
                                },
                                {
                                    "USERNEV": "aniko",
                                    "METTOL": "2017-02-23",
                                    "MEDDIG": "2017-02-24",
                                    "(No column name)": "6"
                                },
                                {
                                    "USERNEV": "aniko4",
                                    "METTOL": "2016-07-02",
                                    "MEDDIG": "2016-07-09",
                                    "(No column name)": "NULL"
                                },
                                {
                                    "USERNEV": "aniko4",
                                    "METTOL": "2016-07-22",
                                    "MEDDIG": "2016-07-25",
                                    "(No column name)": "1"
                                },
                                {
                                    "USERNEV": "aniko4",
                                    "METTOL": "2016-09-05",
                                    "MEDDIG": "2016-09-07",
                                    "(No column name)": "4"
                                },
                                {
                                    "USERNEV": "aniko4",
                                    "METTOL": "2016-10-16",
                                    "MEDDIG": "2016-10-18",
                                    "(No column name)": "8"
                                },
                                {
                                    "USERNEV": "ANIKOS",
                                    "METTOL": "2016-04-19",
                                    "MEDDIG": "2016-04-24",
                                    "(No column name)": "NULL"
                                },
                                {
                                    "USERNEV": "ANIKOS",
                                    "METTOL": "2016-05-24",
                                    "MEDDIG": "2016-05-25",
                                    "(No column name)": "2"
                                },
                                {
                                    "USERNEV": "ANIKOS",
                                    "METTOL": "2016-06-16",
                                    "MEDDIG": "2016-06-23",
                                    "(No column name)": "5"
                                },
                                {
                                    "USERNEV": "ANIKOS",
                                    "METTOL": "2016-06-27",
                                    "MEDDIG": "2016-06-30",
                                    "(No column name)": "6"
                                },
                                {
                                    "USERNEV": "ANIKOS",
                                    "METTOL": "2016-07-17",
                                    "MEDDIG": "2016-07-22",
                                    "(No column name)": "6"
                                },
                                {
                                    "USERNEV": "ANIKOS",
                                    "METTOL": "2016-08-26",
                                    "MEDDIG": "2016-09-02",
                                    "(No column name)": "6"
                                },
                                {
                                    "USERNEV": "ANIKOS",
                                    "METTOL": "2016-10-08",
                                    "MEDDIG": "2016-10-14",
                                    "(No column name)": "7"
                                },
                                {
                                    "USERNEV": "ANIKOS",
                                    "METTOL": "2016-10-29",
                                    "MEDDIG": "2016-11-05",
                                    "(No column name)": "7"
                                },
                                {
                                    "USERNEV": "ANIKOS",
                                    "METTOL": "2016-11-10",
                                    "MEDDIG": "2016-11-15",
                                    "(No column name)": "7"
                                },
                                {
                                    "USERNEV": "anita",
                                    "METTOL": "2016-09-28",
                                    "MEDDIG": "2016-10-02",
                                    "(No column name)": "NULL"
                                },
                                {
                                    "USERNEV": "anita",
                                    "METTOL": "2016-10-01",
                                    "MEDDIG": "2016-10-04",
                                    "(No column name)": "4"
                                },
                                {
                                    "USERNEV": "anita",
                                    "METTOL": "2017-02-19",
                                    "MEDDIG": "2017-02-22",
                                    "(No column name)": "6"
                                },
                                {
                                    "USERNEV": "anita",
                                    "METTOL": "2017-02-20",
                                    "MEDDIG": "2017-02-25",
                                    "(No column name)": "8"
                                },
                                {
                                    "USERNEV": "annamaria1",
                                    "METTOL": "2016-06-06",
                                    "MEDDIG": "2016-06-07",
                                    "(No column name)": "NULL"
                                },
                                {
                                    "USERNEV": "annamaria1",
                                    "METTOL": "2017-01-30",
                                    "MEDDIG": "2017-01-31",
                                    "(No column name)": "3"
                                },
                                {
                                    "USERNEV": "ANNAMARIAR",
                                    "METTOL": "2016-06-08",
                                    "MEDDIG": "2016-06-11",
                                    "(No column name)": "NULL"
                                },
                                {
                                    "USERNEV": "ANNAMARIAR",
                                    "METTOL": "2016-07-18",
                                    "MEDDIG": "2016-07-21",
                                    "(No column name)": "2"
                                },
                                {
                                    "USERNEV": "ANNAMARIAR",
                                    "METTOL": "2016-09-23",
                                    "MEDDIG": "2016-09-27",
                                    "(No column name)": "3"
                                },
                                {
                                    "USERNEV": "ANNAMARIAR",
                                    "METTOL": "2016-11-11",
                                    "MEDDIG": "2016-11-12",
                                    "(No column name)": "5"
                                },
                                {
                                    "USERNEV": "ANNAMARIAR",
                                    "METTOL": "2017-01-10",
                                    "MEDDIG": "2017-01-13",
                                    "(No column name)": "6"
                                },
                                {
                                    "USERNEV": "ANNAMARIAR",
                                    "METTOL": "2017-02-16",
                                    "MEDDIG": "2017-02-18",
                                    "(No column name)": "7"
                                },
                                {
                                    "USERNEV": "aron2",
                                    "METTOL": "2016-04-11",
                                    "MEDDIG": "2016-04-12",
                                    "(No column name)": "NULL"
                                },
                                {
                                    "USERNEV": "aron2",
                                    "METTOL": "2016-07-04",
                                    "MEDDIG": "2016-07-06",
                                    "(No column name)": "3"
                                },
                                {
                                    "USERNEV": "aron2",
                                    "METTOL": "2016-10-23",
                                    "MEDDIG": "2016-10-27",
                                    "(No column name)": "6"
                                },
                                {
                                    "USERNEV": "aron2",
                                    "METTOL": "2016-11-05",
                                    "MEDDIG": "2016-11-09",
                                    "(No column name)": "8"
                                },
                                {
                                    "USERNEV": "aron2",
                                    "METTOL": "2017-01-17",
                                    "MEDDIG": "2017-01-18",
                                    "(No column name)": "7"
                                },
                                {
                                    "USERNEV": "aron2",
                                    "METTOL": "2017-02-26",
                                    "MEDDIG": "2017-02-27",
                                    "(No column name)": "7"
                                },
                                {
                                    "USERNEV": "ARONK",
                                    "METTOL": "2016-04-06",
                                    "MEDDIG": "2016-04-08",
                                    "(No column name)": "NULL"
                                },
                                {
                                    "USERNEV": "ARONK",
                                    "METTOL": "2016-05-14",
                                    "MEDDIG": "2016-05-20",
                                    "(No column name)": "2"
                                },
                                {
                                    "USERNEV": "ARONK",
                                    "METTOL": "2016-06-04",
                                    "MEDDIG": "2016-06-09",
                                    "(No column name)": "6"
                                },
                                {
                                    "USERNEV": "ARONK",
                                    "METTOL": "2016-06-07",
                                    "MEDDIG": "2016-06-13",
                                    "(No column name)": "8"
                                },
                                {
                                    "USERNEV": "ARONK",
                                    "METTOL": "2016-07-03",
                                    "MEDDIG": "2016-07-07",
                                    "(No column name)": "9"
                                },
                                {
                                    "USERNEV": "ARONK",
                                    "METTOL": "2016-08-05",
                                    "MEDDIG": "2016-08-08",
                                    "(No column name)": "7"
                                },
                                {
                                    "USERNEV": "ARONK",
                                    "METTOL": "2016-09-08",
                                    "MEDDIG": "2016-09-15",
                                    "(No column name)": "9"
                                },
                                {
                                    "USERNEV": "ARONK",
                                    "METTOL": "2016-11-03",
                                    "MEDDIG": "2016-11-10",
                                    "(No column name)": "8"
                                },
                                {
                                    "USERNEV": "ARONK",
                                    "METTOL": "2016-11-05",
                                    "MEDDIG": "2016-11-07",
                                    "(No column name)": "8"
                                },
                                {
                                    "USERNEV": "ARONK",
                                    "METTOL": "2016-12-07",
                                    "MEDDIG": "2016-12-12",
                                    "(No column name)": "6"
                                },
                                {
                                    "USERNEV": "ARONK",
                                    "METTOL": "2017-01-01",
                                    "MEDDIG": "2017-01-03",
                                    "(No column name)": "7"
                                },
                                {
                                    "USERNEV": "ARONK",
                                    "METTOL": "2017-01-30",
                                    "MEDDIG": "2017-02-03",
                                    "(No column name)": "7"
                                },
                                {
                                    "USERNEV": "ARONK",
                                    "METTOL": "2017-02-21",
                                    "MEDDIG": "2017-02-23",
                                    "(No column name)": "7"
                                },
                                {
                                    "USERNEV": "arpad2",
                                    "METTOL": "2016-06-05",
                                    "MEDDIG": "2016-06-07",
                                    "(No column name)": "NULL"
                                },
                                {
                                    "USERNEV": "arpad2",
                                    "METTOL": "2016-08-23",
                                    "MEDDIG": "2016-08-25",
                                    "(No column name)": "2"
                                },
                                {
                                    "USERNEV": "arpad2",
                                    "METTOL": "2016-09-28",
                                    "MEDDIG": "2016-09-30",
                                    "(No column name)": "4"
                                },
                                {
                                    "USERNEV": "arpad2",
                                    "METTOL": "2016-10-13",
                                    "MEDDIG": "2016-10-19",
                                    "(No column name)": "6"
                                },
                                {
                                    "USERNEV": "arpad2",
                                    "METTOL": "2016-11-06",
                                    "MEDDIG": "2016-11-10",
                                    "(No column name)": "7"
                                },
                                {
                                    "USERNEV": "arpad2",
                                    "METTOL": "2016-12-24",
                                    "MEDDIG": "2016-12-27",
                                    "(No column name)": "7"
                                },
                                {
                                    "USERNEV": "arpad2",
                                    "METTOL": "2017-02-18",
                                    "MEDDIG": "2017-02-19",
                                    "(No column name)": "8"
                                },
                                {
                                    "USERNEV": "ARPADH",
                                    "METTOL": "2016-06-06",
                                    "MEDDIG": "2016-06-07",
                                    "(No column name)": "NULL"
                                },
                                {
                                    "USERNEV": "ARPADH",
                                    "METTOL": "2016-07-14",
                                    "MEDDIG": "2016-07-18",
                                    "(No column name)": "3"
                                },
                                {
                                    "USERNEV": "ARPADH",
                                    "METTOL": "2016-09-16",
                                    "MEDDIG": "2016-09-23",
                                    "(No column name)": "5"
                                },
                                {
                                    "USERNEV": "ARPADH",
                                    "METTOL": "2016-09-18",
                                    "MEDDIG": "2016-09-25",
                                    "(No column name)": "6"
                                },
                                {
                                    "USERNEV": "ARPADH",
                                    "METTOL": "2016-12-04",
                                    "MEDDIG": "2016-12-10",
                                    "(No column name)": "4"
                                },
                                {
                                    "USERNEV": "ARPADH",
                                    "METTOL": "2016-12-18",
                                    "MEDDIG": "2016-12-19",
                                    "(No column name)": "3"
                                },
                                {
                                    "USERNEV": "ARPADH",
                                    "METTOL": "2017-02-16",
                                    "MEDDIG": "2017-02-18",
                                    "(No column name)": "5"
                                },
                                {
                                    "USERNEV": "ARPADM",
                                    "METTOL": "2016-05-29",
                                    "MEDDIG": "2016-06-01",
                                    "(No column name)": "NULL"
                                },
                                {
                                    "USERNEV": "ARPADM",
                                    "METTOL": "2016-08-12",
                                    "MEDDIG": "2016-08-16",
                                    "(No column name)": "2"
                                },
                                {
                                    "USERNEV": "ARPADM",
                                    "METTOL": "2016-11-09",
                                    "MEDDIG": "2016-11-11",
                                    "(No column name)": "4"
                                },
                                {
                                    "USERNEV": "ARPADM",
                                    "METTOL": "2016-12-14",
                                    "MEDDIG": "2016-12-17",
                                    "(No column name)": "6"
                                },
                                {
                                    "USERNEV": "ARPADM",
                                    "METTOL": "2017-01-05",
                                    "MEDDIG": "2017-01-10",
                                    "(No column name)": "7"
                                },
                                {
                                    "USERNEV": "ARPADM",
                                    "METTOL": "2017-02-12",
                                    "MEDDIG": "2017-02-14",
                                    "(No column name)": "6"
                                },
                                {
                                    "USERNEV": "attila",
                                    "METTOL": "2016-09-30",
                                    "MEDDIG": "2016-10-07",
                                    "(No column name)": "NULL"
                                },
                                {
                                    "USERNEV": "attila",
                                    "METTOL": "2016-10-15",
                                    "MEDDIG": "2016-10-19",
                                    "(No column name)": "3"
                                },
                                {
                                    "USERNEV": "attila",
                                    "METTOL": "2016-12-22",
                                    "MEDDIG": "2016-12-26",
                                    "(No column name)": "4"
                                },
                                {
                                    "USERNEV": "attila1",
                                    "METTOL": "2016-05-20",
                                    "MEDDIG": "2016-05-26",
                                    "(No column name)": "NULL"
                                },
                                {
                                    "USERNEV": "attila1",
                                    "METTOL": "2016-10-09",
                                    "MEDDIG": "2016-10-12",
                                    "(No column name)": "1"
                                },
                                {
                                    "USERNEV": "attila1",
                                    "METTOL": "2016-10-15",
                                    "MEDDIG": "2016-10-16",
                                    "(No column name)": "3"
                                },
                                {
                                    "USERNEV": "attila1",
                                    "METTOL": "2016-10-30",
                                    "MEDDIG": "2016-11-05",
                                    "(No column name)": "6"
                                },
                                {
                                    "USERNEV": "attila1",
                                    "METTOL": "2016-11-10",
                                    "MEDDIG": "2016-11-14",
                                    "(No column name)": "7"
                                },
                                {
                                    "USERNEV": "attila1",
                                    "METTOL": "2017-01-23",
                                    "MEDDIG": "2017-01-30",
                                    "(No column name)": "7"
                                },
                                {
                                    "USERNEV": "attila4",
                                    "METTOL": "2016-08-18",
                                    "MEDDIG": "2016-08-23",
                                    "(No column name)": "NULL"
                                },
                                {
                                    "USERNEV": "attila4",
                                    "METTOL": "2016-12-31",
                                    "MEDDIG": "2017-01-01",
                                    "(No column name)": "4"
                                },
                                {
                                    "USERNEV": "attila4",
                                    "METTOL": "2017-02-15",
                                    "MEDDIG": "2017-02-22",
                                    "(No column name)": "6"
                                },
                                {
                                    "USERNEV": "ATTILAO",
                                    "METTOL": "2016-05-21",
                                    "MEDDIG": "2016-05-26",
                                    "(No column name)": "NULL"
                                },
                                {
                                    "USERNEV": "ATTILAO",
                                    "METTOL": "2016-06-04",
                                    "MEDDIG": "2016-06-11",
                                    "(No column name)": "3"
                                },
                                {
                                    "USERNEV": "ATTILAO",
                                    "METTOL": "2016-10-30",
                                    "MEDDIG": "2016-11-03",
                                    "(No column name)": "6"
                                },
                                {
                                    "USERNEV": "ATTILAO",
                                    "METTOL": "2017-02-22",
                                    "MEDDIG": "2017-02-25",
                                    "(No column name)": "8"
                                },
                                {
                                    "USERNEV": "balazs1",
                                    "METTOL": "2016-05-07",
                                    "MEDDIG": "2016-05-14",
                                    "(No column name)": "NULL"
                                },
                                {
                                    "USERNEV": "balazs1",
                                    "METTOL": "2016-07-22",
                                    "MEDDIG": "2016-07-26",
                                    "(No column name)": "2"
                                },
                                {
                                    "USERNEV": "balazs1",
                                    "METTOL": "2016-12-26",
                                    "MEDDIG": "2016-12-28",
                                    "(No column name)": "6"
                                },
                                {
                                    "USERNEV": "balazs1",
                                    "METTOL": "2017-01-01",
                                    "MEDDIG": "2017-01-05",
                                    "(No column name)": "9"
                                },
                                {
                                    "USERNEV": "balazs1",
                                    "METTOL": "2017-02-10",
                                    "MEDDIG": "2017-02-14",
                                    "(No column name)": "9"
                                },
                                {
                                    "USERNEV": "balazs1",
                                    "METTOL": "2017-02-12",
                                    "MEDDIG": "2017-02-14",
                                    "(No column name)": "8"
                                },
                                {
                                    "USERNEV": "balazs2",
                                    "METTOL": "2016-04-16",
                                    "MEDDIG": "2016-04-19",
                                    "(No column name)": "NULL"
                                },
                                {
                                    "USERNEV": "balazs2",
                                    "METTOL": "2016-05-22",
                                    "MEDDIG": "2016-05-29",
                                    "(No column name)": "2"
                                },
                                {
                                    "USERNEV": "balazs2",
                                    "METTOL": "2016-05-28",
                                    "MEDDIG": "2016-06-01",
                                    "(No column name)": "5"
                                },
                                {
                                    "USERNEV": "balazs2",
                                    "METTOL": "2016-07-08",
                                    "MEDDIG": "2016-07-12",
                                    "(No column name)": "8"
                                },
                                {
                                    "USERNEV": "balazs2",
                                    "METTOL": "2016-07-10",
                                    "MEDDIG": "2016-07-17",
                                    "(No column name)": "9"
                                },
                                {
                                    "USERNEV": "balazs2",
                                    "METTOL": "2016-07-20",
                                    "MEDDIG": "2016-07-25",
                                    "(No column name)": "9"
                                },
                                {
                                    "USERNEV": "balazs2",
                                    "METTOL": "2016-08-21",
                                    "MEDDIG": "2016-08-22",
                                    "(No column name)": "8"
                                },
                                {
                                    "USERNEV": "balazs2",
                                    "METTOL": "2016-09-12",
                                    "MEDDIG": "2016-09-14",
                                    "(No column name)": "8"
                                },
                                {
                                    "USERNEV": "balazs2",
                                    "METTOL": "2016-11-03",
                                    "MEDDIG": "2016-11-05",
                                    "(No column name)": "8"
                                },
                                {
                                    "USERNEV": "balazs2",
                                    "METTOL": "2017-02-27",
                                    "MEDDIG": "2017-03-06",
                                    "(No column name)": "9"
                                },
                                {
                                    "USERNEV": "balazs3",
                                    "METTOL": "2016-07-17",
                                    "MEDDIG": "2016-07-21",
                                    "(No column name)": "NULL"
                                },
                                {
                                    "USERNEV": "balazs3",
                                    "METTOL": "2016-07-27",
                                    "MEDDIG": "2016-07-31",
                                    "(No column name)": "2"
                                },
                                {
                                    "USERNEV": "balazs3",
                                    "METTOL": "2016-08-24",
                                    "MEDDIG": "2016-08-28",
                                    "(No column name)": "6"
                                },
                                {
                                    "USERNEV": "balazs3",
                                    "METTOL": "2016-09-15",
                                    "MEDDIG": "2016-09-16",
                                    "(No column name)": "9"
                                },
                                {
                                    "USERNEV": "balazs3",
                                    "METTOL": "2016-12-05",
                                    "MEDDIG": "2016-12-11",
                                    "(No column name)": "10"
                                },
                                {
                                    "USERNEV": "balazs3",
                                    "METTOL": "2017-01-20",
                                    "MEDDIG": "2017-01-22",
                                    "(No column name)": "9"
                                },
                                {
                                    "USERNEV": "balint",
                                    "METTOL": "2016-04-22",
                                    "MEDDIG": "2016-04-29",
                                    "(No column name)": "NULL"
                                },
                                {
                                    "USERNEV": "balint",
                                    "METTOL": "2016-10-09",
                                    "MEDDIG": "2016-10-11",
                                    "(No column name)": "2"
                                },
                                {
                                    "USERNEV": "balint",
                                    "METTOL": "2016-11-24",
                                    "MEDDIG": "2016-11-29",
                                    "(No column name)": "4"
                                },
                                {
                                    "USERNEV": "balint1",
                                    "METTOL": "2016-06-07",
                                    "MEDDIG": "2016-06-11",
                                    "(No column name)": "NULL"
                                },
                                {
                                    "USERNEV": "balint1",
                                    "METTOL": "2016-06-07",
                                    "MEDDIG": "2016-06-12",
                                    "(No column name)": "3"
                                },
                                {
                                    "USERNEV": "balint1",
                                    "METTOL": "2016-06-10",
                                    "MEDDIG": "2016-06-12",
                                    "(No column name)": "6"
                                },
                                {
                                    "USERNEV": "balint1",
                                    "METTOL": "2016-07-26",
                                    "MEDDIG": "2016-07-28",
                                    "(No column name)": "7"
                                },
                                {
                                    "USERNEV": "balint1",
                                    "METTOL": "2016-08-03",
                                    "MEDDIG": "2016-08-08",
                                    "(No column name)": "6"
                                },
                                {
                                    "USERNEV": "balint1",
                                    "METTOL": "2016-09-16",
                                    "MEDDIG": "2016-09-21",
                                    "(No column name)": "5"
                                },
                                {
                                    "USERNEV": "balint1",
                                    "METTOL": "2016-11-07",
                                    "MEDDIG": "2016-11-10",
                                    "(No column name)": "5"
                                },
                                {
                                    "USERNEV": "balint1",
                                    "METTOL": "2016-12-17",
                                    "MEDDIG": "2016-12-22",
                                    "(No column name)": "5"
                                },
                                {
                                    "USERNEV": "balint1",
                                    "METTOL": "2016-12-29",
                                    "MEDDIG": "2016-12-31",
                                    "(No column name)": "6"
                                },
                                {
                                    "USERNEV": "balint1",
                                    "METTOL": "2017-01-03",
                                    "MEDDIG": "2017-01-08",
                                    "(No column name)": "8"
                                },
                                {
                                    "USERNEV": "balint2",
                                    "METTOL": "2016-07-21",
                                    "MEDDIG": "2016-07-26",
                                    "(No column name)": "NULL"
                                },
                                {
                                    "USERNEV": "balint2",
                                    "METTOL": "2016-12-04",
                                    "MEDDIG": "2016-12-06",
                                    "(No column name)": "1"
                                },
                                {
                                    "USERNEV": "balu",
                                    "METTOL": "2016-08-06",
                                    "MEDDIG": "2016-08-10",
                                    "(No column name)": "NULL"
                                },
                                {
                                    "USERNEV": "balu",
                                    "METTOL": "2016-12-22",
                                    "MEDDIG": "2016-12-23",
                                    "(No column name)": "2"
                                },
                                {
                                    "USERNEV": "beata4",
                                    "METTOL": "2016-04-20",
                                    "MEDDIG": "2016-04-21",
                                    "(No column name)": "NULL"
                                },
                                {
                                    "USERNEV": "beata4",
                                    "METTOL": "2016-06-03",
                                    "MEDDIG": "2016-06-04",
                                    "(No column name)": "2"
                                },
                                {
                                    "USERNEV": "beata4",
                                    "METTOL": "2016-07-03",
                                    "MEDDIG": "2016-07-06",
                                    "(No column name)": "4"
                                },
                                {
                                    "USERNEV": "beata4",
                                    "METTOL": "2016-08-25",
                                    "MEDDIG": "2016-08-27",
                                    "(No column name)": "5"
                                },
                                {
                                    "USERNEV": "beata4",
                                    "METTOL": "2016-10-01",
                                    "MEDDIG": "2016-10-05",
                                    "(No column name)": "6"
                                },
                                {
                                    "USERNEV": "beata4",
                                    "METTOL": "2016-10-03",
                                    "MEDDIG": "2016-10-06",
                                    "(No column name)": "5"
                                },
                                {
                                    "USERNEV": "BEATRIXK",
                                    "METTOL": "2016-06-10",
                                    "MEDDIG": "2016-06-11",
                                    "(No column name)": "NULL"
                                },
                                {
                                    "USERNEV": "BEATRIXK",
                                    "METTOL": "2016-06-10",
                                    "MEDDIG": "2016-06-14",
                                    "(No column name)": "2"
                                },
                                {
                                    "USERNEV": "BEATRIXK",
                                    "METTOL": "2016-06-19",
                                    "MEDDIG": "2016-06-21",
                                    "(No column name)": "4"
                                },
                                {
                                    "USERNEV": "BEATRIXK",
                                    "METTOL": "2016-08-12",
                                    "MEDDIG": "2016-08-18",
                                    "(No column name)": "7"
                                },
                                {
                                    "USERNEV": "BEATRIXK",
                                    "METTOL": "2016-10-23",
                                    "MEDDIG": "2016-10-28",
                                    "(No column name)": "9"
                                },
                                {
                                    "USERNEV": "BEATRIXK",
                                    "METTOL": "2016-11-14",
                                    "MEDDIG": "2016-11-19",
                                    "(No column name)": "9"
                                },
                                {
                                    "USERNEV": "BEATRIXK",
                                    "METTOL": "2016-12-12",
                                    "MEDDIG": "2016-12-14",
                                    "(No column name)": "8"
                                },
                                {
                                    "USERNEV": "BEATRIXK",
                                    "METTOL": "2016-12-17",
                                    "MEDDIG": "2016-12-22",
                                    "(No column name)": "7"
                                },
                                {
                                    "USERNEV": "BEATRIXK",
                                    "METTOL": "2017-02-08",
                                    "MEDDIG": "2017-02-09",
                                    "(No column name)": "9"
                                },
                                {
                                    "USERNEV": "BEATRIXS",
                                    "METTOL": "2016-04-18",
                                    "MEDDIG": "2016-04-24",
                                    "(No column name)": "NULL"
                                },
                                {
                                    "USERNEV": "BEATRIXS",
                                    "METTOL": "2016-06-11",
                                    "MEDDIG": "2016-06-14",
                                    "(No column name)": "1"
                                },
                                {
                                    "USERNEV": "BEATRIXS",
                                    "METTOL": "2016-10-01",
                                    "MEDDIG": "2016-10-03",
                                    "(No column name)": "4"
                                },
                                {
                                    "USERNEV": "BEATRIXS",
                                    "METTOL": "2016-10-01",
                                    "MEDDIG": "2016-10-05",
                                    "(No column name)": "7"
                                },
                                {
                                    "USERNEV": "BEATRIXS",
                                    "METTOL": "2016-12-21",
                                    "MEDDIG": "2016-12-27",
                                    "(No column name)": "9"
                                },
                                {
                                    "USERNEV": "BEATRIXS",
                                    "METTOL": "2017-02-03",
                                    "MEDDIG": "2017-02-04",
                                    "(No column name)": "8"
                                },
                                {
                                    "USERNEV": "BELAF",
                                    "METTOL": "2016-07-27",
                                    "MEDDIG": "2016-07-30",
                                    "(No column name)": "NULL"
                                },
                                {
                                    "USERNEV": "BELAF",
                                    "METTOL": "2016-07-29",
                                    "MEDDIG": "2016-07-31",
                                    "(No column name)": "3"
                                },
                                {
                                    "USERNEV": "BELAF",
                                    "METTOL": "2016-08-29",
                                    "MEDDIG": "2016-08-31",
                                    "(No column name)": "5"
                                },
                                {
                                    "USERNEV": "BELAF",
                                    "METTOL": "2016-11-03",
                                    "MEDDIG": "2016-11-09",
                                    "(No column name)": "7"
                                },
                                {
                                    "USERNEV": "BELAF",
                                    "METTOL": "2016-12-02",
                                    "MEDDIG": "2016-12-04",
                                    "(No column name)": "8"
                                },
                                {
                                    "USERNEV": "BELAF",
                                    "METTOL": "2016-12-06",
                                    "MEDDIG": "2016-12-09",
                                    "(No column name)": "9"
                                },
                                {
                                    "USERNEV": "bence",
                                    "METTOL": "2016-05-08",
                                    "MEDDIG": "2016-05-11",
                                    "(No column name)": "NULL"
                                },
                                {
                                    "USERNEV": "bence",
                                    "METTOL": "2016-05-29",
                                    "MEDDIG": "2016-06-03",
                                    "(No column name)": "2"
                                },
                                {
                                    "USERNEV": "bence",
                                    "METTOL": "2016-07-24",
                                    "MEDDIG": "2016-07-30",
                                    "(No column name)": "3"
                                },
                                {
                                    "USERNEV": "bence",
                                    "METTOL": "2016-07-25",
                                    "MEDDIG": "2016-08-01",
                                    "(No column name)": "5"
                                },
                                {
                                    "USERNEV": "bence",
                                    "METTOL": "2016-09-03",
                                    "MEDDIG": "2016-09-06",
                                    "(No column name)": "6"
                                },
                                {
                                    "USERNEV": "bence",
                                    "METTOL": "2016-10-30",
                                    "MEDDIG": "2016-11-02",
                                    "(No column name)": "8"
                                },
                                {
                                    "USERNEV": "bence",
                                    "METTOL": "2016-12-17",
                                    "MEDDIG": "2016-12-18",
                                    "(No column name)": "10"
                                },
                                {
                                    "USERNEV": "bence",
                                    "METTOL": "2016-12-26",
                                    "MEDDIG": "2016-12-27",
                                    "(No column name)": "9"
                                },
                                {
                                    "USERNEV": "bence",
                                    "METTOL": "2017-02-05",
                                    "MEDDIG": "2017-02-09",
                                    "(No column name)": "8"
                                },
                                {
                                    "USERNEV": "BENCEB",
                                    "METTOL": "2016-05-14",
                                    "MEDDIG": "2016-05-17",
                                    "(No column name)": "NULL"
                                },
                                {
                                    "USERNEV": "BENCEB",
                                    "METTOL": "2016-06-03",
                                    "MEDDIG": "2016-06-09",
                                    "(No column name)": "3"
                                },
                                {
                                    "USERNEV": "BENCEB",
                                    "METTOL": "2016-08-01",
                                    "MEDDIG": "2016-08-02",
                                    "(No column name)": "5"
                                },
                                {
                                    "USERNEV": "BENCEB",
                                    "METTOL": "2016-10-22",
                                    "MEDDIG": "2016-10-29",
                                    "(No column name)": "7"
                                },
                                {
                                    "USERNEV": "BENCEB",
                                    "METTOL": "2016-11-28",
                                    "MEDDIG": "2016-12-02",
                                    "(No column name)": "7"
                                },
                                {
                                    "USERNEV": "BENCEB",
                                    "METTOL": "2017-02-12",
                                    "MEDDIG": "2017-02-19",
                                    "(No column name)": "7"
                                },
                                {
                                    "USERNEV": "bernadett1",
                                    "METTOL": "2016-06-12",
                                    "MEDDIG": "2016-06-17",
                                    "(No column name)": "NULL"
                                },
                                {
                                    "USERNEV": "bernadett1",
                                    "METTOL": "2016-10-08",
                                    "MEDDIG": "2016-10-09",
                                    "(No column name)": "3"
                                },
                                {
                                    "USERNEV": "bernadett1",
                                    "METTOL": "2016-10-15",
                                    "MEDDIG": "2016-10-22",
                                    "(No column name)": "7"
                                },
                                {
                                    "USERNEV": "bernadett1",
                                    "METTOL": "2016-10-26",
                                    "MEDDIG": "2016-11-02",
                                    "(No column name)": "10"
                                },
                                {
                                    "USERNEV": "bernadett1",
                                    "METTOL": "2016-10-28",
                                    "MEDDIG": "2016-11-01",
                                    "(No column name)": "10"
                                },
                                {
                                    "USERNEV": "bernadett1",
                                    "METTOL": "2017-02-14",
                                    "MEDDIG": "2017-02-15",
                                    "(No column name)": "9"
                                },
                                {
                                    "USERNEV": "bernadett1",
                                    "METTOL": "2017-02-24",
                                    "MEDDIG": "2017-03-03",
                                    "(No column name)": "9"
                                },
                                {
                                    "USERNEV": "bernadett2",
                                    "METTOL": "2016-05-01",
                                    "MEDDIG": "2016-05-03",
                                    "(No column name)": "NULL"
                                },
                                {
                                    "USERNEV": "bernadett2",
                                    "METTOL": "2016-06-17",
                                    "MEDDIG": "2016-06-23",
                                    "(No column name)": "2"
                                },
                                {
                                    "USERNEV": "bernadett2",
                                    "METTOL": "2016-08-23",
                                    "MEDDIG": "2016-08-29",
                                    "(No column name)": "5"
                                },
                                {
                                    "USERNEV": "bernadett2",
                                    "METTOL": "2016-08-25",
                                    "MEDDIG": "2016-08-27",
                                    "(No column name)": "7"
                                },
                                {
                                    "USERNEV": "bernadett2",
                                    "METTOL": "2016-09-07",
                                    "MEDDIG": "2016-09-13",
                                    "(No column name)": "8"
                                },
                                {
                                    "USERNEV": "bernadett2",
                                    "METTOL": "2016-10-30",
                                    "MEDDIG": "2016-11-06",
                                    "(No column name)": "8"
                                },
                                {
                                    "USERNEV": "bernadett2",
                                    "METTOL": "2016-12-17",
                                    "MEDDIG": "2016-12-20",
                                    "(No column name)": "9"
                                },
                                {
                                    "USERNEV": "bernadett2",
                                    "METTOL": "2017-01-24",
                                    "MEDDIG": "2017-01-30",
                                    "(No column name)": "7"
                                },
                                {
                                    "USERNEV": "BERNADETTO",
                                    "METTOL": "2016-04-10",
                                    "MEDDIG": "2016-04-17",
                                    "(No column name)": "NULL"
                                },
                                {
                                    "USERNEV": "BERNADETTO",
                                    "METTOL": "2016-04-17",
                                    "MEDDIG": "2016-04-19",
                                    "(No column name)": "2"
                                },
                                {
                                    "USERNEV": "BERNADETTO",
                                    "METTOL": "2016-06-07",
                                    "MEDDIG": "2016-06-13",
                                    "(No column name)": "4"
                                },
                                {
                                    "USERNEV": "BERNADETTO",
                                    "METTOL": "2016-06-10",
                                    "MEDDIG": "2016-06-16",
                                    "(No column name)": "7"
                                },
                                {
                                    "USERNEV": "BERNADETTO",
                                    "METTOL": "2016-10-04",
                                    "MEDDIG": "2016-10-05",
                                    "(No column name)": "9"
                                },
                                {
                                    "USERNEV": "BERNADETTO",
                                    "METTOL": "2017-01-01",
                                    "MEDDIG": "2017-01-02",
                                    "(No column name)": "9"
                                },
                                {
                                    "USERNEV": "BERNADETTO",
                                    "METTOL": "2017-01-28",
                                    "MEDDIG": "2017-02-03",
                                    "(No column name)": "9"
                                },
                                {
                                    "USERNEV": "bertalan",
                                    "METTOL": "2016-05-18",
                                    "MEDDIG": "2016-05-23",
                                    "(No column name)": "NULL"
                                },
                                {
                                    "USERNEV": "bertalan",
                                    "METTOL": "2016-06-20",
                                    "MEDDIG": "2016-06-21",
                                    "(No column name)": "2"
                                },
                                {
                                    "USERNEV": "bertalan",
                                    "METTOL": "2016-11-03",
                                    "MEDDIG": "2016-11-10",
                                    "(No column name)": "3"
                                },
                                {
                                    "USERNEV": "bertalan",
                                    "METTOL": "2016-11-26",
                                    "MEDDIG": "2016-11-29",
                                    "(No column name)": "5"
                                },
                                {
                                    "USERNEV": "bertalan",
                                    "METTOL": "2017-02-16",
                                    "MEDDIG": "2017-02-22",
                                    "(No column name)": "6"
                                },
                                {
                                    "USERNEV": "bertalan",
                                    "METTOL": "2017-02-20",
                                    "MEDDIG": "2017-02-24",
                                    "(No column name)": "7"
                                },
                                {
                                    "USERNEV": "brigitta",
                                    "METTOL": "2016-05-30",
                                    "MEDDIG": "2016-06-06",
                                    "(No column name)": "NULL"
                                },
                                {
                                    "USERNEV": "brigitta",
                                    "METTOL": "2016-08-28",
                                    "MEDDIG": "2016-09-01",
                                    "(No column name)": "3"
                                },
                                {
                                    "USERNEV": "brigitta",
                                    "METTOL": "2016-10-21",
                                    "MEDDIG": "2016-10-28",
                                    "(No column name)": "6"
                                },
                                {
                                    "USERNEV": "brigitta",
                                    "METTOL": "2016-12-17",
                                    "MEDDIG": "2016-12-22",
                                    "(No column name)": "9"
                                },
                                {
                                    "USERNEV": "brigitta",
                                    "METTOL": "2017-01-23",
                                    "MEDDIG": "2017-01-25",
                                    "(No column name)": "8"
                                },
                                {
                                    "USERNEV": "brigitta3",
                                    "METTOL": "2016-06-01",
                                    "MEDDIG": "2016-06-05",
                                    "(No column name)": "NULL"
                                },
                                {
                                    "USERNEV": "brigitta3",
                                    "METTOL": "2016-06-13",
                                    "MEDDIG": "2016-06-17",
                                    "(No column name)": "2"
                                },
                                {
                                    "USERNEV": "brigitta3",
                                    "METTOL": "2016-10-10",
                                    "MEDDIG": "2016-10-14",
                                    "(No column name)": "5"
                                },
                                {
                                    "USERNEV": "brigitta3",
                                    "METTOL": "2016-11-03",
                                    "MEDDIG": "2016-11-09",
                                    "(No column name)": "7"
                                },
                                {
                                    "USERNEV": "brigitta3",
                                    "METTOL": "2017-02-09",
                                    "MEDDIG": "2017-02-16",
                                    "(No column name)": "8"
                                },
                                {
                                    "USERNEV": "csongor3",
                                    "METTOL": "2016-05-01",
                                    "MEDDIG": "2016-05-04",
                                    "(No column name)": "NULL"
                                },
                                {
                                    "USERNEV": "csongor3",
                                    "METTOL": "2016-05-08",
                                    "MEDDIG": "2016-05-15",
                                    "(No column name)": "2"
                                },
                                {
                                    "USERNEV": "csongor3",
                                    "METTOL": "2016-06-04",
                                    "MEDDIG": "2016-06-05",
                                    "(No column name)": "5"
                                },
                                {
                                    "USERNEV": "csongor3",
                                    "METTOL": "2016-06-10",
                                    "MEDDIG": "2016-06-17",
                                    "(No column name)": "7"
                                },
                                {
                                    "USERNEV": "csongor3",
                                    "METTOL": "2016-06-11",
                                    "MEDDIG": "2016-06-14",
                                    "(No column name)": "8"
                                },
                                {
                                    "USERNEV": "csongor3",
                                    "METTOL": "2016-07-09",
                                    "MEDDIG": "2016-07-10",
                                    "(No column name)": "7"
                                },
                                {
                                    "USERNEV": "csongor3",
                                    "METTOL": "2016-11-12",
                                    "MEDDIG": "2016-11-17",
                                    "(No column name)": "9"
                                },
                                {
                                    "USERNEV": "csongor3",
                                    "METTOL": "2017-02-13",
                                    "MEDDIG": "2017-02-19",
                                    "(No column name)": "9"
                                },
                                {
                                    "USERNEV": "dani",
                                    "METTOL": "2016-06-06",
                                    "MEDDIG": "2016-06-10",
                                    "(No column name)": "NULL"
                                },
                                {
                                    "USERNEV": "dani",
                                    "METTOL": "2016-07-11",
                                    "MEDDIG": "2016-07-12",
                                    "(No column name)": "3"
                                },
                                {
                                    "USERNEV": "dani",
                                    "METTOL": "2016-08-06",
                                    "MEDDIG": "2016-08-09",
                                    "(No column name)": "6"
                                },
                                {
                                    "USERNEV": "dani",
                                    "METTOL": "2016-09-19",
                                    "MEDDIG": "2016-09-25",
                                    "(No column name)": "8"
                                },
                                {
                                    "USERNEV": "dani",
                                    "METTOL": "2016-10-01",
                                    "MEDDIG": "2016-10-02",
                                    "(No column name)": "9"
                                },
                                {
                                    "USERNEV": "dani",
                                    "METTOL": "2016-11-22",
                                    "MEDDIG": "2016-11-24",
                                    "(No column name)": "7"
                                },
                                {
                                    "USERNEV": "dani",
                                    "METTOL": "2017-01-17",
                                    "MEDDIG": "2017-01-23",
                                    "(No column name)": "7"
                                },
                                {
                                    "USERNEV": "dani",
                                    "METTOL": "2017-01-22",
                                    "MEDDIG": "2017-01-29",
                                    "(No column name)": "5"
                                },
                                {
                                    "USERNEV": "dani",
                                    "METTOL": "2017-02-25",
                                    "MEDDIG": "2017-03-01",
                                    "(No column name)": "5"
                                },
                                {
                                    "USERNEV": "daniel",
                                    "METTOL": "2016-04-10",
                                    "MEDDIG": "2016-04-11",
                                    "(No column name)": "NULL"
                                },
                                {
                                    "USERNEV": "daniel",
                                    "METTOL": "2016-04-22",
                                    "MEDDIG": "2016-04-25",
                                    "(No column name)": "4"
                                },
                                {
                                    "USERNEV": "daniel",
                                    "METTOL": "2016-05-09",
                                    "MEDDIG": "2016-05-13",
                                    "(No column name)": "6"
                                },
                                {
                                    "USERNEV": "daniel",
                                    "METTOL": "2016-09-08",
                                    "MEDDIG": "2016-09-10",
                                    "(No column name)": "9"
                                },
                                {
                                    "USERNEV": "daniel",
                                    "METTOL": "2016-11-13",
                                    "MEDDIG": "2016-11-19",
                                    "(No column name)": "9"
                                },
                                {
                                    "USERNEV": "daniel",
                                    "METTOL": "2016-12-25",
                                    "MEDDIG": "2016-12-26",
                                    "(No column name)": "10"
                                },
                                {
                                    "USERNEV": "daniel",
                                    "METTOL": "2017-01-09",
                                    "MEDDIG": "2017-01-11",
                                    "(No column name)": "10"
                                },
                                {
                                    "USERNEV": "daniel",
                                    "METTOL": "2017-02-12",
                                    "MEDDIG": "2017-02-13",
                                    "(No column name)": "7"
                                },
                                {
                                    "USERNEV": "daniel",
                                    "METTOL": "2017-02-20",
                                    "MEDDIG": "2017-02-23",
                                    "(No column name)": "7"
                                },
                                {
                                    "USERNEV": "daniel1",
                                    "METTOL": "2016-04-10",
                                    "MEDDIG": "2016-04-15",
                                    "(No column name)": "NULL"
                                },
                                {
                                    "USERNEV": "daniel1",
                                    "METTOL": "2016-05-10",
                                    "MEDDIG": "2016-05-13",
                                    "(No column name)": "2"
                                },
                                {
                                    "USERNEV": "daniel1",
                                    "METTOL": "2016-05-26",
                                    "MEDDIG": "2016-05-27",
                                    "(No column name)": "6"
                                },
                                {
                                    "USERNEV": "daniel1",
                                    "METTOL": "2016-11-09",
                                    "MEDDIG": "2016-11-11",
                                    "(No column name)": "9"
                                },
                                {
                                    "USERNEV": "daniel1",
                                    "METTOL": "2016-11-23",
                                    "MEDDIG": "2016-11-25",
                                    "(No column name)": "9"
                                },
                                {
                                    "USERNEV": "daniel1",
                                    "METTOL": "2017-01-05",
                                    "MEDDIG": "2017-01-08",
                                    "(No column name)": "7"
                                },
                                {
                                    "USERNEV": "daniel1",
                                    "METTOL": "2017-03-01",
                                    "MEDDIG": "2017-03-06",
                                    "(No column name)": "7"
                                },
                                {
                                    "USERNEV": "david",
                                    "METTOL": "2016-05-18",
                                    "MEDDIG": "2016-05-25",
                                    "(No column name)": "NULL"
                                },
                                {
                                    "USERNEV": "david",
                                    "METTOL": "2016-06-09",
                                    "MEDDIG": "2016-06-10",
                                    "(No column name)": "2"
                                },
                                {
                                    "USERNEV": "david",
                                    "METTOL": "2016-06-30",
                                    "MEDDIG": "2016-07-07",
                                    "(No column name)": "4"
                                },
                                {
                                    "USERNEV": "david",
                                    "METTOL": "2016-07-18",
                                    "MEDDIG": "2016-07-21",
                                    "(No column name)": "6"
                                },
                                {
                                    "USERNEV": "david",
                                    "METTOL": "2016-08-05",
                                    "MEDDIG": "2016-08-12",
                                    "(No column name)": "6"
                                },
                                {
                                    "USERNEV": "david",
                                    "METTOL": "2016-08-20",
                                    "MEDDIG": "2016-08-25",
                                    "(No column name)": "5"
                                },
                                {
                                    "USERNEV": "david",
                                    "METTOL": "2016-08-22",
                                    "MEDDIG": "2016-08-24",
                                    "(No column name)": "6"
                                },
                                {
                                    "USERNEV": "david",
                                    "METTOL": "2016-10-30",
                                    "MEDDIG": "2016-11-04",
                                    "(No column name)": "7"
                                },
                                {
                                    "USERNEV": "david",
                                    "METTOL": "2017-01-18",
                                    "MEDDIG": "2017-01-19",
                                    "(No column name)": "8"
                                },
                                {
                                    "USERNEV": "david1",
                                    "METTOL": "2016-09-20",
                                    "MEDDIG": "2016-09-21",
                                    "(No column name)": "NULL"
                                },
                                {
                                    "USERNEV": "david1",
                                    "METTOL": "2016-10-01",
                                    "MEDDIG": "2016-10-02",
                                    "(No column name)": "2"
                                },
                                {
                                    "USERNEV": "david1",
                                    "METTOL": "2016-11-19",
                                    "MEDDIG": "2016-11-22",
                                    "(No column name)": "4"
                                },
                                {
                                    "USERNEV": "david1",
                                    "METTOL": "2016-12-30",
                                    "MEDDIG": "2017-01-06",
                                    "(No column name)": "6"
                                },
                                {
                                    "USERNEV": "david1",
                                    "METTOL": "2017-02-17",
                                    "MEDDIG": "2017-02-20",
                                    "(No column name)": "6"
                                },
                                {
                                    "USERNEV": "david1",
                                    "METTOL": "2017-02-25",
                                    "MEDDIG": "2017-02-27",
                                    "(No column name)": "7"
                                },
                                {
                                    "USERNEV": "david4",
                                    "METTOL": "2017-02-16",
                                    "MEDDIG": "2017-02-19",
                                    "(No column name)": "NULL"
                                },
                                {
                                    "USERNEV": "debora",
                                    "METTOL": "2016-06-22",
                                    "MEDDIG": "2016-06-24",
                                    "(No column name)": "NULL"
                                },
                                {
                                    "USERNEV": "debora",
                                    "METTOL": "2016-10-29",
                                    "MEDDIG": "2016-11-03",
                                    "(No column name)": "5"
                                },
                                {
                                    "USERNEV": "debora",
                                    "METTOL": "2017-01-23",
                                    "MEDDIG": "2017-01-28",
                                    "(No column name)": "7"
                                },
                                {
                                    "USERNEV": "debora",
                                    "METTOL": "2017-02-04",
                                    "MEDDIG": "2017-02-06",
                                    "(No column name)": "10"
                                },
                                {
                                    "USERNEV": "denes",
                                    "METTOL": "2016-05-27",
                                    "MEDDIG": "2016-05-31",
                                    "(No column name)": "NULL"
                                },
                                {
                                    "USERNEV": "denes",
                                    "METTOL": "2016-07-19",
                                    "MEDDIG": "2016-07-23",
                                    "(No column name)": "3"
                                },
                                {
                                    "USERNEV": "denes",
                                    "METTOL": "2016-08-01",
                                    "MEDDIG": "2016-08-08",
                                    "(No column name)": "5"
                                },
                                {
                                    "USERNEV": "denes",
                                    "METTOL": "2016-08-16",
                                    "MEDDIG": "2016-08-23",
                                    "(No column name)": "8"
                                },
                                {
                                    "USERNEV": "denes",
                                    "METTOL": "2016-08-20",
                                    "MEDDIG": "2016-08-27",
                                    "(No column name)": "7"
                                },
                                {
                                    "USERNEV": "denes",
                                    "METTOL": "2016-11-06",
                                    "MEDDIG": "2016-11-10",
                                    "(No column name)": "8"
                                },
                                {
                                    "USERNEV": "dora3",
                                    "METTOL": "2016-08-16",
                                    "MEDDIG": "2016-08-19",
                                    "(No column name)": "NULL"
                                },
                                {
                                    "USERNEV": "dora3",
                                    "METTOL": "2016-08-25",
                                    "MEDDIG": "2016-08-29",
                                    "(No column name)": "4"
                                },
                                {
                                    "USERNEV": "dora3",
                                    "METTOL": "2016-10-09",
                                    "MEDDIG": "2016-10-12",
                                    "(No column name)": "7"
                                },
                                {
                                    "USERNEV": "dora3",
                                    "METTOL": "2016-10-29",
                                    "MEDDIG": "2016-11-02",
                                    "(No column name)": "10"
                                },
                                {
                                    "USERNEV": "dora3",
                                    "METTOL": "2016-11-22",
                                    "MEDDIG": "2016-11-29",
                                    "(No column name)": "9"
                                },
                                {
                                    "USERNEV": "edit",
                                    "METTOL": "2016-07-14",
                                    "MEDDIG": "2016-07-17",
                                    "(No column name)": "NULL"
                                },
                                {
                                    "USERNEV": "edit",
                                    "METTOL": "2016-08-03",
                                    "MEDDIG": "2016-08-09",
                                    "(No column name)": "3"
                                },
                                {
                                    "USERNEV": "edit",
                                    "METTOL": "2016-08-12",
                                    "MEDDIG": "2016-08-14",
                                    "(No column name)": "7"
                                },
                                {
                                    "USERNEV": "edit",
                                    "METTOL": "2016-09-17",
                                    "MEDDIG": "2016-09-24",
                                    "(No column name)": "9"
                                },
                                {
                                    "USERNEV": "edit",
                                    "METTOL": "2016-09-18",
                                    "MEDDIG": "2016-09-21",
                                    "(No column name)": "8"
                                },
                                {
                                    "USERNEV": "edit",
                                    "METTOL": "2017-01-15",
                                    "MEDDIG": "2017-01-18",
                                    "(No column name)": "7"
                                },
                                {
                                    "USERNEV": "edit",
                                    "METTOL": "2017-02-08",
                                    "MEDDIG": "2017-02-14",
                                    "(No column name)": "9"
                                },
                                {
                                    "USERNEV": "emese",
                                    "METTOL": "2016-07-22",
                                    "MEDDIG": "2016-07-24",
                                    "(No column name)": "NULL"
                                },
                                {
                                    "USERNEV": "emese",
                                    "METTOL": "2016-08-09",
                                    "MEDDIG": "2016-08-12",
                                    "(No column name)": "2"
                                },
                                {
                                    "USERNEV": "emese",
                                    "METTOL": "2016-09-27",
                                    "MEDDIG": "2016-09-28",
                                    "(No column name)": "4"
                                },
                                {
                                    "USERNEV": "emese",
                                    "METTOL": "2016-11-05",
                                    "MEDDIG": "2016-11-09",
                                    "(No column name)": "7"
                                },
                                {
                                    "USERNEV": "emese",
                                    "METTOL": "2016-11-23",
                                    "MEDDIG": "2016-11-27",
                                    "(No column name)": "6"
                                },
                                {
                                    "USERNEV": "emese",
                                    "METTOL": "2016-12-07",
                                    "MEDDIG": "2016-12-08",
                                    "(No column name)": "8"
                                },
                                {
                                    "USERNEV": "emese",
                                    "METTOL": "2017-01-30",
                                    "MEDDIG": "2017-01-31",
                                    "(No column name)": "8"
                                },
                                {
                                    "USERNEV": "eszter",
                                    "METTOL": "2016-08-12",
                                    "MEDDIG": "2016-08-18",
                                    "(No column name)": "NULL"
                                },
                                {
                                    "USERNEV": "eszter",
                                    "METTOL": "2016-10-04",
                                    "MEDDIG": "2016-10-10",
                                    "(No column name)": "3"
                                },
                                {
                                    "USERNEV": "eszter",
                                    "METTOL": "2016-10-26",
                                    "MEDDIG": "2016-11-01",
                                    "(No column name)": "6"
                                },
                                {
                                    "USERNEV": "eszter",
                                    "METTOL": "2016-12-23",
                                    "MEDDIG": "2016-12-28",
                                    "(No column name)": "9"
                                },
                                {
                                    "USERNEV": "eszter2",
                                    "METTOL": "2016-06-30",
                                    "MEDDIG": "2016-07-07",
                                    "(No column name)": "NULL"
                                },
                                {
                                    "USERNEV": "eszter2",
                                    "METTOL": "2016-07-08",
                                    "MEDDIG": "2016-07-09",
                                    "(No column name)": "3"
                                },
                                {
                                    "USERNEV": "eszter2",
                                    "METTOL": "2016-10-01",
                                    "MEDDIG": "2016-10-05",
                                    "(No column name)": "4"
                                },
                                {
                                    "USERNEV": "eszter2",
                                    "METTOL": "2016-10-01",
                                    "MEDDIG": "2016-10-06",
                                    "(No column name)": "7"
                                },
                                {
                                    "USERNEV": "eszter2",
                                    "METTOL": "2016-10-20",
                                    "MEDDIG": "2016-10-25",
                                    "(No column name)": "5"
                                },
                                {
                                    "USERNEV": "eszter2",
                                    "METTOL": "2016-10-23",
                                    "MEDDIG": "2016-10-30",
                                    "(No column name)": "5"
                                },
                                {
                                    "USERNEV": "eszter2",
                                    "METTOL": "2016-11-05",
                                    "MEDDIG": "2016-11-12",
                                    "(No column name)": "3"
                                },
                                {
                                    "USERNEV": "eszter2",
                                    "METTOL": "2016-12-02",
                                    "MEDDIG": "2016-12-07",
                                    "(No column name)": "6"
                                },
                                {
                                    "USERNEV": "eszter2",
                                    "METTOL": "2016-12-05",
                                    "MEDDIG": "2016-12-08",
                                    "(No column name)": "6"
                                },
                                {
                                    "USERNEV": "eszter2",
                                    "METTOL": "2016-12-29",
                                    "MEDDIG": "2017-02-04",
                                    "(No column name)": "7"
                                },
                                {
                                    "USERNEV": "eszter4",
                                    "METTOL": "2017-01-05",
                                    "MEDDIG": "2017-01-10",
                                    "(No column name)": "NULL"
                                },
                                {
                                    "USERNEV": "eszter4",
                                    "METTOL": "2017-01-26",
                                    "MEDDIG": "2017-02-02",
                                    "(No column name)": "2"
                                },
                                {
                                    "USERNEV": "eszter4",
                                    "METTOL": "2017-02-26",
                                    "MEDDIG": "2017-02-27",
                                    "(No column name)": "4"
                                },
                                {
                                    "USERNEV": "ESZTERE",
                                    "METTOL": "2016-05-30",
                                    "MEDDIG": "2016-06-05",
                                    "(No column name)": "NULL"
                                },
                                {
                                    "USERNEV": "ESZTERE",
                                    "METTOL": "2016-07-19",
                                    "MEDDIG": "2016-07-21",
                                    "(No column name)": "2"
                                },
                                {
                                    "USERNEV": "ESZTERE",
                                    "METTOL": "2016-11-01",
                                    "MEDDIG": "2016-11-08",
                                    "(No column name)": "4"
                                },
                                {
                                    "USERNEV": "ESZTERE",
                                    "METTOL": "2017-02-10",
                                    "MEDDIG": "2017-02-14",
                                    "(No column name)": "6"
                                },
                                {
                                    "USERNEV": "eva",
                                    "METTOL": "2016-10-06",
                                    "MEDDIG": "2016-10-09",
                                    "(No column name)": "NULL"
                                },
                                {
                                    "USERNEV": "eva",
                                    "METTOL": "2017-01-14",
                                    "MEDDIG": "2017-01-16",
                                    "(No column name)": "3"
                                },
                                {
                                    "USERNEV": "eva2",
                                    "METTOL": "2016-09-02",
                                    "MEDDIG": "2016-09-03",
                                    "(No column name)": "NULL"
                                },
                                {
                                    "USERNEV": "eva2",
                                    "METTOL": "2016-11-06",
                                    "MEDDIG": "2016-11-13",
                                    "(No column name)": "1"
                                },
                                {
                                    "USERNEV": "eva2",
                                    "METTOL": "2016-12-06",
                                    "MEDDIG": "2016-12-11",
                                    "(No column name)": "3"
                                },
                                {
                                    "USERNEV": "eva2",
                                    "METTOL": "2017-01-06",
                                    "MEDDIG": "2017-01-09",
                                    "(No column name)": "5"
                                },
                                {
                                    "USERNEV": "EVAV",
                                    "METTOL": "2016-05-01",
                                    "MEDDIG": "2016-05-05",
                                    "(No column name)": "NULL"
                                },
                                {
                                    "USERNEV": "EVAV",
                                    "METTOL": "2016-08-31",
                                    "MEDDIG": "2016-09-04",
                                    "(No column name)": "3"
                                },
                                {
                                    "USERNEV": "EVAV",
                                    "METTOL": "2016-10-15",
                                    "MEDDIG": "2016-10-21",
                                    "(No column name)": "5"
                                },
                                {
                                    "USERNEV": "EVAV",
                                    "METTOL": "2016-10-16",
                                    "MEDDIG": "2016-10-23",
                                    "(No column name)": "8"
                                },
                                {
                                    "USERNEV": "EVAV",
                                    "METTOL": "2017-02-04",
                                    "MEDDIG": "2017-02-11",
                                    "(No column name)": "7"
                                },
                                {
                                    "USERNEV": "ferenc1",
                                    "METTOL": "2016-05-08",
                                    "MEDDIG": "2016-05-11",
                                    "(No column name)": "NULL"
                                },
                                {
                                    "USERNEV": "ferenc1",
                                    "METTOL": "2016-06-16",
                                    "MEDDIG": "2016-06-22",
                                    "(No column name)": "2"
                                },
                                {
                                    "USERNEV": "ferenc1",
                                    "METTOL": "2016-10-08",
                                    "MEDDIG": "2016-10-09",
                                    "(No column name)": "4"
                                },
                                {
                                    "USERNEV": "ferenc1",
                                    "METTOL": "2016-11-07",
                                    "MEDDIG": "2016-11-08",
                                    "(No column name)": "6"
                                },
                                {
                                    "USERNEV": "fruzsina4",
                                    "METTOL": "2016-06-02",
                                    "MEDDIG": "2016-06-04",
                                    "(No column name)": "NULL"
                                },
                                {
                                    "USERNEV": "fruzsina4",
                                    "METTOL": "2016-07-01",
                                    "MEDDIG": "2016-07-04",
                                    "(No column name)": "2"
                                },
                                {
                                    "USERNEV": "fruzsina4",
                                    "METTOL": "2016-07-13",
                                    "MEDDIG": "2016-07-19",
                                    "(No column name)": "5"
                                },
                                {
                                    "USERNEV": "fruzsina4",
                                    "METTOL": "2016-08-27",
                                    "MEDDIG": "2016-08-30",
                                    "(No column name)": "8"
                                },
                                {
                                    "USERNEV": "fruzsina4",
                                    "METTOL": "2016-09-29",
                                    "MEDDIG": "2016-10-01",
                                    "(No column name)": "10"
                                },
                                {
                                    "USERNEV": "fruzsina4",
                                    "METTOL": "2016-11-22",
                                    "MEDDIG": "2016-11-24",
                                    "(No column name)": "10"
                                },
                                {
                                    "USERNEV": "fruzsina4",
                                    "METTOL": "2016-12-16",
                                    "MEDDIG": "2016-12-21",
                                    "(No column name)": "9"
                                },
                                {
                                    "USERNEV": "fruzsina4",
                                    "METTOL": "2017-01-22",
                                    "MEDDIG": "2017-01-25",
                                    "(No column name)": "6"
                                },
                                {
                                    "USERNEV": "gabor1",
                                    "METTOL": "2016-06-20",
                                    "MEDDIG": "2016-06-21",
                                    "(No column name)": "NULL"
                                },
                                {
                                    "USERNEV": "gabor1",
                                    "METTOL": "2016-07-12",
                                    "MEDDIG": "2016-07-15",
                                    "(No column name)": "4"
                                },
                                {
                                    "USERNEV": "gabor1",
                                    "METTOL": "2016-07-28",
                                    "MEDDIG": "2016-07-30",
                                    "(No column name)": "5"
                                },
                                {
                                    "USERNEV": "gabor1",
                                    "METTOL": "2016-09-02",
                                    "MEDDIG": "2016-09-03",
                                    "(No column name)": "7"
                                },
                                {
                                    "USERNEV": "gabor1",
                                    "METTOL": "2016-10-20",
                                    "MEDDIG": "2016-10-24",
                                    "(No column name)": "6"
                                },
                                {
                                    "USERNEV": "gabor1",
                                    "METTOL": "2016-11-19",
                                    "MEDDIG": "2016-11-22",
                                    "(No column name)": "6"
                                },
                                {
                                    "USERNEV": "gabor4",
                                    "METTOL": "2016-04-26",
                                    "MEDDIG": "2016-04-29",
                                    "(No column name)": "NULL"
                                },
                                {
                                    "USERNEV": "gabor4",
                                    "METTOL": "2016-05-30",
                                    "MEDDIG": "2016-06-05",
                                    "(No column name)": "3"
                                },
                                {
                                    "USERNEV": "gabor4",
                                    "METTOL": "2016-08-31",
                                    "MEDDIG": "2016-09-06",
                                    "(No column name)": "4"
                                },
                                {
                                    "USERNEV": "gabor4",
                                    "METTOL": "2016-11-07",
                                    "MEDDIG": "2016-11-13",
                                    "(No column name)": "8"
                                },
                                {
                                    "USERNEV": "gabriella1",
                                    "METTOL": "2016-04-21",
                                    "MEDDIG": "2016-04-24",
                                    "(No column name)": "NULL"
                                },
                                {
                                    "USERNEV": "gabriella1",
                                    "METTOL": "2016-07-10",
                                    "MEDDIG": "2016-07-11",
                                    "(No column name)": "3"
                                },
                                {
                                    "USERNEV": "gabriella1",
                                    "METTOL": "2016-07-24",
                                    "MEDDIG": "2016-07-31",
                                    "(No column name)": "6"
                                },
                                {
                                    "USERNEV": "gabriella1",
                                    "METTOL": "2017-02-04",
                                    "MEDDIG": "2017-02-11",
                                    "(No column name)": "8"
                                },
                                {
                                    "USERNEV": "gabriella1",
                                    "METTOL": "2017-02-12",
                                    "MEDDIG": "2017-02-13",
                                    "(No column name)": "8"
                                },
                                {
                                    "USERNEV": "gabriella1",
                                    "METTOL": "2017-02-21",
                                    "MEDDIG": "2017-02-27",
                                    "(No column name)": "7"
                                },
                                {
                                    "USERNEV": "gabriella10",
                                    "METTOL": "2016-10-01",
                                    "MEDDIG": "2016-10-06",
                                    "(No column name)": "NULL"
                                },
                                {
                                    "USERNEV": "georgij",
                                    "METTOL": "2016-06-16",
                                    "MEDDIG": "2016-06-20",
                                    "(No column name)": "NULL"
                                },
                                {
                                    "USERNEV": "georgij",
                                    "METTOL": "2016-08-16",
                                    "MEDDIG": "2016-08-22",
                                    "(No column name)": "3"
                                },
                                {
                                    "USERNEV": "georgij",
                                    "METTOL": "2016-08-28",
                                    "MEDDIG": "2016-09-04",
                                    "(No column name)": "7"
                                },
                                {
                                    "USERNEV": "georgij",
                                    "METTOL": "2016-09-18",
                                    "MEDDIG": "2016-09-24",
                                    "(No column name)": "9"
                                },
                                {
                                    "USERNEV": "gusztav",
                                    "METTOL": "2016-05-06",
                                    "MEDDIG": "2016-05-13",
                                    "(No column name)": "NULL"
                                },
                                {
                                    "USERNEV": "gusztav",
                                    "METTOL": "2016-08-05",
                                    "MEDDIG": "2016-08-11",
                                    "(No column name)": "2"
                                },
                                {
                                    "USERNEV": "gusztav",
                                    "METTOL": "2016-10-01",
                                    "MEDDIG": "2016-10-03",
                                    "(No column name)": "5"
                                },
                                {
                                    "USERNEV": "gusztav",
                                    "METTOL": "2017-02-03",
                                    "MEDDIG": "2017-02-09",
                                    "(No column name)": "8"
                                },
                                {
                                    "USERNEV": "gusztav",
                                    "METTOL": "2017-02-23",
                                    "MEDDIG": "2017-03-01",
                                    "(No column name)": "8"
                                },
                                {
                                    "USERNEV": "GYONGYIK",
                                    "METTOL": "2016-06-02",
                                    "MEDDIG": "2016-06-05",
                                    "(No column name)": "NULL"
                                },
                                {
                                    "USERNEV": "GYONGYIK",
                                    "METTOL": "2016-06-10",
                                    "MEDDIG": "2016-06-17",
                                    "(No column name)": "3"
                                },
                                {
                                    "USERNEV": "GYONGYIK",
                                    "METTOL": "2016-07-01",
                                    "MEDDIG": "2016-07-05",
                                    "(No column name)": "4"
                                },
                                {
                                    "USERNEV": "GYONGYIK",
                                    "METTOL": "2016-08-17",
                                    "MEDDIG": "2016-08-21",
                                    "(No column name)": "6"
                                },
                                {
                                    "USERNEV": "GYONGYIK",
                                    "METTOL": "2016-11-08",
                                    "MEDDIG": "2016-11-13",
                                    "(No column name)": "6"
                                },
                                {
                                    "USERNEV": "GYONGYIK",
                                    "METTOL": "2016-12-01",
                                    "MEDDIG": "2016-12-08",
                                    "(No column name)": "7"
                                },
                                {
                                    "USERNEV": "GYONGYIK",
                                    "METTOL": "2017-01-22",
                                    "MEDDIG": "2017-01-29",
                                    "(No column name)": "7"
                                },
                                {
                                    "USERNEV": "GYORGYO",
                                    "METTOL": "2016-05-27",
                                    "MEDDIG": "2016-05-28",
                                    "(No column name)": "NULL"
                                },
                                {
                                    "USERNEV": "GYORGYO",
                                    "METTOL": "2016-06-01",
                                    "MEDDIG": "2016-06-07",
                                    "(No column name)": "3"
                                },
                                {
                                    "USERNEV": "GYORGYO",
                                    "METTOL": "2016-06-10",
                                    "MEDDIG": "2016-06-15",
                                    "(No column name)": "5"
                                },
                                {
                                    "USERNEV": "GYORGYO",
                                    "METTOL": "2016-07-18",
                                    "MEDDIG": "2016-07-25",
                                    "(No column name)": "7"
                                },
                                {
                                    "USERNEV": "GYORGYO",
                                    "METTOL": "2016-07-28",
                                    "MEDDIG": "2016-08-03",
                                    "(No column name)": "6"
                                },
                                {
                                    "USERNEV": "GYORGYO",
                                    "METTOL": "2016-10-28",
                                    "MEDDIG": "2016-10-31",
                                    "(No column name)": "7"
                                },
                                {
                                    "USERNEV": "GYORGYO",
                                    "METTOL": "2017-02-13",
                                    "MEDDIG": "2017-02-15",
                                    "(No column name)": "6"
                                },
                                {
                                    "USERNEV": "GYORGYO",
                                    "METTOL": "2017-02-24",
                                    "MEDDIG": "2017-02-25",
                                    "(No column name)": "6"
                                },
                                {
                                    "USERNEV": "henrik3",
                                    "METTOL": "2016-08-24",
                                    "MEDDIG": "2016-08-28",
                                    "(No column name)": "NULL"
                                },
                                {
                                    "USERNEV": "henrik3",
                                    "METTOL": "2016-12-29",
                                    "MEDDIG": "2017-01-03",
                                    "(No column name)": "1"
                                },
                                {
                                    "USERNEV": "henrik3",
                                    "METTOL": "2017-01-27",
                                    "MEDDIG": "2017-01-28",
                                    "(No column name)": "4"
                                },
                                {
                                    "USERNEV": "IBOLYAA",
                                    "METTOL": "2016-08-29",
                                    "MEDDIG": "2016-08-31",
                                    "(No column name)": "NULL"
                                },
                                {
                                    "USERNEV": "IBOLYAA",
                                    "METTOL": "2016-10-23",
                                    "MEDDIG": "2016-10-28",
                                    "(No column name)": "5"
                                },
                                {
                                    "USERNEV": "IBOLYAA",
                                    "METTOL": "2017-01-17",
                                    "MEDDIG": "2017-01-23",
                                    "(No column name)": "7"
                                },
                                {
                                    "USERNEV": "ilona3",
                                    "METTOL": "2016-07-31",
                                    "MEDDIG": "2016-08-06",
                                    "(No column name)": "NULL"
                                },
                                {
                                    "USERNEV": "ilona3",
                                    "METTOL": "2016-08-04",
                                    "MEDDIG": "2016-08-08",
                                    "(No column name)": "2"
                                },
                                {
                                    "USERNEV": "ilona3",
                                    "METTOL": "2016-11-04",
                                    "MEDDIG": "2016-11-06",
                                    "(No column name)": "5"
                                },
                                {
                                    "USERNEV": "ilona3",
                                    "METTOL": "2016-12-25",
                                    "MEDDIG": "2016-12-31",
                                    "(No column name)": "9"
                                },
                                {
                                    "USERNEV": "imre",
                                    "METTOL": "2016-09-17",
                                    "MEDDIG": "2016-09-19",
                                    "(No column name)": "NULL"
                                },
                                {
                                    "USERNEV": "imre",
                                    "METTOL": "2016-10-28",
                                    "MEDDIG": "2016-10-29",
                                    "(No column name)": "3"
                                },
                                {
                                    "USERNEV": "imre1",
                                    "METTOL": "2016-06-23",
                                    "MEDDIG": "2016-06-26",
                                    "(No column name)": "NULL"
                                },
                                {
                                    "USERNEV": "imre1",
                                    "METTOL": "2016-06-27",
                                    "MEDDIG": "2016-06-28",
                                    "(No column name)": "4"
                                },
                                {
                                    "USERNEV": "imre1",
                                    "METTOL": "2016-08-21",
                                    "MEDDIG": "2016-08-27",
                                    "(No column name)": "6"
                                },
                                {
                                    "USERNEV": "imre1",
                                    "METTOL": "2016-08-23",
                                    "MEDDIG": "2016-08-25",
                                    "(No column name)": "8"
                                },
                                {
                                    "USERNEV": "imre1",
                                    "METTOL": "2016-08-29",
                                    "MEDDIG": "2016-08-31",
                                    "(No column name)": "7"
                                },
                                {
                                    "USERNEV": "imre1",
                                    "METTOL": "2017-02-01",
                                    "MEDDIG": "2017-02-04",
                                    "(No column name)": "7"
                                },
                                {
                                    "USERNEV": "imre1",
                                    "METTOL": "2017-02-05",
                                    "MEDDIG": "2017-02-07",
                                    "(No column name)": "7"
                                },
                                {
                                    "USERNEV": "istvan",
                                    "METTOL": "2016-10-07",
                                    "MEDDIG": "2016-10-10",
                                    "(No column name)": "NULL"
                                },
                                {
                                    "USERNEV": "istvan",
                                    "METTOL": "2016-11-22",
                                    "MEDDIG": "2016-11-24",
                                    "(No column name)": "2"
                                },
                                {
                                    "USERNEV": "istvan",
                                    "METTOL": "2017-01-02",
                                    "MEDDIG": "2017-01-05",
                                    "(No column name)": "5"
                                },
                                {
                                    "USERNEV": "istvan1",
                                    "METTOL": "2016-04-16",
                                    "MEDDIG": "2016-04-22",
                                    "(No column name)": "NULL"
                                },
                                {
                                    "USERNEV": "istvan1",
                                    "METTOL": "2016-04-24",
                                    "MEDDIG": "2016-04-28",
                                    "(No column name)": "3"
                                },
                                {
                                    "USERNEV": "istvan1",
                                    "METTOL": "2016-07-19",
                                    "MEDDIG": "2016-07-24",
                                    "(No column name)": "6"
                                },
                                {
                                    "USERNEV": "istvan1",
                                    "METTOL": "2017-02-07",
                                    "MEDDIG": "2017-02-10",
                                    "(No column name)": "7"
                                },
                                {
                                    "USERNEV": "ISTVANV",
                                    "METTOL": "2016-07-01",
                                    "MEDDIG": "2016-07-04",
                                    "(No column name)": "NULL"
                                },
                                {
                                    "USERNEV": "ISTVANV",
                                    "METTOL": "2016-09-29",
                                    "MEDDIG": "2016-10-01",
                                    "(No column name)": "4"
                                },
                                {
                                    "USERNEV": "janos3",
                                    "METTOL": "2016-06-04",
                                    "MEDDIG": "2016-06-06",
                                    "(No column name)": "NULL"
                                },
                                {
                                    "USERNEV": "janos3",
                                    "METTOL": "2016-08-24",
                                    "MEDDIG": "2016-08-25",
                                    "(No column name)": "1"
                                },
                                {
                                    "USERNEV": "janos3",
                                    "METTOL": "2016-10-03",
                                    "MEDDIG": "2016-10-08",
                                    "(No column name)": "4"
                                },
                                {
                                    "USERNEV": "janos3",
                                    "METTOL": "2016-10-22",
                                    "MEDDIG": "2016-10-23",
                                    "(No column name)": "7"
                                },
                                {
                                    "USERNEV": "janos3",
                                    "METTOL": "2017-02-12",
                                    "MEDDIG": "2017-02-14",
                                    "(No column name)": "7"
                                },
                                {
                                    "USERNEV": "JANOSG",
                                    "METTOL": "2016-05-09",
                                    "MEDDIG": "2016-05-15",
                                    "(No column name)": "NULL"
                                },
                                {
                                    "USERNEV": "JANOSG",
                                    "METTOL": "2016-08-16",
                                    "MEDDIG": "2016-08-23",
                                    "(No column name)": "1"
                                },
                                {
                                    "USERNEV": "JANOSG",
                                    "METTOL": "2016-08-30",
                                    "MEDDIG": "2016-09-03",
                                    "(No column name)": "4"
                                },
                                {
                                    "USERNEV": "JANOSG",
                                    "METTOL": "2016-11-07",
                                    "MEDDIG": "2016-11-14",
                                    "(No column name)": "7"
                                },
                                {
                                    "USERNEV": "JANOSG",
                                    "METTOL": "2016-12-28",
                                    "MEDDIG": "2016-12-30",
                                    "(No column name)": "9"
                                },
                                {
                                    "USERNEV": "JANOSG",
                                    "METTOL": "2017-01-10",
                                    "MEDDIG": "2017-01-15",
                                    "(No column name)": "8"
                                },
                                {
                                    "USERNEV": "JANOSG",
                                    "METTOL": "2017-01-31",
                                    "MEDDIG": "2017-02-05",
                                    "(No column name)": "7"
                                },
                                {
                                    "USERNEV": "JANOSP",
                                    "METTOL": "2016-07-04",
                                    "MEDDIG": "2016-07-11",
                                    "(No column name)": "NULL"
                                },
                                {
                                    "USERNEV": "JANOSP",
                                    "METTOL": "2016-11-23",
                                    "MEDDIG": "2016-11-28",
                                    "(No column name)": "3"
                                },
                                {
                                    "USERNEV": "JANOSP",
                                    "METTOL": "2016-11-25",
                                    "MEDDIG": "2016-11-27",
                                    "(No column name)": "5"
                                },
                                {
                                    "USERNEV": "JANOSP",
                                    "METTOL": "2016-12-18",
                                    "MEDDIG": "2016-12-21",
                                    "(No column name)": "7"
                                },
                                {
                                    "USERNEV": "jozsef",
                                    "METTOL": "2016-09-13",
                                    "MEDDIG": "2016-09-19",
                                    "(No column name)": "NULL"
                                },
                                {
                                    "USERNEV": "jozsef",
                                    "METTOL": "2016-10-08",
                                    "MEDDIG": "2016-10-10",
                                    "(No column name)": "2"
                                },
                                {
                                    "USERNEV": "jozsef",
                                    "METTOL": "2016-12-06",
                                    "MEDDIG": "2016-12-07",
                                    "(No column name)": "4"
                                },
                                {
                                    "USERNEV": "jozsef2",
                                    "METTOL": "2016-07-06",
                                    "MEDDIG": "2016-07-11",
                                    "(No column name)": "NULL"
                                },
                                {
                                    "USERNEV": "jozsef2",
                                    "METTOL": "2016-07-16",
                                    "MEDDIG": "2016-07-20",
                                    "(No column name)": "2"
                                },
                                {
                                    "USERNEV": "jozsef2",
                                    "METTOL": "2016-09-09",
                                    "MEDDIG": "2016-09-15",
                                    "(No column name)": "5"
                                },
                                {
                                    "USERNEV": "jozsef2",
                                    "METTOL": "2016-11-23",
                                    "MEDDIG": "2016-11-29",
                                    "(No column name)": "7"
                                },
                                {
                                    "USERNEV": "jozsef2",
                                    "METTOL": "2016-11-25",
                                    "MEDDIG": "2016-11-29",
                                    "(No column name)": "8"
                                },
                                {
                                    "USERNEV": "JOZSEFG",
                                    "METTOL": "2016-05-02",
                                    "MEDDIG": "2016-05-06",
                                    "(No column name)": "NULL"
                                },
                                {
                                    "USERNEV": "JOZSEFG",
                                    "METTOL": "2016-05-23",
                                    "MEDDIG": "2016-05-25",
                                    "(No column name)": "2"
                                },
                                {
                                    "USERNEV": "JOZSEFG",
                                    "METTOL": "2016-06-04",
                                    "MEDDIG": "2016-06-09",
                                    "(No column name)": "3"
                                },
                                {
                                    "USERNEV": "JOZSEFG",
                                    "METTOL": "2016-08-24",
                                    "MEDDIG": "2016-08-27",
                                    "(No column name)": "7"
                                },
                                {
                                    "USERNEV": "JOZSEFG",
                                    "METTOL": "2017-01-09",
                                    "MEDDIG": "2017-01-13",
                                    "(No column name)": "8"
                                },
                                {
                                    "USERNEV": "JOZSEFG",
                                    "METTOL": "2017-01-22",
                                    "MEDDIG": "2017-01-26",
                                    "(No column name)": "9"
                                },
                                {
                                    "USERNEV": "JOZSEFG",
                                    "METTOL": "2017-02-24",
                                    "MEDDIG": "2017-03-03",
                                    "(No column name)": "6"
                                },
                                {
                                    "USERNEV": "JUDITH",
                                    "METTOL": "2016-06-06",
                                    "MEDDIG": "2016-06-10",
                                    "(No column name)": "NULL"
                                },
                                {
                                    "USERNEV": "JUDITH",
                                    "METTOL": "2016-07-28",
                                    "MEDDIG": "2016-07-30",
                                    "(No column name)": "2"
                                },
                                {
                                    "USERNEV": "JUDITH",
                                    "METTOL": "2016-12-19",
                                    "MEDDIG": "2016-12-26",
                                    "(No column name)": "4"
                                },
                                {
                                    "USERNEV": "julia",
                                    "METTOL": "2016-04-21",
                                    "MEDDIG": "2016-04-26",
                                    "(No column name)": "NULL"
                                },
                                {
                                    "USERNEV": "julia",
                                    "METTOL": "2016-05-12",
                                    "MEDDIG": "2016-05-17",
                                    "(No column name)": "2"
                                },
                                {
                                    "USERNEV": "julia",
                                    "METTOL": "2016-06-07",
                                    "MEDDIG": "2016-06-08",
                                    "(No column name)": "3"
                                },
                                {
                                    "USERNEV": "julia",
                                    "METTOL": "2016-07-20",
                                    "MEDDIG": "2016-07-22",
                                    "(No column name)": "8"
                                },
                                {
                                    "USERNEV": "julia",
                                    "METTOL": "2017-02-27",
                                    "MEDDIG": "2017-03-06",
                                    "(No column name)": "8"
                                },
                                {
                                    "USERNEV": "julia4",
                                    "METTOL": "2016-11-07",
                                    "MEDDIG": "2016-11-12",
                                    "(No column name)": "NULL"
                                },
                                {
                                    "USERNEV": "julia4",
                                    "METTOL": "2017-02-04",
                                    "MEDDIG": "2017-02-11",
                                    "(No column name)": "1"
                                },
                                {
                                    "USERNEV": "julianna4",
                                    "METTOL": "2016-07-20",
                                    "MEDDIG": "2016-07-26",
                                    "(No column name)": "NULL"
                                },
                                {
                                    "USERNEV": "julianna4",
                                    "METTOL": "2016-10-29",
                                    "MEDDIG": "2016-10-31",
                                    "(No column name)": "2"
                                },
                                {
                                    "USERNEV": "julianna4",
                                    "METTOL": "2016-11-03",
                                    "MEDDIG": "2016-11-04",
                                    "(No column name)": "5"
                                },
                                {
                                    "USERNEV": "julianna4",
                                    "METTOL": "2016-11-27",
                                    "MEDDIG": "2016-12-04",
                                    "(No column name)": "7"
                                },
                                {
                                    "USERNEV": "kata",
                                    "METTOL": "2016-04-10",
                                    "MEDDIG": "2016-04-11",
                                    "(No column name)": "NULL"
                                },
                                {
                                    "USERNEV": "kata",
                                    "METTOL": "2016-04-25",
                                    "MEDDIG": "2016-05-01",
                                    "(No column name)": "2"
                                },
                                {
                                    "USERNEV": "kata",
                                    "METTOL": "2016-05-31",
                                    "MEDDIG": "2016-06-01",
                                    "(No column name)": "3"
                                },
                                {
                                    "USERNEV": "kata",
                                    "METTOL": "2016-06-07",
                                    "MEDDIG": "2016-06-12",
                                    "(No column name)": "6"
                                },
                                {
                                    "USERNEV": "kata",
                                    "METTOL": "2016-07-01",
                                    "MEDDIG": "2016-07-07",
                                    "(No column name)": "6"
                                },
                                {
                                    "USERNEV": "kata",
                                    "METTOL": "2016-07-03",
                                    "MEDDIG": "2016-07-06",
                                    "(No column name)": "7"
                                },
                                {
                                    "USERNEV": "kata",
                                    "METTOL": "2016-07-07",
                                    "MEDDIG": "2016-07-09",
                                    "(No column name)": "5"
                                },
                                {
                                    "USERNEV": "kata",
                                    "METTOL": "2016-08-24",
                                    "MEDDIG": "2016-08-27",
                                    "(No column name)": "6"
                                },
                                {
                                    "USERNEV": "kata",
                                    "METTOL": "2016-09-19",
                                    "MEDDIG": "2016-09-20",
                                    "(No column name)": "7"
                                },
                                {
                                    "USERNEV": "kata",
                                    "METTOL": "2017-01-15",
                                    "MEDDIG": "2017-01-21",
                                    "(No column name)": "9"
                                },
                                {
                                    "USERNEV": "katalin",
                                    "METTOL": "2016-04-10",
                                    "MEDDIG": "2016-04-17",
                                    "(No column name)": "NULL"
                                },
                                {
                                    "USERNEV": "katalin",
                                    "METTOL": "2016-05-21",
                                    "MEDDIG": "2016-05-26",
                                    "(No column name)": "2"
                                },
                                {
                                    "USERNEV": "katalin",
                                    "METTOL": "2016-07-06",
                                    "MEDDIG": "2016-07-11",
                                    "(No column name)": "3"
                                },
                                {
                                    "USERNEV": "katalin",
                                    "METTOL": "2016-07-28",
                                    "MEDDIG": "2016-07-29",
                                    "(No column name)": "4"
                                },
                                {
                                    "USERNEV": "katalin",
                                    "METTOL": "2016-10-26",
                                    "MEDDIG": "2016-10-30",
                                    "(No column name)": "3"
                                },
                                {
                                    "USERNEV": "katalin",
                                    "METTOL": "2016-12-13",
                                    "MEDDIG": "2016-12-19",
                                    "(No column name)": "4"
                                },
                                {
                                    "USERNEV": "katalin",
                                    "METTOL": "2016-12-17",
                                    "MEDDIG": "2016-12-24",
                                    "(No column name)": "5"
                                },
                                {
                                    "USERNEV": "katalin",
                                    "METTOL": "2016-12-24",
                                    "MEDDIG": "2016-12-27",
                                    "(No column name)": "5"
                                },
                                {
                                    "USERNEV": "katalin",
                                    "METTOL": "2017-02-24",
                                    "MEDDIG": "2017-02-27",
                                    "(No column name)": "5"
                                },
                                {
                                    "USERNEV": "katalin4",
                                    "METTOL": "2016-07-01",
                                    "MEDDIG": "2016-07-07",
                                    "(No column name)": "NULL"
                                },
                                {
                                    "USERNEV": "katalin4",
                                    "METTOL": "2016-07-03",
                                    "MEDDIG": "2016-07-04",
                                    "(No column name)": "1"
                                },
                                {
                                    "USERNEV": "katalin4",
                                    "METTOL": "2016-11-27",
                                    "MEDDIG": "2016-12-04",
                                    "(No column name)": "5"
                                },
                                {
                                    "USERNEV": "katalin4",
                                    "METTOL": "2016-12-04",
                                    "MEDDIG": "2016-12-09",
                                    "(No column name)": "8"
                                },
                                {
                                    "USERNEV": "katalin4",
                                    "METTOL": "2017-01-18",
                                    "MEDDIG": "2017-01-20",
                                    "(No column name)": "10"
                                },
                                {
                                    "USERNEV": "katalin4",
                                    "METTOL": "2017-01-24",
                                    "MEDDIG": "2017-01-31",
                                    "(No column name)": "8"
                                },
                                {
                                    "USERNEV": "kati",
                                    "METTOL": "2016-06-06",
                                    "MEDDIG": "2016-06-10",
                                    "(No column name)": "NULL"
                                },
                                {
                                    "USERNEV": "kati",
                                    "METTOL": "2016-06-06",
                                    "MEDDIG": "2016-06-11",
                                    "(No column name)": "2"
                                },
                                {
                                    "USERNEV": "kati",
                                    "METTOL": "2016-07-13",
                                    "MEDDIG": "2016-07-20",
                                    "(No column name)": "5"
                                },
                                {
                                    "USERNEV": "kati",
                                    "METTOL": "2016-07-27",
                                    "MEDDIG": "2016-08-03",
                                    "(No column name)": "7"
                                },
                                {
                                    "USERNEV": "kati",
                                    "METTOL": "2016-08-03",
                                    "MEDDIG": "2016-08-07",
                                    "(No column name)": "7"
                                },
                                {
                                    "USERNEV": "kati",
                                    "METTOL": "2016-10-26",
                                    "MEDDIG": "2016-10-28",
                                    "(No column name)": "6"
                                },
                                {
                                    "USERNEV": "kati",
                                    "METTOL": "2016-10-30",
                                    "MEDDIG": "2016-11-01",
                                    "(No column name)": "6"
                                },
                                {
                                    "USERNEV": "katka",
                                    "METTOL": "2016-04-10",
                                    "MEDDIG": "2016-04-12",
                                    "(No column name)": "NULL"
                                },
                                {
                                    "USERNEV": "katka",
                                    "METTOL": "2016-05-09",
                                    "MEDDIG": "2016-05-15",
                                    "(No column name)": "2"
                                },
                                {
                                    "USERNEV": "katka",
                                    "METTOL": "2016-06-13",
                                    "MEDDIG": "2016-06-18",
                                    "(No column name)": "5"
                                },
                                {
                                    "USERNEV": "katka",
                                    "METTOL": "2016-06-13",
                                    "MEDDIG": "2016-06-19",
                                    "(No column name)": "6"
                                },
                                {
                                    "USERNEV": "katka",
                                    "METTOL": "2016-08-24",
                                    "MEDDIG": "2016-08-26",
                                    "(No column name)": "8"
                                },
                                {
                                    "USERNEV": "katka",
                                    "METTOL": "2016-09-05",
                                    "MEDDIG": "2016-09-10",
                                    "(No column name)": "7"
                                },
                                {
                                    "USERNEV": "katka",
                                    "METTOL": "2016-11-05",
                                    "MEDDIG": "2016-11-08",
                                    "(No column name)": "10"
                                },
                                {
                                    "USERNEV": "katka",
                                    "METTOL": "2017-01-02",
                                    "MEDDIG": "2017-01-05",
                                    "(No column name)": "9"
                                },
                                {
                                    "USERNEV": "katka",
                                    "METTOL": "2017-01-19",
                                    "MEDDIG": "2017-01-20",
                                    "(No column name)": "10"
                                },
                                {
                                    "USERNEV": "klaudia2",
                                    "METTOL": "2016-06-06",
                                    "MEDDIG": "2016-06-08",
                                    "(No column name)": "NULL"
                                },
                                {
                                    "USERNEV": "klaudia2",
                                    "METTOL": "2016-10-01",
                                    "MEDDIG": "2016-10-02",
                                    "(No column name)": "4"
                                },
                                {
                                    "USERNEV": "klaudia2",
                                    "METTOL": "2016-10-02",
                                    "MEDDIG": "2016-10-05",
                                    "(No column name)": "6"
                                },
                                {
                                    "USERNEV": "kornel4",
                                    "METTOL": "2016-05-08",
                                    "MEDDIG": "2016-05-14",
                                    "(No column name)": "NULL"
                                },
                                {
                                    "USERNEV": "kornel4",
                                    "METTOL": "2016-06-02",
                                    "MEDDIG": "2016-06-09",
                                    "(No column name)": "3"
                                },
                                {
                                    "USERNEV": "kornel4",
                                    "METTOL": "2016-09-23",
                                    "MEDDIG": "2016-09-24",
                                    "(No column name)": "6"
                                },
                                {
                                    "USERNEV": "kristof4",
                                    "METTOL": "2016-04-08",
                                    "MEDDIG": "2016-04-14",
                                    "(No column name)": "NULL"
                                },
                                {
                                    "USERNEV": "kristof4",
                                    "METTOL": "2016-09-30",
                                    "MEDDIG": "2016-10-04",
                                    "(No column name)": "2"
                                },
                                {
                                    "USERNEV": "kriszti",
                                    "METTOL": "2016-05-19",
                                    "MEDDIG": "2016-05-26",
                                    "(No column name)": "NULL"
                                },
                                {
                                    "USERNEV": "kriszti",
                                    "METTOL": "2016-08-24",
                                    "MEDDIG": "2016-08-25",
                                    "(No column name)": "2"
                                },
                                {
                                    "USERNEV": "kriszti",
                                    "METTOL": "2016-09-30",
                                    "MEDDIG": "2016-10-05",
                                    "(No column name)": "5"
                                },
                                {
                                    "USERNEV": "kriszti",
                                    "METTOL": "2016-10-01",
                                    "MEDDIG": "2016-10-02",
                                    "(No column name)": "8"
                                },
                                {
                                    "USERNEV": "kriszti",
                                    "METTOL": "2017-02-04",
                                    "MEDDIG": "2017-02-11",
                                    "(No column name)": "9"
                                },
                                {
                                    "USERNEV": "kriszti",
                                    "METTOL": "2017-03-03",
                                    "MEDDIG": "2017-03-04",
                                    "(No column name)": "9"
                                },
                                {
                                    "USERNEV": "krisztian4",
                                    "METTOL": "2016-06-03",
                                    "MEDDIG": "2016-06-04",
                                    "(No column name)": "NULL"
                                },
                                {
                                    "USERNEV": "krisztian4",
                                    "METTOL": "2016-06-07",
                                    "MEDDIG": "2016-06-09",
                                    "(No column name)": "2"
                                },
                                {
                                    "USERNEV": "krisztian4",
                                    "METTOL": "2016-07-28",
                                    "MEDDIG": "2016-08-01",
                                    "(No column name)": "4"
                                },
                                {
                                    "USERNEV": "krisztian4",
                                    "METTOL": "2016-08-01",
                                    "MEDDIG": "2016-08-04",
                                    "(No column name)": "6"
                                },
                                {
                                    "USERNEV": "krisztian4",
                                    "METTOL": "2016-08-16",
                                    "MEDDIG": "2016-08-19",
                                    "(No column name)": "7"
                                },
                                {
                                    "USERNEV": "krisztian4",
                                    "METTOL": "2016-08-29",
                                    "MEDDIG": "2016-09-03",
                                    "(No column name)": "6"
                                },
                                {
                                    "USERNEV": "krisztian4",
                                    "METTOL": "2016-10-17",
                                    "MEDDIG": "2016-10-22",
                                    "(No column name)": "5"
                                },
                                {
                                    "USERNEV": "krisztian4",
                                    "METTOL": "2016-11-02",
                                    "MEDDIG": "2016-11-03",
                                    "(No column name)": "5"
                                },
                                {
                                    "USERNEV": "krisztian4",
                                    "METTOL": "2016-12-11",
                                    "MEDDIG": "2016-12-18",
                                    "(No column name)": "6"
                                },
                                {
                                    "USERNEV": "krisztian4",
                                    "METTOL": "2017-01-06",
                                    "MEDDIG": "2017-01-09",
                                    "(No column name)": "7"
                                },
                                {
                                    "USERNEV": "krisztian4",
                                    "METTOL": "2017-01-16",
                                    "MEDDIG": "2017-01-23",
                                    "(No column name)": "5"
                                },
                                {
                                    "USERNEV": "krisztian4",
                                    "METTOL": "2017-02-23",
                                    "MEDDIG": "2017-03-02",
                                    "(No column name)": "6"
                                },
                                {
                                    "USERNEV": "KRISZTIANM",
                                    "METTOL": "2016-04-09",
                                    "MEDDIG": "2016-04-15",
                                    "(No column name)": "NULL"
                                },
                                {
                                    "USERNEV": "KRISZTIANM",
                                    "METTOL": "2016-06-04",
                                    "MEDDIG": "2016-06-08",
                                    "(No column name)": "2"
                                },
                                {
                                    "USERNEV": "KRISZTIANM",
                                    "METTOL": "2016-07-09",
                                    "MEDDIG": "2016-07-14",
                                    "(No column name)": "4"
                                },
                                {
                                    "USERNEV": "KRISZTIANM",
                                    "METTOL": "2016-08-02",
                                    "MEDDIG": "2016-08-08",
                                    "(No column name)": "7"
                                },
                                {
                                    "USERNEV": "KRISZTIANM",
                                    "METTOL": "2016-12-25",
                                    "MEDDIG": "2016-12-31",
                                    "(No column name)": "9"
                                },
                                {
                                    "USERNEV": "KRISZTIANM",
                                    "METTOL": "2017-01-16",
                                    "MEDDIG": "2017-01-23",
                                    "(No column name)": "9"
                                },
                                {
                                    "USERNEV": "krisztina",
                                    "METTOL": "2016-05-21",
                                    "MEDDIG": "2016-05-27",
                                    "(No column name)": "NULL"
                                },
                                {
                                    "USERNEV": "krisztina",
                                    "METTOL": "2016-07-05",
                                    "MEDDIG": "2016-07-12",
                                    "(No column name)": "2"
                                },
                                {
                                    "USERNEV": "krisztina",
                                    "METTOL": "2016-09-13",
                                    "MEDDIG": "2016-09-16",
                                    "(No column name)": "5"
                                },
                                {
                                    "USERNEV": "krisztina",
                                    "METTOL": "2016-09-19",
                                    "MEDDIG": "2016-09-26",
                                    "(No column name)": "6"
                                },
                                {
                                    "USERNEV": "krisztina",
                                    "METTOL": "2016-11-08",
                                    "MEDDIG": "2016-11-12",
                                    "(No column name)": "6"
                                },
                                {
                                    "USERNEV": "krisztina",
                                    "METTOL": "2016-11-22",
                                    "MEDDIG": "2016-11-25",
                                    "(No column name)": "5"
                                },
                                {
                                    "USERNEV": "krisztina",
                                    "METTOL": "2017-02-05",
                                    "MEDDIG": "2017-02-07",
                                    "(No column name)": "5"
                                },
                                {
                                    "USERNEV": "krisztina",
                                    "METTOL": "2017-02-16",
                                    "MEDDIG": "2017-02-20",
                                    "(No column name)": "5"
                                },
                                {
                                    "USERNEV": "krisztina1",
                                    "METTOL": "2016-04-28",
                                    "MEDDIG": "2016-04-30",
                                    "(No column name)": "NULL"
                                },
                                {
                                    "USERNEV": "krisztina1",
                                    "METTOL": "2016-05-16",
                                    "MEDDIG": "2016-05-20",
                                    "(No column name)": "2"
                                },
                                {
                                    "USERNEV": "krisztina1",
                                    "METTOL": "2016-06-16",
                                    "MEDDIG": "2016-06-22",
                                    "(No column name)": "3"
                                },
                                {
                                    "USERNEV": "krisztina1",
                                    "METTOL": "2016-09-15",
                                    "MEDDIG": "2016-09-20",
                                    "(No column name)": "5"
                                },
                                {
                                    "USERNEV": "krisztina1",
                                    "METTOL": "2016-10-29",
                                    "MEDDIG": "2016-10-30",
                                    "(No column name)": "6"
                                },
                                {
                                    "USERNEV": "krisztina1",
                                    "METTOL": "2017-01-21",
                                    "MEDDIG": "2017-01-24",
                                    "(No column name)": "9"
                                },
                                {
                                    "USERNEV": "KRISZTINAG",
                                    "METTOL": "2016-04-23",
                                    "MEDDIG": "2016-04-24",
                                    "(No column name)": "NULL"
                                },
                                {
                                    "USERNEV": "KRISZTINAG",
                                    "METTOL": "2016-05-24",
                                    "MEDDIG": "2016-05-31",
                                    "(No column name)": "2"
                                },
                                {
                                    "USERNEV": "KRISZTINAG",
                                    "METTOL": "2016-06-08",
                                    "MEDDIG": "2016-06-12",
                                    "(No column name)": "3"
                                },
                                {
                                    "USERNEV": "KRISZTINAG",
                                    "METTOL": "2016-08-08",
                                    "MEDDIG": "2016-08-12",
                                    "(No column name)": "4"
                                },
                                {
                                    "USERNEV": "KRISZTINAG",
                                    "METTOL": "2017-01-25",
                                    "MEDDIG": "2017-01-30",
                                    "(No column name)": "5"
                                },
                                {
                                    "USERNEV": "lajos",
                                    "METTOL": "2016-07-18",
                                    "MEDDIG": "2016-07-21",
                                    "(No column name)": "NULL"
                                },
                                {
                                    "USERNEV": "lajos",
                                    "METTOL": "2016-12-25",
                                    "MEDDIG": "2016-12-28",
                                    "(No column name)": "2"
                                },
                                {
                                    "USERNEV": "lajos",
                                    "METTOL": "2017-02-12",
                                    "MEDDIG": "2017-02-13",
                                    "(No column name)": "6"
                                },
                                {
                                    "USERNEV": "lala",
                                    "METTOL": "2016-06-16",
                                    "MEDDIG": "2016-06-22",
                                    "(No column name)": "NULL"
                                },
                                {
                                    "USERNEV": "lala",
                                    "METTOL": "2016-07-20",
                                    "MEDDIG": "2016-07-21",
                                    "(No column name)": "2"
                                },
                                {
                                    "USERNEV": "lala",
                                    "METTOL": "2016-07-26",
                                    "MEDDIG": "2016-07-27",
                                    "(No column name)": "5"
                                },
                                {
                                    "USERNEV": "lala",
                                    "METTOL": "2016-10-30",
                                    "MEDDIG": "2016-10-31",
                                    "(No column name)": "8"
                                },
                                {
                                    "USERNEV": "lala",
                                    "METTOL": "2017-01-08",
                                    "MEDDIG": "2017-01-10",
                                    "(No column name)": "9"
                                },
                                {
                                    "USERNEV": "lala",
                                    "METTOL": "2017-01-17",
                                    "MEDDIG": "2017-01-19",
                                    "(No column name)": "9"
                                },
                                {
                                    "USERNEV": "laszlo1",
                                    "METTOL": "2016-09-23",
                                    "MEDDIG": "2016-09-30",
                                    "(No column name)": "NULL"
                                },
                                {
                                    "USERNEV": "laszlo2",
                                    "METTOL": "2016-04-06",
                                    "MEDDIG": "2016-04-10",
                                    "(No column name)": "NULL"
                                },
                                {
                                    "USERNEV": "laszlo2",
                                    "METTOL": "2016-04-27",
                                    "MEDDIG": "2016-04-29",
                                    "(No column name)": "2"
                                },
                                {
                                    "USERNEV": "laszlo2",
                                    "METTOL": "2016-08-14",
                                    "MEDDIG": "2016-08-15",
                                    "(No column name)": "4"
                                },
                                {
                                    "USERNEV": "laszlo2",
                                    "METTOL": "2016-09-05",
                                    "MEDDIG": "2016-09-10",
                                    "(No column name)": "7"
                                },
                                {
                                    "USERNEV": "laszlo2",
                                    "METTOL": "2016-11-25",
                                    "MEDDIG": "2016-11-26",
                                    "(No column name)": "8"
                                },
                                {
                                    "USERNEV": "LASZLOA",
                                    "METTOL": "2016-06-03",
                                    "MEDDIG": "2016-06-09",
                                    "(No column name)": "NULL"
                                },
                                {
                                    "USERNEV": "LASZLOA",
                                    "METTOL": "2016-06-07",
                                    "MEDDIG": "2016-06-11",
                                    "(No column name)": "2"
                                },
                                {
                                    "USERNEV": "LASZLOA",
                                    "METTOL": "2016-06-10",
                                    "MEDDIG": "2016-06-13",
                                    "(No column name)": "3"
                                },
                                {
                                    "USERNEV": "LASZLOA",
                                    "METTOL": "2017-02-08",
                                    "MEDDIG": "2017-02-14",
                                    "(No column name)": "6"
                                },
                                {
                                    "USERNEV": "LASZLON",
                                    "METTOL": "2016-06-03",
                                    "MEDDIG": "2016-06-06",
                                    "(No column name)": "NULL"
                                },
                                {
                                    "USERNEV": "LASZLON",
                                    "METTOL": "2016-06-08",
                                    "MEDDIG": "2016-06-09",
                                    "(No column name)": "1"
                                },
                                {
                                    "USERNEV": "LASZLON",
                                    "METTOL": "2016-10-01",
                                    "MEDDIG": "2016-10-04",
                                    "(No column name)": "3"
                                },
                                {
                                    "USERNEV": "LASZLON",
                                    "METTOL": "2016-10-09",
                                    "MEDDIG": "2016-10-14",
                                    "(No column name)": "6"
                                },
                                {
                                    "USERNEV": "LASZLON",
                                    "METTOL": "2016-11-29",
                                    "MEDDIG": "2016-12-04",
                                    "(No column name)": "6"
                                },
                                {
                                    "USERNEV": "LASZLON",
                                    "METTOL": "2017-02-18",
                                    "MEDDIG": "2017-02-25",
                                    "(No column name)": "5"
                                },
                                {
                                    "USERNEV": "maria1",
                                    "METTOL": "2016-05-13",
                                    "MEDDIG": "2016-05-18",
                                    "(No column name)": "NULL"
                                },
                                {
                                    "USERNEV": "maria1",
                                    "METTOL": "2016-05-18",
                                    "MEDDIG": "2016-05-19",
                                    "(No column name)": "2"
                                },
                                {
                                    "USERNEV": "maria1",
                                    "METTOL": "2016-05-28",
                                    "MEDDIG": "2016-06-03",
                                    "(No column name)": "3"
                                },
                                {
                                    "USERNEV": "maria1",
                                    "METTOL": "2016-06-23",
                                    "MEDDIG": "2016-06-27",
                                    "(No column name)": "5"
                                },
                                {
                                    "USERNEV": "maria1",
                                    "METTOL": "2016-08-11",
                                    "MEDDIG": "2016-08-14",
                                    "(No column name)": "4"
                                },
                                {
                                    "USERNEV": "maria1",
                                    "METTOL": "2016-09-02",
                                    "MEDDIG": "2016-09-05",
                                    "(No column name)": "6"
                                },
                                {
                                    "USERNEV": "maria1",
                                    "METTOL": "2016-11-08",
                                    "MEDDIG": "2016-11-12",
                                    "(No column name)": "5"
                                },
                                {
                                    "USERNEV": "maria1",
                                    "METTOL": "2017-02-24",
                                    "MEDDIG": "2017-03-02",
                                    "(No column name)": "7"
                                },
                                {
                                    "USERNEV": "mark",
                                    "METTOL": "2016-04-19",
                                    "MEDDIG": "2016-04-26",
                                    "(No column name)": "NULL"
                                },
                                {
                                    "USERNEV": "mark",
                                    "METTOL": "2016-06-13",
                                    "MEDDIG": "2016-06-18",
                                    "(No column name)": "4"
                                },
                                {
                                    "USERNEV": "mark",
                                    "METTOL": "2016-08-09",
                                    "MEDDIG": "2016-08-16",
                                    "(No column name)": "7"
                                },
                                {
                                    "USERNEV": "mark",
                                    "METTOL": "2016-10-20",
                                    "MEDDIG": "2016-10-27",
                                    "(No column name)": "10"
                                },
                                {
                                    "USERNEV": "mark",
                                    "METTOL": "2016-11-19",
                                    "MEDDIG": "2016-11-22",
                                    "(No column name)": "7"
                                },
                                {
                                    "USERNEV": "MARKH",
                                    "METTOL": "2016-09-14",
                                    "MEDDIG": "2016-09-17",
                                    "(No column name)": "NULL"
                                },
                                {
                                    "USERNEV": "MARKH",
                                    "METTOL": "2016-09-23",
                                    "MEDDIG": "2016-09-30",
                                    "(No column name)": "3"
                                },
                                {
                                    "USERNEV": "MARKH",
                                    "METTOL": "2016-09-26",
                                    "MEDDIG": "2016-10-01",
                                    "(No column name)": "5"
                                },
                                {
                                    "USERNEV": "MARKH",
                                    "METTOL": "2017-01-22",
                                    "MEDDIG": "2017-01-29",
                                    "(No column name)": "9"
                                },
                                {
                                    "USERNEV": "marton",
                                    "METTOL": "2016-04-27",
                                    "MEDDIG": "2016-05-04",
                                    "(No column name)": "NULL"
                                },
                                {
                                    "USERNEV": "marton",
                                    "METTOL": "2016-05-05",
                                    "MEDDIG": "2016-05-10",
                                    "(No column name)": "3"
                                },
                                {
                                    "USERNEV": "marton",
                                    "METTOL": "2016-06-06",
                                    "MEDDIG": "2016-06-08",
                                    "(No column name)": "4"
                                },
                                {
                                    "USERNEV": "marton",
                                    "METTOL": "2016-06-22",
                                    "MEDDIG": "2016-06-29",
                                    "(No column name)": "7"
                                },
                                {
                                    "USERNEV": "marton",
                                    "METTOL": "2016-08-12",
                                    "MEDDIG": "2016-08-17",
                                    "(No column name)": "6"
                                },
                                {
                                    "USERNEV": "marton",
                                    "METTOL": "2016-09-10",
                                    "MEDDIG": "2016-09-12",
                                    "(No column name)": "7"
                                },
                                {
                                    "USERNEV": "marton",
                                    "METTOL": "2017-03-02",
                                    "MEDDIG": "2017-03-03",
                                    "(No column name)": "6"
                                },
                                {
                                    "USERNEV": "MATEK",
                                    "METTOL": "2016-08-17",
                                    "MEDDIG": "2016-08-21",
                                    "(No column name)": "NULL"
                                },
                                {
                                    "USERNEV": "MATEK",
                                    "METTOL": "2016-10-01",
                                    "MEDDIG": "2016-10-04",
                                    "(No column name)": "4"
                                },
                                {
                                    "USERNEV": "MATEK",
                                    "METTOL": "2017-01-16",
                                    "MEDDIG": "2017-01-22",
                                    "(No column name)": "6"
                                },
                                {
                                    "USERNEV": "matyas2",
                                    "METTOL": "2016-07-13",
                                    "MEDDIG": "2016-07-16",
                                    "(No column name)": "NULL"
                                },
                                {
                                    "USERNEV": "matyas2",
                                    "METTOL": "2016-12-09",
                                    "MEDDIG": "2016-12-13",
                                    "(No column name)": "2"
                                },
                                {
                                    "USERNEV": "MATYASS",
                                    "METTOL": "2016-05-10",
                                    "MEDDIG": "2016-05-16",
                                    "(No column name)": "NULL"
                                },
                                {
                                    "USERNEV": "MATYASS",
                                    "METTOL": "2016-06-02",
                                    "MEDDIG": "2016-06-08",
                                    "(No column name)": "2"
                                },
                                {
                                    "USERNEV": "MATYASS",
                                    "METTOL": "2016-07-23",
                                    "MEDDIG": "2016-07-25",
                                    "(No column name)": "3"
                                },
                                {
                                    "USERNEV": "MATYASS",
                                    "METTOL": "2016-10-09",
                                    "MEDDIG": "2016-10-15",
                                    "(No column name)": "6"
                                },
                                {
                                    "USERNEV": "MATYASS",
                                    "METTOL": "2016-10-24",
                                    "MEDDIG": "2016-10-31",
                                    "(No column name)": "7"
                                },
                                {
                                    "USERNEV": "MATYASS",
                                    "METTOL": "2016-10-30",
                                    "MEDDIG": "2016-11-04",
                                    "(No column name)": "7"
                                },
                                {
                                    "USERNEV": "MATYASS",
                                    "METTOL": "2016-12-20",
                                    "MEDDIG": "2016-12-25",
                                    "(No column name)": "7"
                                },
                                {
                                    "USERNEV": "MATYASS",
                                    "METTOL": "2017-01-09",
                                    "MEDDIG": "2017-01-13",
                                    "(No column name)": "6"
                                },
                                {
                                    "USERNEV": "MIHALYJ",
                                    "METTOL": "2016-05-30",
                                    "MEDDIG": "2016-06-01",
                                    "(No column name)": "NULL"
                                },
                                {
                                    "USERNEV": "MIHALYJ",
                                    "METTOL": "2016-06-27",
                                    "MEDDIG": "2016-07-01",
                                    "(No column name)": "2"
                                },
                                {
                                    "USERNEV": "MIHALYJ",
                                    "METTOL": "2016-08-29",
                                    "MEDDIG": "2016-09-03",
                                    "(No column name)": "3"
                                },
                                {
                                    "USERNEV": "MIHALYJ",
                                    "METTOL": "2016-11-01",
                                    "MEDDIG": "2016-11-04",
                                    "(No column name)": "4"
                                },
                                {
                                    "USERNEV": "MIHALYJ",
                                    "METTOL": "2017-02-06",
                                    "MEDDIG": "2017-02-12",
                                    "(No column name)": "5"
                                },
                                {
                                    "USERNEV": "miklos2",
                                    "METTOL": "2016-04-19",
                                    "MEDDIG": "2016-04-21",
                                    "(No column name)": "NULL"
                                },
                                {
                                    "USERNEV": "miklos2",
                                    "METTOL": "2016-10-08",
                                    "MEDDIG": "2016-10-09",
                                    "(No column name)": "3"
                                },
                                {
                                    "USERNEV": "miklos2",
                                    "METTOL": "2016-11-16",
                                    "MEDDIG": "2016-11-18",
                                    "(No column name)": "4"
                                },
                                {
                                    "USERNEV": "MIKLOSB",
                                    "METTOL": "2016-06-26",
                                    "MEDDIG": "2016-06-30",
                                    "(No column name)": "NULL"
                                },
                                {
                                    "USERNEV": "MIKLOSB",
                                    "METTOL": "2016-07-18",
                                    "MEDDIG": "2016-07-21",
                                    "(No column name)": "2"
                                },
                                {
                                    "USERNEV": "MIKLOSB",
                                    "METTOL": "2016-12-05",
                                    "MEDDIG": "2016-12-10",
                                    "(No column name)": "4"
                                },
                                {
                                    "USERNEV": "MONIKAM",
                                    "METTOL": "2016-04-29",
                                    "MEDDIG": "2016-05-01",
                                    "(No column name)": "NULL"
                                },
                                {
                                    "USERNEV": "MONIKAM",
                                    "METTOL": "2016-07-23",
                                    "MEDDIG": "2016-07-30",
                                    "(No column name)": "2"
                                },
                                {
                                    "USERNEV": "MONIKAM",
                                    "METTOL": "2016-11-09",
                                    "MEDDIG": "2016-11-16",
                                    "(No column name)": "3"
                                },
                                {
                                    "USERNEV": "MONIKAM",
                                    "METTOL": "2017-01-17",
                                    "MEDDIG": "2017-01-24",
                                    "(No column name)": "5"
                                },
                                {
                                    "USERNEV": "MONIKAM",
                                    "METTOL": "2017-02-06",
                                    "MEDDIG": "2017-02-09",
                                    "(No column name)": "4"
                                },
                                {
                                    "USERNEV": "MONIKAM",
                                    "METTOL": "2017-02-23",
                                    "MEDDIG": "2017-02-26",
                                    "(No column name)": "5"
                                },
                                {
                                    "USERNEV": "NANDORF",
                                    "METTOL": "2016-04-06",
                                    "MEDDIG": "2016-04-10",
                                    "(No column name)": "NULL"
                                },
                                {
                                    "USERNEV": "NANDORF",
                                    "METTOL": "2016-11-03",
                                    "MEDDIG": "2016-11-04",
                                    "(No column name)": "3"
                                },
                                {
                                    "USERNEV": "NANDORF",
                                    "METTOL": "2017-02-05",
                                    "MEDDIG": "2017-02-08",
                                    "(No column name)": "6"
                                },
                                {
                                    "USERNEV": "nikolett3",
                                    "METTOL": "2016-05-24",
                                    "MEDDIG": "2016-05-29",
                                    "(No column name)": "NULL"
                                },
                                {
                                    "USERNEV": "nikolett3",
                                    "METTOL": "2016-06-03",
                                    "MEDDIG": "2016-06-09",
                                    "(No column name)": "2"
                                },
                                {
                                    "USERNEV": "nikolett3",
                                    "METTOL": "2016-06-22",
                                    "MEDDIG": "2016-06-24",
                                    "(No column name)": "3"
                                },
                                {
                                    "USERNEV": "nikolett3",
                                    "METTOL": "2016-10-22",
                                    "MEDDIG": "2016-10-29",
                                    "(No column name)": "4"
                                },
                                {
                                    "USERNEV": "nikoletta4",
                                    "METTOL": "2016-04-08",
                                    "MEDDIG": "2016-04-10",
                                    "(No column name)": "NULL"
                                },
                                {
                                    "USERNEV": "nikoletta4",
                                    "METTOL": "2016-05-09",
                                    "MEDDIG": "2016-05-15",
                                    "(No column name)": "2"
                                },
                                {
                                    "USERNEV": "nikoletta4",
                                    "METTOL": "2016-05-30",
                                    "MEDDIG": "2016-06-03",
                                    "(No column name)": "4"
                                },
                                {
                                    "USERNEV": "nikoletta4",
                                    "METTOL": "2016-06-29",
                                    "MEDDIG": "2016-07-06",
                                    "(No column name)": "7"
                                },
                                {
                                    "USERNEV": "nikoletta4",
                                    "METTOL": "2016-08-13",
                                    "MEDDIG": "2016-08-17",
                                    "(No column name)": "7"
                                },
                                {
                                    "USERNEV": "nikoletta4",
                                    "METTOL": "2016-12-08",
                                    "MEDDIG": "2016-12-10",
                                    "(No column name)": "8"
                                },
                                {
                                    "USERNEV": "nikoletta4",
                                    "METTOL": "2017-02-01",
                                    "MEDDIG": "2017-02-04",
                                    "(No column name)": "10"
                                },
                                {
                                    "USERNEV": "NIKOLETTAT",
                                    "METTOL": "2016-05-22",
                                    "MEDDIG": "2016-05-23",
                                    "(No column name)": "NULL"
                                },
                                {
                                    "USERNEV": "NIKOLETTAT",
                                    "METTOL": "2016-06-07",
                                    "MEDDIG": "2016-06-09",
                                    "(No column name)": "4"
                                },
                                {
                                    "USERNEV": "NIKOLETTAT",
                                    "METTOL": "2016-07-27",
                                    "MEDDIG": "2016-07-29",
                                    "(No column name)": "6"
                                },
                                {
                                    "USERNEV": "NIKOLETTAT",
                                    "METTOL": "2016-09-21",
                                    "MEDDIG": "2016-09-26",
                                    "(No column name)": "10"
                                },
                                {
                                    "USERNEV": "norbert",
                                    "METTOL": "2016-07-08",
                                    "MEDDIG": "2016-07-13",
                                    "(No column name)": "NULL"
                                },
                                {
                                    "USERNEV": "norbert",
                                    "METTOL": "2016-11-16",
                                    "MEDDIG": "2016-11-23",
                                    "(No column name)": "1"
                                },
                                {
                                    "USERNEV": "norbert",
                                    "METTOL": "2016-12-15",
                                    "MEDDIG": "2016-12-18",
                                    "(No column name)": "4"
                                },
                                {
                                    "USERNEV": "norbert",
                                    "METTOL": "2017-02-13",
                                    "MEDDIG": "2017-02-15",
                                    "(No column name)": "6"
                                },
                                {
                                    "USERNEV": "norbert",
                                    "METTOL": "2017-02-26",
                                    "MEDDIG": "2017-03-01",
                                    "(No column name)": "8"
                                },
                                {
                                    "USERNEV": "norbert2",
                                    "METTOL": "2016-04-19",
                                    "MEDDIG": "2016-04-26",
                                    "(No column name)": "NULL"
                                },
                                {
                                    "USERNEV": "norbert2",
                                    "METTOL": "2016-05-09",
                                    "MEDDIG": "2016-05-10",
                                    "(No column name)": "1"
                                },
                                {
                                    "USERNEV": "norbert2",
                                    "METTOL": "2016-07-13",
                                    "MEDDIG": "2016-07-15",
                                    "(No column name)": "3"
                                },
                                {
                                    "USERNEV": "norbert2",
                                    "METTOL": "2016-07-27",
                                    "MEDDIG": "2016-08-02",
                                    "(No column name)": "6"
                                },
                                {
                                    "USERNEV": "norbert2",
                                    "METTOL": "2016-08-16",
                                    "MEDDIG": "2016-08-19",
                                    "(No column name)": "7"
                                },
                                {
                                    "USERNEV": "norbert2",
                                    "METTOL": "2016-10-31",
                                    "MEDDIG": "2016-11-07",
                                    "(No column name)": "6"
                                },
                                {
                                    "USERNEV": "norbert2",
                                    "METTOL": "2017-01-29",
                                    "MEDDIG": "2017-02-05",
                                    "(No column name)": "5"
                                },
                                {
                                    "USERNEV": "norbert4",
                                    "METTOL": "2016-04-10",
                                    "MEDDIG": "2016-04-13",
                                    "(No column name)": "NULL"
                                },
                                {
                                    "USERNEV": "norbert4",
                                    "METTOL": "2016-05-29",
                                    "MEDDIG": "2016-06-03",
                                    "(No column name)": "2"
                                },
                                {
                                    "USERNEV": "norbert4",
                                    "METTOL": "2016-06-16",
                                    "MEDDIG": "2016-06-17",
                                    "(No column name)": "5"
                                },
                                {
                                    "USERNEV": "norbert4",
                                    "METTOL": "2016-06-16",
                                    "MEDDIG": "2016-06-21",
                                    "(No column name)": "9"
                                },
                                {
                                    "USERNEV": "norbert4",
                                    "METTOL": "2016-10-05",
                                    "MEDDIG": "2016-10-10",
                                    "(No column name)": "10"
                                },
                                {
                                    "USERNEV": "norbert4",
                                    "METTOL": "2016-10-28",
                                    "MEDDIG": "2016-10-31",
                                    "(No column name)": "10"
                                },
                                {
                                    "USERNEV": "norbert4",
                                    "METTOL": "2016-11-30",
                                    "MEDDIG": "2016-12-06",
                                    "(No column name)": "9"
                                },
                                {
                                    "USERNEV": "norbert4",
                                    "METTOL": "2017-02-16",
                                    "MEDDIG": "2017-02-17",
                                    "(No column name)": "9"
                                },
                                {
                                    "USERNEV": "norbert4",
                                    "METTOL": "2017-03-03",
                                    "MEDDIG": "2017-03-07",
                                    "(No column name)": "7"
                                },
                                {
                                    "USERNEV": "norbert5",
                                    "METTOL": "2016-06-24",
                                    "MEDDIG": "2016-06-28",
                                    "(No column name)": "NULL"
                                },
                                {
                                    "USERNEV": "norbert5",
                                    "METTOL": "2016-08-10",
                                    "MEDDIG": "2016-08-11",
                                    "(No column name)": "2"
                                },
                                {
                                    "USERNEV": "norbert5",
                                    "METTOL": "2016-11-05",
                                    "MEDDIG": "2016-11-07",
                                    "(No column name)": "4"
                                },
                                {
                                    "USERNEV": "pal",
                                    "METTOL": "2016-08-14",
                                    "MEDDIG": "2016-08-18",
                                    "(No column name)": "NULL"
                                },
                                {
                                    "USERNEV": "pal",
                                    "METTOL": "2016-09-16",
                                    "MEDDIG": "2016-09-19",
                                    "(No column name)": "3"
                                },
                                {
                                    "USERNEV": "pal",
                                    "METTOL": "2016-12-17",
                                    "MEDDIG": "2016-12-23",
                                    "(No column name)": "5"
                                },
                                {
                                    "USERNEV": "pal",
                                    "METTOL": "2017-02-13",
                                    "MEDDIG": "2017-02-19",
                                    "(No column name)": "8"
                                },
                                {
                                    "USERNEV": "pal",
                                    "METTOL": "2017-02-20",
                                    "MEDDIG": "2017-02-22",
                                    "(No column name)": "8"
                                },
                                {
                                    "USERNEV": "peter1",
                                    "METTOL": "2016-07-14",
                                    "MEDDIG": "2016-07-18",
                                    "(No column name)": "NULL"
                                },
                                {
                                    "USERNEV": "peter1",
                                    "METTOL": "2016-10-26",
                                    "MEDDIG": "2016-11-01",
                                    "(No column name)": "3"
                                },
                                {
                                    "USERNEV": "peter1",
                                    "METTOL": "2017-02-23",
                                    "MEDDIG": "2017-02-26",
                                    "(No column name)": "6"
                                },
                                {
                                    "USERNEV": "peter1",
                                    "METTOL": "2017-02-28",
                                    "MEDDIG": "2017-03-05",
                                    "(No column name)": "9"
                                },
                                {
                                    "USERNEV": "peter2",
                                    "METTOL": "2016-07-03",
                                    "MEDDIG": "2016-07-08",
                                    "(No column name)": "NULL"
                                },
                                {
                                    "USERNEV": "peter2",
                                    "METTOL": "2016-10-10",
                                    "MEDDIG": "2016-10-16",
                                    "(No column name)": "2"
                                },
                                {
                                    "USERNEV": "peter2",
                                    "METTOL": "2016-11-01",
                                    "MEDDIG": "2016-11-02",
                                    "(No column name)": "4"
                                },
                                {
                                    "USERNEV": "peter2",
                                    "METTOL": "2016-11-15",
                                    "MEDDIG": "2016-11-21",
                                    "(No column name)": "6"
                                },
                                {
                                    "USERNEV": "peter3",
                                    "METTOL": "2016-06-30",
                                    "MEDDIG": "2016-07-05",
                                    "(No column name)": "NULL"
                                },
                                {
                                    "USERNEV": "peter3",
                                    "METTOL": "2016-07-27",
                                    "MEDDIG": "2016-07-31",
                                    "(No column name)": "3"
                                },
                                {
                                    "USERNEV": "peter3",
                                    "METTOL": "2016-10-30",
                                    "MEDDIG": "2016-11-06",
                                    "(No column name)": "7"
                                },
                                {
                                    "USERNEV": "peter3",
                                    "METTOL": "2016-12-25",
                                    "MEDDIG": "2016-12-28",
                                    "(No column name)": "9"
                                },
                                {
                                    "USERNEV": "peter3",
                                    "METTOL": "2017-01-12",
                                    "MEDDIG": "2017-01-17",
                                    "(No column name)": "7"
                                },
                                {
                                    "USERNEV": "peter3",
                                    "METTOL": "2017-02-21",
                                    "MEDDIG": "2017-02-24",
                                    "(No column name)": "4"
                                },
                                {
                                    "USERNEV": "peter4",
                                    "METTOL": "2016-04-12",
                                    "MEDDIG": "2016-04-15",
                                    "(No column name)": "NULL"
                                },
                                {
                                    "USERNEV": "peter4",
                                    "METTOL": "2016-08-06",
                                    "MEDDIG": "2016-08-13",
                                    "(No column name)": "3"
                                },
                                {
                                    "USERNEV": "peter4",
                                    "METTOL": "2016-08-24",
                                    "MEDDIG": "2016-08-25",
                                    "(No column name)": "5"
                                },
                                {
                                    "USERNEV": "peter4",
                                    "METTOL": "2016-09-11",
                                    "MEDDIG": "2016-09-17",
                                    "(No column name)": "8"
                                },
                                {
                                    "USERNEV": "peter4",
                                    "METTOL": "2016-09-25",
                                    "MEDDIG": "2016-09-26",
                                    "(No column name)": "9"
                                },
                                {
                                    "USERNEV": "peter4",
                                    "METTOL": "2016-09-30",
                                    "MEDDIG": "2016-10-06",
                                    "(No column name)": "10"
                                },
                                {
                                    "USERNEV": "peter4",
                                    "METTOL": "2016-10-09",
                                    "MEDDIG": "2016-10-16",
                                    "(No column name)": "10"
                                },
                                {
                                    "USERNEV": "peter4",
                                    "METTOL": "2016-10-24",
                                    "MEDDIG": "2016-10-25",
                                    "(No column name)": "9"
                                },
                                {
                                    "USERNEV": "peter4",
                                    "METTOL": "2016-10-30",
                                    "MEDDIG": "2016-11-01",
                                    "(No column name)": "8"
                                },
                                {
                                    "USERNEV": "peter4",
                                    "METTOL": "2016-11-10",
                                    "MEDDIG": "2016-11-17",
                                    "(No column name)": "8"
                                },
                                {
                                    "USERNEV": "peter4",
                                    "METTOL": "2016-11-25",
                                    "MEDDIG": "2016-11-30",
                                    "(No column name)": "8"
                                },
                                {
                                    "USERNEV": "peter4",
                                    "METTOL": "2017-02-05",
                                    "MEDDIG": "2017-02-09",
                                    "(No column name)": "9"
                                },
                                {
                                    "USERNEV": "PETERB",
                                    "METTOL": "2016-04-06",
                                    "MEDDIG": "2016-04-10",
                                    "(No column name)": "NULL"
                                },
                                {
                                    "USERNEV": "PETERB",
                                    "METTOL": "2016-07-20",
                                    "MEDDIG": "2016-07-24",
                                    "(No column name)": "1"
                                },
                                {
                                    "USERNEV": "PETERB",
                                    "METTOL": "2016-08-16",
                                    "MEDDIG": "2016-08-23",
                                    "(No column name)": "3"
                                },
                                {
                                    "USERNEV": "PETERB",
                                    "METTOL": "2016-10-19",
                                    "MEDDIG": "2016-10-20",
                                    "(No column name)": "4"
                                },
                                {
                                    "USERNEV": "PETERB",
                                    "METTOL": "2016-11-17",
                                    "MEDDIG": "2016-11-20",
                                    "(No column name)": "7"
                                },
                                {
                                    "USERNEV": "polla",
                                    "METTOL": "2016-04-17",
                                    "MEDDIG": "2016-04-22",
                                    "(No column name)": "NULL"
                                },
                                {
                                    "USERNEV": "polla",
                                    "METTOL": "2016-05-28",
                                    "MEDDIG": "2016-06-04",
                                    "(No column name)": "3"
                                },
                                {
                                    "USERNEV": "polla",
                                    "METTOL": "2016-08-14",
                                    "MEDDIG": "2016-08-17",
                                    "(No column name)": "5"
                                },
                                {
                                    "USERNEV": "polla",
                                    "METTOL": "2016-08-16",
                                    "MEDDIG": "2016-08-19",
                                    "(No column name)": "7"
                                },
                                {
                                    "USERNEV": "polla",
                                    "METTOL": "2017-01-29",
                                    "MEDDIG": "2017-02-01",
                                    "(No column name)": "8"
                                },
                                {
                                    "USERNEV": "polla",
                                    "METTOL": "2017-02-11",
                                    "MEDDIG": "2017-02-16",
                                    "(No column name)": "8"
                                },
                                {
                                    "USERNEV": "rajmond4",
                                    "METTOL": "2016-09-05",
                                    "MEDDIG": "2016-09-07",
                                    "(No column name)": "NULL"
                                },
                                {
                                    "USERNEV": "rajmond4",
                                    "METTOL": "2016-10-03",
                                    "MEDDIG": "2016-10-04",
                                    "(No column name)": "3"
                                },
                                {
                                    "USERNEV": "rajmond4",
                                    "METTOL": "2016-11-08",
                                    "MEDDIG": "2016-11-09",
                                    "(No column name)": "6"
                                },
                                {
                                    "USERNEV": "rajmond4",
                                    "METTOL": "2016-11-16",
                                    "MEDDIG": "2016-11-20",
                                    "(No column name)": "10"
                                },
                                {
                                    "USERNEV": "reka4",
                                    "METTOL": "2016-07-27",
                                    "MEDDIG": "2016-07-31",
                                    "(No column name)": "NULL"
                                },
                                {
                                    "USERNEV": "reka4",
                                    "METTOL": "2016-08-02",
                                    "MEDDIG": "2016-08-04",
                                    "(No column name)": "2"
                                },
                                {
                                    "USERNEV": "reka4",
                                    "METTOL": "2016-09-05",
                                    "MEDDIG": "2016-09-07",
                                    "(No column name)": "6"
                                },
                                {
                                    "USERNEV": "reka4",
                                    "METTOL": "2016-09-30",
                                    "MEDDIG": "2016-10-06",
                                    "(No column name)": "9"
                                },
                                {
                                    "USERNEV": "reka4",
                                    "METTOL": "2017-02-26",
                                    "MEDDIG": "2017-03-04",
                                    "(No column name)": "9"
                                },
                                {
                                    "USERNEV": "RENATAK",
                                    "METTOL": "2016-10-27",
                                    "MEDDIG": "2016-10-29",
                                    "(No column name)": "NULL"
                                },
                                {
                                    "USERNEV": "RENATAK",
                                    "METTOL": "2016-10-30",
                                    "MEDDIG": "2016-10-31",
                                    "(No column name)": "4"
                                },
                                {
                                    "USERNEV": "RENATAK",
                                    "METTOL": "2016-11-23",
                                    "MEDDIG": "2016-11-26",
                                    "(No column name)": "5"
                                },
                                {
                                    "USERNEV": "RENATAK",
                                    "METTOL": "2017-01-23",
                                    "MEDDIG": "2017-01-24",
                                    "(No column name)": "6"
                                },
                                {
                                    "USERNEV": "RENATAK",
                                    "METTOL": "2017-02-16",
                                    "MEDDIG": "2017-02-23",
                                    "(No column name)": "5"
                                },
                                {
                                    "USERNEV": "RENATAK",
                                    "METTOL": "2017-03-01",
                                    "MEDDIG": "2017-03-06",
                                    "(No column name)": "5"
                                },
                                {
                                    "USERNEV": "RENATAS",
                                    "METTOL": "2016-05-04",
                                    "MEDDIG": "2016-05-11",
                                    "(No column name)": "NULL"
                                },
                                {
                                    "USERNEV": "RENATAS",
                                    "METTOL": "2016-05-11",
                                    "MEDDIG": "2016-05-16",
                                    "(No column name)": "2"
                                },
                                {
                                    "USERNEV": "RENATAS",
                                    "METTOL": "2016-06-24",
                                    "MEDDIG": "2016-06-30",
                                    "(No column name)": "4"
                                },
                                {
                                    "USERNEV": "RENATAS",
                                    "METTOL": "2017-02-13",
                                    "MEDDIG": "2017-02-17",
                                    "(No column name)": "9"
                                },
                                {
                                    "USERNEV": "RENATAS",
                                    "METTOL": "2017-02-14",
                                    "MEDDIG": "2017-02-17",
                                    "(No column name)": "8"
                                },
                                {
                                    "USERNEV": "robert2",
                                    "METTOL": "2016-05-15",
                                    "MEDDIG": "2016-05-18",
                                    "(No column name)": "NULL"
                                },
                                {
                                    "USERNEV": "robert2",
                                    "METTOL": "2016-08-20",
                                    "MEDDIG": "2016-08-27",
                                    "(No column name)": "2"
                                },
                                {
                                    "USERNEV": "robert2",
                                    "METTOL": "2016-10-23",
                                    "MEDDIG": "2016-10-28",
                                    "(No column name)": "4"
                                },
                                {
                                    "USERNEV": "robert2",
                                    "METTOL": "2016-12-17",
                                    "MEDDIG": "2016-12-22",
                                    "(No column name)": "7"
                                },
                                {
                                    "USERNEV": "ROBERTI",
                                    "METTOL": "2016-07-12",
                                    "MEDDIG": "2016-07-19",
                                    "(No column name)": "NULL"
                                },
                                {
                                    "USERNEV": "ROBERTI",
                                    "METTOL": "2016-08-16",
                                    "MEDDIG": "2016-08-21",
                                    "(No column name)": "4"
                                },
                                {
                                    "USERNEV": "ROBERTI",
                                    "METTOL": "2016-08-23",
                                    "MEDDIG": "2016-08-25",
                                    "(No column name)": "6"
                                },
                                {
                                    "USERNEV": "ROBERTI",
                                    "METTOL": "2016-10-08",
                                    "MEDDIG": "2016-10-12",
                                    "(No column name)": "8"
                                },
                                {
                                    "USERNEV": "ROBERTI",
                                    "METTOL": "2016-10-09",
                                    "MEDDIG": "2016-10-10",
                                    "(No column name)": "7"
                                },
                                {
                                    "USERNEV": "ROBERTI",
                                    "METTOL": "2016-10-23",
                                    "MEDDIG": "2016-10-29",
                                    "(No column name)": "7"
                                },
                                {
                                    "USERNEV": "ROBERTI",
                                    "METTOL": "2016-10-26",
                                    "MEDDIG": "2016-11-01",
                                    "(No column name)": "6"
                                },
                                {
                                    "USERNEV": "ROBERTI",
                                    "METTOL": "2017-02-17",
                                    "MEDDIG": "2017-02-20",
                                    "(No column name)": "5"
                                },
                                {
                                    "USERNEV": "ROBERTP",
                                    "METTOL": "2016-07-30",
                                    "MEDDIG": "2016-08-05",
                                    "(No column name)": "NULL"
                                },
                                {
                                    "USERNEV": "ROBERTP",
                                    "METTOL": "2016-09-08",
                                    "MEDDIG": "2016-09-11",
                                    "(No column name)": "2"
                                },
                                {
                                    "USERNEV": "roland",
                                    "METTOL": "2016-06-09",
                                    "MEDDIG": "2016-06-13",
                                    "(No column name)": "NULL"
                                },
                                {
                                    "USERNEV": "roland",
                                    "METTOL": "2016-06-22",
                                    "MEDDIG": "2016-06-23",
                                    "(No column name)": "3"
                                },
                                {
                                    "USERNEV": "roland",
                                    "METTOL": "2016-09-04",
                                    "MEDDIG": "2016-09-05",
                                    "(No column name)": "6"
                                },
                                {
                                    "USERNEV": "roland",
                                    "METTOL": "2016-11-19",
                                    "MEDDIG": "2016-11-24",
                                    "(No column name)": "8"
                                },
                                {
                                    "USERNEV": "roland1",
                                    "METTOL": "2016-11-05",
                                    "MEDDIG": "2016-11-07",
                                    "(No column name)": "NULL"
                                },
                                {
                                    "USERNEV": "roland1",
                                    "METTOL": "2016-12-22",
                                    "MEDDIG": "2016-12-29",
                                    "(No column name)": "3"
                                },
                                {
                                    "USERNEV": "roland1",
                                    "METTOL": "2017-01-04",
                                    "MEDDIG": "2017-01-08",
                                    "(No column name)": "4"
                                },
                                {
                                    "USERNEV": "roland1",
                                    "METTOL": "2017-01-16",
                                    "MEDDIG": "2017-01-22",
                                    "(No column name)": "7"
                                },
                                {
                                    "USERNEV": "roza2",
                                    "METTOL": "2016-09-10",
                                    "MEDDIG": "2016-09-13",
                                    "(No column name)": "NULL"
                                },
                                {
                                    "USERNEV": "roza2",
                                    "METTOL": "2017-01-11",
                                    "MEDDIG": "2017-01-17",
                                    "(No column name)": "2"
                                },
                                {
                                    "USERNEV": "roza2",
                                    "METTOL": "2017-02-18",
                                    "MEDDIG": "2017-02-21",
                                    "(No column name)": "5"
                                },
                                {
                                    "USERNEV": "sandor",
                                    "METTOL": "2016-07-04",
                                    "MEDDIG": "2016-07-06",
                                    "(No column name)": "NULL"
                                },
                                {
                                    "USERNEV": "sandor",
                                    "METTOL": "2016-07-18",
                                    "MEDDIG": "2016-07-24",
                                    "(No column name)": "2"
                                },
                                {
                                    "USERNEV": "sandor",
                                    "METTOL": "2016-08-20",
                                    "MEDDIG": "2016-08-25",
                                    "(No column name)": "4"
                                },
                                {
                                    "USERNEV": "sandor",
                                    "METTOL": "2016-09-19",
                                    "MEDDIG": "2016-09-26",
                                    "(No column name)": "6"
                                },
                                {
                                    "USERNEV": "sandor3",
                                    "METTOL": "2016-05-12",
                                    "MEDDIG": "2016-05-15",
                                    "(No column name)": "NULL"
                                },
                                {
                                    "USERNEV": "sandor3",
                                    "METTOL": "2016-05-25",
                                    "MEDDIG": "2016-05-30",
                                    "(No column name)": "2"
                                },
                                {
                                    "USERNEV": "sandor3",
                                    "METTOL": "2016-10-09",
                                    "MEDDIG": "2016-10-14",
                                    "(No column name)": "3"
                                },
                                {
                                    "USERNEV": "sandor3",
                                    "METTOL": "2016-10-23",
                                    "MEDDIG": "2016-10-29",
                                    "(No column name)": "5"
                                },
                                {
                                    "USERNEV": "sandor3",
                                    "METTOL": "2016-11-10",
                                    "MEDDIG": "2016-11-11",
                                    "(No column name)": "6"
                                },
                                {
                                    "USERNEV": "sandor4",
                                    "METTOL": "2016-10-15",
                                    "MEDDIG": "2016-10-18",
                                    "(No column name)": "NULL"
                                },
                                {
                                    "USERNEV": "sandor4",
                                    "METTOL": "2016-11-29",
                                    "MEDDIG": "2016-12-03",
                                    "(No column name)": "1"
                                },
                                {
                                    "USERNEV": "sandor4",
                                    "METTOL": "2016-12-03",
                                    "MEDDIG": "2016-12-09",
                                    "(No column name)": "3"
                                },
                                {
                                    "USERNEV": "sandor4",
                                    "METTOL": "2017-01-22",
                                    "MEDDIG": "2017-01-26",
                                    "(No column name)": "4"
                                },
                                {
                                    "USERNEV": "sara",
                                    "METTOL": "2016-05-28",
                                    "MEDDIG": "2016-05-30",
                                    "(No column name)": "NULL"
                                },
                                {
                                    "USERNEV": "sara",
                                    "METTOL": "2016-05-30",
                                    "MEDDIG": "2016-05-31",
                                    "(No column name)": "2"
                                },
                                {
                                    "USERNEV": "sara",
                                    "METTOL": "2016-06-06",
                                    "MEDDIG": "2016-06-08",
                                    "(No column name)": "4"
                                },
                                {
                                    "USERNEV": "sara",
                                    "METTOL": "2016-07-15",
                                    "MEDDIG": "2016-07-17",
                                    "(No column name)": "6"
                                },
                                {
                                    "USERNEV": "sara",
                                    "METTOL": "2016-07-24",
                                    "MEDDIG": "2016-07-27",
                                    "(No column name)": "7"
                                },
                                {
                                    "USERNEV": "sara",
                                    "METTOL": "2016-10-06",
                                    "MEDDIG": "2016-10-12",
                                    "(No column name)": "8"
                                },
                                {
                                    "USERNEV": "sara",
                                    "METTOL": "2016-10-11",
                                    "MEDDIG": "2016-10-14",
                                    "(No column name)": "9"
                                },
                                {
                                    "USERNEV": "sara",
                                    "METTOL": "2016-10-28",
                                    "MEDDIG": "2016-11-03",
                                    "(No column name)": "9"
                                },
                                {
                                    "USERNEV": "sara",
                                    "METTOL": "2016-11-18",
                                    "MEDDIG": "2016-11-21",
                                    "(No column name)": "8"
                                },
                                {
                                    "USERNEV": "sara",
                                    "METTOL": "2016-11-23",
                                    "MEDDIG": "2016-11-30",
                                    "(No column name)": "8"
                                },
                                {
                                    "USERNEV": "sara",
                                    "METTOL": "2016-12-06",
                                    "MEDDIG": "2016-12-10",
                                    "(No column name)": "9"
                                },
                                {
                                    "USERNEV": "sara",
                                    "METTOL": "2016-12-25",
                                    "MEDDIG": "2016-12-30",
                                    "(No column name)": "8"
                                },
                                {
                                    "USERNEV": "SEBASTIANF",
                                    "METTOL": "2016-04-06",
                                    "MEDDIG": "2016-04-12",
                                    "(No column name)": "NULL"
                                },
                                {
                                    "USERNEV": "SEBASTIANF",
                                    "METTOL": "2016-07-17",
                                    "MEDDIG": "2016-07-21",
                                    "(No column name)": "2"
                                },
                                {
                                    "USERNEV": "SEBASTIANF",
                                    "METTOL": "2016-07-30",
                                    "MEDDIG": "2016-08-06",
                                    "(No column name)": "4"
                                },
                                {
                                    "USERNEV": "SEBASTIANF",
                                    "METTOL": "2016-09-14",
                                    "MEDDIG": "2016-09-15",
                                    "(No column name)": "8"
                                },
                                {
                                    "USERNEV": "SEBASTIANF",
                                    "METTOL": "2016-09-17",
                                    "MEDDIG": "2016-09-20",
                                    "(No column name)": "9"
                                },
                                {
                                    "USERNEV": "sebestyen",
                                    "METTOL": "2016-04-07",
                                    "MEDDIG": "2016-04-12",
                                    "(No column name)": "NULL"
                                },
                                {
                                    "USERNEV": "sebestyen",
                                    "METTOL": "2016-04-26",
                                    "MEDDIG": "2016-05-02",
                                    "(No column name)": "4"
                                },
                                {
                                    "USERNEV": "sebestyen",
                                    "METTOL": "2016-06-09",
                                    "MEDDIG": "2016-06-14",
                                    "(No column name)": "8"
                                },
                                {
                                    "USERNEV": "sebestyen",
                                    "METTOL": "2016-10-26",
                                    "MEDDIG": "2016-11-01",
                                    "(No column name)": "12"
                                },
                                {
                                    "USERNEV": "szabolcs",
                                    "METTOL": "2016-12-05",
                                    "MEDDIG": "2016-12-07",
                                    "(No column name)": "NULL"
                                },
                                {
                                    "USERNEV": "SZABOLCSM",
                                    "METTOL": "2016-06-18",
                                    "MEDDIG": "2016-06-21",
                                    "(No column name)": "NULL"
                                },
                                {
                                    "USERNEV": "SZABOLCSM",
                                    "METTOL": "2016-07-28",
                                    "MEDDIG": "2016-08-03",
                                    "(No column name)": "3"
                                },
                                {
                                    "USERNEV": "SZABOLCSM",
                                    "METTOL": "2016-10-17",
                                    "MEDDIG": "2016-10-19",
                                    "(No column name)": "5"
                                },
                                {
                                    "USERNEV": "SZABOLCSM",
                                    "METTOL": "2016-10-28",
                                    "MEDDIG": "2016-11-03",
                                    "(No column name)": "7"
                                },
                                {
                                    "USERNEV": "SZABOLCSM",
                                    "METTOL": "2016-11-12",
                                    "MEDDIG": "2016-11-13",
                                    "(No column name)": "7"
                                },
                                {
                                    "USERNEV": "SZABOLCSM",
                                    "METTOL": "2017-01-07",
                                    "MEDDIG": "2017-01-08",
                                    "(No column name)": "7"
                                },
                                {
                                    "USERNEV": "SZABOLCSM",
                                    "METTOL": "2017-02-04",
                                    "MEDDIG": "2017-02-05",
                                    "(No column name)": "7"
                                },
                                {
                                    "USERNEV": "SZILARDS",
                                    "METTOL": "2016-04-23",
                                    "MEDDIG": "2016-04-30",
                                    "(No column name)": "NULL"
                                },
                                {
                                    "USERNEV": "SZILARDS",
                                    "METTOL": "2016-07-27",
                                    "MEDDIG": "2016-08-03",
                                    "(No column name)": "3"
                                },
                                {
                                    "USERNEV": "SZILARDS",
                                    "METTOL": "2016-08-28",
                                    "MEDDIG": "2016-08-29",
                                    "(No column name)": "8"
                                },
                                {
                                    "USERNEV": "SZILARDS",
                                    "METTOL": "2016-09-20",
                                    "MEDDIG": "2016-09-24",
                                    "(No column name)": "12"
                                },
                                {
                                    "USERNEV": "SZILARDS",
                                    "METTOL": "2016-10-01",
                                    "MEDDIG": "2016-10-08",
                                    "(No column name)": "12"
                                },
                                {
                                    "USERNEV": "SZILARDS",
                                    "METTOL": "2017-01-16",
                                    "MEDDIG": "2017-01-19",
                                    "(No column name)": "10"
                                },
                                {
                                    "USERNEV": "SZILARDS",
                                    "METTOL": "2017-02-08",
                                    "MEDDIG": "2017-02-15",
                                    "(No column name)": "9"
                                },
                                {
                                    "USERNEV": "szilvia1",
                                    "METTOL": "2016-05-14",
                                    "MEDDIG": "2016-05-21",
                                    "(No column name)": "NULL"
                                },
                                {
                                    "USERNEV": "szilvia1",
                                    "METTOL": "2016-05-28",
                                    "MEDDIG": "2016-06-03",
                                    "(No column name)": "2"
                                },
                                {
                                    "USERNEV": "szilvia1",
                                    "METTOL": "2016-07-25",
                                    "MEDDIG": "2016-07-28",
                                    "(No column name)": "4"
                                },
                                {
                                    "USERNEV": "szilvia1",
                                    "METTOL": "2016-10-09",
                                    "MEDDIG": "2016-10-10",
                                    "(No column name)": "6"
                                },
                                {
                                    "USERNEV": "szilvia1",
                                    "METTOL": "2016-10-25",
                                    "MEDDIG": "2016-10-31",
                                    "(No column name)": "7"
                                },
                                {
                                    "USERNEV": "szilvia1",
                                    "METTOL": "2016-10-27",
                                    "MEDDIG": "2016-10-28",
                                    "(No column name)": "8"
                                },
                                {
                                    "USERNEV": "szilvia1",
                                    "METTOL": "2016-12-25",
                                    "MEDDIG": "2016-12-29",
                                    "(No column name)": "8"
                                },
                                {
                                    "USERNEV": "szilvia1",
                                    "METTOL": "2016-12-27",
                                    "MEDDIG": "2017-01-02",
                                    "(No column name)": "10"
                                },
                                {
                                    "USERNEV": "szilvia1",
                                    "METTOL": "2017-01-28",
                                    "MEDDIG": "2017-02-03",
                                    "(No column name)": "9"
                                },
                                {
                                    "USERNEV": "tamara2",
                                    "METTOL": "2016-08-12",
                                    "MEDDIG": "2016-08-15",
                                    "(No column name)": "NULL"
                                },
                                {
                                    "USERNEV": "tamara2",
                                    "METTOL": "2016-11-15",
                                    "MEDDIG": "2016-11-18",
                                    "(No column name)": "3"
                                },
                                {
                                    "USERNEV": "tamas",
                                    "METTOL": "2016-05-17",
                                    "MEDDIG": "2016-05-22",
                                    "(No column name)": "NULL"
                                },
                                {
                                    "USERNEV": "tamas",
                                    "METTOL": "2016-06-14",
                                    "MEDDIG": "2016-06-21",
                                    "(No column name)": "2"
                                },
                                {
                                    "USERNEV": "tamas",
                                    "METTOL": "2016-08-24",
                                    "MEDDIG": "2016-08-27",
                                    "(No column name)": "4"
                                },
                                {
                                    "USERNEV": "tamas",
                                    "METTOL": "2017-02-14",
                                    "MEDDIG": "2017-02-19",
                                    "(No column name)": "7"
                                },
                                {
                                    "USERNEV": "TAMASF",
                                    "METTOL": "2016-05-03",
                                    "MEDDIG": "2016-05-04",
                                    "(No column name)": "NULL"
                                },
                                {
                                    "USERNEV": "TAMASF",
                                    "METTOL": "2016-06-10",
                                    "MEDDIG": "2016-06-13",
                                    "(No column name)": "2"
                                },
                                {
                                    "USERNEV": "TAMASF",
                                    "METTOL": "2016-06-28",
                                    "MEDDIG": "2016-07-05",
                                    "(No column name)": "5"
                                },
                                {
                                    "USERNEV": "TAMASF",
                                    "METTOL": "2016-07-04",
                                    "MEDDIG": "2016-07-10",
                                    "(No column name)": "8"
                                },
                                {
                                    "USERNEV": "TAMASF",
                                    "METTOL": "2016-09-12",
                                    "MEDDIG": "2016-09-18",
                                    "(No column name)": "8"
                                },
                                {
                                    "USERNEV": "TAMASF",
                                    "METTOL": "2016-12-02",
                                    "MEDDIG": "2016-12-04",
                                    "(No column name)": "8"
                                },
                                {
                                    "USERNEV": "TAMASF",
                                    "METTOL": "2016-12-10",
                                    "MEDDIG": "2016-12-14",
                                    "(No column name)": "6"
                                },
                                {
                                    "USERNEV": "TAMASF",
                                    "METTOL": "2017-02-12",
                                    "MEDDIG": "2017-02-17",
                                    "(No column name)": "7"
                                },
                                {
                                    "USERNEV": "TAMASF",
                                    "METTOL": "2017-02-16",
                                    "MEDDIG": "2017-02-19",
                                    "(No column name)": "6"
                                },
                                {
                                    "USERNEV": "tibor",
                                    "METTOL": "2016-10-09",
                                    "MEDDIG": "2016-10-13",
                                    "(No column name)": "NULL"
                                },
                                {
                                    "USERNEV": "tibor",
                                    "METTOL": "2016-11-05",
                                    "MEDDIG": "2016-11-09",
                                    "(No column name)": "2"
                                },
                                {
                                    "USERNEV": "tibor2",
                                    "METTOL": "2016-10-20",
                                    "MEDDIG": "2016-10-25",
                                    "(No column name)": "NULL"
                                },
                                {
                                    "USERNEV": "tihamer",
                                    "METTOL": "2016-05-30",
                                    "MEDDIG": "2016-06-05",
                                    "(No column name)": "NULL"
                                },
                                {
                                    "USERNEV": "tihamer",
                                    "METTOL": "2016-06-03",
                                    "MEDDIG": "2016-06-08",
                                    "(No column name)": "1"
                                },
                                {
                                    "USERNEV": "tihamer",
                                    "METTOL": "2016-07-20",
                                    "MEDDIG": "2016-07-24",
                                    "(No column name)": "6"
                                },
                                {
                                    "USERNEV": "tihamer",
                                    "METTOL": "2016-08-18",
                                    "MEDDIG": "2016-08-22",
                                    "(No column name)": "9"
                                },
                                {
                                    "USERNEV": "tihamer",
                                    "METTOL": "2016-10-19",
                                    "MEDDIG": "2016-10-23",
                                    "(No column name)": "11"
                                },
                                {
                                    "USERNEV": "tihamer",
                                    "METTOL": "2016-12-25",
                                    "MEDDIG": "2016-12-26",
                                    "(No column name)": "8"
                                },
                                {
                                    "USERNEV": "timea",
                                    "METTOL": "2016-12-26",
                                    "MEDDIG": "2016-12-27",
                                    "(No column name)": "NULL"
                                },
                                {
                                    "USERNEV": "timea2",
                                    "METTOL": "2016-06-06",
                                    "MEDDIG": "2016-06-07",
                                    "(No column name)": "NULL"
                                },
                                {
                                    "USERNEV": "timea2",
                                    "METTOL": "2016-08-07",
                                    "MEDDIG": "2016-08-10",
                                    "(No column name)": "2"
                                },
                                {
                                    "USERNEV": "timea2",
                                    "METTOL": "2016-10-26",
                                    "MEDDIG": "2016-10-29",
                                    "(No column name)": "5"
                                },
                                {
                                    "USERNEV": "timea2",
                                    "METTOL": "2016-11-27",
                                    "MEDDIG": "2016-12-01",
                                    "(No column name)": "8"
                                },
                                {
                                    "USERNEV": "timea2",
                                    "METTOL": "2016-12-14",
                                    "MEDDIG": "2016-12-16",
                                    "(No column name)": "10"
                                },
                                {
                                    "USERNEV": "tunde",
                                    "METTOL": "2016-06-03",
                                    "MEDDIG": "2016-06-07",
                                    "(No column name)": "NULL"
                                },
                                {
                                    "USERNEV": "tunde",
                                    "METTOL": "2016-06-06",
                                    "MEDDIG": "2016-06-12",
                                    "(No column name)": "3"
                                },
                                {
                                    "USERNEV": "tunde",
                                    "METTOL": "2016-07-14",
                                    "MEDDIG": "2016-07-21",
                                    "(No column name)": "6"
                                },
                                {
                                    "USERNEV": "tunde",
                                    "METTOL": "2016-09-05",
                                    "MEDDIG": "2016-09-12",
                                    "(No column name)": "7"
                                },
                                {
                                    "USERNEV": "tunde",
                                    "METTOL": "2016-10-24",
                                    "MEDDIG": "2016-10-30",
                                    "(No column name)": "6"
                                },
                                {
                                    "USERNEV": "tunde",
                                    "METTOL": "2016-11-19",
                                    "MEDDIG": "2016-11-20",
                                    "(No column name)": "6"
                                },
                                {
                                    "USERNEV": "tunde",
                                    "METTOL": "2016-12-15",
                                    "MEDDIG": "2016-12-20",
                                    "(No column name)": "8"
                                },
                                {
                                    "USERNEV": "tunde",
                                    "METTOL": "2017-01-03",
                                    "MEDDIG": "2017-01-06",
                                    "(No column name)": "9"
                                },
                                {
                                    "USERNEV": "valentin",
                                    "METTOL": "2016-05-24",
                                    "MEDDIG": "2016-05-30",
                                    "(No column name)": "NULL"
                                },
                                {
                                    "USERNEV": "valentin",
                                    "METTOL": "2016-07-24",
                                    "MEDDIG": "2016-07-29",
                                    "(No column name)": "4"
                                },
                                {
                                    "USERNEV": "valentin",
                                    "METTOL": "2016-10-26",
                                    "MEDDIG": "2016-10-30",
                                    "(No column name)": "5"
                                },
                                {
                                    "USERNEV": "valentin",
                                    "METTOL": "2016-11-11",
                                    "MEDDIG": "2016-11-17",
                                    "(No column name)": "8"
                                },
                                {
                                    "USERNEV": "valentin",
                                    "METTOL": "2016-12-01",
                                    "MEDDIG": "2016-12-05",
                                    "(No column name)": "7"
                                },
                                {
                                    "USERNEV": "veronika4",
                                    "METTOL": "2016-05-30",
                                    "MEDDIG": "2016-06-04",
                                    "(No column name)": "NULL"
                                },
                                {
                                    "USERNEV": "veronika4",
                                    "METTOL": "2016-07-20",
                                    "MEDDIG": "2016-07-26",
                                    "(No column name)": "2"
                                },
                                {
                                    "USERNEV": "veronika4",
                                    "METTOL": "2016-08-16",
                                    "MEDDIG": "2016-08-21",
                                    "(No column name)": "5"
                                },
                                {
                                    "USERNEV": "veronika4",
                                    "METTOL": "2016-09-26",
                                    "MEDDIG": "2016-10-03",
                                    "(No column name)": "6"
                                },
                                {
                                    "USERNEV": "veronika4",
                                    "METTOL": "2017-01-19",
                                    "MEDDIG": "2017-01-24",
                                    "(No column name)": "6"
                                },
                                {
                                    "USERNEV": "veronika4",
                                    "METTOL": "2017-02-03",
                                    "MEDDIG": "2017-02-05",
                                    "(No column name)": "6"
                                },
                                {
                                    "USERNEV": "VIKTORIAU",
                                    "METTOL": "2016-04-30",
                                    "MEDDIG": "2016-05-03",
                                    "(No column name)": "NULL"
                                },
                                {
                                    "USERNEV": "VIKTORIAU",
                                    "METTOL": "2016-08-03",
                                    "MEDDIG": "2016-08-04",
                                    "(No column name)": "1"
                                },
                                {
                                    "USERNEV": "VIKTORIAU",
                                    "METTOL": "2016-10-14",
                                    "MEDDIG": "2016-10-15",
                                    "(No column name)": "3"
                                },
                                {
                                    "USERNEV": "VIKTORIAU",
                                    "METTOL": "2016-10-26",
                                    "MEDDIG": "2016-11-02",
                                    "(No column name)": "6"
                                },
                                {
                                    "USERNEV": "VIKTORK",
                                    "METTOL": "2016-05-30",
                                    "MEDDIG": "2016-06-01",
                                    "(No column name)": "NULL"
                                },
                                {
                                    "USERNEV": "VIKTORK",
                                    "METTOL": "2016-06-06",
                                    "MEDDIG": "2016-06-07",
                                    "(No column name)": "2"
                                },
                                {
                                    "USERNEV": "vivien3",
                                    "METTOL": "2016-05-02",
                                    "MEDDIG": "2016-05-05",
                                    "(No column name)": "NULL"
                                },
                                {
                                    "USERNEV": "vivien3",
                                    "METTOL": "2016-08-13",
                                    "MEDDIG": "2016-08-18",
                                    "(No column name)": "3"
                                },
                                {
                                    "USERNEV": "vivien3",
                                    "METTOL": "2016-09-01",
                                    "MEDDIG": "2016-09-05",
                                    "(No column name)": "5"
                                },
                                {
                                    "USERNEV": "vivien3",
                                    "METTOL": "2016-10-01",
                                    "MEDDIG": "2016-10-04",
                                    "(No column name)": "7"
                                },
                                {
                                    "USERNEV": "vivien3",
                                    "METTOL": "2016-11-17",
                                    "MEDDIG": "2016-11-20",
                                    "(No column name)": "5"
                                },
                                {
                                    "USERNEV": "vivien3",
                                    "METTOL": "2016-12-17",
                                    "MEDDIG": "2016-12-21",
                                    "(No column name)": "5"
                                },
                                {
                                    "USERNEV": "vivien3",
                                    "METTOL": "2016-12-24",
                                    "MEDDIG": "2016-12-26",
                                    "(No column name)": "5"
                                },
                                {
                                    "USERNEV": "zoltan",
                                    "METTOL": "2016-08-24",
                                    "MEDDIG": "2016-08-31",
                                    "(No column name)": "NULL"
                                },
                                {
                                    "USERNEV": "zoltan",
                                    "METTOL": "2016-09-05",
                                    "MEDDIG": "2016-09-09",
                                    "(No column name)": "2"
                                },
                                {
                                    "USERNEV": "zoltan4",
                                    "METTOL": "2016-05-12",
                                    "MEDDIG": "2016-05-16",
                                    "(No column name)": "NULL"
                                },
                                {
                                    "USERNEV": "zoltan4",
                                    "METTOL": "2016-05-13",
                                    "MEDDIG": "2016-05-16",
                                    "(No column name)": "3"
                                },
                                {
                                    "USERNEV": "zoltan4",
                                    "METTOL": "2016-06-03",
                                    "MEDDIG": "2016-06-06",
                                    "(No column name)": "6"
                                },
                                {
                                    "USERNEV": "zoltan4",
                                    "METTOL": "2016-08-15",
                                    "MEDDIG": "2016-08-21",
                                    "(No column name)": "7"
                                },
                                {
                                    "USERNEV": "zoltan4",
                                    "METTOL": "2016-08-16",
                                    "MEDDIG": "2016-08-23",
                                    "(No column name)": "5"
                                },
                                {
                                    "USERNEV": "zoltan4",
                                    "METTOL": "2016-09-30",
                                    "MEDDIG": "2016-10-07",
                                    "(No column name)": "4"
                                },
                                {
                                    "USERNEV": "zoltan4",
                                    "METTOL": "2016-10-21",
                                    "MEDDIG": "2016-10-24",
                                    "(No column name)": "6"
                                },
                                {
                                    "USERNEV": "zoltan4",
                                    "METTOL": "2016-10-26",
                                    "MEDDIG": "2016-10-30",
                                    "(No column name)": "10"
                                },
                                {
                                    "USERNEV": "zoltan4",
                                    "METTOL": "2016-10-30",
                                    "MEDDIG": "2016-11-06",
                                    "(No column name)": "10"
                                },
                                {
                                    "USERNEV": "zoltan4",
                                    "METTOL": "2016-11-19",
                                    "MEDDIG": "2016-11-21",
                                    "(No column name)": "8"
                                },
                                {
                                    "USERNEV": "zoltan4",
                                    "METTOL": "2016-12-29",
                                    "MEDDIG": "2017-01-04",
                                    "(No column name)": "5"
                                },
                                {
                                    "USERNEV": "zoltan4",
                                    "METTOL": "2017-01-01",
                                    "MEDDIG": "2017-01-02",
                                    "(No column name)": "4"
                                },
                                {
                                    "USERNEV": "ZOLTANP",
                                    "METTOL": "2016-06-05",
                                    "MEDDIG": "2016-06-08",
                                    "(No column name)": "NULL"
                                },
                                {
                                    "USERNEV": "ZOLTANP",
                                    "METTOL": "2016-06-06",
                                    "MEDDIG": "2016-06-08",
                                    "(No column name)": "2"
                                },
                                {
                                    "USERNEV": "ZOLTANP",
                                    "METTOL": "2016-07-20",
                                    "MEDDIG": "2016-07-25",
                                    "(No column name)": "4"
                                },
                                {
                                    "USERNEV": "ZOLTANP",
                                    "METTOL": "2016-10-19",
                                    "MEDDIG": "2016-10-25",
                                    "(No column name)": "7"
                                },
                                {
                                    "USERNEV": "ZOLTANP",
                                    "METTOL": "2016-12-07",
                                    "MEDDIG": "2016-12-10",
                                    "(No column name)": "7"
                                },
                                {
                                    "USERNEV": "ZOLTANP",
                                    "METTOL": "2016-12-25",
                                    "MEDDIG": "2016-12-29",
                                    "(No column name)": "8"
                                },
                                {
                                    "USERNEV": "ZOLTANT",
                                    "METTOL": "2016-05-01",
                                    "MEDDIG": "2016-05-04",
                                    "(No column name)": "NULL"
                                },
                                {
                                    "USERNEV": "ZOLTANT",
                                    "METTOL": "2016-07-14",
                                    "MEDDIG": "2016-07-15",
                                    "(No column name)": "3"
                                },
                                {
                                    "USERNEV": "ZOLTANT",
                                    "METTOL": "2017-01-16",
                                    "MEDDIG": "2017-01-20",
                                    "(No column name)": "6"
                                },
                                {
                                    "USERNEV": "zsofi1",
                                    "METTOL": "2016-06-16",
                                    "MEDDIG": "2016-06-17",
                                    "(No column name)": "NULL"
                                },
                                {
                                    "USERNEV": "zsofi1",
                                    "METTOL": "2017-02-18",
                                    "MEDDIG": "2017-02-19",
                                    "(No column name)": "2"
                                },
                                {
                                    "USERNEV": "zsolt1",
                                    "METTOL": "2016-04-14",
                                    "MEDDIG": "2016-04-17",
                                    "(No column name)": "NULL"
                                },
                                {
                                    "USERNEV": "zsolt1",
                                    "METTOL": "2016-06-06",
                                    "MEDDIG": "2016-06-08",
                                    "(No column name)": "2"
                                },
                                {
                                    "USERNEV": "zsolt1",
                                    "METTOL": "2016-06-07",
                                    "MEDDIG": "2016-06-10",
                                    "(No column name)": "4"
                                },
                                {
                                    "USERNEV": "zsolt1",
                                    "METTOL": "2016-07-31",
                                    "MEDDIG": "2016-08-02",
                                    "(No column name)": "8"
                                },
                                {
                                    "USERNEV": "ZSOLTJ",
                                    "METTOL": "2016-04-24",
                                    "MEDDIG": "2016-04-26",
                                    "(No column name)": "NULL"
                                },
                                {
                                    "USERNEV": "ZSOLTJ",
                                    "METTOL": "2016-05-09",
                                    "MEDDIG": "2016-05-11",
                                    "(No column name)": "4"
                                },
                                {
                                    "USERNEV": "ZSOLTJ",
                                    "METTOL": "2016-05-28",
                                    "MEDDIG": "2016-06-03",
                                    "(No column name)": "6"
                                },
                                {
                                    "USERNEV": "ZSOLTJ",
                                    "METTOL": "2016-06-17",
                                    "MEDDIG": "2016-06-19",
                                    "(No column name)": "7"
                                },
                                {
                                    "USERNEV": "ZSOLTJ",
                                    "METTOL": "2016-07-18",
                                    "MEDDIG": "2016-07-19",
                                    "(No column name)": "5"
                                },
                                {
                                    "USERNEV": "ZSOLTJ",
                                    "METTOL": "2016-10-01",
                                    "MEDDIG": "2016-10-06",
                                    "(No column name)": "5"
                                },
                                {
                                    "USERNEV": "zsuzsa",
                                    "METTOL": "2016-07-24",
                                    "MEDDIG": "2016-07-25",
                                    "(No column name)": "NULL"
                                },
                                {
                                    "USERNEV": "zsuzsa",
                                    "METTOL": "2016-08-28",
                                    "MEDDIG": "2016-08-30",
                                    "(No column name)": "3"
                                },
                                {
                                    "USERNEV": "zsuzsa",
                                    "METTOL": "2016-11-28",
                                    "MEDDIG": "2016-12-04",
                                    "(No column name)": "5"
                                },
                                {
                                    "USERNEV": "zsuzsa3",
                                    "METTOL": "2016-07-30",
                                    "MEDDIG": "2016-08-02",
                                    "(No column name)": "NULL"
                                },
                                {
                                    "USERNEV": "zsuzsa3",
                                    "METTOL": "2016-09-09",
                                    "MEDDIG": "2016-09-10",
                                    "(No column name)": "2"
                                },
                                {
                                    "USERNEV": "zsuzsa3",
                                    "METTOL": "2016-09-28",
                                    "MEDDIG": "2016-10-03",
                                    "(No column name)": "4"
                                },
                                {
                                    "USERNEV": "zsuzsa3",
                                    "METTOL": "2016-10-27",
                                    "MEDDIG": "2016-11-03",
                                    "(No column name)": "6"
                                },
                                {
                                    "USERNEV": "zsuzsanna",
                                    "METTOL": "2016-05-17",
                                    "MEDDIG": "2016-05-23",
                                    "(No column name)": "NULL"
                                },
                                {
                                    "USERNEV": "zsuzsanna",
                                    "METTOL": "2016-07-12",
                                    "MEDDIG": "2016-07-15",
                                    "(No column name)": "2"
                                },
                                {
                                    "USERNEV": "zsuzsanna",
                                    "METTOL": "2017-01-09",
                                    "MEDDIG": "2017-01-16",
                                    "(No column name)": "4"
                                },
                                {
                                    "USERNEV": "zsuzsanna",
                                    "METTOL": "2017-01-16",
                                    "MEDDIG": "2017-01-22",
                                    "(No column name)": "5"
                                },
                                {
                                    "USERNEV": "ZSUZSAV",
                                    "METTOL": "2016-04-14",
                                    "MEDDIG": "2016-04-16",
                                    "(No column name)": "NULL"
                                },
                                {
                                    "USERNEV": "ZSUZSAV",
                                    "METTOL": "2016-05-28",
                                    "MEDDIG": "2016-06-01",
                                    "(No column name)": "2"
                                },
                                {
                                    "USERNEV": "ZSUZSAV",
                                    "METTOL": "2016-06-15",
                                    "MEDDIG": "2016-06-21",
                                    "(No column name)": "6"
                                },
                                {
                                    "USERNEV": "ZSUZSAV",
                                    "METTOL": "2016-09-18",
                                    "MEDDIG": "2016-09-20",
                                    "(No column name)": "9"
                                },
                                {
                                    "USERNEV": "ZSUZSAV",
                                    "METTOL": "2016-10-26",
                                    "MEDDIG": "2016-10-28",
                                    "(No column name)": "9"
                                },
                                {
                                    "USERNEV": "ZSUZSAV",
                                    "METTOL": "2016-11-21",
                                    "MEDDIG": "2016-11-24",
                                    "(No column name)": "6"
                                }
                            ]
                        },
                        "text/html": [
                            "<table>",
                            "<tr><th>USERNEV</th><th>METTOL</th><th>MEDDIG</th><th>(No column name)</th><th>(No column name)</th></tr>",
                            "<tr><td>adam1</td><td>2016-05-28</td><td>2016-06-03</td><td>3</td><td>NULL</td></tr>",
                            "<tr><td>adam1</td><td>2016-08-20</td><td>2016-08-24</td><td>1</td><td>3</td></tr>",
                            "<tr><td>adam1</td><td>2016-10-19</td><td>2016-10-24</td><td>2</td><td>4</td></tr>",
                            "<tr><td>adam3</td><td>2016-09-12</td><td>2016-09-16</td><td>2</td><td>NULL</td></tr>",
                            "<tr><td>adam3</td><td>2017-02-06</td><td>2017-02-10</td><td>1</td><td>2</td></tr>",
                            "<tr><td>adam4</td><td>2016-08-28</td><td>2016-08-30</td><td>3</td><td>NULL</td></tr>",
                            "<tr><td>adam4</td><td>2016-10-27</td><td>2016-11-02</td><td>3</td><td>3</td></tr>",
                            "<tr><td>adam4</td><td>2016-11-15</td><td>2016-11-18</td><td>2</td><td>6</td></tr>",
                            "<tr><td>adam4</td><td>2016-12-06</td><td>2016-12-09</td><td>3</td><td>8</td></tr>",
                            "<tr><td>adam4</td><td>2017-01-12</td><td>2017-01-19</td><td>2</td><td>8</td></tr>",
                            "<tr><td>adam4</td><td>2017-02-23</td><td>2017-02-27</td><td>3</td><td>7</td></tr>",
                            "<tr><td>agnes</td><td>2016-05-09</td><td>2016-05-11</td><td>3</td><td>NULL</td></tr>",
                            "<tr><td>agnes</td><td>2016-05-25</td><td>2016-05-30</td><td>1</td><td>3</td></tr>",
                            "<tr><td>agnes</td><td>2016-07-13</td><td>2016-07-19</td><td>3</td><td>4</td></tr>",
                            "<tr><td>agnes</td><td>2016-07-30</td><td>2016-08-06</td><td>3</td><td>7</td></tr>",
                            "<tr><td>agnes</td><td>2016-11-07</td><td>2016-11-13</td><td>2</td><td>7</td></tr>",
                            "<tr><td>agnes3</td><td>2016-08-04</td><td>2016-08-10</td><td>1</td><td>NULL</td></tr>",
                            "<tr><td>agnes3</td><td>2016-10-22</td><td>2016-10-23</td><td>3</td><td>1</td></tr>",
                            "<tr><td>agnes3</td><td>2017-02-16</td><td>2017-02-21</td><td>3</td><td>4</td></tr>",
                            "<tr><td>AGNESH</td><td>2016-04-10</td><td>2016-04-12</td><td>2</td><td>NULL</td></tr>",
                            "<tr><td>AGNESH</td><td>2016-04-27</td><td>2016-04-28</td><td>4</td><td>2</td></tr>",
                            "<tr><td>AGNESH</td><td>2016-06-23</td><td>2016-06-26</td><td>1</td><td>6</td></tr>",
                            "<tr><td>AGNESH</td><td>2016-10-30</td><td>2016-11-04</td><td>1</td><td>7</td></tr>",
                            "<tr><td>AGNESH</td><td>2017-01-03</td><td>2017-01-10</td><td>2</td><td>6</td></tr>",
                            "<tr><td>AGNESH</td><td>2017-01-16</td><td>2017-01-23</td><td>3</td><td>4</td></tr>",
                            "<tr><td>AGNESK</td><td>2016-07-29</td><td>2016-08-01</td><td>3</td><td>NULL</td></tr>",
                            "<tr><td>AGNESK</td><td>2016-10-17</td><td>2016-10-19</td><td>2</td><td>3</td></tr>",
                            "<tr><td>AGNESK</td><td>2016-12-17</td><td>2016-12-18</td><td>2</td><td>5</td></tr>",
                            "<tr><td>akos</td><td>2016-05-18</td><td>2016-05-19</td><td>2</td><td>NULL</td></tr>",
                            "<tr><td>akos</td><td>2016-07-14</td><td>2016-07-19</td><td>2</td><td>2</td></tr>",
                            "<tr><td>akos</td><td>2016-07-16</td><td>2016-07-18</td><td>2</td><td>4</td></tr>",
                            "<tr><td>akos</td><td>2016-07-22</td><td>2016-07-26</td><td>1</td><td>6</td></tr>",
                            "<tr><td>akos</td><td>2016-09-06</td><td>2016-09-12</td><td>1</td><td>5</td></tr>",
                            "<tr><td>akos</td><td>2016-10-05</td><td>2016-10-09</td><td>2</td><td>4</td></tr>",
                            "<tr><td>akos</td><td>2016-10-18</td><td>2016-10-23</td><td>2</td><td>4</td></tr>",
                            "<tr><td>akos</td><td>2016-11-21</td><td>2016-11-27</td><td>2</td><td>5</td></tr>",
                            "<tr><td>akos</td><td>2016-12-15</td><td>2016-12-21</td><td>2</td><td>6</td></tr>",
                            "<tr><td>akos</td><td>2016-12-29</td><td>2016-12-30</td><td>3</td><td>6</td></tr>",
                            "<tr><td>aladar</td><td>2016-05-17</td><td>2016-05-24</td><td>1</td><td>NULL</td></tr>",
                            "<tr><td>aladar</td><td>2016-09-24</td><td>2016-09-28</td><td>1</td><td>1</td></tr>",
                            "<tr><td>aladar</td><td>2016-11-22</td><td>2016-11-23</td><td>2</td><td>2</td></tr>",
                            "<tr><td>alexandra</td><td>2016-05-21</td><td>2016-05-27</td><td>3</td><td>NULL</td></tr>",
                            "<tr><td>alexandra</td><td>2016-06-08</td><td>2016-06-11</td><td>3</td><td>3</td></tr>",
                            "<tr><td>alexandra</td><td>2016-07-27</td><td>2016-07-30</td><td>2</td><td>6</td></tr>",
                            "<tr><td>alexandra</td><td>2016-10-21</td><td>2016-10-25</td><td>2</td><td>8</td></tr>",
                            "<tr><td>alexandra</td><td>2016-11-29</td><td>2016-12-05</td><td>2</td><td>7</td></tr>",
                            "<tr><td>alexandra</td><td>2017-01-13</td><td>2017-01-14</td><td>1</td><td>6</td></tr>",
                            "<tr><td>alexandra</td><td>2017-01-19</td><td>2017-01-26</td><td>2</td><td>5</td></tr>",
                            "<tr><td>andi</td><td>2016-05-08</td><td>2016-05-14</td><td>4</td><td>NULL</td></tr>",
                            "<tr><td>andi</td><td>2016-06-13</td><td>2016-06-14</td><td>1</td><td>4</td></tr>",
                            "<tr><td>andi</td><td>2016-09-13</td><td>2016-09-16</td><td>2</td><td>5</td></tr>",
                            "<tr><td>andi</td><td>2016-11-16</td><td>2016-11-17</td><td>3</td><td>7</td></tr>",
                            "<tr><td>andi</td><td>2017-01-13</td><td>2017-01-17</td><td>3</td><td>6</td></tr>",
                            "<tr><td>andras2</td><td>2016-05-30</td><td>2016-06-04</td><td>1</td><td>NULL</td></tr>",
                            "<tr><td>andras2</td><td>2016-07-20</td><td>2016-07-22</td><td>2</td><td>1</td></tr>",
                            "<tr><td>andras2</td><td>2016-09-30</td><td>2016-10-03</td><td>2</td><td>3</td></tr>",
                            "<tr><td>andras2</td><td>2016-10-07</td><td>2016-10-10</td><td>3</td><td>5</td></tr>",
                            "<tr><td>andras2</td><td>2017-02-08</td><td>2017-02-10</td><td>4</td><td>7</td></tr>",
                            "<tr><td>andras21</td><td>2016-06-21</td><td>2016-06-26</td><td>2</td><td>NULL</td></tr>",
                            "<tr><td>andras21</td><td>2016-07-04</td><td>2016-07-05</td><td>3</td><td>2</td></tr>",
                            "<tr><td>andras21</td><td>2016-07-20</td><td>2016-07-22</td><td>1</td><td>5</td></tr>",
                            "<tr><td>andras21</td><td>2016-10-01</td><td>2016-10-06</td><td>3</td><td>6</td></tr>",
                            "<tr><td>andras21</td><td>2016-10-04</td><td>2016-10-11</td><td>3</td><td>7</td></tr>",
                            "<tr><td>andras21</td><td>2016-11-23</td><td>2016-11-24</td><td>4</td><td>7</td></tr>",
                            "<tr><td>andras21</td><td>2017-01-28</td><td>2017-02-01</td><td>2</td><td>10</td></tr>",
                            "<tr><td>andras3</td><td>2016-05-01</td><td>2016-05-06</td><td>2</td><td>NULL</td></tr>",
                            "<tr><td>andras3</td><td>2016-05-30</td><td>2016-06-03</td><td>1</td><td>2</td></tr>",
                            "<tr><td>andras3</td><td>2016-06-10</td><td>2016-06-11</td><td>1</td><td>3</td></tr>",
                            "<tr><td>andras3</td><td>2016-07-15</td><td>2016-07-19</td><td>3</td><td>4</td></tr>",
                            "<tr><td>andras3</td><td>2016-07-21</td><td>2016-07-23</td><td>2</td><td>5</td></tr>",
                            "<tr><td>andras3</td><td>2016-08-29</td><td>2016-09-02</td><td>3</td><td>6</td></tr>",
                            "<tr><td>andras3</td><td>2016-11-28</td><td>2016-12-02</td><td>2</td><td>8</td></tr>",
                            "<tr><td>andras3</td><td>2017-02-02</td><td>2017-02-08</td><td>2</td><td>7</td></tr>",
                            "<tr><td>andras4</td><td>2016-09-17</td><td>2016-09-20</td><td>2</td><td>NULL</td></tr>",
                            "<tr><td>andras4</td><td>2016-11-25</td><td>2016-11-28</td><td>2</td><td>2</td></tr>",
                            "<tr><td>andras4</td><td>2017-01-09</td><td>2017-01-10</td><td>2</td><td>4</td></tr>",
                            "<tr><td>andras41</td><td>2016-05-14</td><td>2016-05-16</td><td>2</td><td>NULL</td></tr>",
                            "<tr><td>andras41</td><td>2016-05-21</td><td>2016-05-23</td><td>4</td><td>2</td></tr>",
                            "<tr><td>andras41</td><td>2016-06-07</td><td>2016-06-11</td><td>3</td><td>6</td></tr>",
                            "<tr><td>andras41</td><td>2016-06-23</td><td>2016-06-29</td><td>2</td><td>9</td></tr>",
                            "<tr><td>andras41</td><td>2016-07-28</td><td>2016-08-03</td><td>3</td><td>9</td></tr>",
                            "<tr><td>andras41</td><td>2016-08-17</td><td>2016-08-21</td><td>3</td><td>8</td></tr>",
                            "<tr><td>andras41</td><td>2016-08-19</td><td>2016-08-23</td><td>1</td><td>8</td></tr>",
                            "<tr><td>andras41</td><td>2016-09-22</td><td>2016-09-29</td><td>1</td><td>7</td></tr>",
                            "<tr><td>andras41</td><td>2016-09-30</td><td>2016-10-05</td><td>2</td><td>5</td></tr>",
                            "<tr><td>andras41</td><td>2016-10-09</td><td>2016-10-13</td><td>2</td><td>4</td></tr>",
                            "<tr><td>andras41</td><td>2016-10-15</td><td>2016-10-18</td><td>3</td><td>5</td></tr>",
                            "<tr><td>andras41</td><td>2016-11-20</td><td>2016-11-24</td><td>3</td><td>7</td></tr>",
                            "<tr><td>andras41</td><td>2016-11-23</td><td>2016-11-24</td><td>1</td><td>8</td></tr>",
                            "<tr><td>ANDRASE</td><td>2016-04-24</td><td>2016-05-01</td><td>1</td><td>NULL</td></tr>",
                            "<tr><td>ANDRASE</td><td>2016-07-06</td><td>2016-07-07</td><td>2</td><td>1</td></tr>",
                            "<tr><td>ANDRASE</td><td>2016-08-16</td><td>2016-08-20</td><td>2</td><td>3</td></tr>",
                            "<tr><td>ANDRASE</td><td>2016-11-19</td><td>2016-11-20</td><td>4</td><td>5</td></tr>",
                            "<tr><td>ANDRASE</td><td>2016-11-29</td><td>2016-12-06</td><td>3</td><td>8</td></tr>",
                            "<tr><td>ANDRASN</td><td>2016-11-25</td><td>2016-12-01</td><td>2</td><td>NULL</td></tr>",
                            "<tr><td>andrea</td><td>2016-07-27</td><td>2016-07-28</td><td>2</td><td>NULL</td></tr>",
                            "<tr><td>andrea</td><td>2016-08-01</td><td>2016-08-02</td><td>2</td><td>2</td></tr>",
                            "<tr><td>andrea</td><td>2016-08-23</td><td>2016-08-26</td><td>3</td><td>4</td></tr>",
                            "<tr><td>andrea</td><td>2016-08-26</td><td>2016-08-30</td><td>2</td><td>7</td></tr>",
                            "<tr><td>andrea</td><td>2016-10-21</td><td>2016-10-27</td><td>4</td><td>7</td></tr>",
                            "<tr><td>andrea</td><td>2017-02-09</td><td>2017-02-14</td><td>2</td><td>9</td></tr>",
                            "<tr><td>andrea3</td><td>2016-11-19</td><td>2016-11-21</td><td>3</td><td>NULL</td></tr>",
                            "<tr><td>andrea4</td><td>2016-05-27</td><td>2016-05-29</td><td>1</td><td>NULL</td></tr>",
                            "<tr><td>andrea4</td><td>2016-09-13</td><td>2016-09-17</td><td>2</td><td>1</td></tr>",
                            "<tr><td>andrea4</td><td>2016-10-30</td><td>2016-11-06</td><td>3</td><td>3</td></tr>",
                            "<tr><td>andrea4</td><td>2017-01-22</td><td>2017-01-29</td><td>2</td><td>6</td></tr>",
                            "<tr><td>ANDREAT</td><td>2016-07-27</td><td>2016-08-01</td><td>2</td><td>NULL</td></tr>",
                            "<tr><td>ANDREAT</td><td>2016-09-15</td><td>2016-09-16</td><td>2</td><td>2</td></tr>",
                            "<tr><td>ANDREAT</td><td>2016-10-08</td><td>2016-10-12</td><td>3</td><td>4</td></tr>",
                            "<tr><td>anett3</td><td>2016-04-10</td><td>2016-04-17</td><td>1</td><td>NULL</td></tr>",
                            "<tr><td>anett3</td><td>2016-04-13</td><td>2016-04-19</td><td>3</td><td>1</td></tr>",
                            "<tr><td>anett3</td><td>2016-04-15</td><td>2016-04-19</td><td>3</td><td>4</td></tr>",
                            "<tr><td>anett3</td><td>2016-04-28</td><td>2016-05-02</td><td>3</td><td>7</td></tr>",
                            "<tr><td>anett3</td><td>2016-08-15</td><td>2016-08-16</td><td>2</td><td>9</td></tr>",
                            "<tr><td>anett3</td><td>2016-08-17</td><td>2016-08-23</td><td>3</td><td>8</td></tr>",
                            "<tr><td>anett3</td><td>2016-10-12</td><td>2016-10-19</td><td>3</td><td>8</td></tr>",
                            "<tr><td>anett3</td><td>2016-10-16</td><td>2016-10-21</td><td>1</td><td>8</td></tr>",
                            "<tr><td>aniko</td><td>2016-06-25</td><td>2016-06-30</td><td>3</td><td>NULL</td></tr>",
                            "<tr><td>aniko</td><td>2017-02-12</td><td>2017-02-14</td><td>3</td><td>3</td></tr>",
                            "<tr><td>aniko</td><td>2017-02-23</td><td>2017-02-24</td><td>2</td><td>6</td></tr>",
                            "<tr><td>aniko4</td><td>2016-07-02</td><td>2016-07-09</td><td>1</td><td>NULL</td></tr>",
                            "<tr><td>aniko4</td><td>2016-07-22</td><td>2016-07-25</td><td>3</td><td>1</td></tr>",
                            "<tr><td>aniko4</td><td>2016-09-05</td><td>2016-09-07</td><td>4</td><td>4</td></tr>",
                            "<tr><td>aniko4</td><td>2016-10-16</td><td>2016-10-18</td><td>3</td><td>8</td></tr>",
                            "<tr><td>ANIKOS</td><td>2016-04-19</td><td>2016-04-24</td><td>2</td><td>NULL</td></tr>",
                            "<tr><td>ANIKOS</td><td>2016-05-24</td><td>2016-05-25</td><td>3</td><td>2</td></tr>",
                            "<tr><td>ANIKOS</td><td>2016-06-16</td><td>2016-06-23</td><td>1</td><td>5</td></tr>",
                            "<tr><td>ANIKOS</td><td>2016-06-27</td><td>2016-06-30</td><td>2</td><td>6</td></tr>",
                            "<tr><td>ANIKOS</td><td>2016-07-17</td><td>2016-07-22</td><td>3</td><td>6</td></tr>",
                            "<tr><td>ANIKOS</td><td>2016-08-26</td><td>2016-09-02</td><td>2</td><td>6</td></tr>",
                            "<tr><td>ANIKOS</td><td>2016-10-08</td><td>2016-10-14</td><td>2</td><td>7</td></tr>",
                            "<tr><td>ANIKOS</td><td>2016-10-29</td><td>2016-11-05</td><td>3</td><td>7</td></tr>",
                            "<tr><td>ANIKOS</td><td>2016-11-10</td><td>2016-11-15</td><td>2</td><td>7</td></tr>",
                            "<tr><td>anita</td><td>2016-09-28</td><td>2016-10-02</td><td>4</td><td>NULL</td></tr>",
                            "<tr><td>anita</td><td>2016-10-01</td><td>2016-10-04</td><td>2</td><td>4</td></tr>",
                            "<tr><td>anita</td><td>2017-02-19</td><td>2017-02-22</td><td>2</td><td>6</td></tr>",
                            "<tr><td>anita</td><td>2017-02-20</td><td>2017-02-25</td><td>2</td><td>8</td></tr>",
                            "<tr><td>annamaria1</td><td>2016-06-06</td><td>2016-06-07</td><td>3</td><td>NULL</td></tr>",
                            "<tr><td>annamaria1</td><td>2017-01-30</td><td>2017-01-31</td><td>4</td><td>3</td></tr>",
                            "<tr><td>ANNAMARIAR</td><td>2016-06-08</td><td>2016-06-11</td><td>2</td><td>NULL</td></tr>",
                            "<tr><td>ANNAMARIAR</td><td>2016-07-18</td><td>2016-07-21</td><td>1</td><td>2</td></tr>",
                            "<tr><td>ANNAMARIAR</td><td>2016-09-23</td><td>2016-09-27</td><td>2</td><td>3</td></tr>",
                            "<tr><td>ANNAMARIAR</td><td>2016-11-11</td><td>2016-11-12</td><td>3</td><td>5</td></tr>",
                            "<tr><td>ANNAMARIAR</td><td>2017-01-10</td><td>2017-01-13</td><td>2</td><td>6</td></tr>",
                            "<tr><td>ANNAMARIAR</td><td>2017-02-16</td><td>2017-02-18</td><td>2</td><td>7</td></tr>",
                            "<tr><td>aron2</td><td>2016-04-11</td><td>2016-04-12</td><td>3</td><td>NULL</td></tr>",
                            "<tr><td>aron2</td><td>2016-07-04</td><td>2016-07-06</td><td>3</td><td>3</td></tr>",
                            "<tr><td>aron2</td><td>2016-10-23</td><td>2016-10-27</td><td>2</td><td>6</td></tr>",
                            "<tr><td>aron2</td><td>2016-11-05</td><td>2016-11-09</td><td>2</td><td>8</td></tr>",
                            "<tr><td>aron2</td><td>2017-01-17</td><td>2017-01-18</td><td>3</td><td>7</td></tr>",
                            "<tr><td>aron2</td><td>2017-02-26</td><td>2017-02-27</td><td>3</td><td>7</td></tr>",
                            "<tr><td>ARONK</td><td>2016-04-06</td><td>2016-04-08</td><td>2</td><td>NULL</td></tr>",
                            "<tr><td>ARONK</td><td>2016-05-14</td><td>2016-05-20</td><td>4</td><td>2</td></tr>",
                            "<tr><td>ARONK</td><td>2016-06-04</td><td>2016-06-09</td><td>2</td><td>6</td></tr>",
                            "<tr><td>ARONK</td><td>2016-06-07</td><td>2016-06-13</td><td>3</td><td>8</td></tr>",
                            "<tr><td>ARONK</td><td>2016-07-03</td><td>2016-07-07</td><td>2</td><td>9</td></tr>",
                            "<tr><td>ARONK</td><td>2016-08-05</td><td>2016-08-08</td><td>4</td><td>7</td></tr>",
                            "<tr><td>ARONK</td><td>2016-09-08</td><td>2016-09-15</td><td>2</td><td>9</td></tr>",
                            "<tr><td>ARONK</td><td>2016-11-03</td><td>2016-11-10</td><td>2</td><td>8</td></tr>",
                            "<tr><td>ARONK</td><td>2016-11-05</td><td>2016-11-07</td><td>2</td><td>8</td></tr>",
                            "<tr><td>ARONK</td><td>2016-12-07</td><td>2016-12-12</td><td>3</td><td>6</td></tr>",
                            "<tr><td>ARONK</td><td>2017-01-01</td><td>2017-01-03</td><td>2</td><td>7</td></tr>",
                            "<tr><td>ARONK</td><td>2017-01-30</td><td>2017-02-03</td><td>2</td><td>7</td></tr>",
                            "<tr><td>ARONK</td><td>2017-02-21</td><td>2017-02-23</td><td>2</td><td>7</td></tr>",
                            "<tr><td>arpad2</td><td>2016-06-05</td><td>2016-06-07</td><td>2</td><td>NULL</td></tr>",
                            "<tr><td>arpad2</td><td>2016-08-23</td><td>2016-08-25</td><td>2</td><td>2</td></tr>",
                            "<tr><td>arpad2</td><td>2016-09-28</td><td>2016-09-30</td><td>2</td><td>4</td></tr>",
                            "<tr><td>arpad2</td><td>2016-10-13</td><td>2016-10-19</td><td>3</td><td>6</td></tr>",
                            "<tr><td>arpad2</td><td>2016-11-06</td><td>2016-11-10</td><td>2</td><td>7</td></tr>",
                            "<tr><td>arpad2</td><td>2016-12-24</td><td>2016-12-27</td><td>3</td><td>7</td></tr>",
                            "<tr><td>arpad2</td><td>2017-02-18</td><td>2017-02-19</td><td>4</td><td>8</td></tr>",
                            "<tr><td>ARPADH</td><td>2016-06-06</td><td>2016-06-07</td><td>3</td><td>NULL</td></tr>",
                            "<tr><td>ARPADH</td><td>2016-07-14</td><td>2016-07-18</td><td>2</td><td>3</td></tr>",
                            "<tr><td>ARPADH</td><td>2016-09-16</td><td>2016-09-23</td><td>1</td><td>5</td></tr>",
                            "<tr><td>ARPADH</td><td>2016-09-18</td><td>2016-09-25</td><td>1</td><td>6</td></tr>",
                            "<tr><td>ARPADH</td><td>2016-12-04</td><td>2016-12-10</td><td>1</td><td>4</td></tr>",
                            "<tr><td>ARPADH</td><td>2016-12-18</td><td>2016-12-19</td><td>3</td><td>3</td></tr>",
                            "<tr><td>ARPADH</td><td>2017-02-16</td><td>2017-02-18</td><td>2</td><td>5</td></tr>",
                            "<tr><td>ARPADM</td><td>2016-05-29</td><td>2016-06-01</td><td>2</td><td>NULL</td></tr>",
                            "<tr><td>ARPADM</td><td>2016-08-12</td><td>2016-08-16</td><td>2</td><td>2</td></tr>",
                            "<tr><td>ARPADM</td><td>2016-11-09</td><td>2016-11-11</td><td>2</td><td>4</td></tr>",
                            "<tr><td>ARPADM</td><td>2016-12-14</td><td>2016-12-17</td><td>3</td><td>6</td></tr>",
                            "<tr><td>ARPADM</td><td>2017-01-05</td><td>2017-01-10</td><td>1</td><td>7</td></tr>",
                            "<tr><td>ARPADM</td><td>2017-02-12</td><td>2017-02-14</td><td>3</td><td>6</td></tr>",
                            "<tr><td>attila</td><td>2016-09-30</td><td>2016-10-07</td><td>3</td><td>NULL</td></tr>",
                            "<tr><td>attila</td><td>2016-10-15</td><td>2016-10-19</td><td>1</td><td>3</td></tr>",
                            "<tr><td>attila</td><td>2016-12-22</td><td>2016-12-26</td><td>2</td><td>4</td></tr>",
                            "<tr><td>attila1</td><td>2016-05-20</td><td>2016-05-26</td><td>1</td><td>NULL</td></tr>",
                            "<tr><td>attila1</td><td>2016-10-09</td><td>2016-10-12</td><td>2</td><td>1</td></tr>",
                            "<tr><td>attila1</td><td>2016-10-15</td><td>2016-10-16</td><td>3</td><td>3</td></tr>",
                            "<tr><td>attila1</td><td>2016-10-30</td><td>2016-11-05</td><td>2</td><td>6</td></tr>",
                            "<tr><td>attila1</td><td>2016-11-10</td><td>2016-11-14</td><td>2</td><td>7</td></tr>",
                            "<tr><td>attila1</td><td>2017-01-23</td><td>2017-01-30</td><td>4</td><td>7</td></tr>",
                            "<tr><td>attila4</td><td>2016-08-18</td><td>2016-08-23</td><td>4</td><td>NULL</td></tr>",
                            "<tr><td>attila4</td><td>2016-12-31</td><td>2017-01-01</td><td>2</td><td>4</td></tr>",
                            "<tr><td>attila4</td><td>2017-02-15</td><td>2017-02-22</td><td>2</td><td>6</td></tr>",
                            "<tr><td>ATTILAO</td><td>2016-05-21</td><td>2016-05-26</td><td>3</td><td>NULL</td></tr>",
                            "<tr><td>ATTILAO</td><td>2016-06-04</td><td>2016-06-11</td><td>3</td><td>3</td></tr>",
                            "<tr><td>ATTILAO</td><td>2016-10-30</td><td>2016-11-03</td><td>2</td><td>6</td></tr>",
                            "<tr><td>ATTILAO</td><td>2017-02-22</td><td>2017-02-25</td><td>3</td><td>8</td></tr>",
                            "<tr><td>balazs1</td><td>2016-05-07</td><td>2016-05-14</td><td>2</td><td>NULL</td></tr>",
                            "<tr><td>balazs1</td><td>2016-07-22</td><td>2016-07-26</td><td>4</td><td>2</td></tr>",
                            "<tr><td>balazs1</td><td>2016-12-26</td><td>2016-12-28</td><td>3</td><td>6</td></tr>",
                            "<tr><td>balazs1</td><td>2017-01-01</td><td>2017-01-05</td><td>2</td><td>9</td></tr>",
                            "<tr><td>balazs1</td><td>2017-02-10</td><td>2017-02-14</td><td>3</td><td>9</td></tr>",
                            "<tr><td>balazs1</td><td>2017-02-12</td><td>2017-02-14</td><td>2</td><td>8</td></tr>",
                            "<tr><td>balazs2</td><td>2016-04-16</td><td>2016-04-19</td><td>2</td><td>NULL</td></tr>",
                            "<tr><td>balazs2</td><td>2016-05-22</td><td>2016-05-29</td><td>3</td><td>2</td></tr>",
                            "<tr><td>balazs2</td><td>2016-05-28</td><td>2016-06-01</td><td>3</td><td>5</td></tr>",
                            "<tr><td>balazs2</td><td>2016-07-08</td><td>2016-07-12</td><td>3</td><td>8</td></tr>",
                            "<tr><td>balazs2</td><td>2016-07-10</td><td>2016-07-17</td><td>3</td><td>9</td></tr>",
                            "<tr><td>balazs2</td><td>2016-07-20</td><td>2016-07-25</td><td>2</td><td>9</td></tr>",
                            "<tr><td>balazs2</td><td>2016-08-21</td><td>2016-08-22</td><td>3</td><td>8</td></tr>",
                            "<tr><td>balazs2</td><td>2016-09-12</td><td>2016-09-14</td><td>3</td><td>8</td></tr>",
                            "<tr><td>balazs2</td><td>2016-11-03</td><td>2016-11-05</td><td>3</td><td>8</td></tr>",
                            "<tr><td>balazs2</td><td>2017-02-27</td><td>2017-03-06</td><td>1</td><td>9</td></tr>",
                            "<tr><td>balazs3</td><td>2016-07-17</td><td>2016-07-21</td><td>2</td><td>NULL</td></tr>",
                            "<tr><td>balazs3</td><td>2016-07-27</td><td>2016-07-31</td><td>4</td><td>2</td></tr>",
                            "<tr><td>balazs3</td><td>2016-08-24</td><td>2016-08-28</td><td>3</td><td>6</td></tr>",
                            "<tr><td>balazs3</td><td>2016-09-15</td><td>2016-09-16</td><td>3</td><td>9</td></tr>",
                            "<tr><td>balazs3</td><td>2016-12-05</td><td>2016-12-11</td><td>3</td><td>10</td></tr>",
                            "<tr><td>balazs3</td><td>2017-01-20</td><td>2017-01-22</td><td>2</td><td>9</td></tr>",
                            "<tr><td>balint</td><td>2016-04-22</td><td>2016-04-29</td><td>2</td><td>NULL</td></tr>",
                            "<tr><td>balint</td><td>2016-10-09</td><td>2016-10-11</td><td>2</td><td>2</td></tr>",
                            "<tr><td>balint</td><td>2016-11-24</td><td>2016-11-29</td><td>3</td><td>4</td></tr>",
                            "<tr><td>balint1</td><td>2016-06-07</td><td>2016-06-11</td><td>3</td><td>NULL</td></tr>",
                            "<tr><td>balint1</td><td>2016-06-07</td><td>2016-06-12</td><td>3</td><td>3</td></tr>",
                            "<tr><td>balint1</td><td>2016-06-10</td><td>2016-06-12</td><td>1</td><td>6</td></tr>",
                            "<tr><td>balint1</td><td>2016-07-26</td><td>2016-07-28</td><td>2</td><td>7</td></tr>",
                            "<tr><td>balint1</td><td>2016-08-03</td><td>2016-08-08</td><td>2</td><td>6</td></tr>",
                            "<tr><td>balint1</td><td>2016-09-16</td><td>2016-09-21</td><td>1</td><td>5</td></tr>",
                            "<tr><td>balint1</td><td>2016-11-07</td><td>2016-11-10</td><td>2</td><td>5</td></tr>",
                            "<tr><td>balint1</td><td>2016-12-17</td><td>2016-12-22</td><td>3</td><td>5</td></tr>",
                            "<tr><td>balint1</td><td>2016-12-29</td><td>2016-12-31</td><td>3</td><td>6</td></tr>",
                            "<tr><td>balint1</td><td>2017-01-03</td><td>2017-01-08</td><td>2</td><td>8</td></tr>",
                            "<tr><td>balint2</td><td>2016-07-21</td><td>2016-07-26</td><td>1</td><td>NULL</td></tr>",
                            "<tr><td>balint2</td><td>2016-12-04</td><td>2016-12-06</td><td>3</td><td>1</td></tr>",
                            "<tr><td>balu</td><td>2016-08-06</td><td>2016-08-10</td><td>2</td><td>NULL</td></tr>",
                            "<tr><td>balu</td><td>2016-12-22</td><td>2016-12-23</td><td>2</td><td>2</td></tr>",
                            "<tr><td>beata4</td><td>2016-04-20</td><td>2016-04-21</td><td>2</td><td>NULL</td></tr>",
                            "<tr><td>beata4</td><td>2016-06-03</td><td>2016-06-04</td><td>2</td><td>2</td></tr>",
                            "<tr><td>beata4</td><td>2016-07-03</td><td>2016-07-06</td><td>1</td><td>4</td></tr>",
                            "<tr><td>beata4</td><td>2016-08-25</td><td>2016-08-27</td><td>3</td><td>5</td></tr>",
                            "<tr><td>beata4</td><td>2016-10-01</td><td>2016-10-05</td><td>1</td><td>6</td></tr>",
                            "<tr><td>beata4</td><td>2016-10-03</td><td>2016-10-06</td><td>3</td><td>5</td></tr>",
                            "<tr><td>BEATRIXK</td><td>2016-06-10</td><td>2016-06-11</td><td>2</td><td>NULL</td></tr>",
                            "<tr><td>BEATRIXK</td><td>2016-06-10</td><td>2016-06-14</td><td>2</td><td>2</td></tr>",
                            "<tr><td>BEATRIXK</td><td>2016-06-19</td><td>2016-06-21</td><td>3</td><td>4</td></tr>",
                            "<tr><td>BEATRIXK</td><td>2016-08-12</td><td>2016-08-18</td><td>4</td><td>7</td></tr>",
                            "<tr><td>BEATRIXK</td><td>2016-10-23</td><td>2016-10-28</td><td>2</td><td>9</td></tr>",
                            "<tr><td>BEATRIXK</td><td>2016-11-14</td><td>2016-11-19</td><td>2</td><td>9</td></tr>",
                            "<tr><td>BEATRIXK</td><td>2016-12-12</td><td>2016-12-14</td><td>3</td><td>8</td></tr>",
                            "<tr><td>BEATRIXK</td><td>2016-12-17</td><td>2016-12-22</td><td>4</td><td>7</td></tr>",
                            "<tr><td>BEATRIXK</td><td>2017-02-08</td><td>2017-02-09</td><td>3</td><td>9</td></tr>",
                            "<tr><td>BEATRIXS</td><td>2016-04-18</td><td>2016-04-24</td><td>1</td><td>NULL</td></tr>",
                            "<tr><td>BEATRIXS</td><td>2016-06-11</td><td>2016-06-14</td><td>3</td><td>1</td></tr>",
                            "<tr><td>BEATRIXS</td><td>2016-10-01</td><td>2016-10-03</td><td>3</td><td>4</td></tr>",
                            "<tr><td>BEATRIXS</td><td>2016-10-01</td><td>2016-10-05</td><td>3</td><td>7</td></tr>",
                            "<tr><td>BEATRIXS</td><td>2016-12-21</td><td>2016-12-27</td><td>2</td><td>9</td></tr>",
                            "<tr><td>BEATRIXS</td><td>2017-02-03</td><td>2017-02-04</td><td>2</td><td>8</td></tr>",
                            "<tr><td>BELAF</td><td>2016-07-27</td><td>2016-07-30</td><td>3</td><td>NULL</td></tr>",
                            "<tr><td>BELAF</td><td>2016-07-29</td><td>2016-07-31</td><td>2</td><td>3</td></tr>",
                            "<tr><td>BELAF</td><td>2016-08-29</td><td>2016-08-31</td><td>2</td><td>5</td></tr>",
                            "<tr><td>BELAF</td><td>2016-11-03</td><td>2016-11-09</td><td>4</td><td>7</td></tr>",
                            "<tr><td>BELAF</td><td>2016-12-02</td><td>2016-12-04</td><td>3</td><td>8</td></tr>",
                            "<tr><td>BELAF</td><td>2016-12-06</td><td>2016-12-09</td><td>1</td><td>9</td></tr>",
                            "<tr><td>bence</td><td>2016-05-08</td><td>2016-05-11</td><td>2</td><td>NULL</td></tr>",
                            "<tr><td>bence</td><td>2016-05-29</td><td>2016-06-03</td><td>1</td><td>2</td></tr>",
                            "<tr><td>bence</td><td>2016-07-24</td><td>2016-07-30</td><td>2</td><td>3</td></tr>",
                            "<tr><td>bence</td><td>2016-07-25</td><td>2016-08-01</td><td>3</td><td>5</td></tr>",
                            "<tr><td>bence</td><td>2016-09-03</td><td>2016-09-06</td><td>3</td><td>6</td></tr>",
                            "<tr><td>bence</td><td>2016-10-30</td><td>2016-11-02</td><td>4</td><td>8</td></tr>",
                            "<tr><td>bence</td><td>2016-12-17</td><td>2016-12-18</td><td>2</td><td>10</td></tr>",
                            "<tr><td>bence</td><td>2016-12-26</td><td>2016-12-27</td><td>2</td><td>9</td></tr>",
                            "<tr><td>bence</td><td>2017-02-05</td><td>2017-02-09</td><td>3</td><td>8</td></tr>",
                            "<tr><td>BENCEB</td><td>2016-05-14</td><td>2016-05-17</td><td>3</td><td>NULL</td></tr>",
                            "<tr><td>BENCEB</td><td>2016-06-03</td><td>2016-06-09</td><td>2</td><td>3</td></tr>",
                            "<tr><td>BENCEB</td><td>2016-08-01</td><td>2016-08-02</td><td>2</td><td>5</td></tr>",
                            "<tr><td>BENCEB</td><td>2016-10-22</td><td>2016-10-29</td><td>3</td><td>7</td></tr>",
                            "<tr><td>BENCEB</td><td>2016-11-28</td><td>2016-12-02</td><td>2</td><td>7</td></tr>",
                            "<tr><td>BENCEB</td><td>2017-02-12</td><td>2017-02-19</td><td>3</td><td>7</td></tr>",
                            "<tr><td>bernadett1</td><td>2016-06-12</td><td>2016-06-17</td><td>3</td><td>NULL</td></tr>",
                            "<tr><td>bernadett1</td><td>2016-10-08</td><td>2016-10-09</td><td>4</td><td>3</td></tr>",
                            "<tr><td>bernadett1</td><td>2016-10-15</td><td>2016-10-22</td><td>3</td><td>7</td></tr>",
                            "<tr><td>bernadett1</td><td>2016-10-26</td><td>2016-11-02</td><td>3</td><td>10</td></tr>",
                            "<tr><td>bernadett1</td><td>2016-10-28</td><td>2016-11-01</td><td>3</td><td>10</td></tr>",
                            "<tr><td>bernadett1</td><td>2017-02-14</td><td>2017-02-15</td><td>3</td><td>9</td></tr>",
                            "<tr><td>bernadett1</td><td>2017-02-24</td><td>2017-03-03</td><td>1</td><td>9</td></tr>",
                            "<tr><td>bernadett2</td><td>2016-05-01</td><td>2016-05-03</td><td>2</td><td>NULL</td></tr>",
                            "<tr><td>bernadett2</td><td>2016-06-17</td><td>2016-06-23</td><td>3</td><td>2</td></tr>",
                            "<tr><td>bernadett2</td><td>2016-08-23</td><td>2016-08-29</td><td>2</td><td>5</td></tr>",
                            "<tr><td>bernadett2</td><td>2016-08-25</td><td>2016-08-27</td><td>3</td><td>7</td></tr>",
                            "<tr><td>bernadett2</td><td>2016-09-07</td><td>2016-09-13</td><td>3</td><td>8</td></tr>",
                            "<tr><td>bernadett2</td><td>2016-10-30</td><td>2016-11-06</td><td>3</td><td>8</td></tr>",
                            "<tr><td>bernadett2</td><td>2016-12-17</td><td>2016-12-20</td><td>1</td><td>9</td></tr>",
                            "<tr><td>bernadett2</td><td>2017-01-24</td><td>2017-01-30</td><td>3</td><td>7</td></tr>",
                            "<tr><td>BERNADETTO</td><td>2016-04-10</td><td>2016-04-17</td><td>2</td><td>NULL</td></tr>",
                            "<tr><td>BERNADETTO</td><td>2016-04-17</td><td>2016-04-19</td><td>2</td><td>2</td></tr>",
                            "<tr><td>BERNADETTO</td><td>2016-06-07</td><td>2016-06-13</td><td>3</td><td>4</td></tr>",
                            "<tr><td>BERNADETTO</td><td>2016-06-10</td><td>2016-06-16</td><td>4</td><td>7</td></tr>",
                            "<tr><td>BERNADETTO</td><td>2016-10-04</td><td>2016-10-05</td><td>2</td><td>9</td></tr>",
                            "<tr><td>BERNADETTO</td><td>2017-01-01</td><td>2017-01-02</td><td>3</td><td>9</td></tr>",
                            "<tr><td>BERNADETTO</td><td>2017-01-28</td><td>2017-02-03</td><td>2</td><td>9</td></tr>",
                            "<tr><td>bertalan</td><td>2016-05-18</td><td>2016-05-23</td><td>2</td><td>NULL</td></tr>",
                            "<tr><td>bertalan</td><td>2016-06-20</td><td>2016-06-21</td><td>1</td><td>2</td></tr>",
                            "<tr><td>bertalan</td><td>2016-11-03</td><td>2016-11-10</td><td>2</td><td>3</td></tr>",
                            "<tr><td>bertalan</td><td>2016-11-26</td><td>2016-11-29</td><td>3</td><td>5</td></tr>",
                            "<tr><td>bertalan</td><td>2017-02-16</td><td>2017-02-22</td><td>2</td><td>6</td></tr>",
                            "<tr><td>bertalan</td><td>2017-02-20</td><td>2017-02-24</td><td>4</td><td>7</td></tr>",
                            "<tr><td>brigitta</td><td>2016-05-30</td><td>2016-06-06</td><td>3</td><td>NULL</td></tr>",
                            "<tr><td>brigitta</td><td>2016-08-28</td><td>2016-09-01</td><td>3</td><td>3</td></tr>",
                            "<tr><td>brigitta</td><td>2016-10-21</td><td>2016-10-28</td><td>3</td><td>6</td></tr>",
                            "<tr><td>brigitta</td><td>2016-12-17</td><td>2016-12-22</td><td>2</td><td>9</td></tr>",
                            "<tr><td>brigitta</td><td>2017-01-23</td><td>2017-01-25</td><td>1</td><td>8</td></tr>",
                            "<tr><td>brigitta3</td><td>2016-06-01</td><td>2016-06-05</td><td>2</td><td>NULL</td></tr>",
                            "<tr><td>brigitta3</td><td>2016-06-13</td><td>2016-06-17</td><td>3</td><td>2</td></tr>",
                            "<tr><td>brigitta3</td><td>2016-10-10</td><td>2016-10-14</td><td>2</td><td>5</td></tr>",
                            "<tr><td>brigitta3</td><td>2016-11-03</td><td>2016-11-09</td><td>3</td><td>7</td></tr>",
                            "<tr><td>brigitta3</td><td>2017-02-09</td><td>2017-02-16</td><td>2</td><td>8</td></tr>",
                            "<tr><td>csongor3</td><td>2016-05-01</td><td>2016-05-04</td><td>2</td><td>NULL</td></tr>",
                            "<tr><td>csongor3</td><td>2016-05-08</td><td>2016-05-15</td><td>3</td><td>2</td></tr>",
                            "<tr><td>csongor3</td><td>2016-06-04</td><td>2016-06-05</td><td>2</td><td>5</td></tr>",
                            "<tr><td>csongor3</td><td>2016-06-10</td><td>2016-06-17</td><td>3</td><td>7</td></tr>",
                            "<tr><td>csongor3</td><td>2016-06-11</td><td>2016-06-14</td><td>2</td><td>8</td></tr>",
                            "<tr><td>csongor3</td><td>2016-07-09</td><td>2016-07-10</td><td>4</td><td>7</td></tr>",
                            "<tr><td>csongor3</td><td>2016-11-12</td><td>2016-11-17</td><td>3</td><td>9</td></tr>",
                            "<tr><td>csongor3</td><td>2017-02-13</td><td>2017-02-19</td><td>3</td><td>9</td></tr>",
                            "<tr><td>dani</td><td>2016-06-06</td><td>2016-06-10</td><td>3</td><td>NULL</td></tr>",
                            "<tr><td>dani</td><td>2016-07-11</td><td>2016-07-12</td><td>3</td><td>3</td></tr>",
                            "<tr><td>dani</td><td>2016-08-06</td><td>2016-08-09</td><td>2</td><td>6</td></tr>",
                            "<tr><td>dani</td><td>2016-09-19</td><td>2016-09-25</td><td>4</td><td>8</td></tr>",
                            "<tr><td>dani</td><td>2016-10-01</td><td>2016-10-02</td><td>1</td><td>9</td></tr>",
                            "<tr><td>dani</td><td>2016-11-22</td><td>2016-11-24</td><td>2</td><td>7</td></tr>",
                            "<tr><td>dani</td><td>2017-01-17</td><td>2017-01-23</td><td>2</td><td>7</td></tr>",
                            "<tr><td>dani</td><td>2017-01-22</td><td>2017-01-29</td><td>1</td><td>5</td></tr>",
                            "<tr><td>dani</td><td>2017-02-25</td><td>2017-03-01</td><td>3</td><td>5</td></tr>",
                            "<tr><td>daniel</td><td>2016-04-10</td><td>2016-04-11</td><td>4</td><td>NULL</td></tr>",
                            "<tr><td>daniel</td><td>2016-04-22</td><td>2016-04-25</td><td>2</td><td>4</td></tr>",
                            "<tr><td>daniel</td><td>2016-05-09</td><td>2016-05-13</td><td>3</td><td>6</td></tr>",
                            "<tr><td>daniel</td><td>2016-09-08</td><td>2016-09-10</td><td>4</td><td>9</td></tr>",
                            "<tr><td>daniel</td><td>2016-11-13</td><td>2016-11-19</td><td>3</td><td>9</td></tr>",
                            "<tr><td>daniel</td><td>2016-12-25</td><td>2016-12-26</td><td>3</td><td>10</td></tr>",
                            "<tr><td>daniel</td><td>2017-01-09</td><td>2017-01-11</td><td>1</td><td>10</td></tr>",
                            "<tr><td>daniel</td><td>2017-02-12</td><td>2017-02-13</td><td>3</td><td>7</td></tr>",
                            "<tr><td>daniel</td><td>2017-02-20</td><td>2017-02-23</td><td>3</td><td>7</td></tr>",
                            "<tr><td>daniel1</td><td>2016-04-10</td><td>2016-04-15</td><td>2</td><td>NULL</td></tr>",
                            "<tr><td>daniel1</td><td>2016-05-10</td><td>2016-05-13</td><td>4</td><td>2</td></tr>",
                            "<tr><td>daniel1</td><td>2016-05-26</td><td>2016-05-27</td><td>3</td><td>6</td></tr>",
                            "<tr><td>daniel1</td><td>2016-11-09</td><td>2016-11-11</td><td>2</td><td>9</td></tr>",
                            "<tr><td>daniel1</td><td>2016-11-23</td><td>2016-11-25</td><td>2</td><td>9</td></tr>",
                            "<tr><td>daniel1</td><td>2017-01-05</td><td>2017-01-08</td><td>3</td><td>7</td></tr>",
                            "<tr><td>daniel1</td><td>2017-03-01</td><td>2017-03-06</td><td>4</td><td>7</td></tr>",
                            "<tr><td>david</td><td>2016-05-18</td><td>2016-05-25</td><td>2</td><td>NULL</td></tr>",
                            "<tr><td>david</td><td>2016-06-09</td><td>2016-06-10</td><td>2</td><td>2</td></tr>",
                            "<tr><td>david</td><td>2016-06-30</td><td>2016-07-07</td><td>2</td><td>4</td></tr>",
                            "<tr><td>david</td><td>2016-07-18</td><td>2016-07-21</td><td>2</td><td>6</td></tr>",
                            "<tr><td>david</td><td>2016-08-05</td><td>2016-08-12</td><td>1</td><td>6</td></tr>",
                            "<tr><td>david</td><td>2016-08-20</td><td>2016-08-25</td><td>3</td><td>5</td></tr>",
                            "<tr><td>david</td><td>2016-08-22</td><td>2016-08-24</td><td>3</td><td>6</td></tr>",
                            "<tr><td>david</td><td>2016-10-30</td><td>2016-11-04</td><td>2</td><td>7</td></tr>",
                            "<tr><td>david</td><td>2017-01-18</td><td>2017-01-19</td><td>2</td><td>8</td></tr>",
                            "<tr><td>david1</td><td>2016-09-20</td><td>2016-09-21</td><td>2</td><td>NULL</td></tr>",
                            "<tr><td>david1</td><td>2016-10-01</td><td>2016-10-02</td><td>2</td><td>2</td></tr>",
                            "<tr><td>david1</td><td>2016-11-19</td><td>2016-11-22</td><td>2</td><td>4</td></tr>",
                            "<tr><td>david1</td><td>2016-12-30</td><td>2017-01-06</td><td>2</td><td>6</td></tr>",
                            "<tr><td>david1</td><td>2017-02-17</td><td>2017-02-20</td><td>3</td><td>6</td></tr>",
                            "<tr><td>david1</td><td>2017-02-25</td><td>2017-02-27</td><td>4</td><td>7</td></tr>",
                            "<tr><td>david4</td><td>2017-02-16</td><td>2017-02-19</td><td>3</td><td>NULL</td></tr>",
                            "<tr><td>debora</td><td>2016-06-22</td><td>2016-06-24</td><td>5</td><td>NULL</td></tr>",
                            "<tr><td>debora</td><td>2016-10-29</td><td>2016-11-03</td><td>2</td><td>5</td></tr>",
                            "<tr><td>debora</td><td>2017-01-23</td><td>2017-01-28</td><td>3</td><td>7</td></tr>",
                            "<tr><td>debora</td><td>2017-02-04</td><td>2017-02-06</td><td>3</td><td>10</td></tr>",
                            "<tr><td>denes</td><td>2016-05-27</td><td>2016-05-31</td><td>3</td><td>NULL</td></tr>",
                            "<tr><td>denes</td><td>2016-07-19</td><td>2016-07-23</td><td>2</td><td>3</td></tr>",
                            "<tr><td>denes</td><td>2016-08-01</td><td>2016-08-08</td><td>3</td><td>5</td></tr>",
                            "<tr><td>denes</td><td>2016-08-16</td><td>2016-08-23</td><td>2</td><td>8</td></tr>",
                            "<tr><td>denes</td><td>2016-08-20</td><td>2016-08-27</td><td>3</td><td>7</td></tr>",
                            "<tr><td>denes</td><td>2016-11-06</td><td>2016-11-10</td><td>2</td><td>8</td></tr>",
                            "<tr><td>dora3</td><td>2016-08-16</td><td>2016-08-19</td><td>4</td><td>NULL</td></tr>",
                            "<tr><td>dora3</td><td>2016-08-25</td><td>2016-08-29</td><td>3</td><td>4</td></tr>",
                            "<tr><td>dora3</td><td>2016-10-09</td><td>2016-10-12</td><td>3</td><td>7</td></tr>",
                            "<tr><td>dora3</td><td>2016-10-29</td><td>2016-11-02</td><td>3</td><td>10</td></tr>",
                            "<tr><td>dora3</td><td>2016-11-22</td><td>2016-11-29</td><td>3</td><td>9</td></tr>",
                            "<tr><td>edit</td><td>2016-07-14</td><td>2016-07-17</td><td>3</td><td>NULL</td></tr>",
                            "<tr><td>edit</td><td>2016-08-03</td><td>2016-08-09</td><td>4</td><td>3</td></tr>",
                            "<tr><td>edit</td><td>2016-08-12</td><td>2016-08-14</td><td>2</td><td>7</td></tr>",
                            "<tr><td>edit</td><td>2016-09-17</td><td>2016-09-24</td><td>2</td><td>9</td></tr>",
                            "<tr><td>edit</td><td>2016-09-18</td><td>2016-09-21</td><td>3</td><td>8</td></tr>",
                            "<tr><td>edit</td><td>2017-01-15</td><td>2017-01-18</td><td>4</td><td>7</td></tr>",
                            "<tr><td>edit</td><td>2017-02-08</td><td>2017-02-14</td><td>3</td><td>9</td></tr>",
                            "<tr><td>emese</td><td>2016-07-22</td><td>2016-07-24</td><td>2</td><td>NULL</td></tr>",
                            "<tr><td>emese</td><td>2016-08-09</td><td>2016-08-12</td><td>2</td><td>2</td></tr>",
                            "<tr><td>emese</td><td>2016-09-27</td><td>2016-09-28</td><td>3</td><td>4</td></tr>",
                            "<tr><td>emese</td><td>2016-11-05</td><td>2016-11-09</td><td>1</td><td>7</td></tr>",
                            "<tr><td>emese</td><td>2016-11-23</td><td>2016-11-27</td><td>4</td><td>6</td></tr>",
                            "<tr><td>emese</td><td>2016-12-07</td><td>2016-12-08</td><td>3</td><td>8</td></tr>",
                            "<tr><td>emese</td><td>2017-01-30</td><td>2017-01-31</td><td>2</td><td>8</td></tr>",
                            "<tr><td>eszter</td><td>2016-08-12</td><td>2016-08-18</td><td>3</td><td>NULL</td></tr>",
                            "<tr><td>eszter</td><td>2016-10-04</td><td>2016-10-10</td><td>3</td><td>3</td></tr>",
                            "<tr><td>eszter</td><td>2016-10-26</td><td>2016-11-01</td><td>3</td><td>6</td></tr>",
                            "<tr><td>eszter</td><td>2016-12-23</td><td>2016-12-28</td><td>2</td><td>9</td></tr>",
                            "<tr><td>eszter2</td><td>2016-06-30</td><td>2016-07-07</td><td>3</td><td>NULL</td></tr>",
                            "<tr><td>eszter2</td><td>2016-07-08</td><td>2016-07-09</td><td>1</td><td>3</td></tr>",
                            "<tr><td>eszter2</td><td>2016-10-01</td><td>2016-10-05</td><td>3</td><td>4</td></tr>",
                            "<tr><td>eszter2</td><td>2016-10-01</td><td>2016-10-06</td><td>1</td><td>7</td></tr>",
                            "<tr><td>eszter2</td><td>2016-10-20</td><td>2016-10-25</td><td>1</td><td>5</td></tr>",
                            "<tr><td>eszter2</td><td>2016-10-23</td><td>2016-10-30</td><td>1</td><td>5</td></tr>",
                            "<tr><td>eszter2</td><td>2016-11-05</td><td>2016-11-12</td><td>4</td><td>3</td></tr>",
                            "<tr><td>eszter2</td><td>2016-12-02</td><td>2016-12-07</td><td>1</td><td>6</td></tr>",
                            "<tr><td>eszter2</td><td>2016-12-05</td><td>2016-12-08</td><td>2</td><td>6</td></tr>",
                            "<tr><td>eszter2</td><td>2016-12-29</td><td>2017-02-04</td><td>1</td><td>7</td></tr>",
                            "<tr><td>eszter4</td><td>2017-01-05</td><td>2017-01-10</td><td>2</td><td>NULL</td></tr>",
                            "<tr><td>eszter4</td><td>2017-01-26</td><td>2017-02-02</td><td>2</td><td>2</td></tr>",
                            "<tr><td>eszter4</td><td>2017-02-26</td><td>2017-02-27</td><td>3</td><td>4</td></tr>",
                            "<tr><td>ESZTERE</td><td>2016-05-30</td><td>2016-06-05</td><td>2</td><td>NULL</td></tr>",
                            "<tr><td>ESZTERE</td><td>2016-07-19</td><td>2016-07-21</td><td>2</td><td>2</td></tr>",
                            "<tr><td>ESZTERE</td><td>2016-11-01</td><td>2016-11-08</td><td>2</td><td>4</td></tr>",
                            "<tr><td>ESZTERE</td><td>2017-02-10</td><td>2017-02-14</td><td>2</td><td>6</td></tr>",
                            "<tr><td>eva</td><td>2016-10-06</td><td>2016-10-09</td><td>3</td><td>NULL</td></tr>",
                            "<tr><td>eva</td><td>2017-01-14</td><td>2017-01-16</td><td>2</td><td>3</td></tr>",
                            "<tr><td>eva2</td><td>2016-09-02</td><td>2016-09-03</td><td>1</td><td>NULL</td></tr>",
                            "<tr><td>eva2</td><td>2016-11-06</td><td>2016-11-13</td><td>2</td><td>1</td></tr>",
                            "<tr><td>eva2</td><td>2016-12-06</td><td>2016-12-11</td><td>2</td><td>3</td></tr>",
                            "<tr><td>eva2</td><td>2017-01-06</td><td>2017-01-09</td><td>4</td><td>5</td></tr>",
                            "<tr><td>EVAV</td><td>2016-05-01</td><td>2016-05-05</td><td>3</td><td>NULL</td></tr>",
                            "<tr><td>EVAV</td><td>2016-08-31</td><td>2016-09-04</td><td>2</td><td>3</td></tr>",
                            "<tr><td>EVAV</td><td>2016-10-15</td><td>2016-10-21</td><td>3</td><td>5</td></tr>",
                            "<tr><td>EVAV</td><td>2016-10-16</td><td>2016-10-23</td><td>2</td><td>8</td></tr>",
                            "<tr><td>EVAV</td><td>2017-02-04</td><td>2017-02-11</td><td>5</td><td>7</td></tr>",
                            "<tr><td>ferenc1</td><td>2016-05-08</td><td>2016-05-11</td><td>2</td><td>NULL</td></tr>",
                            "<tr><td>ferenc1</td><td>2016-06-16</td><td>2016-06-22</td><td>2</td><td>2</td></tr>",
                            "<tr><td>ferenc1</td><td>2016-10-08</td><td>2016-10-09</td><td>2</td><td>4</td></tr>",
                            "<tr><td>ferenc1</td><td>2016-11-07</td><td>2016-11-08</td><td>3</td><td>6</td></tr>",
                            "<tr><td>fruzsina4</td><td>2016-06-02</td><td>2016-06-04</td><td>2</td><td>NULL</td></tr>",
                            "<tr><td>fruzsina4</td><td>2016-07-01</td><td>2016-07-04</td><td>3</td><td>2</td></tr>",
                            "<tr><td>fruzsina4</td><td>2016-07-13</td><td>2016-07-19</td><td>3</td><td>5</td></tr>",
                            "<tr><td>fruzsina4</td><td>2016-08-27</td><td>2016-08-30</td><td>4</td><td>8</td></tr>",
                            "<tr><td>fruzsina4</td><td>2016-09-29</td><td>2016-10-01</td><td>3</td><td>10</td></tr>",
                            "<tr><td>fruzsina4</td><td>2016-11-22</td><td>2016-11-24</td><td>2</td><td>10</td></tr>",
                            "<tr><td>fruzsina4</td><td>2016-12-16</td><td>2016-12-21</td><td>1</td><td>9</td></tr>",
                            "<tr><td>fruzsina4</td><td>2017-01-22</td><td>2017-01-25</td><td>4</td><td>6</td></tr>",
                            "<tr><td>gabor1</td><td>2016-06-20</td><td>2016-06-21</td><td>4</td><td>NULL</td></tr>",
                            "<tr><td>gabor1</td><td>2016-07-12</td><td>2016-07-15</td><td>1</td><td>4</td></tr>",
                            "<tr><td>gabor1</td><td>2016-07-28</td><td>2016-07-30</td><td>2</td><td>5</td></tr>",
                            "<tr><td>gabor1</td><td>2016-09-02</td><td>2016-09-03</td><td>3</td><td>7</td></tr>",
                            "<tr><td>gabor1</td><td>2016-10-20</td><td>2016-10-24</td><td>1</td><td>6</td></tr>",
                            "<tr><td>gabor1</td><td>2016-11-19</td><td>2016-11-22</td><td>2</td><td>6</td></tr>",
                            "<tr><td>gabor4</td><td>2016-04-26</td><td>2016-04-29</td><td>3</td><td>NULL</td></tr>",
                            "<tr><td>gabor4</td><td>2016-05-30</td><td>2016-06-05</td><td>1</td><td>3</td></tr>",
                            "<tr><td>gabor4</td><td>2016-08-31</td><td>2016-09-06</td><td>4</td><td>4</td></tr>",
                            "<tr><td>gabor4</td><td>2016-11-07</td><td>2016-11-13</td><td>4</td><td>8</td></tr>",
                            "<tr><td>gabriella1</td><td>2016-04-21</td><td>2016-04-24</td><td>3</td><td>NULL</td></tr>",
                            "<tr><td>gabriella1</td><td>2016-07-10</td><td>2016-07-11</td><td>3</td><td>3</td></tr>",
                            "<tr><td>gabriella1</td><td>2016-07-24</td><td>2016-07-31</td><td>2</td><td>6</td></tr>",
                            "<tr><td>gabriella1</td><td>2017-02-04</td><td>2017-02-11</td><td>3</td><td>8</td></tr>",
                            "<tr><td>gabriella1</td><td>2017-02-12</td><td>2017-02-13</td><td>2</td><td>8</td></tr>",
                            "<tr><td>gabriella1</td><td>2017-02-21</td><td>2017-02-27</td><td>3</td><td>7</td></tr>",
                            "<tr><td>gabriella10</td><td>2016-10-01</td><td>2016-10-06</td><td>3</td><td>NULL</td></tr>",
                            "<tr><td>georgij</td><td>2016-06-16</td><td>2016-06-20</td><td>3</td><td>NULL</td></tr>",
                            "<tr><td>georgij</td><td>2016-08-16</td><td>2016-08-22</td><td>4</td><td>3</td></tr>",
                            "<tr><td>georgij</td><td>2016-08-28</td><td>2016-09-04</td><td>2</td><td>7</td></tr>",
                            "<tr><td>georgij</td><td>2016-09-18</td><td>2016-09-24</td><td>3</td><td>9</td></tr>",
                            "<tr><td>gusztav</td><td>2016-05-06</td><td>2016-05-13</td><td>2</td><td>NULL</td></tr>",
                            "<tr><td>gusztav</td><td>2016-08-05</td><td>2016-08-11</td><td>3</td><td>2</td></tr>",
                            "<tr><td>gusztav</td><td>2016-10-01</td><td>2016-10-03</td><td>3</td><td>5</td></tr>",
                            "<tr><td>gusztav</td><td>2017-02-03</td><td>2017-02-09</td><td>2</td><td>8</td></tr>",
                            "<tr><td>gusztav</td><td>2017-02-23</td><td>2017-03-01</td><td>4</td><td>8</td></tr>",
                            "<tr><td>GYONGYIK</td><td>2016-06-02</td><td>2016-06-05</td><td>3</td><td>NULL</td></tr>",
                            "<tr><td>GYONGYIK</td><td>2016-06-10</td><td>2016-06-17</td><td>1</td><td>3</td></tr>",
                            "<tr><td>GYONGYIK</td><td>2016-07-01</td><td>2016-07-05</td><td>2</td><td>4</td></tr>",
                            "<tr><td>GYONGYIK</td><td>2016-08-17</td><td>2016-08-21</td><td>3</td><td>6</td></tr>",
                            "<tr><td>GYONGYIK</td><td>2016-11-08</td><td>2016-11-13</td><td>2</td><td>6</td></tr>",
                            "<tr><td>GYONGYIK</td><td>2016-12-01</td><td>2016-12-08</td><td>2</td><td>7</td></tr>",
                            "<tr><td>GYONGYIK</td><td>2017-01-22</td><td>2017-01-29</td><td>3</td><td>7</td></tr>",
                            "<tr><td>GYORGYO</td><td>2016-05-27</td><td>2016-05-28</td><td>3</td><td>NULL</td></tr>",
                            "<tr><td>GYORGYO</td><td>2016-06-01</td><td>2016-06-07</td><td>2</td><td>3</td></tr>",
                            "<tr><td>GYORGYO</td><td>2016-06-10</td><td>2016-06-15</td><td>2</td><td>5</td></tr>",
                            "<tr><td>GYORGYO</td><td>2016-07-18</td><td>2016-07-25</td><td>2</td><td>7</td></tr>",
                            "<tr><td>GYORGYO</td><td>2016-07-28</td><td>2016-08-03</td><td>3</td><td>6</td></tr>",
                            "<tr><td>GYORGYO</td><td>2016-10-28</td><td>2016-10-31</td><td>1</td><td>7</td></tr>",
                            "<tr><td>GYORGYO</td><td>2017-02-13</td><td>2017-02-15</td><td>2</td><td>6</td></tr>",
                            "<tr><td>GYORGYO</td><td>2017-02-24</td><td>2017-02-25</td><td>3</td><td>6</td></tr>",
                            "<tr><td>henrik3</td><td>2016-08-24</td><td>2016-08-28</td><td>1</td><td>NULL</td></tr>",
                            "<tr><td>henrik3</td><td>2016-12-29</td><td>2017-01-03</td><td>3</td><td>1</td></tr>",
                            "<tr><td>henrik3</td><td>2017-01-27</td><td>2017-01-28</td><td>3</td><td>4</td></tr>",
                            "<tr><td>IBOLYAA</td><td>2016-08-29</td><td>2016-08-31</td><td>5</td><td>NULL</td></tr>",
                            "<tr><td>IBOLYAA</td><td>2016-10-23</td><td>2016-10-28</td><td>2</td><td>5</td></tr>",
                            "<tr><td>IBOLYAA</td><td>2017-01-17</td><td>2017-01-23</td><td>3</td><td>7</td></tr>",
                            "<tr><td>ilona3</td><td>2016-07-31</td><td>2016-08-06</td><td>2</td><td>NULL</td></tr>",
                            "<tr><td>ilona3</td><td>2016-08-04</td><td>2016-08-08</td><td>3</td><td>2</td></tr>",
                            "<tr><td>ilona3</td><td>2016-11-04</td><td>2016-11-06</td><td>4</td><td>5</td></tr>",
                            "<tr><td>ilona3</td><td>2016-12-25</td><td>2016-12-31</td><td>3</td><td>9</td></tr>",
                            "<tr><td>imre</td><td>2016-09-17</td><td>2016-09-19</td><td>3</td><td>NULL</td></tr>",
                            "<tr><td>imre</td><td>2016-10-28</td><td>2016-10-29</td><td>4</td><td>3</td></tr>",
                            "<tr><td>imre1</td><td>2016-06-23</td><td>2016-06-26</td><td>4</td><td>NULL</td></tr>",
                            "<tr><td>imre1</td><td>2016-06-27</td><td>2016-06-28</td><td>2</td><td>4</td></tr>",
                            "<tr><td>imre1</td><td>2016-08-21</td><td>2016-08-27</td><td>2</td><td>6</td></tr>",
                            "<tr><td>imre1</td><td>2016-08-23</td><td>2016-08-25</td><td>3</td><td>8</td></tr>",
                            "<tr><td>imre1</td><td>2016-08-29</td><td>2016-08-31</td><td>2</td><td>7</td></tr>",
                            "<tr><td>imre1</td><td>2017-02-01</td><td>2017-02-04</td><td>2</td><td>7</td></tr>",
                            "<tr><td>imre1</td><td>2017-02-05</td><td>2017-02-07</td><td>4</td><td>7</td></tr>",
                            "<tr><td>istvan</td><td>2016-10-07</td><td>2016-10-10</td><td>2</td><td>NULL</td></tr>",
                            "<tr><td>istvan</td><td>2016-11-22</td><td>2016-11-24</td><td>3</td><td>2</td></tr>",
                            "<tr><td>istvan</td><td>2017-01-02</td><td>2017-01-05</td><td>2</td><td>5</td></tr>",
                            "<tr><td>istvan1</td><td>2016-04-16</td><td>2016-04-22</td><td>3</td><td>NULL</td></tr>",
                            "<tr><td>istvan1</td><td>2016-04-24</td><td>2016-04-28</td><td>3</td><td>3</td></tr>",
                            "<tr><td>istvan1</td><td>2016-07-19</td><td>2016-07-24</td><td>1</td><td>6</td></tr>",
                            "<tr><td>istvan1</td><td>2017-02-07</td><td>2017-02-10</td><td>3</td><td>7</td></tr>",
                            "<tr><td>ISTVANV</td><td>2016-07-01</td><td>2016-07-04</td><td>4</td><td>NULL</td></tr>",
                            "<tr><td>ISTVANV</td><td>2016-09-29</td><td>2016-10-01</td><td>3</td><td>4</td></tr>",
                            "<tr><td>janos3</td><td>2016-06-04</td><td>2016-06-06</td><td>1</td><td>NULL</td></tr>",
                            "<tr><td>janos3</td><td>2016-08-24</td><td>2016-08-25</td><td>3</td><td>1</td></tr>",
                            "<tr><td>janos3</td><td>2016-10-03</td><td>2016-10-08</td><td>3</td><td>4</td></tr>",
                            "<tr><td>janos3</td><td>2016-10-22</td><td>2016-10-23</td><td>1</td><td>7</td></tr>",
                            "<tr><td>janos3</td><td>2017-02-12</td><td>2017-02-14</td><td>3</td><td>7</td></tr>",
                            "<tr><td>JANOSG</td><td>2016-05-09</td><td>2016-05-15</td><td>1</td><td>NULL</td></tr>",
                            "<tr><td>JANOSG</td><td>2016-08-16</td><td>2016-08-23</td><td>3</td><td>1</td></tr>",
                            "<tr><td>JANOSG</td><td>2016-08-30</td><td>2016-09-03</td><td>3</td><td>4</td></tr>",
                            "<tr><td>JANOSG</td><td>2016-11-07</td><td>2016-11-14</td><td>3</td><td>7</td></tr>",
                            "<tr><td>JANOSG</td><td>2016-12-28</td><td>2016-12-30</td><td>2</td><td>9</td></tr>",
                            "<tr><td>JANOSG</td><td>2017-01-10</td><td>2017-01-15</td><td>2</td><td>8</td></tr>",
                            "<tr><td>JANOSG</td><td>2017-01-31</td><td>2017-02-05</td><td>2</td><td>7</td></tr>",
                            "<tr><td>JANOSP</td><td>2016-07-04</td><td>2016-07-11</td><td>3</td><td>NULL</td></tr>",
                            "<tr><td>JANOSP</td><td>2016-11-23</td><td>2016-11-28</td><td>2</td><td>3</td></tr>",
                            "<tr><td>JANOSP</td><td>2016-11-25</td><td>2016-11-27</td><td>2</td><td>5</td></tr>",
                            "<tr><td>JANOSP</td><td>2016-12-18</td><td>2016-12-21</td><td>2</td><td>7</td></tr>",
                            "<tr><td>jozsef</td><td>2016-09-13</td><td>2016-09-19</td><td>2</td><td>NULL</td></tr>",
                            "<tr><td>jozsef</td><td>2016-10-08</td><td>2016-10-10</td><td>2</td><td>2</td></tr>",
                            "<tr><td>jozsef</td><td>2016-12-06</td><td>2016-12-07</td><td>2</td><td>4</td></tr>",
                            "<tr><td>jozsef2</td><td>2016-07-06</td><td>2016-07-11</td><td>2</td><td>NULL</td></tr>",
                            "<tr><td>jozsef2</td><td>2016-07-16</td><td>2016-07-20</td><td>3</td><td>2</td></tr>",
                            "<tr><td>jozsef2</td><td>2016-09-09</td><td>2016-09-15</td><td>2</td><td>5</td></tr>",
                            "<tr><td>jozsef2</td><td>2016-11-23</td><td>2016-11-29</td><td>3</td><td>7</td></tr>",
                            "<tr><td>jozsef2</td><td>2016-11-25</td><td>2016-11-29</td><td>3</td><td>8</td></tr>",
                            "<tr><td>JOZSEFG</td><td>2016-05-02</td><td>2016-05-06</td><td>2</td><td>NULL</td></tr>",
                            "<tr><td>JOZSEFG</td><td>2016-05-23</td><td>2016-05-25</td><td>1</td><td>2</td></tr>",
                            "<tr><td>JOZSEFG</td><td>2016-06-04</td><td>2016-06-09</td><td>4</td><td>3</td></tr>",
                            "<tr><td>JOZSEFG</td><td>2016-08-24</td><td>2016-08-27</td><td>3</td><td>7</td></tr>",
                            "<tr><td>JOZSEFG</td><td>2017-01-09</td><td>2017-01-13</td><td>2</td><td>8</td></tr>",
                            "<tr><td>JOZSEFG</td><td>2017-01-22</td><td>2017-01-26</td><td>1</td><td>9</td></tr>",
                            "<tr><td>JOZSEFG</td><td>2017-02-24</td><td>2017-03-03</td><td>3</td><td>6</td></tr>",
                            "<tr><td>JUDITH</td><td>2016-06-06</td><td>2016-06-10</td><td>2</td><td>NULL</td></tr>",
                            "<tr><td>JUDITH</td><td>2016-07-28</td><td>2016-07-30</td><td>2</td><td>2</td></tr>",
                            "<tr><td>JUDITH</td><td>2016-12-19</td><td>2016-12-26</td><td>1</td><td>4</td></tr>",
                            "<tr><td>julia</td><td>2016-04-21</td><td>2016-04-26</td><td>2</td><td>NULL</td></tr>",
                            "<tr><td>julia</td><td>2016-05-12</td><td>2016-05-17</td><td>1</td><td>2</td></tr>",
                            "<tr><td>julia</td><td>2016-06-07</td><td>2016-06-08</td><td>5</td><td>3</td></tr>",
                            "<tr><td>julia</td><td>2016-07-20</td><td>2016-07-22</td><td>2</td><td>8</td></tr>",
                            "<tr><td>julia</td><td>2017-02-27</td><td>2017-03-06</td><td>3</td><td>8</td></tr>",
                            "<tr><td>julia4</td><td>2016-11-07</td><td>2016-11-12</td><td>1</td><td>NULL</td></tr>",
                            "<tr><td>julia4</td><td>2017-02-04</td><td>2017-02-11</td><td>4</td><td>1</td></tr>",
                            "<tr><td>julianna4</td><td>2016-07-20</td><td>2016-07-26</td><td>2</td><td>NULL</td></tr>",
                            "<tr><td>julianna4</td><td>2016-10-29</td><td>2016-10-31</td><td>3</td><td>2</td></tr>",
                            "<tr><td>julianna4</td><td>2016-11-03</td><td>2016-11-04</td><td>2</td><td>5</td></tr>",
                            "<tr><td>julianna4</td><td>2016-11-27</td><td>2016-12-04</td><td>3</td><td>7</td></tr>",
                            "<tr><td>kata</td><td>2016-04-10</td><td>2016-04-11</td><td>2</td><td>NULL</td></tr>",
                            "<tr><td>kata</td><td>2016-04-25</td><td>2016-05-01</td><td>1</td><td>2</td></tr>",
                            "<tr><td>kata</td><td>2016-05-31</td><td>2016-06-01</td><td>3</td><td>3</td></tr>",
                            "<tr><td>kata</td><td>2016-06-07</td><td>2016-06-12</td><td>2</td><td>6</td></tr>",
                            "<tr><td>kata</td><td>2016-07-01</td><td>2016-07-07</td><td>2</td><td>6</td></tr>",
                            "<tr><td>kata</td><td>2016-07-03</td><td>2016-07-06</td><td>1</td><td>7</td></tr>",
                            "<tr><td>kata</td><td>2016-07-07</td><td>2016-07-09</td><td>3</td><td>5</td></tr>",
                            "<tr><td>kata</td><td>2016-08-24</td><td>2016-08-27</td><td>3</td><td>6</td></tr>",
                            "<tr><td>kata</td><td>2016-09-19</td><td>2016-09-20</td><td>3</td><td>7</td></tr>",
                            "<tr><td>kata</td><td>2017-01-15</td><td>2017-01-21</td><td>3</td><td>9</td></tr>",
                            "<tr><td>katalin</td><td>2016-04-10</td><td>2016-04-17</td><td>2</td><td>NULL</td></tr>",
                            "<tr><td>katalin</td><td>2016-05-21</td><td>2016-05-26</td><td>1</td><td>2</td></tr>",
                            "<tr><td>katalin</td><td>2016-07-06</td><td>2016-07-11</td><td>1</td><td>3</td></tr>",
                            "<tr><td>katalin</td><td>2016-07-28</td><td>2016-07-29</td><td>1</td><td>4</td></tr>",
                            "<tr><td>katalin</td><td>2016-10-26</td><td>2016-10-30</td><td>2</td><td>3</td></tr>",
                            "<tr><td>katalin</td><td>2016-12-13</td><td>2016-12-19</td><td>2</td><td>4</td></tr>",
                            "<tr><td>katalin</td><td>2016-12-17</td><td>2016-12-24</td><td>1</td><td>5</td></tr>",
                            "<tr><td>katalin</td><td>2016-12-24</td><td>2016-12-27</td><td>2</td><td>5</td></tr>",
                            "<tr><td>katalin</td><td>2017-02-24</td><td>2017-02-27</td><td>3</td><td>5</td></tr>",
                            "<tr><td>katalin4</td><td>2016-07-01</td><td>2016-07-07</td><td>1</td><td>NULL</td></tr>",
                            "<tr><td>katalin4</td><td>2016-07-03</td><td>2016-07-04</td><td>4</td><td>1</td></tr>",
                            "<tr><td>katalin4</td><td>2016-11-27</td><td>2016-12-04</td><td>3</td><td>5</td></tr>",
                            "<tr><td>katalin4</td><td>2016-12-04</td><td>2016-12-09</td><td>3</td><td>8</td></tr>",
                            "<tr><td>katalin4</td><td>2017-01-18</td><td>2017-01-20</td><td>2</td><td>10</td></tr>",
                            "<tr><td>katalin4</td><td>2017-01-24</td><td>2017-01-31</td><td>2</td><td>8</td></tr>",
                            "<tr><td>kati</td><td>2016-06-06</td><td>2016-06-10</td><td>2</td><td>NULL</td></tr>",
                            "<tr><td>kati</td><td>2016-06-06</td><td>2016-06-11</td><td>3</td><td>2</td></tr>",
                            "<tr><td>kati</td><td>2016-07-13</td><td>2016-07-20</td><td>2</td><td>5</td></tr>",
                            "<tr><td>kati</td><td>2016-07-27</td><td>2016-08-03</td><td>2</td><td>7</td></tr>",
                            "<tr><td>kati</td><td>2016-08-03</td><td>2016-08-07</td><td>2</td><td>7</td></tr>",
                            "<tr><td>kati</td><td>2016-10-26</td><td>2016-10-28</td><td>2</td><td>6</td></tr>",
                            "<tr><td>kati</td><td>2016-10-30</td><td>2016-11-01</td><td>3</td><td>6</td></tr>",
                            "<tr><td>katka</td><td>2016-04-10</td><td>2016-04-12</td><td>2</td><td>NULL</td></tr>",
                            "<tr><td>katka</td><td>2016-05-09</td><td>2016-05-15</td><td>3</td><td>2</td></tr>",
                            "<tr><td>katka</td><td>2016-06-13</td><td>2016-06-18</td><td>1</td><td>5</td></tr>",
                            "<tr><td>katka</td><td>2016-06-13</td><td>2016-06-19</td><td>4</td><td>6</td></tr>",
                            "<tr><td>katka</td><td>2016-08-24</td><td>2016-08-26</td><td>2</td><td>8</td></tr>",
                            "<tr><td>katka</td><td>2016-09-05</td><td>2016-09-10</td><td>4</td><td>7</td></tr>",
                            "<tr><td>katka</td><td>2016-11-05</td><td>2016-11-08</td><td>3</td><td>10</td></tr>",
                            "<tr><td>katka</td><td>2017-01-02</td><td>2017-01-05</td><td>3</td><td>9</td></tr>",
                            "<tr><td>katka</td><td>2017-01-19</td><td>2017-01-20</td><td>3</td><td>10</td></tr>",
                            "<tr><td>klaudia2</td><td>2016-06-06</td><td>2016-06-08</td><td>4</td><td>NULL</td></tr>",
                            "<tr><td>klaudia2</td><td>2016-10-01</td><td>2016-10-02</td><td>2</td><td>4</td></tr>",
                            "<tr><td>klaudia2</td><td>2016-10-02</td><td>2016-10-05</td><td>2</td><td>6</td></tr>",
                            "<tr><td>kornel4</td><td>2016-05-08</td><td>2016-05-14</td><td>3</td><td>NULL</td></tr>",
                            "<tr><td>kornel4</td><td>2016-06-02</td><td>2016-06-09</td><td>3</td><td>3</td></tr>",
                            "<tr><td>kornel4</td><td>2016-09-23</td><td>2016-09-24</td><td>3</td><td>6</td></tr>",
                            "<tr><td>kristof4</td><td>2016-04-08</td><td>2016-04-14</td><td>2</td><td>NULL</td></tr>",
                            "<tr><td>kristof4</td><td>2016-09-30</td><td>2016-10-04</td><td>2</td><td>2</td></tr>",
                            "<tr><td>kriszti</td><td>2016-05-19</td><td>2016-05-26</td><td>2</td><td>NULL</td></tr>",
                            "<tr><td>kriszti</td><td>2016-08-24</td><td>2016-08-25</td><td>3</td><td>2</td></tr>",
                            "<tr><td>kriszti</td><td>2016-09-30</td><td>2016-10-05</td><td>3</td><td>5</td></tr>",
                            "<tr><td>kriszti</td><td>2016-10-01</td><td>2016-10-02</td><td>3</td><td>8</td></tr>",
                            "<tr><td>kriszti</td><td>2017-02-04</td><td>2017-02-11</td><td>3</td><td>9</td></tr>",
                            "<tr><td>kriszti</td><td>2017-03-03</td><td>2017-03-04</td><td>3</td><td>9</td></tr>",
                            "<tr><td>krisztian4</td><td>2016-06-03</td><td>2016-06-04</td><td>2</td><td>NULL</td></tr>",
                            "<tr><td>krisztian4</td><td>2016-06-07</td><td>2016-06-09</td><td>2</td><td>2</td></tr>",
                            "<tr><td>krisztian4</td><td>2016-07-28</td><td>2016-08-01</td><td>2</td><td>4</td></tr>",
                            "<tr><td>krisztian4</td><td>2016-08-01</td><td>2016-08-04</td><td>3</td><td>6</td></tr>",
                            "<tr><td>krisztian4</td><td>2016-08-16</td><td>2016-08-19</td><td>1</td><td>7</td></tr>",
                            "<tr><td>krisztian4</td><td>2016-08-29</td><td>2016-09-03</td><td>1</td><td>6</td></tr>",
                            "<tr><td>krisztian4</td><td>2016-10-17</td><td>2016-10-22</td><td>3</td><td>5</td></tr>",
                            "<tr><td>krisztian4</td><td>2016-11-02</td><td>2016-11-03</td><td>2</td><td>5</td></tr>",
                            "<tr><td>krisztian4</td><td>2016-12-11</td><td>2016-12-18</td><td>2</td><td>6</td></tr>",
                            "<tr><td>krisztian4</td><td>2017-01-06</td><td>2017-01-09</td><td>1</td><td>7</td></tr>",
                            "<tr><td>krisztian4</td><td>2017-01-16</td><td>2017-01-23</td><td>3</td><td>5</td></tr>",
                            "<tr><td>krisztian4</td><td>2017-02-23</td><td>2017-03-02</td><td>2</td><td>6</td></tr>",
                            "<tr><td>KRISZTIANM</td><td>2016-04-09</td><td>2016-04-15</td><td>2</td><td>NULL</td></tr>",
                            "<tr><td>KRISZTIANM</td><td>2016-06-04</td><td>2016-06-08</td><td>2</td><td>2</td></tr>",
                            "<tr><td>KRISZTIANM</td><td>2016-07-09</td><td>2016-07-14</td><td>3</td><td>4</td></tr>",
                            "<tr><td>KRISZTIANM</td><td>2016-08-02</td><td>2016-08-08</td><td>4</td><td>7</td></tr>",
                            "<tr><td>KRISZTIANM</td><td>2016-12-25</td><td>2016-12-31</td><td>2</td><td>9</td></tr>",
                            "<tr><td>KRISZTIANM</td><td>2017-01-16</td><td>2017-01-23</td><td>1</td><td>9</td></tr>",
                            "<tr><td>krisztina</td><td>2016-05-21</td><td>2016-05-27</td><td>2</td><td>NULL</td></tr>",
                            "<tr><td>krisztina</td><td>2016-07-05</td><td>2016-07-12</td><td>3</td><td>2</td></tr>",
                            "<tr><td>krisztina</td><td>2016-09-13</td><td>2016-09-16</td><td>1</td><td>5</td></tr>",
                            "<tr><td>krisztina</td><td>2016-09-19</td><td>2016-09-26</td><td>2</td><td>6</td></tr>",
                            "<tr><td>krisztina</td><td>2016-11-08</td><td>2016-11-12</td><td>2</td><td>6</td></tr>",
                            "<tr><td>krisztina</td><td>2016-11-22</td><td>2016-11-25</td><td>1</td><td>5</td></tr>",
                            "<tr><td>krisztina</td><td>2017-02-05</td><td>2017-02-07</td><td>2</td><td>5</td></tr>",
                            "<tr><td>krisztina</td><td>2017-02-16</td><td>2017-02-20</td><td>4</td><td>5</td></tr>",
                            "<tr><td>krisztina1</td><td>2016-04-28</td><td>2016-04-30</td><td>2</td><td>NULL</td></tr>",
                            "<tr><td>krisztina1</td><td>2016-05-16</td><td>2016-05-20</td><td>1</td><td>2</td></tr>",
                            "<tr><td>krisztina1</td><td>2016-06-16</td><td>2016-06-22</td><td>2</td><td>3</td></tr>",
                            "<tr><td>krisztina1</td><td>2016-09-15</td><td>2016-09-20</td><td>3</td><td>5</td></tr>",
                            "<tr><td>krisztina1</td><td>2016-10-29</td><td>2016-10-30</td><td>4</td><td>6</td></tr>",
                            "<tr><td>krisztina1</td><td>2017-01-21</td><td>2017-01-24</td><td>2</td><td>9</td></tr>",
                            "<tr><td>KRISZTINAG</td><td>2016-04-23</td><td>2016-04-24</td><td>2</td><td>NULL</td></tr>",
                            "<tr><td>KRISZTINAG</td><td>2016-05-24</td><td>2016-05-31</td><td>1</td><td>2</td></tr>",
                            "<tr><td>KRISZTINAG</td><td>2016-06-08</td><td>2016-06-12</td><td>1</td><td>3</td></tr>",
                            "<tr><td>KRISZTINAG</td><td>2016-08-08</td><td>2016-08-12</td><td>3</td><td>4</td></tr>",
                            "<tr><td>KRISZTINAG</td><td>2017-01-25</td><td>2017-01-30</td><td>2</td><td>5</td></tr>",
                            "<tr><td>lajos</td><td>2016-07-18</td><td>2016-07-21</td><td>2</td><td>NULL</td></tr>",
                            "<tr><td>lajos</td><td>2016-12-25</td><td>2016-12-28</td><td>4</td><td>2</td></tr>",
                            "<tr><td>lajos</td><td>2017-02-12</td><td>2017-02-13</td><td>1</td><td>6</td></tr>",
                            "<tr><td>lala</td><td>2016-06-16</td><td>2016-06-22</td><td>2</td><td>NULL</td></tr>",
                            "<tr><td>lala</td><td>2016-07-20</td><td>2016-07-21</td><td>3</td><td>2</td></tr>",
                            "<tr><td>lala</td><td>2016-07-26</td><td>2016-07-27</td><td>3</td><td>5</td></tr>",
                            "<tr><td>lala</td><td>2016-10-30</td><td>2016-10-31</td><td>3</td><td>8</td></tr>",
                            "<tr><td>lala</td><td>2017-01-08</td><td>2017-01-10</td><td>3</td><td>9</td></tr>",
                            "<tr><td>lala</td><td>2017-01-17</td><td>2017-01-19</td><td>2</td><td>9</td></tr>",
                            "<tr><td>laszlo1</td><td>2016-09-23</td><td>2016-09-30</td><td>3</td><td>NULL</td></tr>",
                            "<tr><td>laszlo2</td><td>2016-04-06</td><td>2016-04-10</td><td>2</td><td>NULL</td></tr>",
                            "<tr><td>laszlo2</td><td>2016-04-27</td><td>2016-04-29</td><td>2</td><td>2</td></tr>",
                            "<tr><td>laszlo2</td><td>2016-08-14</td><td>2016-08-15</td><td>3</td><td>4</td></tr>",
                            "<tr><td>laszlo2</td><td>2016-09-05</td><td>2016-09-10</td><td>3</td><td>7</td></tr>",
                            "<tr><td>laszlo2</td><td>2016-11-25</td><td>2016-11-26</td><td>3</td><td>8</td></tr>",
                            "<tr><td>LASZLOA</td><td>2016-06-03</td><td>2016-06-09</td><td>2</td><td>NULL</td></tr>",
                            "<tr><td>LASZLOA</td><td>2016-06-07</td><td>2016-06-11</td><td>1</td><td>2</td></tr>",
                            "<tr><td>LASZLOA</td><td>2016-06-10</td><td>2016-06-13</td><td>3</td><td>3</td></tr>",
                            "<tr><td>LASZLOA</td><td>2017-02-08</td><td>2017-02-14</td><td>2</td><td>6</td></tr>",
                            "<tr><td>LASZLON</td><td>2016-06-03</td><td>2016-06-06</td><td>1</td><td>NULL</td></tr>",
                            "<tr><td>LASZLON</td><td>2016-06-08</td><td>2016-06-09</td><td>2</td><td>1</td></tr>",
                            "<tr><td>LASZLON</td><td>2016-10-01</td><td>2016-10-04</td><td>3</td><td>3</td></tr>",
                            "<tr><td>LASZLON</td><td>2016-10-09</td><td>2016-10-14</td><td>1</td><td>6</td></tr>",
                            "<tr><td>LASZLON</td><td>2016-11-29</td><td>2016-12-04</td><td>1</td><td>6</td></tr>",
                            "<tr><td>LASZLON</td><td>2017-02-18</td><td>2017-02-25</td><td>3</td><td>5</td></tr>",
                            "<tr><td>maria1</td><td>2016-05-13</td><td>2016-05-18</td><td>2</td><td>NULL</td></tr>",
                            "<tr><td>maria1</td><td>2016-05-18</td><td>2016-05-19</td><td>1</td><td>2</td></tr>",
                            "<tr><td>maria1</td><td>2016-05-28</td><td>2016-06-03</td><td>2</td><td>3</td></tr>",
                            "<tr><td>maria1</td><td>2016-06-23</td><td>2016-06-27</td><td>1</td><td>5</td></tr>",
                            "<tr><td>maria1</td><td>2016-08-11</td><td>2016-08-14</td><td>3</td><td>4</td></tr>",
                            "<tr><td>maria1</td><td>2016-09-02</td><td>2016-09-05</td><td>1</td><td>6</td></tr>",
                            "<tr><td>maria1</td><td>2016-11-08</td><td>2016-11-12</td><td>3</td><td>5</td></tr>",
                            "<tr><td>maria1</td><td>2017-02-24</td><td>2017-03-02</td><td>2</td><td>7</td></tr>",
                            "<tr><td>mark</td><td>2016-04-19</td><td>2016-04-26</td><td>4</td><td>NULL</td></tr>",
                            "<tr><td>mark</td><td>2016-06-13</td><td>2016-06-18</td><td>3</td><td>4</td></tr>",
                            "<tr><td>mark</td><td>2016-08-09</td><td>2016-08-16</td><td>3</td><td>7</td></tr>",
                            "<tr><td>mark</td><td>2016-10-20</td><td>2016-10-27</td><td>1</td><td>10</td></tr>",
                            "<tr><td>mark</td><td>2016-11-19</td><td>2016-11-22</td><td>2</td><td>7</td></tr>",
                            "<tr><td>MARKH</td><td>2016-09-14</td><td>2016-09-17</td><td>3</td><td>NULL</td></tr>",
                            "<tr><td>MARKH</td><td>2016-09-23</td><td>2016-09-30</td><td>2</td><td>3</td></tr>",
                            "<tr><td>MARKH</td><td>2016-09-26</td><td>2016-10-01</td><td>4</td><td>5</td></tr>",
                            "<tr><td>MARKH</td><td>2017-01-22</td><td>2017-01-29</td><td>4</td><td>9</td></tr>",
                            "<tr><td>marton</td><td>2016-04-27</td><td>2016-05-04</td><td>3</td><td>NULL</td></tr>",
                            "<tr><td>marton</td><td>2016-05-05</td><td>2016-05-10</td><td>1</td><td>3</td></tr>",
                            "<tr><td>marton</td><td>2016-06-06</td><td>2016-06-08</td><td>3</td><td>4</td></tr>",
                            "<tr><td>marton</td><td>2016-06-22</td><td>2016-06-29</td><td>2</td><td>7</td></tr>",
                            "<tr><td>marton</td><td>2016-08-12</td><td>2016-08-17</td><td>2</td><td>6</td></tr>",
                            "<tr><td>marton</td><td>2016-09-10</td><td>2016-09-12</td><td>2</td><td>7</td></tr>",
                            "<tr><td>marton</td><td>2017-03-02</td><td>2017-03-03</td><td>2</td><td>6</td></tr>",
                            "<tr><td>MATEK</td><td>2016-08-17</td><td>2016-08-21</td><td>4</td><td>NULL</td></tr>",
                            "<tr><td>MATEK</td><td>2016-10-01</td><td>2016-10-04</td><td>2</td><td>4</td></tr>",
                            "<tr><td>MATEK</td><td>2017-01-16</td><td>2017-01-22</td><td>2</td><td>6</td></tr>",
                            "<tr><td>matyas2</td><td>2016-07-13</td><td>2016-07-16</td><td>2</td><td>NULL</td></tr>",
                            "<tr><td>matyas2</td><td>2016-12-09</td><td>2016-12-13</td><td>3</td><td>2</td></tr>",
                            "<tr><td>MATYASS</td><td>2016-05-10</td><td>2016-05-16</td><td>2</td><td>NULL</td></tr>",
                            "<tr><td>MATYASS</td><td>2016-06-02</td><td>2016-06-08</td><td>1</td><td>2</td></tr>",
                            "<tr><td>MATYASS</td><td>2016-07-23</td><td>2016-07-25</td><td>3</td><td>3</td></tr>",
                            "<tr><td>MATYASS</td><td>2016-10-09</td><td>2016-10-15</td><td>3</td><td>6</td></tr>",
                            "<tr><td>MATYASS</td><td>2016-10-24</td><td>2016-10-31</td><td>1</td><td>7</td></tr>",
                            "<tr><td>MATYASS</td><td>2016-10-30</td><td>2016-11-04</td><td>3</td><td>7</td></tr>",
                            "<tr><td>MATYASS</td><td>2016-12-20</td><td>2016-12-25</td><td>2</td><td>7</td></tr>",
                            "<tr><td>MATYASS</td><td>2017-01-09</td><td>2017-01-13</td><td>2</td><td>6</td></tr>",
                            "<tr><td>MIHALYJ</td><td>2016-05-30</td><td>2016-06-01</td><td>2</td><td>NULL</td></tr>",
                            "<tr><td>MIHALYJ</td><td>2016-06-27</td><td>2016-07-01</td><td>1</td><td>2</td></tr>",
                            "<tr><td>MIHALYJ</td><td>2016-08-29</td><td>2016-09-03</td><td>1</td><td>3</td></tr>",
                            "<tr><td>MIHALYJ</td><td>2016-11-01</td><td>2016-11-04</td><td>3</td><td>4</td></tr>",
                            "<tr><td>MIHALYJ</td><td>2017-02-06</td><td>2017-02-12</td><td>4</td><td>5</td></tr>",
                            "<tr><td>miklos2</td><td>2016-04-19</td><td>2016-04-21</td><td>3</td><td>NULL</td></tr>",
                            "<tr><td>miklos2</td><td>2016-10-08</td><td>2016-10-09</td><td>1</td><td>3</td></tr>",
                            "<tr><td>miklos2</td><td>2016-11-16</td><td>2016-11-18</td><td>3</td><td>4</td></tr>",
                            "<tr><td>MIKLOSB</td><td>2016-06-26</td><td>2016-06-30</td><td>2</td><td>NULL</td></tr>",
                            "<tr><td>MIKLOSB</td><td>2016-07-18</td><td>2016-07-21</td><td>2</td><td>2</td></tr>",
                            "<tr><td>MIKLOSB</td><td>2016-12-05</td><td>2016-12-10</td><td>2</td><td>4</td></tr>",
                            "<tr><td>MONIKAM</td><td>2016-04-29</td><td>2016-05-01</td><td>2</td><td>NULL</td></tr>",
                            "<tr><td>MONIKAM</td><td>2016-07-23</td><td>2016-07-30</td><td>1</td><td>2</td></tr>",
                            "<tr><td>MONIKAM</td><td>2016-11-09</td><td>2016-11-16</td><td>2</td><td>3</td></tr>",
                            "<tr><td>MONIKAM</td><td>2017-01-17</td><td>2017-01-24</td><td>1</td><td>5</td></tr>",
                            "<tr><td>MONIKAM</td><td>2017-02-06</td><td>2017-02-09</td><td>2</td><td>4</td></tr>",
                            "<tr><td>MONIKAM</td><td>2017-02-23</td><td>2017-02-26</td><td>2</td><td>5</td></tr>",
                            "<tr><td>NANDORF</td><td>2016-04-06</td><td>2016-04-10</td><td>3</td><td>NULL</td></tr>",
                            "<tr><td>NANDORF</td><td>2016-11-03</td><td>2016-11-04</td><td>3</td><td>3</td></tr>",
                            "<tr><td>NANDORF</td><td>2017-02-05</td><td>2017-02-08</td><td>3</td><td>6</td></tr>",
                            "<tr><td>nikolett3</td><td>2016-05-24</td><td>2016-05-29</td><td>2</td><td>NULL</td></tr>",
                            "<tr><td>nikolett3</td><td>2016-06-03</td><td>2016-06-09</td><td>1</td><td>2</td></tr>",
                            "<tr><td>nikolett3</td><td>2016-06-22</td><td>2016-06-24</td><td>1</td><td>3</td></tr>",
                            "<tr><td>nikolett3</td><td>2016-10-22</td><td>2016-10-29</td><td>3</td><td>4</td></tr>",
                            "<tr><td>nikoletta4</td><td>2016-04-08</td><td>2016-04-10</td><td>2</td><td>NULL</td></tr>",
                            "<tr><td>nikoletta4</td><td>2016-05-09</td><td>2016-05-15</td><td>2</td><td>2</td></tr>",
                            "<tr><td>nikoletta4</td><td>2016-05-30</td><td>2016-06-03</td><td>3</td><td>4</td></tr>",
                            "<tr><td>nikoletta4</td><td>2016-06-29</td><td>2016-07-06</td><td>2</td><td>7</td></tr>",
                            "<tr><td>nikoletta4</td><td>2016-08-13</td><td>2016-08-17</td><td>3</td><td>7</td></tr>",
                            "<tr><td>nikoletta4</td><td>2016-12-08</td><td>2016-12-10</td><td>5</td><td>8</td></tr>",
                            "<tr><td>nikoletta4</td><td>2017-02-01</td><td>2017-02-04</td><td>2</td><td>10</td></tr>",
                            "<tr><td>NIKOLETTAT</td><td>2016-05-22</td><td>2016-05-23</td><td>4</td><td>NULL</td></tr>",
                            "<tr><td>NIKOLETTAT</td><td>2016-06-07</td><td>2016-06-09</td><td>2</td><td>4</td></tr>",
                            "<tr><td>NIKOLETTAT</td><td>2016-07-27</td><td>2016-07-29</td><td>4</td><td>6</td></tr>",
                            "<tr><td>NIKOLETTAT</td><td>2016-09-21</td><td>2016-09-26</td><td>2</td><td>10</td></tr>",
                            "<tr><td>norbert</td><td>2016-07-08</td><td>2016-07-13</td><td>1</td><td>NULL</td></tr>",
                            "<tr><td>norbert</td><td>2016-11-16</td><td>2016-11-23</td><td>3</td><td>1</td></tr>",
                            "<tr><td>norbert</td><td>2016-12-15</td><td>2016-12-18</td><td>2</td><td>4</td></tr>",
                            "<tr><td>norbert</td><td>2017-02-13</td><td>2017-02-15</td><td>3</td><td>6</td></tr>",
                            "<tr><td>norbert</td><td>2017-02-26</td><td>2017-03-01</td><td>1</td><td>8</td></tr>",
                            "<tr><td>norbert2</td><td>2016-04-19</td><td>2016-04-26</td><td>1</td><td>NULL</td></tr>",
                            "<tr><td>norbert2</td><td>2016-05-09</td><td>2016-05-10</td><td>2</td><td>1</td></tr>",
                            "<tr><td>norbert2</td><td>2016-07-13</td><td>2016-07-15</td><td>3</td><td>3</td></tr>",
                            "<tr><td>norbert2</td><td>2016-07-27</td><td>2016-08-02</td><td>2</td><td>6</td></tr>",
                            "<tr><td>norbert2</td><td>2016-08-16</td><td>2016-08-19</td><td>1</td><td>7</td></tr>",
                            "<tr><td>norbert2</td><td>2016-10-31</td><td>2016-11-07</td><td>2</td><td>6</td></tr>",
                            "<tr><td>norbert2</td><td>2017-01-29</td><td>2017-02-05</td><td>3</td><td>5</td></tr>",
                            "<tr><td>norbert4</td><td>2016-04-10</td><td>2016-04-13</td><td>2</td><td>NULL</td></tr>",
                            "<tr><td>norbert4</td><td>2016-05-29</td><td>2016-06-03</td><td>3</td><td>2</td></tr>",
                            "<tr><td>norbert4</td><td>2016-06-16</td><td>2016-06-17</td><td>4</td><td>5</td></tr>",
                            "<tr><td>norbert4</td><td>2016-06-16</td><td>2016-06-21</td><td>3</td><td>9</td></tr>",
                            "<tr><td>norbert4</td><td>2016-10-05</td><td>2016-10-10</td><td>3</td><td>10</td></tr>",
                            "<tr><td>norbert4</td><td>2016-10-28</td><td>2016-10-31</td><td>3</td><td>10</td></tr>",
                            "<tr><td>norbert4</td><td>2016-11-30</td><td>2016-12-06</td><td>3</td><td>9</td></tr>",
                            "<tr><td>norbert4</td><td>2017-02-16</td><td>2017-02-17</td><td>1</td><td>9</td></tr>",
                            "<tr><td>norbert4</td><td>2017-03-03</td><td>2017-03-07</td><td>2</td><td>7</td></tr>",
                            "<tr><td>norbert5</td><td>2016-06-24</td><td>2016-06-28</td><td>2</td><td>NULL</td></tr>",
                            "<tr><td>norbert5</td><td>2016-08-10</td><td>2016-08-11</td><td>2</td><td>2</td></tr>",
                            "<tr><td>norbert5</td><td>2016-11-05</td><td>2016-11-07</td><td>1</td><td>4</td></tr>",
                            "<tr><td>pal</td><td>2016-08-14</td><td>2016-08-18</td><td>3</td><td>NULL</td></tr>",
                            "<tr><td>pal</td><td>2016-09-16</td><td>2016-09-19</td><td>2</td><td>3</td></tr>",
                            "<tr><td>pal</td><td>2016-12-17</td><td>2016-12-23</td><td>3</td><td>5</td></tr>",
                            "<tr><td>pal</td><td>2017-02-13</td><td>2017-02-19</td><td>3</td><td>8</td></tr>",
                            "<tr><td>pal</td><td>2017-02-20</td><td>2017-02-22</td><td>3</td><td>8</td></tr>",
                            "<tr><td>peter1</td><td>2016-07-14</td><td>2016-07-18</td><td>3</td><td>NULL</td></tr>",
                            "<tr><td>peter1</td><td>2016-10-26</td><td>2016-11-01</td><td>3</td><td>3</td></tr>",
                            "<tr><td>peter1</td><td>2017-02-23</td><td>2017-02-26</td><td>3</td><td>6</td></tr>",
                            "<tr><td>peter1</td><td>2017-02-28</td><td>2017-03-05</td><td>3</td><td>9</td></tr>",
                            "<tr><td>peter2</td><td>2016-07-03</td><td>2016-07-08</td><td>2</td><td>NULL</td></tr>",
                            "<tr><td>peter2</td><td>2016-10-10</td><td>2016-10-16</td><td>2</td><td>2</td></tr>",
                            "<tr><td>peter2</td><td>2016-11-01</td><td>2016-11-02</td><td>2</td><td>4</td></tr>",
                            "<tr><td>peter2</td><td>2016-11-15</td><td>2016-11-21</td><td>3</td><td>6</td></tr>",
                            "<tr><td>peter3</td><td>2016-06-30</td><td>2016-07-05</td><td>3</td><td>NULL</td></tr>",
                            "<tr><td>peter3</td><td>2016-07-27</td><td>2016-07-31</td><td>4</td><td>3</td></tr>",
                            "<tr><td>peter3</td><td>2016-10-30</td><td>2016-11-06</td><td>2</td><td>7</td></tr>",
                            "<tr><td>peter3</td><td>2016-12-25</td><td>2016-12-28</td><td>1</td><td>9</td></tr>",
                            "<tr><td>peter3</td><td>2017-01-12</td><td>2017-01-17</td><td>1</td><td>7</td></tr>",
                            "<tr><td>peter3</td><td>2017-02-21</td><td>2017-02-24</td><td>2</td><td>4</td></tr>",
                            "<tr><td>peter4</td><td>2016-04-12</td><td>2016-04-15</td><td>3</td><td>NULL</td></tr>",
                            "<tr><td>peter4</td><td>2016-08-06</td><td>2016-08-13</td><td>2</td><td>3</td></tr>",
                            "<tr><td>peter4</td><td>2016-08-24</td><td>2016-08-25</td><td>3</td><td>5</td></tr>",
                            "<tr><td>peter4</td><td>2016-09-11</td><td>2016-09-17</td><td>4</td><td>8</td></tr>",
                            "<tr><td>peter4</td><td>2016-09-25</td><td>2016-09-26</td><td>3</td><td>9</td></tr>",
                            "<tr><td>peter4</td><td>2016-09-30</td><td>2016-10-06</td><td>3</td><td>10</td></tr>",
                            "<tr><td>peter4</td><td>2016-10-09</td><td>2016-10-16</td><td>3</td><td>10</td></tr>",
                            "<tr><td>peter4</td><td>2016-10-24</td><td>2016-10-25</td><td>2</td><td>9</td></tr>",
                            "<tr><td>peter4</td><td>2016-10-30</td><td>2016-11-01</td><td>3</td><td>8</td></tr>",
                            "<tr><td>peter4</td><td>2016-11-10</td><td>2016-11-17</td><td>3</td><td>8</td></tr>",
                            "<tr><td>peter4</td><td>2016-11-25</td><td>2016-11-30</td><td>3</td><td>8</td></tr>",
                            "<tr><td>peter4</td><td>2017-02-05</td><td>2017-02-09</td><td>3</td><td>9</td></tr>",
                            "<tr><td>PETERB</td><td>2016-04-06</td><td>2016-04-10</td><td>1</td><td>NULL</td></tr>",
                            "<tr><td>PETERB</td><td>2016-07-20</td><td>2016-07-24</td><td>2</td><td>1</td></tr>",
                            "<tr><td>PETERB</td><td>2016-08-16</td><td>2016-08-23</td><td>1</td><td>3</td></tr>",
                            "<tr><td>PETERB</td><td>2016-10-19</td><td>2016-10-20</td><td>4</td><td>4</td></tr>",
                            "<tr><td>PETERB</td><td>2016-11-17</td><td>2016-11-20</td><td>2</td><td>7</td></tr>",
                            "<tr><td>polla</td><td>2016-04-17</td><td>2016-04-22</td><td>3</td><td>NULL</td></tr>",
                            "<tr><td>polla</td><td>2016-05-28</td><td>2016-06-04</td><td>2</td><td>3</td></tr>",
                            "<tr><td>polla</td><td>2016-08-14</td><td>2016-08-17</td><td>2</td><td>5</td></tr>",
                            "<tr><td>polla</td><td>2016-08-16</td><td>2016-08-19</td><td>4</td><td>7</td></tr>",
                            "<tr><td>polla</td><td>2017-01-29</td><td>2017-02-01</td><td>2</td><td>8</td></tr>",
                            "<tr><td>polla</td><td>2017-02-11</td><td>2017-02-16</td><td>2</td><td>8</td></tr>",
                            "<tr><td>rajmond4</td><td>2016-09-05</td><td>2016-09-07</td><td>3</td><td>NULL</td></tr>",
                            "<tr><td>rajmond4</td><td>2016-10-03</td><td>2016-10-04</td><td>3</td><td>3</td></tr>",
                            "<tr><td>rajmond4</td><td>2016-11-08</td><td>2016-11-09</td><td>4</td><td>6</td></tr>",
                            "<tr><td>rajmond4</td><td>2016-11-16</td><td>2016-11-20</td><td>2</td><td>10</td></tr>",
                            "<tr><td>reka4</td><td>2016-07-27</td><td>2016-07-31</td><td>2</td><td>NULL</td></tr>",
                            "<tr><td>reka4</td><td>2016-08-02</td><td>2016-08-04</td><td>4</td><td>2</td></tr>",
                            "<tr><td>reka4</td><td>2016-09-05</td><td>2016-09-07</td><td>3</td><td>6</td></tr>",
                            "<tr><td>reka4</td><td>2016-09-30</td><td>2016-10-06</td><td>2</td><td>9</td></tr>",
                            "<tr><td>reka4</td><td>2017-02-26</td><td>2017-03-04</td><td>2</td><td>9</td></tr>",
                            "<tr><td>RENATAK</td><td>2016-10-27</td><td>2016-10-29</td><td>4</td><td>NULL</td></tr>",
                            "<tr><td>RENATAK</td><td>2016-10-30</td><td>2016-10-31</td><td>1</td><td>4</td></tr>",
                            "<tr><td>RENATAK</td><td>2016-11-23</td><td>2016-11-26</td><td>1</td><td>5</td></tr>",
                            "<tr><td>RENATAK</td><td>2017-01-23</td><td>2017-01-24</td><td>3</td><td>6</td></tr>",
                            "<tr><td>RENATAK</td><td>2017-02-16</td><td>2017-02-23</td><td>1</td><td>5</td></tr>",
                            "<tr><td>RENATAK</td><td>2017-03-01</td><td>2017-03-06</td><td>1</td><td>5</td></tr>",
                            "<tr><td>RENATAS</td><td>2016-05-04</td><td>2016-05-11</td><td>2</td><td>NULL</td></tr>",
                            "<tr><td>RENATAS</td><td>2016-05-11</td><td>2016-05-16</td><td>2</td><td>2</td></tr>",
                            "<tr><td>RENATAS</td><td>2016-06-24</td><td>2016-06-30</td><td>5</td><td>4</td></tr>",
                            "<tr><td>RENATAS</td><td>2017-02-13</td><td>2017-02-17</td><td>1</td><td>9</td></tr>",
                            "<tr><td>RENATAS</td><td>2017-02-14</td><td>2017-02-17</td><td>2</td><td>8</td></tr>",
                            "<tr><td>robert2</td><td>2016-05-15</td><td>2016-05-18</td><td>2</td><td>NULL</td></tr>",
                            "<tr><td>robert2</td><td>2016-08-20</td><td>2016-08-27</td><td>2</td><td>2</td></tr>",
                            "<tr><td>robert2</td><td>2016-10-23</td><td>2016-10-28</td><td>3</td><td>4</td></tr>",
                            "<tr><td>robert2</td><td>2016-12-17</td><td>2016-12-22</td><td>1</td><td>7</td></tr>",
                            "<tr><td>ROBERTI</td><td>2016-07-12</td><td>2016-07-19</td><td>4</td><td>NULL</td></tr>",
                            "<tr><td>ROBERTI</td><td>2016-08-16</td><td>2016-08-21</td><td>2</td><td>4</td></tr>",
                            "<tr><td>ROBERTI</td><td>2016-08-23</td><td>2016-08-25</td><td>2</td><td>6</td></tr>",
                            "<tr><td>ROBERTI</td><td>2016-10-08</td><td>2016-10-12</td><td>3</td><td>8</td></tr>",
                            "<tr><td>ROBERTI</td><td>2016-10-09</td><td>2016-10-10</td><td>2</td><td>7</td></tr>",
                            "<tr><td>ROBERTI</td><td>2016-10-23</td><td>2016-10-29</td><td>1</td><td>7</td></tr>",
                            "<tr><td>ROBERTI</td><td>2016-10-26</td><td>2016-11-01</td><td>2</td><td>6</td></tr>",
                            "<tr><td>ROBERTI</td><td>2017-02-17</td><td>2017-02-20</td><td>2</td><td>5</td></tr>",
                            "<tr><td>ROBERTP</td><td>2016-07-30</td><td>2016-08-05</td><td>2</td><td>NULL</td></tr>",
                            "<tr><td>ROBERTP</td><td>2016-09-08</td><td>2016-09-11</td><td>4</td><td>2</td></tr>",
                            "<tr><td>roland</td><td>2016-06-09</td><td>2016-06-13</td><td>3</td><td>NULL</td></tr>",
                            "<tr><td>roland</td><td>2016-06-22</td><td>2016-06-23</td><td>3</td><td>3</td></tr>",
                            "<tr><td>roland</td><td>2016-09-04</td><td>2016-09-05</td><td>2</td><td>6</td></tr>",
                            "<tr><td>roland</td><td>2016-11-19</td><td>2016-11-24</td><td>2</td><td>8</td></tr>",
                            "<tr><td>roland1</td><td>2016-11-05</td><td>2016-11-07</td><td>3</td><td>NULL</td></tr>",
                            "<tr><td>roland1</td><td>2016-12-22</td><td>2016-12-29</td><td>1</td><td>3</td></tr>",
                            "<tr><td>roland1</td><td>2017-01-04</td><td>2017-01-08</td><td>3</td><td>4</td></tr>",
                            "<tr><td>roland1</td><td>2017-01-16</td><td>2017-01-22</td><td>2</td><td>7</td></tr>",
                            "<tr><td>roza2</td><td>2016-09-10</td><td>2016-09-13</td><td>2</td><td>NULL</td></tr>",
                            "<tr><td>roza2</td><td>2017-01-11</td><td>2017-01-17</td><td>3</td><td>2</td></tr>",
                            "<tr><td>roza2</td><td>2017-02-18</td><td>2017-02-21</td><td>3</td><td>5</td></tr>",
                            "<tr><td>sandor</td><td>2016-07-04</td><td>2016-07-06</td><td>2</td><td>NULL</td></tr>",
                            "<tr><td>sandor</td><td>2016-07-18</td><td>2016-07-24</td><td>2</td><td>2</td></tr>",
                            "<tr><td>sandor</td><td>2016-08-20</td><td>2016-08-25</td><td>2</td><td>4</td></tr>",
                            "<tr><td>sandor</td><td>2016-09-19</td><td>2016-09-26</td><td>4</td><td>6</td></tr>",
                            "<tr><td>sandor3</td><td>2016-05-12</td><td>2016-05-15</td><td>2</td><td>NULL</td></tr>",
                            "<tr><td>sandor3</td><td>2016-05-25</td><td>2016-05-30</td><td>1</td><td>2</td></tr>",
                            "<tr><td>sandor3</td><td>2016-10-09</td><td>2016-10-14</td><td>2</td><td>3</td></tr>",
                            "<tr><td>sandor3</td><td>2016-10-23</td><td>2016-10-29</td><td>3</td><td>5</td></tr>",
                            "<tr><td>sandor3</td><td>2016-11-10</td><td>2016-11-11</td><td>2</td><td>6</td></tr>",
                            "<tr><td>sandor4</td><td>2016-10-15</td><td>2016-10-18</td><td>1</td><td>NULL</td></tr>",
                            "<tr><td>sandor4</td><td>2016-11-29</td><td>2016-12-03</td><td>2</td><td>1</td></tr>",
                            "<tr><td>sandor4</td><td>2016-12-03</td><td>2016-12-09</td><td>1</td><td>3</td></tr>",
                            "<tr><td>sandor4</td><td>2017-01-22</td><td>2017-01-26</td><td>2</td><td>4</td></tr>",
                            "<tr><td>sara</td><td>2016-05-28</td><td>2016-05-30</td><td>2</td><td>NULL</td></tr>",
                            "<tr><td>sara</td><td>2016-05-30</td><td>2016-05-31</td><td>2</td><td>2</td></tr>",
                            "<tr><td>sara</td><td>2016-06-06</td><td>2016-06-08</td><td>2</td><td>4</td></tr>",
                            "<tr><td>sara</td><td>2016-07-15</td><td>2016-07-17</td><td>3</td><td>6</td></tr>",
                            "<tr><td>sara</td><td>2016-07-24</td><td>2016-07-27</td><td>3</td><td>7</td></tr>",
                            "<tr><td>sara</td><td>2016-10-06</td><td>2016-10-12</td><td>3</td><td>8</td></tr>",
                            "<tr><td>sara</td><td>2016-10-11</td><td>2016-10-14</td><td>3</td><td>9</td></tr>",
                            "<tr><td>sara</td><td>2016-10-28</td><td>2016-11-03</td><td>2</td><td>9</td></tr>",
                            "<tr><td>sara</td><td>2016-11-18</td><td>2016-11-21</td><td>3</td><td>8</td></tr>",
                            "<tr><td>sara</td><td>2016-11-23</td><td>2016-11-30</td><td>4</td><td>8</td></tr>",
                            "<tr><td>sara</td><td>2016-12-06</td><td>2016-12-10</td><td>1</td><td>9</td></tr>",
                            "<tr><td>sara</td><td>2016-12-25</td><td>2016-12-30</td><td>2</td><td>8</td></tr>",
                            "<tr><td>SEBASTIANF</td><td>2016-04-06</td><td>2016-04-12</td><td>2</td><td>NULL</td></tr>",
                            "<tr><td>SEBASTIANF</td><td>2016-07-17</td><td>2016-07-21</td><td>2</td><td>2</td></tr>",
                            "<tr><td>SEBASTIANF</td><td>2016-07-30</td><td>2016-08-06</td><td>4</td><td>4</td></tr>",
                            "<tr><td>SEBASTIANF</td><td>2016-09-14</td><td>2016-09-15</td><td>3</td><td>8</td></tr>",
                            "<tr><td>SEBASTIANF</td><td>2016-09-17</td><td>2016-09-20</td><td>3</td><td>9</td></tr>",
                            "<tr><td>sebestyen</td><td>2016-04-07</td><td>2016-04-12</td><td>4</td><td>NULL</td></tr>",
                            "<tr><td>sebestyen</td><td>2016-04-26</td><td>2016-05-02</td><td>4</td><td>4</td></tr>",
                            "<tr><td>sebestyen</td><td>2016-06-09</td><td>2016-06-14</td><td>4</td><td>8</td></tr>",
                            "<tr><td>sebestyen</td><td>2016-10-26</td><td>2016-11-01</td><td>5</td><td>12</td></tr>",
                            "<tr><td>szabolcs</td><td>2016-12-05</td><td>2016-12-07</td><td>2</td><td>NULL</td></tr>",
                            "<tr><td>SZABOLCSM</td><td>2016-06-18</td><td>2016-06-21</td><td>3</td><td>NULL</td></tr>",
                            "<tr><td>SZABOLCSM</td><td>2016-07-28</td><td>2016-08-03</td><td>2</td><td>3</td></tr>",
                            "<tr><td>SZABOLCSM</td><td>2016-10-17</td><td>2016-10-19</td><td>2</td><td>5</td></tr>",
                            "<tr><td>SZABOLCSM</td><td>2016-10-28</td><td>2016-11-03</td><td>3</td><td>7</td></tr>",
                            "<tr><td>SZABOLCSM</td><td>2016-11-12</td><td>2016-11-13</td><td>2</td><td>7</td></tr>",
                            "<tr><td>SZABOLCSM</td><td>2017-01-07</td><td>2017-01-08</td><td>2</td><td>7</td></tr>",
                            "<tr><td>SZABOLCSM</td><td>2017-02-04</td><td>2017-02-05</td><td>3</td><td>7</td></tr>",
                            "<tr><td>SZILARDS</td><td>2016-04-23</td><td>2016-04-30</td><td>3</td><td>NULL</td></tr>",
                            "<tr><td>SZILARDS</td><td>2016-07-27</td><td>2016-08-03</td><td>5</td><td>3</td></tr>",
                            "<tr><td>SZILARDS</td><td>2016-08-28</td><td>2016-08-29</td><td>4</td><td>8</td></tr>",
                            "<tr><td>SZILARDS</td><td>2016-09-20</td><td>2016-09-24</td><td>3</td><td>12</td></tr>",
                            "<tr><td>SZILARDS</td><td>2016-10-01</td><td>2016-10-08</td><td>3</td><td>12</td></tr>",
                            "<tr><td>SZILARDS</td><td>2017-01-16</td><td>2017-01-19</td><td>3</td><td>10</td></tr>",
                            "<tr><td>SZILARDS</td><td>2017-02-08</td><td>2017-02-15</td><td>1</td><td>9</td></tr>",
                            "<tr><td>szilvia1</td><td>2016-05-14</td><td>2016-05-21</td><td>2</td><td>NULL</td></tr>",
                            "<tr><td>szilvia1</td><td>2016-05-28</td><td>2016-06-03</td><td>2</td><td>2</td></tr>",
                            "<tr><td>szilvia1</td><td>2016-07-25</td><td>2016-07-28</td><td>2</td><td>4</td></tr>",
                            "<tr><td>szilvia1</td><td>2016-10-09</td><td>2016-10-10</td><td>3</td><td>6</td></tr>",
                            "<tr><td>szilvia1</td><td>2016-10-25</td><td>2016-10-31</td><td>3</td><td>7</td></tr>",
                            "<tr><td>szilvia1</td><td>2016-10-27</td><td>2016-10-28</td><td>2</td><td>8</td></tr>",
                            "<tr><td>szilvia1</td><td>2016-12-25</td><td>2016-12-29</td><td>5</td><td>8</td></tr>",
                            "<tr><td>szilvia1</td><td>2016-12-27</td><td>2017-01-02</td><td>2</td><td>10</td></tr>",
                            "<tr><td>szilvia1</td><td>2017-01-28</td><td>2017-02-03</td><td>2</td><td>9</td></tr>",
                            "<tr><td>tamara2</td><td>2016-08-12</td><td>2016-08-15</td><td>3</td><td>NULL</td></tr>",
                            "<tr><td>tamara2</td><td>2016-11-15</td><td>2016-11-18</td><td>2</td><td>3</td></tr>",
                            "<tr><td>tamas</td><td>2016-05-17</td><td>2016-05-22</td><td>2</td><td>NULL</td></tr>",
                            "<tr><td>tamas</td><td>2016-06-14</td><td>2016-06-21</td><td>2</td><td>2</td></tr>",
                            "<tr><td>tamas</td><td>2016-08-24</td><td>2016-08-27</td><td>3</td><td>4</td></tr>",
                            "<tr><td>tamas</td><td>2017-02-14</td><td>2017-02-19</td><td>3</td><td>7</td></tr>",
                            "<tr><td>TAMASF</td><td>2016-05-03</td><td>2016-05-04</td><td>2</td><td>NULL</td></tr>",
                            "<tr><td>TAMASF</td><td>2016-06-10</td><td>2016-06-13</td><td>3</td><td>2</td></tr>",
                            "<tr><td>TAMASF</td><td>2016-06-28</td><td>2016-07-05</td><td>3</td><td>5</td></tr>",
                            "<tr><td>TAMASF</td><td>2016-07-04</td><td>2016-07-10</td><td>2</td><td>8</td></tr>",
                            "<tr><td>TAMASF</td><td>2016-09-12</td><td>2016-09-18</td><td>3</td><td>8</td></tr>",
                            "<tr><td>TAMASF</td><td>2016-12-02</td><td>2016-12-04</td><td>1</td><td>8</td></tr>",
                            "<tr><td>TAMASF</td><td>2016-12-10</td><td>2016-12-14</td><td>3</td><td>6</td></tr>",
                            "<tr><td>TAMASF</td><td>2017-02-12</td><td>2017-02-17</td><td>2</td><td>7</td></tr>",
                            "<tr><td>TAMASF</td><td>2017-02-16</td><td>2017-02-19</td><td>4</td><td>6</td></tr>",
                            "<tr><td>tibor</td><td>2016-10-09</td><td>2016-10-13</td><td>2</td><td>NULL</td></tr>",
                            "<tr><td>tibor</td><td>2016-11-05</td><td>2016-11-09</td><td>1</td><td>2</td></tr>",
                            "<tr><td>tibor2</td><td>2016-10-20</td><td>2016-10-25</td><td>2</td><td>NULL</td></tr>",
                            "<tr><td>tihamer</td><td>2016-05-30</td><td>2016-06-05</td><td>1</td><td>NULL</td></tr>",
                            "<tr><td>tihamer</td><td>2016-06-03</td><td>2016-06-08</td><td>5</td><td>1</td></tr>",
                            "<tr><td>tihamer</td><td>2016-07-20</td><td>2016-07-24</td><td>3</td><td>6</td></tr>",
                            "<tr><td>tihamer</td><td>2016-08-18</td><td>2016-08-22</td><td>3</td><td>9</td></tr>",
                            "<tr><td>tihamer</td><td>2016-10-19</td><td>2016-10-23</td><td>2</td><td>11</td></tr>",
                            "<tr><td>tihamer</td><td>2016-12-25</td><td>2016-12-26</td><td>2</td><td>8</td></tr>",
                            "<tr><td>timea</td><td>2016-12-26</td><td>2016-12-27</td><td>2</td><td>NULL</td></tr>",
                            "<tr><td>timea2</td><td>2016-06-06</td><td>2016-06-07</td><td>2</td><td>NULL</td></tr>",
                            "<tr><td>timea2</td><td>2016-08-07</td><td>2016-08-10</td><td>3</td><td>2</td></tr>",
                            "<tr><td>timea2</td><td>2016-10-26</td><td>2016-10-29</td><td>3</td><td>5</td></tr>",
                            "<tr><td>timea2</td><td>2016-11-27</td><td>2016-12-01</td><td>4</td><td>8</td></tr>",
                            "<tr><td>timea2</td><td>2016-12-14</td><td>2016-12-16</td><td>4</td><td>10</td></tr>",
                            "<tr><td>tunde</td><td>2016-06-03</td><td>2016-06-07</td><td>3</td><td>NULL</td></tr>",
                            "<tr><td>tunde</td><td>2016-06-06</td><td>2016-06-12</td><td>3</td><td>3</td></tr>",
                            "<tr><td>tunde</td><td>2016-07-14</td><td>2016-07-21</td><td>1</td><td>6</td></tr>",
                            "<tr><td>tunde</td><td>2016-09-05</td><td>2016-09-12</td><td>2</td><td>7</td></tr>",
                            "<tr><td>tunde</td><td>2016-10-24</td><td>2016-10-30</td><td>3</td><td>6</td></tr>",
                            "<tr><td>tunde</td><td>2016-11-19</td><td>2016-11-20</td><td>3</td><td>6</td></tr>",
                            "<tr><td>tunde</td><td>2016-12-15</td><td>2016-12-20</td><td>3</td><td>8</td></tr>",
                            "<tr><td>tunde</td><td>2017-01-03</td><td>2017-01-06</td><td>5</td><td>9</td></tr>",
                            "<tr><td>valentin</td><td>2016-05-24</td><td>2016-05-30</td><td>4</td><td>NULL</td></tr>",
                            "<tr><td>valentin</td><td>2016-07-24</td><td>2016-07-29</td><td>1</td><td>4</td></tr>",
                            "<tr><td>valentin</td><td>2016-10-26</td><td>2016-10-30</td><td>3</td><td>5</td></tr>",
                            "<tr><td>valentin</td><td>2016-11-11</td><td>2016-11-17</td><td>3</td><td>8</td></tr>",
                            "<tr><td>valentin</td><td>2016-12-01</td><td>2016-12-05</td><td>3</td><td>7</td></tr>",
                            "<tr><td>veronika4</td><td>2016-05-30</td><td>2016-06-04</td><td>2</td><td>NULL</td></tr>",
                            "<tr><td>veronika4</td><td>2016-07-20</td><td>2016-07-26</td><td>3</td><td>2</td></tr>",
                            "<tr><td>veronika4</td><td>2016-08-16</td><td>2016-08-21</td><td>1</td><td>5</td></tr>",
                            "<tr><td>veronika4</td><td>2016-09-26</td><td>2016-10-03</td><td>2</td><td>6</td></tr>",
                            "<tr><td>veronika4</td><td>2017-01-19</td><td>2017-01-24</td><td>3</td><td>6</td></tr>",
                            "<tr><td>veronika4</td><td>2017-02-03</td><td>2017-02-05</td><td>2</td><td>6</td></tr>",
                            "<tr><td>VIKTORIAU</td><td>2016-04-30</td><td>2016-05-03</td><td>1</td><td>NULL</td></tr>",
                            "<tr><td>VIKTORIAU</td><td>2016-08-03</td><td>2016-08-04</td><td>2</td><td>1</td></tr>",
                            "<tr><td>VIKTORIAU</td><td>2016-10-14</td><td>2016-10-15</td><td>3</td><td>3</td></tr>",
                            "<tr><td>VIKTORIAU</td><td>2016-10-26</td><td>2016-11-02</td><td>4</td><td>6</td></tr>",
                            "<tr><td>VIKTORK</td><td>2016-05-30</td><td>2016-06-01</td><td>2</td><td>NULL</td></tr>",
                            "<tr><td>VIKTORK</td><td>2016-06-06</td><td>2016-06-07</td><td>4</td><td>2</td></tr>",
                            "<tr><td>vivien3</td><td>2016-05-02</td><td>2016-05-05</td><td>3</td><td>NULL</td></tr>",
                            "<tr><td>vivien3</td><td>2016-08-13</td><td>2016-08-18</td><td>2</td><td>3</td></tr>",
                            "<tr><td>vivien3</td><td>2016-09-01</td><td>2016-09-05</td><td>2</td><td>5</td></tr>",
                            "<tr><td>vivien3</td><td>2016-10-01</td><td>2016-10-04</td><td>1</td><td>7</td></tr>",
                            "<tr><td>vivien3</td><td>2016-11-17</td><td>2016-11-20</td><td>2</td><td>5</td></tr>",
                            "<tr><td>vivien3</td><td>2016-12-17</td><td>2016-12-21</td><td>2</td><td>5</td></tr>",
                            "<tr><td>vivien3</td><td>2016-12-24</td><td>2016-12-26</td><td>3</td><td>5</td></tr>",
                            "<tr><td>zoltan</td><td>2016-08-24</td><td>2016-08-31</td><td>2</td><td>NULL</td></tr>",
                            "<tr><td>zoltan</td><td>2016-09-05</td><td>2016-09-09</td><td>3</td><td>2</td></tr>",
                            "<tr><td>zoltan4</td><td>2016-05-12</td><td>2016-05-16</td><td>3</td><td>NULL</td></tr>",
                            "<tr><td>zoltan4</td><td>2016-05-13</td><td>2016-05-16</td><td>3</td><td>3</td></tr>",
                            "<tr><td>zoltan4</td><td>2016-06-03</td><td>2016-06-06</td><td>1</td><td>6</td></tr>",
                            "<tr><td>zoltan4</td><td>2016-08-15</td><td>2016-08-21</td><td>1</td><td>7</td></tr>",
                            "<tr><td>zoltan4</td><td>2016-08-16</td><td>2016-08-23</td><td>2</td><td>5</td></tr>",
                            "<tr><td>zoltan4</td><td>2016-09-30</td><td>2016-10-07</td><td>3</td><td>4</td></tr>",
                            "<tr><td>zoltan4</td><td>2016-10-21</td><td>2016-10-24</td><td>5</td><td>6</td></tr>",
                            "<tr><td>zoltan4</td><td>2016-10-26</td><td>2016-10-30</td><td>2</td><td>10</td></tr>",
                            "<tr><td>zoltan4</td><td>2016-10-30</td><td>2016-11-06</td><td>1</td><td>10</td></tr>",
                            "<tr><td>zoltan4</td><td>2016-11-19</td><td>2016-11-21</td><td>2</td><td>8</td></tr>",
                            "<tr><td>zoltan4</td><td>2016-12-29</td><td>2017-01-04</td><td>1</td><td>5</td></tr>",
                            "<tr><td>zoltan4</td><td>2017-01-01</td><td>2017-01-02</td><td>3</td><td>4</td></tr>",
                            "<tr><td>ZOLTANP</td><td>2016-06-05</td><td>2016-06-08</td><td>2</td><td>NULL</td></tr>",
                            "<tr><td>ZOLTANP</td><td>2016-06-06</td><td>2016-06-08</td><td>2</td><td>2</td></tr>",
                            "<tr><td>ZOLTANP</td><td>2016-07-20</td><td>2016-07-25</td><td>3</td><td>4</td></tr>",
                            "<tr><td>ZOLTANP</td><td>2016-10-19</td><td>2016-10-25</td><td>2</td><td>7</td></tr>",
                            "<tr><td>ZOLTANP</td><td>2016-12-07</td><td>2016-12-10</td><td>3</td><td>7</td></tr>",
                            "<tr><td>ZOLTANP</td><td>2016-12-25</td><td>2016-12-29</td><td>2</td><td>8</td></tr>",
                            "<tr><td>ZOLTANT</td><td>2016-05-01</td><td>2016-05-04</td><td>3</td><td>NULL</td></tr>",
                            "<tr><td>ZOLTANT</td><td>2016-07-14</td><td>2016-07-15</td><td>3</td><td>3</td></tr>",
                            "<tr><td>ZOLTANT</td><td>2017-01-16</td><td>2017-01-20</td><td>2</td><td>6</td></tr>",
                            "<tr><td>zsofi1</td><td>2016-06-16</td><td>2016-06-17</td><td>2</td><td>NULL</td></tr>",
                            "<tr><td>zsofi1</td><td>2017-02-18</td><td>2017-02-19</td><td>3</td><td>2</td></tr>",
                            "<tr><td>zsolt1</td><td>2016-04-14</td><td>2016-04-17</td><td>2</td><td>NULL</td></tr>",
                            "<tr><td>zsolt1</td><td>2016-06-06</td><td>2016-06-08</td><td>2</td><td>2</td></tr>",
                            "<tr><td>zsolt1</td><td>2016-06-07</td><td>2016-06-10</td><td>4</td><td>4</td></tr>",
                            "<tr><td>zsolt1</td><td>2016-07-31</td><td>2016-08-02</td><td>2</td><td>8</td></tr>",
                            "<tr><td>ZSOLTJ</td><td>2016-04-24</td><td>2016-04-26</td><td>4</td><td>NULL</td></tr>",
                            "<tr><td>ZSOLTJ</td><td>2016-05-09</td><td>2016-05-11</td><td>2</td><td>4</td></tr>",
                            "<tr><td>ZSOLTJ</td><td>2016-05-28</td><td>2016-06-03</td><td>1</td><td>6</td></tr>",
                            "<tr><td>ZSOLTJ</td><td>2016-06-17</td><td>2016-06-19</td><td>2</td><td>7</td></tr>",
                            "<tr><td>ZSOLTJ</td><td>2016-07-18</td><td>2016-07-19</td><td>2</td><td>5</td></tr>",
                            "<tr><td>ZSOLTJ</td><td>2016-10-01</td><td>2016-10-06</td><td>2</td><td>5</td></tr>",
                            "<tr><td>zsuzsa</td><td>2016-07-24</td><td>2016-07-25</td><td>3</td><td>NULL</td></tr>",
                            "<tr><td>zsuzsa</td><td>2016-08-28</td><td>2016-08-30</td><td>2</td><td>3</td></tr>",
                            "<tr><td>zsuzsa</td><td>2016-11-28</td><td>2016-12-04</td><td>3</td><td>5</td></tr>",
                            "<tr><td>zsuzsa3</td><td>2016-07-30</td><td>2016-08-02</td><td>2</td><td>NULL</td></tr>",
                            "<tr><td>zsuzsa3</td><td>2016-09-09</td><td>2016-09-10</td><td>2</td><td>2</td></tr>",
                            "<tr><td>zsuzsa3</td><td>2016-09-28</td><td>2016-10-03</td><td>2</td><td>4</td></tr>",
                            "<tr><td>zsuzsa3</td><td>2016-10-27</td><td>2016-11-03</td><td>4</td><td>6</td></tr>",
                            "<tr><td>zsuzsanna</td><td>2016-05-17</td><td>2016-05-23</td><td>2</td><td>NULL</td></tr>",
                            "<tr><td>zsuzsanna</td><td>2016-07-12</td><td>2016-07-15</td><td>2</td><td>2</td></tr>",
                            "<tr><td>zsuzsanna</td><td>2017-01-09</td><td>2017-01-16</td><td>1</td><td>4</td></tr>",
                            "<tr><td>zsuzsanna</td><td>2017-01-16</td><td>2017-01-22</td><td>2</td><td>5</td></tr>",
                            "<tr><td>ZSUZSAV</td><td>2016-04-14</td><td>2016-04-16</td><td>2</td><td>NULL</td></tr>",
                            "<tr><td>ZSUZSAV</td><td>2016-05-28</td><td>2016-06-01</td><td>4</td><td>2</td></tr>",
                            "<tr><td>ZSUZSAV</td><td>2016-06-15</td><td>2016-06-21</td><td>3</td><td>6</td></tr>",
                            "<tr><td>ZSUZSAV</td><td>2016-09-18</td><td>2016-09-20</td><td>2</td><td>9</td></tr>",
                            "<tr><td>ZSUZSAV</td><td>2016-10-26</td><td>2016-10-28</td><td>1</td><td>9</td></tr>",
                            "<tr><td>ZSUZSAV</td><td>2016-11-21</td><td>2016-11-24</td><td>3</td><td>6</td></tr>",
                            "</table>"
                        ]
                    }
                }
            ],
            "execution_count": 9
        },
        {
            "cell_type": "markdown",
            "source": [
                "4. <span style=\"background-color: rgb(255, 255, 255); color: rgb(0, 0, 0); font-family: &quot;Open Sans&quot;, sans-serif; font-size: 14.44px;\">Készítsünk listát arról, hogy az egyes szálláshelyeken évente hány foglalás történt!&nbsp;</span> \n",
                "\n",
                "a. A lista jelenítse meg a szálláshely azonosítóját, nevét, az évet, és a foglalások számát!\n",
                "\n",
                "b. Egy új oszlopban jelenítsük meg a szálláshely eddigi éves foglalásainak számát is (az aktuálisat is beleértve). \n",
                "\n",
                "c. Az évnél a METTOL dátumot vegyük figyelembe! \n",
                "\n",
                "d. A lista ne tartalmazzon duplikált sorokat!"
            ],
            "metadata": {
                "azdata_cell_guid": "8e7fef82-8022-49a0-8255-fc2846c2134b"
            },
            "attachments": {}
        },
        {
            "cell_type": "code",
            "source": [
                ""
            ],
            "metadata": {
                "azdata_cell_guid": "36f7b396-4a1f-45e5-8720-2302537c91bc",
                "language": "sql"
            },
            "outputs": [],
            "execution_count": null
        },
        {
            "cell_type": "markdown",
            "source": [
                "5. <span style=\"background-color: rgb(255, 255, 255); color: rgb(0, 0, 0); font-family: &quot;Open Sans&quot;, sans-serif; font-size: 14.44px;\">Készítsük listát a szálláshelyekről! A lista tartalmazza a szálláshely azonosítóját, nevét, és a csillagok számát csillagszám szerint csökkenő, azon belül szállásnév szerint növekvő sorrendben!&nbsp;</span> \n",
                "\n",
                "a. Vegyünk fel két új oszlopot, amely a sorrend szerint előző szálláshely nevét, illetve azonosítóját is megjeleníti!"
            ],
            "metadata": {
                "azdata_cell_guid": "84239ca2-6b5e-49f5-9860-d44c11d6de32"
            },
            "attachments": {}
        },
        {
            "cell_type": "code",
            "source": [
                ""
            ],
            "metadata": {
                "azdata_cell_guid": "06d9a62b-9430-424b-a135-d80e675f0eb3",
                "language": "sql"
            },
            "outputs": [],
            "execution_count": null
        },
        {
            "cell_type": "markdown",
            "source": [
                "6. <span style=\"background-color: rgb(255, 255, 255); color: rgb(0, 0, 0); font-family: &quot;Open Sans&quot;, sans-serif; font-size: 14.44px;\">Listázzuk azon termékeket, amelyekből az átlagosnál kevesebb van raktáron!&nbsp;</span> \n",
                "\n",
                "a. Csak a termék kódja és megnevezése jelenjen meg!"
            ],
            "metadata": {
                "azdata_cell_guid": "b0d15045-3c43-4f3a-b8d4-76b4f24e5546"
            },
            "attachments": {}
        },
        {
            "cell_type": "code",
            "source": [
                "SELECT  TERMEKKOD,\r\n",
                "        MEGNEVEZES\r\n",
                "FROM Termek\r\n",
                "WHERE KESZLET > (\r\n",
                "    SELECT AVG(KESZLET)\r\n",
                "    FROM Termek\r\n",
                ")"
            ],
            "metadata": {
                "azdata_cell_guid": "f2b7400d-1255-40ac-9250-4d57f9da5357",
                "language": "sql"
            },
            "outputs": [
                {
                    "output_type": "display_data",
                    "data": {
                        "text/html": "(114 rows affected)"
                    },
                    "metadata": {}
                },
                {
                    "output_type": "display_data",
                    "data": {
                        "text/html": "Total execution time: 00:00:00.008"
                    },
                    "metadata": {}
                },
                {
                    "output_type": "execute_result",
                    "metadata": {},
                    "execution_count": 10,
                    "data": {
                        "application/vnd.dataresource+json": {
                            "schema": {
                                "fields": [
                                    {
                                        "name": "TERMEKKOD"
                                    },
                                    {
                                        "name": "MEGNEVEZES"
                                    }
                                ]
                            },
                            "data": [
                                {
                                    "TERMEKKOD": "01010001T",
                                    "MEGNEVEZES": "félfamentes rajzlap A4 (10 lap)"
                                },
                                {
                                    "TERMEKKOD": "01020299T",
                                    "MEGNEVEZES": "Oklevél A/4 egyszínű"
                                },
                                {
                                    "TERMEKKOD": "01090498T",
                                    "MEGNEVEZES": "Műnyomó 300g 17,5*20"
                                },
                                {
                                    "TERMEKKOD": "01100071T",
                                    "MEGNEVEZES": "Dekorációs karton arany, ezüst"
                                },
                                {
                                    "TERMEKKOD": "02020444T",
                                    "MEGNEVEZES": "Határidő napló A/6"
                                },
                                {
                                    "TERMEKKOD": "02030041T",
                                    "MEGNEVEZES": "Boríték LC 5"
                                },
                                {
                                    "TERMEKKOD": "02030042T",
                                    "MEGNEVEZES": "Boríték LC 6"
                                },
                                {
                                    "TERMEKKOD": "02030043T",
                                    "MEGNEVEZES": "Boríték légp. kicsi"
                                },
                                {
                                    "TERMEKKOD": "02030044T",
                                    "MEGNEVEZES": "Boríték mintás"
                                },
                                {
                                    "TERMEKKOD": "02040002T",
                                    "MEGNEVEZES": "irodai tűzőgép"
                                },
                                {
                                    "TERMEKKOD": "02040146T",
                                    "MEGNEVEZES": "Gemkapocs ICO"
                                },
                                {
                                    "TERMEKKOD": "02040149T",
                                    "MEGNEVEZES": "Genotherm A4 10db-os"
                                },
                                {
                                    "TERMEKKOD": "02040210T",
                                    "MEGNEVEZES": "Iratsín kék"
                                },
                                {
                                    "TERMEKKOD": "02040292T",
                                    "MEGNEVEZES": "Naptárhát nagy"
                                },
                                {
                                    "TERMEKKOD": "02040293T",
                                    "MEGNEVEZES": "Névjegytartó kicsi"
                                },
                                {
                                    "TERMEKKOD": "02040295T",
                                    "MEGNEVEZES": "Notesz A/5 sima spirál"
                                },
                                {
                                    "TERMEKKOD": "02040296T",
                                    "MEGNEVEZES": "Notesz A/6 College"
                                },
                                {
                                    "TERMEKKOD": "02040297T",
                                    "MEGNEVEZES": "Notesz sima spirál College"
                                },
                                {
                                    "TERMEKKOD": "02040406T",
                                    "MEGNEVEZES": "Tűzőkapocs 24/6"
                                },
                                {
                                    "TERMEKKOD": "02080435T",
                                    "MEGNEVEZES": "Mappa bemutató"
                                },
                                {
                                    "TERMEKKOD": "03050079T",
                                    "MEGNEVEZES": "Díszkötöző szalag vékony"
                                },
                                {
                                    "TERMEKKOD": "03050080T",
                                    "MEGNEVEZES": "Diszkötöző széles szalag"
                                },
                                {
                                    "TERMEKKOD": "03050457T",
                                    "MEGNEVEZES": "Ajándék cs. tasak kicsi"
                                },
                                {
                                    "TERMEKKOD": "03050458T",
                                    "MEGNEVEZES": "Ajándék cs. 2×100×70"
                                },
                                {
                                    "TERMEKKOD": "03050459T",
                                    "MEGNEVEZES": "Talpas tasak"
                                },
                                {
                                    "TERMEKKOD": "03080005T",
                                    "MEGNEVEZES": "Ajándék cs. tasak virágos nagy"
                                },
                                {
                                    "TERMEKKOD": "03080007T",
                                    "MEGNEVEZES": "Ajándék cs. tasak mintás nagy"
                                },
                                {
                                    "TERMEKKOD": "03080008T",
                                    "MEGNEVEZES": "Ajándék cs. tasak kicsi"
                                },
                                {
                                    "TERMEKKOD": "03080010T",
                                    "MEGNEVEZES": "Ajándék csom. 150x70"
                                },
                                {
                                    "TERMEKKOD": "03080011T",
                                    "MEGNEVEZES": "Ajándék cs. tasak közepes"
                                },
                                {
                                    "TERMEKKOD": "03080018T",
                                    "MEGNEVEZES": "Ajándék csom. gyűrt 50x70 "
                                },
                                {
                                    "TERMEKKOD": "03080031T",
                                    "MEGNEVEZES": "Ajándék cs. húsvéti"
                                },
                                {
                                    "TERMEKKOD": "03080437T",
                                    "MEGNEVEZES": "Ajándék csomagoló tasak"
                                },
                                {
                                    "TERMEKKOD": "03080438T",
                                    "MEGNEVEZES": "Ajándék csomagoló tasak lézeres"
                                },
                                {
                                    "TERMEKKOD": "04030234T",
                                    "MEGNEVEZES": "Képeslap karácsonyi"
                                },
                                {
                                    "TERMEKKOD": "04030236T",
                                    "MEGNEVEZES": "Képeslap karácsonyi WD"
                                },
                                {
                                    "TERMEKKOD": "04030240T",
                                    "MEGNEVEZES": "Képeslap virágos"
                                },
                                {
                                    "TERMEKKOD": "04030241T",
                                    "MEGNEVEZES": "Képeslap virágos +boríték"
                                },
                                {
                                    "TERMEKKOD": "04030242T",
                                    "MEGNEVEZES": "Képeslap WD +boríték"
                                },
                                {
                                    "TERMEKKOD": "04030260T",
                                    "MEGNEVEZES": "Levélpapír A/4"
                                },
                                {
                                    "TERMEKKOD": "04030287T",
                                    "MEGNEVEZES": "Műanyag foszforeszkáló állat"
                                },
                                {
                                    "TERMEKKOD": "04030289T",
                                    "MEGNEVEZES": "Műanyag pohár 5 cl-es"
                                },
                                {
                                    "TERMEKKOD": "04040090T",
                                    "MEGNEVEZES": "Emlékkönyv"
                                },
                                {
                                    "TERMEKKOD": "04050225T",
                                    "MEGNEVEZES": "Kártya mini Magyar"
                                },
                                {
                                    "TERMEKKOD": "04050250T",
                                    "MEGNEVEZES": "Kulcstartó autós"
                                },
                                {
                                    "TERMEKKOD": "04050251T",
                                    "MEGNEVEZES": "Kulcstartó billiárd golyós"
                                },
                                {
                                    "TERMEKKOD": "04050255T",
                                    "MEGNEVEZES": "Kulcstartó mesefigurás"
                                },
                                {
                                    "TERMEKKOD": "04050256T",
                                    "MEGNEVEZES": "Kulcstartó nagyítós"
                                },
                                {
                                    "TERMEKKOD": "04050267T",
                                    "MEGNEVEZES": "Logikai készlet"
                                },
                                {
                                    "TERMEKKOD": "04050268T",
                                    "MEGNEVEZES": "Lufi formázható"
                                },
                                {
                                    "TERMEKKOD": "04050321T",
                                    "MEGNEVEZES": "Plüss kicsi"
                                },
                                {
                                    "TERMEKKOD": "04080442T",
                                    "MEGNEVEZES": "Emlékkönyv"
                                },
                                {
                                    "TERMEKKOD": "04110273T",
                                    "MEGNEVEZES": "Matrica állatos"
                                },
                                {
                                    "TERMEKKOD": "05010027T",
                                    "MEGNEVEZES": "Alufólia 20 m-es"
                                },
                                {
                                    "TERMEKKOD": "05010306T",
                                    "MEGNEVEZES": "Papízsebkendő,10db Szindy"
                                },
                                {
                                    "TERMEKKOD": "05050465T",
                                    "MEGNEVEZES": "Tapétavágó kés"
                                },
                                {
                                    "TERMEKKOD": "06010086T",
                                    "MEGNEVEZES": "Ecset Nebulo 4-es"
                                },
                                {
                                    "TERMEKKOD": "06010113T",
                                    "MEGNEVEZES": "Füzet 31-32 szótár"
                                },
                                {
                                    "TERMEKKOD": "06010343T",
                                    "MEGNEVEZES": "Ragasztószalag 19 mm-es SCOTCH+ tépő"
                                },
                                {
                                    "TERMEKKOD": "06010373T",
                                    "MEGNEVEZES": "Színes papír I.II-IV.V-VIII-ig"
                                },
                                {
                                    "TERMEKKOD": "06010374T",
                                    "MEGNEVEZES": "Szorzótábla műanyag"
                                },
                                {
                                    "TERMEKKOD": "06040087T",
                                    "MEGNEVEZES": "Ecset Nebuló 10-es"
                                },
                                {
                                    "TERMEKKOD": "06040088T",
                                    "MEGNEVEZES": "Egészségügyi könyv"
                                },
                                {
                                    "TERMEKKOD": "06040172T",
                                    "MEGNEVEZES": "Gumis mappa csomagolt"
                                },
                                {
                                    "TERMEKKOD": "06040173T",
                                    "MEGNEVEZES": "Gumis mappa fóliázott állatos"
                                },
                                {
                                    "TERMEKKOD": "06040174T",
                                    "MEGNEVEZES": "Gumis mappa "
                                },
                                {
                                    "TERMEKKOD": "06040181T",
                                    "MEGNEVEZES": "Gyűjtőlap A/4"
                                },
                                {
                                    "TERMEKKOD": "06040182T",
                                    "MEGNEVEZES": "Gyűrűskönyv bet. A/4"
                                },
                                {
                                    "TERMEKKOD": "06040185T",
                                    "MEGNEVEZES": "Gyűrűskönyv"
                                },
                                {
                                    "TERMEKKOD": "06040247T",
                                    "MEGNEVEZES": "Körzőhegy grafit"
                                },
                                {
                                    "TERMEKKOD": "06040325T",
                                    "MEGNEVEZES": "Radír gyümölcsös"
                                },
                                {
                                    "TERMEKKOD": "06040327T",
                                    "MEGNEVEZES": "Radír Koh-i-nor 40"
                                },
                                {
                                    "TERMEKKOD": "06040328T",
                                    "MEGNEVEZES": "Radír Maped"
                                },
                                {
                                    "TERMEKKOD": "06040329T",
                                    "MEGNEVEZES": "Radír stabilo"
                                },
                                {
                                    "TERMEKKOD": "06040357T",
                                    "MEGNEVEZES": "Sp.Füzet A/5 70-es"
                                },
                                {
                                    "TERMEKKOD": "06040396T",
                                    "MEGNEVEZES": "Tolltartó Garfield"
                                },
                                {
                                    "TERMEKKOD": "06080123T",
                                    "MEGNEVEZES": "Füzettartó A/4 keménytáblás"
                                },
                                {
                                    "TERMEKKOD": "06080334T",
                                    "MEGNEVEZES": "Ragasztó szalag KORES "
                                },
                                {
                                    "TERMEKKOD": "06080336T",
                                    "MEGNEVEZES": "Ragasztó 8 g Pritt"
                                },
                                {
                                    "TERMEKKOD": "06080338T",
                                    "MEGNEVEZES": "Ragasztó kenőfejes Nebuló"
                                },
                                {
                                    "TERMEKKOD": "06080414T",
                                    "MEGNEVEZES": "Vonalzó 20 cm-es "
                                },
                                {
                                    "TERMEKKOD": "06080440T",
                                    "MEGNEVEZES": "Gyurma 12 szinű"
                                },
                                {
                                    "TERMEKKOD": "07010136T",
                                    "MEGNEVEZES": "G.toll betét PAX"
                                },
                                {
                                    "TERMEKKOD": "07010138T",
                                    "MEGNEVEZES": "G.toll betét jumbo"
                                },
                                {
                                    "TERMEKKOD": "07010371T",
                                    "MEGNEVEZES": "Színes ceruza 6-os"
                                },
                                {
                                    "TERMEKKOD": "07010372T",
                                    "MEGNEVEZES": "Színes ceruza 12 szín"
                                },
                                {
                                    "TERMEKKOD": "07040048T",
                                    "MEGNEVEZES": "Ceruza arany, ezüst"
                                },
                                {
                                    "TERMEKKOD": "07040131T",
                                    "MEGNEVEZES": "G. toll betét UNI lachnok Fine SA-7C"
                                },
                                {
                                    "TERMEKKOD": "07040134T",
                                    "MEGNEVEZES": "G.toll betét illatos"
                                },
                                {
                                    "TERMEKKOD": "07040135T",
                                    "MEGNEVEZES": "G.toll betét Parker "
                                },
                                {
                                    "TERMEKKOD": "07080158T",
                                    "MEGNEVEZES": "Golyóstoll Parker tokban"
                                },
                                {
                                    "TERMEKKOD": "07080163T",
                                    "MEGNEVEZES": "Golyóstoll UNI átlátszó"
                                },
                                {
                                    "TERMEKKOD": "07080164T",
                                    "MEGNEVEZES": "Golyóstoll UNI gumis"
                                },
                                {
                                    "TERMEKKOD": "07080311T",
                                    "MEGNEVEZES": "Pixiron  UNI"
                                },
                                {
                                    "TERMEKKOD": "07080312T",
                                    "MEGNEVEZES": "Pixiron 0,7 Handy"
                                },
                                {
                                    "TERMEKKOD": "07080313T",
                                    "MEGNEVEZES": "Pixiron Centrum"
                                },
                                {
                                    "TERMEKKOD": "07080314T",
                                    "MEGNEVEZES": "Pixiron Handy fém"
                                },
                                {
                                    "TERMEKKOD": "07080315T",
                                    "MEGNEVEZES": "Pixiron Handy műanyag"
                                },
                                {
                                    "TERMEKKOD": "07080317T",
                                    "MEGNEVEZES": "Pixiron mini "
                                },
                                {
                                    "TERMEKKOD": "07080318T",
                                    "MEGNEVEZES": "Pixiron Penac"
                                },
                                {
                                    "TERMEKKOD": "07080319T",
                                    "MEGNEVEZES": "Pixiron Pentel színes"
                                },
                                {
                                    "TERMEKKOD": "07080418T",
                                    "MEGNEVEZES": "Zselés toll "
                                },
                                {
                                    "TERMEKKOD": "07080419T",
                                    "MEGNEVEZES": "Zselés toll MICRO"
                                },
                                {
                                    "TERMEKKOD": "07080420T",
                                    "MEGNEVEZES": "Zselés toll Muhnwa"
                                },
                                {
                                    "TERMEKKOD": "07080467T",
                                    "MEGNEVEZES": "Golyóstoll kétfunkciós ICO"
                                },
                                {
                                    "TERMEKKOD": "07080468T",
                                    "MEGNEVEZES": "Golyóstoll háromfunkciós"
                                },
                                {
                                    "TERMEKKOD": "07080469T",
                                    "MEGNEVEZES": "Golyóstoll UNIBALL 07"
                                },
                                {
                                    "TERMEKKOD": "07080470T",
                                    "MEGNEVEZES": "Golyóstoll háromszög"
                                },
                                {
                                    "TERMEKKOD": "07080471T",
                                    "MEGNEVEZES": "Golyóstoll levélbontós"
                                },
                                {
                                    "TERMEKKOD": "08070475T",
                                    "MEGNEVEZES": "A föld amelyen élünk - munkafüzet"
                                },
                                {
                                    "TERMEKKOD": "08070476T",
                                    "MEGNEVEZES": "Anyanyelvi gyakorló 2"
                                },
                                {
                                    "TERMEKKOD": "08070480T",
                                    "MEGNEVEZES": "Fizika 13 éveseknek"
                                },
                                {
                                    "TERMEKKOD": "08070488T",
                                    "MEGNEVEZES": "Matematika gyakorló 4"
                                },
                                {
                                    "TERMEKKOD": "08070489T",
                                    "MEGNEVEZES": "RAMba zárt világ"
                                }
                            ]
                        },
                        "text/html": [
                            "<table>",
                            "<tr><th>TERMEKKOD</th><th>MEGNEVEZES</th></tr>",
                            "<tr><td>01010001T</td><td>félfamentes rajzlap A4 (10 lap)</td></tr>",
                            "<tr><td>01020299T</td><td>Oklevél A/4 egyszínű</td></tr>",
                            "<tr><td>01090498T</td><td>Műnyomó 300g 17,5*20</td></tr>",
                            "<tr><td>01100071T</td><td>Dekorációs karton arany, ezüst</td></tr>",
                            "<tr><td>02020444T</td><td>Határidő napló A/6</td></tr>",
                            "<tr><td>02030041T</td><td>Boríték LC 5</td></tr>",
                            "<tr><td>02030042T</td><td>Boríték LC 6</td></tr>",
                            "<tr><td>02030043T</td><td>Boríték légp. kicsi</td></tr>",
                            "<tr><td>02030044T</td><td>Boríték mintás</td></tr>",
                            "<tr><td>02040002T</td><td>irodai tűzőgép</td></tr>",
                            "<tr><td>02040146T</td><td>Gemkapocs ICO</td></tr>",
                            "<tr><td>02040149T</td><td>Genotherm A4 10db-os</td></tr>",
                            "<tr><td>02040210T</td><td>Iratsín kék</td></tr>",
                            "<tr><td>02040292T</td><td>Naptárhát nagy</td></tr>",
                            "<tr><td>02040293T</td><td>Névjegytartó kicsi</td></tr>",
                            "<tr><td>02040295T</td><td>Notesz A/5 sima spirál</td></tr>",
                            "<tr><td>02040296T</td><td>Notesz A/6 College</td></tr>",
                            "<tr><td>02040297T</td><td>Notesz sima spirál College</td></tr>",
                            "<tr><td>02040406T</td><td>Tűzőkapocs 24/6</td></tr>",
                            "<tr><td>02080435T</td><td>Mappa bemutató</td></tr>",
                            "<tr><td>03050079T</td><td>Díszkötöző szalag vékony</td></tr>",
                            "<tr><td>03050080T</td><td>Diszkötöző széles szalag</td></tr>",
                            "<tr><td>03050457T</td><td>Ajándék cs. tasak kicsi</td></tr>",
                            "<tr><td>03050458T</td><td>Ajándék cs. 2×100×70</td></tr>",
                            "<tr><td>03050459T</td><td>Talpas tasak</td></tr>",
                            "<tr><td>03080005T</td><td>Ajándék cs. tasak virágos nagy</td></tr>",
                            "<tr><td>03080007T</td><td>Ajándék cs. tasak mintás nagy</td></tr>",
                            "<tr><td>03080008T</td><td>Ajándék cs. tasak kicsi</td></tr>",
                            "<tr><td>03080010T</td><td>Ajándék csom. 150x70</td></tr>",
                            "<tr><td>03080011T</td><td>Ajándék cs. tasak közepes</td></tr>",
                            "<tr><td>03080018T</td><td>Ajándék csom. gyűrt 50x70 </td></tr>",
                            "<tr><td>03080031T</td><td>Ajándék cs. húsvéti</td></tr>",
                            "<tr><td>03080437T</td><td>Ajándék csomagoló tasak</td></tr>",
                            "<tr><td>03080438T</td><td>Ajándék csomagoló tasak lézeres</td></tr>",
                            "<tr><td>04030234T</td><td>Képeslap karácsonyi</td></tr>",
                            "<tr><td>04030236T</td><td>Képeslap karácsonyi WD</td></tr>",
                            "<tr><td>04030240T</td><td>Képeslap virágos</td></tr>",
                            "<tr><td>04030241T</td><td>Képeslap virágos +boríték</td></tr>",
                            "<tr><td>04030242T</td><td>Képeslap WD +boríték</td></tr>",
                            "<tr><td>04030260T</td><td>Levélpapír A/4</td></tr>",
                            "<tr><td>04030287T</td><td>Műanyag foszforeszkáló állat</td></tr>",
                            "<tr><td>04030289T</td><td>Műanyag pohár 5 cl-es</td></tr>",
                            "<tr><td>04040090T</td><td>Emlékkönyv</td></tr>",
                            "<tr><td>04050225T</td><td>Kártya mini Magyar</td></tr>",
                            "<tr><td>04050250T</td><td>Kulcstartó autós</td></tr>",
                            "<tr><td>04050251T</td><td>Kulcstartó billiárd golyós</td></tr>",
                            "<tr><td>04050255T</td><td>Kulcstartó mesefigurás</td></tr>",
                            "<tr><td>04050256T</td><td>Kulcstartó nagyítós</td></tr>",
                            "<tr><td>04050267T</td><td>Logikai készlet</td></tr>",
                            "<tr><td>04050268T</td><td>Lufi formázható</td></tr>",
                            "<tr><td>04050321T</td><td>Plüss kicsi</td></tr>",
                            "<tr><td>04080442T</td><td>Emlékkönyv</td></tr>",
                            "<tr><td>04110273T</td><td>Matrica állatos</td></tr>",
                            "<tr><td>05010027T</td><td>Alufólia 20 m-es</td></tr>",
                            "<tr><td>05010306T</td><td>Papízsebkendő,10db Szindy</td></tr>",
                            "<tr><td>05050465T</td><td>Tapétavágó kés</td></tr>",
                            "<tr><td>06010086T</td><td>Ecset Nebulo 4-es</td></tr>",
                            "<tr><td>06010113T</td><td>Füzet 31-32 szótár</td></tr>",
                            "<tr><td>06010343T</td><td>Ragasztószalag 19 mm-es SCOTCH+ tépő</td></tr>",
                            "<tr><td>06010373T</td><td>Színes papír I.II-IV.V-VIII-ig</td></tr>",
                            "<tr><td>06010374T</td><td>Szorzótábla műanyag</td></tr>",
                            "<tr><td>06040087T</td><td>Ecset Nebuló 10-es</td></tr>",
                            "<tr><td>06040088T</td><td>Egészségügyi könyv</td></tr>",
                            "<tr><td>06040172T</td><td>Gumis mappa csomagolt</td></tr>",
                            "<tr><td>06040173T</td><td>Gumis mappa fóliázott állatos</td></tr>",
                            "<tr><td>06040174T</td><td>Gumis mappa </td></tr>",
                            "<tr><td>06040181T</td><td>Gyűjtőlap A/4</td></tr>",
                            "<tr><td>06040182T</td><td>Gyűrűskönyv bet. A/4</td></tr>",
                            "<tr><td>06040185T</td><td>Gyűrűskönyv</td></tr>",
                            "<tr><td>06040247T</td><td>Körzőhegy grafit</td></tr>",
                            "<tr><td>06040325T</td><td>Radír gyümölcsös</td></tr>",
                            "<tr><td>06040327T</td><td>Radír Koh-i-nor 40</td></tr>",
                            "<tr><td>06040328T</td><td>Radír Maped</td></tr>",
                            "<tr><td>06040329T</td><td>Radír stabilo</td></tr>",
                            "<tr><td>06040357T</td><td>Sp.Füzet A/5 70-es</td></tr>",
                            "<tr><td>06040396T</td><td>Tolltartó Garfield</td></tr>",
                            "<tr><td>06080123T</td><td>Füzettartó A/4 keménytáblás</td></tr>",
                            "<tr><td>06080334T</td><td>Ragasztó szalag KORES </td></tr>",
                            "<tr><td>06080336T</td><td>Ragasztó 8 g Pritt</td></tr>",
                            "<tr><td>06080338T</td><td>Ragasztó kenőfejes Nebuló</td></tr>",
                            "<tr><td>06080414T</td><td>Vonalzó 20 cm-es </td></tr>",
                            "<tr><td>06080440T</td><td>Gyurma 12 szinű</td></tr>",
                            "<tr><td>07010136T</td><td>G.toll betét PAX</td></tr>",
                            "<tr><td>07010138T</td><td>G.toll betét jumbo</td></tr>",
                            "<tr><td>07010371T</td><td>Színes ceruza 6-os</td></tr>",
                            "<tr><td>07010372T</td><td>Színes ceruza 12 szín</td></tr>",
                            "<tr><td>07040048T</td><td>Ceruza arany, ezüst</td></tr>",
                            "<tr><td>07040131T</td><td>G. toll betét UNI lachnok Fine SA-7C</td></tr>",
                            "<tr><td>07040134T</td><td>G.toll betét illatos</td></tr>",
                            "<tr><td>07040135T</td><td>G.toll betét Parker </td></tr>",
                            "<tr><td>07080158T</td><td>Golyóstoll Parker tokban</td></tr>",
                            "<tr><td>07080163T</td><td>Golyóstoll UNI átlátszó</td></tr>",
                            "<tr><td>07080164T</td><td>Golyóstoll UNI gumis</td></tr>",
                            "<tr><td>07080311T</td><td>Pixiron  UNI</td></tr>",
                            "<tr><td>07080312T</td><td>Pixiron 0,7 Handy</td></tr>",
                            "<tr><td>07080313T</td><td>Pixiron Centrum</td></tr>",
                            "<tr><td>07080314T</td><td>Pixiron Handy fém</td></tr>",
                            "<tr><td>07080315T</td><td>Pixiron Handy műanyag</td></tr>",
                            "<tr><td>07080317T</td><td>Pixiron mini </td></tr>",
                            "<tr><td>07080318T</td><td>Pixiron Penac</td></tr>",
                            "<tr><td>07080319T</td><td>Pixiron Pentel színes</td></tr>",
                            "<tr><td>07080418T</td><td>Zselés toll </td></tr>",
                            "<tr><td>07080419T</td><td>Zselés toll MICRO</td></tr>",
                            "<tr><td>07080420T</td><td>Zselés toll Muhnwa</td></tr>",
                            "<tr><td>07080467T</td><td>Golyóstoll kétfunkciós ICO</td></tr>",
                            "<tr><td>07080468T</td><td>Golyóstoll háromfunkciós</td></tr>",
                            "<tr><td>07080469T</td><td>Golyóstoll UNIBALL 07</td></tr>",
                            "<tr><td>07080470T</td><td>Golyóstoll háromszög</td></tr>",
                            "<tr><td>07080471T</td><td>Golyóstoll levélbontós</td></tr>",
                            "<tr><td>08070475T</td><td>A föld amelyen élünk - munkafüzet</td></tr>",
                            "<tr><td>08070476T</td><td>Anyanyelvi gyakorló 2</td></tr>",
                            "<tr><td>08070480T</td><td>Fizika 13 éveseknek</td></tr>",
                            "<tr><td>08070488T</td><td>Matematika gyakorló 4</td></tr>",
                            "<tr><td>08070489T</td><td>RAMba zárt világ</td></tr>",
                            "</table>"
                        ]
                    }
                }
            ],
            "execution_count": 10
        },
        {
            "cell_type": "markdown",
            "source": [
                "7. <span style=\"background-color: rgb(255, 255, 255); color: rgb(0, 0, 0); font-family: &quot;Open Sans&quot;, sans-serif; font-size: 14.44px;\">Listázzuk azon ügyfeleket, akik még nem fizettek bankkártyával!&nbsp;</span> \n",
                "\n",
                "a. Csak az ügyfelek neve jelenjen meg!"
            ],
            "metadata": {
                "azdata_cell_guid": "7ebf7ddd-1bd2-4246-815a-be8ae37e3b5b"
            },
            "attachments": {}
        },
        {
            "cell_type": "code",
            "source": [
                "SELECT  NEV\r\n",
                "FROM Ugyfel\r\n",
                "WHERE [LOGIN] NOT IN(\r\n",
                "    SELECT [LOGIN]\r\n",
                "    FROM Rendeles\r\n",
                "    WHERE FIZ_MOD = 'bankkártya'\r\n",
                ")"
            ],
            "metadata": {
                "azdata_cell_guid": "84b7e896-f36e-4985-88f5-e0f706494fef",
                "language": "sql"
            },
            "outputs": [
                {
                    "output_type": "display_data",
                    "data": {
                        "text/html": "(9 rows affected)"
                    },
                    "metadata": {}
                },
                {
                    "output_type": "display_data",
                    "data": {
                        "text/html": "Total execution time: 00:00:00.056"
                    },
                    "metadata": {}
                },
                {
                    "output_type": "execute_result",
                    "metadata": {},
                    "execution_count": 12,
                    "data": {
                        "application/vnd.dataresource+json": {
                            "schema": {
                                "fields": [
                                    {
                                        "name": "NEV"
                                    }
                                ]
                            },
                            "data": [
                                {
                                    "NEV": "Biró Alexander"
                                },
                                {
                                    "NEV": "Csóti Attila"
                                },
                                {
                                    "NEV": "Bagi Beáta"
                                },
                                {
                                    "NEV": "Mór Ottó"
                                },
                                {
                                    "NEV": "Molnár Eszter"
                                },
                                {
                                    "NEV": "Kiss Anita"
                                },
                                {
                                    "NEV": "Kispál Márk"
                                },
                                {
                                    "NEV": "Nagy Péter"
                                },
                                {
                                    "NEV": "Szűcs Norbert"
                                }
                            ]
                        },
                        "text/html": [
                            "<table>",
                            "<tr><th>NEV</th></tr>",
                            "<tr><td>Biró Alexander</td></tr>",
                            "<tr><td>Csóti Attila</td></tr>",
                            "<tr><td>Bagi Beáta</td></tr>",
                            "<tr><td>Mór Ottó</td></tr>",
                            "<tr><td>Molnár Eszter</td></tr>",
                            "<tr><td>Kiss Anita</td></tr>",
                            "<tr><td>Kispál Márk</td></tr>",
                            "<tr><td>Nagy Péter</td></tr>",
                            "<tr><td>Szűcs Norbert</td></tr>",
                            "</table>"
                        ]
                    }
                }
            ],
            "execution_count": 12
        },
        {
            "cell_type": "markdown",
            "source": [
                "8. <span style=\"background-color: rgb(255, 255, 255); color: rgb(0, 0, 0); font-family: &quot;Open Sans&quot;, sans-serif; font-size: 14.44px;\">Mennyibe kerül a második legnagyobb listaárú termék?</span>"
            ],
            "metadata": {
                "azdata_cell_guid": "27a3d3dc-eafb-4a5e-b103-9f465b9eda8f"
            },
            "attachments": {}
        },
        {
            "cell_type": "code",
            "source": [
                ""
            ],
            "metadata": {
                "azdata_cell_guid": "f09edb3f-649b-4a96-958e-9e12774ae8b7",
                "language": "sql"
            },
            "outputs": [],
            "execution_count": null
        },
        {
            "cell_type": "markdown",
            "source": [
                "9. <span style=\"background-color: rgb(255, 255, 255); color: rgb(0, 0, 0); font-family: &quot;Open Sans&quot;, sans-serif; font-size: 14.44px;\">Melyik raktár(ak)ban van az a termék, amelyből a legnagyobb készlet van?&nbsp;</span> \n",
                "\n",
                "a. Csak a raktár(ak) neve jelenjen meg!"
            ],
            "metadata": {
                "azdata_cell_guid": "f12a331a-0e26-4d3d-9c68-812316286577"
            },
            "attachments": {}
        },
        {
            "cell_type": "code",
            "source": [
                ""
            ],
            "metadata": {
                "azdata_cell_guid": "10a77fc9-e61a-46fc-a401-59720d82bc50",
                "language": "sql"
            },
            "outputs": [],
            "execution_count": null
        },
        {
            "cell_type": "markdown",
            "source": [
                "10. <span style=\"background-color: rgb(255, 255, 255); color: rgb(0, 0, 0); font-family: &quot;Open Sans&quot;, sans-serif; font-size: 14.44px;\">Melyek azok a termékek, amelyek listaára nagyobb, mint bármelyik olyan terméké, amelynek nevében az Ajándék szó szerepel?&nbsp;</span> \n",
                "\n",
                "a. A termékek kódját és nevét is jelenítsük meg!"
            ],
            "metadata": {
                "azdata_cell_guid": "9229e2b6-e200-4499-b95b-2d0222149831"
            },
            "attachments": {}
        },
        {
            "cell_type": "code",
            "source": [
                ""
            ],
            "metadata": {
                "azdata_cell_guid": "8b49ed67-28c6-4880-82a8-cd369e5bba99",
                "language": "sql"
            },
            "outputs": [],
            "execution_count": null
        },
        {
            "cell_type": "markdown",
            "source": [
                "11. <span style=\"background-color: rgb(255, 255, 255); color: rgb(0, 0, 0); font-family: &quot;Open Sans&quot;, sans-serif; font-size: 14.44px;\">Melyik hónapokban adtak le az ügyfelek több rendelést, mint januárban?&nbsp;</span> \n",
                "\n",
                "a. Elég a hónapok sorszámait megjeleníteni. \n",
                "\n",
                "b. A listát rendezzük a hónapok száma szerint növekvő sorrendbe!"
            ],
            "metadata": {
                "azdata_cell_guid": "7f5fc7a7-3b6a-4d89-b292-490830afb0c6"
            },
            "attachments": {}
        },
        {
            "cell_type": "code",
            "source": [
                ""
            ],
            "metadata": {
                "azdata_cell_guid": "4a9ece40-f782-4c0d-92cd-9c21969067ed",
                "language": "sql"
            },
            "outputs": [],
            "execution_count": null
        },
        {
            "cell_type": "markdown",
            "source": [
                "12. <span style=\"background-color: rgb(255, 255, 255); color: rgb(0, 0, 0); font-family: &quot;Open Sans&quot;, sans-serif; font-size: 14.44px;\">Melyek azok a termékek, amelyek listaára az átlagostól max. 20%-kal tér el?&nbsp;</span> \n",
                "\n",
                "a. A termék kódját és nevét is jelenítsük meg!"
            ],
            "metadata": {
                "azdata_cell_guid": "5a483c52-bb98-44bb-bd03-1146d4b0abfa"
            },
            "attachments": {}
        },
        {
            "cell_type": "code",
            "source": [
                ""
            ],
            "metadata": {
                "azdata_cell_guid": "dd6e89bd-08f9-4b18-8460-03c45b503df0",
                "language": "sql"
            },
            "outputs": [],
            "execution_count": null
        },
        {
            "cell_type": "markdown",
            "source": [
                "13. <span style=\"background-color: rgb(255, 255, 255); color: rgb(0, 0, 0); font-family: &quot;Open Sans&quot;, sans-serif; font-size: 14.44px;\">Készítsünk listát (sorszámonként) az egyes rendelések teljes összegéről!&nbsp;</span> \n",
                "\n",
                "a. Szűrjünk azon tételekre, ahol ez az érték nagyobb, mint Viktor Éva rendeléseinek teljes összege! \n",
                "\n",
                "b. A teljes összeg oszlopot nevezzük el értelemszerűen!"
            ],
            "metadata": {
                "azdata_cell_guid": "85d5cb66-96c6-42de-99cf-85ab22d08548"
            },
            "attachments": {}
        },
        {
            "cell_type": "code",
            "source": [
                ""
            ],
            "metadata": {
                "azdata_cell_guid": "cb07d64b-0eaa-498b-b4d2-0b46971e95ce",
                "language": "sql"
            },
            "outputs": [],
            "execution_count": null
        },
        {
            "cell_type": "markdown",
            "source": [
                "14. <span style=\"background-color: rgb(255, 255, 255); color: rgb(0, 0, 0); font-family: &quot;Open Sans&quot;, sans-serif; font-size: 14.44px;\">Listázzuk azokat a termékkategóriákat, amelyből 2017 januárban nem történt rendelés!&nbsp;</span> \n",
                "\n",
                "a. Elég a kategóriák nevét megjeleníteni!"
            ],
            "metadata": {
                "azdata_cell_guid": "f95ad665-a807-4099-bf06-64ed974f866f"
            },
            "attachments": {}
        },
        {
            "cell_type": "code",
            "source": [
                ""
            ],
            "metadata": {
                "azdata_cell_guid": "74c7ec8a-ae4a-4d03-b1c4-e8f6bb1be12c",
                "language": "sql"
            },
            "outputs": [],
            "execution_count": null
        },
        {
            "cell_type": "markdown",
            "source": [
                "15. <span style=\"background-color: rgb(255, 255, 255); color: rgb(0, 0, 0); font-family: &quot;Open Sans&quot;, sans-serif; font-size: 14.44px;\">Listázzuk azon rendelési tételeket, amelynek értéke nagyobb, mint a legdrágább termék listaára azon termékek közül, amelyek szülő kategóriája a ruha!</span>"
            ],
            "metadata": {
                "azdata_cell_guid": "93552388-ffec-49ff-99e5-ae8dc8072601"
            },
            "attachments": {}
        },
        {
            "cell_type": "code",
            "source": [
                ""
            ],
            "metadata": {
                "azdata_cell_guid": "0e7f547f-7d96-4611-b1c2-0fa84a581e79",
                "language": "sql"
            },
            "outputs": [],
            "execution_count": null
        }
    ]
}